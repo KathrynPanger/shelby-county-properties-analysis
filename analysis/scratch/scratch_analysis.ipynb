{
 "cells": [
  {
   "cell_type": "code",
   "execution_count": 1,
   "id": "initial_id",
   "metadata": {
    "collapsed": true,
    "ExecuteTime": {
     "end_time": "2024-04-03T00:02:05.892581Z",
     "start_time": "2024-04-03T00:02:03.458856Z"
    }
   },
   "outputs": [
    {
     "name": "stdout",
     "output_type": "stream",
     "text": [
      "Intel MKL WARNING: Support of Intel(R) Streaming SIMD Extensions 4.2 (Intel(R) SSE4.2) enabled only processors has been deprecated. Intel oneAPI Math Kernel Library 2025.0 will require Intel(R) Advanced Vector Extensions (Intel(R) AVX) instructions.\n",
      "Intel MKL WARNING: Support of Intel(R) Streaming SIMD Extensions 4.2 (Intel(R) SSE4.2) enabled only processors has been deprecated. Intel oneAPI Math Kernel Library 2025.0 will require Intel(R) Advanced Vector Extensions (Intel(R) AVX) instructions.\n"
     ]
    }
   ],
   "source": [
    "import pandas as pd"
   ]
  },
  {
   "cell_type": "code",
   "execution_count": 8,
   "outputs": [],
   "source": [
    "data_path = \"../../data/processed/\"\n",
    "s1_2019_path = \"s1_2019.csv\"\n",
    "s1_2020_path = \"s1_2020.csv\"\n",
    "s1_2021_path = \"s1_2021\"\n",
    "s1_2022_path = \"s1_2022\""
   ],
   "metadata": {
    "collapsed": false,
    "ExecuteTime": {
     "end_time": "2024-04-03T00:09:40.562168Z",
     "start_time": "2024-04-03T00:09:40.557378Z"
    }
   },
   "id": "7d4aae98fbaa23fe"
  },
  {
   "cell_type": "code",
   "execution_count": 9,
   "outputs": [],
   "source": [
    "df_2019 = pd.read_csv(data_path + s1_2019_path)\n",
    "df_2020 = pd.read_csv(data_path + s1_2019_path)"
   ],
   "metadata": {
    "collapsed": false,
    "ExecuteTime": {
     "end_time": "2024-04-03T00:09:40.926227Z",
     "start_time": "2024-04-03T00:09:40.917346Z"
    }
   },
   "id": "a3022b07c1ef71bd"
  },
  {
   "cell_type": "code",
   "execution_count": 10,
   "outputs": [
    {
     "data": {
      "text/plain": "    Unnamed: 0      board_id                                   board  \\\n0            0  5b1f4c0c65a3             downtown memphis commission   \n1            1  d5fe3a85ec4e                             edge shelby   \n2            2  abb34861ca91     industrial development of arlington   \n3            3  aada4183f85c      industrial development of bartlett   \n4            4  91e543f3085f  industrial development of collierville   \n5            5  3f1cf0abc31c    industrial development of germantown   \n6            6  757a7152194c    industrial development of millington   \n7            7  3bcfcbd3a12d          health education board memphis   \n8            8  64c9e33b120e           health education board shelby   \n9            9  df3a7c5fc143                 miscellaneous contracts   \n10          10  ac18571846b6        city county government contracts   \n\n    number_of_contracts  amount_billed_pilot_inl  amount_billed_debt_service  \\\n0                   123               1981904.47                  1226006.18   \n1                   243               2856659.78                  6149156.86   \n2                    15                 52116.90                   114566.56   \n3                    11                 15257.82                   146630.61   \n4                    14                774048.02                   661885.66   \n5                     4                237740.75                    96081.97   \n6                     1                 10280.12                    79383.24   \n7                    73                930606.59                        0.00   \n8                     8                133533.27                        0.00   \n9                    10                 35460.00                        0.00   \n10                    5                  5706.00                        0.00   \n\n     assessment  tax_based_on_assessment_at_2021_tax_rate   difference  \\\n0   349460540.0                               14153151.87 -10945241.22   \n1   673220031.0                               27265411.26 -18259594.62   \n2    11977950.0                                 485106.98   -318423.52   \n3    14962783.0                                 605992.71   -444104.28   \n4    70132723.0                                2840375.28  -1404441.60   \n5    15357250.0                                 621968.63   -288145.91   \n6     7840320.0                                 317532.96   -227869.60   \n7   128138985.0                                5189628.89  -4259022.30   \n8    27687400.0                                1121339.70   -987806.43   \n9     9033520.0                                 365857.56   -330397.56   \n10    3141560.0                                 127233.18   -121527.18   \n\n    percentage_total_pilot_billing  \n0                            20.69  \n1                            58.08  \n2                             1.07  \n3                             1.04  \n4                             9.26  \n5                             2.15  \n6                             0.58  \n7                             6.00  \n8                             0.86  \n9                             0.23  \n10                            0.04  ",
      "text/html": "<div>\n<style scoped>\n    .dataframe tbody tr th:only-of-type {\n        vertical-align: middle;\n    }\n\n    .dataframe tbody tr th {\n        vertical-align: top;\n    }\n\n    .dataframe thead th {\n        text-align: right;\n    }\n</style>\n<table border=\"1\" class=\"dataframe\">\n  <thead>\n    <tr style=\"text-align: right;\">\n      <th></th>\n      <th>Unnamed: 0</th>\n      <th>board_id</th>\n      <th>board</th>\n      <th>number_of_contracts</th>\n      <th>amount_billed_pilot_inl</th>\n      <th>amount_billed_debt_service</th>\n      <th>assessment</th>\n      <th>tax_based_on_assessment_at_2021_tax_rate</th>\n      <th>difference</th>\n      <th>percentage_total_pilot_billing</th>\n    </tr>\n  </thead>\n  <tbody>\n    <tr>\n      <th>0</th>\n      <td>0</td>\n      <td>5b1f4c0c65a3</td>\n      <td>downtown memphis commission</td>\n      <td>123</td>\n      <td>1981904.47</td>\n      <td>1226006.18</td>\n      <td>349460540.0</td>\n      <td>14153151.87</td>\n      <td>-10945241.22</td>\n      <td>20.69</td>\n    </tr>\n    <tr>\n      <th>1</th>\n      <td>1</td>\n      <td>d5fe3a85ec4e</td>\n      <td>edge shelby</td>\n      <td>243</td>\n      <td>2856659.78</td>\n      <td>6149156.86</td>\n      <td>673220031.0</td>\n      <td>27265411.26</td>\n      <td>-18259594.62</td>\n      <td>58.08</td>\n    </tr>\n    <tr>\n      <th>2</th>\n      <td>2</td>\n      <td>abb34861ca91</td>\n      <td>industrial development of arlington</td>\n      <td>15</td>\n      <td>52116.90</td>\n      <td>114566.56</td>\n      <td>11977950.0</td>\n      <td>485106.98</td>\n      <td>-318423.52</td>\n      <td>1.07</td>\n    </tr>\n    <tr>\n      <th>3</th>\n      <td>3</td>\n      <td>aada4183f85c</td>\n      <td>industrial development of bartlett</td>\n      <td>11</td>\n      <td>15257.82</td>\n      <td>146630.61</td>\n      <td>14962783.0</td>\n      <td>605992.71</td>\n      <td>-444104.28</td>\n      <td>1.04</td>\n    </tr>\n    <tr>\n      <th>4</th>\n      <td>4</td>\n      <td>91e543f3085f</td>\n      <td>industrial development of collierville</td>\n      <td>14</td>\n      <td>774048.02</td>\n      <td>661885.66</td>\n      <td>70132723.0</td>\n      <td>2840375.28</td>\n      <td>-1404441.60</td>\n      <td>9.26</td>\n    </tr>\n    <tr>\n      <th>5</th>\n      <td>5</td>\n      <td>3f1cf0abc31c</td>\n      <td>industrial development of germantown</td>\n      <td>4</td>\n      <td>237740.75</td>\n      <td>96081.97</td>\n      <td>15357250.0</td>\n      <td>621968.63</td>\n      <td>-288145.91</td>\n      <td>2.15</td>\n    </tr>\n    <tr>\n      <th>6</th>\n      <td>6</td>\n      <td>757a7152194c</td>\n      <td>industrial development of millington</td>\n      <td>1</td>\n      <td>10280.12</td>\n      <td>79383.24</td>\n      <td>7840320.0</td>\n      <td>317532.96</td>\n      <td>-227869.60</td>\n      <td>0.58</td>\n    </tr>\n    <tr>\n      <th>7</th>\n      <td>7</td>\n      <td>3bcfcbd3a12d</td>\n      <td>health education board memphis</td>\n      <td>73</td>\n      <td>930606.59</td>\n      <td>0.00</td>\n      <td>128138985.0</td>\n      <td>5189628.89</td>\n      <td>-4259022.30</td>\n      <td>6.00</td>\n    </tr>\n    <tr>\n      <th>8</th>\n      <td>8</td>\n      <td>64c9e33b120e</td>\n      <td>health education board shelby</td>\n      <td>8</td>\n      <td>133533.27</td>\n      <td>0.00</td>\n      <td>27687400.0</td>\n      <td>1121339.70</td>\n      <td>-987806.43</td>\n      <td>0.86</td>\n    </tr>\n    <tr>\n      <th>9</th>\n      <td>9</td>\n      <td>df3a7c5fc143</td>\n      <td>miscellaneous contracts</td>\n      <td>10</td>\n      <td>35460.00</td>\n      <td>0.00</td>\n      <td>9033520.0</td>\n      <td>365857.56</td>\n      <td>-330397.56</td>\n      <td>0.23</td>\n    </tr>\n    <tr>\n      <th>10</th>\n      <td>10</td>\n      <td>ac18571846b6</td>\n      <td>city county government contracts</td>\n      <td>5</td>\n      <td>5706.00</td>\n      <td>0.00</td>\n      <td>3141560.0</td>\n      <td>127233.18</td>\n      <td>-121527.18</td>\n      <td>0.04</td>\n    </tr>\n  </tbody>\n</table>\n</div>"
     },
     "execution_count": 10,
     "metadata": {},
     "output_type": "execute_result"
    }
   ],
   "source": [
    "df_2019"
   ],
   "metadata": {
    "collapsed": false,
    "ExecuteTime": {
     "end_time": "2024-04-03T00:09:43.349249Z",
     "start_time": "2024-04-03T00:09:43.334097Z"
    }
   },
   "id": "f6b5b0671d33b17d"
  },
  {
   "cell_type": "code",
   "execution_count": null,
   "outputs": [],
   "source": [],
   "metadata": {
    "collapsed": false
   },
   "id": "20c7090d1803d74e"
  }
 ],
 "metadata": {
  "kernelspec": {
   "display_name": "Python 3",
   "language": "python",
   "name": "python3"
  },
  "language_info": {
   "codemirror_mode": {
    "name": "ipython",
    "version": 2
   },
   "file_extension": ".py",
   "mimetype": "text/x-python",
   "name": "python",
   "nbconvert_exporter": "python",
   "pygments_lexer": "ipython2",
   "version": "2.7.6"
  }
 },
 "nbformat": 4,
 "nbformat_minor": 5
}
