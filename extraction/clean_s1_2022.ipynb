{
 "cells": [
  {
   "cell_type": "code",
   "execution_count": 1,
   "outputs": [
    {
     "name": "stdout",
     "output_type": "stream",
     "text": [
      "Intel MKL WARNING: Support of Intel(R) Streaming SIMD Extensions 4.2 (Intel(R) SSE4.2) enabled only processors has been deprecated. Intel oneAPI Math Kernel Library 2025.0 will require Intel(R) Advanced Vector Extensions (Intel(R) AVX) instructions.\n",
      "Intel MKL WARNING: Support of Intel(R) Streaming SIMD Extensions 4.2 (Intel(R) SSE4.2) enabled only processors has been deprecated. Intel oneAPI Math Kernel Library 2025.0 will require Intel(R) Advanced Vector Extensions (Intel(R) AVX) instructions.\n"
     ]
    }
   ],
   "source": [
    "import pandas as pd\n",
    "from utils import *"
   ],
   "metadata": {
    "collapsed": false,
    "ExecuteTime": {
     "end_time": "2024-04-01T00:55:47.929835Z",
     "start_time": "2024-04-01T00:55:46.990556Z"
    }
   },
   "id": "f890863474a831e4"
  },
  {
   "cell_type": "markdown",
   "source": [
    "<h1>Cleaning a CSV</h1>"
   ],
   "metadata": {
    "collapsed": false
   },
   "id": "37c2459a70173916"
  },
  {
   "cell_type": "markdown",
   "source": [
    "Read in a CSV"
   ],
   "metadata": {
    "collapsed": false
   },
   "id": "70312fa54485148"
  },
  {
   "cell_type": "code",
   "execution_count": 2,
   "outputs": [
    {
     "data": {
      "text/plain": "                                     Board  Number of Contracts  \\\n0              Downtown Memphis Commission                  124   \n1                            EDGE - Shelby                  241   \n2      Industrial Development of Arlington                   10   \n3       Industrial Development of Bartlett                    6   \n4   Industrial Development of Collierville                   12   \n5     Industrial Development of Germantown                    4   \n6     Industrial Development of Millington                    1   \n7       Health & Education Board - Memphis                  107   \n8        Health & Education Board - Shelby                    6   \n9                  Miscellaneous Contracts                   10   \n10      City / County Government Contracts                    5   \n\n   Amount Billed Pilot (INL) Amount Billed Debt Service    Assessment  \\\n0              $2,265,277.82              $1,378,186.61  $403,472,360   \n1              $4,357,705.55              $5,922,590.25  $845,013,990   \n2                $116,203.75                 $49,372.12    $8,906,110   \n3                 $21,998.39                 $47,646.73    $7,340,910   \n4                $690,322.00                $914,883.78  $103,923,710   \n5                $310,191.18                $211,034.77   $34,051,040   \n6                 $50,530.09                 $80,385.75   $10,751,680   \n7              $1,627,887.89                      $0.00  $245,059,120   \n8                 $88,595.41                      $0.00   $30,543,560   \n9                 $35,460.00                      $0.00   $10,528,400   \n10                 $5,868.72                      $0.00    $3,371,400   \n\n   Tax Based on Assessment at 2021 Tax Rate      Difference  \\\n0                            $13,677,713.00  -10,034,248.57   \n1                            $28,645,974.26  -18,365,678.46   \n2                               $301,917.13     -136,341.26   \n3                               $248,856.85     -179,211.73   \n4                             $3,523,013.77   -1,917,807.99   \n5                             $1,154,330.26     -633,104.31   \n6                               $364,481.95     -233,566.11   \n7                             $8,307,504.17   -6,679,616.28   \n8                             $1,035,426.68     -946,831.27   \n9                               $356,912.76     -321,452.76   \n10                              $114,290.46     -108,421.74   \n\n   Percentage Total PILOT Billing  \n0                          20.05%  \n1                          56.57%  \n2                           0.91%  \n3                           0.38%  \n4                           8.83%  \n5                           2.87%  \n6                           0.72%  \n7                           8.96%  \n8                           0.49%  \n9                           0.20%  \n10                          0.03%  ",
      "text/html": "<div>\n<style scoped>\n    .dataframe tbody tr th:only-of-type {\n        vertical-align: middle;\n    }\n\n    .dataframe tbody tr th {\n        vertical-align: top;\n    }\n\n    .dataframe thead th {\n        text-align: right;\n    }\n</style>\n<table border=\"1\" class=\"dataframe\">\n  <thead>\n    <tr style=\"text-align: right;\">\n      <th></th>\n      <th>Board</th>\n      <th>Number of Contracts</th>\n      <th>Amount Billed Pilot (INL)</th>\n      <th>Amount Billed Debt Service</th>\n      <th>Assessment</th>\n      <th>Tax Based on Assessment at 2021 Tax Rate</th>\n      <th>Difference</th>\n      <th>Percentage Total PILOT Billing</th>\n    </tr>\n  </thead>\n  <tbody>\n    <tr>\n      <th>0</th>\n      <td>Downtown Memphis Commission</td>\n      <td>124</td>\n      <td>$2,265,277.82</td>\n      <td>$1,378,186.61</td>\n      <td>$403,472,360</td>\n      <td>$13,677,713.00</td>\n      <td>-10,034,248.57</td>\n      <td>20.05%</td>\n    </tr>\n    <tr>\n      <th>1</th>\n      <td>EDGE - Shelby</td>\n      <td>241</td>\n      <td>$4,357,705.55</td>\n      <td>$5,922,590.25</td>\n      <td>$845,013,990</td>\n      <td>$28,645,974.26</td>\n      <td>-18,365,678.46</td>\n      <td>56.57%</td>\n    </tr>\n    <tr>\n      <th>2</th>\n      <td>Industrial Development of Arlington</td>\n      <td>10</td>\n      <td>$116,203.75</td>\n      <td>$49,372.12</td>\n      <td>$8,906,110</td>\n      <td>$301,917.13</td>\n      <td>-136,341.26</td>\n      <td>0.91%</td>\n    </tr>\n    <tr>\n      <th>3</th>\n      <td>Industrial Development of Bartlett</td>\n      <td>6</td>\n      <td>$21,998.39</td>\n      <td>$47,646.73</td>\n      <td>$7,340,910</td>\n      <td>$248,856.85</td>\n      <td>-179,211.73</td>\n      <td>0.38%</td>\n    </tr>\n    <tr>\n      <th>4</th>\n      <td>Industrial Development of Collierville</td>\n      <td>12</td>\n      <td>$690,322.00</td>\n      <td>$914,883.78</td>\n      <td>$103,923,710</td>\n      <td>$3,523,013.77</td>\n      <td>-1,917,807.99</td>\n      <td>8.83%</td>\n    </tr>\n    <tr>\n      <th>5</th>\n      <td>Industrial Development of Germantown</td>\n      <td>4</td>\n      <td>$310,191.18</td>\n      <td>$211,034.77</td>\n      <td>$34,051,040</td>\n      <td>$1,154,330.26</td>\n      <td>-633,104.31</td>\n      <td>2.87%</td>\n    </tr>\n    <tr>\n      <th>6</th>\n      <td>Industrial Development of Millington</td>\n      <td>1</td>\n      <td>$50,530.09</td>\n      <td>$80,385.75</td>\n      <td>$10,751,680</td>\n      <td>$364,481.95</td>\n      <td>-233,566.11</td>\n      <td>0.72%</td>\n    </tr>\n    <tr>\n      <th>7</th>\n      <td>Health &amp; Education Board - Memphis</td>\n      <td>107</td>\n      <td>$1,627,887.89</td>\n      <td>$0.00</td>\n      <td>$245,059,120</td>\n      <td>$8,307,504.17</td>\n      <td>-6,679,616.28</td>\n      <td>8.96%</td>\n    </tr>\n    <tr>\n      <th>8</th>\n      <td>Health &amp; Education Board - Shelby</td>\n      <td>6</td>\n      <td>$88,595.41</td>\n      <td>$0.00</td>\n      <td>$30,543,560</td>\n      <td>$1,035,426.68</td>\n      <td>-946,831.27</td>\n      <td>0.49%</td>\n    </tr>\n    <tr>\n      <th>9</th>\n      <td>Miscellaneous Contracts</td>\n      <td>10</td>\n      <td>$35,460.00</td>\n      <td>$0.00</td>\n      <td>$10,528,400</td>\n      <td>$356,912.76</td>\n      <td>-321,452.76</td>\n      <td>0.20%</td>\n    </tr>\n    <tr>\n      <th>10</th>\n      <td>City / County Government Contracts</td>\n      <td>5</td>\n      <td>$5,868.72</td>\n      <td>$0.00</td>\n      <td>$3,371,400</td>\n      <td>$114,290.46</td>\n      <td>-108,421.74</td>\n      <td>0.03%</td>\n    </tr>\n  </tbody>\n</table>\n</div>"
     },
     "execution_count": 2,
     "metadata": {},
     "output_type": "execute_result"
    }
   ],
   "source": [
    "# load a dataframe\n",
    "infile_path = \"../data/raw/silver_shelby_county_properties_municipality_breakdown - s1_2022.csv\"\n",
    "df = pd.read_csv(infile_path)\n",
    "df"
   ],
   "metadata": {
    "collapsed": false,
    "ExecuteTime": {
     "end_time": "2024-04-01T00:55:47.947264Z",
     "start_time": "2024-04-01T00:55:47.930842Z"
    }
   },
   "id": "50cef4de40a6855d"
  },
  {
   "cell_type": "code",
   "execution_count": 3,
   "outputs": [
    {
     "data": {
      "text/plain": "Index(['board', 'number_of_contracts', 'amount_billed_pilot_inl',\n       'amount_billed_debt_service', 'assessment',\n       'tax_based_on_assessment_at_2021_tax_rate', 'difference',\n       'percentage_total_pilot_billing'],\n      dtype='object')"
     },
     "execution_count": 3,
     "metadata": {},
     "output_type": "execute_result"
    }
   ],
   "source": [
    "# Clean the column headers\n",
    "df = clean_headers(df, [remove_special_for_words, truncate, snake_case, lower_case])\n",
    "df.columns"
   ],
   "metadata": {
    "collapsed": false,
    "ExecuteTime": {
     "end_time": "2024-04-01T00:55:47.950357Z",
     "start_time": "2024-04-01T00:55:47.946815Z"
    }
   },
   "id": "f8e6a7fb4013b6e6"
  },
  {
   "cell_type": "code",
   "execution_count": 4,
   "outputs": [
    {
     "data": {
      "text/plain": "                                     board  number_of_contracts  \\\n0              downtown memphis commission                  124   \n1                              edge shelby                  241   \n2      industrial development of arlington                   10   \n3       industrial development of bartlett                    6   \n4   industrial development of collierville                   12   \n5     industrial development of germantown                    4   \n6     industrial development of millington                    1   \n7           health education board memphis                  107   \n8            health education board shelby                    6   \n9                  miscellaneous contracts                   10   \n10        city county government contracts                    5   \n\n   amount_billed_pilot_inl amount_billed_debt_service    assessment  \\\n0            $2,265,277.82              $1,378,186.61  $403,472,360   \n1            $4,357,705.55              $5,922,590.25  $845,013,990   \n2              $116,203.75                 $49,372.12    $8,906,110   \n3               $21,998.39                 $47,646.73    $7,340,910   \n4              $690,322.00                $914,883.78  $103,923,710   \n5              $310,191.18                $211,034.77   $34,051,040   \n6               $50,530.09                 $80,385.75   $10,751,680   \n7            $1,627,887.89                      $0.00  $245,059,120   \n8               $88,595.41                      $0.00   $30,543,560   \n9               $35,460.00                      $0.00   $10,528,400   \n10               $5,868.72                      $0.00    $3,371,400   \n\n   tax_based_on_assessment_at_2021_tax_rate      difference  \\\n0                            $13,677,713.00  -10,034,248.57   \n1                            $28,645,974.26  -18,365,678.46   \n2                               $301,917.13     -136,341.26   \n3                               $248,856.85     -179,211.73   \n4                             $3,523,013.77   -1,917,807.99   \n5                             $1,154,330.26     -633,104.31   \n6                               $364,481.95     -233,566.11   \n7                             $8,307,504.17   -6,679,616.28   \n8                             $1,035,426.68     -946,831.27   \n9                               $356,912.76     -321,452.76   \n10                              $114,290.46     -108,421.74   \n\n   percentage_total_pilot_billing  \n0                          20.05%  \n1                          56.57%  \n2                           0.91%  \n3                           0.38%  \n4                           8.83%  \n5                           2.87%  \n6                           0.72%  \n7                           8.96%  \n8                           0.49%  \n9                           0.20%  \n10                          0.03%  ",
      "text/html": "<div>\n<style scoped>\n    .dataframe tbody tr th:only-of-type {\n        vertical-align: middle;\n    }\n\n    .dataframe tbody tr th {\n        vertical-align: top;\n    }\n\n    .dataframe thead th {\n        text-align: right;\n    }\n</style>\n<table border=\"1\" class=\"dataframe\">\n  <thead>\n    <tr style=\"text-align: right;\">\n      <th></th>\n      <th>board</th>\n      <th>number_of_contracts</th>\n      <th>amount_billed_pilot_inl</th>\n      <th>amount_billed_debt_service</th>\n      <th>assessment</th>\n      <th>tax_based_on_assessment_at_2021_tax_rate</th>\n      <th>difference</th>\n      <th>percentage_total_pilot_billing</th>\n    </tr>\n  </thead>\n  <tbody>\n    <tr>\n      <th>0</th>\n      <td>downtown memphis commission</td>\n      <td>124</td>\n      <td>$2,265,277.82</td>\n      <td>$1,378,186.61</td>\n      <td>$403,472,360</td>\n      <td>$13,677,713.00</td>\n      <td>-10,034,248.57</td>\n      <td>20.05%</td>\n    </tr>\n    <tr>\n      <th>1</th>\n      <td>edge shelby</td>\n      <td>241</td>\n      <td>$4,357,705.55</td>\n      <td>$5,922,590.25</td>\n      <td>$845,013,990</td>\n      <td>$28,645,974.26</td>\n      <td>-18,365,678.46</td>\n      <td>56.57%</td>\n    </tr>\n    <tr>\n      <th>2</th>\n      <td>industrial development of arlington</td>\n      <td>10</td>\n      <td>$116,203.75</td>\n      <td>$49,372.12</td>\n      <td>$8,906,110</td>\n      <td>$301,917.13</td>\n      <td>-136,341.26</td>\n      <td>0.91%</td>\n    </tr>\n    <tr>\n      <th>3</th>\n      <td>industrial development of bartlett</td>\n      <td>6</td>\n      <td>$21,998.39</td>\n      <td>$47,646.73</td>\n      <td>$7,340,910</td>\n      <td>$248,856.85</td>\n      <td>-179,211.73</td>\n      <td>0.38%</td>\n    </tr>\n    <tr>\n      <th>4</th>\n      <td>industrial development of collierville</td>\n      <td>12</td>\n      <td>$690,322.00</td>\n      <td>$914,883.78</td>\n      <td>$103,923,710</td>\n      <td>$3,523,013.77</td>\n      <td>-1,917,807.99</td>\n      <td>8.83%</td>\n    </tr>\n    <tr>\n      <th>5</th>\n      <td>industrial development of germantown</td>\n      <td>4</td>\n      <td>$310,191.18</td>\n      <td>$211,034.77</td>\n      <td>$34,051,040</td>\n      <td>$1,154,330.26</td>\n      <td>-633,104.31</td>\n      <td>2.87%</td>\n    </tr>\n    <tr>\n      <th>6</th>\n      <td>industrial development of millington</td>\n      <td>1</td>\n      <td>$50,530.09</td>\n      <td>$80,385.75</td>\n      <td>$10,751,680</td>\n      <td>$364,481.95</td>\n      <td>-233,566.11</td>\n      <td>0.72%</td>\n    </tr>\n    <tr>\n      <th>7</th>\n      <td>health education board memphis</td>\n      <td>107</td>\n      <td>$1,627,887.89</td>\n      <td>$0.00</td>\n      <td>$245,059,120</td>\n      <td>$8,307,504.17</td>\n      <td>-6,679,616.28</td>\n      <td>8.96%</td>\n    </tr>\n    <tr>\n      <th>8</th>\n      <td>health education board shelby</td>\n      <td>6</td>\n      <td>$88,595.41</td>\n      <td>$0.00</td>\n      <td>$30,543,560</td>\n      <td>$1,035,426.68</td>\n      <td>-946,831.27</td>\n      <td>0.49%</td>\n    </tr>\n    <tr>\n      <th>9</th>\n      <td>miscellaneous contracts</td>\n      <td>10</td>\n      <td>$35,460.00</td>\n      <td>$0.00</td>\n      <td>$10,528,400</td>\n      <td>$356,912.76</td>\n      <td>-321,452.76</td>\n      <td>0.20%</td>\n    </tr>\n    <tr>\n      <th>10</th>\n      <td>city county government contracts</td>\n      <td>5</td>\n      <td>$5,868.72</td>\n      <td>$0.00</td>\n      <td>$3,371,400</td>\n      <td>$114,290.46</td>\n      <td>-108,421.74</td>\n      <td>0.03%</td>\n    </tr>\n  </tbody>\n</table>\n</div>"
     },
     "execution_count": 4,
     "metadata": {},
     "output_type": "execute_result"
    }
   ],
   "source": [
    "# Clean the string columns\n",
    "string_columns = [\"board\"]\n",
    "df = clean_columns(df, string_columns, [remove_special_for_words, truncate, lower_case])\n",
    "df"
   ],
   "metadata": {
    "collapsed": false,
    "ExecuteTime": {
     "end_time": "2024-04-01T00:55:47.977318Z",
     "start_time": "2024-04-01T00:55:47.954372Z"
    }
   },
   "id": "67171db99d8fff6d"
  },
  {
   "cell_type": "code",
   "execution_count": 5,
   "outputs": [
    {
     "data": {
      "text/plain": "                                     board  number_of_contracts  \\\n0              downtown memphis commission                  124   \n1                              edge shelby                  241   \n2      industrial development of arlington                   10   \n3       industrial development of bartlett                    6   \n4   industrial development of collierville                   12   \n5     industrial development of germantown                    4   \n6     industrial development of millington                    1   \n7           health education board memphis                  107   \n8            health education board shelby                    6   \n9                  miscellaneous contracts                   10   \n10        city county government contracts                    5   \n\n   amount_billed_pilot_inl amount_billed_debt_service assessment  \\\n0               2265277.82                 1378186.61  403472360   \n1               4357705.55                 5922590.25  845013990   \n2                116203.75                   49372.12    8906110   \n3                 21998.39                   47646.73    7340910   \n4                690322.00                  914883.78  103923710   \n5                310191.18                  211034.77   34051040   \n6                 50530.09                   80385.75   10751680   \n7               1627887.89                       0.00  245059120   \n8                 88595.41                       0.00   30543560   \n9                 35460.00                       0.00   10528400   \n10                 5868.72                       0.00    3371400   \n\n   tax_based_on_assessment_at_2021_tax_rate    difference  \\\n0                               13677713.00  -10034248.57   \n1                               28645974.26  -18365678.46   \n2                                 301917.13    -136341.26   \n3                                 248856.85    -179211.73   \n4                                3523013.77   -1917807.99   \n5                                1154330.26    -633104.31   \n6                                 364481.95    -233566.11   \n7                                8307504.17   -6679616.28   \n8                                1035426.68    -946831.27   \n9                                 356912.76    -321452.76   \n10                                114290.46    -108421.74   \n\n   percentage_total_pilot_billing  \n0                           20.05  \n1                           56.57  \n2                            0.91  \n3                            0.38  \n4                            8.83  \n5                            2.87  \n6                            0.72  \n7                            8.96  \n8                            0.49  \n9                            0.20  \n10                           0.03  ",
      "text/html": "<div>\n<style scoped>\n    .dataframe tbody tr th:only-of-type {\n        vertical-align: middle;\n    }\n\n    .dataframe tbody tr th {\n        vertical-align: top;\n    }\n\n    .dataframe thead th {\n        text-align: right;\n    }\n</style>\n<table border=\"1\" class=\"dataframe\">\n  <thead>\n    <tr style=\"text-align: right;\">\n      <th></th>\n      <th>board</th>\n      <th>number_of_contracts</th>\n      <th>amount_billed_pilot_inl</th>\n      <th>amount_billed_debt_service</th>\n      <th>assessment</th>\n      <th>tax_based_on_assessment_at_2021_tax_rate</th>\n      <th>difference</th>\n      <th>percentage_total_pilot_billing</th>\n    </tr>\n  </thead>\n  <tbody>\n    <tr>\n      <th>0</th>\n      <td>downtown memphis commission</td>\n      <td>124</td>\n      <td>2265277.82</td>\n      <td>1378186.61</td>\n      <td>403472360</td>\n      <td>13677713.00</td>\n      <td>-10034248.57</td>\n      <td>20.05</td>\n    </tr>\n    <tr>\n      <th>1</th>\n      <td>edge shelby</td>\n      <td>241</td>\n      <td>4357705.55</td>\n      <td>5922590.25</td>\n      <td>845013990</td>\n      <td>28645974.26</td>\n      <td>-18365678.46</td>\n      <td>56.57</td>\n    </tr>\n    <tr>\n      <th>2</th>\n      <td>industrial development of arlington</td>\n      <td>10</td>\n      <td>116203.75</td>\n      <td>49372.12</td>\n      <td>8906110</td>\n      <td>301917.13</td>\n      <td>-136341.26</td>\n      <td>0.91</td>\n    </tr>\n    <tr>\n      <th>3</th>\n      <td>industrial development of bartlett</td>\n      <td>6</td>\n      <td>21998.39</td>\n      <td>47646.73</td>\n      <td>7340910</td>\n      <td>248856.85</td>\n      <td>-179211.73</td>\n      <td>0.38</td>\n    </tr>\n    <tr>\n      <th>4</th>\n      <td>industrial development of collierville</td>\n      <td>12</td>\n      <td>690322.00</td>\n      <td>914883.78</td>\n      <td>103923710</td>\n      <td>3523013.77</td>\n      <td>-1917807.99</td>\n      <td>8.83</td>\n    </tr>\n    <tr>\n      <th>5</th>\n      <td>industrial development of germantown</td>\n      <td>4</td>\n      <td>310191.18</td>\n      <td>211034.77</td>\n      <td>34051040</td>\n      <td>1154330.26</td>\n      <td>-633104.31</td>\n      <td>2.87</td>\n    </tr>\n    <tr>\n      <th>6</th>\n      <td>industrial development of millington</td>\n      <td>1</td>\n      <td>50530.09</td>\n      <td>80385.75</td>\n      <td>10751680</td>\n      <td>364481.95</td>\n      <td>-233566.11</td>\n      <td>0.72</td>\n    </tr>\n    <tr>\n      <th>7</th>\n      <td>health education board memphis</td>\n      <td>107</td>\n      <td>1627887.89</td>\n      <td>0.00</td>\n      <td>245059120</td>\n      <td>8307504.17</td>\n      <td>-6679616.28</td>\n      <td>8.96</td>\n    </tr>\n    <tr>\n      <th>8</th>\n      <td>health education board shelby</td>\n      <td>6</td>\n      <td>88595.41</td>\n      <td>0.00</td>\n      <td>30543560</td>\n      <td>1035426.68</td>\n      <td>-946831.27</td>\n      <td>0.49</td>\n    </tr>\n    <tr>\n      <th>9</th>\n      <td>miscellaneous contracts</td>\n      <td>10</td>\n      <td>35460.00</td>\n      <td>0.00</td>\n      <td>10528400</td>\n      <td>356912.76</td>\n      <td>-321452.76</td>\n      <td>0.20</td>\n    </tr>\n    <tr>\n      <th>10</th>\n      <td>city county government contracts</td>\n      <td>5</td>\n      <td>5868.72</td>\n      <td>0.00</td>\n      <td>3371400</td>\n      <td>114290.46</td>\n      <td>-108421.74</td>\n      <td>0.03</td>\n    </tr>\n  </tbody>\n</table>\n</div>"
     },
     "execution_count": 5,
     "metadata": {},
     "output_type": "execute_result"
    }
   ],
   "source": [
    "# Clean the numeric columns\n",
    "numeric_columns = ['amount_billed_pilot_inl', \n",
    "                   'amount_billed_debt_service', \n",
    "                   'assessment',\n",
    "                   'tax_based_on_assessment_at_2021_tax_rate', \n",
    "                   'difference',\n",
    "                   'percentage_total_pilot_billing']\n",
    "df = clean_columns(df, numeric_columns, [remove_special_for_numbers])\n",
    "df"
   ],
   "metadata": {
    "collapsed": false,
    "ExecuteTime": {
     "end_time": "2024-04-01T00:55:47.991342Z",
     "start_time": "2024-04-01T00:55:47.963866Z"
    }
   },
   "id": "fd553dbc31168c70"
  },
  {
   "cell_type": "code",
   "execution_count": 6,
   "outputs": [
    {
     "data": {
      "text/plain": "board                                       object\nnumber_of_contracts                          int64\namount_billed_pilot_inl                     object\namount_billed_debt_service                  object\nassessment                                  object\ntax_based_on_assessment_at_2021_tax_rate    object\ndifference                                  object\npercentage_total_pilot_billing              object\ndtype: object"
     },
     "execution_count": 6,
     "metadata": {},
     "output_type": "execute_result"
    }
   ],
   "source": [
    "# Check the data types of each variable\n",
    "df.dtypes"
   ],
   "metadata": {
    "collapsed": false,
    "ExecuteTime": {
     "end_time": "2024-04-01T00:55:47.994744Z",
     "start_time": "2024-04-01T00:55:47.968348Z"
    }
   },
   "id": "fb1c412d6c764d7b"
  },
  {
   "cell_type": "code",
   "execution_count": 7,
   "outputs": [
    {
     "data": {
      "text/plain": "board                                        object\nnumber_of_contracts                           int64\namount_billed_pilot_inl                     float64\namount_billed_debt_service                  float64\nassessment                                  float64\ntax_based_on_assessment_at_2021_tax_rate    float64\ndifference                                  float64\npercentage_total_pilot_billing              float64\ndtype: object"
     },
     "execution_count": 7,
     "metadata": {},
     "output_type": "execute_result"
    }
   ],
   "source": [
    "# Fix the data type of each variable\n",
    "names_to_types = {\"board\": str, \n",
    "                  \"number_of_contracts\": int, \n",
    "                  \"amount_billed_pilot_inl\": float, \n",
    "                  \"amount_billed_debt_service\": float, \n",
    "                  \"assessment\": float,\n",
    "                  \"tax_based_on_assessment_at_2021_tax_rate\": float, \n",
    "                  \"difference\": float,\n",
    "                  \"percentage_total_pilot_billing\": float,\n",
    "                  }\n",
    "df = cast_data_types(df, names_to_types)\n",
    "df.dtypes"
   ],
   "metadata": {
    "collapsed": false,
    "ExecuteTime": {
     "end_time": "2024-04-01T00:55:48.005393Z",
     "start_time": "2024-04-01T00:55:47.974274Z"
    }
   },
   "id": "fa0f0232d27d41fe"
  },
  {
   "cell_type": "code",
   "execution_count": 8,
   "outputs": [
    {
     "data": {
      "text/plain": "                                               board  number_of_contracts  \\\nboard_id                                                                    \n5b1f4c0c65a3             downtown memphis commission                  124   \nd5fe3a85ec4e                             edge shelby                  241   \nabb34861ca91     industrial development of arlington                   10   \naada4183f85c      industrial development of bartlett                    6   \n91e543f3085f  industrial development of collierville                   12   \n3f1cf0abc31c    industrial development of germantown                    4   \n757a7152194c    industrial development of millington                    1   \n3bcfcbd3a12d          health education board memphis                  107   \n64c9e33b120e           health education board shelby                    6   \ndf3a7c5fc143                 miscellaneous contracts                   10   \nac18571846b6        city county government contracts                    5   \n\n              amount_billed_pilot_inl  amount_billed_debt_service  \\\nboard_id                                                            \n5b1f4c0c65a3               2265277.82                  1378186.61   \nd5fe3a85ec4e               4357705.55                  5922590.25   \nabb34861ca91                116203.75                    49372.12   \naada4183f85c                 21998.39                    47646.73   \n91e543f3085f                690322.00                   914883.78   \n3f1cf0abc31c                310191.18                   211034.77   \n757a7152194c                 50530.09                    80385.75   \n3bcfcbd3a12d               1627887.89                        0.00   \n64c9e33b120e                 88595.41                        0.00   \ndf3a7c5fc143                 35460.00                        0.00   \nac18571846b6                  5868.72                        0.00   \n\n               assessment  tax_based_on_assessment_at_2021_tax_rate  \\\nboard_id                                                              \n5b1f4c0c65a3  403472360.0                               13677713.00   \nd5fe3a85ec4e  845013990.0                               28645974.26   \nabb34861ca91    8906110.0                                 301917.13   \naada4183f85c    7340910.0                                 248856.85   \n91e543f3085f  103923710.0                                3523013.77   \n3f1cf0abc31c   34051040.0                                1154330.26   \n757a7152194c   10751680.0                                 364481.95   \n3bcfcbd3a12d  245059120.0                                8307504.17   \n64c9e33b120e   30543560.0                                1035426.68   \ndf3a7c5fc143   10528400.0                                 356912.76   \nac18571846b6    3371400.0                                 114290.46   \n\n               difference  percentage_total_pilot_billing  \nboard_id                                                   \n5b1f4c0c65a3 -10034248.57                           20.05  \nd5fe3a85ec4e -18365678.46                           56.57  \nabb34861ca91   -136341.26                            0.91  \naada4183f85c   -179211.73                            0.38  \n91e543f3085f  -1917807.99                            8.83  \n3f1cf0abc31c   -633104.31                            2.87  \n757a7152194c   -233566.11                            0.72  \n3bcfcbd3a12d  -6679616.28                            8.96  \n64c9e33b120e   -946831.27                            0.49  \ndf3a7c5fc143   -321452.76                            0.20  \nac18571846b6   -108421.74                            0.03  ",
      "text/html": "<div>\n<style scoped>\n    .dataframe tbody tr th:only-of-type {\n        vertical-align: middle;\n    }\n\n    .dataframe tbody tr th {\n        vertical-align: top;\n    }\n\n    .dataframe thead th {\n        text-align: right;\n    }\n</style>\n<table border=\"1\" class=\"dataframe\">\n  <thead>\n    <tr style=\"text-align: right;\">\n      <th></th>\n      <th>board</th>\n      <th>number_of_contracts</th>\n      <th>amount_billed_pilot_inl</th>\n      <th>amount_billed_debt_service</th>\n      <th>assessment</th>\n      <th>tax_based_on_assessment_at_2021_tax_rate</th>\n      <th>difference</th>\n      <th>percentage_total_pilot_billing</th>\n    </tr>\n    <tr>\n      <th>board_id</th>\n      <th></th>\n      <th></th>\n      <th></th>\n      <th></th>\n      <th></th>\n      <th></th>\n      <th></th>\n      <th></th>\n    </tr>\n  </thead>\n  <tbody>\n    <tr>\n      <th>5b1f4c0c65a3</th>\n      <td>downtown memphis commission</td>\n      <td>124</td>\n      <td>2265277.82</td>\n      <td>1378186.61</td>\n      <td>403472360.0</td>\n      <td>13677713.00</td>\n      <td>-10034248.57</td>\n      <td>20.05</td>\n    </tr>\n    <tr>\n      <th>d5fe3a85ec4e</th>\n      <td>edge shelby</td>\n      <td>241</td>\n      <td>4357705.55</td>\n      <td>5922590.25</td>\n      <td>845013990.0</td>\n      <td>28645974.26</td>\n      <td>-18365678.46</td>\n      <td>56.57</td>\n    </tr>\n    <tr>\n      <th>abb34861ca91</th>\n      <td>industrial development of arlington</td>\n      <td>10</td>\n      <td>116203.75</td>\n      <td>49372.12</td>\n      <td>8906110.0</td>\n      <td>301917.13</td>\n      <td>-136341.26</td>\n      <td>0.91</td>\n    </tr>\n    <tr>\n      <th>aada4183f85c</th>\n      <td>industrial development of bartlett</td>\n      <td>6</td>\n      <td>21998.39</td>\n      <td>47646.73</td>\n      <td>7340910.0</td>\n      <td>248856.85</td>\n      <td>-179211.73</td>\n      <td>0.38</td>\n    </tr>\n    <tr>\n      <th>91e543f3085f</th>\n      <td>industrial development of collierville</td>\n      <td>12</td>\n      <td>690322.00</td>\n      <td>914883.78</td>\n      <td>103923710.0</td>\n      <td>3523013.77</td>\n      <td>-1917807.99</td>\n      <td>8.83</td>\n    </tr>\n    <tr>\n      <th>3f1cf0abc31c</th>\n      <td>industrial development of germantown</td>\n      <td>4</td>\n      <td>310191.18</td>\n      <td>211034.77</td>\n      <td>34051040.0</td>\n      <td>1154330.26</td>\n      <td>-633104.31</td>\n      <td>2.87</td>\n    </tr>\n    <tr>\n      <th>757a7152194c</th>\n      <td>industrial development of millington</td>\n      <td>1</td>\n      <td>50530.09</td>\n      <td>80385.75</td>\n      <td>10751680.0</td>\n      <td>364481.95</td>\n      <td>-233566.11</td>\n      <td>0.72</td>\n    </tr>\n    <tr>\n      <th>3bcfcbd3a12d</th>\n      <td>health education board memphis</td>\n      <td>107</td>\n      <td>1627887.89</td>\n      <td>0.00</td>\n      <td>245059120.0</td>\n      <td>8307504.17</td>\n      <td>-6679616.28</td>\n      <td>8.96</td>\n    </tr>\n    <tr>\n      <th>64c9e33b120e</th>\n      <td>health education board shelby</td>\n      <td>6</td>\n      <td>88595.41</td>\n      <td>0.00</td>\n      <td>30543560.0</td>\n      <td>1035426.68</td>\n      <td>-946831.27</td>\n      <td>0.49</td>\n    </tr>\n    <tr>\n      <th>df3a7c5fc143</th>\n      <td>miscellaneous contracts</td>\n      <td>10</td>\n      <td>35460.00</td>\n      <td>0.00</td>\n      <td>10528400.0</td>\n      <td>356912.76</td>\n      <td>-321452.76</td>\n      <td>0.20</td>\n    </tr>\n    <tr>\n      <th>ac18571846b6</th>\n      <td>city county government contracts</td>\n      <td>5</td>\n      <td>5868.72</td>\n      <td>0.00</td>\n      <td>3371400.0</td>\n      <td>114290.46</td>\n      <td>-108421.74</td>\n      <td>0.03</td>\n    </tr>\n  </tbody>\n</table>\n</div>"
     },
     "execution_count": 8,
     "metadata": {},
     "output_type": "execute_result"
    }
   ],
   "source": [
    "# Create a unique index column based on the values in the identifying column\n",
    "# Note: Ids are based on a deterministic hash, which means they are \n",
    "# reproducible even if the function is run by a different user at a different time,\n",
    "# as long as the string in the identifying column is the same. \n",
    "\n",
    "identifying_columns = [\"board\"]\n",
    "index_name = \"board_id\"\n",
    "df = set_unique_index(df=df, columns_to_hash = identifying_columns, index_length_limit=12, index_name=index_name)\n",
    "df"
   ],
   "metadata": {
    "collapsed": false,
    "ExecuteTime": {
     "end_time": "2024-04-01T00:55:48.013526Z",
     "start_time": "2024-04-01T00:55:47.984555Z"
    }
   },
   "id": "fa13dd82fd715b68"
  },
  {
   "cell_type": "code",
   "execution_count": 9,
   "outputs": [],
   "source": [
    "# Save the now-clean csv and convert it to utf-8 format\n",
    "outfile_path = \"../data/processed/s1_2022.csv\"\n",
    "df.to_csv(outfile_path)\n",
    "convert_utf8(original_file_path=outfile_path, new_file_path=outfile_path)"
   ],
   "metadata": {
    "collapsed": false,
    "ExecuteTime": {
     "end_time": "2024-04-01T00:55:48.014106Z",
     "start_time": "2024-04-01T00:55:47.988187Z"
    }
   },
   "id": "209e2ad7bce3421"
  }
 ],
 "metadata": {
  "kernelspec": {
   "display_name": "Python 3",
   "language": "python",
   "name": "python3"
  },
  "language_info": {
   "codemirror_mode": {
    "name": "ipython",
    "version": 2
   },
   "file_extension": ".py",
   "mimetype": "text/x-python",
   "name": "python",
   "nbconvert_exporter": "python",
   "pygments_lexer": "ipython2",
   "version": "2.7.6"
  }
 },
 "nbformat": 4,
 "nbformat_minor": 5
}
