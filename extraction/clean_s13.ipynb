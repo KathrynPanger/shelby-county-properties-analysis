{
 "cells": [
  {
   "cell_type": "code",
   "execution_count": 13,
   "outputs": [],
   "source": [
    "import pandas as pd\n",
    "from utils import *\n",
    "from typing import Any"
   ],
   "metadata": {
    "collapsed": false,
    "ExecuteTime": {
     "end_time": "2024-04-01T01:01:50.802722Z",
     "start_time": "2024-04-01T01:01:50.732353Z"
    }
   },
   "id": "f890863474a831e4"
  },
  {
   "cell_type": "markdown",
   "source": [
    "<h1>Cleaning a CSV</h1>"
   ],
   "metadata": {
    "collapsed": false
   },
   "id": "37c2459a70173916"
  },
  {
   "cell_type": "markdown",
   "source": [
    "Read in a CSV"
   ],
   "metadata": {
    "collapsed": false
   },
   "id": "70312fa54485148"
  },
  {
   "cell_type": "code",
   "execution_count": 14,
   "outputs": [
    {
     "data": {
      "text/plain": "                 Owner    Location PILOT Parcel No Underlying Parcel Number  \\\n0  CEVA - INGRAM MICRO  3820 MICRO  IDB0000M000010           M0125000004730   \n\n   Begin Date    End Date Assmt Taxes PILOT Contract Amt  \\\n0  11/19/2010  09/28/2026    $364,482            $50,530   \n\n  PILOT Debt Service Amt Difference  \n0                $80,386  -$233,566  ",
      "text/html": "<div>\n<style scoped>\n    .dataframe tbody tr th:only-of-type {\n        vertical-align: middle;\n    }\n\n    .dataframe tbody tr th {\n        vertical-align: top;\n    }\n\n    .dataframe thead th {\n        text-align: right;\n    }\n</style>\n<table border=\"1\" class=\"dataframe\">\n  <thead>\n    <tr style=\"text-align: right;\">\n      <th></th>\n      <th>Owner</th>\n      <th>Location</th>\n      <th>PILOT Parcel No</th>\n      <th>Underlying Parcel Number</th>\n      <th>Begin Date</th>\n      <th>End Date</th>\n      <th>Assmt Taxes</th>\n      <th>PILOT Contract Amt</th>\n      <th>PILOT Debt Service Amt</th>\n      <th>Difference</th>\n    </tr>\n  </thead>\n  <tbody>\n    <tr>\n      <th>0</th>\n      <td>CEVA - INGRAM MICRO</td>\n      <td>3820 MICRO</td>\n      <td>IDB0000M000010</td>\n      <td>M0125000004730</td>\n      <td>11/19/2010</td>\n      <td>09/28/2026</td>\n      <td>$364,482</td>\n      <td>$50,530</td>\n      <td>$80,386</td>\n      <td>-$233,566</td>\n    </tr>\n  </tbody>\n</table>\n</div>"
     },
     "execution_count": 14,
     "metadata": {},
     "output_type": "execute_result"
    }
   ],
   "source": [
    "# load a dataframe\n",
    "infile_path = \"../data/raw/silver_shelby_county_properties_municipality_breakdown - s13_2021_idb_millington.csv\"\n",
    "df = pd.read_csv(infile_path)\n",
    "df"
   ],
   "metadata": {
    "collapsed": false,
    "ExecuteTime": {
     "end_time": "2024-04-01T01:01:50.820529Z",
     "start_time": "2024-04-01T01:01:50.736008Z"
    }
   },
   "id": "50cef4de40a6855d"
  },
  {
   "cell_type": "code",
   "execution_count": 15,
   "outputs": [
    {
     "data": {
      "text/plain": "Index(['owner', 'location', 'pilot_parcel_no', 'underlying_parcel_number',\n       'begin_date', 'end_date', 'assmt_taxes', 'pilot_contract_amt',\n       'pilot_debt_service_amt', 'difference'],\n      dtype='object')"
     },
     "execution_count": 15,
     "metadata": {},
     "output_type": "execute_result"
    }
   ],
   "source": [
    "# Clean the column headers\n",
    "df = clean_headers(df, [remove_special_for_words, truncate, snake_case, lower_case])\n",
    "df.columns"
   ],
   "metadata": {
    "collapsed": false,
    "ExecuteTime": {
     "end_time": "2024-04-01T01:01:50.821528Z",
     "start_time": "2024-04-01T01:01:50.751672Z"
    }
   },
   "id": "f8e6a7fb4013b6e6"
  },
  {
   "cell_type": "code",
   "execution_count": 16,
   "outputs": [
    {
     "data": {
      "text/plain": "               owner    location pilot_parcel_no underlying_parcel_number  \\\n0  ceva ingram micro  3820 micro  IDB0000M000010           M0125000004730   \n\n   begin_date    end_date assmt_taxes pilot_contract_amt  \\\n0  11/19/2010  09/28/2026    $364,482            $50,530   \n\n  pilot_debt_service_amt difference  \n0                $80,386  -$233,566  ",
      "text/html": "<div>\n<style scoped>\n    .dataframe tbody tr th:only-of-type {\n        vertical-align: middle;\n    }\n\n    .dataframe tbody tr th {\n        vertical-align: top;\n    }\n\n    .dataframe thead th {\n        text-align: right;\n    }\n</style>\n<table border=\"1\" class=\"dataframe\">\n  <thead>\n    <tr style=\"text-align: right;\">\n      <th></th>\n      <th>owner</th>\n      <th>location</th>\n      <th>pilot_parcel_no</th>\n      <th>underlying_parcel_number</th>\n      <th>begin_date</th>\n      <th>end_date</th>\n      <th>assmt_taxes</th>\n      <th>pilot_contract_amt</th>\n      <th>pilot_debt_service_amt</th>\n      <th>difference</th>\n    </tr>\n  </thead>\n  <tbody>\n    <tr>\n      <th>0</th>\n      <td>ceva ingram micro</td>\n      <td>3820 micro</td>\n      <td>IDB0000M000010</td>\n      <td>M0125000004730</td>\n      <td>11/19/2010</td>\n      <td>09/28/2026</td>\n      <td>$364,482</td>\n      <td>$50,530</td>\n      <td>$80,386</td>\n      <td>-$233,566</td>\n    </tr>\n  </tbody>\n</table>\n</div>"
     },
     "execution_count": 16,
     "metadata": {},
     "output_type": "execute_result"
    }
   ],
   "source": [
    "# Clean the string columns\n",
    "string_columns = [\"owner\", \n",
    "                  \"location\"]\n",
    "df = clean_columns(df, string_columns, [remove_special_for_words, truncate, lower_case])\n",
    "df"
   ],
   "metadata": {
    "collapsed": false,
    "ExecuteTime": {
     "end_time": "2024-04-01T01:01:50.821811Z",
     "start_time": "2024-04-01T01:01:50.761311Z"
    }
   },
   "id": "67171db99d8fff6d"
  },
  {
   "cell_type": "code",
   "execution_count": 17,
   "outputs": [
    {
     "data": {
      "text/plain": "Index(['owner', 'location', 'pilot_parcel_no', 'underlying_parcel_number',\n       'begin_date', 'end_date', 'assmt_taxes', 'pilot_contract_amt',\n       'pilot_debt_service_amt', 'difference'],\n      dtype='object')"
     },
     "execution_count": 17,
     "metadata": {},
     "output_type": "execute_result"
    }
   ],
   "source": [
    "df.columns"
   ],
   "metadata": {
    "collapsed": false,
    "ExecuteTime": {
     "end_time": "2024-04-01T01:01:50.821897Z",
     "start_time": "2024-04-01T01:01:50.765083Z"
    }
   },
   "id": "4484a9731b2bde17"
  },
  {
   "cell_type": "code",
   "execution_count": 18,
   "outputs": [
    {
     "data": {
      "text/plain": "               owner    location pilot_parcel_no underlying_parcel_number  \\\n0  ceva ingram micro  3820 micro  IDB0000M000010           M0125000004730   \n\n   begin_date    end_date assmt_taxes pilot_contract_amt  \\\n0  11/19/2010  09/28/2026      364482              50530   \n\n  pilot_debt_service_amt difference  \n0                  80386    -233566  ",
      "text/html": "<div>\n<style scoped>\n    .dataframe tbody tr th:only-of-type {\n        vertical-align: middle;\n    }\n\n    .dataframe tbody tr th {\n        vertical-align: top;\n    }\n\n    .dataframe thead th {\n        text-align: right;\n    }\n</style>\n<table border=\"1\" class=\"dataframe\">\n  <thead>\n    <tr style=\"text-align: right;\">\n      <th></th>\n      <th>owner</th>\n      <th>location</th>\n      <th>pilot_parcel_no</th>\n      <th>underlying_parcel_number</th>\n      <th>begin_date</th>\n      <th>end_date</th>\n      <th>assmt_taxes</th>\n      <th>pilot_contract_amt</th>\n      <th>pilot_debt_service_amt</th>\n      <th>difference</th>\n    </tr>\n  </thead>\n  <tbody>\n    <tr>\n      <th>0</th>\n      <td>ceva ingram micro</td>\n      <td>3820 micro</td>\n      <td>IDB0000M000010</td>\n      <td>M0125000004730</td>\n      <td>11/19/2010</td>\n      <td>09/28/2026</td>\n      <td>364482</td>\n      <td>50530</td>\n      <td>80386</td>\n      <td>-233566</td>\n    </tr>\n  </tbody>\n</table>\n</div>"
     },
     "execution_count": 18,
     "metadata": {},
     "output_type": "execute_result"
    }
   ],
   "source": [
    "# Clean the numeric columns\n",
    "numeric_columns = ['assmt_taxes', 'pilot_contract_amt',\n",
    "       'pilot_debt_service_amt', 'difference']\n",
    "df = clean_columns(df, numeric_columns, [remove_special_for_numbers, convert_only_dash_to_missing])\n",
    "\n",
    "df"
   ],
   "metadata": {
    "collapsed": false,
    "ExecuteTime": {
     "end_time": "2024-04-01T01:01:50.821988Z",
     "start_time": "2024-04-01T01:01:50.772523Z"
    }
   },
   "id": "fd553dbc31168c70"
  },
  {
   "cell_type": "code",
   "execution_count": 19,
   "outputs": [
    {
     "data": {
      "text/plain": "               owner    location pilot_parcel_no underlying_parcel_number  \\\n0  ceva ingram micro  3820 micro  IDB0000M000010           M0125000004730   \n\n  begin_date   end_date assmt_taxes pilot_contract_amt pilot_debt_service_amt  \\\n0 2010-11-19 2026-09-28      364482              50530                  80386   \n\n  difference  \n0    -233566  ",
      "text/html": "<div>\n<style scoped>\n    .dataframe tbody tr th:only-of-type {\n        vertical-align: middle;\n    }\n\n    .dataframe tbody tr th {\n        vertical-align: top;\n    }\n\n    .dataframe thead th {\n        text-align: right;\n    }\n</style>\n<table border=\"1\" class=\"dataframe\">\n  <thead>\n    <tr style=\"text-align: right;\">\n      <th></th>\n      <th>owner</th>\n      <th>location</th>\n      <th>pilot_parcel_no</th>\n      <th>underlying_parcel_number</th>\n      <th>begin_date</th>\n      <th>end_date</th>\n      <th>assmt_taxes</th>\n      <th>pilot_contract_amt</th>\n      <th>pilot_debt_service_amt</th>\n      <th>difference</th>\n    </tr>\n  </thead>\n  <tbody>\n    <tr>\n      <th>0</th>\n      <td>ceva ingram micro</td>\n      <td>3820 micro</td>\n      <td>IDB0000M000010</td>\n      <td>M0125000004730</td>\n      <td>2010-11-19</td>\n      <td>2026-09-28</td>\n      <td>364482</td>\n      <td>50530</td>\n      <td>80386</td>\n      <td>-233566</td>\n    </tr>\n  </tbody>\n</table>\n</div>"
     },
     "execution_count": 19,
     "metadata": {},
     "output_type": "execute_result"
    }
   ],
   "source": [
    "# Clean the date columns\n",
    "\n",
    "# Because this data has an idiosyncratic \"end date\" value of \"End of Loan\", \n",
    "# we must define a dataset-specific function\n",
    "def cast_end_date_to_datetime(entry: str | Number):\n",
    "    try:\n",
    "        return pd.to_datetime(str(entry))\n",
    "    except ValueError:\n",
    "        return entry\n",
    "df[\"begin_date\"] = pd.to_datetime(df[\"begin_date\"])\n",
    "df[\"end_date\"] = df[\"end_date\"].apply(lambda x: cast_end_date_to_datetime(x))\n",
    "df"
   ],
   "metadata": {
    "collapsed": false,
    "ExecuteTime": {
     "end_time": "2024-04-01T01:01:50.822086Z",
     "start_time": "2024-04-01T01:01:50.782160Z"
    }
   },
   "id": "1efa55d32b4be610"
  },
  {
   "cell_type": "code",
   "execution_count": 20,
   "outputs": [
    {
     "data": {
      "text/plain": "               owner    location   pilot_parcel_no underlying_parcel_number  \\\n0  ceva ingram micro  3820 micro  [IDB0000M000010]         [M0125000004730]   \n\n  begin_date   end_date assmt_taxes pilot_contract_amt pilot_debt_service_amt  \\\n0 2010-11-19 2026-09-28      364482              50530                  80386   \n\n  difference  \n0    -233566  ",
      "text/html": "<div>\n<style scoped>\n    .dataframe tbody tr th:only-of-type {\n        vertical-align: middle;\n    }\n\n    .dataframe tbody tr th {\n        vertical-align: top;\n    }\n\n    .dataframe thead th {\n        text-align: right;\n    }\n</style>\n<table border=\"1\" class=\"dataframe\">\n  <thead>\n    <tr style=\"text-align: right;\">\n      <th></th>\n      <th>owner</th>\n      <th>location</th>\n      <th>pilot_parcel_no</th>\n      <th>underlying_parcel_number</th>\n      <th>begin_date</th>\n      <th>end_date</th>\n      <th>assmt_taxes</th>\n      <th>pilot_contract_amt</th>\n      <th>pilot_debt_service_amt</th>\n      <th>difference</th>\n    </tr>\n  </thead>\n  <tbody>\n    <tr>\n      <th>0</th>\n      <td>ceva ingram micro</td>\n      <td>3820 micro</td>\n      <td>[IDB0000M000010]</td>\n      <td>[M0125000004730]</td>\n      <td>2010-11-19</td>\n      <td>2026-09-28</td>\n      <td>364482</td>\n      <td>50530</td>\n      <td>80386</td>\n      <td>-233566</td>\n    </tr>\n  </tbody>\n</table>\n</div>"
     },
     "execution_count": 20,
     "metadata": {},
     "output_type": "execute_result"
    }
   ],
   "source": [
    "# Clean the list columns\n",
    "\n",
    "# Pandas always reads in lists as strings, so they will ultimately be converted to a string type, but putting them in lists firsts will allow us to convert them back to lists more quickly the next time we read them in because the list brackets will be included \n",
    "# in the output string\n",
    "\n",
    "list_columns = [\"pilot_parcel_no\", \"underlying_parcel_number\"]\n",
    "for col in list_columns:\n",
    "    df[col] = df[col].apply(lambda x: str(x).split(\",\"))\n",
    "df"
   ],
   "metadata": {
    "collapsed": false,
    "ExecuteTime": {
     "end_time": "2024-04-01T01:01:50.822181Z",
     "start_time": "2024-04-01T01:01:50.789576Z"
    }
   },
   "id": "5a2ebeae72c53116"
  },
  {
   "cell_type": "code",
   "execution_count": 21,
   "outputs": [
    {
     "data": {
      "text/plain": "                          owner    location   pilot_parcel_no  \\\nowner_id                                                        \n95ed9e8d0dcb  ceva ingram micro  3820 micro  [IDB0000M000010]   \n\n             underlying_parcel_number begin_date   end_date assmt_taxes  \\\nowner_id                                                                  \n95ed9e8d0dcb         [M0125000004730] 2010-11-19 2026-09-28      364482   \n\n             pilot_contract_amt pilot_debt_service_amt difference  \nowner_id                                                           \n95ed9e8d0dcb              50530                  80386    -233566  ",
      "text/html": "<div>\n<style scoped>\n    .dataframe tbody tr th:only-of-type {\n        vertical-align: middle;\n    }\n\n    .dataframe tbody tr th {\n        vertical-align: top;\n    }\n\n    .dataframe thead th {\n        text-align: right;\n    }\n</style>\n<table border=\"1\" class=\"dataframe\">\n  <thead>\n    <tr style=\"text-align: right;\">\n      <th></th>\n      <th>owner</th>\n      <th>location</th>\n      <th>pilot_parcel_no</th>\n      <th>underlying_parcel_number</th>\n      <th>begin_date</th>\n      <th>end_date</th>\n      <th>assmt_taxes</th>\n      <th>pilot_contract_amt</th>\n      <th>pilot_debt_service_amt</th>\n      <th>difference</th>\n    </tr>\n    <tr>\n      <th>owner_id</th>\n      <th></th>\n      <th></th>\n      <th></th>\n      <th></th>\n      <th></th>\n      <th></th>\n      <th></th>\n      <th></th>\n      <th></th>\n      <th></th>\n    </tr>\n  </thead>\n  <tbody>\n    <tr>\n      <th>95ed9e8d0dcb</th>\n      <td>ceva ingram micro</td>\n      <td>3820 micro</td>\n      <td>[IDB0000M000010]</td>\n      <td>[M0125000004730]</td>\n      <td>2010-11-19</td>\n      <td>2026-09-28</td>\n      <td>364482</td>\n      <td>50530</td>\n      <td>80386</td>\n      <td>-233566</td>\n    </tr>\n  </tbody>\n</table>\n</div>"
     },
     "execution_count": 21,
     "metadata": {},
     "output_type": "execute_result"
    }
   ],
   "source": [
    "# Create a unique index column based on the values in the identifying column\n",
    "# Note: Ids are based on a deterministic hash, which means they are \n",
    "# reproducible even if the function is run by a different user at a different time,\n",
    "# as long as the string in the identifying column is the same. \n",
    "\n",
    "identifying_columns = [\"owner\"]\n",
    "index_name = \"owner_id\"\n",
    "df = set_unique_index(df=df, columns_to_hash = identifying_columns, index_length_limit=12, index_name=index_name)\n",
    "df"
   ],
   "metadata": {
    "collapsed": false,
    "ExecuteTime": {
     "end_time": "2024-04-01T01:01:50.822281Z",
     "start_time": "2024-04-01T01:01:50.797279Z"
    }
   },
   "id": "fa13dd82fd715b68"
  },
  {
   "cell_type": "code",
   "execution_count": 22,
   "outputs": [
    {
     "data": {
      "text/plain": "owner                               object\nlocation                            object\npilot_parcel_no                     object\nunderlying_parcel_number            object\nbegin_date                  datetime64[ns]\nend_date                    datetime64[ns]\nassmt_taxes                         object\npilot_contract_amt                  object\npilot_debt_service_amt              object\ndifference                          object\ndtype: object"
     },
     "execution_count": 22,
     "metadata": {},
     "output_type": "execute_result"
    }
   ],
   "source": [
    "# Check the data types of each variable\n",
    "df.dtypes"
   ],
   "metadata": {
    "collapsed": false,
    "ExecuteTime": {
     "end_time": "2024-04-01T01:01:50.822985Z",
     "start_time": "2024-04-01T01:01:50.802220Z"
    }
   },
   "id": "fb1c412d6c764d7b"
  },
  {
   "cell_type": "code",
   "execution_count": 23,
   "outputs": [
    {
     "data": {
      "text/plain": "owner                       string[python]\nlocation                    string[python]\npilot_parcel_no             string[python]\nunderlying_parcel_number    string[python]\nbegin_date                  datetime64[ns]\nend_date                            object\nassmt_taxes                        float64\npilot_contract_amt                 float64\npilot_debt_service_amt             float64\ndifference                         float64\ndtype: object"
     },
     "execution_count": 23,
     "metadata": {},
     "output_type": "execute_result"
    }
   ],
   "source": [
    "# Fix the data type of each variable\n",
    "\n",
    "names_to_types = {'owner': 'string',\n",
    "                  'location': 'string',\n",
    "                  'pilot_parcel_no': 'string', \n",
    "                  'underlying_parcel_number': 'string',\n",
    "                  'begin_date': 'datetime64[ns]', \n",
    "                  'end_date': 'object',\n",
    "                  'assmt_taxes': 'float64',\n",
    "                  'pilot_contract_amt': 'float64',\n",
    "       'pilot_debt_service_amt': 'float64', \n",
    "                  'difference': 'float64'}\n",
    "df = cast_data_types(df, names_to_types)\n",
    "df.dtypes"
   ],
   "metadata": {
    "collapsed": false,
    "ExecuteTime": {
     "end_time": "2024-04-01T01:01:50.823154Z",
     "start_time": "2024-04-01T01:01:50.808790Z"
    }
   },
   "id": "fa0f0232d27d41fe"
  },
  {
   "cell_type": "code",
   "execution_count": 24,
   "outputs": [],
   "source": [
    "# Save the now-clean csv and convert it to utf-8 format\n",
    "outfile_path = \"../data/processed/s13_2021_idb_millington.csv\"\n",
    "df.to_csv(outfile_path)\n",
    "convert_utf8(original_file_path=outfile_path, new_file_path=outfile_path)"
   ],
   "metadata": {
    "collapsed": false,
    "ExecuteTime": {
     "end_time": "2024-04-01T01:01:50.823313Z",
     "start_time": "2024-04-01T01:01:50.812508Z"
    }
   },
   "id": "209e2ad7bce3421"
  },
  {
   "cell_type": "code",
   "execution_count": 24,
   "outputs": [],
   "source": [],
   "metadata": {
    "collapsed": false,
    "ExecuteTime": {
     "end_time": "2024-04-01T01:01:50.823367Z",
     "start_time": "2024-04-01T01:01:50.818742Z"
    }
   },
   "id": "932f14634f70a566"
  }
 ],
 "metadata": {
  "kernelspec": {
   "display_name": "Python 3",
   "language": "python",
   "name": "python3"
  },
  "language_info": {
   "codemirror_mode": {
    "name": "ipython",
    "version": 2
   },
   "file_extension": ".py",
   "mimetype": "text/x-python",
   "name": "python",
   "nbconvert_exporter": "python",
   "pygments_lexer": "ipython2",
   "version": "2.7.6"
  }
 },
 "nbformat": 4,
 "nbformat_minor": 5
}
