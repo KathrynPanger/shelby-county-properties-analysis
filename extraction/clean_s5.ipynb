{
 "cells": [
  {
   "cell_type": "code",
   "execution_count": 26,
   "outputs": [],
   "source": [
    "import pandas as pd\n",
    "from utils import *\n",
    "from typing import Any"
   ],
   "metadata": {
    "collapsed": false,
    "ExecuteTime": {
     "end_time": "2024-04-01T00:59:48.403252Z",
     "start_time": "2024-04-01T00:59:48.338909Z"
    }
   },
   "id": "f890863474a831e4"
  },
  {
   "cell_type": "markdown",
   "source": [
    "<h1>Cleaning a CSV</h1>"
   ],
   "metadata": {
    "collapsed": false
   },
   "id": "37c2459a70173916"
  },
  {
   "cell_type": "markdown",
   "source": [
    "Read in a CSV"
   ],
   "metadata": {
    "collapsed": false
   },
   "id": "70312fa54485148"
  },
  {
   "cell_type": "code",
   "execution_count": 27,
   "outputs": [
    {
     "data": {
      "text/plain": "                               Owner        Location PILOT Parcel No  \\\n0                   ST PETER'S MANOR  108 AUBURNDALE  IPH0000A000000   \n1              HIGHLAND MEADOWS APTS   3517 ANDY WAY  IPH0000B000000   \n2  COUNTRYSIDE NORTH APARTMENTS L.P.      6920 REESE  IPH0000D000000   \n3         APARTMENTS AT LAPALOMA LTD       0 PARKWAY  IPH0000F000000   \n4       THE TREZEVANT EPISCOPAL HOME       0 WAYNOKA  IPH0001S000000   \n5     WESLEY GRACELAND GARDENS, L.P.     1445 RAINES  IPH0001U000000   \n\n                         Underlying Parcel Number  Begin Date    End Date  \\\n0                                   1704800000290  09/26/1977  10/01/2048   \n1                                  0830200000017C  10/16/1989  12/01/2029   \n2                                   9510000000750  12/01/1998  12/01/2038   \n3                                  0310940000003C  12/01/1998  12/01/2029   \n4  04404300000690, 04404300000700, 04404300000710  03/28/2006  03/28/2034   \n5  07900400000060, 07900400000090, 07900400000100  08/01/2016  08/23/2033   \n\n  Assmt Taxes PILOT Contract Amt PILOT Debt Service Amt Difference  \n0    $128,377             $6,792                     $0  -$121,585  \n1    $122,950                $89                     $0  -$122,861  \n2     $91,035            $26,512                     $0   -$64,523  \n3     $28,646             $3,513                     $0   -$25,133  \n4    $536,553            $47,460                     $0  -$489,093  \n5    $127,867             $4,230                     $0  -$123,637  ",
      "text/html": "<div>\n<style scoped>\n    .dataframe tbody tr th:only-of-type {\n        vertical-align: middle;\n    }\n\n    .dataframe tbody tr th {\n        vertical-align: top;\n    }\n\n    .dataframe thead th {\n        text-align: right;\n    }\n</style>\n<table border=\"1\" class=\"dataframe\">\n  <thead>\n    <tr style=\"text-align: right;\">\n      <th></th>\n      <th>Owner</th>\n      <th>Location</th>\n      <th>PILOT Parcel No</th>\n      <th>Underlying Parcel Number</th>\n      <th>Begin Date</th>\n      <th>End Date</th>\n      <th>Assmt Taxes</th>\n      <th>PILOT Contract Amt</th>\n      <th>PILOT Debt Service Amt</th>\n      <th>Difference</th>\n    </tr>\n  </thead>\n  <tbody>\n    <tr>\n      <th>0</th>\n      <td>ST PETER'S MANOR</td>\n      <td>108 AUBURNDALE</td>\n      <td>IPH0000A000000</td>\n      <td>1704800000290</td>\n      <td>09/26/1977</td>\n      <td>10/01/2048</td>\n      <td>$128,377</td>\n      <td>$6,792</td>\n      <td>$0</td>\n      <td>-$121,585</td>\n    </tr>\n    <tr>\n      <th>1</th>\n      <td>HIGHLAND MEADOWS APTS</td>\n      <td>3517 ANDY WAY</td>\n      <td>IPH0000B000000</td>\n      <td>0830200000017C</td>\n      <td>10/16/1989</td>\n      <td>12/01/2029</td>\n      <td>$122,950</td>\n      <td>$89</td>\n      <td>$0</td>\n      <td>-$122,861</td>\n    </tr>\n    <tr>\n      <th>2</th>\n      <td>COUNTRYSIDE NORTH APARTMENTS L.P.</td>\n      <td>6920 REESE</td>\n      <td>IPH0000D000000</td>\n      <td>9510000000750</td>\n      <td>12/01/1998</td>\n      <td>12/01/2038</td>\n      <td>$91,035</td>\n      <td>$26,512</td>\n      <td>$0</td>\n      <td>-$64,523</td>\n    </tr>\n    <tr>\n      <th>3</th>\n      <td>APARTMENTS AT LAPALOMA LTD</td>\n      <td>0 PARKWAY</td>\n      <td>IPH0000F000000</td>\n      <td>0310940000003C</td>\n      <td>12/01/1998</td>\n      <td>12/01/2029</td>\n      <td>$28,646</td>\n      <td>$3,513</td>\n      <td>$0</td>\n      <td>-$25,133</td>\n    </tr>\n    <tr>\n      <th>4</th>\n      <td>THE TREZEVANT EPISCOPAL HOME</td>\n      <td>0 WAYNOKA</td>\n      <td>IPH0001S000000</td>\n      <td>04404300000690, 04404300000700, 04404300000710</td>\n      <td>03/28/2006</td>\n      <td>03/28/2034</td>\n      <td>$536,553</td>\n      <td>$47,460</td>\n      <td>$0</td>\n      <td>-$489,093</td>\n    </tr>\n    <tr>\n      <th>5</th>\n      <td>WESLEY GRACELAND GARDENS, L.P.</td>\n      <td>1445 RAINES</td>\n      <td>IPH0001U000000</td>\n      <td>07900400000060, 07900400000090, 07900400000100</td>\n      <td>08/01/2016</td>\n      <td>08/23/2033</td>\n      <td>$127,867</td>\n      <td>$4,230</td>\n      <td>$0</td>\n      <td>-$123,637</td>\n    </tr>\n  </tbody>\n</table>\n</div>"
     },
     "execution_count": 27,
     "metadata": {},
     "output_type": "execute_result"
    }
   ],
   "source": [
    "# load a dataframe\n",
    "infile_path = \"../data/raw/silver_shelby_county_properties_municipality_breakdown - s5_2022_iph.csv\"\n",
    "df = pd.read_csv(infile_path)\n",
    "df"
   ],
   "metadata": {
    "collapsed": false,
    "ExecuteTime": {
     "end_time": "2024-04-01T00:59:48.406375Z",
     "start_time": "2024-04-01T00:59:48.345199Z"
    }
   },
   "id": "50cef4de40a6855d"
  },
  {
   "cell_type": "code",
   "execution_count": 28,
   "outputs": [
    {
     "data": {
      "text/plain": "Index(['owner', 'location', 'pilot_parcel_no', 'underlying_parcel_number',\n       'begin_date', 'end_date', 'assmt_taxes', 'pilot_contract_amt',\n       'pilot_debt_service_amt', 'difference'],\n      dtype='object')"
     },
     "execution_count": 28,
     "metadata": {},
     "output_type": "execute_result"
    }
   ],
   "source": [
    "# Clean the column headers\n",
    "df = clean_headers(df, [remove_special_for_words, truncate, snake_case, lower_case])\n",
    "df.columns"
   ],
   "metadata": {
    "collapsed": false,
    "ExecuteTime": {
     "end_time": "2024-04-01T00:59:48.407Z",
     "start_time": "2024-04-01T00:59:48.361646Z"
    }
   },
   "id": "f8e6a7fb4013b6e6"
  },
  {
   "cell_type": "code",
   "execution_count": 29,
   "outputs": [
    {
     "data": {
      "text/plain": "                              owner        location pilot_parcel_no  \\\n0                  st peter s manor  108 auburndale  IPH0000A000000   \n1             highland meadows apts   3517 andy way  IPH0000B000000   \n2  countryside north apartments l p      6920 reese  IPH0000D000000   \n3        apartments at lapaloma ltd       0 parkway  IPH0000F000000   \n4      the trezevant episcopal home       0 waynoka  IPH0001S000000   \n5      wesley graceland gardens l p     1445 raines  IPH0001U000000   \n\n                         underlying_parcel_number  begin_date    end_date  \\\n0                                   1704800000290  09/26/1977  10/01/2048   \n1                                  0830200000017C  10/16/1989  12/01/2029   \n2                                   9510000000750  12/01/1998  12/01/2038   \n3                                  0310940000003C  12/01/1998  12/01/2029   \n4  04404300000690, 04404300000700, 04404300000710  03/28/2006  03/28/2034   \n5  07900400000060, 07900400000090, 07900400000100  08/01/2016  08/23/2033   \n\n  assmt_taxes pilot_contract_amt pilot_debt_service_amt difference  \n0    $128,377             $6,792                     $0  -$121,585  \n1    $122,950                $89                     $0  -$122,861  \n2     $91,035            $26,512                     $0   -$64,523  \n3     $28,646             $3,513                     $0   -$25,133  \n4    $536,553            $47,460                     $0  -$489,093  \n5    $127,867             $4,230                     $0  -$123,637  ",
      "text/html": "<div>\n<style scoped>\n    .dataframe tbody tr th:only-of-type {\n        vertical-align: middle;\n    }\n\n    .dataframe tbody tr th {\n        vertical-align: top;\n    }\n\n    .dataframe thead th {\n        text-align: right;\n    }\n</style>\n<table border=\"1\" class=\"dataframe\">\n  <thead>\n    <tr style=\"text-align: right;\">\n      <th></th>\n      <th>owner</th>\n      <th>location</th>\n      <th>pilot_parcel_no</th>\n      <th>underlying_parcel_number</th>\n      <th>begin_date</th>\n      <th>end_date</th>\n      <th>assmt_taxes</th>\n      <th>pilot_contract_amt</th>\n      <th>pilot_debt_service_amt</th>\n      <th>difference</th>\n    </tr>\n  </thead>\n  <tbody>\n    <tr>\n      <th>0</th>\n      <td>st peter s manor</td>\n      <td>108 auburndale</td>\n      <td>IPH0000A000000</td>\n      <td>1704800000290</td>\n      <td>09/26/1977</td>\n      <td>10/01/2048</td>\n      <td>$128,377</td>\n      <td>$6,792</td>\n      <td>$0</td>\n      <td>-$121,585</td>\n    </tr>\n    <tr>\n      <th>1</th>\n      <td>highland meadows apts</td>\n      <td>3517 andy way</td>\n      <td>IPH0000B000000</td>\n      <td>0830200000017C</td>\n      <td>10/16/1989</td>\n      <td>12/01/2029</td>\n      <td>$122,950</td>\n      <td>$89</td>\n      <td>$0</td>\n      <td>-$122,861</td>\n    </tr>\n    <tr>\n      <th>2</th>\n      <td>countryside north apartments l p</td>\n      <td>6920 reese</td>\n      <td>IPH0000D000000</td>\n      <td>9510000000750</td>\n      <td>12/01/1998</td>\n      <td>12/01/2038</td>\n      <td>$91,035</td>\n      <td>$26,512</td>\n      <td>$0</td>\n      <td>-$64,523</td>\n    </tr>\n    <tr>\n      <th>3</th>\n      <td>apartments at lapaloma ltd</td>\n      <td>0 parkway</td>\n      <td>IPH0000F000000</td>\n      <td>0310940000003C</td>\n      <td>12/01/1998</td>\n      <td>12/01/2029</td>\n      <td>$28,646</td>\n      <td>$3,513</td>\n      <td>$0</td>\n      <td>-$25,133</td>\n    </tr>\n    <tr>\n      <th>4</th>\n      <td>the trezevant episcopal home</td>\n      <td>0 waynoka</td>\n      <td>IPH0001S000000</td>\n      <td>04404300000690, 04404300000700, 04404300000710</td>\n      <td>03/28/2006</td>\n      <td>03/28/2034</td>\n      <td>$536,553</td>\n      <td>$47,460</td>\n      <td>$0</td>\n      <td>-$489,093</td>\n    </tr>\n    <tr>\n      <th>5</th>\n      <td>wesley graceland gardens l p</td>\n      <td>1445 raines</td>\n      <td>IPH0001U000000</td>\n      <td>07900400000060, 07900400000090, 07900400000100</td>\n      <td>08/01/2016</td>\n      <td>08/23/2033</td>\n      <td>$127,867</td>\n      <td>$4,230</td>\n      <td>$0</td>\n      <td>-$123,637</td>\n    </tr>\n  </tbody>\n</table>\n</div>"
     },
     "execution_count": 29,
     "metadata": {},
     "output_type": "execute_result"
    }
   ],
   "source": [
    "# Clean the string columns\n",
    "string_columns = [\"owner\", \n",
    "                  \"location\"]\n",
    "df = clean_columns(df, string_columns, [remove_special_for_words, truncate, lower_case])\n",
    "df"
   ],
   "metadata": {
    "collapsed": false,
    "ExecuteTime": {
     "end_time": "2024-04-01T00:59:48.407169Z",
     "start_time": "2024-04-01T00:59:48.371111Z"
    }
   },
   "id": "67171db99d8fff6d"
  },
  {
   "cell_type": "code",
   "execution_count": 30,
   "outputs": [
    {
     "data": {
      "text/plain": "Index(['owner', 'location', 'pilot_parcel_no', 'underlying_parcel_number',\n       'begin_date', 'end_date', 'assmt_taxes', 'pilot_contract_amt',\n       'pilot_debt_service_amt', 'difference'],\n      dtype='object')"
     },
     "execution_count": 30,
     "metadata": {},
     "output_type": "execute_result"
    }
   ],
   "source": [
    "df.columns"
   ],
   "metadata": {
    "collapsed": false,
    "ExecuteTime": {
     "end_time": "2024-04-01T00:59:48.407258Z",
     "start_time": "2024-04-01T00:59:48.374653Z"
    }
   },
   "id": "4484a9731b2bde17"
  },
  {
   "cell_type": "code",
   "execution_count": 31,
   "outputs": [
    {
     "data": {
      "text/plain": "                              owner        location pilot_parcel_no  \\\n0                  st peter s manor  108 auburndale  IPH0000A000000   \n1             highland meadows apts   3517 andy way  IPH0000B000000   \n2  countryside north apartments l p      6920 reese  IPH0000D000000   \n3        apartments at lapaloma ltd       0 parkway  IPH0000F000000   \n4      the trezevant episcopal home       0 waynoka  IPH0001S000000   \n5      wesley graceland gardens l p     1445 raines  IPH0001U000000   \n\n                         underlying_parcel_number  begin_date    end_date  \\\n0                                   1704800000290  09/26/1977  10/01/2048   \n1                                  0830200000017C  10/16/1989  12/01/2029   \n2                                   9510000000750  12/01/1998  12/01/2038   \n3                                  0310940000003C  12/01/1998  12/01/2029   \n4  04404300000690, 04404300000700, 04404300000710  03/28/2006  03/28/2034   \n5  07900400000060, 07900400000090, 07900400000100  08/01/2016  08/23/2033   \n\n  assmt_taxes pilot_contract_amt pilot_debt_service_amt difference  \n0      128377               6792                      0    -121585  \n1      122950                 89                      0    -122861  \n2       91035              26512                      0     -64523  \n3       28646               3513                      0     -25133  \n4      536553              47460                      0    -489093  \n5      127867               4230                      0    -123637  ",
      "text/html": "<div>\n<style scoped>\n    .dataframe tbody tr th:only-of-type {\n        vertical-align: middle;\n    }\n\n    .dataframe tbody tr th {\n        vertical-align: top;\n    }\n\n    .dataframe thead th {\n        text-align: right;\n    }\n</style>\n<table border=\"1\" class=\"dataframe\">\n  <thead>\n    <tr style=\"text-align: right;\">\n      <th></th>\n      <th>owner</th>\n      <th>location</th>\n      <th>pilot_parcel_no</th>\n      <th>underlying_parcel_number</th>\n      <th>begin_date</th>\n      <th>end_date</th>\n      <th>assmt_taxes</th>\n      <th>pilot_contract_amt</th>\n      <th>pilot_debt_service_amt</th>\n      <th>difference</th>\n    </tr>\n  </thead>\n  <tbody>\n    <tr>\n      <th>0</th>\n      <td>st peter s manor</td>\n      <td>108 auburndale</td>\n      <td>IPH0000A000000</td>\n      <td>1704800000290</td>\n      <td>09/26/1977</td>\n      <td>10/01/2048</td>\n      <td>128377</td>\n      <td>6792</td>\n      <td>0</td>\n      <td>-121585</td>\n    </tr>\n    <tr>\n      <th>1</th>\n      <td>highland meadows apts</td>\n      <td>3517 andy way</td>\n      <td>IPH0000B000000</td>\n      <td>0830200000017C</td>\n      <td>10/16/1989</td>\n      <td>12/01/2029</td>\n      <td>122950</td>\n      <td>89</td>\n      <td>0</td>\n      <td>-122861</td>\n    </tr>\n    <tr>\n      <th>2</th>\n      <td>countryside north apartments l p</td>\n      <td>6920 reese</td>\n      <td>IPH0000D000000</td>\n      <td>9510000000750</td>\n      <td>12/01/1998</td>\n      <td>12/01/2038</td>\n      <td>91035</td>\n      <td>26512</td>\n      <td>0</td>\n      <td>-64523</td>\n    </tr>\n    <tr>\n      <th>3</th>\n      <td>apartments at lapaloma ltd</td>\n      <td>0 parkway</td>\n      <td>IPH0000F000000</td>\n      <td>0310940000003C</td>\n      <td>12/01/1998</td>\n      <td>12/01/2029</td>\n      <td>28646</td>\n      <td>3513</td>\n      <td>0</td>\n      <td>-25133</td>\n    </tr>\n    <tr>\n      <th>4</th>\n      <td>the trezevant episcopal home</td>\n      <td>0 waynoka</td>\n      <td>IPH0001S000000</td>\n      <td>04404300000690, 04404300000700, 04404300000710</td>\n      <td>03/28/2006</td>\n      <td>03/28/2034</td>\n      <td>536553</td>\n      <td>47460</td>\n      <td>0</td>\n      <td>-489093</td>\n    </tr>\n    <tr>\n      <th>5</th>\n      <td>wesley graceland gardens l p</td>\n      <td>1445 raines</td>\n      <td>IPH0001U000000</td>\n      <td>07900400000060, 07900400000090, 07900400000100</td>\n      <td>08/01/2016</td>\n      <td>08/23/2033</td>\n      <td>127867</td>\n      <td>4230</td>\n      <td>0</td>\n      <td>-123637</td>\n    </tr>\n  </tbody>\n</table>\n</div>"
     },
     "execution_count": 31,
     "metadata": {},
     "output_type": "execute_result"
    }
   ],
   "source": [
    "# Clean the numeric columns\n",
    "numeric_columns = ['assmt_taxes', 'pilot_contract_amt',\n",
    "       'pilot_debt_service_amt', 'difference']\n",
    "df = clean_columns(df, numeric_columns, [remove_special_for_numbers, convert_only_dash_to_missing])\n",
    "\n",
    "df"
   ],
   "metadata": {
    "collapsed": false,
    "ExecuteTime": {
     "end_time": "2024-04-01T00:59:48.407407Z",
     "start_time": "2024-04-01T00:59:48.383313Z"
    }
   },
   "id": "fd553dbc31168c70"
  },
  {
   "cell_type": "code",
   "execution_count": 32,
   "outputs": [
    {
     "data": {
      "text/plain": "                              owner        location pilot_parcel_no  \\\n0                  st peter s manor  108 auburndale  IPH0000A000000   \n1             highland meadows apts   3517 andy way  IPH0000B000000   \n2  countryside north apartments l p      6920 reese  IPH0000D000000   \n3        apartments at lapaloma ltd       0 parkway  IPH0000F000000   \n4      the trezevant episcopal home       0 waynoka  IPH0001S000000   \n5      wesley graceland gardens l p     1445 raines  IPH0001U000000   \n\n                         underlying_parcel_number begin_date   end_date  \\\n0                                   1704800000290 1977-09-26 2048-10-01   \n1                                  0830200000017C 1989-10-16 2029-12-01   \n2                                   9510000000750 1998-12-01 2038-12-01   \n3                                  0310940000003C 1998-12-01 2029-12-01   \n4  04404300000690, 04404300000700, 04404300000710 2006-03-28 2034-03-28   \n5  07900400000060, 07900400000090, 07900400000100 2016-08-01 2033-08-23   \n\n  assmt_taxes pilot_contract_amt pilot_debt_service_amt difference  \n0      128377               6792                      0    -121585  \n1      122950                 89                      0    -122861  \n2       91035              26512                      0     -64523  \n3       28646               3513                      0     -25133  \n4      536553              47460                      0    -489093  \n5      127867               4230                      0    -123637  ",
      "text/html": "<div>\n<style scoped>\n    .dataframe tbody tr th:only-of-type {\n        vertical-align: middle;\n    }\n\n    .dataframe tbody tr th {\n        vertical-align: top;\n    }\n\n    .dataframe thead th {\n        text-align: right;\n    }\n</style>\n<table border=\"1\" class=\"dataframe\">\n  <thead>\n    <tr style=\"text-align: right;\">\n      <th></th>\n      <th>owner</th>\n      <th>location</th>\n      <th>pilot_parcel_no</th>\n      <th>underlying_parcel_number</th>\n      <th>begin_date</th>\n      <th>end_date</th>\n      <th>assmt_taxes</th>\n      <th>pilot_contract_amt</th>\n      <th>pilot_debt_service_amt</th>\n      <th>difference</th>\n    </tr>\n  </thead>\n  <tbody>\n    <tr>\n      <th>0</th>\n      <td>st peter s manor</td>\n      <td>108 auburndale</td>\n      <td>IPH0000A000000</td>\n      <td>1704800000290</td>\n      <td>1977-09-26</td>\n      <td>2048-10-01</td>\n      <td>128377</td>\n      <td>6792</td>\n      <td>0</td>\n      <td>-121585</td>\n    </tr>\n    <tr>\n      <th>1</th>\n      <td>highland meadows apts</td>\n      <td>3517 andy way</td>\n      <td>IPH0000B000000</td>\n      <td>0830200000017C</td>\n      <td>1989-10-16</td>\n      <td>2029-12-01</td>\n      <td>122950</td>\n      <td>89</td>\n      <td>0</td>\n      <td>-122861</td>\n    </tr>\n    <tr>\n      <th>2</th>\n      <td>countryside north apartments l p</td>\n      <td>6920 reese</td>\n      <td>IPH0000D000000</td>\n      <td>9510000000750</td>\n      <td>1998-12-01</td>\n      <td>2038-12-01</td>\n      <td>91035</td>\n      <td>26512</td>\n      <td>0</td>\n      <td>-64523</td>\n    </tr>\n    <tr>\n      <th>3</th>\n      <td>apartments at lapaloma ltd</td>\n      <td>0 parkway</td>\n      <td>IPH0000F000000</td>\n      <td>0310940000003C</td>\n      <td>1998-12-01</td>\n      <td>2029-12-01</td>\n      <td>28646</td>\n      <td>3513</td>\n      <td>0</td>\n      <td>-25133</td>\n    </tr>\n    <tr>\n      <th>4</th>\n      <td>the trezevant episcopal home</td>\n      <td>0 waynoka</td>\n      <td>IPH0001S000000</td>\n      <td>04404300000690, 04404300000700, 04404300000710</td>\n      <td>2006-03-28</td>\n      <td>2034-03-28</td>\n      <td>536553</td>\n      <td>47460</td>\n      <td>0</td>\n      <td>-489093</td>\n    </tr>\n    <tr>\n      <th>5</th>\n      <td>wesley graceland gardens l p</td>\n      <td>1445 raines</td>\n      <td>IPH0001U000000</td>\n      <td>07900400000060, 07900400000090, 07900400000100</td>\n      <td>2016-08-01</td>\n      <td>2033-08-23</td>\n      <td>127867</td>\n      <td>4230</td>\n      <td>0</td>\n      <td>-123637</td>\n    </tr>\n  </tbody>\n</table>\n</div>"
     },
     "execution_count": 32,
     "metadata": {},
     "output_type": "execute_result"
    }
   ],
   "source": [
    "# Clean the date columns\n",
    "\n",
    "# Because this data has an idiosyncratic \"end date\" value of \"End of Loan\", \n",
    "# we must define a dataset-specific function\n",
    "def cast_end_date_to_datetime(entry: str | Number):\n",
    "    try:\n",
    "        return pd.to_datetime(str(entry))\n",
    "    except ValueError:\n",
    "        return entry\n",
    "df[\"begin_date\"] = pd.to_datetime(df[\"begin_date\"])\n",
    "df[\"end_date\"] = df[\"end_date\"].apply(lambda x: cast_end_date_to_datetime(x))\n",
    "df"
   ],
   "metadata": {
    "collapsed": false,
    "ExecuteTime": {
     "end_time": "2024-04-01T00:59:48.407600Z",
     "start_time": "2024-04-01T00:59:48.394562Z"
    }
   },
   "id": "1efa55d32b4be610"
  },
  {
   "cell_type": "code",
   "execution_count": 33,
   "outputs": [
    {
     "data": {
      "text/plain": "                              owner        location   pilot_parcel_no  \\\n0                  st peter s manor  108 auburndale  [IPH0000A000000]   \n1             highland meadows apts   3517 andy way  [IPH0000B000000]   \n2  countryside north apartments l p      6920 reese  [IPH0000D000000]   \n3        apartments at lapaloma ltd       0 parkway  [IPH0000F000000]   \n4      the trezevant episcopal home       0 waynoka  [IPH0001S000000]   \n5      wesley graceland gardens l p     1445 raines  [IPH0001U000000]   \n\n                            underlying_parcel_number begin_date   end_date  \\\n0                                    [1704800000290] 1977-09-26 2048-10-01   \n1                                   [0830200000017C] 1989-10-16 2029-12-01   \n2                                    [9510000000750] 1998-12-01 2038-12-01   \n3                                   [0310940000003C] 1998-12-01 2029-12-01   \n4  [04404300000690,  04404300000700,  04404300000... 2006-03-28 2034-03-28   \n5  [07900400000060,  07900400000090,  07900400000... 2016-08-01 2033-08-23   \n\n  assmt_taxes pilot_contract_amt pilot_debt_service_amt difference  \n0      128377               6792                      0    -121585  \n1      122950                 89                      0    -122861  \n2       91035              26512                      0     -64523  \n3       28646               3513                      0     -25133  \n4      536553              47460                      0    -489093  \n5      127867               4230                      0    -123637  ",
      "text/html": "<div>\n<style scoped>\n    .dataframe tbody tr th:only-of-type {\n        vertical-align: middle;\n    }\n\n    .dataframe tbody tr th {\n        vertical-align: top;\n    }\n\n    .dataframe thead th {\n        text-align: right;\n    }\n</style>\n<table border=\"1\" class=\"dataframe\">\n  <thead>\n    <tr style=\"text-align: right;\">\n      <th></th>\n      <th>owner</th>\n      <th>location</th>\n      <th>pilot_parcel_no</th>\n      <th>underlying_parcel_number</th>\n      <th>begin_date</th>\n      <th>end_date</th>\n      <th>assmt_taxes</th>\n      <th>pilot_contract_amt</th>\n      <th>pilot_debt_service_amt</th>\n      <th>difference</th>\n    </tr>\n  </thead>\n  <tbody>\n    <tr>\n      <th>0</th>\n      <td>st peter s manor</td>\n      <td>108 auburndale</td>\n      <td>[IPH0000A000000]</td>\n      <td>[1704800000290]</td>\n      <td>1977-09-26</td>\n      <td>2048-10-01</td>\n      <td>128377</td>\n      <td>6792</td>\n      <td>0</td>\n      <td>-121585</td>\n    </tr>\n    <tr>\n      <th>1</th>\n      <td>highland meadows apts</td>\n      <td>3517 andy way</td>\n      <td>[IPH0000B000000]</td>\n      <td>[0830200000017C]</td>\n      <td>1989-10-16</td>\n      <td>2029-12-01</td>\n      <td>122950</td>\n      <td>89</td>\n      <td>0</td>\n      <td>-122861</td>\n    </tr>\n    <tr>\n      <th>2</th>\n      <td>countryside north apartments l p</td>\n      <td>6920 reese</td>\n      <td>[IPH0000D000000]</td>\n      <td>[9510000000750]</td>\n      <td>1998-12-01</td>\n      <td>2038-12-01</td>\n      <td>91035</td>\n      <td>26512</td>\n      <td>0</td>\n      <td>-64523</td>\n    </tr>\n    <tr>\n      <th>3</th>\n      <td>apartments at lapaloma ltd</td>\n      <td>0 parkway</td>\n      <td>[IPH0000F000000]</td>\n      <td>[0310940000003C]</td>\n      <td>1998-12-01</td>\n      <td>2029-12-01</td>\n      <td>28646</td>\n      <td>3513</td>\n      <td>0</td>\n      <td>-25133</td>\n    </tr>\n    <tr>\n      <th>4</th>\n      <td>the trezevant episcopal home</td>\n      <td>0 waynoka</td>\n      <td>[IPH0001S000000]</td>\n      <td>[04404300000690,  04404300000700,  04404300000...</td>\n      <td>2006-03-28</td>\n      <td>2034-03-28</td>\n      <td>536553</td>\n      <td>47460</td>\n      <td>0</td>\n      <td>-489093</td>\n    </tr>\n    <tr>\n      <th>5</th>\n      <td>wesley graceland gardens l p</td>\n      <td>1445 raines</td>\n      <td>[IPH0001U000000]</td>\n      <td>[07900400000060,  07900400000090,  07900400000...</td>\n      <td>2016-08-01</td>\n      <td>2033-08-23</td>\n      <td>127867</td>\n      <td>4230</td>\n      <td>0</td>\n      <td>-123637</td>\n    </tr>\n  </tbody>\n</table>\n</div>"
     },
     "execution_count": 33,
     "metadata": {},
     "output_type": "execute_result"
    }
   ],
   "source": [
    "# Clean the list columns\n",
    "\n",
    "# Pandas always reads in lists as strings, so they will ultimately be converted to a string type, but putting them in lists firsts will allow us to convert them back to lists more quickly the next time we read them in because the list brackets will be included \n",
    "# in the output string\n",
    "\n",
    "list_columns = [\"pilot_parcel_no\", \"underlying_parcel_number\"]\n",
    "for col in list_columns:\n",
    "    df[col] = df[col].apply(lambda x: str(x).split(\",\"))\n",
    "df"
   ],
   "metadata": {
    "collapsed": false,
    "ExecuteTime": {
     "end_time": "2024-04-01T00:59:48.409822Z",
     "start_time": "2024-04-01T00:59:48.397105Z"
    }
   },
   "id": "5a2ebeae72c53116"
  },
  {
   "cell_type": "code",
   "execution_count": 34,
   "outputs": [
    {
     "data": {
      "text/plain": "                                         owner        location  \\\nowner_id                                                         \n051a018be14c                  st peter s manor  108 auburndale   \n87106a47fd39             highland meadows apts   3517 andy way   \n5cf3e3c81542  countryside north apartments l p      6920 reese   \nfe50ebe8a3cc        apartments at lapaloma ltd       0 parkway   \n728ee4fde2a1      the trezevant episcopal home       0 waynoka   \ned07cbec1011      wesley graceland gardens l p     1445 raines   \n\n               pilot_parcel_no  \\\nowner_id                         \n051a018be14c  [IPH0000A000000]   \n87106a47fd39  [IPH0000B000000]   \n5cf3e3c81542  [IPH0000D000000]   \nfe50ebe8a3cc  [IPH0000F000000]   \n728ee4fde2a1  [IPH0001S000000]   \ned07cbec1011  [IPH0001U000000]   \n\n                                       underlying_parcel_number begin_date  \\\nowner_id                                                                     \n051a018be14c                                    [1704800000290] 1977-09-26   \n87106a47fd39                                   [0830200000017C] 1989-10-16   \n5cf3e3c81542                                    [9510000000750] 1998-12-01   \nfe50ebe8a3cc                                   [0310940000003C] 1998-12-01   \n728ee4fde2a1  [04404300000690,  04404300000700,  04404300000... 2006-03-28   \ned07cbec1011  [07900400000060,  07900400000090,  07900400000... 2016-08-01   \n\n               end_date assmt_taxes pilot_contract_amt pilot_debt_service_amt  \\\nowner_id                                                                        \n051a018be14c 2048-10-01      128377               6792                      0   \n87106a47fd39 2029-12-01      122950                 89                      0   \n5cf3e3c81542 2038-12-01       91035              26512                      0   \nfe50ebe8a3cc 2029-12-01       28646               3513                      0   \n728ee4fde2a1 2034-03-28      536553              47460                      0   \ned07cbec1011 2033-08-23      127867               4230                      0   \n\n             difference  \nowner_id                 \n051a018be14c    -121585  \n87106a47fd39    -122861  \n5cf3e3c81542     -64523  \nfe50ebe8a3cc     -25133  \n728ee4fde2a1    -489093  \ned07cbec1011    -123637  ",
      "text/html": "<div>\n<style scoped>\n    .dataframe tbody tr th:only-of-type {\n        vertical-align: middle;\n    }\n\n    .dataframe tbody tr th {\n        vertical-align: top;\n    }\n\n    .dataframe thead th {\n        text-align: right;\n    }\n</style>\n<table border=\"1\" class=\"dataframe\">\n  <thead>\n    <tr style=\"text-align: right;\">\n      <th></th>\n      <th>owner</th>\n      <th>location</th>\n      <th>pilot_parcel_no</th>\n      <th>underlying_parcel_number</th>\n      <th>begin_date</th>\n      <th>end_date</th>\n      <th>assmt_taxes</th>\n      <th>pilot_contract_amt</th>\n      <th>pilot_debt_service_amt</th>\n      <th>difference</th>\n    </tr>\n    <tr>\n      <th>owner_id</th>\n      <th></th>\n      <th></th>\n      <th></th>\n      <th></th>\n      <th></th>\n      <th></th>\n      <th></th>\n      <th></th>\n      <th></th>\n      <th></th>\n    </tr>\n  </thead>\n  <tbody>\n    <tr>\n      <th>051a018be14c</th>\n      <td>st peter s manor</td>\n      <td>108 auburndale</td>\n      <td>[IPH0000A000000]</td>\n      <td>[1704800000290]</td>\n      <td>1977-09-26</td>\n      <td>2048-10-01</td>\n      <td>128377</td>\n      <td>6792</td>\n      <td>0</td>\n      <td>-121585</td>\n    </tr>\n    <tr>\n      <th>87106a47fd39</th>\n      <td>highland meadows apts</td>\n      <td>3517 andy way</td>\n      <td>[IPH0000B000000]</td>\n      <td>[0830200000017C]</td>\n      <td>1989-10-16</td>\n      <td>2029-12-01</td>\n      <td>122950</td>\n      <td>89</td>\n      <td>0</td>\n      <td>-122861</td>\n    </tr>\n    <tr>\n      <th>5cf3e3c81542</th>\n      <td>countryside north apartments l p</td>\n      <td>6920 reese</td>\n      <td>[IPH0000D000000]</td>\n      <td>[9510000000750]</td>\n      <td>1998-12-01</td>\n      <td>2038-12-01</td>\n      <td>91035</td>\n      <td>26512</td>\n      <td>0</td>\n      <td>-64523</td>\n    </tr>\n    <tr>\n      <th>fe50ebe8a3cc</th>\n      <td>apartments at lapaloma ltd</td>\n      <td>0 parkway</td>\n      <td>[IPH0000F000000]</td>\n      <td>[0310940000003C]</td>\n      <td>1998-12-01</td>\n      <td>2029-12-01</td>\n      <td>28646</td>\n      <td>3513</td>\n      <td>0</td>\n      <td>-25133</td>\n    </tr>\n    <tr>\n      <th>728ee4fde2a1</th>\n      <td>the trezevant episcopal home</td>\n      <td>0 waynoka</td>\n      <td>[IPH0001S000000]</td>\n      <td>[04404300000690,  04404300000700,  04404300000...</td>\n      <td>2006-03-28</td>\n      <td>2034-03-28</td>\n      <td>536553</td>\n      <td>47460</td>\n      <td>0</td>\n      <td>-489093</td>\n    </tr>\n    <tr>\n      <th>ed07cbec1011</th>\n      <td>wesley graceland gardens l p</td>\n      <td>1445 raines</td>\n      <td>[IPH0001U000000]</td>\n      <td>[07900400000060,  07900400000090,  07900400000...</td>\n      <td>2016-08-01</td>\n      <td>2033-08-23</td>\n      <td>127867</td>\n      <td>4230</td>\n      <td>0</td>\n      <td>-123637</td>\n    </tr>\n  </tbody>\n</table>\n</div>"
     },
     "execution_count": 34,
     "metadata": {},
     "output_type": "execute_result"
    }
   ],
   "source": [
    "# Create a unique index column based on the values in the identifying column\n",
    "# Note: Ids are based on a deterministic hash, which means they are \n",
    "# reproducible even if the function is run by a different user at a different time,\n",
    "# as long as the string in the identifying column is the same. \n",
    "\n",
    "identifying_columns = [\"owner\"]\n",
    "index_name = \"owner_id\"\n",
    "df = set_unique_index(df=df, columns_to_hash = identifying_columns, index_length_limit=12, index_name=index_name)\n",
    "df"
   ],
   "metadata": {
    "collapsed": false,
    "ExecuteTime": {
     "end_time": "2024-04-01T00:59:48.420499Z",
     "start_time": "2024-04-01T00:59:48.413868Z"
    }
   },
   "id": "fa13dd82fd715b68"
  },
  {
   "cell_type": "code",
   "execution_count": 35,
   "outputs": [
    {
     "data": {
      "text/plain": "owner                               object\nlocation                            object\npilot_parcel_no                     object\nunderlying_parcel_number            object\nbegin_date                  datetime64[ns]\nend_date                    datetime64[ns]\nassmt_taxes                         object\npilot_contract_amt                  object\npilot_debt_service_amt              object\ndifference                          object\ndtype: object"
     },
     "execution_count": 35,
     "metadata": {},
     "output_type": "execute_result"
    }
   ],
   "source": [
    "# Check the data types of each variable\n",
    "df.dtypes"
   ],
   "metadata": {
    "collapsed": false,
    "ExecuteTime": {
     "end_time": "2024-04-01T00:59:48.425704Z",
     "start_time": "2024-04-01T00:59:48.419543Z"
    }
   },
   "id": "fb1c412d6c764d7b"
  },
  {
   "cell_type": "code",
   "execution_count": 36,
   "outputs": [
    {
     "data": {
      "text/plain": "owner                       string[python]\nlocation                    string[python]\npilot_parcel_no             string[python]\nunderlying_parcel_number    string[python]\nbegin_date                  datetime64[ns]\nend_date                            object\nassmt_taxes                        float64\npilot_contract_amt                 float64\npilot_debt_service_amt             float64\ndifference                         float64\ndtype: object"
     },
     "execution_count": 36,
     "metadata": {},
     "output_type": "execute_result"
    }
   ],
   "source": [
    "# Fix the data type of each variable\n",
    "\n",
    "names_to_types = {'owner': 'string',\n",
    "                  'location': 'string',\n",
    "                  'pilot_parcel_no': 'string', \n",
    "                  'underlying_parcel_number': 'string',\n",
    "                  'begin_date': 'datetime64[ns]', \n",
    "                  'end_date': 'object',\n",
    "                  'assmt_taxes': 'float64',\n",
    "                  'pilot_contract_amt': 'float64',\n",
    "       'pilot_debt_service_amt': 'float64', \n",
    "                  'difference': 'float64'}\n",
    "df = cast_data_types(df, names_to_types)\n",
    "df.dtypes"
   ],
   "metadata": {
    "collapsed": false,
    "ExecuteTime": {
     "end_time": "2024-04-01T00:59:48.455892Z",
     "start_time": "2024-04-01T00:59:48.426853Z"
    }
   },
   "id": "fa0f0232d27d41fe"
  },
  {
   "cell_type": "code",
   "execution_count": 37,
   "outputs": [],
   "source": [
    "# Save the now-clean csv and convert it to utf-8 format\n",
    "outfile_path = \"../data/processed/s5_2022_iph.csv\"\n",
    "df.to_csv(outfile_path)\n",
    "convert_utf8(original_file_path=outfile_path, new_file_path=outfile_path)"
   ],
   "metadata": {
    "collapsed": false,
    "ExecuteTime": {
     "end_time": "2024-04-01T00:59:48.484086Z",
     "start_time": "2024-04-01T00:59:48.430702Z"
    }
   },
   "id": "209e2ad7bce3421"
  },
  {
   "cell_type": "code",
   "execution_count": 37,
   "outputs": [],
   "source": [],
   "metadata": {
    "collapsed": false,
    "ExecuteTime": {
     "end_time": "2024-04-01T00:59:48.504207Z",
     "start_time": "2024-04-01T00:59:48.438626Z"
    }
   },
   "id": "932f14634f70a566"
  }
 ],
 "metadata": {
  "kernelspec": {
   "display_name": "Python 3",
   "language": "python",
   "name": "python3"
  },
  "language_info": {
   "codemirror_mode": {
    "name": "ipython",
    "version": 2
   },
   "file_extension": ".py",
   "mimetype": "text/x-python",
   "name": "python",
   "nbconvert_exporter": "python",
   "pygments_lexer": "ipython2",
   "version": "2.7.6"
  }
 },
 "nbformat": 4,
 "nbformat_minor": 5
}
