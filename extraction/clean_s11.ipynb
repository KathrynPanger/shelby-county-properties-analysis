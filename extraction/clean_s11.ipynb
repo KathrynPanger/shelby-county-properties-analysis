{
 "cells": [
  {
   "cell_type": "code",
   "execution_count": 13,
   "outputs": [],
   "source": [
    "import pandas as pd\n",
    "from utils import *\n",
    "from typing import Any"
   ],
   "metadata": {
    "collapsed": false,
    "ExecuteTime": {
     "end_time": "2024-04-01T01:01:27.606595Z",
     "start_time": "2024-04-01T01:01:27.545991Z"
    }
   },
   "id": "f890863474a831e4"
  },
  {
   "cell_type": "markdown",
   "source": [
    "<h1>Cleaning a CSV</h1>"
   ],
   "metadata": {
    "collapsed": false
   },
   "id": "37c2459a70173916"
  },
  {
   "cell_type": "markdown",
   "source": [
    "Read in a CSV"
   ],
   "metadata": {
    "collapsed": false
   },
   "id": "70312fa54485148"
  },
  {
   "cell_type": "code",
   "execution_count": 14,
   "outputs": [
    {
     "data": {
      "text/plain": "                              Owner            Location PILOT Parcel No  \\\n0      FEDEX SUPPLYCHAIN SYSTEM INC             9 FEDEX  IDB0001C000000   \n1      FEDEX SUPPLYCHAIN SYSTEM INC             9 FEDEX  IDB0006C000000   \n2   SHELBY GROUP INTERNATIONAL, INC      1255 SCHILLING  IDB0000C000140   \n3   SHELBY GROUP INTERNATIONAL, INC      1255 SCHILLING  IDB0000C00015A   \n4                     WS HCHEM, LLC        0 WINCHESTER  IDB0000C000160   \n5                       ORGILL, INC  4100 HOUSTON LEVEE  IDB0000C00017A   \n6                       ORGILL, INC  4100 HOUSTON LEVEE  IDB0000C000180   \n7                           MOB LLC       160 SCHILLING  IDB0000C000200   \n8                       RUSH IT LLC    0 BAILEY STATION  IDB0000C000230   \n9           MUELLER INDUSTRIES, INC       150 SCHILLING  IDB0000C0017A2   \n10                    CCL LABEL INC        720 PROGRESS  IDB0000C000210   \n11                IMC COMPANIES LLC      1305 SCHILLING  IDB0000C000240   \n\n   Underlying Parcel Number  Begin Date    End Date Assmt Taxes  \\\n0            C0243000004060  01/13/2019  01/13/2039    $221,113   \n1            C0243000004050  01/13/2019  01/13/2039  $1,497,979   \n2            C024400A006570  12/31/2013  12/31/2024     $99,361   \n3            5000150000000D  12/31/2013  12/31/2024      $7,261   \n4            C024400A006820  06/01/2016  06/01/2023    $129,117   \n5            5000160000000D  12/31/2017  12/31/2032     $14,628   \n6            C0243000006050  12/31/2017  12/31/2032    $244,570   \n7            C024400A004390  12/31/2019  12/31/2029    $126,135   \n8            C0243000003150  02/01/2020  02/01/2035  $1,013,298   \n9            5000170000000D  12/31/2018  12/31/2038     $12,788   \n10           C0245000003540  01/01/2018  12/31/2026    $135,647   \n11           C02440A0007430  12/31/2021  12/31/2031     $21,117   \n\n   PILOT Contract Amt PILOT Debt Service Amt Difference  \n0             $48,928                $54,770  -$117,416  \n1            $358,752               $374,495  -$764,732  \n2              $7,601                $24,840   -$66,920  \n3                  $0                 $1,815    -$5,446  \n4            $129,117                     $0         $0  \n5                  $0                 $3,657   -$10,971  \n6             $15,640                $61,142  -$167,787  \n7             $35,017                $24,281   -$66,837  \n8             $66,582               $253,325  -$693,392  \n9                  $0                 $3,197    -$9,591  \n10            $12,847                $47,477   -$75,324  \n11            $15,838                $65,885    $60,606  ",
      "text/html": "<div>\n<style scoped>\n    .dataframe tbody tr th:only-of-type {\n        vertical-align: middle;\n    }\n\n    .dataframe tbody tr th {\n        vertical-align: top;\n    }\n\n    .dataframe thead th {\n        text-align: right;\n    }\n</style>\n<table border=\"1\" class=\"dataframe\">\n  <thead>\n    <tr style=\"text-align: right;\">\n      <th></th>\n      <th>Owner</th>\n      <th>Location</th>\n      <th>PILOT Parcel No</th>\n      <th>Underlying Parcel Number</th>\n      <th>Begin Date</th>\n      <th>End Date</th>\n      <th>Assmt Taxes</th>\n      <th>PILOT Contract Amt</th>\n      <th>PILOT Debt Service Amt</th>\n      <th>Difference</th>\n    </tr>\n  </thead>\n  <tbody>\n    <tr>\n      <th>0</th>\n      <td>FEDEX SUPPLYCHAIN SYSTEM INC</td>\n      <td>9 FEDEX</td>\n      <td>IDB0001C000000</td>\n      <td>C0243000004060</td>\n      <td>01/13/2019</td>\n      <td>01/13/2039</td>\n      <td>$221,113</td>\n      <td>$48,928</td>\n      <td>$54,770</td>\n      <td>-$117,416</td>\n    </tr>\n    <tr>\n      <th>1</th>\n      <td>FEDEX SUPPLYCHAIN SYSTEM INC</td>\n      <td>9 FEDEX</td>\n      <td>IDB0006C000000</td>\n      <td>C0243000004050</td>\n      <td>01/13/2019</td>\n      <td>01/13/2039</td>\n      <td>$1,497,979</td>\n      <td>$358,752</td>\n      <td>$374,495</td>\n      <td>-$764,732</td>\n    </tr>\n    <tr>\n      <th>2</th>\n      <td>SHELBY GROUP INTERNATIONAL, INC</td>\n      <td>1255 SCHILLING</td>\n      <td>IDB0000C000140</td>\n      <td>C024400A006570</td>\n      <td>12/31/2013</td>\n      <td>12/31/2024</td>\n      <td>$99,361</td>\n      <td>$7,601</td>\n      <td>$24,840</td>\n      <td>-$66,920</td>\n    </tr>\n    <tr>\n      <th>3</th>\n      <td>SHELBY GROUP INTERNATIONAL, INC</td>\n      <td>1255 SCHILLING</td>\n      <td>IDB0000C00015A</td>\n      <td>5000150000000D</td>\n      <td>12/31/2013</td>\n      <td>12/31/2024</td>\n      <td>$7,261</td>\n      <td>$0</td>\n      <td>$1,815</td>\n      <td>-$5,446</td>\n    </tr>\n    <tr>\n      <th>4</th>\n      <td>WS HCHEM, LLC</td>\n      <td>0 WINCHESTER</td>\n      <td>IDB0000C000160</td>\n      <td>C024400A006820</td>\n      <td>06/01/2016</td>\n      <td>06/01/2023</td>\n      <td>$129,117</td>\n      <td>$129,117</td>\n      <td>$0</td>\n      <td>$0</td>\n    </tr>\n    <tr>\n      <th>5</th>\n      <td>ORGILL, INC</td>\n      <td>4100 HOUSTON LEVEE</td>\n      <td>IDB0000C00017A</td>\n      <td>5000160000000D</td>\n      <td>12/31/2017</td>\n      <td>12/31/2032</td>\n      <td>$14,628</td>\n      <td>$0</td>\n      <td>$3,657</td>\n      <td>-$10,971</td>\n    </tr>\n    <tr>\n      <th>6</th>\n      <td>ORGILL, INC</td>\n      <td>4100 HOUSTON LEVEE</td>\n      <td>IDB0000C000180</td>\n      <td>C0243000006050</td>\n      <td>12/31/2017</td>\n      <td>12/31/2032</td>\n      <td>$244,570</td>\n      <td>$15,640</td>\n      <td>$61,142</td>\n      <td>-$167,787</td>\n    </tr>\n    <tr>\n      <th>7</th>\n      <td>MOB LLC</td>\n      <td>160 SCHILLING</td>\n      <td>IDB0000C000200</td>\n      <td>C024400A004390</td>\n      <td>12/31/2019</td>\n      <td>12/31/2029</td>\n      <td>$126,135</td>\n      <td>$35,017</td>\n      <td>$24,281</td>\n      <td>-$66,837</td>\n    </tr>\n    <tr>\n      <th>8</th>\n      <td>RUSH IT LLC</td>\n      <td>0 BAILEY STATION</td>\n      <td>IDB0000C000230</td>\n      <td>C0243000003150</td>\n      <td>02/01/2020</td>\n      <td>02/01/2035</td>\n      <td>$1,013,298</td>\n      <td>$66,582</td>\n      <td>$253,325</td>\n      <td>-$693,392</td>\n    </tr>\n    <tr>\n      <th>9</th>\n      <td>MUELLER INDUSTRIES, INC</td>\n      <td>150 SCHILLING</td>\n      <td>IDB0000C0017A2</td>\n      <td>5000170000000D</td>\n      <td>12/31/2018</td>\n      <td>12/31/2038</td>\n      <td>$12,788</td>\n      <td>$0</td>\n      <td>$3,197</td>\n      <td>-$9,591</td>\n    </tr>\n    <tr>\n      <th>10</th>\n      <td>CCL LABEL INC</td>\n      <td>720 PROGRESS</td>\n      <td>IDB0000C000210</td>\n      <td>C0245000003540</td>\n      <td>01/01/2018</td>\n      <td>12/31/2026</td>\n      <td>$135,647</td>\n      <td>$12,847</td>\n      <td>$47,477</td>\n      <td>-$75,324</td>\n    </tr>\n    <tr>\n      <th>11</th>\n      <td>IMC COMPANIES LLC</td>\n      <td>1305 SCHILLING</td>\n      <td>IDB0000C000240</td>\n      <td>C02440A0007430</td>\n      <td>12/31/2021</td>\n      <td>12/31/2031</td>\n      <td>$21,117</td>\n      <td>$15,838</td>\n      <td>$65,885</td>\n      <td>$60,606</td>\n    </tr>\n  </tbody>\n</table>\n</div>"
     },
     "execution_count": 14,
     "metadata": {},
     "output_type": "execute_result"
    }
   ],
   "source": [
    "# load a dataframe\n",
    "infile_path = \"../data/raw/silver_shelby_county_properties_municipality_breakdown - s11_2022_idb_colierville.csv\"\n",
    "df = pd.read_csv(infile_path)\n",
    "df"
   ],
   "metadata": {
    "collapsed": false,
    "ExecuteTime": {
     "end_time": "2024-04-01T01:01:27.621959Z",
     "start_time": "2024-04-01T01:01:27.553267Z"
    }
   },
   "id": "50cef4de40a6855d"
  },
  {
   "cell_type": "code",
   "execution_count": 15,
   "outputs": [
    {
     "data": {
      "text/plain": "Index(['owner', 'location', 'pilot_parcel_no', 'underlying_parcel_number',\n       'begin_date', 'end_date', 'assmt_taxes', 'pilot_contract_amt',\n       'pilot_debt_service_amt', 'difference'],\n      dtype='object')"
     },
     "execution_count": 15,
     "metadata": {},
     "output_type": "execute_result"
    }
   ],
   "source": [
    "# Clean the column headers\n",
    "df = clean_headers(df, [remove_special_for_words, truncate, snake_case, lower_case])\n",
    "df.columns"
   ],
   "metadata": {
    "collapsed": false,
    "ExecuteTime": {
     "end_time": "2024-04-01T01:01:27.622091Z",
     "start_time": "2024-04-01T01:01:27.576279Z"
    }
   },
   "id": "f8e6a7fb4013b6e6"
  },
  {
   "cell_type": "code",
   "execution_count": 16,
   "outputs": [
    {
     "data": {
      "text/plain": "                             owner            location pilot_parcel_no  \\\n0     fedex supplychain system inc             9 fedex  IDB0001C000000   \n1     fedex supplychain system inc             9 fedex  IDB0006C000000   \n2   shelby group international inc      1255 schilling  IDB0000C000140   \n3   shelby group international inc      1255 schilling  IDB0000C00015A   \n4                     ws hchem llc        0 winchester  IDB0000C000160   \n5                       orgill inc  4100 houston levee  IDB0000C00017A   \n6                       orgill inc  4100 houston levee  IDB0000C000180   \n7                          mob llc       160 schilling  IDB0000C000200   \n8                      rush it llc    0 bailey station  IDB0000C000230   \n9           mueller industries inc       150 schilling  IDB0000C0017A2   \n10                   ccl label inc        720 progress  IDB0000C000210   \n11               imc companies llc      1305 schilling  IDB0000C000240   \n\n   underlying_parcel_number  begin_date    end_date assmt_taxes  \\\n0            C0243000004060  01/13/2019  01/13/2039    $221,113   \n1            C0243000004050  01/13/2019  01/13/2039  $1,497,979   \n2            C024400A006570  12/31/2013  12/31/2024     $99,361   \n3            5000150000000D  12/31/2013  12/31/2024      $7,261   \n4            C024400A006820  06/01/2016  06/01/2023    $129,117   \n5            5000160000000D  12/31/2017  12/31/2032     $14,628   \n6            C0243000006050  12/31/2017  12/31/2032    $244,570   \n7            C024400A004390  12/31/2019  12/31/2029    $126,135   \n8            C0243000003150  02/01/2020  02/01/2035  $1,013,298   \n9            5000170000000D  12/31/2018  12/31/2038     $12,788   \n10           C0245000003540  01/01/2018  12/31/2026    $135,647   \n11           C02440A0007430  12/31/2021  12/31/2031     $21,117   \n\n   pilot_contract_amt pilot_debt_service_amt difference  \n0             $48,928                $54,770  -$117,416  \n1            $358,752               $374,495  -$764,732  \n2              $7,601                $24,840   -$66,920  \n3                  $0                 $1,815    -$5,446  \n4            $129,117                     $0         $0  \n5                  $0                 $3,657   -$10,971  \n6             $15,640                $61,142  -$167,787  \n7             $35,017                $24,281   -$66,837  \n8             $66,582               $253,325  -$693,392  \n9                  $0                 $3,197    -$9,591  \n10            $12,847                $47,477   -$75,324  \n11            $15,838                $65,885    $60,606  ",
      "text/html": "<div>\n<style scoped>\n    .dataframe tbody tr th:only-of-type {\n        vertical-align: middle;\n    }\n\n    .dataframe tbody tr th {\n        vertical-align: top;\n    }\n\n    .dataframe thead th {\n        text-align: right;\n    }\n</style>\n<table border=\"1\" class=\"dataframe\">\n  <thead>\n    <tr style=\"text-align: right;\">\n      <th></th>\n      <th>owner</th>\n      <th>location</th>\n      <th>pilot_parcel_no</th>\n      <th>underlying_parcel_number</th>\n      <th>begin_date</th>\n      <th>end_date</th>\n      <th>assmt_taxes</th>\n      <th>pilot_contract_amt</th>\n      <th>pilot_debt_service_amt</th>\n      <th>difference</th>\n    </tr>\n  </thead>\n  <tbody>\n    <tr>\n      <th>0</th>\n      <td>fedex supplychain system inc</td>\n      <td>9 fedex</td>\n      <td>IDB0001C000000</td>\n      <td>C0243000004060</td>\n      <td>01/13/2019</td>\n      <td>01/13/2039</td>\n      <td>$221,113</td>\n      <td>$48,928</td>\n      <td>$54,770</td>\n      <td>-$117,416</td>\n    </tr>\n    <tr>\n      <th>1</th>\n      <td>fedex supplychain system inc</td>\n      <td>9 fedex</td>\n      <td>IDB0006C000000</td>\n      <td>C0243000004050</td>\n      <td>01/13/2019</td>\n      <td>01/13/2039</td>\n      <td>$1,497,979</td>\n      <td>$358,752</td>\n      <td>$374,495</td>\n      <td>-$764,732</td>\n    </tr>\n    <tr>\n      <th>2</th>\n      <td>shelby group international inc</td>\n      <td>1255 schilling</td>\n      <td>IDB0000C000140</td>\n      <td>C024400A006570</td>\n      <td>12/31/2013</td>\n      <td>12/31/2024</td>\n      <td>$99,361</td>\n      <td>$7,601</td>\n      <td>$24,840</td>\n      <td>-$66,920</td>\n    </tr>\n    <tr>\n      <th>3</th>\n      <td>shelby group international inc</td>\n      <td>1255 schilling</td>\n      <td>IDB0000C00015A</td>\n      <td>5000150000000D</td>\n      <td>12/31/2013</td>\n      <td>12/31/2024</td>\n      <td>$7,261</td>\n      <td>$0</td>\n      <td>$1,815</td>\n      <td>-$5,446</td>\n    </tr>\n    <tr>\n      <th>4</th>\n      <td>ws hchem llc</td>\n      <td>0 winchester</td>\n      <td>IDB0000C000160</td>\n      <td>C024400A006820</td>\n      <td>06/01/2016</td>\n      <td>06/01/2023</td>\n      <td>$129,117</td>\n      <td>$129,117</td>\n      <td>$0</td>\n      <td>$0</td>\n    </tr>\n    <tr>\n      <th>5</th>\n      <td>orgill inc</td>\n      <td>4100 houston levee</td>\n      <td>IDB0000C00017A</td>\n      <td>5000160000000D</td>\n      <td>12/31/2017</td>\n      <td>12/31/2032</td>\n      <td>$14,628</td>\n      <td>$0</td>\n      <td>$3,657</td>\n      <td>-$10,971</td>\n    </tr>\n    <tr>\n      <th>6</th>\n      <td>orgill inc</td>\n      <td>4100 houston levee</td>\n      <td>IDB0000C000180</td>\n      <td>C0243000006050</td>\n      <td>12/31/2017</td>\n      <td>12/31/2032</td>\n      <td>$244,570</td>\n      <td>$15,640</td>\n      <td>$61,142</td>\n      <td>-$167,787</td>\n    </tr>\n    <tr>\n      <th>7</th>\n      <td>mob llc</td>\n      <td>160 schilling</td>\n      <td>IDB0000C000200</td>\n      <td>C024400A004390</td>\n      <td>12/31/2019</td>\n      <td>12/31/2029</td>\n      <td>$126,135</td>\n      <td>$35,017</td>\n      <td>$24,281</td>\n      <td>-$66,837</td>\n    </tr>\n    <tr>\n      <th>8</th>\n      <td>rush it llc</td>\n      <td>0 bailey station</td>\n      <td>IDB0000C000230</td>\n      <td>C0243000003150</td>\n      <td>02/01/2020</td>\n      <td>02/01/2035</td>\n      <td>$1,013,298</td>\n      <td>$66,582</td>\n      <td>$253,325</td>\n      <td>-$693,392</td>\n    </tr>\n    <tr>\n      <th>9</th>\n      <td>mueller industries inc</td>\n      <td>150 schilling</td>\n      <td>IDB0000C0017A2</td>\n      <td>5000170000000D</td>\n      <td>12/31/2018</td>\n      <td>12/31/2038</td>\n      <td>$12,788</td>\n      <td>$0</td>\n      <td>$3,197</td>\n      <td>-$9,591</td>\n    </tr>\n    <tr>\n      <th>10</th>\n      <td>ccl label inc</td>\n      <td>720 progress</td>\n      <td>IDB0000C000210</td>\n      <td>C0245000003540</td>\n      <td>01/01/2018</td>\n      <td>12/31/2026</td>\n      <td>$135,647</td>\n      <td>$12,847</td>\n      <td>$47,477</td>\n      <td>-$75,324</td>\n    </tr>\n    <tr>\n      <th>11</th>\n      <td>imc companies llc</td>\n      <td>1305 schilling</td>\n      <td>IDB0000C000240</td>\n      <td>C02440A0007430</td>\n      <td>12/31/2021</td>\n      <td>12/31/2031</td>\n      <td>$21,117</td>\n      <td>$15,838</td>\n      <td>$65,885</td>\n      <td>$60,606</td>\n    </tr>\n  </tbody>\n</table>\n</div>"
     },
     "execution_count": 16,
     "metadata": {},
     "output_type": "execute_result"
    }
   ],
   "source": [
    "# Clean the string columns\n",
    "string_columns = [\"owner\", \n",
    "                  \"location\"]\n",
    "df = clean_columns(df, string_columns, [remove_special_for_words, truncate, lower_case])\n",
    "df"
   ],
   "metadata": {
    "collapsed": false,
    "ExecuteTime": {
     "end_time": "2024-04-01T01:01:27.622328Z",
     "start_time": "2024-04-01T01:01:27.584409Z"
    }
   },
   "id": "67171db99d8fff6d"
  },
  {
   "cell_type": "code",
   "execution_count": 17,
   "outputs": [
    {
     "data": {
      "text/plain": "Index(['owner', 'location', 'pilot_parcel_no', 'underlying_parcel_number',\n       'begin_date', 'end_date', 'assmt_taxes', 'pilot_contract_amt',\n       'pilot_debt_service_amt', 'difference'],\n      dtype='object')"
     },
     "execution_count": 17,
     "metadata": {},
     "output_type": "execute_result"
    }
   ],
   "source": [
    "df.columns"
   ],
   "metadata": {
    "collapsed": false,
    "ExecuteTime": {
     "end_time": "2024-04-01T01:01:27.622397Z",
     "start_time": "2024-04-01T01:01:27.588609Z"
    }
   },
   "id": "4484a9731b2bde17"
  },
  {
   "cell_type": "code",
   "execution_count": 18,
   "outputs": [
    {
     "data": {
      "text/plain": "                             owner            location pilot_parcel_no  \\\n0     fedex supplychain system inc             9 fedex  IDB0001C000000   \n1     fedex supplychain system inc             9 fedex  IDB0006C000000   \n2   shelby group international inc      1255 schilling  IDB0000C000140   \n3   shelby group international inc      1255 schilling  IDB0000C00015A   \n4                     ws hchem llc        0 winchester  IDB0000C000160   \n5                       orgill inc  4100 houston levee  IDB0000C00017A   \n6                       orgill inc  4100 houston levee  IDB0000C000180   \n7                          mob llc       160 schilling  IDB0000C000200   \n8                      rush it llc    0 bailey station  IDB0000C000230   \n9           mueller industries inc       150 schilling  IDB0000C0017A2   \n10                   ccl label inc        720 progress  IDB0000C000210   \n11               imc companies llc      1305 schilling  IDB0000C000240   \n\n   underlying_parcel_number  begin_date    end_date assmt_taxes  \\\n0            C0243000004060  01/13/2019  01/13/2039      221113   \n1            C0243000004050  01/13/2019  01/13/2039     1497979   \n2            C024400A006570  12/31/2013  12/31/2024       99361   \n3            5000150000000D  12/31/2013  12/31/2024        7261   \n4            C024400A006820  06/01/2016  06/01/2023      129117   \n5            5000160000000D  12/31/2017  12/31/2032       14628   \n6            C0243000006050  12/31/2017  12/31/2032      244570   \n7            C024400A004390  12/31/2019  12/31/2029      126135   \n8            C0243000003150  02/01/2020  02/01/2035     1013298   \n9            5000170000000D  12/31/2018  12/31/2038       12788   \n10           C0245000003540  01/01/2018  12/31/2026      135647   \n11           C02440A0007430  12/31/2021  12/31/2031       21117   \n\n   pilot_contract_amt pilot_debt_service_amt difference  \n0               48928                  54770    -117416  \n1              358752                 374495    -764732  \n2                7601                  24840     -66920  \n3                   0                   1815      -5446  \n4              129117                      0          0  \n5                   0                   3657     -10971  \n6               15640                  61142    -167787  \n7               35017                  24281     -66837  \n8               66582                 253325    -693392  \n9                   0                   3197      -9591  \n10              12847                  47477     -75324  \n11              15838                  65885      60606  ",
      "text/html": "<div>\n<style scoped>\n    .dataframe tbody tr th:only-of-type {\n        vertical-align: middle;\n    }\n\n    .dataframe tbody tr th {\n        vertical-align: top;\n    }\n\n    .dataframe thead th {\n        text-align: right;\n    }\n</style>\n<table border=\"1\" class=\"dataframe\">\n  <thead>\n    <tr style=\"text-align: right;\">\n      <th></th>\n      <th>owner</th>\n      <th>location</th>\n      <th>pilot_parcel_no</th>\n      <th>underlying_parcel_number</th>\n      <th>begin_date</th>\n      <th>end_date</th>\n      <th>assmt_taxes</th>\n      <th>pilot_contract_amt</th>\n      <th>pilot_debt_service_amt</th>\n      <th>difference</th>\n    </tr>\n  </thead>\n  <tbody>\n    <tr>\n      <th>0</th>\n      <td>fedex supplychain system inc</td>\n      <td>9 fedex</td>\n      <td>IDB0001C000000</td>\n      <td>C0243000004060</td>\n      <td>01/13/2019</td>\n      <td>01/13/2039</td>\n      <td>221113</td>\n      <td>48928</td>\n      <td>54770</td>\n      <td>-117416</td>\n    </tr>\n    <tr>\n      <th>1</th>\n      <td>fedex supplychain system inc</td>\n      <td>9 fedex</td>\n      <td>IDB0006C000000</td>\n      <td>C0243000004050</td>\n      <td>01/13/2019</td>\n      <td>01/13/2039</td>\n      <td>1497979</td>\n      <td>358752</td>\n      <td>374495</td>\n      <td>-764732</td>\n    </tr>\n    <tr>\n      <th>2</th>\n      <td>shelby group international inc</td>\n      <td>1255 schilling</td>\n      <td>IDB0000C000140</td>\n      <td>C024400A006570</td>\n      <td>12/31/2013</td>\n      <td>12/31/2024</td>\n      <td>99361</td>\n      <td>7601</td>\n      <td>24840</td>\n      <td>-66920</td>\n    </tr>\n    <tr>\n      <th>3</th>\n      <td>shelby group international inc</td>\n      <td>1255 schilling</td>\n      <td>IDB0000C00015A</td>\n      <td>5000150000000D</td>\n      <td>12/31/2013</td>\n      <td>12/31/2024</td>\n      <td>7261</td>\n      <td>0</td>\n      <td>1815</td>\n      <td>-5446</td>\n    </tr>\n    <tr>\n      <th>4</th>\n      <td>ws hchem llc</td>\n      <td>0 winchester</td>\n      <td>IDB0000C000160</td>\n      <td>C024400A006820</td>\n      <td>06/01/2016</td>\n      <td>06/01/2023</td>\n      <td>129117</td>\n      <td>129117</td>\n      <td>0</td>\n      <td>0</td>\n    </tr>\n    <tr>\n      <th>5</th>\n      <td>orgill inc</td>\n      <td>4100 houston levee</td>\n      <td>IDB0000C00017A</td>\n      <td>5000160000000D</td>\n      <td>12/31/2017</td>\n      <td>12/31/2032</td>\n      <td>14628</td>\n      <td>0</td>\n      <td>3657</td>\n      <td>-10971</td>\n    </tr>\n    <tr>\n      <th>6</th>\n      <td>orgill inc</td>\n      <td>4100 houston levee</td>\n      <td>IDB0000C000180</td>\n      <td>C0243000006050</td>\n      <td>12/31/2017</td>\n      <td>12/31/2032</td>\n      <td>244570</td>\n      <td>15640</td>\n      <td>61142</td>\n      <td>-167787</td>\n    </tr>\n    <tr>\n      <th>7</th>\n      <td>mob llc</td>\n      <td>160 schilling</td>\n      <td>IDB0000C000200</td>\n      <td>C024400A004390</td>\n      <td>12/31/2019</td>\n      <td>12/31/2029</td>\n      <td>126135</td>\n      <td>35017</td>\n      <td>24281</td>\n      <td>-66837</td>\n    </tr>\n    <tr>\n      <th>8</th>\n      <td>rush it llc</td>\n      <td>0 bailey station</td>\n      <td>IDB0000C000230</td>\n      <td>C0243000003150</td>\n      <td>02/01/2020</td>\n      <td>02/01/2035</td>\n      <td>1013298</td>\n      <td>66582</td>\n      <td>253325</td>\n      <td>-693392</td>\n    </tr>\n    <tr>\n      <th>9</th>\n      <td>mueller industries inc</td>\n      <td>150 schilling</td>\n      <td>IDB0000C0017A2</td>\n      <td>5000170000000D</td>\n      <td>12/31/2018</td>\n      <td>12/31/2038</td>\n      <td>12788</td>\n      <td>0</td>\n      <td>3197</td>\n      <td>-9591</td>\n    </tr>\n    <tr>\n      <th>10</th>\n      <td>ccl label inc</td>\n      <td>720 progress</td>\n      <td>IDB0000C000210</td>\n      <td>C0245000003540</td>\n      <td>01/01/2018</td>\n      <td>12/31/2026</td>\n      <td>135647</td>\n      <td>12847</td>\n      <td>47477</td>\n      <td>-75324</td>\n    </tr>\n    <tr>\n      <th>11</th>\n      <td>imc companies llc</td>\n      <td>1305 schilling</td>\n      <td>IDB0000C000240</td>\n      <td>C02440A0007430</td>\n      <td>12/31/2021</td>\n      <td>12/31/2031</td>\n      <td>21117</td>\n      <td>15838</td>\n      <td>65885</td>\n      <td>60606</td>\n    </tr>\n  </tbody>\n</table>\n</div>"
     },
     "execution_count": 18,
     "metadata": {},
     "output_type": "execute_result"
    }
   ],
   "source": [
    "# Clean the numeric columns\n",
    "numeric_columns = ['assmt_taxes', 'pilot_contract_amt',\n",
    "       'pilot_debt_service_amt', 'difference']\n",
    "df = clean_columns(df, numeric_columns, [remove_special_for_numbers, convert_only_dash_to_missing])\n",
    "\n",
    "df"
   ],
   "metadata": {
    "collapsed": false,
    "ExecuteTime": {
     "end_time": "2024-04-01T01:01:27.622609Z",
     "start_time": "2024-04-01T01:01:27.597230Z"
    }
   },
   "id": "fd553dbc31168c70"
  },
  {
   "cell_type": "code",
   "execution_count": 19,
   "outputs": [
    {
     "data": {
      "text/plain": "                             owner            location pilot_parcel_no  \\\n0     fedex supplychain system inc             9 fedex  IDB0001C000000   \n1     fedex supplychain system inc             9 fedex  IDB0006C000000   \n2   shelby group international inc      1255 schilling  IDB0000C000140   \n3   shelby group international inc      1255 schilling  IDB0000C00015A   \n4                     ws hchem llc        0 winchester  IDB0000C000160   \n5                       orgill inc  4100 houston levee  IDB0000C00017A   \n6                       orgill inc  4100 houston levee  IDB0000C000180   \n7                          mob llc       160 schilling  IDB0000C000200   \n8                      rush it llc    0 bailey station  IDB0000C000230   \n9           mueller industries inc       150 schilling  IDB0000C0017A2   \n10                   ccl label inc        720 progress  IDB0000C000210   \n11               imc companies llc      1305 schilling  IDB0000C000240   \n\n   underlying_parcel_number begin_date   end_date assmt_taxes  \\\n0            C0243000004060 2019-01-13 2039-01-13      221113   \n1            C0243000004050 2019-01-13 2039-01-13     1497979   \n2            C024400A006570 2013-12-31 2024-12-31       99361   \n3            5000150000000D 2013-12-31 2024-12-31        7261   \n4            C024400A006820 2016-06-01 2023-06-01      129117   \n5            5000160000000D 2017-12-31 2032-12-31       14628   \n6            C0243000006050 2017-12-31 2032-12-31      244570   \n7            C024400A004390 2019-12-31 2029-12-31      126135   \n8            C0243000003150 2020-02-01 2035-02-01     1013298   \n9            5000170000000D 2018-12-31 2038-12-31       12788   \n10           C0245000003540 2018-01-01 2026-12-31      135647   \n11           C02440A0007430 2021-12-31 2031-12-31       21117   \n\n   pilot_contract_amt pilot_debt_service_amt difference  \n0               48928                  54770    -117416  \n1              358752                 374495    -764732  \n2                7601                  24840     -66920  \n3                   0                   1815      -5446  \n4              129117                      0          0  \n5                   0                   3657     -10971  \n6               15640                  61142    -167787  \n7               35017                  24281     -66837  \n8               66582                 253325    -693392  \n9                   0                   3197      -9591  \n10              12847                  47477     -75324  \n11              15838                  65885      60606  ",
      "text/html": "<div>\n<style scoped>\n    .dataframe tbody tr th:only-of-type {\n        vertical-align: middle;\n    }\n\n    .dataframe tbody tr th {\n        vertical-align: top;\n    }\n\n    .dataframe thead th {\n        text-align: right;\n    }\n</style>\n<table border=\"1\" class=\"dataframe\">\n  <thead>\n    <tr style=\"text-align: right;\">\n      <th></th>\n      <th>owner</th>\n      <th>location</th>\n      <th>pilot_parcel_no</th>\n      <th>underlying_parcel_number</th>\n      <th>begin_date</th>\n      <th>end_date</th>\n      <th>assmt_taxes</th>\n      <th>pilot_contract_amt</th>\n      <th>pilot_debt_service_amt</th>\n      <th>difference</th>\n    </tr>\n  </thead>\n  <tbody>\n    <tr>\n      <th>0</th>\n      <td>fedex supplychain system inc</td>\n      <td>9 fedex</td>\n      <td>IDB0001C000000</td>\n      <td>C0243000004060</td>\n      <td>2019-01-13</td>\n      <td>2039-01-13</td>\n      <td>221113</td>\n      <td>48928</td>\n      <td>54770</td>\n      <td>-117416</td>\n    </tr>\n    <tr>\n      <th>1</th>\n      <td>fedex supplychain system inc</td>\n      <td>9 fedex</td>\n      <td>IDB0006C000000</td>\n      <td>C0243000004050</td>\n      <td>2019-01-13</td>\n      <td>2039-01-13</td>\n      <td>1497979</td>\n      <td>358752</td>\n      <td>374495</td>\n      <td>-764732</td>\n    </tr>\n    <tr>\n      <th>2</th>\n      <td>shelby group international inc</td>\n      <td>1255 schilling</td>\n      <td>IDB0000C000140</td>\n      <td>C024400A006570</td>\n      <td>2013-12-31</td>\n      <td>2024-12-31</td>\n      <td>99361</td>\n      <td>7601</td>\n      <td>24840</td>\n      <td>-66920</td>\n    </tr>\n    <tr>\n      <th>3</th>\n      <td>shelby group international inc</td>\n      <td>1255 schilling</td>\n      <td>IDB0000C00015A</td>\n      <td>5000150000000D</td>\n      <td>2013-12-31</td>\n      <td>2024-12-31</td>\n      <td>7261</td>\n      <td>0</td>\n      <td>1815</td>\n      <td>-5446</td>\n    </tr>\n    <tr>\n      <th>4</th>\n      <td>ws hchem llc</td>\n      <td>0 winchester</td>\n      <td>IDB0000C000160</td>\n      <td>C024400A006820</td>\n      <td>2016-06-01</td>\n      <td>2023-06-01</td>\n      <td>129117</td>\n      <td>129117</td>\n      <td>0</td>\n      <td>0</td>\n    </tr>\n    <tr>\n      <th>5</th>\n      <td>orgill inc</td>\n      <td>4100 houston levee</td>\n      <td>IDB0000C00017A</td>\n      <td>5000160000000D</td>\n      <td>2017-12-31</td>\n      <td>2032-12-31</td>\n      <td>14628</td>\n      <td>0</td>\n      <td>3657</td>\n      <td>-10971</td>\n    </tr>\n    <tr>\n      <th>6</th>\n      <td>orgill inc</td>\n      <td>4100 houston levee</td>\n      <td>IDB0000C000180</td>\n      <td>C0243000006050</td>\n      <td>2017-12-31</td>\n      <td>2032-12-31</td>\n      <td>244570</td>\n      <td>15640</td>\n      <td>61142</td>\n      <td>-167787</td>\n    </tr>\n    <tr>\n      <th>7</th>\n      <td>mob llc</td>\n      <td>160 schilling</td>\n      <td>IDB0000C000200</td>\n      <td>C024400A004390</td>\n      <td>2019-12-31</td>\n      <td>2029-12-31</td>\n      <td>126135</td>\n      <td>35017</td>\n      <td>24281</td>\n      <td>-66837</td>\n    </tr>\n    <tr>\n      <th>8</th>\n      <td>rush it llc</td>\n      <td>0 bailey station</td>\n      <td>IDB0000C000230</td>\n      <td>C0243000003150</td>\n      <td>2020-02-01</td>\n      <td>2035-02-01</td>\n      <td>1013298</td>\n      <td>66582</td>\n      <td>253325</td>\n      <td>-693392</td>\n    </tr>\n    <tr>\n      <th>9</th>\n      <td>mueller industries inc</td>\n      <td>150 schilling</td>\n      <td>IDB0000C0017A2</td>\n      <td>5000170000000D</td>\n      <td>2018-12-31</td>\n      <td>2038-12-31</td>\n      <td>12788</td>\n      <td>0</td>\n      <td>3197</td>\n      <td>-9591</td>\n    </tr>\n    <tr>\n      <th>10</th>\n      <td>ccl label inc</td>\n      <td>720 progress</td>\n      <td>IDB0000C000210</td>\n      <td>C0245000003540</td>\n      <td>2018-01-01</td>\n      <td>2026-12-31</td>\n      <td>135647</td>\n      <td>12847</td>\n      <td>47477</td>\n      <td>-75324</td>\n    </tr>\n    <tr>\n      <th>11</th>\n      <td>imc companies llc</td>\n      <td>1305 schilling</td>\n      <td>IDB0000C000240</td>\n      <td>C02440A0007430</td>\n      <td>2021-12-31</td>\n      <td>2031-12-31</td>\n      <td>21117</td>\n      <td>15838</td>\n      <td>65885</td>\n      <td>60606</td>\n    </tr>\n  </tbody>\n</table>\n</div>"
     },
     "execution_count": 19,
     "metadata": {},
     "output_type": "execute_result"
    }
   ],
   "source": [
    "# Clean the date columns\n",
    "\n",
    "# Because this data has an idiosyncratic \"end date\" value of \"End of Loan\", \n",
    "# we must define a dataset-specific function\n",
    "def cast_end_date_to_datetime(entry: str | Number):\n",
    "    try:\n",
    "        return pd.to_datetime(str(entry))\n",
    "    except ValueError:\n",
    "        return entry\n",
    "df[\"begin_date\"] = pd.to_datetime(df[\"begin_date\"])\n",
    "df[\"end_date\"] = df[\"end_date\"].apply(lambda x: cast_end_date_to_datetime(x))\n",
    "df"
   ],
   "metadata": {
    "collapsed": false,
    "ExecuteTime": {
     "end_time": "2024-04-01T01:01:27.623633Z",
     "start_time": "2024-04-01T01:01:27.610399Z"
    }
   },
   "id": "1efa55d32b4be610"
  },
  {
   "cell_type": "code",
   "execution_count": 20,
   "outputs": [
    {
     "data": {
      "text/plain": "                             owner            location   pilot_parcel_no  \\\n0     fedex supplychain system inc             9 fedex  [IDB0001C000000]   \n1     fedex supplychain system inc             9 fedex  [IDB0006C000000]   \n2   shelby group international inc      1255 schilling  [IDB0000C000140]   \n3   shelby group international inc      1255 schilling  [IDB0000C00015A]   \n4                     ws hchem llc        0 winchester  [IDB0000C000160]   \n5                       orgill inc  4100 houston levee  [IDB0000C00017A]   \n6                       orgill inc  4100 houston levee  [IDB0000C000180]   \n7                          mob llc       160 schilling  [IDB0000C000200]   \n8                      rush it llc    0 bailey station  [IDB0000C000230]   \n9           mueller industries inc       150 schilling  [IDB0000C0017A2]   \n10                   ccl label inc        720 progress  [IDB0000C000210]   \n11               imc companies llc      1305 schilling  [IDB0000C000240]   \n\n   underlying_parcel_number begin_date   end_date assmt_taxes  \\\n0          [C0243000004060] 2019-01-13 2039-01-13      221113   \n1          [C0243000004050] 2019-01-13 2039-01-13     1497979   \n2          [C024400A006570] 2013-12-31 2024-12-31       99361   \n3          [5000150000000D] 2013-12-31 2024-12-31        7261   \n4          [C024400A006820] 2016-06-01 2023-06-01      129117   \n5          [5000160000000D] 2017-12-31 2032-12-31       14628   \n6          [C0243000006050] 2017-12-31 2032-12-31      244570   \n7          [C024400A004390] 2019-12-31 2029-12-31      126135   \n8          [C0243000003150] 2020-02-01 2035-02-01     1013298   \n9          [5000170000000D] 2018-12-31 2038-12-31       12788   \n10         [C0245000003540] 2018-01-01 2026-12-31      135647   \n11         [C02440A0007430] 2021-12-31 2031-12-31       21117   \n\n   pilot_contract_amt pilot_debt_service_amt difference  \n0               48928                  54770    -117416  \n1              358752                 374495    -764732  \n2                7601                  24840     -66920  \n3                   0                   1815      -5446  \n4              129117                      0          0  \n5                   0                   3657     -10971  \n6               15640                  61142    -167787  \n7               35017                  24281     -66837  \n8               66582                 253325    -693392  \n9                   0                   3197      -9591  \n10              12847                  47477     -75324  \n11              15838                  65885      60606  ",
      "text/html": "<div>\n<style scoped>\n    .dataframe tbody tr th:only-of-type {\n        vertical-align: middle;\n    }\n\n    .dataframe tbody tr th {\n        vertical-align: top;\n    }\n\n    .dataframe thead th {\n        text-align: right;\n    }\n</style>\n<table border=\"1\" class=\"dataframe\">\n  <thead>\n    <tr style=\"text-align: right;\">\n      <th></th>\n      <th>owner</th>\n      <th>location</th>\n      <th>pilot_parcel_no</th>\n      <th>underlying_parcel_number</th>\n      <th>begin_date</th>\n      <th>end_date</th>\n      <th>assmt_taxes</th>\n      <th>pilot_contract_amt</th>\n      <th>pilot_debt_service_amt</th>\n      <th>difference</th>\n    </tr>\n  </thead>\n  <tbody>\n    <tr>\n      <th>0</th>\n      <td>fedex supplychain system inc</td>\n      <td>9 fedex</td>\n      <td>[IDB0001C000000]</td>\n      <td>[C0243000004060]</td>\n      <td>2019-01-13</td>\n      <td>2039-01-13</td>\n      <td>221113</td>\n      <td>48928</td>\n      <td>54770</td>\n      <td>-117416</td>\n    </tr>\n    <tr>\n      <th>1</th>\n      <td>fedex supplychain system inc</td>\n      <td>9 fedex</td>\n      <td>[IDB0006C000000]</td>\n      <td>[C0243000004050]</td>\n      <td>2019-01-13</td>\n      <td>2039-01-13</td>\n      <td>1497979</td>\n      <td>358752</td>\n      <td>374495</td>\n      <td>-764732</td>\n    </tr>\n    <tr>\n      <th>2</th>\n      <td>shelby group international inc</td>\n      <td>1255 schilling</td>\n      <td>[IDB0000C000140]</td>\n      <td>[C024400A006570]</td>\n      <td>2013-12-31</td>\n      <td>2024-12-31</td>\n      <td>99361</td>\n      <td>7601</td>\n      <td>24840</td>\n      <td>-66920</td>\n    </tr>\n    <tr>\n      <th>3</th>\n      <td>shelby group international inc</td>\n      <td>1255 schilling</td>\n      <td>[IDB0000C00015A]</td>\n      <td>[5000150000000D]</td>\n      <td>2013-12-31</td>\n      <td>2024-12-31</td>\n      <td>7261</td>\n      <td>0</td>\n      <td>1815</td>\n      <td>-5446</td>\n    </tr>\n    <tr>\n      <th>4</th>\n      <td>ws hchem llc</td>\n      <td>0 winchester</td>\n      <td>[IDB0000C000160]</td>\n      <td>[C024400A006820]</td>\n      <td>2016-06-01</td>\n      <td>2023-06-01</td>\n      <td>129117</td>\n      <td>129117</td>\n      <td>0</td>\n      <td>0</td>\n    </tr>\n    <tr>\n      <th>5</th>\n      <td>orgill inc</td>\n      <td>4100 houston levee</td>\n      <td>[IDB0000C00017A]</td>\n      <td>[5000160000000D]</td>\n      <td>2017-12-31</td>\n      <td>2032-12-31</td>\n      <td>14628</td>\n      <td>0</td>\n      <td>3657</td>\n      <td>-10971</td>\n    </tr>\n    <tr>\n      <th>6</th>\n      <td>orgill inc</td>\n      <td>4100 houston levee</td>\n      <td>[IDB0000C000180]</td>\n      <td>[C0243000006050]</td>\n      <td>2017-12-31</td>\n      <td>2032-12-31</td>\n      <td>244570</td>\n      <td>15640</td>\n      <td>61142</td>\n      <td>-167787</td>\n    </tr>\n    <tr>\n      <th>7</th>\n      <td>mob llc</td>\n      <td>160 schilling</td>\n      <td>[IDB0000C000200]</td>\n      <td>[C024400A004390]</td>\n      <td>2019-12-31</td>\n      <td>2029-12-31</td>\n      <td>126135</td>\n      <td>35017</td>\n      <td>24281</td>\n      <td>-66837</td>\n    </tr>\n    <tr>\n      <th>8</th>\n      <td>rush it llc</td>\n      <td>0 bailey station</td>\n      <td>[IDB0000C000230]</td>\n      <td>[C0243000003150]</td>\n      <td>2020-02-01</td>\n      <td>2035-02-01</td>\n      <td>1013298</td>\n      <td>66582</td>\n      <td>253325</td>\n      <td>-693392</td>\n    </tr>\n    <tr>\n      <th>9</th>\n      <td>mueller industries inc</td>\n      <td>150 schilling</td>\n      <td>[IDB0000C0017A2]</td>\n      <td>[5000170000000D]</td>\n      <td>2018-12-31</td>\n      <td>2038-12-31</td>\n      <td>12788</td>\n      <td>0</td>\n      <td>3197</td>\n      <td>-9591</td>\n    </tr>\n    <tr>\n      <th>10</th>\n      <td>ccl label inc</td>\n      <td>720 progress</td>\n      <td>[IDB0000C000210]</td>\n      <td>[C0245000003540]</td>\n      <td>2018-01-01</td>\n      <td>2026-12-31</td>\n      <td>135647</td>\n      <td>12847</td>\n      <td>47477</td>\n      <td>-75324</td>\n    </tr>\n    <tr>\n      <th>11</th>\n      <td>imc companies llc</td>\n      <td>1305 schilling</td>\n      <td>[IDB0000C000240]</td>\n      <td>[C02440A0007430]</td>\n      <td>2021-12-31</td>\n      <td>2031-12-31</td>\n      <td>21117</td>\n      <td>15838</td>\n      <td>65885</td>\n      <td>60606</td>\n    </tr>\n  </tbody>\n</table>\n</div>"
     },
     "execution_count": 20,
     "metadata": {},
     "output_type": "execute_result"
    }
   ],
   "source": [
    "# Clean the list columns\n",
    "\n",
    "# Pandas always reads in lists as strings, so they will ultimately be converted to a string type, but putting them in lists firsts will allow us to convert them back to lists more quickly the next time we read them in because the list brackets will be included \n",
    "# in the output string\n",
    "\n",
    "list_columns = [\"pilot_parcel_no\", \"underlying_parcel_number\"]\n",
    "for col in list_columns:\n",
    "    df[col] = df[col].apply(lambda x: str(x).split(\",\"))\n",
    "df"
   ],
   "metadata": {
    "collapsed": false,
    "ExecuteTime": {
     "end_time": "2024-04-01T01:01:27.635358Z",
     "start_time": "2024-04-01T01:01:27.621417Z"
    }
   },
   "id": "5a2ebeae72c53116"
  },
  {
   "cell_type": "code",
   "execution_count": 21,
   "outputs": [
    {
     "data": {
      "text/plain": "                                       owner            location  \\\nowner_id                                                           \n47549848842c    fedex supplychain system inc             9 fedex   \n47549848842c    fedex supplychain system inc             9 fedex   \n8a9611150e92  shelby group international inc      1255 schilling   \n8a9611150e92  shelby group international inc      1255 schilling   \nccc41295a670                    ws hchem llc        0 winchester   \n77ebab57142d                      orgill inc  4100 houston levee   \n77ebab57142d                      orgill inc  4100 houston levee   \n1804cb03e0ba                         mob llc       160 schilling   \n69d6d70bd6a3                     rush it llc    0 bailey station   \n92116c88570a          mueller industries inc       150 schilling   \ne662249a4644                   ccl label inc        720 progress   \n72bfe4def2c6               imc companies llc      1305 schilling   \n\n               pilot_parcel_no underlying_parcel_number begin_date   end_date  \\\nowner_id                                                                        \n47549848842c  [IDB0001C000000]         [C0243000004060] 2019-01-13 2039-01-13   \n47549848842c  [IDB0006C000000]         [C0243000004050] 2019-01-13 2039-01-13   \n8a9611150e92  [IDB0000C000140]         [C024400A006570] 2013-12-31 2024-12-31   \n8a9611150e92  [IDB0000C00015A]         [5000150000000D] 2013-12-31 2024-12-31   \nccc41295a670  [IDB0000C000160]         [C024400A006820] 2016-06-01 2023-06-01   \n77ebab57142d  [IDB0000C00017A]         [5000160000000D] 2017-12-31 2032-12-31   \n77ebab57142d  [IDB0000C000180]         [C0243000006050] 2017-12-31 2032-12-31   \n1804cb03e0ba  [IDB0000C000200]         [C024400A004390] 2019-12-31 2029-12-31   \n69d6d70bd6a3  [IDB0000C000230]         [C0243000003150] 2020-02-01 2035-02-01   \n92116c88570a  [IDB0000C0017A2]         [5000170000000D] 2018-12-31 2038-12-31   \ne662249a4644  [IDB0000C000210]         [C0245000003540] 2018-01-01 2026-12-31   \n72bfe4def2c6  [IDB0000C000240]         [C02440A0007430] 2021-12-31 2031-12-31   \n\n             assmt_taxes pilot_contract_amt pilot_debt_service_amt difference  \nowner_id                                                                       \n47549848842c      221113              48928                  54770    -117416  \n47549848842c     1497979             358752                 374495    -764732  \n8a9611150e92       99361               7601                  24840     -66920  \n8a9611150e92        7261                  0                   1815      -5446  \nccc41295a670      129117             129117                      0          0  \n77ebab57142d       14628                  0                   3657     -10971  \n77ebab57142d      244570              15640                  61142    -167787  \n1804cb03e0ba      126135              35017                  24281     -66837  \n69d6d70bd6a3     1013298              66582                 253325    -693392  \n92116c88570a       12788                  0                   3197      -9591  \ne662249a4644      135647              12847                  47477     -75324  \n72bfe4def2c6       21117              15838                  65885      60606  ",
      "text/html": "<div>\n<style scoped>\n    .dataframe tbody tr th:only-of-type {\n        vertical-align: middle;\n    }\n\n    .dataframe tbody tr th {\n        vertical-align: top;\n    }\n\n    .dataframe thead th {\n        text-align: right;\n    }\n</style>\n<table border=\"1\" class=\"dataframe\">\n  <thead>\n    <tr style=\"text-align: right;\">\n      <th></th>\n      <th>owner</th>\n      <th>location</th>\n      <th>pilot_parcel_no</th>\n      <th>underlying_parcel_number</th>\n      <th>begin_date</th>\n      <th>end_date</th>\n      <th>assmt_taxes</th>\n      <th>pilot_contract_amt</th>\n      <th>pilot_debt_service_amt</th>\n      <th>difference</th>\n    </tr>\n    <tr>\n      <th>owner_id</th>\n      <th></th>\n      <th></th>\n      <th></th>\n      <th></th>\n      <th></th>\n      <th></th>\n      <th></th>\n      <th></th>\n      <th></th>\n      <th></th>\n    </tr>\n  </thead>\n  <tbody>\n    <tr>\n      <th>47549848842c</th>\n      <td>fedex supplychain system inc</td>\n      <td>9 fedex</td>\n      <td>[IDB0001C000000]</td>\n      <td>[C0243000004060]</td>\n      <td>2019-01-13</td>\n      <td>2039-01-13</td>\n      <td>221113</td>\n      <td>48928</td>\n      <td>54770</td>\n      <td>-117416</td>\n    </tr>\n    <tr>\n      <th>47549848842c</th>\n      <td>fedex supplychain system inc</td>\n      <td>9 fedex</td>\n      <td>[IDB0006C000000]</td>\n      <td>[C0243000004050]</td>\n      <td>2019-01-13</td>\n      <td>2039-01-13</td>\n      <td>1497979</td>\n      <td>358752</td>\n      <td>374495</td>\n      <td>-764732</td>\n    </tr>\n    <tr>\n      <th>8a9611150e92</th>\n      <td>shelby group international inc</td>\n      <td>1255 schilling</td>\n      <td>[IDB0000C000140]</td>\n      <td>[C024400A006570]</td>\n      <td>2013-12-31</td>\n      <td>2024-12-31</td>\n      <td>99361</td>\n      <td>7601</td>\n      <td>24840</td>\n      <td>-66920</td>\n    </tr>\n    <tr>\n      <th>8a9611150e92</th>\n      <td>shelby group international inc</td>\n      <td>1255 schilling</td>\n      <td>[IDB0000C00015A]</td>\n      <td>[5000150000000D]</td>\n      <td>2013-12-31</td>\n      <td>2024-12-31</td>\n      <td>7261</td>\n      <td>0</td>\n      <td>1815</td>\n      <td>-5446</td>\n    </tr>\n    <tr>\n      <th>ccc41295a670</th>\n      <td>ws hchem llc</td>\n      <td>0 winchester</td>\n      <td>[IDB0000C000160]</td>\n      <td>[C024400A006820]</td>\n      <td>2016-06-01</td>\n      <td>2023-06-01</td>\n      <td>129117</td>\n      <td>129117</td>\n      <td>0</td>\n      <td>0</td>\n    </tr>\n    <tr>\n      <th>77ebab57142d</th>\n      <td>orgill inc</td>\n      <td>4100 houston levee</td>\n      <td>[IDB0000C00017A]</td>\n      <td>[5000160000000D]</td>\n      <td>2017-12-31</td>\n      <td>2032-12-31</td>\n      <td>14628</td>\n      <td>0</td>\n      <td>3657</td>\n      <td>-10971</td>\n    </tr>\n    <tr>\n      <th>77ebab57142d</th>\n      <td>orgill inc</td>\n      <td>4100 houston levee</td>\n      <td>[IDB0000C000180]</td>\n      <td>[C0243000006050]</td>\n      <td>2017-12-31</td>\n      <td>2032-12-31</td>\n      <td>244570</td>\n      <td>15640</td>\n      <td>61142</td>\n      <td>-167787</td>\n    </tr>\n    <tr>\n      <th>1804cb03e0ba</th>\n      <td>mob llc</td>\n      <td>160 schilling</td>\n      <td>[IDB0000C000200]</td>\n      <td>[C024400A004390]</td>\n      <td>2019-12-31</td>\n      <td>2029-12-31</td>\n      <td>126135</td>\n      <td>35017</td>\n      <td>24281</td>\n      <td>-66837</td>\n    </tr>\n    <tr>\n      <th>69d6d70bd6a3</th>\n      <td>rush it llc</td>\n      <td>0 bailey station</td>\n      <td>[IDB0000C000230]</td>\n      <td>[C0243000003150]</td>\n      <td>2020-02-01</td>\n      <td>2035-02-01</td>\n      <td>1013298</td>\n      <td>66582</td>\n      <td>253325</td>\n      <td>-693392</td>\n    </tr>\n    <tr>\n      <th>92116c88570a</th>\n      <td>mueller industries inc</td>\n      <td>150 schilling</td>\n      <td>[IDB0000C0017A2]</td>\n      <td>[5000170000000D]</td>\n      <td>2018-12-31</td>\n      <td>2038-12-31</td>\n      <td>12788</td>\n      <td>0</td>\n      <td>3197</td>\n      <td>-9591</td>\n    </tr>\n    <tr>\n      <th>e662249a4644</th>\n      <td>ccl label inc</td>\n      <td>720 progress</td>\n      <td>[IDB0000C000210]</td>\n      <td>[C0245000003540]</td>\n      <td>2018-01-01</td>\n      <td>2026-12-31</td>\n      <td>135647</td>\n      <td>12847</td>\n      <td>47477</td>\n      <td>-75324</td>\n    </tr>\n    <tr>\n      <th>72bfe4def2c6</th>\n      <td>imc companies llc</td>\n      <td>1305 schilling</td>\n      <td>[IDB0000C000240]</td>\n      <td>[C02440A0007430]</td>\n      <td>2021-12-31</td>\n      <td>2031-12-31</td>\n      <td>21117</td>\n      <td>15838</td>\n      <td>65885</td>\n      <td>60606</td>\n    </tr>\n  </tbody>\n</table>\n</div>"
     },
     "execution_count": 21,
     "metadata": {},
     "output_type": "execute_result"
    }
   ],
   "source": [
    "# Create a unique index column based on the values in the identifying column\n",
    "# Note: Ids are based on a deterministic hash, which means they are \n",
    "# reproducible even if the function is run by a different user at a different time,\n",
    "# as long as the string in the identifying column is the same. \n",
    "\n",
    "identifying_columns = [\"owner\"]\n",
    "index_name = \"owner_id\"\n",
    "df = set_unique_index(df=df, columns_to_hash = identifying_columns, index_length_limit=12, index_name=index_name)\n",
    "df"
   ],
   "metadata": {
    "collapsed": false,
    "ExecuteTime": {
     "end_time": "2024-04-01T01:01:27.641527Z",
     "start_time": "2024-04-01T01:01:27.633708Z"
    }
   },
   "id": "fa13dd82fd715b68"
  },
  {
   "cell_type": "code",
   "execution_count": 22,
   "outputs": [
    {
     "data": {
      "text/plain": "owner                               object\nlocation                            object\npilot_parcel_no                     object\nunderlying_parcel_number            object\nbegin_date                  datetime64[ns]\nend_date                    datetime64[ns]\nassmt_taxes                         object\npilot_contract_amt                  object\npilot_debt_service_amt              object\ndifference                          object\ndtype: object"
     },
     "execution_count": 22,
     "metadata": {},
     "output_type": "execute_result"
    }
   ],
   "source": [
    "# Check the data types of each variable\n",
    "df.dtypes"
   ],
   "metadata": {
    "collapsed": false,
    "ExecuteTime": {
     "end_time": "2024-04-01T01:01:27.641735Z",
     "start_time": "2024-04-01T01:01:27.637759Z"
    }
   },
   "id": "fb1c412d6c764d7b"
  },
  {
   "cell_type": "code",
   "execution_count": 23,
   "outputs": [
    {
     "data": {
      "text/plain": "owner                       string[python]\nlocation                    string[python]\npilot_parcel_no             string[python]\nunderlying_parcel_number    string[python]\nbegin_date                  datetime64[ns]\nend_date                            object\nassmt_taxes                        float64\npilot_contract_amt                 float64\npilot_debt_service_amt             float64\ndifference                         float64\ndtype: object"
     },
     "execution_count": 23,
     "metadata": {},
     "output_type": "execute_result"
    }
   ],
   "source": [
    "# Fix the data type of each variable\n",
    "\n",
    "names_to_types = {'owner': 'string',\n",
    "                  'location': 'string',\n",
    "                  'pilot_parcel_no': 'string', \n",
    "                  'underlying_parcel_number': 'string',\n",
    "                  'begin_date': 'datetime64[ns]', \n",
    "                  'end_date': 'object',\n",
    "                  'assmt_taxes': 'float64',\n",
    "                  'pilot_contract_amt': 'float64',\n",
    "       'pilot_debt_service_amt': 'float64', \n",
    "                  'difference': 'float64'}\n",
    "df = cast_data_types(df, names_to_types)\n",
    "df.dtypes"
   ],
   "metadata": {
    "collapsed": false,
    "ExecuteTime": {
     "end_time": "2024-04-01T01:01:27.676477Z",
     "start_time": "2024-04-01T01:01:27.644262Z"
    }
   },
   "id": "fa0f0232d27d41fe"
  },
  {
   "cell_type": "code",
   "execution_count": 24,
   "outputs": [],
   "source": [
    "# Save the now-clean csv and convert it to utf-8 format\n",
    "outfile_path = \"../data/processed/s11_2022_idb_colierville.csv\"\n",
    "df.to_csv(outfile_path)\n",
    "convert_utf8(original_file_path=outfile_path, new_file_path=outfile_path)"
   ],
   "metadata": {
    "collapsed": false,
    "ExecuteTime": {
     "end_time": "2024-04-01T01:01:27.695917Z",
     "start_time": "2024-04-01T01:01:27.647842Z"
    }
   },
   "id": "209e2ad7bce3421"
  },
  {
   "cell_type": "code",
   "execution_count": 24,
   "outputs": [],
   "source": [],
   "metadata": {
    "collapsed": false,
    "ExecuteTime": {
     "end_time": "2024-04-01T01:01:27.727270Z",
     "start_time": "2024-04-01T01:01:27.655713Z"
    }
   },
   "id": "932f14634f70a566"
  }
 ],
 "metadata": {
  "kernelspec": {
   "display_name": "Python 3",
   "language": "python",
   "name": "python3"
  },
  "language_info": {
   "codemirror_mode": {
    "name": "ipython",
    "version": 2
   },
   "file_extension": ".py",
   "mimetype": "text/x-python",
   "name": "python",
   "nbconvert_exporter": "python",
   "pygments_lexer": "ipython2",
   "version": "2.7.6"
  }
 },
 "nbformat": 4,
 "nbformat_minor": 5
}
