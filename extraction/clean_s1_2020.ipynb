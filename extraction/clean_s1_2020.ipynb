{
 "cells": [
  {
   "cell_type": "code",
   "execution_count": 1,
   "outputs": [
    {
     "name": "stdout",
     "output_type": "stream",
     "text": [
      "Intel MKL WARNING: Support of Intel(R) Streaming SIMD Extensions 4.2 (Intel(R) SSE4.2) enabled only processors has been deprecated. Intel oneAPI Math Kernel Library 2025.0 will require Intel(R) Advanced Vector Extensions (Intel(R) AVX) instructions.\n",
      "Intel MKL WARNING: Support of Intel(R) Streaming SIMD Extensions 4.2 (Intel(R) SSE4.2) enabled only processors has been deprecated. Intel oneAPI Math Kernel Library 2025.0 will require Intel(R) Advanced Vector Extensions (Intel(R) AVX) instructions.\n"
     ]
    }
   ],
   "source": [
    "import pandas as pd\n",
    "from utils import *"
   ],
   "metadata": {
    "collapsed": false,
    "ExecuteTime": {
     "end_time": "2024-04-01T00:55:13.721255Z",
     "start_time": "2024-04-01T00:55:12.778031Z"
    }
   },
   "id": "f890863474a831e4"
  },
  {
   "cell_type": "markdown",
   "source": [
    "<h1>Cleaning a CSV</h1>"
   ],
   "metadata": {
    "collapsed": false
   },
   "id": "37c2459a70173916"
  },
  {
   "cell_type": "markdown",
   "source": [
    "Read in a CSV"
   ],
   "metadata": {
    "collapsed": false
   },
   "id": "70312fa54485148"
  },
  {
   "cell_type": "code",
   "execution_count": 2,
   "outputs": [
    {
     "data": {
      "text/plain": "                                     Board  Number of Contracts  \\\n0              Downtown Memphis Commission                  124   \n1                            EDGE - Shelby                  244   \n2      Industrial Development of Arlington                   12   \n3       Industrial Development of Bartlett                   11   \n4   Industrial Development of Collierville                   11   \n5     Industrial Development of Germantown                    5   \n6     Industrial Development of Millington                    1   \n7       Health & Education Board - Memphis                   80   \n8        Health & Education Board - Shelby                    7   \n9                  Miscellaneous Contracts                   10   \n10      City / County Government Contracts                    5   \n\n   Amount Billed Pilot (INL) Amount Billed Debt Service       Assessment  \\\n0              $1,810,641.75                 $1,253,932  $362,716,620.00   \n1              $3,571,519.04                 $5,759,342  $597,033,940.00   \n2                 $99,227.89                   $103,320   $12,374,870.00   \n3                 $31,642.62                   $103,452   $10,632,240.00   \n4                $768,997.18                   $918,418   $95,793,370.00   \n5                $347,401.82                   $233,408   $34,110,510.00   \n6                 $10,280.12                    $79,383    $7,840,320.00   \n7              $1,227,981.40                         $0  $156,089,720.00   \n8                $108,060.40                         $0   $28,279,320.00   \n9                 $35,460.00                         $0    $9,033,520.00   \n10                 $5,706.00                         $0    $3,141,560.00   \n\n   Tax Based on Assessment at 2021 Tax Rate      Difference  \\\n0                             14,690,023.11  -11,625,449.56   \n1                             24,179,874.57  -14,849,013.54   \n2                                501,182.24     -298,634.10   \n3                                430,605.72     -295,510.76   \n4                              3,879,631.49   -2,192,216.19   \n5                              1,381,475.66     -800,666.29   \n6                                317,532.96     -227,869.60   \n7                              6,321,633.66   -5,093,652.26   \n8                              1,145,312.46   -1,037,252.06   \n9                                365,857.56     -330,397.56   \n10                               127,233.18     -121,527.18   \n\n   Percentage Total PILOT Billing  \n0                          18.61%  \n1                          56.66%  \n2                           1.23%  \n3                           0.82%  \n4                          10.25%  \n5                           3.53%  \n6                           0.54%  \n7                           7.46%  \n8                           0.66%  \n9                           0.22%  \n10                          0.03%  ",
      "text/html": "<div>\n<style scoped>\n    .dataframe tbody tr th:only-of-type {\n        vertical-align: middle;\n    }\n\n    .dataframe tbody tr th {\n        vertical-align: top;\n    }\n\n    .dataframe thead th {\n        text-align: right;\n    }\n</style>\n<table border=\"1\" class=\"dataframe\">\n  <thead>\n    <tr style=\"text-align: right;\">\n      <th></th>\n      <th>Board</th>\n      <th>Number of Contracts</th>\n      <th>Amount Billed Pilot (INL)</th>\n      <th>Amount Billed Debt Service</th>\n      <th>Assessment</th>\n      <th>Tax Based on Assessment at 2021 Tax Rate</th>\n      <th>Difference</th>\n      <th>Percentage Total PILOT Billing</th>\n    </tr>\n  </thead>\n  <tbody>\n    <tr>\n      <th>0</th>\n      <td>Downtown Memphis Commission</td>\n      <td>124</td>\n      <td>$1,810,641.75</td>\n      <td>$1,253,932</td>\n      <td>$362,716,620.00</td>\n      <td>14,690,023.11</td>\n      <td>-11,625,449.56</td>\n      <td>18.61%</td>\n    </tr>\n    <tr>\n      <th>1</th>\n      <td>EDGE - Shelby</td>\n      <td>244</td>\n      <td>$3,571,519.04</td>\n      <td>$5,759,342</td>\n      <td>$597,033,940.00</td>\n      <td>24,179,874.57</td>\n      <td>-14,849,013.54</td>\n      <td>56.66%</td>\n    </tr>\n    <tr>\n      <th>2</th>\n      <td>Industrial Development of Arlington</td>\n      <td>12</td>\n      <td>$99,227.89</td>\n      <td>$103,320</td>\n      <td>$12,374,870.00</td>\n      <td>501,182.24</td>\n      <td>-298,634.10</td>\n      <td>1.23%</td>\n    </tr>\n    <tr>\n      <th>3</th>\n      <td>Industrial Development of Bartlett</td>\n      <td>11</td>\n      <td>$31,642.62</td>\n      <td>$103,452</td>\n      <td>$10,632,240.00</td>\n      <td>430,605.72</td>\n      <td>-295,510.76</td>\n      <td>0.82%</td>\n    </tr>\n    <tr>\n      <th>4</th>\n      <td>Industrial Development of Collierville</td>\n      <td>11</td>\n      <td>$768,997.18</td>\n      <td>$918,418</td>\n      <td>$95,793,370.00</td>\n      <td>3,879,631.49</td>\n      <td>-2,192,216.19</td>\n      <td>10.25%</td>\n    </tr>\n    <tr>\n      <th>5</th>\n      <td>Industrial Development of Germantown</td>\n      <td>5</td>\n      <td>$347,401.82</td>\n      <td>$233,408</td>\n      <td>$34,110,510.00</td>\n      <td>1,381,475.66</td>\n      <td>-800,666.29</td>\n      <td>3.53%</td>\n    </tr>\n    <tr>\n      <th>6</th>\n      <td>Industrial Development of Millington</td>\n      <td>1</td>\n      <td>$10,280.12</td>\n      <td>$79,383</td>\n      <td>$7,840,320.00</td>\n      <td>317,532.96</td>\n      <td>-227,869.60</td>\n      <td>0.54%</td>\n    </tr>\n    <tr>\n      <th>7</th>\n      <td>Health &amp; Education Board - Memphis</td>\n      <td>80</td>\n      <td>$1,227,981.40</td>\n      <td>$0</td>\n      <td>$156,089,720.00</td>\n      <td>6,321,633.66</td>\n      <td>-5,093,652.26</td>\n      <td>7.46%</td>\n    </tr>\n    <tr>\n      <th>8</th>\n      <td>Health &amp; Education Board - Shelby</td>\n      <td>7</td>\n      <td>$108,060.40</td>\n      <td>$0</td>\n      <td>$28,279,320.00</td>\n      <td>1,145,312.46</td>\n      <td>-1,037,252.06</td>\n      <td>0.66%</td>\n    </tr>\n    <tr>\n      <th>9</th>\n      <td>Miscellaneous Contracts</td>\n      <td>10</td>\n      <td>$35,460.00</td>\n      <td>$0</td>\n      <td>$9,033,520.00</td>\n      <td>365,857.56</td>\n      <td>-330,397.56</td>\n      <td>0.22%</td>\n    </tr>\n    <tr>\n      <th>10</th>\n      <td>City / County Government Contracts</td>\n      <td>5</td>\n      <td>$5,706.00</td>\n      <td>$0</td>\n      <td>$3,141,560.00</td>\n      <td>127,233.18</td>\n      <td>-121,527.18</td>\n      <td>0.03%</td>\n    </tr>\n  </tbody>\n</table>\n</div>"
     },
     "execution_count": 2,
     "metadata": {},
     "output_type": "execute_result"
    }
   ],
   "source": [
    "# load a dataframe\n",
    "infile_path = \"../data/raw/silver_shelby_county_properties_municipality_breakdown - s1_2020.csv\"\n",
    "df = pd.read_csv(infile_path)\n",
    "df"
   ],
   "metadata": {
    "collapsed": false,
    "ExecuteTime": {
     "end_time": "2024-04-01T00:55:13.738045Z",
     "start_time": "2024-04-01T00:55:13.723118Z"
    }
   },
   "id": "50cef4de40a6855d"
  },
  {
   "cell_type": "code",
   "execution_count": 3,
   "outputs": [
    {
     "data": {
      "text/plain": "Index(['board', 'number_of_contracts', 'amount_billed_pilot_inl',\n       'amount_billed_debt_service', 'assessment',\n       'tax_based_on_assessment_at_2021_tax_rate', 'difference',\n       'percentage_total_pilot_billing'],\n      dtype='object')"
     },
     "execution_count": 3,
     "metadata": {},
     "output_type": "execute_result"
    }
   ],
   "source": [
    "# Clean the column headers\n",
    "df = clean_headers(df, [remove_special_for_words, truncate, snake_case, lower_case])\n",
    "df.columns"
   ],
   "metadata": {
    "collapsed": false,
    "ExecuteTime": {
     "end_time": "2024-04-01T00:55:13.742102Z",
     "start_time": "2024-04-01T00:55:13.737806Z"
    }
   },
   "id": "f8e6a7fb4013b6e6"
  },
  {
   "cell_type": "code",
   "execution_count": 4,
   "outputs": [
    {
     "data": {
      "text/plain": "                                     board  number_of_contracts  \\\n0              downtown memphis commission                  124   \n1                              edge shelby                  244   \n2      industrial development of arlington                   12   \n3       industrial development of bartlett                   11   \n4   industrial development of collierville                   11   \n5     industrial development of germantown                    5   \n6     industrial development of millington                    1   \n7           health education board memphis                   80   \n8            health education board shelby                    7   \n9                  miscellaneous contracts                   10   \n10        city county government contracts                    5   \n\n   amount_billed_pilot_inl amount_billed_debt_service       assessment  \\\n0            $1,810,641.75                 $1,253,932  $362,716,620.00   \n1            $3,571,519.04                 $5,759,342  $597,033,940.00   \n2               $99,227.89                   $103,320   $12,374,870.00   \n3               $31,642.62                   $103,452   $10,632,240.00   \n4              $768,997.18                   $918,418   $95,793,370.00   \n5              $347,401.82                   $233,408   $34,110,510.00   \n6               $10,280.12                    $79,383    $7,840,320.00   \n7            $1,227,981.40                         $0  $156,089,720.00   \n8              $108,060.40                         $0   $28,279,320.00   \n9               $35,460.00                         $0    $9,033,520.00   \n10               $5,706.00                         $0    $3,141,560.00   \n\n   tax_based_on_assessment_at_2021_tax_rate      difference  \\\n0                             14,690,023.11  -11,625,449.56   \n1                             24,179,874.57  -14,849,013.54   \n2                                501,182.24     -298,634.10   \n3                                430,605.72     -295,510.76   \n4                              3,879,631.49   -2,192,216.19   \n5                              1,381,475.66     -800,666.29   \n6                                317,532.96     -227,869.60   \n7                              6,321,633.66   -5,093,652.26   \n8                              1,145,312.46   -1,037,252.06   \n9                                365,857.56     -330,397.56   \n10                               127,233.18     -121,527.18   \n\n   percentage_total_pilot_billing  \n0                          18.61%  \n1                          56.66%  \n2                           1.23%  \n3                           0.82%  \n4                          10.25%  \n5                           3.53%  \n6                           0.54%  \n7                           7.46%  \n8                           0.66%  \n9                           0.22%  \n10                          0.03%  ",
      "text/html": "<div>\n<style scoped>\n    .dataframe tbody tr th:only-of-type {\n        vertical-align: middle;\n    }\n\n    .dataframe tbody tr th {\n        vertical-align: top;\n    }\n\n    .dataframe thead th {\n        text-align: right;\n    }\n</style>\n<table border=\"1\" class=\"dataframe\">\n  <thead>\n    <tr style=\"text-align: right;\">\n      <th></th>\n      <th>board</th>\n      <th>number_of_contracts</th>\n      <th>amount_billed_pilot_inl</th>\n      <th>amount_billed_debt_service</th>\n      <th>assessment</th>\n      <th>tax_based_on_assessment_at_2021_tax_rate</th>\n      <th>difference</th>\n      <th>percentage_total_pilot_billing</th>\n    </tr>\n  </thead>\n  <tbody>\n    <tr>\n      <th>0</th>\n      <td>downtown memphis commission</td>\n      <td>124</td>\n      <td>$1,810,641.75</td>\n      <td>$1,253,932</td>\n      <td>$362,716,620.00</td>\n      <td>14,690,023.11</td>\n      <td>-11,625,449.56</td>\n      <td>18.61%</td>\n    </tr>\n    <tr>\n      <th>1</th>\n      <td>edge shelby</td>\n      <td>244</td>\n      <td>$3,571,519.04</td>\n      <td>$5,759,342</td>\n      <td>$597,033,940.00</td>\n      <td>24,179,874.57</td>\n      <td>-14,849,013.54</td>\n      <td>56.66%</td>\n    </tr>\n    <tr>\n      <th>2</th>\n      <td>industrial development of arlington</td>\n      <td>12</td>\n      <td>$99,227.89</td>\n      <td>$103,320</td>\n      <td>$12,374,870.00</td>\n      <td>501,182.24</td>\n      <td>-298,634.10</td>\n      <td>1.23%</td>\n    </tr>\n    <tr>\n      <th>3</th>\n      <td>industrial development of bartlett</td>\n      <td>11</td>\n      <td>$31,642.62</td>\n      <td>$103,452</td>\n      <td>$10,632,240.00</td>\n      <td>430,605.72</td>\n      <td>-295,510.76</td>\n      <td>0.82%</td>\n    </tr>\n    <tr>\n      <th>4</th>\n      <td>industrial development of collierville</td>\n      <td>11</td>\n      <td>$768,997.18</td>\n      <td>$918,418</td>\n      <td>$95,793,370.00</td>\n      <td>3,879,631.49</td>\n      <td>-2,192,216.19</td>\n      <td>10.25%</td>\n    </tr>\n    <tr>\n      <th>5</th>\n      <td>industrial development of germantown</td>\n      <td>5</td>\n      <td>$347,401.82</td>\n      <td>$233,408</td>\n      <td>$34,110,510.00</td>\n      <td>1,381,475.66</td>\n      <td>-800,666.29</td>\n      <td>3.53%</td>\n    </tr>\n    <tr>\n      <th>6</th>\n      <td>industrial development of millington</td>\n      <td>1</td>\n      <td>$10,280.12</td>\n      <td>$79,383</td>\n      <td>$7,840,320.00</td>\n      <td>317,532.96</td>\n      <td>-227,869.60</td>\n      <td>0.54%</td>\n    </tr>\n    <tr>\n      <th>7</th>\n      <td>health education board memphis</td>\n      <td>80</td>\n      <td>$1,227,981.40</td>\n      <td>$0</td>\n      <td>$156,089,720.00</td>\n      <td>6,321,633.66</td>\n      <td>-5,093,652.26</td>\n      <td>7.46%</td>\n    </tr>\n    <tr>\n      <th>8</th>\n      <td>health education board shelby</td>\n      <td>7</td>\n      <td>$108,060.40</td>\n      <td>$0</td>\n      <td>$28,279,320.00</td>\n      <td>1,145,312.46</td>\n      <td>-1,037,252.06</td>\n      <td>0.66%</td>\n    </tr>\n    <tr>\n      <th>9</th>\n      <td>miscellaneous contracts</td>\n      <td>10</td>\n      <td>$35,460.00</td>\n      <td>$0</td>\n      <td>$9,033,520.00</td>\n      <td>365,857.56</td>\n      <td>-330,397.56</td>\n      <td>0.22%</td>\n    </tr>\n    <tr>\n      <th>10</th>\n      <td>city county government contracts</td>\n      <td>5</td>\n      <td>$5,706.00</td>\n      <td>$0</td>\n      <td>$3,141,560.00</td>\n      <td>127,233.18</td>\n      <td>-121,527.18</td>\n      <td>0.03%</td>\n    </tr>\n  </tbody>\n</table>\n</div>"
     },
     "execution_count": 4,
     "metadata": {},
     "output_type": "execute_result"
    }
   ],
   "source": [
    "# Clean the string columns\n",
    "string_columns = [\"board\"]\n",
    "df = clean_columns(df, string_columns, [remove_special_for_words, truncate, lower_case])\n",
    "df"
   ],
   "metadata": {
    "collapsed": false,
    "ExecuteTime": {
     "end_time": "2024-04-01T00:55:13.783485Z",
     "start_time": "2024-04-01T00:55:13.745597Z"
    }
   },
   "id": "67171db99d8fff6d"
  },
  {
   "cell_type": "code",
   "execution_count": 5,
   "outputs": [
    {
     "data": {
      "text/plain": "                                     board  number_of_contracts  \\\n0              downtown memphis commission                  124   \n1                              edge shelby                  244   \n2      industrial development of arlington                   12   \n3       industrial development of bartlett                   11   \n4   industrial development of collierville                   11   \n5     industrial development of germantown                    5   \n6     industrial development of millington                    1   \n7           health education board memphis                   80   \n8            health education board shelby                    7   \n9                  miscellaneous contracts                   10   \n10        city county government contracts                    5   \n\n   amount_billed_pilot_inl amount_billed_debt_service    assessment  \\\n0               1810641.75                    1253932  362716620.00   \n1               3571519.04                    5759342  597033940.00   \n2                 99227.89                     103320   12374870.00   \n3                 31642.62                     103452   10632240.00   \n4                768997.18                     918418   95793370.00   \n5                347401.82                     233408   34110510.00   \n6                 10280.12                      79383    7840320.00   \n7               1227981.40                          0  156089720.00   \n8                108060.40                          0   28279320.00   \n9                 35460.00                          0    9033520.00   \n10                 5706.00                          0    3141560.00   \n\n   tax_based_on_assessment_at_2021_tax_rate    difference  \\\n0                               14690023.11  -11625449.56   \n1                               24179874.57  -14849013.54   \n2                                 501182.24    -298634.10   \n3                                 430605.72    -295510.76   \n4                                3879631.49   -2192216.19   \n5                                1381475.66    -800666.29   \n6                                 317532.96    -227869.60   \n7                                6321633.66   -5093652.26   \n8                                1145312.46   -1037252.06   \n9                                 365857.56    -330397.56   \n10                                127233.18    -121527.18   \n\n   percentage_total_pilot_billing  \n0                           18.61  \n1                           56.66  \n2                            1.23  \n3                            0.82  \n4                           10.25  \n5                            3.53  \n6                            0.54  \n7                            7.46  \n8                            0.66  \n9                            0.22  \n10                           0.03  ",
      "text/html": "<div>\n<style scoped>\n    .dataframe tbody tr th:only-of-type {\n        vertical-align: middle;\n    }\n\n    .dataframe tbody tr th {\n        vertical-align: top;\n    }\n\n    .dataframe thead th {\n        text-align: right;\n    }\n</style>\n<table border=\"1\" class=\"dataframe\">\n  <thead>\n    <tr style=\"text-align: right;\">\n      <th></th>\n      <th>board</th>\n      <th>number_of_contracts</th>\n      <th>amount_billed_pilot_inl</th>\n      <th>amount_billed_debt_service</th>\n      <th>assessment</th>\n      <th>tax_based_on_assessment_at_2021_tax_rate</th>\n      <th>difference</th>\n      <th>percentage_total_pilot_billing</th>\n    </tr>\n  </thead>\n  <tbody>\n    <tr>\n      <th>0</th>\n      <td>downtown memphis commission</td>\n      <td>124</td>\n      <td>1810641.75</td>\n      <td>1253932</td>\n      <td>362716620.00</td>\n      <td>14690023.11</td>\n      <td>-11625449.56</td>\n      <td>18.61</td>\n    </tr>\n    <tr>\n      <th>1</th>\n      <td>edge shelby</td>\n      <td>244</td>\n      <td>3571519.04</td>\n      <td>5759342</td>\n      <td>597033940.00</td>\n      <td>24179874.57</td>\n      <td>-14849013.54</td>\n      <td>56.66</td>\n    </tr>\n    <tr>\n      <th>2</th>\n      <td>industrial development of arlington</td>\n      <td>12</td>\n      <td>99227.89</td>\n      <td>103320</td>\n      <td>12374870.00</td>\n      <td>501182.24</td>\n      <td>-298634.10</td>\n      <td>1.23</td>\n    </tr>\n    <tr>\n      <th>3</th>\n      <td>industrial development of bartlett</td>\n      <td>11</td>\n      <td>31642.62</td>\n      <td>103452</td>\n      <td>10632240.00</td>\n      <td>430605.72</td>\n      <td>-295510.76</td>\n      <td>0.82</td>\n    </tr>\n    <tr>\n      <th>4</th>\n      <td>industrial development of collierville</td>\n      <td>11</td>\n      <td>768997.18</td>\n      <td>918418</td>\n      <td>95793370.00</td>\n      <td>3879631.49</td>\n      <td>-2192216.19</td>\n      <td>10.25</td>\n    </tr>\n    <tr>\n      <th>5</th>\n      <td>industrial development of germantown</td>\n      <td>5</td>\n      <td>347401.82</td>\n      <td>233408</td>\n      <td>34110510.00</td>\n      <td>1381475.66</td>\n      <td>-800666.29</td>\n      <td>3.53</td>\n    </tr>\n    <tr>\n      <th>6</th>\n      <td>industrial development of millington</td>\n      <td>1</td>\n      <td>10280.12</td>\n      <td>79383</td>\n      <td>7840320.00</td>\n      <td>317532.96</td>\n      <td>-227869.60</td>\n      <td>0.54</td>\n    </tr>\n    <tr>\n      <th>7</th>\n      <td>health education board memphis</td>\n      <td>80</td>\n      <td>1227981.40</td>\n      <td>0</td>\n      <td>156089720.00</td>\n      <td>6321633.66</td>\n      <td>-5093652.26</td>\n      <td>7.46</td>\n    </tr>\n    <tr>\n      <th>8</th>\n      <td>health education board shelby</td>\n      <td>7</td>\n      <td>108060.40</td>\n      <td>0</td>\n      <td>28279320.00</td>\n      <td>1145312.46</td>\n      <td>-1037252.06</td>\n      <td>0.66</td>\n    </tr>\n    <tr>\n      <th>9</th>\n      <td>miscellaneous contracts</td>\n      <td>10</td>\n      <td>35460.00</td>\n      <td>0</td>\n      <td>9033520.00</td>\n      <td>365857.56</td>\n      <td>-330397.56</td>\n      <td>0.22</td>\n    </tr>\n    <tr>\n      <th>10</th>\n      <td>city county government contracts</td>\n      <td>5</td>\n      <td>5706.00</td>\n      <td>0</td>\n      <td>3141560.00</td>\n      <td>127233.18</td>\n      <td>-121527.18</td>\n      <td>0.03</td>\n    </tr>\n  </tbody>\n</table>\n</div>"
     },
     "execution_count": 5,
     "metadata": {},
     "output_type": "execute_result"
    }
   ],
   "source": [
    "# Clean the numeric columns\n",
    "numeric_columns = ['amount_billed_pilot_inl', \n",
    "                   'amount_billed_debt_service', \n",
    "                   'assessment',\n",
    "                   'tax_based_on_assessment_at_2021_tax_rate', \n",
    "                   'difference',\n",
    "                   'percentage_total_pilot_billing']\n",
    "df = clean_columns(df, numeric_columns, [remove_special_for_numbers])\n",
    "df"
   ],
   "metadata": {
    "collapsed": false,
    "ExecuteTime": {
     "end_time": "2024-04-01T00:55:13.796522Z",
     "start_time": "2024-04-01T00:55:13.755518Z"
    }
   },
   "id": "fd553dbc31168c70"
  },
  {
   "cell_type": "code",
   "execution_count": 6,
   "outputs": [
    {
     "data": {
      "text/plain": "board                                       object\nnumber_of_contracts                          int64\namount_billed_pilot_inl                     object\namount_billed_debt_service                  object\nassessment                                  object\ntax_based_on_assessment_at_2021_tax_rate    object\ndifference                                  object\npercentage_total_pilot_billing              object\ndtype: object"
     },
     "execution_count": 6,
     "metadata": {},
     "output_type": "execute_result"
    }
   ],
   "source": [
    "# Check the data types of each variable\n",
    "df.dtypes"
   ],
   "metadata": {
    "collapsed": false,
    "ExecuteTime": {
     "end_time": "2024-04-01T00:55:13.796667Z",
     "start_time": "2024-04-01T00:55:13.759565Z"
    }
   },
   "id": "fb1c412d6c764d7b"
  },
  {
   "cell_type": "code",
   "execution_count": 7,
   "outputs": [
    {
     "data": {
      "text/plain": "board                                        object\nnumber_of_contracts                           int64\namount_billed_pilot_inl                     float64\namount_billed_debt_service                  float64\nassessment                                  float64\ntax_based_on_assessment_at_2021_tax_rate    float64\ndifference                                  float64\npercentage_total_pilot_billing              float64\ndtype: object"
     },
     "execution_count": 7,
     "metadata": {},
     "output_type": "execute_result"
    }
   ],
   "source": [
    "# Fix the data type of each variable\n",
    "names_to_types = {\"board\": str, \n",
    "                  \"number_of_contracts\": int, \n",
    "                  \"amount_billed_pilot_inl\": float, \n",
    "                  \"amount_billed_debt_service\": float, \n",
    "                  \"assessment\": float,\n",
    "                  \"tax_based_on_assessment_at_2021_tax_rate\": float, \n",
    "                  \"difference\": float,\n",
    "                  \"percentage_total_pilot_billing\": float,\n",
    "                  }\n",
    "df = cast_data_types(df, names_to_types)\n",
    "df.dtypes"
   ],
   "metadata": {
    "collapsed": false,
    "ExecuteTime": {
     "end_time": "2024-04-01T00:55:13.796744Z",
     "start_time": "2024-04-01T00:55:13.764637Z"
    }
   },
   "id": "fa0f0232d27d41fe"
  },
  {
   "cell_type": "code",
   "execution_count": 8,
   "outputs": [
    {
     "data": {
      "text/plain": "                                               board  number_of_contracts  \\\nboard_id                                                                    \n5b1f4c0c65a3             downtown memphis commission                  124   \nd5fe3a85ec4e                             edge shelby                  244   \nabb34861ca91     industrial development of arlington                   12   \naada4183f85c      industrial development of bartlett                   11   \n91e543f3085f  industrial development of collierville                   11   \n3f1cf0abc31c    industrial development of germantown                    5   \n757a7152194c    industrial development of millington                    1   \n3bcfcbd3a12d          health education board memphis                   80   \n64c9e33b120e           health education board shelby                    7   \ndf3a7c5fc143                 miscellaneous contracts                   10   \nac18571846b6        city county government contracts                    5   \n\n              amount_billed_pilot_inl  amount_billed_debt_service  \\\nboard_id                                                            \n5b1f4c0c65a3               1810641.75                   1253932.0   \nd5fe3a85ec4e               3571519.04                   5759342.0   \nabb34861ca91                 99227.89                    103320.0   \naada4183f85c                 31642.62                    103452.0   \n91e543f3085f                768997.18                    918418.0   \n3f1cf0abc31c                347401.82                    233408.0   \n757a7152194c                 10280.12                     79383.0   \n3bcfcbd3a12d               1227981.40                         0.0   \n64c9e33b120e                108060.40                         0.0   \ndf3a7c5fc143                 35460.00                         0.0   \nac18571846b6                  5706.00                         0.0   \n\n               assessment  tax_based_on_assessment_at_2021_tax_rate  \\\nboard_id                                                              \n5b1f4c0c65a3  362716620.0                               14690023.11   \nd5fe3a85ec4e  597033940.0                               24179874.57   \nabb34861ca91   12374870.0                                 501182.24   \naada4183f85c   10632240.0                                 430605.72   \n91e543f3085f   95793370.0                                3879631.49   \n3f1cf0abc31c   34110510.0                                1381475.66   \n757a7152194c    7840320.0                                 317532.96   \n3bcfcbd3a12d  156089720.0                                6321633.66   \n64c9e33b120e   28279320.0                                1145312.46   \ndf3a7c5fc143    9033520.0                                 365857.56   \nac18571846b6    3141560.0                                 127233.18   \n\n               difference  percentage_total_pilot_billing  \nboard_id                                                   \n5b1f4c0c65a3 -11625449.56                           18.61  \nd5fe3a85ec4e -14849013.54                           56.66  \nabb34861ca91   -298634.10                            1.23  \naada4183f85c   -295510.76                            0.82  \n91e543f3085f  -2192216.19                           10.25  \n3f1cf0abc31c   -800666.29                            3.53  \n757a7152194c   -227869.60                            0.54  \n3bcfcbd3a12d  -5093652.26                            7.46  \n64c9e33b120e  -1037252.06                            0.66  \ndf3a7c5fc143   -330397.56                            0.22  \nac18571846b6   -121527.18                            0.03  ",
      "text/html": "<div>\n<style scoped>\n    .dataframe tbody tr th:only-of-type {\n        vertical-align: middle;\n    }\n\n    .dataframe tbody tr th {\n        vertical-align: top;\n    }\n\n    .dataframe thead th {\n        text-align: right;\n    }\n</style>\n<table border=\"1\" class=\"dataframe\">\n  <thead>\n    <tr style=\"text-align: right;\">\n      <th></th>\n      <th>board</th>\n      <th>number_of_contracts</th>\n      <th>amount_billed_pilot_inl</th>\n      <th>amount_billed_debt_service</th>\n      <th>assessment</th>\n      <th>tax_based_on_assessment_at_2021_tax_rate</th>\n      <th>difference</th>\n      <th>percentage_total_pilot_billing</th>\n    </tr>\n    <tr>\n      <th>board_id</th>\n      <th></th>\n      <th></th>\n      <th></th>\n      <th></th>\n      <th></th>\n      <th></th>\n      <th></th>\n      <th></th>\n    </tr>\n  </thead>\n  <tbody>\n    <tr>\n      <th>5b1f4c0c65a3</th>\n      <td>downtown memphis commission</td>\n      <td>124</td>\n      <td>1810641.75</td>\n      <td>1253932.0</td>\n      <td>362716620.0</td>\n      <td>14690023.11</td>\n      <td>-11625449.56</td>\n      <td>18.61</td>\n    </tr>\n    <tr>\n      <th>d5fe3a85ec4e</th>\n      <td>edge shelby</td>\n      <td>244</td>\n      <td>3571519.04</td>\n      <td>5759342.0</td>\n      <td>597033940.0</td>\n      <td>24179874.57</td>\n      <td>-14849013.54</td>\n      <td>56.66</td>\n    </tr>\n    <tr>\n      <th>abb34861ca91</th>\n      <td>industrial development of arlington</td>\n      <td>12</td>\n      <td>99227.89</td>\n      <td>103320.0</td>\n      <td>12374870.0</td>\n      <td>501182.24</td>\n      <td>-298634.10</td>\n      <td>1.23</td>\n    </tr>\n    <tr>\n      <th>aada4183f85c</th>\n      <td>industrial development of bartlett</td>\n      <td>11</td>\n      <td>31642.62</td>\n      <td>103452.0</td>\n      <td>10632240.0</td>\n      <td>430605.72</td>\n      <td>-295510.76</td>\n      <td>0.82</td>\n    </tr>\n    <tr>\n      <th>91e543f3085f</th>\n      <td>industrial development of collierville</td>\n      <td>11</td>\n      <td>768997.18</td>\n      <td>918418.0</td>\n      <td>95793370.0</td>\n      <td>3879631.49</td>\n      <td>-2192216.19</td>\n      <td>10.25</td>\n    </tr>\n    <tr>\n      <th>3f1cf0abc31c</th>\n      <td>industrial development of germantown</td>\n      <td>5</td>\n      <td>347401.82</td>\n      <td>233408.0</td>\n      <td>34110510.0</td>\n      <td>1381475.66</td>\n      <td>-800666.29</td>\n      <td>3.53</td>\n    </tr>\n    <tr>\n      <th>757a7152194c</th>\n      <td>industrial development of millington</td>\n      <td>1</td>\n      <td>10280.12</td>\n      <td>79383.0</td>\n      <td>7840320.0</td>\n      <td>317532.96</td>\n      <td>-227869.60</td>\n      <td>0.54</td>\n    </tr>\n    <tr>\n      <th>3bcfcbd3a12d</th>\n      <td>health education board memphis</td>\n      <td>80</td>\n      <td>1227981.40</td>\n      <td>0.0</td>\n      <td>156089720.0</td>\n      <td>6321633.66</td>\n      <td>-5093652.26</td>\n      <td>7.46</td>\n    </tr>\n    <tr>\n      <th>64c9e33b120e</th>\n      <td>health education board shelby</td>\n      <td>7</td>\n      <td>108060.40</td>\n      <td>0.0</td>\n      <td>28279320.0</td>\n      <td>1145312.46</td>\n      <td>-1037252.06</td>\n      <td>0.66</td>\n    </tr>\n    <tr>\n      <th>df3a7c5fc143</th>\n      <td>miscellaneous contracts</td>\n      <td>10</td>\n      <td>35460.00</td>\n      <td>0.0</td>\n      <td>9033520.0</td>\n      <td>365857.56</td>\n      <td>-330397.56</td>\n      <td>0.22</td>\n    </tr>\n    <tr>\n      <th>ac18571846b6</th>\n      <td>city county government contracts</td>\n      <td>5</td>\n      <td>5706.00</td>\n      <td>0.0</td>\n      <td>3141560.0</td>\n      <td>127233.18</td>\n      <td>-121527.18</td>\n      <td>0.03</td>\n    </tr>\n  </tbody>\n</table>\n</div>"
     },
     "execution_count": 8,
     "metadata": {},
     "output_type": "execute_result"
    }
   ],
   "source": [
    "# Create a unique index column based on the values in the identifying column\n",
    "# Note: Ids are based on a deterministic hash, which means they are \n",
    "# reproducible even if the function is run by a different user at a different time,\n",
    "# as long as the string in the identifying column is the same. \n",
    "\n",
    "identifying_columns = [\"board\"]\n",
    "index_name = \"board_id\"\n",
    "df = set_unique_index(df=df, columns_to_hash = identifying_columns, index_length_limit=12, index_name=index_name)\n",
    "df"
   ],
   "metadata": {
    "collapsed": false,
    "ExecuteTime": {
     "end_time": "2024-04-01T00:55:13.797334Z",
     "start_time": "2024-04-01T00:55:13.775164Z"
    }
   },
   "id": "fa13dd82fd715b68"
  },
  {
   "cell_type": "code",
   "execution_count": 9,
   "outputs": [],
   "source": [
    "# Save the now-clean csv and convert it to utf-8 format\n",
    "outfile_path = \"../data/processed/s1_2020.csv\"\n",
    "df.to_csv(outfile_path)\n",
    "convert_utf8(original_file_path=outfile_path, new_file_path=outfile_path)"
   ],
   "metadata": {
    "collapsed": false,
    "ExecuteTime": {
     "end_time": "2024-04-01T00:55:13.797618Z",
     "start_time": "2024-04-01T00:55:13.778533Z"
    }
   },
   "id": "209e2ad7bce3421"
  },
  {
   "cell_type": "code",
   "execution_count": 9,
   "outputs": [],
   "source": [],
   "metadata": {
    "collapsed": false,
    "ExecuteTime": {
     "end_time": "2024-04-01T00:55:13.797652Z",
     "start_time": "2024-04-01T00:55:13.786786Z"
    }
   },
   "id": "735c05af5ce3d757"
  }
 ],
 "metadata": {
  "kernelspec": {
   "display_name": "Python 3",
   "language": "python",
   "name": "python3"
  },
  "language_info": {
   "codemirror_mode": {
    "name": "ipython",
    "version": 2
   },
   "file_extension": ".py",
   "mimetype": "text/x-python",
   "name": "python",
   "nbconvert_exporter": "python",
   "pygments_lexer": "ipython2",
   "version": "2.7.6"
  }
 },
 "nbformat": 4,
 "nbformat_minor": 5
}
