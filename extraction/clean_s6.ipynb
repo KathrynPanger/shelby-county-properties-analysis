{
 "cells": [
  {
   "cell_type": "code",
   "execution_count": 26,
   "outputs": [],
   "source": [
    "import pandas as pd\n",
    "from utils import *\n",
    "from typing import Any"
   ],
   "metadata": {
    "collapsed": false,
    "ExecuteTime": {
     "end_time": "2024-04-01T01:00:07.242145Z",
     "start_time": "2024-04-01T01:00:07.162792Z"
    }
   },
   "id": "f890863474a831e4"
  },
  {
   "cell_type": "markdown",
   "source": [
    "<h1>Cleaning a CSV</h1>"
   ],
   "metadata": {
    "collapsed": false
   },
   "id": "37c2459a70173916"
  },
  {
   "cell_type": "markdown",
   "source": [
    "Read in a CSV"
   ],
   "metadata": {
    "collapsed": false
   },
   "id": "70312fa54485148"
  },
  {
   "cell_type": "code",
   "execution_count": 27,
   "outputs": [
    {
     "data": {
      "text/plain": "                                      Owner                Location  \\\n0                      HILLCREST MEMPHIS LP  4155 EAST WIND DR., #1   \n1                 ALCO PERSHING PARTNERS LP                0 STEELE   \n2    CROCKETT PARK (AGNES PLACE APARTMENTS)        2645 DAVEY DRIVE   \n3             UPTOWN VILLAGE APARTMENTS, LP                0 THOMAS   \n4     UPTOWN SENIOR HOUSING DEVELOPMENT, LP               669 THIRD   \n..                                      ...                     ...   \n102             SHELBY POINTE TOWNHOMES LLC  1500 EAST SHELBY DRIVE   \n103               SC BARTLETT INVESTORS LLC   2171 SYCAMORE VIEW RD   \n104            APP BREEZY PARTNERS, L.L.L.P         1500 OBERLE AVE   \n105                            SOUTH CITY V          457 BRIGHTSIDE   \n106           UNIVERSITY PLACE SOUTHEAST LP                 0 LAMAR   \n\n    PILOT Parcel No        Underlying Parcel Number  Begin Date    End Date  \\\n0    IHE0000A000000                  0790040000001C  10/01/2008  09/30/2028   \n1    IHE0000B000000  07101400000950, 07101400000960  08/01/2008  12/31/2028   \n2    IHE0001B000000  0710560A00016C, 0710560A00046Z  05/01/2005  05/01/2025   \n3    IHE0001L000000  0010960A000960, 0010960A000970  03/05/2004  03/04/2024   \n4    IHE0001R000000  0010560000002C, 00105600000070  04/19/2006  04/18/2026   \n..              ...                             ...         ...         ...   \n102  IHE0007K000000                   0790500A00025  04/14/2022  04/13/2042   \n103  IHE0007L000000                   088041000017C  03/01/2022  02/28/2042   \n104  IHE0007N000000                   070037000041C  09/01/2022  08/31/2042   \n105  IHE0007O000000                    702000000290  09/01/2022  08/31/2042   \n106  IHE06850000000  03202000000030, 03202000000040  05/11/2006  05/10/2026   \n\n    Assmt Taxes PILOT Contract Amt PILOT Debt Service Amt Difference  \n0       $53,193            $16,412                     $0   -$36,781  \n1       $40,315            $14,754                     $0   -$25,562  \n2       $60,985               $187                     $0   -$60,797  \n3       $48,181             $1,984                     $0   -$46,197  \n4       $41,349             $2,175                     $0   -$39,174  \n..          ...                ...                    ...        ...  \n102     $46,330            $16,628                     $0   -$29,702  \n103     $64,513            $27,042                     $0   -$37,471  \n104     $55,026             $9,196                     $0   -$45,830  \n105      $1,832               $765                     $0    -$1,067  \n106     $87,915             $2,034                     $0   -$85,881  \n\n[107 rows x 10 columns]",
      "text/html": "<div>\n<style scoped>\n    .dataframe tbody tr th:only-of-type {\n        vertical-align: middle;\n    }\n\n    .dataframe tbody tr th {\n        vertical-align: top;\n    }\n\n    .dataframe thead th {\n        text-align: right;\n    }\n</style>\n<table border=\"1\" class=\"dataframe\">\n  <thead>\n    <tr style=\"text-align: right;\">\n      <th></th>\n      <th>Owner</th>\n      <th>Location</th>\n      <th>PILOT Parcel No</th>\n      <th>Underlying Parcel Number</th>\n      <th>Begin Date</th>\n      <th>End Date</th>\n      <th>Assmt Taxes</th>\n      <th>PILOT Contract Amt</th>\n      <th>PILOT Debt Service Amt</th>\n      <th>Difference</th>\n    </tr>\n  </thead>\n  <tbody>\n    <tr>\n      <th>0</th>\n      <td>HILLCREST MEMPHIS LP</td>\n      <td>4155 EAST WIND DR., #1</td>\n      <td>IHE0000A000000</td>\n      <td>0790040000001C</td>\n      <td>10/01/2008</td>\n      <td>09/30/2028</td>\n      <td>$53,193</td>\n      <td>$16,412</td>\n      <td>$0</td>\n      <td>-$36,781</td>\n    </tr>\n    <tr>\n      <th>1</th>\n      <td>ALCO PERSHING PARTNERS LP</td>\n      <td>0 STEELE</td>\n      <td>IHE0000B000000</td>\n      <td>07101400000950, 07101400000960</td>\n      <td>08/01/2008</td>\n      <td>12/31/2028</td>\n      <td>$40,315</td>\n      <td>$14,754</td>\n      <td>$0</td>\n      <td>-$25,562</td>\n    </tr>\n    <tr>\n      <th>2</th>\n      <td>CROCKETT PARK (AGNES PLACE APARTMENTS)</td>\n      <td>2645 DAVEY DRIVE</td>\n      <td>IHE0001B000000</td>\n      <td>0710560A00016C, 0710560A00046Z</td>\n      <td>05/01/2005</td>\n      <td>05/01/2025</td>\n      <td>$60,985</td>\n      <td>$187</td>\n      <td>$0</td>\n      <td>-$60,797</td>\n    </tr>\n    <tr>\n      <th>3</th>\n      <td>UPTOWN VILLAGE APARTMENTS, LP</td>\n      <td>0 THOMAS</td>\n      <td>IHE0001L000000</td>\n      <td>0010960A000960, 0010960A000970</td>\n      <td>03/05/2004</td>\n      <td>03/04/2024</td>\n      <td>$48,181</td>\n      <td>$1,984</td>\n      <td>$0</td>\n      <td>-$46,197</td>\n    </tr>\n    <tr>\n      <th>4</th>\n      <td>UPTOWN SENIOR HOUSING DEVELOPMENT, LP</td>\n      <td>669 THIRD</td>\n      <td>IHE0001R000000</td>\n      <td>0010560000002C, 00105600000070</td>\n      <td>04/19/2006</td>\n      <td>04/18/2026</td>\n      <td>$41,349</td>\n      <td>$2,175</td>\n      <td>$0</td>\n      <td>-$39,174</td>\n    </tr>\n    <tr>\n      <th>...</th>\n      <td>...</td>\n      <td>...</td>\n      <td>...</td>\n      <td>...</td>\n      <td>...</td>\n      <td>...</td>\n      <td>...</td>\n      <td>...</td>\n      <td>...</td>\n      <td>...</td>\n    </tr>\n    <tr>\n      <th>102</th>\n      <td>SHELBY POINTE TOWNHOMES LLC</td>\n      <td>1500 EAST SHELBY DRIVE</td>\n      <td>IHE0007K000000</td>\n      <td>0790500A00025</td>\n      <td>04/14/2022</td>\n      <td>04/13/2042</td>\n      <td>$46,330</td>\n      <td>$16,628</td>\n      <td>$0</td>\n      <td>-$29,702</td>\n    </tr>\n    <tr>\n      <th>103</th>\n      <td>SC BARTLETT INVESTORS LLC</td>\n      <td>2171 SYCAMORE VIEW RD</td>\n      <td>IHE0007L000000</td>\n      <td>088041000017C</td>\n      <td>03/01/2022</td>\n      <td>02/28/2042</td>\n      <td>$64,513</td>\n      <td>$27,042</td>\n      <td>$0</td>\n      <td>-$37,471</td>\n    </tr>\n    <tr>\n      <th>104</th>\n      <td>APP BREEZY PARTNERS, L.L.L.P</td>\n      <td>1500 OBERLE AVE</td>\n      <td>IHE0007N000000</td>\n      <td>070037000041C</td>\n      <td>09/01/2022</td>\n      <td>08/31/2042</td>\n      <td>$55,026</td>\n      <td>$9,196</td>\n      <td>$0</td>\n      <td>-$45,830</td>\n    </tr>\n    <tr>\n      <th>105</th>\n      <td>SOUTH CITY V</td>\n      <td>457 BRIGHTSIDE</td>\n      <td>IHE0007O000000</td>\n      <td>702000000290</td>\n      <td>09/01/2022</td>\n      <td>08/31/2042</td>\n      <td>$1,832</td>\n      <td>$765</td>\n      <td>$0</td>\n      <td>-$1,067</td>\n    </tr>\n    <tr>\n      <th>106</th>\n      <td>UNIVERSITY PLACE SOUTHEAST LP</td>\n      <td>0 LAMAR</td>\n      <td>IHE06850000000</td>\n      <td>03202000000030, 03202000000040</td>\n      <td>05/11/2006</td>\n      <td>05/10/2026</td>\n      <td>$87,915</td>\n      <td>$2,034</td>\n      <td>$0</td>\n      <td>-$85,881</td>\n    </tr>\n  </tbody>\n</table>\n<p>107 rows × 10 columns</p>\n</div>"
     },
     "execution_count": 27,
     "metadata": {},
     "output_type": "execute_result"
    }
   ],
   "source": [
    "# load a dataframe\n",
    "infile_path = \"../data/raw/silver_shelby_county_properties_municipality_breakdown - s6_2022_ihe.csv\"\n",
    "df = pd.read_csv(infile_path)\n",
    "df"
   ],
   "metadata": {
    "collapsed": false,
    "ExecuteTime": {
     "end_time": "2024-04-01T01:00:07.247026Z",
     "start_time": "2024-04-01T01:00:07.167479Z"
    }
   },
   "id": "50cef4de40a6855d"
  },
  {
   "cell_type": "code",
   "execution_count": 28,
   "outputs": [
    {
     "data": {
      "text/plain": "Index(['owner', 'location', 'pilot_parcel_no', 'underlying_parcel_number',\n       'begin_date', 'end_date', 'assmt_taxes', 'pilot_contract_amt',\n       'pilot_debt_service_amt', 'difference'],\n      dtype='object')"
     },
     "execution_count": 28,
     "metadata": {},
     "output_type": "execute_result"
    }
   ],
   "source": [
    "# Clean the column headers\n",
    "df = clean_headers(df, [remove_special_for_words, truncate, snake_case, lower_case])\n",
    "df.columns"
   ],
   "metadata": {
    "collapsed": false,
    "ExecuteTime": {
     "end_time": "2024-04-01T01:00:07.247797Z",
     "start_time": "2024-04-01T01:00:07.185604Z"
    }
   },
   "id": "f8e6a7fb4013b6e6"
  },
  {
   "cell_type": "code",
   "execution_count": 29,
   "outputs": [
    {
     "data": {
      "text/plain": "                                    owner                location  \\\n0                    hillcrest memphis lp     4155 east wind dr 1   \n1               alco pershing partners lp                0 steele   \n2    crockett park agnes place apartments        2645 davey drive   \n3            uptown village apartments lp                0 thomas   \n4    uptown senior housing development lp               669 third   \n..                                    ...                     ...   \n102           shelby pointe townhomes llc  1500 east shelby drive   \n103             sc bartlett investors llc   2171 sycamore view rd   \n104           app breezy partners l l l p         1500 oberle ave   \n105                          south city v          457 brightside   \n106         university place southeast lp                 0 lamar   \n\n    pilot_parcel_no        underlying_parcel_number  begin_date    end_date  \\\n0    IHE0000A000000                  0790040000001C  10/01/2008  09/30/2028   \n1    IHE0000B000000  07101400000950, 07101400000960  08/01/2008  12/31/2028   \n2    IHE0001B000000  0710560A00016C, 0710560A00046Z  05/01/2005  05/01/2025   \n3    IHE0001L000000  0010960A000960, 0010960A000970  03/05/2004  03/04/2024   \n4    IHE0001R000000  0010560000002C, 00105600000070  04/19/2006  04/18/2026   \n..              ...                             ...         ...         ...   \n102  IHE0007K000000                   0790500A00025  04/14/2022  04/13/2042   \n103  IHE0007L000000                   088041000017C  03/01/2022  02/28/2042   \n104  IHE0007N000000                   070037000041C  09/01/2022  08/31/2042   \n105  IHE0007O000000                    702000000290  09/01/2022  08/31/2042   \n106  IHE06850000000  03202000000030, 03202000000040  05/11/2006  05/10/2026   \n\n    assmt_taxes pilot_contract_amt pilot_debt_service_amt difference  \n0       $53,193            $16,412                     $0   -$36,781  \n1       $40,315            $14,754                     $0   -$25,562  \n2       $60,985               $187                     $0   -$60,797  \n3       $48,181             $1,984                     $0   -$46,197  \n4       $41,349             $2,175                     $0   -$39,174  \n..          ...                ...                    ...        ...  \n102     $46,330            $16,628                     $0   -$29,702  \n103     $64,513            $27,042                     $0   -$37,471  \n104     $55,026             $9,196                     $0   -$45,830  \n105      $1,832               $765                     $0    -$1,067  \n106     $87,915             $2,034                     $0   -$85,881  \n\n[107 rows x 10 columns]",
      "text/html": "<div>\n<style scoped>\n    .dataframe tbody tr th:only-of-type {\n        vertical-align: middle;\n    }\n\n    .dataframe tbody tr th {\n        vertical-align: top;\n    }\n\n    .dataframe thead th {\n        text-align: right;\n    }\n</style>\n<table border=\"1\" class=\"dataframe\">\n  <thead>\n    <tr style=\"text-align: right;\">\n      <th></th>\n      <th>owner</th>\n      <th>location</th>\n      <th>pilot_parcel_no</th>\n      <th>underlying_parcel_number</th>\n      <th>begin_date</th>\n      <th>end_date</th>\n      <th>assmt_taxes</th>\n      <th>pilot_contract_amt</th>\n      <th>pilot_debt_service_amt</th>\n      <th>difference</th>\n    </tr>\n  </thead>\n  <tbody>\n    <tr>\n      <th>0</th>\n      <td>hillcrest memphis lp</td>\n      <td>4155 east wind dr 1</td>\n      <td>IHE0000A000000</td>\n      <td>0790040000001C</td>\n      <td>10/01/2008</td>\n      <td>09/30/2028</td>\n      <td>$53,193</td>\n      <td>$16,412</td>\n      <td>$0</td>\n      <td>-$36,781</td>\n    </tr>\n    <tr>\n      <th>1</th>\n      <td>alco pershing partners lp</td>\n      <td>0 steele</td>\n      <td>IHE0000B000000</td>\n      <td>07101400000950, 07101400000960</td>\n      <td>08/01/2008</td>\n      <td>12/31/2028</td>\n      <td>$40,315</td>\n      <td>$14,754</td>\n      <td>$0</td>\n      <td>-$25,562</td>\n    </tr>\n    <tr>\n      <th>2</th>\n      <td>crockett park agnes place apartments</td>\n      <td>2645 davey drive</td>\n      <td>IHE0001B000000</td>\n      <td>0710560A00016C, 0710560A00046Z</td>\n      <td>05/01/2005</td>\n      <td>05/01/2025</td>\n      <td>$60,985</td>\n      <td>$187</td>\n      <td>$0</td>\n      <td>-$60,797</td>\n    </tr>\n    <tr>\n      <th>3</th>\n      <td>uptown village apartments lp</td>\n      <td>0 thomas</td>\n      <td>IHE0001L000000</td>\n      <td>0010960A000960, 0010960A000970</td>\n      <td>03/05/2004</td>\n      <td>03/04/2024</td>\n      <td>$48,181</td>\n      <td>$1,984</td>\n      <td>$0</td>\n      <td>-$46,197</td>\n    </tr>\n    <tr>\n      <th>4</th>\n      <td>uptown senior housing development lp</td>\n      <td>669 third</td>\n      <td>IHE0001R000000</td>\n      <td>0010560000002C, 00105600000070</td>\n      <td>04/19/2006</td>\n      <td>04/18/2026</td>\n      <td>$41,349</td>\n      <td>$2,175</td>\n      <td>$0</td>\n      <td>-$39,174</td>\n    </tr>\n    <tr>\n      <th>...</th>\n      <td>...</td>\n      <td>...</td>\n      <td>...</td>\n      <td>...</td>\n      <td>...</td>\n      <td>...</td>\n      <td>...</td>\n      <td>...</td>\n      <td>...</td>\n      <td>...</td>\n    </tr>\n    <tr>\n      <th>102</th>\n      <td>shelby pointe townhomes llc</td>\n      <td>1500 east shelby drive</td>\n      <td>IHE0007K000000</td>\n      <td>0790500A00025</td>\n      <td>04/14/2022</td>\n      <td>04/13/2042</td>\n      <td>$46,330</td>\n      <td>$16,628</td>\n      <td>$0</td>\n      <td>-$29,702</td>\n    </tr>\n    <tr>\n      <th>103</th>\n      <td>sc bartlett investors llc</td>\n      <td>2171 sycamore view rd</td>\n      <td>IHE0007L000000</td>\n      <td>088041000017C</td>\n      <td>03/01/2022</td>\n      <td>02/28/2042</td>\n      <td>$64,513</td>\n      <td>$27,042</td>\n      <td>$0</td>\n      <td>-$37,471</td>\n    </tr>\n    <tr>\n      <th>104</th>\n      <td>app breezy partners l l l p</td>\n      <td>1500 oberle ave</td>\n      <td>IHE0007N000000</td>\n      <td>070037000041C</td>\n      <td>09/01/2022</td>\n      <td>08/31/2042</td>\n      <td>$55,026</td>\n      <td>$9,196</td>\n      <td>$0</td>\n      <td>-$45,830</td>\n    </tr>\n    <tr>\n      <th>105</th>\n      <td>south city v</td>\n      <td>457 brightside</td>\n      <td>IHE0007O000000</td>\n      <td>702000000290</td>\n      <td>09/01/2022</td>\n      <td>08/31/2042</td>\n      <td>$1,832</td>\n      <td>$765</td>\n      <td>$0</td>\n      <td>-$1,067</td>\n    </tr>\n    <tr>\n      <th>106</th>\n      <td>university place southeast lp</td>\n      <td>0 lamar</td>\n      <td>IHE06850000000</td>\n      <td>03202000000030, 03202000000040</td>\n      <td>05/11/2006</td>\n      <td>05/10/2026</td>\n      <td>$87,915</td>\n      <td>$2,034</td>\n      <td>$0</td>\n      <td>-$85,881</td>\n    </tr>\n  </tbody>\n</table>\n<p>107 rows × 10 columns</p>\n</div>"
     },
     "execution_count": 29,
     "metadata": {},
     "output_type": "execute_result"
    }
   ],
   "source": [
    "# Clean the string columns\n",
    "string_columns = [\"owner\", \n",
    "                  \"location\"]\n",
    "df = clean_columns(df, string_columns, [remove_special_for_words, truncate, lower_case])\n",
    "df"
   ],
   "metadata": {
    "collapsed": false,
    "ExecuteTime": {
     "end_time": "2024-04-01T01:00:07.248026Z",
     "start_time": "2024-04-01T01:00:07.196635Z"
    }
   },
   "id": "67171db99d8fff6d"
  },
  {
   "cell_type": "code",
   "execution_count": 30,
   "outputs": [
    {
     "data": {
      "text/plain": "Index(['owner', 'location', 'pilot_parcel_no', 'underlying_parcel_number',\n       'begin_date', 'end_date', 'assmt_taxes', 'pilot_contract_amt',\n       'pilot_debt_service_amt', 'difference'],\n      dtype='object')"
     },
     "execution_count": 30,
     "metadata": {},
     "output_type": "execute_result"
    }
   ],
   "source": [
    "df.columns"
   ],
   "metadata": {
    "collapsed": false,
    "ExecuteTime": {
     "end_time": "2024-04-01T01:00:07.248088Z",
     "start_time": "2024-04-01T01:00:07.200069Z"
    }
   },
   "id": "4484a9731b2bde17"
  },
  {
   "cell_type": "code",
   "execution_count": 31,
   "outputs": [
    {
     "data": {
      "text/plain": "                                    owner                location  \\\n0                    hillcrest memphis lp     4155 east wind dr 1   \n1               alco pershing partners lp                0 steele   \n2    crockett park agnes place apartments        2645 davey drive   \n3            uptown village apartments lp                0 thomas   \n4    uptown senior housing development lp               669 third   \n..                                    ...                     ...   \n102           shelby pointe townhomes llc  1500 east shelby drive   \n103             sc bartlett investors llc   2171 sycamore view rd   \n104           app breezy partners l l l p         1500 oberle ave   \n105                          south city v          457 brightside   \n106         university place southeast lp                 0 lamar   \n\n    pilot_parcel_no        underlying_parcel_number  begin_date    end_date  \\\n0    IHE0000A000000                  0790040000001C  10/01/2008  09/30/2028   \n1    IHE0000B000000  07101400000950, 07101400000960  08/01/2008  12/31/2028   \n2    IHE0001B000000  0710560A00016C, 0710560A00046Z  05/01/2005  05/01/2025   \n3    IHE0001L000000  0010960A000960, 0010960A000970  03/05/2004  03/04/2024   \n4    IHE0001R000000  0010560000002C, 00105600000070  04/19/2006  04/18/2026   \n..              ...                             ...         ...         ...   \n102  IHE0007K000000                   0790500A00025  04/14/2022  04/13/2042   \n103  IHE0007L000000                   088041000017C  03/01/2022  02/28/2042   \n104  IHE0007N000000                   070037000041C  09/01/2022  08/31/2042   \n105  IHE0007O000000                    702000000290  09/01/2022  08/31/2042   \n106  IHE06850000000  03202000000030, 03202000000040  05/11/2006  05/10/2026   \n\n    assmt_taxes pilot_contract_amt pilot_debt_service_amt difference  \n0         53193              16412                      0     -36781  \n1         40315              14754                      0     -25562  \n2         60985                187                      0     -60797  \n3         48181               1984                      0     -46197  \n4         41349               2175                      0     -39174  \n..          ...                ...                    ...        ...  \n102       46330              16628                      0     -29702  \n103       64513              27042                      0     -37471  \n104       55026               9196                      0     -45830  \n105        1832                765                      0      -1067  \n106       87915               2034                      0     -85881  \n\n[107 rows x 10 columns]",
      "text/html": "<div>\n<style scoped>\n    .dataframe tbody tr th:only-of-type {\n        vertical-align: middle;\n    }\n\n    .dataframe tbody tr th {\n        vertical-align: top;\n    }\n\n    .dataframe thead th {\n        text-align: right;\n    }\n</style>\n<table border=\"1\" class=\"dataframe\">\n  <thead>\n    <tr style=\"text-align: right;\">\n      <th></th>\n      <th>owner</th>\n      <th>location</th>\n      <th>pilot_parcel_no</th>\n      <th>underlying_parcel_number</th>\n      <th>begin_date</th>\n      <th>end_date</th>\n      <th>assmt_taxes</th>\n      <th>pilot_contract_amt</th>\n      <th>pilot_debt_service_amt</th>\n      <th>difference</th>\n    </tr>\n  </thead>\n  <tbody>\n    <tr>\n      <th>0</th>\n      <td>hillcrest memphis lp</td>\n      <td>4155 east wind dr 1</td>\n      <td>IHE0000A000000</td>\n      <td>0790040000001C</td>\n      <td>10/01/2008</td>\n      <td>09/30/2028</td>\n      <td>53193</td>\n      <td>16412</td>\n      <td>0</td>\n      <td>-36781</td>\n    </tr>\n    <tr>\n      <th>1</th>\n      <td>alco pershing partners lp</td>\n      <td>0 steele</td>\n      <td>IHE0000B000000</td>\n      <td>07101400000950, 07101400000960</td>\n      <td>08/01/2008</td>\n      <td>12/31/2028</td>\n      <td>40315</td>\n      <td>14754</td>\n      <td>0</td>\n      <td>-25562</td>\n    </tr>\n    <tr>\n      <th>2</th>\n      <td>crockett park agnes place apartments</td>\n      <td>2645 davey drive</td>\n      <td>IHE0001B000000</td>\n      <td>0710560A00016C, 0710560A00046Z</td>\n      <td>05/01/2005</td>\n      <td>05/01/2025</td>\n      <td>60985</td>\n      <td>187</td>\n      <td>0</td>\n      <td>-60797</td>\n    </tr>\n    <tr>\n      <th>3</th>\n      <td>uptown village apartments lp</td>\n      <td>0 thomas</td>\n      <td>IHE0001L000000</td>\n      <td>0010960A000960, 0010960A000970</td>\n      <td>03/05/2004</td>\n      <td>03/04/2024</td>\n      <td>48181</td>\n      <td>1984</td>\n      <td>0</td>\n      <td>-46197</td>\n    </tr>\n    <tr>\n      <th>4</th>\n      <td>uptown senior housing development lp</td>\n      <td>669 third</td>\n      <td>IHE0001R000000</td>\n      <td>0010560000002C, 00105600000070</td>\n      <td>04/19/2006</td>\n      <td>04/18/2026</td>\n      <td>41349</td>\n      <td>2175</td>\n      <td>0</td>\n      <td>-39174</td>\n    </tr>\n    <tr>\n      <th>...</th>\n      <td>...</td>\n      <td>...</td>\n      <td>...</td>\n      <td>...</td>\n      <td>...</td>\n      <td>...</td>\n      <td>...</td>\n      <td>...</td>\n      <td>...</td>\n      <td>...</td>\n    </tr>\n    <tr>\n      <th>102</th>\n      <td>shelby pointe townhomes llc</td>\n      <td>1500 east shelby drive</td>\n      <td>IHE0007K000000</td>\n      <td>0790500A00025</td>\n      <td>04/14/2022</td>\n      <td>04/13/2042</td>\n      <td>46330</td>\n      <td>16628</td>\n      <td>0</td>\n      <td>-29702</td>\n    </tr>\n    <tr>\n      <th>103</th>\n      <td>sc bartlett investors llc</td>\n      <td>2171 sycamore view rd</td>\n      <td>IHE0007L000000</td>\n      <td>088041000017C</td>\n      <td>03/01/2022</td>\n      <td>02/28/2042</td>\n      <td>64513</td>\n      <td>27042</td>\n      <td>0</td>\n      <td>-37471</td>\n    </tr>\n    <tr>\n      <th>104</th>\n      <td>app breezy partners l l l p</td>\n      <td>1500 oberle ave</td>\n      <td>IHE0007N000000</td>\n      <td>070037000041C</td>\n      <td>09/01/2022</td>\n      <td>08/31/2042</td>\n      <td>55026</td>\n      <td>9196</td>\n      <td>0</td>\n      <td>-45830</td>\n    </tr>\n    <tr>\n      <th>105</th>\n      <td>south city v</td>\n      <td>457 brightside</td>\n      <td>IHE0007O000000</td>\n      <td>702000000290</td>\n      <td>09/01/2022</td>\n      <td>08/31/2042</td>\n      <td>1832</td>\n      <td>765</td>\n      <td>0</td>\n      <td>-1067</td>\n    </tr>\n    <tr>\n      <th>106</th>\n      <td>university place southeast lp</td>\n      <td>0 lamar</td>\n      <td>IHE06850000000</td>\n      <td>03202000000030, 03202000000040</td>\n      <td>05/11/2006</td>\n      <td>05/10/2026</td>\n      <td>87915</td>\n      <td>2034</td>\n      <td>0</td>\n      <td>-85881</td>\n    </tr>\n  </tbody>\n</table>\n<p>107 rows × 10 columns</p>\n</div>"
     },
     "execution_count": 31,
     "metadata": {},
     "output_type": "execute_result"
    }
   ],
   "source": [
    "# Clean the numeric columns\n",
    "numeric_columns = ['assmt_taxes', 'pilot_contract_amt',\n",
    "       'pilot_debt_service_amt', 'difference']\n",
    "df = clean_columns(df, numeric_columns, [remove_special_for_numbers, convert_only_dash_to_missing])\n",
    "\n",
    "df"
   ],
   "metadata": {
    "collapsed": false,
    "ExecuteTime": {
     "end_time": "2024-04-01T01:00:07.248274Z",
     "start_time": "2024-04-01T01:00:07.202581Z"
    }
   },
   "id": "fd553dbc31168c70"
  },
  {
   "cell_type": "code",
   "execution_count": 32,
   "outputs": [
    {
     "data": {
      "text/plain": "                                    owner                location  \\\n0                    hillcrest memphis lp     4155 east wind dr 1   \n1               alco pershing partners lp                0 steele   \n2    crockett park agnes place apartments        2645 davey drive   \n3            uptown village apartments lp                0 thomas   \n4    uptown senior housing development lp               669 third   \n..                                    ...                     ...   \n102           shelby pointe townhomes llc  1500 east shelby drive   \n103             sc bartlett investors llc   2171 sycamore view rd   \n104           app breezy partners l l l p         1500 oberle ave   \n105                          south city v          457 brightside   \n106         university place southeast lp                 0 lamar   \n\n    pilot_parcel_no        underlying_parcel_number begin_date   end_date  \\\n0    IHE0000A000000                  0790040000001C 2008-10-01 2028-09-30   \n1    IHE0000B000000  07101400000950, 07101400000960 2008-08-01 2028-12-31   \n2    IHE0001B000000  0710560A00016C, 0710560A00046Z 2005-05-01 2025-05-01   \n3    IHE0001L000000  0010960A000960, 0010960A000970 2004-03-05 2024-03-04   \n4    IHE0001R000000  0010560000002C, 00105600000070 2006-04-19 2026-04-18   \n..              ...                             ...        ...        ...   \n102  IHE0007K000000                   0790500A00025 2022-04-14 2042-04-13   \n103  IHE0007L000000                   088041000017C 2022-03-01 2042-02-28   \n104  IHE0007N000000                   070037000041C 2022-09-01 2042-08-31   \n105  IHE0007O000000                    702000000290 2022-09-01 2042-08-31   \n106  IHE06850000000  03202000000030, 03202000000040 2006-05-11 2026-05-10   \n\n    assmt_taxes pilot_contract_amt pilot_debt_service_amt difference  \n0         53193              16412                      0     -36781  \n1         40315              14754                      0     -25562  \n2         60985                187                      0     -60797  \n3         48181               1984                      0     -46197  \n4         41349               2175                      0     -39174  \n..          ...                ...                    ...        ...  \n102       46330              16628                      0     -29702  \n103       64513              27042                      0     -37471  \n104       55026               9196                      0     -45830  \n105        1832                765                      0      -1067  \n106       87915               2034                      0     -85881  \n\n[107 rows x 10 columns]",
      "text/html": "<div>\n<style scoped>\n    .dataframe tbody tr th:only-of-type {\n        vertical-align: middle;\n    }\n\n    .dataframe tbody tr th {\n        vertical-align: top;\n    }\n\n    .dataframe thead th {\n        text-align: right;\n    }\n</style>\n<table border=\"1\" class=\"dataframe\">\n  <thead>\n    <tr style=\"text-align: right;\">\n      <th></th>\n      <th>owner</th>\n      <th>location</th>\n      <th>pilot_parcel_no</th>\n      <th>underlying_parcel_number</th>\n      <th>begin_date</th>\n      <th>end_date</th>\n      <th>assmt_taxes</th>\n      <th>pilot_contract_amt</th>\n      <th>pilot_debt_service_amt</th>\n      <th>difference</th>\n    </tr>\n  </thead>\n  <tbody>\n    <tr>\n      <th>0</th>\n      <td>hillcrest memphis lp</td>\n      <td>4155 east wind dr 1</td>\n      <td>IHE0000A000000</td>\n      <td>0790040000001C</td>\n      <td>2008-10-01</td>\n      <td>2028-09-30</td>\n      <td>53193</td>\n      <td>16412</td>\n      <td>0</td>\n      <td>-36781</td>\n    </tr>\n    <tr>\n      <th>1</th>\n      <td>alco pershing partners lp</td>\n      <td>0 steele</td>\n      <td>IHE0000B000000</td>\n      <td>07101400000950, 07101400000960</td>\n      <td>2008-08-01</td>\n      <td>2028-12-31</td>\n      <td>40315</td>\n      <td>14754</td>\n      <td>0</td>\n      <td>-25562</td>\n    </tr>\n    <tr>\n      <th>2</th>\n      <td>crockett park agnes place apartments</td>\n      <td>2645 davey drive</td>\n      <td>IHE0001B000000</td>\n      <td>0710560A00016C, 0710560A00046Z</td>\n      <td>2005-05-01</td>\n      <td>2025-05-01</td>\n      <td>60985</td>\n      <td>187</td>\n      <td>0</td>\n      <td>-60797</td>\n    </tr>\n    <tr>\n      <th>3</th>\n      <td>uptown village apartments lp</td>\n      <td>0 thomas</td>\n      <td>IHE0001L000000</td>\n      <td>0010960A000960, 0010960A000970</td>\n      <td>2004-03-05</td>\n      <td>2024-03-04</td>\n      <td>48181</td>\n      <td>1984</td>\n      <td>0</td>\n      <td>-46197</td>\n    </tr>\n    <tr>\n      <th>4</th>\n      <td>uptown senior housing development lp</td>\n      <td>669 third</td>\n      <td>IHE0001R000000</td>\n      <td>0010560000002C, 00105600000070</td>\n      <td>2006-04-19</td>\n      <td>2026-04-18</td>\n      <td>41349</td>\n      <td>2175</td>\n      <td>0</td>\n      <td>-39174</td>\n    </tr>\n    <tr>\n      <th>...</th>\n      <td>...</td>\n      <td>...</td>\n      <td>...</td>\n      <td>...</td>\n      <td>...</td>\n      <td>...</td>\n      <td>...</td>\n      <td>...</td>\n      <td>...</td>\n      <td>...</td>\n    </tr>\n    <tr>\n      <th>102</th>\n      <td>shelby pointe townhomes llc</td>\n      <td>1500 east shelby drive</td>\n      <td>IHE0007K000000</td>\n      <td>0790500A00025</td>\n      <td>2022-04-14</td>\n      <td>2042-04-13</td>\n      <td>46330</td>\n      <td>16628</td>\n      <td>0</td>\n      <td>-29702</td>\n    </tr>\n    <tr>\n      <th>103</th>\n      <td>sc bartlett investors llc</td>\n      <td>2171 sycamore view rd</td>\n      <td>IHE0007L000000</td>\n      <td>088041000017C</td>\n      <td>2022-03-01</td>\n      <td>2042-02-28</td>\n      <td>64513</td>\n      <td>27042</td>\n      <td>0</td>\n      <td>-37471</td>\n    </tr>\n    <tr>\n      <th>104</th>\n      <td>app breezy partners l l l p</td>\n      <td>1500 oberle ave</td>\n      <td>IHE0007N000000</td>\n      <td>070037000041C</td>\n      <td>2022-09-01</td>\n      <td>2042-08-31</td>\n      <td>55026</td>\n      <td>9196</td>\n      <td>0</td>\n      <td>-45830</td>\n    </tr>\n    <tr>\n      <th>105</th>\n      <td>south city v</td>\n      <td>457 brightside</td>\n      <td>IHE0007O000000</td>\n      <td>702000000290</td>\n      <td>2022-09-01</td>\n      <td>2042-08-31</td>\n      <td>1832</td>\n      <td>765</td>\n      <td>0</td>\n      <td>-1067</td>\n    </tr>\n    <tr>\n      <th>106</th>\n      <td>university place southeast lp</td>\n      <td>0 lamar</td>\n      <td>IHE06850000000</td>\n      <td>03202000000030, 03202000000040</td>\n      <td>2006-05-11</td>\n      <td>2026-05-10</td>\n      <td>87915</td>\n      <td>2034</td>\n      <td>0</td>\n      <td>-85881</td>\n    </tr>\n  </tbody>\n</table>\n<p>107 rows × 10 columns</p>\n</div>"
     },
     "execution_count": 32,
     "metadata": {},
     "output_type": "execute_result"
    }
   ],
   "source": [
    "# Clean the date columns\n",
    "\n",
    "# Because this data has an idiosyncratic \"end date\" value of \"End of Loan\", \n",
    "# we must define a dataset-specific function\n",
    "def cast_end_date_to_datetime(entry: str | Number):\n",
    "    try:\n",
    "        return pd.to_datetime(str(entry))\n",
    "    except ValueError:\n",
    "        return entry\n",
    "df[\"begin_date\"] = pd.to_datetime(df[\"begin_date\"])\n",
    "df[\"end_date\"] = df[\"end_date\"].apply(lambda x: cast_end_date_to_datetime(x))\n",
    "df"
   ],
   "metadata": {
    "collapsed": false,
    "ExecuteTime": {
     "end_time": "2024-04-01T01:00:07.249132Z",
     "start_time": "2024-04-01T01:00:07.242006Z"
    }
   },
   "id": "1efa55d32b4be610"
  },
  {
   "cell_type": "code",
   "execution_count": 33,
   "outputs": [
    {
     "data": {
      "text/plain": "                                    owner                location  \\\n0                    hillcrest memphis lp     4155 east wind dr 1   \n1               alco pershing partners lp                0 steele   \n2    crockett park agnes place apartments        2645 davey drive   \n3            uptown village apartments lp                0 thomas   \n4    uptown senior housing development lp               669 third   \n..                                    ...                     ...   \n102           shelby pointe townhomes llc  1500 east shelby drive   \n103             sc bartlett investors llc   2171 sycamore view rd   \n104           app breezy partners l l l p         1500 oberle ave   \n105                          south city v          457 brightside   \n106         university place southeast lp                 0 lamar   \n\n      pilot_parcel_no           underlying_parcel_number begin_date  \\\n0    [IHE0000A000000]                   [0790040000001C] 2008-10-01   \n1    [IHE0000B000000]  [07101400000950,  07101400000960] 2008-08-01   \n2    [IHE0001B000000]  [0710560A00016C,  0710560A00046Z] 2005-05-01   \n3    [IHE0001L000000]  [0010960A000960,  0010960A000970] 2004-03-05   \n4    [IHE0001R000000]  [0010560000002C,  00105600000070] 2006-04-19   \n..                ...                                ...        ...   \n102  [IHE0007K000000]                    [0790500A00025] 2022-04-14   \n103  [IHE0007L000000]                    [088041000017C] 2022-03-01   \n104  [IHE0007N000000]                    [070037000041C] 2022-09-01   \n105  [IHE0007O000000]                     [702000000290] 2022-09-01   \n106  [IHE06850000000]  [03202000000030,  03202000000040] 2006-05-11   \n\n      end_date assmt_taxes pilot_contract_amt pilot_debt_service_amt  \\\n0   2028-09-30       53193              16412                      0   \n1   2028-12-31       40315              14754                      0   \n2   2025-05-01       60985                187                      0   \n3   2024-03-04       48181               1984                      0   \n4   2026-04-18       41349               2175                      0   \n..         ...         ...                ...                    ...   \n102 2042-04-13       46330              16628                      0   \n103 2042-02-28       64513              27042                      0   \n104 2042-08-31       55026               9196                      0   \n105 2042-08-31        1832                765                      0   \n106 2026-05-10       87915               2034                      0   \n\n    difference  \n0       -36781  \n1       -25562  \n2       -60797  \n3       -46197  \n4       -39174  \n..         ...  \n102     -29702  \n103     -37471  \n104     -45830  \n105      -1067  \n106     -85881  \n\n[107 rows x 10 columns]",
      "text/html": "<div>\n<style scoped>\n    .dataframe tbody tr th:only-of-type {\n        vertical-align: middle;\n    }\n\n    .dataframe tbody tr th {\n        vertical-align: top;\n    }\n\n    .dataframe thead th {\n        text-align: right;\n    }\n</style>\n<table border=\"1\" class=\"dataframe\">\n  <thead>\n    <tr style=\"text-align: right;\">\n      <th></th>\n      <th>owner</th>\n      <th>location</th>\n      <th>pilot_parcel_no</th>\n      <th>underlying_parcel_number</th>\n      <th>begin_date</th>\n      <th>end_date</th>\n      <th>assmt_taxes</th>\n      <th>pilot_contract_amt</th>\n      <th>pilot_debt_service_amt</th>\n      <th>difference</th>\n    </tr>\n  </thead>\n  <tbody>\n    <tr>\n      <th>0</th>\n      <td>hillcrest memphis lp</td>\n      <td>4155 east wind dr 1</td>\n      <td>[IHE0000A000000]</td>\n      <td>[0790040000001C]</td>\n      <td>2008-10-01</td>\n      <td>2028-09-30</td>\n      <td>53193</td>\n      <td>16412</td>\n      <td>0</td>\n      <td>-36781</td>\n    </tr>\n    <tr>\n      <th>1</th>\n      <td>alco pershing partners lp</td>\n      <td>0 steele</td>\n      <td>[IHE0000B000000]</td>\n      <td>[07101400000950,  07101400000960]</td>\n      <td>2008-08-01</td>\n      <td>2028-12-31</td>\n      <td>40315</td>\n      <td>14754</td>\n      <td>0</td>\n      <td>-25562</td>\n    </tr>\n    <tr>\n      <th>2</th>\n      <td>crockett park agnes place apartments</td>\n      <td>2645 davey drive</td>\n      <td>[IHE0001B000000]</td>\n      <td>[0710560A00016C,  0710560A00046Z]</td>\n      <td>2005-05-01</td>\n      <td>2025-05-01</td>\n      <td>60985</td>\n      <td>187</td>\n      <td>0</td>\n      <td>-60797</td>\n    </tr>\n    <tr>\n      <th>3</th>\n      <td>uptown village apartments lp</td>\n      <td>0 thomas</td>\n      <td>[IHE0001L000000]</td>\n      <td>[0010960A000960,  0010960A000970]</td>\n      <td>2004-03-05</td>\n      <td>2024-03-04</td>\n      <td>48181</td>\n      <td>1984</td>\n      <td>0</td>\n      <td>-46197</td>\n    </tr>\n    <tr>\n      <th>4</th>\n      <td>uptown senior housing development lp</td>\n      <td>669 third</td>\n      <td>[IHE0001R000000]</td>\n      <td>[0010560000002C,  00105600000070]</td>\n      <td>2006-04-19</td>\n      <td>2026-04-18</td>\n      <td>41349</td>\n      <td>2175</td>\n      <td>0</td>\n      <td>-39174</td>\n    </tr>\n    <tr>\n      <th>...</th>\n      <td>...</td>\n      <td>...</td>\n      <td>...</td>\n      <td>...</td>\n      <td>...</td>\n      <td>...</td>\n      <td>...</td>\n      <td>...</td>\n      <td>...</td>\n      <td>...</td>\n    </tr>\n    <tr>\n      <th>102</th>\n      <td>shelby pointe townhomes llc</td>\n      <td>1500 east shelby drive</td>\n      <td>[IHE0007K000000]</td>\n      <td>[0790500A00025]</td>\n      <td>2022-04-14</td>\n      <td>2042-04-13</td>\n      <td>46330</td>\n      <td>16628</td>\n      <td>0</td>\n      <td>-29702</td>\n    </tr>\n    <tr>\n      <th>103</th>\n      <td>sc bartlett investors llc</td>\n      <td>2171 sycamore view rd</td>\n      <td>[IHE0007L000000]</td>\n      <td>[088041000017C]</td>\n      <td>2022-03-01</td>\n      <td>2042-02-28</td>\n      <td>64513</td>\n      <td>27042</td>\n      <td>0</td>\n      <td>-37471</td>\n    </tr>\n    <tr>\n      <th>104</th>\n      <td>app breezy partners l l l p</td>\n      <td>1500 oberle ave</td>\n      <td>[IHE0007N000000]</td>\n      <td>[070037000041C]</td>\n      <td>2022-09-01</td>\n      <td>2042-08-31</td>\n      <td>55026</td>\n      <td>9196</td>\n      <td>0</td>\n      <td>-45830</td>\n    </tr>\n    <tr>\n      <th>105</th>\n      <td>south city v</td>\n      <td>457 brightside</td>\n      <td>[IHE0007O000000]</td>\n      <td>[702000000290]</td>\n      <td>2022-09-01</td>\n      <td>2042-08-31</td>\n      <td>1832</td>\n      <td>765</td>\n      <td>0</td>\n      <td>-1067</td>\n    </tr>\n    <tr>\n      <th>106</th>\n      <td>university place southeast lp</td>\n      <td>0 lamar</td>\n      <td>[IHE06850000000]</td>\n      <td>[03202000000030,  03202000000040]</td>\n      <td>2006-05-11</td>\n      <td>2026-05-10</td>\n      <td>87915</td>\n      <td>2034</td>\n      <td>0</td>\n      <td>-85881</td>\n    </tr>\n  </tbody>\n</table>\n<p>107 rows × 10 columns</p>\n</div>"
     },
     "execution_count": 33,
     "metadata": {},
     "output_type": "execute_result"
    }
   ],
   "source": [
    "# Clean the list columns\n",
    "\n",
    "# Pandas always reads in lists as strings, so they will ultimately be converted to a string type, but putting them in lists firsts will allow us to convert them back to lists more quickly the next time we read them in because the list brackets will be included \n",
    "# in the output string\n",
    "\n",
    "list_columns = [\"pilot_parcel_no\", \"underlying_parcel_number\"]\n",
    "for col in list_columns:\n",
    "    df[col] = df[col].apply(lambda x: str(x).split(\",\"))\n",
    "df"
   ],
   "metadata": {
    "collapsed": false,
    "ExecuteTime": {
     "end_time": "2024-04-01T01:00:07.259611Z",
     "start_time": "2024-04-01T01:00:07.253670Z"
    }
   },
   "id": "5a2ebeae72c53116"
  },
  {
   "cell_type": "code",
   "execution_count": 34,
   "outputs": [
    {
     "data": {
      "text/plain": "                                             owner                location  \\\nowner_id                                                                     \n7a1798f03c29                  hillcrest memphis lp     4155 east wind dr 1   \nef79e221c568             alco pershing partners lp                0 steele   \n27185d035674  crockett park agnes place apartments        2645 davey drive   \n3405072585e4          uptown village apartments lp                0 thomas   \n0dedd00443cc  uptown senior housing development lp               669 third   \n...                                            ...                     ...   \n956d2720b6be           shelby pointe townhomes llc  1500 east shelby drive   \nf5eb91724f5a             sc bartlett investors llc   2171 sycamore view rd   \n6490986a08d8           app breezy partners l l l p         1500 oberle ave   \n437bd4e14aac                          south city v          457 brightside   \ncdc9a7706ee0         university place southeast lp                 0 lamar   \n\n               pilot_parcel_no           underlying_parcel_number begin_date  \\\nowner_id                                                                       \n7a1798f03c29  [IHE0000A000000]                   [0790040000001C] 2008-10-01   \nef79e221c568  [IHE0000B000000]  [07101400000950,  07101400000960] 2008-08-01   \n27185d035674  [IHE0001B000000]  [0710560A00016C,  0710560A00046Z] 2005-05-01   \n3405072585e4  [IHE0001L000000]  [0010960A000960,  0010960A000970] 2004-03-05   \n0dedd00443cc  [IHE0001R000000]  [0010560000002C,  00105600000070] 2006-04-19   \n...                        ...                                ...        ...   \n956d2720b6be  [IHE0007K000000]                    [0790500A00025] 2022-04-14   \nf5eb91724f5a  [IHE0007L000000]                    [088041000017C] 2022-03-01   \n6490986a08d8  [IHE0007N000000]                    [070037000041C] 2022-09-01   \n437bd4e14aac  [IHE0007O000000]                     [702000000290] 2022-09-01   \ncdc9a7706ee0  [IHE06850000000]  [03202000000030,  03202000000040] 2006-05-11   \n\n               end_date assmt_taxes pilot_contract_amt pilot_debt_service_amt  \\\nowner_id                                                                        \n7a1798f03c29 2028-09-30       53193              16412                      0   \nef79e221c568 2028-12-31       40315              14754                      0   \n27185d035674 2025-05-01       60985                187                      0   \n3405072585e4 2024-03-04       48181               1984                      0   \n0dedd00443cc 2026-04-18       41349               2175                      0   \n...                 ...         ...                ...                    ...   \n956d2720b6be 2042-04-13       46330              16628                      0   \nf5eb91724f5a 2042-02-28       64513              27042                      0   \n6490986a08d8 2042-08-31       55026               9196                      0   \n437bd4e14aac 2042-08-31        1832                765                      0   \ncdc9a7706ee0 2026-05-10       87915               2034                      0   \n\n             difference  \nowner_id                 \n7a1798f03c29     -36781  \nef79e221c568     -25562  \n27185d035674     -60797  \n3405072585e4     -46197  \n0dedd00443cc     -39174  \n...                 ...  \n956d2720b6be     -29702  \nf5eb91724f5a     -37471  \n6490986a08d8     -45830  \n437bd4e14aac      -1067  \ncdc9a7706ee0     -85881  \n\n[107 rows x 10 columns]",
      "text/html": "<div>\n<style scoped>\n    .dataframe tbody tr th:only-of-type {\n        vertical-align: middle;\n    }\n\n    .dataframe tbody tr th {\n        vertical-align: top;\n    }\n\n    .dataframe thead th {\n        text-align: right;\n    }\n</style>\n<table border=\"1\" class=\"dataframe\">\n  <thead>\n    <tr style=\"text-align: right;\">\n      <th></th>\n      <th>owner</th>\n      <th>location</th>\n      <th>pilot_parcel_no</th>\n      <th>underlying_parcel_number</th>\n      <th>begin_date</th>\n      <th>end_date</th>\n      <th>assmt_taxes</th>\n      <th>pilot_contract_amt</th>\n      <th>pilot_debt_service_amt</th>\n      <th>difference</th>\n    </tr>\n    <tr>\n      <th>owner_id</th>\n      <th></th>\n      <th></th>\n      <th></th>\n      <th></th>\n      <th></th>\n      <th></th>\n      <th></th>\n      <th></th>\n      <th></th>\n      <th></th>\n    </tr>\n  </thead>\n  <tbody>\n    <tr>\n      <th>7a1798f03c29</th>\n      <td>hillcrest memphis lp</td>\n      <td>4155 east wind dr 1</td>\n      <td>[IHE0000A000000]</td>\n      <td>[0790040000001C]</td>\n      <td>2008-10-01</td>\n      <td>2028-09-30</td>\n      <td>53193</td>\n      <td>16412</td>\n      <td>0</td>\n      <td>-36781</td>\n    </tr>\n    <tr>\n      <th>ef79e221c568</th>\n      <td>alco pershing partners lp</td>\n      <td>0 steele</td>\n      <td>[IHE0000B000000]</td>\n      <td>[07101400000950,  07101400000960]</td>\n      <td>2008-08-01</td>\n      <td>2028-12-31</td>\n      <td>40315</td>\n      <td>14754</td>\n      <td>0</td>\n      <td>-25562</td>\n    </tr>\n    <tr>\n      <th>27185d035674</th>\n      <td>crockett park agnes place apartments</td>\n      <td>2645 davey drive</td>\n      <td>[IHE0001B000000]</td>\n      <td>[0710560A00016C,  0710560A00046Z]</td>\n      <td>2005-05-01</td>\n      <td>2025-05-01</td>\n      <td>60985</td>\n      <td>187</td>\n      <td>0</td>\n      <td>-60797</td>\n    </tr>\n    <tr>\n      <th>3405072585e4</th>\n      <td>uptown village apartments lp</td>\n      <td>0 thomas</td>\n      <td>[IHE0001L000000]</td>\n      <td>[0010960A000960,  0010960A000970]</td>\n      <td>2004-03-05</td>\n      <td>2024-03-04</td>\n      <td>48181</td>\n      <td>1984</td>\n      <td>0</td>\n      <td>-46197</td>\n    </tr>\n    <tr>\n      <th>0dedd00443cc</th>\n      <td>uptown senior housing development lp</td>\n      <td>669 third</td>\n      <td>[IHE0001R000000]</td>\n      <td>[0010560000002C,  00105600000070]</td>\n      <td>2006-04-19</td>\n      <td>2026-04-18</td>\n      <td>41349</td>\n      <td>2175</td>\n      <td>0</td>\n      <td>-39174</td>\n    </tr>\n    <tr>\n      <th>...</th>\n      <td>...</td>\n      <td>...</td>\n      <td>...</td>\n      <td>...</td>\n      <td>...</td>\n      <td>...</td>\n      <td>...</td>\n      <td>...</td>\n      <td>...</td>\n      <td>...</td>\n    </tr>\n    <tr>\n      <th>956d2720b6be</th>\n      <td>shelby pointe townhomes llc</td>\n      <td>1500 east shelby drive</td>\n      <td>[IHE0007K000000]</td>\n      <td>[0790500A00025]</td>\n      <td>2022-04-14</td>\n      <td>2042-04-13</td>\n      <td>46330</td>\n      <td>16628</td>\n      <td>0</td>\n      <td>-29702</td>\n    </tr>\n    <tr>\n      <th>f5eb91724f5a</th>\n      <td>sc bartlett investors llc</td>\n      <td>2171 sycamore view rd</td>\n      <td>[IHE0007L000000]</td>\n      <td>[088041000017C]</td>\n      <td>2022-03-01</td>\n      <td>2042-02-28</td>\n      <td>64513</td>\n      <td>27042</td>\n      <td>0</td>\n      <td>-37471</td>\n    </tr>\n    <tr>\n      <th>6490986a08d8</th>\n      <td>app breezy partners l l l p</td>\n      <td>1500 oberle ave</td>\n      <td>[IHE0007N000000]</td>\n      <td>[070037000041C]</td>\n      <td>2022-09-01</td>\n      <td>2042-08-31</td>\n      <td>55026</td>\n      <td>9196</td>\n      <td>0</td>\n      <td>-45830</td>\n    </tr>\n    <tr>\n      <th>437bd4e14aac</th>\n      <td>south city v</td>\n      <td>457 brightside</td>\n      <td>[IHE0007O000000]</td>\n      <td>[702000000290]</td>\n      <td>2022-09-01</td>\n      <td>2042-08-31</td>\n      <td>1832</td>\n      <td>765</td>\n      <td>0</td>\n      <td>-1067</td>\n    </tr>\n    <tr>\n      <th>cdc9a7706ee0</th>\n      <td>university place southeast lp</td>\n      <td>0 lamar</td>\n      <td>[IHE06850000000]</td>\n      <td>[03202000000030,  03202000000040]</td>\n      <td>2006-05-11</td>\n      <td>2026-05-10</td>\n      <td>87915</td>\n      <td>2034</td>\n      <td>0</td>\n      <td>-85881</td>\n    </tr>\n  </tbody>\n</table>\n<p>107 rows × 10 columns</p>\n</div>"
     },
     "execution_count": 34,
     "metadata": {},
     "output_type": "execute_result"
    }
   ],
   "source": [
    "# Create a unique index column based on the values in the identifying column\n",
    "# Note: Ids are based on a deterministic hash, which means they are \n",
    "# reproducible even if the function is run by a different user at a different time,\n",
    "# as long as the string in the identifying column is the same. \n",
    "\n",
    "identifying_columns = [\"owner\"]\n",
    "index_name = \"owner_id\"\n",
    "df = set_unique_index(df=df, columns_to_hash = identifying_columns, index_length_limit=12, index_name=index_name)\n",
    "df"
   ],
   "metadata": {
    "collapsed": false,
    "ExecuteTime": {
     "end_time": "2024-04-01T01:00:07.294872Z",
     "start_time": "2024-04-01T01:00:07.267782Z"
    }
   },
   "id": "fa13dd82fd715b68"
  },
  {
   "cell_type": "code",
   "execution_count": 35,
   "outputs": [
    {
     "data": {
      "text/plain": "owner                               object\nlocation                            object\npilot_parcel_no                     object\nunderlying_parcel_number            object\nbegin_date                  datetime64[ns]\nend_date                    datetime64[ns]\nassmt_taxes                         object\npilot_contract_amt                  object\npilot_debt_service_amt              object\ndifference                          object\ndtype: object"
     },
     "execution_count": 35,
     "metadata": {},
     "output_type": "execute_result"
    }
   ],
   "source": [
    "# Check the data types of each variable\n",
    "df.dtypes"
   ],
   "metadata": {
    "collapsed": false,
    "ExecuteTime": {
     "end_time": "2024-04-01T01:00:07.328686Z",
     "start_time": "2024-04-01T01:00:07.273212Z"
    }
   },
   "id": "fb1c412d6c764d7b"
  },
  {
   "cell_type": "code",
   "execution_count": 36,
   "outputs": [
    {
     "data": {
      "text/plain": "owner                       string[python]\nlocation                    string[python]\npilot_parcel_no             string[python]\nunderlying_parcel_number    string[python]\nbegin_date                  datetime64[ns]\nend_date                            object\nassmt_taxes                        float64\npilot_contract_amt                 float64\npilot_debt_service_amt             float64\ndifference                         float64\ndtype: object"
     },
     "execution_count": 36,
     "metadata": {},
     "output_type": "execute_result"
    }
   ],
   "source": [
    "# Fix the data type of each variable\n",
    "\n",
    "names_to_types = {'owner': 'string',\n",
    "                  'location': 'string',\n",
    "                  'pilot_parcel_no': 'string', \n",
    "                  'underlying_parcel_number': 'string',\n",
    "                  'begin_date': 'datetime64[ns]', \n",
    "                  'end_date': 'object',\n",
    "                  'assmt_taxes': 'float64',\n",
    "                  'pilot_contract_amt': 'float64',\n",
    "       'pilot_debt_service_amt': 'float64', \n",
    "                  'difference': 'float64'}\n",
    "df = cast_data_types(df, names_to_types)\n",
    "df.dtypes"
   ],
   "metadata": {
    "collapsed": false,
    "ExecuteTime": {
     "end_time": "2024-04-01T01:00:07.371066Z",
     "start_time": "2024-04-01T01:00:07.279944Z"
    }
   },
   "id": "fa0f0232d27d41fe"
  },
  {
   "cell_type": "code",
   "execution_count": 37,
   "outputs": [],
   "source": [
    "# Save the now-clean csv and convert it to utf-8 format\n",
    "outfile_path = \"../data/processed/s6_2022_ihe.csv\"\n",
    "df.to_csv(outfile_path)\n",
    "convert_utf8(original_file_path=outfile_path, new_file_path=outfile_path)"
   ],
   "metadata": {
    "collapsed": false,
    "ExecuteTime": {
     "end_time": "2024-04-01T01:00:07.386218Z",
     "start_time": "2024-04-01T01:00:07.283322Z"
    }
   },
   "id": "209e2ad7bce3421"
  },
  {
   "cell_type": "code",
   "execution_count": 37,
   "outputs": [],
   "source": [],
   "metadata": {
    "collapsed": false,
    "ExecuteTime": {
     "end_time": "2024-04-01T01:00:07.386354Z",
     "start_time": "2024-04-01T01:00:07.293017Z"
    }
   },
   "id": "932f14634f70a566"
  }
 ],
 "metadata": {
  "kernelspec": {
   "display_name": "Python 3",
   "language": "python",
   "name": "python3"
  },
  "language_info": {
   "codemirror_mode": {
    "name": "ipython",
    "version": 2
   },
   "file_extension": ".py",
   "mimetype": "text/x-python",
   "name": "python",
   "nbconvert_exporter": "python",
   "pygments_lexer": "ipython2",
   "version": "2.7.6"
  }
 },
 "nbformat": 4,
 "nbformat_minor": 5
}
