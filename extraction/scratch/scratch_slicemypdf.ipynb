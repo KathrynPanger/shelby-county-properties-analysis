{
 "cells": [
  {
   "cell_type": "code",
   "execution_count": 10,
   "id": "initial_id",
   "metadata": {
    "collapsed": true,
    "ExecuteTime": {
     "end_time": "2024-03-21T01:46:17.620143Z",
     "start_time": "2024-03-21T01:46:17.615051Z"
    }
   },
   "outputs": [],
   "source": [
    "from slicemypdf import Extractor"
   ]
  },
  {
   "cell_type": "code",
   "execution_count": 11,
   "outputs": [],
   "source": [
    "path= \"2022_annual_pilot_report.pdf\"\n",
    "reader = PdfReader(path)"
   ],
   "metadata": {
    "collapsed": false,
    "ExecuteTime": {
     "end_time": "2024-03-21T01:46:17.980044Z",
     "start_time": "2024-03-21T01:46:17.972447Z"
    }
   },
   "id": "79bdbfd73a6f5691"
  },
  {
   "cell_type": "code",
   "execution_count": 12,
   "outputs": [],
   "source": [
    "part_1_pages = [8] # page 8\n",
    "# part_2_pages = range(11,21) # pages 11 - 20 inclusive\n",
    "# part_3_pages = range(22, 26) # pages 22 - 25 inclusive\n",
    "# part_4_pages = range(27, 32) # pages 27 - 31 inclusive\n",
    "# part_5_pages = [33] # page 33\n",
    "# part_6_pages = range(35, 40) # pages 35 - 39 inclusive\n",
    "# part_7_pages = [41] # page 41\n",
    "# part_8_pages = [43] # page 43\n",
    "# part_9_pages = [45] # page 45\n",
    "# part_10_pages = [47] # page 47\n",
    "# part_11_pages =  [49] # page 46\n",
    "# part_12_pages = [51]\n",
    "# part_13_pages = [53]\n",
    "# part_14_pages = [55]\n",
    "# part_15_pages = range(57 - 60) # pages 57 - 59 inclusive"
   ],
   "metadata": {
    "collapsed": false,
    "ExecuteTime": {
     "end_time": "2024-03-21T01:46:18.663552Z",
     "start_time": "2024-03-21T01:46:18.657288Z"
    }
   },
   "id": "d7ad4d4f98f9c49b"
  },
  {
   "cell_type": "code",
   "execution_count": 15,
   "outputs": [],
   "source": [
    "selected_page = part_1_pages[0]\n",
    "page = reader.pages[selected_page]\n"
   ],
   "metadata": {
    "collapsed": false,
    "ExecuteTime": {
     "end_time": "2024-03-21T01:47:35.373536Z",
     "start_time": "2024-03-21T01:47:35.371001Z"
    }
   },
   "id": "f8df8c19d3d31d76"
  },
  {
   "cell_type": "code",
   "execution_count": null,
   "outputs": [],
   "source": [
    "part_1_column_names"
   ],
   "metadata": {
    "collapsed": false
   },
   "id": "852eab44505036f8"
  },
  {
   "cell_type": "code",
   "execution_count": 17,
   "outputs": [
    {
     "data": {
      "text/plain": "['2019 Tax Based on Percentage 2021 Tax Based on Percentage',\n 'Number of Amount Billed Amount Billed Assessment at Total Number of Amount Billed Amount Billed Assessment at Total ',\n 'February 28, 2023 Contracts Pilot (INL) Debt Service Assessment 2019 Tax Rate Difference PILOT Billing February 28, 2023 Contracts Pilot (INL) Debt Service Assessment 2021 Tax Rate Difference PILOT Billing',\n 'Downtown Memphis Commission 123 $1,981,904.47 $1,226,006.18 $349,460,540 $14,153,151.87 (10,945,241.22) 20.69% Downtown Memphis Commission 127 $1,702,925.70 $1,354,076.55 $406,461,240 $14,022,912.78 (10,965,910.53) 18.92%',\n 'EDGE - Shelby 243 $2,856,659.78 $6,149,156.86 $673,220,031 $27,265,411.26 (18,259,594.62) 58.08% EDGE - Shelby 226 $4,078,933.42 $5,183,964.81 $730,912,470 $25,216,480.22 (15,953,581.99) 57.32%',\n 'Industrial Development of Arlington 15 $52,116.90 $114,566.56 $11,977,950 $485,106.98 (318,423.52) 1.07% Industrial Development of Arlington 11 $109,409.96 $57,885.31 $9,546,730 $329,362.19 (162,066.92) 1.04%',\n 'Industrial Development of Bartlett 11 $15,257.82 $146,630.61 $14,962,783 $605,992.71 (444,104.28) 1.04% Industrial Development of Bartlett 9 $22,387.74 $137,868.24 $10,152,780 $350,270.91 (190,014.93) 0.99%',\n 'Industrial Development of Collierville 14 $774,048.02 $661,885.66 $70,132,723 $2,840,375.28 (1,404,441.60) 9.26% Industrial Development of Collierville 10 $673,347.93 $816,687.94 $99,353,000 $3,427,678.50 (1,937,642.63) 9.22%',\n 'Industrial Development of Germantown 4 $237,740.75 $96,081.97 $15,357,250 $621,968.63 (288,145.91) 2.15% Industrial Development of Germantown 4 $315,681.29 $215,876.06 $38,602,690 $1,331,792.81 (800,235.46) 3.29%',\n 'Industrial Development of Millington 1 $10,280.12 $79,383.24 $7,840,320 $317,532.96 (227,869.60) 0.58% Industrial Development of Millington 1 $8,757.14 $92,733.24 $10,751,680 $370,932.96 (269,442.58) 0.63%',\n 'Health & Education Board - Memphis 73 $930,606.59 $0.00 $128,138,985 $5,189,628.89 (4,259,022.30) 6.00% Health & Education Board - Memphis 101 $1,263,358.70 $0.00 $235,359,315 $8,119,896.37 (6,856,537.67) 7.82%',\n 'Health & Education Board - Shelby 8 $133,533.27 $0.00 $27,687,400 $1,121,339.70 (987,806.43) 0.86% Health & Education Board - Shelby 6 $89,436.98 $0.00 $30,543,560 $1,053,752.82 (964,315.84) 0.55%',\n 'Miscellaneous Contracts 10 $35,460.00 $0.00 $9,033,520 $365,857.56 (330,397.56) 0.23% Miscellaneous Contracts 8 $29,640.00 $0.00 $9,504,040 $327,889.38 (298,249.38) 0.18%',\n 'City / County Government Contracts 5 $5,706.00 $0.00 $3,141,560 $127,233.18 (121,527.18) 0.04% City / County Government Contracts 5 $5,706.00 $0.00 $3,371,400 $116,313.30 (110,607.30) 0.04%',\n 'Total 507 $7,033,313.72 $8,473,711.08 $1,310,953,062 $53,093,599.01 ($37,586,574.21) 100.00% Total 508 $8,299,584.86 $7,859,092.15 $1,584,558,905 $54,667,282.22 (38,508,605.21) 100.00%',\n '2020 Tax Based on Percentage 2022 Tax Based on Percentage',\n 'Number of Amount Billed Amount Billed Assessment at Total Number of Amount Billed Amount Billed Assessment at Total ',\n 'February 28, 2023 Contracts Pilot (INL) Debt Service Assessment 2020 Tax Rate Difference PILOT Billing February 28, 2023 Contracts Pilot (INL) Debt Service Assessment 2022 Tax Rate Difference PILOT Billing',\n 'Downtown Memphis Commission 124 $1,810,641.75 $1,253,931.80 $362,716,620 $14,690,023.11 (11,625,449.56) 18.61% Downtown Memphis Commission 124 $2,265,277.82 $1,378,186.61 $403,472,360 $13,677,713.00 (10,034,248.57) 20.05%',\n 'EDGE - Shelby 244 $3,571,519.04 $5,759,341.99 $597,033,940 $24,179,874.57 (14,849,013.54) 56.66% EDGE - Shelby 241 $4,357,705.55 $5,922,590.25 $845,013,990 $28,645,974.26 (18,365,678.46) 56.57%',\n 'Industrial Development of Arlington 12 $99,227.89 $103,320.25 $12,374,870 $501,182.24 (298,634.10) 1.23% Industrial Development of Arlington 10 $116,203.75 $49,372.12 $8,906,110 $301,917.13 (136,341.26) 0.91%',\n 'Industrial Development of Bartlett 11 $31,642.62 $103,452.34 $10,632,240 $430,605.72 (295,510.76) 0.82% Industrial Development of Bartlett 6 $21,998.39 $47,646.73 $7,340,910 $248,856.85 (179,211.73) 0.38%',\n 'Industrial Development of Collierville 11 $768,997.18 $918,418.12 $95,793,370 $3,879,631.49 (2,192,216.19) 10.25% Industrial Development of Collierville 12 $690,322.00 $914,883.78 $103,923,710 $3,523,013.77 (1,917,807.99) 8.83%',\n 'Industrial Development of Germantown 5 $347,401.82 $233,407.55 $34,110,510 $1,381,475.66 (800,666.29) 3.53% Industrial Development of Germantown 4 $310,191.18 $211,034.77 $34,051,040 $1,154,330.26 (633,104.31) 2.87%',\n 'Industrial Development of Millington 1 $10,280.12 $79,383.24 $7,840,320 $317,532.96 (227,869.60) 0.54% Industrial Development of Millington 1 $50,530.09 $80,385.75 $10,751,680 $364,481.95 (233,566.11) 0.72%',\n 'Health & Education Board - Memphis 80 $1,227,981.40 $0.00 $156,089,720 $6,321,633.66 (5,093,652.26) 7.46% Health & Education Board - Memphis 107 $1,627,887.89 $0.00 $245,059,120 $8,307,504.17 (6,679,616.28) 8.96%',\n 'Health & Education Board - Shelby 7 $108,060.40 $0.00 $28,279,320 $1,145,312.46 (1,037,252.06) 0.66% Health & Education Board - Shelby 6 $88,595.41 $0.00 $30,543,560 $1,035,426.68 (946,831.27) 0.49%',\n 'Miscellaneous Contracts 10 $35,460.00 $0.00 $9,033,520 $365,857.56 (330,397.56) 0.22% Miscellaneous Contracts 10 $35,460.00 $0.00 $10,528,400 $356,912.76 (321,452.76) 0.20%',\n 'City / County Government Contracts 5 $5,706.00 $0.00 $3,141,560 $127,233.18 (121,527.18) 0.03% City / County Government Contracts 5 $5,868.72 $0.00 $3,371,400 $114,290.46 (108,421.74) 0.03%',\n 'Total 510 $8,016,918.22 $8,451,255.29 $1,317,045,990 $53,340,362.60 (36,872,189.09) 100.00% Total 526 $9,570,040.80 $8,604,100.01 $1,702,962,280.00 $57,730,421.29 (39,556,280.48) 100.00%SHELBY COUNTY TRUSTEE',\n ' SHELBY COUNTY IN-LIEU PROPERTIES -- BOARD / MUNICIPALITY BREAKDOWN',\n '8']"
     },
     "execution_count": 17,
     "metadata": {},
     "output_type": "execute_result"
    }
   ],
   "source": [
    "text = page.extract_text()\n",
    "text.split(\"\\n\")"
   ],
   "metadata": {
    "collapsed": false,
    "ExecuteTime": {
     "end_time": "2024-03-21T01:50:29.484649Z",
     "start_time": "2024-03-21T01:50:29.378634Z"
    }
   },
   "id": "545ee224d2942806"
  },
  {
   "cell_type": "code",
   "execution_count": null,
   "outputs": [],
   "source": [],
   "metadata": {
    "collapsed": false
   },
   "id": "99b2171b4f1ca0ac"
  }
 ],
 "metadata": {
  "kernelspec": {
   "display_name": "Python 3",
   "language": "python",
   "name": "python3"
  },
  "language_info": {
   "codemirror_mode": {
    "name": "ipython",
    "version": 2
   },
   "file_extension": ".py",
   "mimetype": "text/x-python",
   "name": "python",
   "nbconvert_exporter": "python",
   "pygments_lexer": "ipython2",
   "version": "2.7.6"
  }
 },
 "nbformat": 4,
 "nbformat_minor": 5
}
