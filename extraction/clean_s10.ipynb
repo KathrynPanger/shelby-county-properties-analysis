{
 "cells": [
  {
   "cell_type": "code",
   "execution_count": 13,
   "outputs": [],
   "source": [
    "import pandas as pd\n",
    "from utils import *\n",
    "from typing import Any"
   ],
   "metadata": {
    "collapsed": false,
    "ExecuteTime": {
     "end_time": "2024-04-01T01:01:10.841971Z",
     "start_time": "2024-04-01T01:01:10.772534Z"
    }
   },
   "id": "f890863474a831e4"
  },
  {
   "cell_type": "markdown",
   "source": [
    "<h1>Cleaning a CSV</h1>"
   ],
   "metadata": {
    "collapsed": false
   },
   "id": "37c2459a70173916"
  },
  {
   "cell_type": "markdown",
   "source": [
    "Read in a CSV"
   ],
   "metadata": {
    "collapsed": false
   },
   "id": "70312fa54485148"
  },
  {
   "cell_type": "code",
   "execution_count": 14,
   "outputs": [
    {
     "data": {
      "text/plain": "                            Owner        Location PILOT Parcel No  \\\n0               ELITE MEDICAL LLC  8415 WOLF LAKE  IDB0000B00015A   \n1      BRIMHALL FOOD COMPANY, INC  7472 A E BEATY  IDB0000B000160   \n2      ODYSSEY MEDICAL TECHNOLOGY    2975 BROTHER  IDB0000B000170   \n3      ODYSSEY MEDICAL TECHNOLOGY  1406 STONEWALL  IDB0000B00017A   \n4  ENGINEERED MEDICAL SYSTEMS LLC    3325 APPLING  IDB0000B000180   \n5  ENGINEERED MEDICAL SYSTEMS LLC    3325 APPLING  IDB0000B00018A   \n\n  Underlying Parcel Number  Begin Date    End Date Assmt Taxes  \\\n0           4000150000000D  12/31/2016  12/31/2022        $635   \n1           B0158000004630  01/01/2018  01/01/2025     $64,506   \n2           B0158J0A00006C  03/07/2019  03/07/2029     $43,698   \n3             178100000000  01/01/2020  12/31/2029      $9,410   \n4           B015800000679C  01/01/2020  01/31/2036     $91,188   \n5             178300000000  01/01/2020  12/31/2026     $39,419   \n\n  PILOT Contract Amt PILOT Debt Service Amt Difference  \n0                 $0                   $159      -$476  \n1             $4,987                $14,880   -$44,639  \n2             $4,011                 $9,922   -$29,766  \n3                 $0                 $2,353    -$7,058  \n4            $13,000                $10,479   -$67,709  \n5                 $0                 $9,855   -$29,564  ",
      "text/html": "<div>\n<style scoped>\n    .dataframe tbody tr th:only-of-type {\n        vertical-align: middle;\n    }\n\n    .dataframe tbody tr th {\n        vertical-align: top;\n    }\n\n    .dataframe thead th {\n        text-align: right;\n    }\n</style>\n<table border=\"1\" class=\"dataframe\">\n  <thead>\n    <tr style=\"text-align: right;\">\n      <th></th>\n      <th>Owner</th>\n      <th>Location</th>\n      <th>PILOT Parcel No</th>\n      <th>Underlying Parcel Number</th>\n      <th>Begin Date</th>\n      <th>End Date</th>\n      <th>Assmt Taxes</th>\n      <th>PILOT Contract Amt</th>\n      <th>PILOT Debt Service Amt</th>\n      <th>Difference</th>\n    </tr>\n  </thead>\n  <tbody>\n    <tr>\n      <th>0</th>\n      <td>ELITE MEDICAL LLC</td>\n      <td>8415 WOLF LAKE</td>\n      <td>IDB0000B00015A</td>\n      <td>4000150000000D</td>\n      <td>12/31/2016</td>\n      <td>12/31/2022</td>\n      <td>$635</td>\n      <td>$0</td>\n      <td>$159</td>\n      <td>-$476</td>\n    </tr>\n    <tr>\n      <th>1</th>\n      <td>BRIMHALL FOOD COMPANY, INC</td>\n      <td>7472 A E BEATY</td>\n      <td>IDB0000B000160</td>\n      <td>B0158000004630</td>\n      <td>01/01/2018</td>\n      <td>01/01/2025</td>\n      <td>$64,506</td>\n      <td>$4,987</td>\n      <td>$14,880</td>\n      <td>-$44,639</td>\n    </tr>\n    <tr>\n      <th>2</th>\n      <td>ODYSSEY MEDICAL TECHNOLOGY</td>\n      <td>2975 BROTHER</td>\n      <td>IDB0000B000170</td>\n      <td>B0158J0A00006C</td>\n      <td>03/07/2019</td>\n      <td>03/07/2029</td>\n      <td>$43,698</td>\n      <td>$4,011</td>\n      <td>$9,922</td>\n      <td>-$29,766</td>\n    </tr>\n    <tr>\n      <th>3</th>\n      <td>ODYSSEY MEDICAL TECHNOLOGY</td>\n      <td>1406 STONEWALL</td>\n      <td>IDB0000B00017A</td>\n      <td>178100000000</td>\n      <td>01/01/2020</td>\n      <td>12/31/2029</td>\n      <td>$9,410</td>\n      <td>$0</td>\n      <td>$2,353</td>\n      <td>-$7,058</td>\n    </tr>\n    <tr>\n      <th>4</th>\n      <td>ENGINEERED MEDICAL SYSTEMS LLC</td>\n      <td>3325 APPLING</td>\n      <td>IDB0000B000180</td>\n      <td>B015800000679C</td>\n      <td>01/01/2020</td>\n      <td>01/31/2036</td>\n      <td>$91,188</td>\n      <td>$13,000</td>\n      <td>$10,479</td>\n      <td>-$67,709</td>\n    </tr>\n    <tr>\n      <th>5</th>\n      <td>ENGINEERED MEDICAL SYSTEMS LLC</td>\n      <td>3325 APPLING</td>\n      <td>IDB0000B00018A</td>\n      <td>178300000000</td>\n      <td>01/01/2020</td>\n      <td>12/31/2026</td>\n      <td>$39,419</td>\n      <td>$0</td>\n      <td>$9,855</td>\n      <td>-$29,564</td>\n    </tr>\n  </tbody>\n</table>\n</div>"
     },
     "execution_count": 14,
     "metadata": {},
     "output_type": "execute_result"
    }
   ],
   "source": [
    "# load a dataframe\n",
    "infile_path = \"../data/raw/silver_shelby_county_properties_municipality_breakdown - s10_2022_idb_bartlett.csv\"\n",
    "df = pd.read_csv(infile_path)\n",
    "df"
   ],
   "metadata": {
    "collapsed": false,
    "ExecuteTime": {
     "end_time": "2024-04-01T01:01:10.862466Z",
     "start_time": "2024-04-01T01:01:10.779258Z"
    }
   },
   "id": "50cef4de40a6855d"
  },
  {
   "cell_type": "code",
   "execution_count": 15,
   "outputs": [
    {
     "data": {
      "text/plain": "Index(['owner', 'location', 'pilot_parcel_no', 'underlying_parcel_number',\n       'begin_date', 'end_date', 'assmt_taxes', 'pilot_contract_amt',\n       'pilot_debt_service_amt', 'difference'],\n      dtype='object')"
     },
     "execution_count": 15,
     "metadata": {},
     "output_type": "execute_result"
    }
   ],
   "source": [
    "# Clean the column headers\n",
    "df = clean_headers(df, [remove_special_for_words, truncate, snake_case, lower_case])\n",
    "df.columns"
   ],
   "metadata": {
    "collapsed": false,
    "ExecuteTime": {
     "end_time": "2024-04-01T01:01:10.862679Z",
     "start_time": "2024-04-01T01:01:10.791804Z"
    }
   },
   "id": "f8e6a7fb4013b6e6"
  },
  {
   "cell_type": "code",
   "execution_count": 16,
   "outputs": [
    {
     "data": {
      "text/plain": "                            owner        location pilot_parcel_no  \\\n0               elite medical llc  8415 wolf lake  IDB0000B00015A   \n1       brimhall food company inc  7472 a e beaty  IDB0000B000160   \n2      odyssey medical technology    2975 brother  IDB0000B000170   \n3      odyssey medical technology  1406 stonewall  IDB0000B00017A   \n4  engineered medical systems llc    3325 appling  IDB0000B000180   \n5  engineered medical systems llc    3325 appling  IDB0000B00018A   \n\n  underlying_parcel_number  begin_date    end_date assmt_taxes  \\\n0           4000150000000D  12/31/2016  12/31/2022        $635   \n1           B0158000004630  01/01/2018  01/01/2025     $64,506   \n2           B0158J0A00006C  03/07/2019  03/07/2029     $43,698   \n3             178100000000  01/01/2020  12/31/2029      $9,410   \n4           B015800000679C  01/01/2020  01/31/2036     $91,188   \n5             178300000000  01/01/2020  12/31/2026     $39,419   \n\n  pilot_contract_amt pilot_debt_service_amt difference  \n0                 $0                   $159      -$476  \n1             $4,987                $14,880   -$44,639  \n2             $4,011                 $9,922   -$29,766  \n3                 $0                 $2,353    -$7,058  \n4            $13,000                $10,479   -$67,709  \n5                 $0                 $9,855   -$29,564  ",
      "text/html": "<div>\n<style scoped>\n    .dataframe tbody tr th:only-of-type {\n        vertical-align: middle;\n    }\n\n    .dataframe tbody tr th {\n        vertical-align: top;\n    }\n\n    .dataframe thead th {\n        text-align: right;\n    }\n</style>\n<table border=\"1\" class=\"dataframe\">\n  <thead>\n    <tr style=\"text-align: right;\">\n      <th></th>\n      <th>owner</th>\n      <th>location</th>\n      <th>pilot_parcel_no</th>\n      <th>underlying_parcel_number</th>\n      <th>begin_date</th>\n      <th>end_date</th>\n      <th>assmt_taxes</th>\n      <th>pilot_contract_amt</th>\n      <th>pilot_debt_service_amt</th>\n      <th>difference</th>\n    </tr>\n  </thead>\n  <tbody>\n    <tr>\n      <th>0</th>\n      <td>elite medical llc</td>\n      <td>8415 wolf lake</td>\n      <td>IDB0000B00015A</td>\n      <td>4000150000000D</td>\n      <td>12/31/2016</td>\n      <td>12/31/2022</td>\n      <td>$635</td>\n      <td>$0</td>\n      <td>$159</td>\n      <td>-$476</td>\n    </tr>\n    <tr>\n      <th>1</th>\n      <td>brimhall food company inc</td>\n      <td>7472 a e beaty</td>\n      <td>IDB0000B000160</td>\n      <td>B0158000004630</td>\n      <td>01/01/2018</td>\n      <td>01/01/2025</td>\n      <td>$64,506</td>\n      <td>$4,987</td>\n      <td>$14,880</td>\n      <td>-$44,639</td>\n    </tr>\n    <tr>\n      <th>2</th>\n      <td>odyssey medical technology</td>\n      <td>2975 brother</td>\n      <td>IDB0000B000170</td>\n      <td>B0158J0A00006C</td>\n      <td>03/07/2019</td>\n      <td>03/07/2029</td>\n      <td>$43,698</td>\n      <td>$4,011</td>\n      <td>$9,922</td>\n      <td>-$29,766</td>\n    </tr>\n    <tr>\n      <th>3</th>\n      <td>odyssey medical technology</td>\n      <td>1406 stonewall</td>\n      <td>IDB0000B00017A</td>\n      <td>178100000000</td>\n      <td>01/01/2020</td>\n      <td>12/31/2029</td>\n      <td>$9,410</td>\n      <td>$0</td>\n      <td>$2,353</td>\n      <td>-$7,058</td>\n    </tr>\n    <tr>\n      <th>4</th>\n      <td>engineered medical systems llc</td>\n      <td>3325 appling</td>\n      <td>IDB0000B000180</td>\n      <td>B015800000679C</td>\n      <td>01/01/2020</td>\n      <td>01/31/2036</td>\n      <td>$91,188</td>\n      <td>$13,000</td>\n      <td>$10,479</td>\n      <td>-$67,709</td>\n    </tr>\n    <tr>\n      <th>5</th>\n      <td>engineered medical systems llc</td>\n      <td>3325 appling</td>\n      <td>IDB0000B00018A</td>\n      <td>178300000000</td>\n      <td>01/01/2020</td>\n      <td>12/31/2026</td>\n      <td>$39,419</td>\n      <td>$0</td>\n      <td>$9,855</td>\n      <td>-$29,564</td>\n    </tr>\n  </tbody>\n</table>\n</div>"
     },
     "execution_count": 16,
     "metadata": {},
     "output_type": "execute_result"
    }
   ],
   "source": [
    "# Clean the string columns\n",
    "string_columns = [\"owner\", \n",
    "                  \"location\"]\n",
    "df = clean_columns(df, string_columns, [remove_special_for_words, truncate, lower_case])\n",
    "df"
   ],
   "metadata": {
    "collapsed": false,
    "ExecuteTime": {
     "end_time": "2024-04-01T01:01:10.862849Z",
     "start_time": "2024-04-01T01:01:10.802566Z"
    }
   },
   "id": "67171db99d8fff6d"
  },
  {
   "cell_type": "code",
   "execution_count": 17,
   "outputs": [
    {
     "data": {
      "text/plain": "Index(['owner', 'location', 'pilot_parcel_no', 'underlying_parcel_number',\n       'begin_date', 'end_date', 'assmt_taxes', 'pilot_contract_amt',\n       'pilot_debt_service_amt', 'difference'],\n      dtype='object')"
     },
     "execution_count": 17,
     "metadata": {},
     "output_type": "execute_result"
    }
   ],
   "source": [
    "df.columns"
   ],
   "metadata": {
    "collapsed": false,
    "ExecuteTime": {
     "end_time": "2024-04-01T01:01:10.862952Z",
     "start_time": "2024-04-01T01:01:10.806702Z"
    }
   },
   "id": "4484a9731b2bde17"
  },
  {
   "cell_type": "code",
   "execution_count": 18,
   "outputs": [
    {
     "data": {
      "text/plain": "                            owner        location pilot_parcel_no  \\\n0               elite medical llc  8415 wolf lake  IDB0000B00015A   \n1       brimhall food company inc  7472 a e beaty  IDB0000B000160   \n2      odyssey medical technology    2975 brother  IDB0000B000170   \n3      odyssey medical technology  1406 stonewall  IDB0000B00017A   \n4  engineered medical systems llc    3325 appling  IDB0000B000180   \n5  engineered medical systems llc    3325 appling  IDB0000B00018A   \n\n  underlying_parcel_number  begin_date    end_date assmt_taxes  \\\n0           4000150000000D  12/31/2016  12/31/2022         635   \n1           B0158000004630  01/01/2018  01/01/2025       64506   \n2           B0158J0A00006C  03/07/2019  03/07/2029       43698   \n3             178100000000  01/01/2020  12/31/2029        9410   \n4           B015800000679C  01/01/2020  01/31/2036       91188   \n5             178300000000  01/01/2020  12/31/2026       39419   \n\n  pilot_contract_amt pilot_debt_service_amt difference  \n0                  0                    159       -476  \n1               4987                  14880     -44639  \n2               4011                   9922     -29766  \n3                  0                   2353      -7058  \n4              13000                  10479     -67709  \n5                  0                   9855     -29564  ",
      "text/html": "<div>\n<style scoped>\n    .dataframe tbody tr th:only-of-type {\n        vertical-align: middle;\n    }\n\n    .dataframe tbody tr th {\n        vertical-align: top;\n    }\n\n    .dataframe thead th {\n        text-align: right;\n    }\n</style>\n<table border=\"1\" class=\"dataframe\">\n  <thead>\n    <tr style=\"text-align: right;\">\n      <th></th>\n      <th>owner</th>\n      <th>location</th>\n      <th>pilot_parcel_no</th>\n      <th>underlying_parcel_number</th>\n      <th>begin_date</th>\n      <th>end_date</th>\n      <th>assmt_taxes</th>\n      <th>pilot_contract_amt</th>\n      <th>pilot_debt_service_amt</th>\n      <th>difference</th>\n    </tr>\n  </thead>\n  <tbody>\n    <tr>\n      <th>0</th>\n      <td>elite medical llc</td>\n      <td>8415 wolf lake</td>\n      <td>IDB0000B00015A</td>\n      <td>4000150000000D</td>\n      <td>12/31/2016</td>\n      <td>12/31/2022</td>\n      <td>635</td>\n      <td>0</td>\n      <td>159</td>\n      <td>-476</td>\n    </tr>\n    <tr>\n      <th>1</th>\n      <td>brimhall food company inc</td>\n      <td>7472 a e beaty</td>\n      <td>IDB0000B000160</td>\n      <td>B0158000004630</td>\n      <td>01/01/2018</td>\n      <td>01/01/2025</td>\n      <td>64506</td>\n      <td>4987</td>\n      <td>14880</td>\n      <td>-44639</td>\n    </tr>\n    <tr>\n      <th>2</th>\n      <td>odyssey medical technology</td>\n      <td>2975 brother</td>\n      <td>IDB0000B000170</td>\n      <td>B0158J0A00006C</td>\n      <td>03/07/2019</td>\n      <td>03/07/2029</td>\n      <td>43698</td>\n      <td>4011</td>\n      <td>9922</td>\n      <td>-29766</td>\n    </tr>\n    <tr>\n      <th>3</th>\n      <td>odyssey medical technology</td>\n      <td>1406 stonewall</td>\n      <td>IDB0000B00017A</td>\n      <td>178100000000</td>\n      <td>01/01/2020</td>\n      <td>12/31/2029</td>\n      <td>9410</td>\n      <td>0</td>\n      <td>2353</td>\n      <td>-7058</td>\n    </tr>\n    <tr>\n      <th>4</th>\n      <td>engineered medical systems llc</td>\n      <td>3325 appling</td>\n      <td>IDB0000B000180</td>\n      <td>B015800000679C</td>\n      <td>01/01/2020</td>\n      <td>01/31/2036</td>\n      <td>91188</td>\n      <td>13000</td>\n      <td>10479</td>\n      <td>-67709</td>\n    </tr>\n    <tr>\n      <th>5</th>\n      <td>engineered medical systems llc</td>\n      <td>3325 appling</td>\n      <td>IDB0000B00018A</td>\n      <td>178300000000</td>\n      <td>01/01/2020</td>\n      <td>12/31/2026</td>\n      <td>39419</td>\n      <td>0</td>\n      <td>9855</td>\n      <td>-29564</td>\n    </tr>\n  </tbody>\n</table>\n</div>"
     },
     "execution_count": 18,
     "metadata": {},
     "output_type": "execute_result"
    }
   ],
   "source": [
    "# Clean the numeric columns\n",
    "numeric_columns = ['assmt_taxes', 'pilot_contract_amt',\n",
    "       'pilot_debt_service_amt', 'difference']\n",
    "df = clean_columns(df, numeric_columns, [remove_special_for_numbers, convert_only_dash_to_missing])\n",
    "\n",
    "df"
   ],
   "metadata": {
    "collapsed": false,
    "ExecuteTime": {
     "end_time": "2024-04-01T01:01:10.863126Z",
     "start_time": "2024-04-01T01:01:10.815325Z"
    }
   },
   "id": "fd553dbc31168c70"
  },
  {
   "cell_type": "code",
   "execution_count": 19,
   "outputs": [
    {
     "data": {
      "text/plain": "                            owner        location pilot_parcel_no  \\\n0               elite medical llc  8415 wolf lake  IDB0000B00015A   \n1       brimhall food company inc  7472 a e beaty  IDB0000B000160   \n2      odyssey medical technology    2975 brother  IDB0000B000170   \n3      odyssey medical technology  1406 stonewall  IDB0000B00017A   \n4  engineered medical systems llc    3325 appling  IDB0000B000180   \n5  engineered medical systems llc    3325 appling  IDB0000B00018A   \n\n  underlying_parcel_number begin_date   end_date assmt_taxes  \\\n0           4000150000000D 2016-12-31 2022-12-31         635   \n1           B0158000004630 2018-01-01 2025-01-01       64506   \n2           B0158J0A00006C 2019-03-07 2029-03-07       43698   \n3             178100000000 2020-01-01 2029-12-31        9410   \n4           B015800000679C 2020-01-01 2036-01-31       91188   \n5             178300000000 2020-01-01 2026-12-31       39419   \n\n  pilot_contract_amt pilot_debt_service_amt difference  \n0                  0                    159       -476  \n1               4987                  14880     -44639  \n2               4011                   9922     -29766  \n3                  0                   2353      -7058  \n4              13000                  10479     -67709  \n5                  0                   9855     -29564  ",
      "text/html": "<div>\n<style scoped>\n    .dataframe tbody tr th:only-of-type {\n        vertical-align: middle;\n    }\n\n    .dataframe tbody tr th {\n        vertical-align: top;\n    }\n\n    .dataframe thead th {\n        text-align: right;\n    }\n</style>\n<table border=\"1\" class=\"dataframe\">\n  <thead>\n    <tr style=\"text-align: right;\">\n      <th></th>\n      <th>owner</th>\n      <th>location</th>\n      <th>pilot_parcel_no</th>\n      <th>underlying_parcel_number</th>\n      <th>begin_date</th>\n      <th>end_date</th>\n      <th>assmt_taxes</th>\n      <th>pilot_contract_amt</th>\n      <th>pilot_debt_service_amt</th>\n      <th>difference</th>\n    </tr>\n  </thead>\n  <tbody>\n    <tr>\n      <th>0</th>\n      <td>elite medical llc</td>\n      <td>8415 wolf lake</td>\n      <td>IDB0000B00015A</td>\n      <td>4000150000000D</td>\n      <td>2016-12-31</td>\n      <td>2022-12-31</td>\n      <td>635</td>\n      <td>0</td>\n      <td>159</td>\n      <td>-476</td>\n    </tr>\n    <tr>\n      <th>1</th>\n      <td>brimhall food company inc</td>\n      <td>7472 a e beaty</td>\n      <td>IDB0000B000160</td>\n      <td>B0158000004630</td>\n      <td>2018-01-01</td>\n      <td>2025-01-01</td>\n      <td>64506</td>\n      <td>4987</td>\n      <td>14880</td>\n      <td>-44639</td>\n    </tr>\n    <tr>\n      <th>2</th>\n      <td>odyssey medical technology</td>\n      <td>2975 brother</td>\n      <td>IDB0000B000170</td>\n      <td>B0158J0A00006C</td>\n      <td>2019-03-07</td>\n      <td>2029-03-07</td>\n      <td>43698</td>\n      <td>4011</td>\n      <td>9922</td>\n      <td>-29766</td>\n    </tr>\n    <tr>\n      <th>3</th>\n      <td>odyssey medical technology</td>\n      <td>1406 stonewall</td>\n      <td>IDB0000B00017A</td>\n      <td>178100000000</td>\n      <td>2020-01-01</td>\n      <td>2029-12-31</td>\n      <td>9410</td>\n      <td>0</td>\n      <td>2353</td>\n      <td>-7058</td>\n    </tr>\n    <tr>\n      <th>4</th>\n      <td>engineered medical systems llc</td>\n      <td>3325 appling</td>\n      <td>IDB0000B000180</td>\n      <td>B015800000679C</td>\n      <td>2020-01-01</td>\n      <td>2036-01-31</td>\n      <td>91188</td>\n      <td>13000</td>\n      <td>10479</td>\n      <td>-67709</td>\n    </tr>\n    <tr>\n      <th>5</th>\n      <td>engineered medical systems llc</td>\n      <td>3325 appling</td>\n      <td>IDB0000B00018A</td>\n      <td>178300000000</td>\n      <td>2020-01-01</td>\n      <td>2026-12-31</td>\n      <td>39419</td>\n      <td>0</td>\n      <td>9855</td>\n      <td>-29564</td>\n    </tr>\n  </tbody>\n</table>\n</div>"
     },
     "execution_count": 19,
     "metadata": {},
     "output_type": "execute_result"
    }
   ],
   "source": [
    "# Clean the date columns\n",
    "\n",
    "# Because this data has an idiosyncratic \"end date\" value of \"End of Loan\", \n",
    "# we must define a dataset-specific function\n",
    "def cast_end_date_to_datetime(entry: str | Number):\n",
    "    try:\n",
    "        return pd.to_datetime(str(entry))\n",
    "    except ValueError:\n",
    "        return entry\n",
    "df[\"begin_date\"] = pd.to_datetime(df[\"begin_date\"])\n",
    "df[\"end_date\"] = df[\"end_date\"].apply(lambda x: cast_end_date_to_datetime(x))\n",
    "df"
   ],
   "metadata": {
    "collapsed": false,
    "ExecuteTime": {
     "end_time": "2024-04-01T01:01:10.863282Z",
     "start_time": "2024-04-01T01:01:10.818487Z"
    }
   },
   "id": "1efa55d32b4be610"
  },
  {
   "cell_type": "code",
   "execution_count": 20,
   "outputs": [
    {
     "data": {
      "text/plain": "                            owner        location   pilot_parcel_no  \\\n0               elite medical llc  8415 wolf lake  [IDB0000B00015A]   \n1       brimhall food company inc  7472 a e beaty  [IDB0000B000160]   \n2      odyssey medical technology    2975 brother  [IDB0000B000170]   \n3      odyssey medical technology  1406 stonewall  [IDB0000B00017A]   \n4  engineered medical systems llc    3325 appling  [IDB0000B000180]   \n5  engineered medical systems llc    3325 appling  [IDB0000B00018A]   \n\n  underlying_parcel_number begin_date   end_date assmt_taxes  \\\n0         [4000150000000D] 2016-12-31 2022-12-31         635   \n1         [B0158000004630] 2018-01-01 2025-01-01       64506   \n2         [B0158J0A00006C] 2019-03-07 2029-03-07       43698   \n3           [178100000000] 2020-01-01 2029-12-31        9410   \n4         [B015800000679C] 2020-01-01 2036-01-31       91188   \n5           [178300000000] 2020-01-01 2026-12-31       39419   \n\n  pilot_contract_amt pilot_debt_service_amt difference  \n0                  0                    159       -476  \n1               4987                  14880     -44639  \n2               4011                   9922     -29766  \n3                  0                   2353      -7058  \n4              13000                  10479     -67709  \n5                  0                   9855     -29564  ",
      "text/html": "<div>\n<style scoped>\n    .dataframe tbody tr th:only-of-type {\n        vertical-align: middle;\n    }\n\n    .dataframe tbody tr th {\n        vertical-align: top;\n    }\n\n    .dataframe thead th {\n        text-align: right;\n    }\n</style>\n<table border=\"1\" class=\"dataframe\">\n  <thead>\n    <tr style=\"text-align: right;\">\n      <th></th>\n      <th>owner</th>\n      <th>location</th>\n      <th>pilot_parcel_no</th>\n      <th>underlying_parcel_number</th>\n      <th>begin_date</th>\n      <th>end_date</th>\n      <th>assmt_taxes</th>\n      <th>pilot_contract_amt</th>\n      <th>pilot_debt_service_amt</th>\n      <th>difference</th>\n    </tr>\n  </thead>\n  <tbody>\n    <tr>\n      <th>0</th>\n      <td>elite medical llc</td>\n      <td>8415 wolf lake</td>\n      <td>[IDB0000B00015A]</td>\n      <td>[4000150000000D]</td>\n      <td>2016-12-31</td>\n      <td>2022-12-31</td>\n      <td>635</td>\n      <td>0</td>\n      <td>159</td>\n      <td>-476</td>\n    </tr>\n    <tr>\n      <th>1</th>\n      <td>brimhall food company inc</td>\n      <td>7472 a e beaty</td>\n      <td>[IDB0000B000160]</td>\n      <td>[B0158000004630]</td>\n      <td>2018-01-01</td>\n      <td>2025-01-01</td>\n      <td>64506</td>\n      <td>4987</td>\n      <td>14880</td>\n      <td>-44639</td>\n    </tr>\n    <tr>\n      <th>2</th>\n      <td>odyssey medical technology</td>\n      <td>2975 brother</td>\n      <td>[IDB0000B000170]</td>\n      <td>[B0158J0A00006C]</td>\n      <td>2019-03-07</td>\n      <td>2029-03-07</td>\n      <td>43698</td>\n      <td>4011</td>\n      <td>9922</td>\n      <td>-29766</td>\n    </tr>\n    <tr>\n      <th>3</th>\n      <td>odyssey medical technology</td>\n      <td>1406 stonewall</td>\n      <td>[IDB0000B00017A]</td>\n      <td>[178100000000]</td>\n      <td>2020-01-01</td>\n      <td>2029-12-31</td>\n      <td>9410</td>\n      <td>0</td>\n      <td>2353</td>\n      <td>-7058</td>\n    </tr>\n    <tr>\n      <th>4</th>\n      <td>engineered medical systems llc</td>\n      <td>3325 appling</td>\n      <td>[IDB0000B000180]</td>\n      <td>[B015800000679C]</td>\n      <td>2020-01-01</td>\n      <td>2036-01-31</td>\n      <td>91188</td>\n      <td>13000</td>\n      <td>10479</td>\n      <td>-67709</td>\n    </tr>\n    <tr>\n      <th>5</th>\n      <td>engineered medical systems llc</td>\n      <td>3325 appling</td>\n      <td>[IDB0000B00018A]</td>\n      <td>[178300000000]</td>\n      <td>2020-01-01</td>\n      <td>2026-12-31</td>\n      <td>39419</td>\n      <td>0</td>\n      <td>9855</td>\n      <td>-29564</td>\n    </tr>\n  </tbody>\n</table>\n</div>"
     },
     "execution_count": 20,
     "metadata": {},
     "output_type": "execute_result"
    }
   ],
   "source": [
    "# Clean the list columns\n",
    "\n",
    "# Pandas always reads in lists as strings, so they will ultimately be converted to a string type, but putting them in lists firsts will allow us to convert them back to lists more quickly the next time we read them in because the list brackets will be included \n",
    "# in the output string\n",
    "\n",
    "list_columns = [\"pilot_parcel_no\", \"underlying_parcel_number\"]\n",
    "for col in list_columns:\n",
    "    df[col] = df[col].apply(lambda x: str(x).split(\",\"))\n",
    "df"
   ],
   "metadata": {
    "collapsed": false,
    "ExecuteTime": {
     "end_time": "2024-04-01T01:01:10.863477Z",
     "start_time": "2024-04-01T01:01:10.836043Z"
    }
   },
   "id": "5a2ebeae72c53116"
  },
  {
   "cell_type": "code",
   "execution_count": 21,
   "outputs": [
    {
     "data": {
      "text/plain": "                                       owner        location  \\\nowner_id                                                       \ne03dd30dbca4               elite medical llc  8415 wolf lake   \n3146b9a8076b       brimhall food company inc  7472 a e beaty   \n85fcec8878f2      odyssey medical technology    2975 brother   \n85fcec8878f2      odyssey medical technology  1406 stonewall   \n0033451dcd0d  engineered medical systems llc    3325 appling   \n0033451dcd0d  engineered medical systems llc    3325 appling   \n\n               pilot_parcel_no underlying_parcel_number begin_date   end_date  \\\nowner_id                                                                        \ne03dd30dbca4  [IDB0000B00015A]         [4000150000000D] 2016-12-31 2022-12-31   \n3146b9a8076b  [IDB0000B000160]         [B0158000004630] 2018-01-01 2025-01-01   \n85fcec8878f2  [IDB0000B000170]         [B0158J0A00006C] 2019-03-07 2029-03-07   \n85fcec8878f2  [IDB0000B00017A]           [178100000000] 2020-01-01 2029-12-31   \n0033451dcd0d  [IDB0000B000180]         [B015800000679C] 2020-01-01 2036-01-31   \n0033451dcd0d  [IDB0000B00018A]           [178300000000] 2020-01-01 2026-12-31   \n\n             assmt_taxes pilot_contract_amt pilot_debt_service_amt difference  \nowner_id                                                                       \ne03dd30dbca4         635                  0                    159       -476  \n3146b9a8076b       64506               4987                  14880     -44639  \n85fcec8878f2       43698               4011                   9922     -29766  \n85fcec8878f2        9410                  0                   2353      -7058  \n0033451dcd0d       91188              13000                  10479     -67709  \n0033451dcd0d       39419                  0                   9855     -29564  ",
      "text/html": "<div>\n<style scoped>\n    .dataframe tbody tr th:only-of-type {\n        vertical-align: middle;\n    }\n\n    .dataframe tbody tr th {\n        vertical-align: top;\n    }\n\n    .dataframe thead th {\n        text-align: right;\n    }\n</style>\n<table border=\"1\" class=\"dataframe\">\n  <thead>\n    <tr style=\"text-align: right;\">\n      <th></th>\n      <th>owner</th>\n      <th>location</th>\n      <th>pilot_parcel_no</th>\n      <th>underlying_parcel_number</th>\n      <th>begin_date</th>\n      <th>end_date</th>\n      <th>assmt_taxes</th>\n      <th>pilot_contract_amt</th>\n      <th>pilot_debt_service_amt</th>\n      <th>difference</th>\n    </tr>\n    <tr>\n      <th>owner_id</th>\n      <th></th>\n      <th></th>\n      <th></th>\n      <th></th>\n      <th></th>\n      <th></th>\n      <th></th>\n      <th></th>\n      <th></th>\n      <th></th>\n    </tr>\n  </thead>\n  <tbody>\n    <tr>\n      <th>e03dd30dbca4</th>\n      <td>elite medical llc</td>\n      <td>8415 wolf lake</td>\n      <td>[IDB0000B00015A]</td>\n      <td>[4000150000000D]</td>\n      <td>2016-12-31</td>\n      <td>2022-12-31</td>\n      <td>635</td>\n      <td>0</td>\n      <td>159</td>\n      <td>-476</td>\n    </tr>\n    <tr>\n      <th>3146b9a8076b</th>\n      <td>brimhall food company inc</td>\n      <td>7472 a e beaty</td>\n      <td>[IDB0000B000160]</td>\n      <td>[B0158000004630]</td>\n      <td>2018-01-01</td>\n      <td>2025-01-01</td>\n      <td>64506</td>\n      <td>4987</td>\n      <td>14880</td>\n      <td>-44639</td>\n    </tr>\n    <tr>\n      <th>85fcec8878f2</th>\n      <td>odyssey medical technology</td>\n      <td>2975 brother</td>\n      <td>[IDB0000B000170]</td>\n      <td>[B0158J0A00006C]</td>\n      <td>2019-03-07</td>\n      <td>2029-03-07</td>\n      <td>43698</td>\n      <td>4011</td>\n      <td>9922</td>\n      <td>-29766</td>\n    </tr>\n    <tr>\n      <th>85fcec8878f2</th>\n      <td>odyssey medical technology</td>\n      <td>1406 stonewall</td>\n      <td>[IDB0000B00017A]</td>\n      <td>[178100000000]</td>\n      <td>2020-01-01</td>\n      <td>2029-12-31</td>\n      <td>9410</td>\n      <td>0</td>\n      <td>2353</td>\n      <td>-7058</td>\n    </tr>\n    <tr>\n      <th>0033451dcd0d</th>\n      <td>engineered medical systems llc</td>\n      <td>3325 appling</td>\n      <td>[IDB0000B000180]</td>\n      <td>[B015800000679C]</td>\n      <td>2020-01-01</td>\n      <td>2036-01-31</td>\n      <td>91188</td>\n      <td>13000</td>\n      <td>10479</td>\n      <td>-67709</td>\n    </tr>\n    <tr>\n      <th>0033451dcd0d</th>\n      <td>engineered medical systems llc</td>\n      <td>3325 appling</td>\n      <td>[IDB0000B00018A]</td>\n      <td>[178300000000]</td>\n      <td>2020-01-01</td>\n      <td>2026-12-31</td>\n      <td>39419</td>\n      <td>0</td>\n      <td>9855</td>\n      <td>-29564</td>\n    </tr>\n  </tbody>\n</table>\n</div>"
     },
     "execution_count": 21,
     "metadata": {},
     "output_type": "execute_result"
    }
   ],
   "source": [
    "# Create a unique index column based on the values in the identifying column\n",
    "# Note: Ids are based on a deterministic hash, which means they are \n",
    "# reproducible even if the function is run by a different user at a different time,\n",
    "# as long as the string in the identifying column is the same. \n",
    "\n",
    "identifying_columns = [\"owner\"]\n",
    "index_name = \"owner_id\"\n",
    "df = set_unique_index(df=df, columns_to_hash = identifying_columns, index_length_limit=12, index_name=index_name)\n",
    "df"
   ],
   "metadata": {
    "collapsed": false,
    "ExecuteTime": {
     "end_time": "2024-04-01T01:01:10.864538Z",
     "start_time": "2024-04-01T01:01:10.843897Z"
    }
   },
   "id": "fa13dd82fd715b68"
  },
  {
   "cell_type": "code",
   "execution_count": 22,
   "outputs": [
    {
     "data": {
      "text/plain": "owner                               object\nlocation                            object\npilot_parcel_no                     object\nunderlying_parcel_number            object\nbegin_date                  datetime64[ns]\nend_date                    datetime64[ns]\nassmt_taxes                         object\npilot_contract_amt                  object\npilot_debt_service_amt              object\ndifference                          object\ndtype: object"
     },
     "execution_count": 22,
     "metadata": {},
     "output_type": "execute_result"
    }
   ],
   "source": [
    "# Check the data types of each variable\n",
    "df.dtypes"
   ],
   "metadata": {
    "collapsed": false,
    "ExecuteTime": {
     "end_time": "2024-04-01T01:01:10.864751Z",
     "start_time": "2024-04-01T01:01:10.854174Z"
    }
   },
   "id": "fb1c412d6c764d7b"
  },
  {
   "cell_type": "code",
   "execution_count": 23,
   "outputs": [
    {
     "data": {
      "text/plain": "owner                       string[python]\nlocation                    string[python]\npilot_parcel_no             string[python]\nunderlying_parcel_number    string[python]\nbegin_date                  datetime64[ns]\nend_date                            object\nassmt_taxes                        float64\npilot_contract_amt                 float64\npilot_debt_service_amt             float64\ndifference                         float64\ndtype: object"
     },
     "execution_count": 23,
     "metadata": {},
     "output_type": "execute_result"
    }
   ],
   "source": [
    "# Fix the data type of each variable\n",
    "\n",
    "names_to_types = {'owner': 'string',\n",
    "                  'location': 'string',\n",
    "                  'pilot_parcel_no': 'string', \n",
    "                  'underlying_parcel_number': 'string',\n",
    "                  'begin_date': 'datetime64[ns]', \n",
    "                  'end_date': 'object',\n",
    "                  'assmt_taxes': 'float64',\n",
    "                  'pilot_contract_amt': 'float64',\n",
    "       'pilot_debt_service_amt': 'float64', \n",
    "                  'difference': 'float64'}\n",
    "df = cast_data_types(df, names_to_types)\n",
    "df.dtypes"
   ],
   "metadata": {
    "collapsed": false,
    "ExecuteTime": {
     "end_time": "2024-04-01T01:01:10.891923Z",
     "start_time": "2024-04-01T01:01:10.863409Z"
    }
   },
   "id": "fa0f0232d27d41fe"
  },
  {
   "cell_type": "code",
   "execution_count": 24,
   "outputs": [],
   "source": [
    "# Save the now-clean csv and convert it to utf-8 format\n",
    "outfile_path = \"../data/processed/s10_2022_idb_bartlett.csv\"\n",
    "df.to_csv(outfile_path)\n",
    "convert_utf8(original_file_path=outfile_path, new_file_path=outfile_path)"
   ],
   "metadata": {
    "collapsed": false,
    "ExecuteTime": {
     "end_time": "2024-04-01T01:01:10.892122Z",
     "start_time": "2024-04-01T01:01:10.867079Z"
    }
   },
   "id": "209e2ad7bce3421"
  },
  {
   "cell_type": "code",
   "execution_count": 24,
   "outputs": [],
   "source": [],
   "metadata": {
    "collapsed": false,
    "ExecuteTime": {
     "end_time": "2024-04-01T01:01:10.892262Z",
     "start_time": "2024-04-01T01:01:10.876005Z"
    }
   },
   "id": "932f14634f70a566"
  }
 ],
 "metadata": {
  "kernelspec": {
   "display_name": "Python 3",
   "language": "python",
   "name": "python3"
  },
  "language_info": {
   "codemirror_mode": {
    "name": "ipython",
    "version": 2
   },
   "file_extension": ".py",
   "mimetype": "text/x-python",
   "name": "python",
   "nbconvert_exporter": "python",
   "pygments_lexer": "ipython2",
   "version": "2.7.6"
  }
 },
 "nbformat": 4,
 "nbformat_minor": 5
}
