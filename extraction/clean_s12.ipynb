{
 "cells": [
  {
   "cell_type": "code",
   "execution_count": 13,
   "outputs": [],
   "source": [
    "import pandas as pd\n",
    "from utils import *\n",
    "from typing import Any"
   ],
   "metadata": {
    "collapsed": false,
    "ExecuteTime": {
     "end_time": "2024-04-01T01:01:40.558939Z",
     "start_time": "2024-04-01T01:01:40.489274Z"
    }
   },
   "id": "f890863474a831e4"
  },
  {
   "cell_type": "markdown",
   "source": [
    "<h1>Cleaning a CSV</h1>"
   ],
   "metadata": {
    "collapsed": false
   },
   "id": "37c2459a70173916"
  },
  {
   "cell_type": "markdown",
   "source": [
    "Read in a CSV"
   ],
   "metadata": {
    "collapsed": false
   },
   "id": "70312fa54485148"
  },
  {
   "cell_type": "code",
   "execution_count": 14,
   "outputs": [
    {
     "data": {
      "text/plain": "                        Owner             Location PILOT Parcel No  \\\n0              GILL POPLAR GP          6797 HWY 72  IDB0000G000050   \n1  MID-AMERICA APARTMENTS, LP          6815 POPLAR  IDB0000G00006A   \n2    CAMPBELL CLINIC - WR MOB      1400 GERMANTOWN  IDB0000G000070   \n3           CRESTWYN PARTNERS  9280 CRESTWYN HILLS  IDB14000000000   \n\n                         Underlying Parcel Number  Begin Date    End Date  \\\n0                                  G0219000003110  03/17/2018  03/17/2033   \n1                                  6000050000000D  12/31/2018  12/31/2033   \n2  G0220000003690, G0220000004560, G0220000004570  12/31/2019  12/30/2027   \n3                                  G0243000004890  08/16/2016  08/16/2023   \n\n  Assmt Taxes PILOT Contract Amt PILOT Debt Service Amt Difference  \n0    $346,522           $169,314                $44,302  -$132,906  \n1     $16,744                 $0                 $4,186   -$12,558  \n2    $671,422           $123,694               $136,932  -$410,796  \n3    $119,643            $17,183                $25,615   -$76,845  ",
      "text/html": "<div>\n<style scoped>\n    .dataframe tbody tr th:only-of-type {\n        vertical-align: middle;\n    }\n\n    .dataframe tbody tr th {\n        vertical-align: top;\n    }\n\n    .dataframe thead th {\n        text-align: right;\n    }\n</style>\n<table border=\"1\" class=\"dataframe\">\n  <thead>\n    <tr style=\"text-align: right;\">\n      <th></th>\n      <th>Owner</th>\n      <th>Location</th>\n      <th>PILOT Parcel No</th>\n      <th>Underlying Parcel Number</th>\n      <th>Begin Date</th>\n      <th>End Date</th>\n      <th>Assmt Taxes</th>\n      <th>PILOT Contract Amt</th>\n      <th>PILOT Debt Service Amt</th>\n      <th>Difference</th>\n    </tr>\n  </thead>\n  <tbody>\n    <tr>\n      <th>0</th>\n      <td>GILL POPLAR GP</td>\n      <td>6797 HWY 72</td>\n      <td>IDB0000G000050</td>\n      <td>G0219000003110</td>\n      <td>03/17/2018</td>\n      <td>03/17/2033</td>\n      <td>$346,522</td>\n      <td>$169,314</td>\n      <td>$44,302</td>\n      <td>-$132,906</td>\n    </tr>\n    <tr>\n      <th>1</th>\n      <td>MID-AMERICA APARTMENTS, LP</td>\n      <td>6815 POPLAR</td>\n      <td>IDB0000G00006A</td>\n      <td>6000050000000D</td>\n      <td>12/31/2018</td>\n      <td>12/31/2033</td>\n      <td>$16,744</td>\n      <td>$0</td>\n      <td>$4,186</td>\n      <td>-$12,558</td>\n    </tr>\n    <tr>\n      <th>2</th>\n      <td>CAMPBELL CLINIC - WR MOB</td>\n      <td>1400 GERMANTOWN</td>\n      <td>IDB0000G000070</td>\n      <td>G0220000003690, G0220000004560, G0220000004570</td>\n      <td>12/31/2019</td>\n      <td>12/30/2027</td>\n      <td>$671,422</td>\n      <td>$123,694</td>\n      <td>$136,932</td>\n      <td>-$410,796</td>\n    </tr>\n    <tr>\n      <th>3</th>\n      <td>CRESTWYN PARTNERS</td>\n      <td>9280 CRESTWYN HILLS</td>\n      <td>IDB14000000000</td>\n      <td>G0243000004890</td>\n      <td>08/16/2016</td>\n      <td>08/16/2023</td>\n      <td>$119,643</td>\n      <td>$17,183</td>\n      <td>$25,615</td>\n      <td>-$76,845</td>\n    </tr>\n  </tbody>\n</table>\n</div>"
     },
     "execution_count": 14,
     "metadata": {},
     "output_type": "execute_result"
    }
   ],
   "source": [
    "# load a dataframe\n",
    "infile_path = \"../data/raw/silver_shelby_county_properties_municipality_breakdown - s12_2021_idb_germantown.csv\"\n",
    "df = pd.read_csv(infile_path)\n",
    "df"
   ],
   "metadata": {
    "collapsed": false,
    "ExecuteTime": {
     "end_time": "2024-04-01T01:01:40.578175Z",
     "start_time": "2024-04-01T01:01:40.496342Z"
    }
   },
   "id": "50cef4de40a6855d"
  },
  {
   "cell_type": "code",
   "execution_count": 15,
   "outputs": [
    {
     "data": {
      "text/plain": "Index(['owner', 'location', 'pilot_parcel_no', 'underlying_parcel_number',\n       'begin_date', 'end_date', 'assmt_taxes', 'pilot_contract_amt',\n       'pilot_debt_service_amt', 'difference'],\n      dtype='object')"
     },
     "execution_count": 15,
     "metadata": {},
     "output_type": "execute_result"
    }
   ],
   "source": [
    "# Clean the column headers\n",
    "df = clean_headers(df, [remove_special_for_words, truncate, snake_case, lower_case])\n",
    "df.columns"
   ],
   "metadata": {
    "collapsed": false,
    "ExecuteTime": {
     "end_time": "2024-04-01T01:01:40.578803Z",
     "start_time": "2024-04-01T01:01:40.511909Z"
    }
   },
   "id": "f8e6a7fb4013b6e6"
  },
  {
   "cell_type": "code",
   "execution_count": 16,
   "outputs": [
    {
     "data": {
      "text/plain": "                       owner             location pilot_parcel_no  \\\n0             gill poplar gp          6797 hwy 72  IDB0000G000050   \n1  mid america apartments lp          6815 poplar  IDB0000G00006A   \n2     campbell clinic wr mob      1400 germantown  IDB0000G000070   \n3          crestwyn partners  9280 crestwyn hills  IDB14000000000   \n\n                         underlying_parcel_number  begin_date    end_date  \\\n0                                  G0219000003110  03/17/2018  03/17/2033   \n1                                  6000050000000D  12/31/2018  12/31/2033   \n2  G0220000003690, G0220000004560, G0220000004570  12/31/2019  12/30/2027   \n3                                  G0243000004890  08/16/2016  08/16/2023   \n\n  assmt_taxes pilot_contract_amt pilot_debt_service_amt difference  \n0    $346,522           $169,314                $44,302  -$132,906  \n1     $16,744                 $0                 $4,186   -$12,558  \n2    $671,422           $123,694               $136,932  -$410,796  \n3    $119,643            $17,183                $25,615   -$76,845  ",
      "text/html": "<div>\n<style scoped>\n    .dataframe tbody tr th:only-of-type {\n        vertical-align: middle;\n    }\n\n    .dataframe tbody tr th {\n        vertical-align: top;\n    }\n\n    .dataframe thead th {\n        text-align: right;\n    }\n</style>\n<table border=\"1\" class=\"dataframe\">\n  <thead>\n    <tr style=\"text-align: right;\">\n      <th></th>\n      <th>owner</th>\n      <th>location</th>\n      <th>pilot_parcel_no</th>\n      <th>underlying_parcel_number</th>\n      <th>begin_date</th>\n      <th>end_date</th>\n      <th>assmt_taxes</th>\n      <th>pilot_contract_amt</th>\n      <th>pilot_debt_service_amt</th>\n      <th>difference</th>\n    </tr>\n  </thead>\n  <tbody>\n    <tr>\n      <th>0</th>\n      <td>gill poplar gp</td>\n      <td>6797 hwy 72</td>\n      <td>IDB0000G000050</td>\n      <td>G0219000003110</td>\n      <td>03/17/2018</td>\n      <td>03/17/2033</td>\n      <td>$346,522</td>\n      <td>$169,314</td>\n      <td>$44,302</td>\n      <td>-$132,906</td>\n    </tr>\n    <tr>\n      <th>1</th>\n      <td>mid america apartments lp</td>\n      <td>6815 poplar</td>\n      <td>IDB0000G00006A</td>\n      <td>6000050000000D</td>\n      <td>12/31/2018</td>\n      <td>12/31/2033</td>\n      <td>$16,744</td>\n      <td>$0</td>\n      <td>$4,186</td>\n      <td>-$12,558</td>\n    </tr>\n    <tr>\n      <th>2</th>\n      <td>campbell clinic wr mob</td>\n      <td>1400 germantown</td>\n      <td>IDB0000G000070</td>\n      <td>G0220000003690, G0220000004560, G0220000004570</td>\n      <td>12/31/2019</td>\n      <td>12/30/2027</td>\n      <td>$671,422</td>\n      <td>$123,694</td>\n      <td>$136,932</td>\n      <td>-$410,796</td>\n    </tr>\n    <tr>\n      <th>3</th>\n      <td>crestwyn partners</td>\n      <td>9280 crestwyn hills</td>\n      <td>IDB14000000000</td>\n      <td>G0243000004890</td>\n      <td>08/16/2016</td>\n      <td>08/16/2023</td>\n      <td>$119,643</td>\n      <td>$17,183</td>\n      <td>$25,615</td>\n      <td>-$76,845</td>\n    </tr>\n  </tbody>\n</table>\n</div>"
     },
     "execution_count": 16,
     "metadata": {},
     "output_type": "execute_result"
    }
   ],
   "source": [
    "# Clean the string columns\n",
    "string_columns = [\"owner\", \n",
    "                  \"location\"]\n",
    "df = clean_columns(df, string_columns, [remove_special_for_words, truncate, lower_case])\n",
    "df"
   ],
   "metadata": {
    "collapsed": false,
    "ExecuteTime": {
     "end_time": "2024-04-01T01:01:40.578932Z",
     "start_time": "2024-04-01T01:01:40.520746Z"
    }
   },
   "id": "67171db99d8fff6d"
  },
  {
   "cell_type": "code",
   "execution_count": 17,
   "outputs": [
    {
     "data": {
      "text/plain": "Index(['owner', 'location', 'pilot_parcel_no', 'underlying_parcel_number',\n       'begin_date', 'end_date', 'assmt_taxes', 'pilot_contract_amt',\n       'pilot_debt_service_amt', 'difference'],\n      dtype='object')"
     },
     "execution_count": 17,
     "metadata": {},
     "output_type": "execute_result"
    }
   ],
   "source": [
    "df.columns"
   ],
   "metadata": {
    "collapsed": false,
    "ExecuteTime": {
     "end_time": "2024-04-01T01:01:40.579014Z",
     "start_time": "2024-04-01T01:01:40.524255Z"
    }
   },
   "id": "4484a9731b2bde17"
  },
  {
   "cell_type": "code",
   "execution_count": 18,
   "outputs": [
    {
     "data": {
      "text/plain": "                       owner             location pilot_parcel_no  \\\n0             gill poplar gp          6797 hwy 72  IDB0000G000050   \n1  mid america apartments lp          6815 poplar  IDB0000G00006A   \n2     campbell clinic wr mob      1400 germantown  IDB0000G000070   \n3          crestwyn partners  9280 crestwyn hills  IDB14000000000   \n\n                         underlying_parcel_number  begin_date    end_date  \\\n0                                  G0219000003110  03/17/2018  03/17/2033   \n1                                  6000050000000D  12/31/2018  12/31/2033   \n2  G0220000003690, G0220000004560, G0220000004570  12/31/2019  12/30/2027   \n3                                  G0243000004890  08/16/2016  08/16/2023   \n\n  assmt_taxes pilot_contract_amt pilot_debt_service_amt difference  \n0      346522             169314                  44302    -132906  \n1       16744                  0                   4186     -12558  \n2      671422             123694                 136932    -410796  \n3      119643              17183                  25615     -76845  ",
      "text/html": "<div>\n<style scoped>\n    .dataframe tbody tr th:only-of-type {\n        vertical-align: middle;\n    }\n\n    .dataframe tbody tr th {\n        vertical-align: top;\n    }\n\n    .dataframe thead th {\n        text-align: right;\n    }\n</style>\n<table border=\"1\" class=\"dataframe\">\n  <thead>\n    <tr style=\"text-align: right;\">\n      <th></th>\n      <th>owner</th>\n      <th>location</th>\n      <th>pilot_parcel_no</th>\n      <th>underlying_parcel_number</th>\n      <th>begin_date</th>\n      <th>end_date</th>\n      <th>assmt_taxes</th>\n      <th>pilot_contract_amt</th>\n      <th>pilot_debt_service_amt</th>\n      <th>difference</th>\n    </tr>\n  </thead>\n  <tbody>\n    <tr>\n      <th>0</th>\n      <td>gill poplar gp</td>\n      <td>6797 hwy 72</td>\n      <td>IDB0000G000050</td>\n      <td>G0219000003110</td>\n      <td>03/17/2018</td>\n      <td>03/17/2033</td>\n      <td>346522</td>\n      <td>169314</td>\n      <td>44302</td>\n      <td>-132906</td>\n    </tr>\n    <tr>\n      <th>1</th>\n      <td>mid america apartments lp</td>\n      <td>6815 poplar</td>\n      <td>IDB0000G00006A</td>\n      <td>6000050000000D</td>\n      <td>12/31/2018</td>\n      <td>12/31/2033</td>\n      <td>16744</td>\n      <td>0</td>\n      <td>4186</td>\n      <td>-12558</td>\n    </tr>\n    <tr>\n      <th>2</th>\n      <td>campbell clinic wr mob</td>\n      <td>1400 germantown</td>\n      <td>IDB0000G000070</td>\n      <td>G0220000003690, G0220000004560, G0220000004570</td>\n      <td>12/31/2019</td>\n      <td>12/30/2027</td>\n      <td>671422</td>\n      <td>123694</td>\n      <td>136932</td>\n      <td>-410796</td>\n    </tr>\n    <tr>\n      <th>3</th>\n      <td>crestwyn partners</td>\n      <td>9280 crestwyn hills</td>\n      <td>IDB14000000000</td>\n      <td>G0243000004890</td>\n      <td>08/16/2016</td>\n      <td>08/16/2023</td>\n      <td>119643</td>\n      <td>17183</td>\n      <td>25615</td>\n      <td>-76845</td>\n    </tr>\n  </tbody>\n</table>\n</div>"
     },
     "execution_count": 18,
     "metadata": {},
     "output_type": "execute_result"
    }
   ],
   "source": [
    "# Clean the numeric columns\n",
    "numeric_columns = ['assmt_taxes', 'pilot_contract_amt',\n",
    "       'pilot_debt_service_amt', 'difference']\n",
    "df = clean_columns(df, numeric_columns, [remove_special_for_numbers, convert_only_dash_to_missing])\n",
    "\n",
    "df"
   ],
   "metadata": {
    "collapsed": false,
    "ExecuteTime": {
     "end_time": "2024-04-01T01:01:40.579135Z",
     "start_time": "2024-04-01T01:01:40.532988Z"
    }
   },
   "id": "fd553dbc31168c70"
  },
  {
   "cell_type": "code",
   "execution_count": 19,
   "outputs": [
    {
     "data": {
      "text/plain": "                       owner             location pilot_parcel_no  \\\n0             gill poplar gp          6797 hwy 72  IDB0000G000050   \n1  mid america apartments lp          6815 poplar  IDB0000G00006A   \n2     campbell clinic wr mob      1400 germantown  IDB0000G000070   \n3          crestwyn partners  9280 crestwyn hills  IDB14000000000   \n\n                         underlying_parcel_number begin_date   end_date  \\\n0                                  G0219000003110 2018-03-17 2033-03-17   \n1                                  6000050000000D 2018-12-31 2033-12-31   \n2  G0220000003690, G0220000004560, G0220000004570 2019-12-31 2027-12-30   \n3                                  G0243000004890 2016-08-16 2023-08-16   \n\n  assmt_taxes pilot_contract_amt pilot_debt_service_amt difference  \n0      346522             169314                  44302    -132906  \n1       16744                  0                   4186     -12558  \n2      671422             123694                 136932    -410796  \n3      119643              17183                  25615     -76845  ",
      "text/html": "<div>\n<style scoped>\n    .dataframe tbody tr th:only-of-type {\n        vertical-align: middle;\n    }\n\n    .dataframe tbody tr th {\n        vertical-align: top;\n    }\n\n    .dataframe thead th {\n        text-align: right;\n    }\n</style>\n<table border=\"1\" class=\"dataframe\">\n  <thead>\n    <tr style=\"text-align: right;\">\n      <th></th>\n      <th>owner</th>\n      <th>location</th>\n      <th>pilot_parcel_no</th>\n      <th>underlying_parcel_number</th>\n      <th>begin_date</th>\n      <th>end_date</th>\n      <th>assmt_taxes</th>\n      <th>pilot_contract_amt</th>\n      <th>pilot_debt_service_amt</th>\n      <th>difference</th>\n    </tr>\n  </thead>\n  <tbody>\n    <tr>\n      <th>0</th>\n      <td>gill poplar gp</td>\n      <td>6797 hwy 72</td>\n      <td>IDB0000G000050</td>\n      <td>G0219000003110</td>\n      <td>2018-03-17</td>\n      <td>2033-03-17</td>\n      <td>346522</td>\n      <td>169314</td>\n      <td>44302</td>\n      <td>-132906</td>\n    </tr>\n    <tr>\n      <th>1</th>\n      <td>mid america apartments lp</td>\n      <td>6815 poplar</td>\n      <td>IDB0000G00006A</td>\n      <td>6000050000000D</td>\n      <td>2018-12-31</td>\n      <td>2033-12-31</td>\n      <td>16744</td>\n      <td>0</td>\n      <td>4186</td>\n      <td>-12558</td>\n    </tr>\n    <tr>\n      <th>2</th>\n      <td>campbell clinic wr mob</td>\n      <td>1400 germantown</td>\n      <td>IDB0000G000070</td>\n      <td>G0220000003690, G0220000004560, G0220000004570</td>\n      <td>2019-12-31</td>\n      <td>2027-12-30</td>\n      <td>671422</td>\n      <td>123694</td>\n      <td>136932</td>\n      <td>-410796</td>\n    </tr>\n    <tr>\n      <th>3</th>\n      <td>crestwyn partners</td>\n      <td>9280 crestwyn hills</td>\n      <td>IDB14000000000</td>\n      <td>G0243000004890</td>\n      <td>2016-08-16</td>\n      <td>2023-08-16</td>\n      <td>119643</td>\n      <td>17183</td>\n      <td>25615</td>\n      <td>-76845</td>\n    </tr>\n  </tbody>\n</table>\n</div>"
     },
     "execution_count": 19,
     "metadata": {},
     "output_type": "execute_result"
    }
   ],
   "source": [
    "# Clean the date columns\n",
    "\n",
    "# Because this data has an idiosyncratic \"end date\" value of \"End of Loan\", \n",
    "# we must define a dataset-specific function\n",
    "def cast_end_date_to_datetime(entry: str | Number):\n",
    "    try:\n",
    "        return pd.to_datetime(str(entry))\n",
    "    except ValueError:\n",
    "        return entry\n",
    "df[\"begin_date\"] = pd.to_datetime(df[\"begin_date\"])\n",
    "df[\"end_date\"] = df[\"end_date\"].apply(lambda x: cast_end_date_to_datetime(x))\n",
    "df"
   ],
   "metadata": {
    "collapsed": false,
    "ExecuteTime": {
     "end_time": "2024-04-01T01:01:40.579260Z",
     "start_time": "2024-04-01T01:01:40.543921Z"
    }
   },
   "id": "1efa55d32b4be610"
  },
  {
   "cell_type": "code",
   "execution_count": 20,
   "outputs": [
    {
     "data": {
      "text/plain": "                       owner             location   pilot_parcel_no  \\\n0             gill poplar gp          6797 hwy 72  [IDB0000G000050]   \n1  mid america apartments lp          6815 poplar  [IDB0000G00006A]   \n2     campbell clinic wr mob      1400 germantown  [IDB0000G000070]   \n3          crestwyn partners  9280 crestwyn hills  [IDB14000000000]   \n\n                            underlying_parcel_number begin_date   end_date  \\\n0                                   [G0219000003110] 2018-03-17 2033-03-17   \n1                                   [6000050000000D] 2018-12-31 2033-12-31   \n2  [G0220000003690,  G0220000004560,  G0220000004... 2019-12-31 2027-12-30   \n3                                   [G0243000004890] 2016-08-16 2023-08-16   \n\n  assmt_taxes pilot_contract_amt pilot_debt_service_amt difference  \n0      346522             169314                  44302    -132906  \n1       16744                  0                   4186     -12558  \n2      671422             123694                 136932    -410796  \n3      119643              17183                  25615     -76845  ",
      "text/html": "<div>\n<style scoped>\n    .dataframe tbody tr th:only-of-type {\n        vertical-align: middle;\n    }\n\n    .dataframe tbody tr th {\n        vertical-align: top;\n    }\n\n    .dataframe thead th {\n        text-align: right;\n    }\n</style>\n<table border=\"1\" class=\"dataframe\">\n  <thead>\n    <tr style=\"text-align: right;\">\n      <th></th>\n      <th>owner</th>\n      <th>location</th>\n      <th>pilot_parcel_no</th>\n      <th>underlying_parcel_number</th>\n      <th>begin_date</th>\n      <th>end_date</th>\n      <th>assmt_taxes</th>\n      <th>pilot_contract_amt</th>\n      <th>pilot_debt_service_amt</th>\n      <th>difference</th>\n    </tr>\n  </thead>\n  <tbody>\n    <tr>\n      <th>0</th>\n      <td>gill poplar gp</td>\n      <td>6797 hwy 72</td>\n      <td>[IDB0000G000050]</td>\n      <td>[G0219000003110]</td>\n      <td>2018-03-17</td>\n      <td>2033-03-17</td>\n      <td>346522</td>\n      <td>169314</td>\n      <td>44302</td>\n      <td>-132906</td>\n    </tr>\n    <tr>\n      <th>1</th>\n      <td>mid america apartments lp</td>\n      <td>6815 poplar</td>\n      <td>[IDB0000G00006A]</td>\n      <td>[6000050000000D]</td>\n      <td>2018-12-31</td>\n      <td>2033-12-31</td>\n      <td>16744</td>\n      <td>0</td>\n      <td>4186</td>\n      <td>-12558</td>\n    </tr>\n    <tr>\n      <th>2</th>\n      <td>campbell clinic wr mob</td>\n      <td>1400 germantown</td>\n      <td>[IDB0000G000070]</td>\n      <td>[G0220000003690,  G0220000004560,  G0220000004...</td>\n      <td>2019-12-31</td>\n      <td>2027-12-30</td>\n      <td>671422</td>\n      <td>123694</td>\n      <td>136932</td>\n      <td>-410796</td>\n    </tr>\n    <tr>\n      <th>3</th>\n      <td>crestwyn partners</td>\n      <td>9280 crestwyn hills</td>\n      <td>[IDB14000000000]</td>\n      <td>[G0243000004890]</td>\n      <td>2016-08-16</td>\n      <td>2023-08-16</td>\n      <td>119643</td>\n      <td>17183</td>\n      <td>25615</td>\n      <td>-76845</td>\n    </tr>\n  </tbody>\n</table>\n</div>"
     },
     "execution_count": 20,
     "metadata": {},
     "output_type": "execute_result"
    }
   ],
   "source": [
    "# Clean the list columns\n",
    "\n",
    "# Pandas always reads in lists as strings, so they will ultimately be converted to a string type, but putting them in lists firsts will allow us to convert them back to lists more quickly the next time we read them in because the list brackets will be included \n",
    "# in the output string\n",
    "\n",
    "list_columns = [\"pilot_parcel_no\", \"underlying_parcel_number\"]\n",
    "for col in list_columns:\n",
    "    df[col] = df[col].apply(lambda x: str(x).split(\",\"))\n",
    "df"
   ],
   "metadata": {
    "collapsed": false,
    "ExecuteTime": {
     "end_time": "2024-04-01T01:01:40.579377Z",
     "start_time": "2024-04-01T01:01:40.552071Z"
    }
   },
   "id": "5a2ebeae72c53116"
  },
  {
   "cell_type": "code",
   "execution_count": 21,
   "outputs": [
    {
     "data": {
      "text/plain": "                                  owner             location  \\\nowner_id                                                       \nfa0c449b658b             gill poplar gp          6797 hwy 72   \naeaf02f07dc9  mid america apartments lp          6815 poplar   \n3f73c512e692     campbell clinic wr mob      1400 germantown   \nc90d7ab8918a          crestwyn partners  9280 crestwyn hills   \n\n               pilot_parcel_no  \\\nowner_id                         \nfa0c449b658b  [IDB0000G000050]   \naeaf02f07dc9  [IDB0000G00006A]   \n3f73c512e692  [IDB0000G000070]   \nc90d7ab8918a  [IDB14000000000]   \n\n                                       underlying_parcel_number begin_date  \\\nowner_id                                                                     \nfa0c449b658b                                   [G0219000003110] 2018-03-17   \naeaf02f07dc9                                   [6000050000000D] 2018-12-31   \n3f73c512e692  [G0220000003690,  G0220000004560,  G0220000004... 2019-12-31   \nc90d7ab8918a                                   [G0243000004890] 2016-08-16   \n\n               end_date assmt_taxes pilot_contract_amt pilot_debt_service_amt  \\\nowner_id                                                                        \nfa0c449b658b 2033-03-17      346522             169314                  44302   \naeaf02f07dc9 2033-12-31       16744                  0                   4186   \n3f73c512e692 2027-12-30      671422             123694                 136932   \nc90d7ab8918a 2023-08-16      119643              17183                  25615   \n\n             difference  \nowner_id                 \nfa0c449b658b    -132906  \naeaf02f07dc9     -12558  \n3f73c512e692    -410796  \nc90d7ab8918a     -76845  ",
      "text/html": "<div>\n<style scoped>\n    .dataframe tbody tr th:only-of-type {\n        vertical-align: middle;\n    }\n\n    .dataframe tbody tr th {\n        vertical-align: top;\n    }\n\n    .dataframe thead th {\n        text-align: right;\n    }\n</style>\n<table border=\"1\" class=\"dataframe\">\n  <thead>\n    <tr style=\"text-align: right;\">\n      <th></th>\n      <th>owner</th>\n      <th>location</th>\n      <th>pilot_parcel_no</th>\n      <th>underlying_parcel_number</th>\n      <th>begin_date</th>\n      <th>end_date</th>\n      <th>assmt_taxes</th>\n      <th>pilot_contract_amt</th>\n      <th>pilot_debt_service_amt</th>\n      <th>difference</th>\n    </tr>\n    <tr>\n      <th>owner_id</th>\n      <th></th>\n      <th></th>\n      <th></th>\n      <th></th>\n      <th></th>\n      <th></th>\n      <th></th>\n      <th></th>\n      <th></th>\n      <th></th>\n    </tr>\n  </thead>\n  <tbody>\n    <tr>\n      <th>fa0c449b658b</th>\n      <td>gill poplar gp</td>\n      <td>6797 hwy 72</td>\n      <td>[IDB0000G000050]</td>\n      <td>[G0219000003110]</td>\n      <td>2018-03-17</td>\n      <td>2033-03-17</td>\n      <td>346522</td>\n      <td>169314</td>\n      <td>44302</td>\n      <td>-132906</td>\n    </tr>\n    <tr>\n      <th>aeaf02f07dc9</th>\n      <td>mid america apartments lp</td>\n      <td>6815 poplar</td>\n      <td>[IDB0000G00006A]</td>\n      <td>[6000050000000D]</td>\n      <td>2018-12-31</td>\n      <td>2033-12-31</td>\n      <td>16744</td>\n      <td>0</td>\n      <td>4186</td>\n      <td>-12558</td>\n    </tr>\n    <tr>\n      <th>3f73c512e692</th>\n      <td>campbell clinic wr mob</td>\n      <td>1400 germantown</td>\n      <td>[IDB0000G000070]</td>\n      <td>[G0220000003690,  G0220000004560,  G0220000004...</td>\n      <td>2019-12-31</td>\n      <td>2027-12-30</td>\n      <td>671422</td>\n      <td>123694</td>\n      <td>136932</td>\n      <td>-410796</td>\n    </tr>\n    <tr>\n      <th>c90d7ab8918a</th>\n      <td>crestwyn partners</td>\n      <td>9280 crestwyn hills</td>\n      <td>[IDB14000000000]</td>\n      <td>[G0243000004890]</td>\n      <td>2016-08-16</td>\n      <td>2023-08-16</td>\n      <td>119643</td>\n      <td>17183</td>\n      <td>25615</td>\n      <td>-76845</td>\n    </tr>\n  </tbody>\n</table>\n</div>"
     },
     "execution_count": 21,
     "metadata": {},
     "output_type": "execute_result"
    }
   ],
   "source": [
    "# Create a unique index column based on the values in the identifying column\n",
    "# Note: Ids are based on a deterministic hash, which means they are \n",
    "# reproducible even if the function is run by a different user at a different time,\n",
    "# as long as the string in the identifying column is the same. \n",
    "\n",
    "identifying_columns = [\"owner\"]\n",
    "index_name = \"owner_id\"\n",
    "df = set_unique_index(df=df, columns_to_hash = identifying_columns, index_length_limit=12, index_name=index_name)\n",
    "df"
   ],
   "metadata": {
    "collapsed": false,
    "ExecuteTime": {
     "end_time": "2024-04-01T01:01:40.580323Z",
     "start_time": "2024-04-01T01:01:40.561238Z"
    }
   },
   "id": "fa13dd82fd715b68"
  },
  {
   "cell_type": "code",
   "execution_count": 22,
   "outputs": [
    {
     "data": {
      "text/plain": "owner                               object\nlocation                            object\npilot_parcel_no                     object\nunderlying_parcel_number            object\nbegin_date                  datetime64[ns]\nend_date                    datetime64[ns]\nassmt_taxes                         object\npilot_contract_amt                  object\npilot_debt_service_amt              object\ndifference                          object\ndtype: object"
     },
     "execution_count": 22,
     "metadata": {},
     "output_type": "execute_result"
    }
   ],
   "source": [
    "# Check the data types of each variable\n",
    "df.dtypes"
   ],
   "metadata": {
    "collapsed": false,
    "ExecuteTime": {
     "end_time": "2024-04-01T01:01:40.580490Z",
     "start_time": "2024-04-01T01:01:40.565316Z"
    }
   },
   "id": "fb1c412d6c764d7b"
  },
  {
   "cell_type": "code",
   "execution_count": 23,
   "outputs": [
    {
     "data": {
      "text/plain": "owner                       string[python]\nlocation                    string[python]\npilot_parcel_no             string[python]\nunderlying_parcel_number    string[python]\nbegin_date                  datetime64[ns]\nend_date                            object\nassmt_taxes                        float64\npilot_contract_amt                 float64\npilot_debt_service_amt             float64\ndifference                         float64\ndtype: object"
     },
     "execution_count": 23,
     "metadata": {},
     "output_type": "execute_result"
    }
   ],
   "source": [
    "# Fix the data type of each variable\n",
    "\n",
    "names_to_types = {'owner': 'string',\n",
    "                  'location': 'string',\n",
    "                  'pilot_parcel_no': 'string', \n",
    "                  'underlying_parcel_number': 'string',\n",
    "                  'begin_date': 'datetime64[ns]', \n",
    "                  'end_date': 'object',\n",
    "                  'assmt_taxes': 'float64',\n",
    "                  'pilot_contract_amt': 'float64',\n",
    "       'pilot_debt_service_amt': 'float64', \n",
    "                  'difference': 'float64'}\n",
    "df = cast_data_types(df, names_to_types)\n",
    "df.dtypes"
   ],
   "metadata": {
    "collapsed": false,
    "ExecuteTime": {
     "end_time": "2024-04-01T01:01:40.580608Z",
     "start_time": "2024-04-01T01:01:40.571689Z"
    }
   },
   "id": "fa0f0232d27d41fe"
  },
  {
   "cell_type": "code",
   "execution_count": 24,
   "outputs": [],
   "source": [
    "# Save the now-clean csv and convert it to utf-8 format\n",
    "outfile_path = \"../data/processed/s12_2021_idb_germantown.csv\"\n",
    "df.to_csv(outfile_path)\n",
    "convert_utf8(original_file_path=outfile_path, new_file_path=outfile_path)"
   ],
   "metadata": {
    "collapsed": false,
    "ExecuteTime": {
     "end_time": "2024-04-01T01:01:40.598103Z",
     "start_time": "2024-04-01T01:01:40.575299Z"
    }
   },
   "id": "209e2ad7bce3421"
  },
  {
   "cell_type": "code",
   "execution_count": 24,
   "outputs": [],
   "source": [],
   "metadata": {
    "collapsed": false,
    "ExecuteTime": {
     "end_time": "2024-04-01T01:01:40.598248Z",
     "start_time": "2024-04-01T01:01:40.583361Z"
    }
   },
   "id": "932f14634f70a566"
  }
 ],
 "metadata": {
  "kernelspec": {
   "display_name": "Python 3",
   "language": "python",
   "name": "python3"
  },
  "language_info": {
   "codemirror_mode": {
    "name": "ipython",
    "version": 2
   },
   "file_extension": ".py",
   "mimetype": "text/x-python",
   "name": "python",
   "nbconvert_exporter": "python",
   "pygments_lexer": "ipython2",
   "version": "2.7.6"
  }
 },
 "nbformat": 4,
 "nbformat_minor": 5
}
