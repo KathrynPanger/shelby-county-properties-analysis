{
 "cells": [
  {
   "cell_type": "code",
   "execution_count": 6,
   "id": "initial_id",
   "metadata": {
    "collapsed": true,
    "ExecuteTime": {
     "end_time": "2024-04-04T17:50:30.630561Z",
     "start_time": "2024-04-04T17:50:30.616847Z"
    }
   },
   "outputs": [
    {
     "ename": "ImportError",
     "evalue": "cannot import name 'read_csv' from 'paths' (/Users/kathrynpanger/Documents/pdf_extraction/analysis/scratch/paths.py)",
     "output_type": "error",
     "traceback": [
      "\u001B[0;31m---------------------------------------------------------------------------\u001B[0m",
      "\u001B[0;31mImportError\u001B[0m                               Traceback (most recent call last)",
      "Cell \u001B[0;32mIn[6], line 2\u001B[0m\n\u001B[1;32m      1\u001B[0m \u001B[38;5;28;01mimport\u001B[39;00m \u001B[38;5;21;01mpandas\u001B[39;00m \u001B[38;5;28;01mas\u001B[39;00m \u001B[38;5;21;01mpd\u001B[39;00m\n\u001B[0;32m----> 2\u001B[0m \u001B[38;5;28;01mfrom\u001B[39;00m \u001B[38;5;21;01mpaths\u001B[39;00m \u001B[38;5;28;01mimport\u001B[39;00m read_csv\n",
      "\u001B[0;31mImportError\u001B[0m: cannot import name 'read_csv' from 'paths' (/Users/kathrynpanger/Documents/pdf_extraction/analysis/scratch/paths.py)"
     ]
    }
   ],
   "source": [
    "import pandas as pd"
   ]
  },
  {
   "cell_type": "code",
   "execution_count": 4,
   "outputs": [
    {
     "ename": "NameError",
     "evalue": "name 'CSV' is not defined",
     "output_type": "error",
     "traceback": [
      "\u001B[0;31m---------------------------------------------------------------------------\u001B[0m",
      "\u001B[0;31mNameError\u001B[0m                                 Traceback (most recent call last)",
      "Cell \u001B[0;32mIn[4], line 1\u001B[0m\n\u001B[0;32m----> 1\u001B[0m dfs \u001B[38;5;241m=\u001B[39m [CSV\u001B[38;5;241m.\u001B[39ms1, CSV\u001B[38;5;241m.\u001B[39ms2, CSV\u001B[38;5;241m.\u001B[39ms3, CSV\u001B[38;5;241m.\u001B[39ms4, CSV\u001B[38;5;241m.\u001B[39ms5, CSV\u001B[38;5;241m.\u001B[39ms6, CSV\u001B[38;5;241m.\u001B[39ms7, CSV\u001B[38;5;241m.\u001B[39ms8, CSV\u001B[38;5;241m.\u001B[39ms9 ,CSV\u001B[38;5;241m.\u001B[39ms10, CSV\u001B[38;5;241m.\u001B[39ms11, CSV\u001B[38;5;241m.\u001B[39ms12, CSV\u001B[38;5;241m.\u001B[39ms13]\n\u001B[1;32m      2\u001B[0m df \u001B[38;5;241m=\u001B[39m pd\u001B[38;5;241m.\u001B[39mconcat([read_csv(item) \u001B[38;5;28;01mfor\u001B[39;00m item \u001B[38;5;129;01min\u001B[39;00m dfs])\n\u001B[1;32m      3\u001B[0m df\n",
      "\u001B[0;31mNameError\u001B[0m: name 'CSV' is not defined"
     ]
    }
   ],
   "source": [
    "# Define paths to datqa\n",
    "data_path = \"../../data/processed/\"\n",
    "s1_2019_path = \"s1_2019.csv\"\n",
    "s1_2020_path = \"s1_2020.csv\"\n",
    "s1_2021_path = \"s1_2021.csv\"\n",
    "s1_2022_path = \"s1_2022.csv\""
   ],
   "metadata": {
    "collapsed": false,
    "ExecuteTime": {
     "end_time": "2024-04-04T17:49:55.466181Z",
     "start_time": "2024-04-04T17:49:55.445401Z"
    }
   },
   "id": "7d4aae98fbaa23fe"
  },
  {
   "cell_type": "code",
   "execution_count": 3,
   "outputs": [],
   "source": [
    "# Read in summary dataframes\n",
    "df_2019 = pd.read_csv(data_path + s1_2019_path)\n",
    "df_2020 = pd.read_csv(data_path + s1_2020_path)\n",
    "df_2021 = pd.read_csv(data_path + s1_2021_path)\n",
    "df_2022 = pd.read_csv(data_path + s1_2022_path)"
   ],
   "metadata": {
    "collapsed": false,
    "ExecuteTime": {
     "end_time": "2024-04-03T00:58:04.495003Z",
     "start_time": "2024-04-03T00:58:04.486029Z"
    }
   },
   "id": "a3022b07c1ef71bd"
  },
  {
   "cell_type": "code",
   "execution_count": 4,
   "outputs": [
    {
     "data": {
      "text/plain": "    Unnamed: 0      board_id                                   board  \\\n0            0  5b1f4c0c65a3             downtown memphis commission   \n1            1  d5fe3a85ec4e                             edge shelby   \n2            2  abb34861ca91     industrial development of arlington   \n3            3  aada4183f85c      industrial development of bartlett   \n4            4  91e543f3085f  industrial development of collierville   \n5            5  3f1cf0abc31c    industrial development of germantown   \n6            6  757a7152194c    industrial development of millington   \n7            7  3bcfcbd3a12d          health education board memphis   \n8            8  64c9e33b120e           health education board shelby   \n9            9  df3a7c5fc143                 miscellaneous contracts   \n10          10  ac18571846b6        city county government contracts   \n0            0  5b1f4c0c65a3             downtown memphis commission   \n1            1  d5fe3a85ec4e                             edge shelby   \n2            2  abb34861ca91     industrial development of arlington   \n3            3  aada4183f85c      industrial development of bartlett   \n4            4  91e543f3085f  industrial development of collierville   \n5            5  3f1cf0abc31c    industrial development of germantown   \n6            6  757a7152194c    industrial development of millington   \n7            7  3bcfcbd3a12d          health education board memphis   \n8            8  64c9e33b120e           health education board shelby   \n9            9  df3a7c5fc143                 miscellaneous contracts   \n10          10  ac18571846b6        city county government contracts   \n0            0  5b1f4c0c65a3             downtown memphis commission   \n1            1  d5fe3a85ec4e                             edge shelby   \n2            2  abb34861ca91     industrial development of arlington   \n3            3  aada4183f85c      industrial development of bartlett   \n4            4  91e543f3085f  industrial development of collierville   \n5            5  3f1cf0abc31c    industrial development of germantown   \n6            6  757a7152194c    industrial development of millington   \n7            7  3bcfcbd3a12d          health education board memphis   \n8            8  64c9e33b120e           health education board shelby   \n9            9  df3a7c5fc143                 miscellaneous contracts   \n10          10  ac18571846b6        city county government contracts   \n0            0  5b1f4c0c65a3             downtown memphis commission   \n1            1  d5fe3a85ec4e                             edge shelby   \n2            2  abb34861ca91     industrial development of arlington   \n3            3  aada4183f85c      industrial development of bartlett   \n4            4  91e543f3085f  industrial development of collierville   \n5            5  3f1cf0abc31c    industrial development of germantown   \n6            6  757a7152194c    industrial development of millington   \n7            7  3bcfcbd3a12d          health education board memphis   \n8            8  64c9e33b120e           health education board shelby   \n9            9  df3a7c5fc143                 miscellaneous contracts   \n10          10  ac18571846b6        city county government contracts   \n\n    number_of_contracts  amount_billed_pilot_inl  amount_billed_debt_service  \\\n0                   123               1981904.47                  1226006.18   \n1                   243               2856659.78                  6149156.86   \n2                    15                 52116.90                   114566.56   \n3                    11                 15257.82                   146630.61   \n4                    14                774048.02                   661885.66   \n5                     4                237740.75                    96081.97   \n6                     1                 10280.12                    79383.24   \n7                    73                930606.59                        0.00   \n8                     8                133533.27                        0.00   \n9                    10                 35460.00                        0.00   \n10                    5                  5706.00                        0.00   \n0                   124               1810641.75                  1253932.00   \n1                   244               3571519.04                  5759342.00   \n2                    12                 99227.89                   103320.00   \n3                    11                 31642.62                   103452.00   \n4                    11                768997.18                   918418.00   \n5                     5                347401.82                   233408.00   \n6                     1                 10280.12                    79383.00   \n7                    80               1227981.40                        0.00   \n8                     7                108060.40                        0.00   \n9                    10                 35460.00                        0.00   \n10                    5                  5706.00                        0.00   \n0                   127               1702925.70                  1354076.55   \n1                   226               4078933.42                  5183964.81   \n2                    11                109409.96                    57885.31   \n3                     9                 22387.74                   137868.24   \n4                    10                673347.93                   816687.94   \n5                     4                315681.29                   215876.06   \n6                     1                  8757.14                    92733.24   \n7                   101               1263358.70                        0.00   \n8                     6                 89436.98                        0.00   \n9                     8                 29640.00                        0.00   \n10                    5                  5706.00                        0.00   \n0                   124               2265277.82                  1378186.61   \n1                   241               4357705.55                  5922590.25   \n2                    10                116203.75                    49372.12   \n3                     6                 21998.39                    47646.73   \n4                    12                690322.00                   914883.78   \n5                     4                310191.18                   211034.77   \n6                     1                 50530.09                    80385.75   \n7                   107               1627887.89                        0.00   \n8                     6                 88595.41                        0.00   \n9                    10                 35460.00                        0.00   \n10                    5                  5868.72                        0.00   \n\n     assessment  tax_based_on_assessment_at_2021_tax_rate   difference  \\\n0   349460540.0                               14153151.87 -10945241.22   \n1   673220031.0                               27265411.26 -18259594.62   \n2    11977950.0                                 485106.98   -318423.52   \n3    14962783.0                                 605992.71   -444104.28   \n4    70132723.0                                2840375.28  -1404441.60   \n5    15357250.0                                 621968.63   -288145.91   \n6     7840320.0                                 317532.96   -227869.60   \n7   128138985.0                                5189628.89  -4259022.30   \n8    27687400.0                                1121339.70   -987806.43   \n9     9033520.0                                 365857.56   -330397.56   \n10    3141560.0                                 127233.18   -121527.18   \n0   362716620.0                               14690023.11 -11625449.56   \n1   597033940.0                               24179874.57 -14849013.54   \n2    12374870.0                                 501182.24   -298634.10   \n3    10632240.0                                 430605.72   -295510.76   \n4    95793370.0                                3879631.49  -2192216.19   \n5    34110510.0                                1381475.66   -800666.29   \n6     7840320.0                                 317532.96   -227869.60   \n7   156089720.0                                6321633.66  -5093652.26   \n8    28279320.0                                1145312.46  -1037252.06   \n9     9033520.0                                 365857.56   -330397.56   \n10    3141560.0                                 127233.18   -121527.18   \n0   406461240.0                               14022912.78 -10965910.53   \n1   730912470.0                               25216480.22 -15953581.99   \n2     9546730.0                                 329362.19   -162066.92   \n3    10152780.0                                 350270.91   -190014.93   \n4    99353000.0                                3427678.50  -1937642.63   \n5    38602690.0                                1331792.81   -800235.46   \n6    10751680.0                                 370932.96   -269442.58   \n7   235359315.0                                8119896.37  -6856537.67   \n8    30543560.0                                1053752.82   -964315.84   \n9     9504040.0                                 327889.38   -298249.38   \n10    3371400.0                                 116313.30   -110607.30   \n0   403472360.0                               13677713.00 -10034248.57   \n1   845013990.0                               28645974.26 -18365678.46   \n2     8906110.0                                 301917.13   -136341.26   \n3     7340910.0                                 248856.85   -179211.73   \n4   103923710.0                                3523013.77  -1917807.99   \n5    34051040.0                                1154330.26   -633104.31   \n6    10751680.0                                 364481.95   -233566.11   \n7   245059120.0                                8307504.17  -6679616.28   \n8    30543560.0                                1035426.68   -946831.27   \n9    10528400.0                                 356912.76   -321452.76   \n10    3371400.0                                 114290.46   -108421.74   \n\n    percentage_total_pilot_billing  year  \n0                            20.69  2019  \n1                            58.08  2019  \n2                             1.07  2019  \n3                             1.04  2019  \n4                             9.26  2019  \n5                             2.15  2019  \n6                             0.58  2019  \n7                             6.00  2019  \n8                             0.86  2019  \n9                             0.23  2019  \n10                            0.04  2019  \n0                            18.61  2020  \n1                            56.66  2020  \n2                             1.23  2020  \n3                             0.82  2020  \n4                            10.25  2020  \n5                             3.53  2020  \n6                             0.54  2020  \n7                             7.46  2020  \n8                             0.66  2020  \n9                             0.22  2020  \n10                            0.03  2020  \n0                            18.92  2021  \n1                            57.32  2021  \n2                             1.04  2021  \n3                             0.99  2021  \n4                             9.22  2021  \n5                             3.29  2021  \n6                             0.63  2021  \n7                             7.82  2021  \n8                             0.55  2021  \n9                             0.18  2021  \n10                            0.04  2021  \n0                            20.05  2022  \n1                            56.57  2022  \n2                             0.91  2022  \n3                             0.38  2022  \n4                             8.83  2022  \n5                             2.87  2022  \n6                             0.72  2022  \n7                             8.96  2022  \n8                             0.49  2022  \n9                             0.20  2022  \n10                            0.03  2022  ",
      "text/html": "<div>\n<style scoped>\n    .dataframe tbody tr th:only-of-type {\n        vertical-align: middle;\n    }\n\n    .dataframe tbody tr th {\n        vertical-align: top;\n    }\n\n    .dataframe thead th {\n        text-align: right;\n    }\n</style>\n<table border=\"1\" class=\"dataframe\">\n  <thead>\n    <tr style=\"text-align: right;\">\n      <th></th>\n      <th>Unnamed: 0</th>\n      <th>board_id</th>\n      <th>board</th>\n      <th>number_of_contracts</th>\n      <th>amount_billed_pilot_inl</th>\n      <th>amount_billed_debt_service</th>\n      <th>assessment</th>\n      <th>tax_based_on_assessment_at_2021_tax_rate</th>\n      <th>difference</th>\n      <th>percentage_total_pilot_billing</th>\n      <th>year</th>\n    </tr>\n  </thead>\n  <tbody>\n    <tr>\n      <th>0</th>\n      <td>0</td>\n      <td>5b1f4c0c65a3</td>\n      <td>downtown memphis commission</td>\n      <td>123</td>\n      <td>1981904.47</td>\n      <td>1226006.18</td>\n      <td>349460540.0</td>\n      <td>14153151.87</td>\n      <td>-10945241.22</td>\n      <td>20.69</td>\n      <td>2019</td>\n    </tr>\n    <tr>\n      <th>1</th>\n      <td>1</td>\n      <td>d5fe3a85ec4e</td>\n      <td>edge shelby</td>\n      <td>243</td>\n      <td>2856659.78</td>\n      <td>6149156.86</td>\n      <td>673220031.0</td>\n      <td>27265411.26</td>\n      <td>-18259594.62</td>\n      <td>58.08</td>\n      <td>2019</td>\n    </tr>\n    <tr>\n      <th>2</th>\n      <td>2</td>\n      <td>abb34861ca91</td>\n      <td>industrial development of arlington</td>\n      <td>15</td>\n      <td>52116.90</td>\n      <td>114566.56</td>\n      <td>11977950.0</td>\n      <td>485106.98</td>\n      <td>-318423.52</td>\n      <td>1.07</td>\n      <td>2019</td>\n    </tr>\n    <tr>\n      <th>3</th>\n      <td>3</td>\n      <td>aada4183f85c</td>\n      <td>industrial development of bartlett</td>\n      <td>11</td>\n      <td>15257.82</td>\n      <td>146630.61</td>\n      <td>14962783.0</td>\n      <td>605992.71</td>\n      <td>-444104.28</td>\n      <td>1.04</td>\n      <td>2019</td>\n    </tr>\n    <tr>\n      <th>4</th>\n      <td>4</td>\n      <td>91e543f3085f</td>\n      <td>industrial development of collierville</td>\n      <td>14</td>\n      <td>774048.02</td>\n      <td>661885.66</td>\n      <td>70132723.0</td>\n      <td>2840375.28</td>\n      <td>-1404441.60</td>\n      <td>9.26</td>\n      <td>2019</td>\n    </tr>\n    <tr>\n      <th>5</th>\n      <td>5</td>\n      <td>3f1cf0abc31c</td>\n      <td>industrial development of germantown</td>\n      <td>4</td>\n      <td>237740.75</td>\n      <td>96081.97</td>\n      <td>15357250.0</td>\n      <td>621968.63</td>\n      <td>-288145.91</td>\n      <td>2.15</td>\n      <td>2019</td>\n    </tr>\n    <tr>\n      <th>6</th>\n      <td>6</td>\n      <td>757a7152194c</td>\n      <td>industrial development of millington</td>\n      <td>1</td>\n      <td>10280.12</td>\n      <td>79383.24</td>\n      <td>7840320.0</td>\n      <td>317532.96</td>\n      <td>-227869.60</td>\n      <td>0.58</td>\n      <td>2019</td>\n    </tr>\n    <tr>\n      <th>7</th>\n      <td>7</td>\n      <td>3bcfcbd3a12d</td>\n      <td>health education board memphis</td>\n      <td>73</td>\n      <td>930606.59</td>\n      <td>0.00</td>\n      <td>128138985.0</td>\n      <td>5189628.89</td>\n      <td>-4259022.30</td>\n      <td>6.00</td>\n      <td>2019</td>\n    </tr>\n    <tr>\n      <th>8</th>\n      <td>8</td>\n      <td>64c9e33b120e</td>\n      <td>health education board shelby</td>\n      <td>8</td>\n      <td>133533.27</td>\n      <td>0.00</td>\n      <td>27687400.0</td>\n      <td>1121339.70</td>\n      <td>-987806.43</td>\n      <td>0.86</td>\n      <td>2019</td>\n    </tr>\n    <tr>\n      <th>9</th>\n      <td>9</td>\n      <td>df3a7c5fc143</td>\n      <td>miscellaneous contracts</td>\n      <td>10</td>\n      <td>35460.00</td>\n      <td>0.00</td>\n      <td>9033520.0</td>\n      <td>365857.56</td>\n      <td>-330397.56</td>\n      <td>0.23</td>\n      <td>2019</td>\n    </tr>\n    <tr>\n      <th>10</th>\n      <td>10</td>\n      <td>ac18571846b6</td>\n      <td>city county government contracts</td>\n      <td>5</td>\n      <td>5706.00</td>\n      <td>0.00</td>\n      <td>3141560.0</td>\n      <td>127233.18</td>\n      <td>-121527.18</td>\n      <td>0.04</td>\n      <td>2019</td>\n    </tr>\n    <tr>\n      <th>0</th>\n      <td>0</td>\n      <td>5b1f4c0c65a3</td>\n      <td>downtown memphis commission</td>\n      <td>124</td>\n      <td>1810641.75</td>\n      <td>1253932.00</td>\n      <td>362716620.0</td>\n      <td>14690023.11</td>\n      <td>-11625449.56</td>\n      <td>18.61</td>\n      <td>2020</td>\n    </tr>\n    <tr>\n      <th>1</th>\n      <td>1</td>\n      <td>d5fe3a85ec4e</td>\n      <td>edge shelby</td>\n      <td>244</td>\n      <td>3571519.04</td>\n      <td>5759342.00</td>\n      <td>597033940.0</td>\n      <td>24179874.57</td>\n      <td>-14849013.54</td>\n      <td>56.66</td>\n      <td>2020</td>\n    </tr>\n    <tr>\n      <th>2</th>\n      <td>2</td>\n      <td>abb34861ca91</td>\n      <td>industrial development of arlington</td>\n      <td>12</td>\n      <td>99227.89</td>\n      <td>103320.00</td>\n      <td>12374870.0</td>\n      <td>501182.24</td>\n      <td>-298634.10</td>\n      <td>1.23</td>\n      <td>2020</td>\n    </tr>\n    <tr>\n      <th>3</th>\n      <td>3</td>\n      <td>aada4183f85c</td>\n      <td>industrial development of bartlett</td>\n      <td>11</td>\n      <td>31642.62</td>\n      <td>103452.00</td>\n      <td>10632240.0</td>\n      <td>430605.72</td>\n      <td>-295510.76</td>\n      <td>0.82</td>\n      <td>2020</td>\n    </tr>\n    <tr>\n      <th>4</th>\n      <td>4</td>\n      <td>91e543f3085f</td>\n      <td>industrial development of collierville</td>\n      <td>11</td>\n      <td>768997.18</td>\n      <td>918418.00</td>\n      <td>95793370.0</td>\n      <td>3879631.49</td>\n      <td>-2192216.19</td>\n      <td>10.25</td>\n      <td>2020</td>\n    </tr>\n    <tr>\n      <th>5</th>\n      <td>5</td>\n      <td>3f1cf0abc31c</td>\n      <td>industrial development of germantown</td>\n      <td>5</td>\n      <td>347401.82</td>\n      <td>233408.00</td>\n      <td>34110510.0</td>\n      <td>1381475.66</td>\n      <td>-800666.29</td>\n      <td>3.53</td>\n      <td>2020</td>\n    </tr>\n    <tr>\n      <th>6</th>\n      <td>6</td>\n      <td>757a7152194c</td>\n      <td>industrial development of millington</td>\n      <td>1</td>\n      <td>10280.12</td>\n      <td>79383.00</td>\n      <td>7840320.0</td>\n      <td>317532.96</td>\n      <td>-227869.60</td>\n      <td>0.54</td>\n      <td>2020</td>\n    </tr>\n    <tr>\n      <th>7</th>\n      <td>7</td>\n      <td>3bcfcbd3a12d</td>\n      <td>health education board memphis</td>\n      <td>80</td>\n      <td>1227981.40</td>\n      <td>0.00</td>\n      <td>156089720.0</td>\n      <td>6321633.66</td>\n      <td>-5093652.26</td>\n      <td>7.46</td>\n      <td>2020</td>\n    </tr>\n    <tr>\n      <th>8</th>\n      <td>8</td>\n      <td>64c9e33b120e</td>\n      <td>health education board shelby</td>\n      <td>7</td>\n      <td>108060.40</td>\n      <td>0.00</td>\n      <td>28279320.0</td>\n      <td>1145312.46</td>\n      <td>-1037252.06</td>\n      <td>0.66</td>\n      <td>2020</td>\n    </tr>\n    <tr>\n      <th>9</th>\n      <td>9</td>\n      <td>df3a7c5fc143</td>\n      <td>miscellaneous contracts</td>\n      <td>10</td>\n      <td>35460.00</td>\n      <td>0.00</td>\n      <td>9033520.0</td>\n      <td>365857.56</td>\n      <td>-330397.56</td>\n      <td>0.22</td>\n      <td>2020</td>\n    </tr>\n    <tr>\n      <th>10</th>\n      <td>10</td>\n      <td>ac18571846b6</td>\n      <td>city county government contracts</td>\n      <td>5</td>\n      <td>5706.00</td>\n      <td>0.00</td>\n      <td>3141560.0</td>\n      <td>127233.18</td>\n      <td>-121527.18</td>\n      <td>0.03</td>\n      <td>2020</td>\n    </tr>\n    <tr>\n      <th>0</th>\n      <td>0</td>\n      <td>5b1f4c0c65a3</td>\n      <td>downtown memphis commission</td>\n      <td>127</td>\n      <td>1702925.70</td>\n      <td>1354076.55</td>\n      <td>406461240.0</td>\n      <td>14022912.78</td>\n      <td>-10965910.53</td>\n      <td>18.92</td>\n      <td>2021</td>\n    </tr>\n    <tr>\n      <th>1</th>\n      <td>1</td>\n      <td>d5fe3a85ec4e</td>\n      <td>edge shelby</td>\n      <td>226</td>\n      <td>4078933.42</td>\n      <td>5183964.81</td>\n      <td>730912470.0</td>\n      <td>25216480.22</td>\n      <td>-15953581.99</td>\n      <td>57.32</td>\n      <td>2021</td>\n    </tr>\n    <tr>\n      <th>2</th>\n      <td>2</td>\n      <td>abb34861ca91</td>\n      <td>industrial development of arlington</td>\n      <td>11</td>\n      <td>109409.96</td>\n      <td>57885.31</td>\n      <td>9546730.0</td>\n      <td>329362.19</td>\n      <td>-162066.92</td>\n      <td>1.04</td>\n      <td>2021</td>\n    </tr>\n    <tr>\n      <th>3</th>\n      <td>3</td>\n      <td>aada4183f85c</td>\n      <td>industrial development of bartlett</td>\n      <td>9</td>\n      <td>22387.74</td>\n      <td>137868.24</td>\n      <td>10152780.0</td>\n      <td>350270.91</td>\n      <td>-190014.93</td>\n      <td>0.99</td>\n      <td>2021</td>\n    </tr>\n    <tr>\n      <th>4</th>\n      <td>4</td>\n      <td>91e543f3085f</td>\n      <td>industrial development of collierville</td>\n      <td>10</td>\n      <td>673347.93</td>\n      <td>816687.94</td>\n      <td>99353000.0</td>\n      <td>3427678.50</td>\n      <td>-1937642.63</td>\n      <td>9.22</td>\n      <td>2021</td>\n    </tr>\n    <tr>\n      <th>5</th>\n      <td>5</td>\n      <td>3f1cf0abc31c</td>\n      <td>industrial development of germantown</td>\n      <td>4</td>\n      <td>315681.29</td>\n      <td>215876.06</td>\n      <td>38602690.0</td>\n      <td>1331792.81</td>\n      <td>-800235.46</td>\n      <td>3.29</td>\n      <td>2021</td>\n    </tr>\n    <tr>\n      <th>6</th>\n      <td>6</td>\n      <td>757a7152194c</td>\n      <td>industrial development of millington</td>\n      <td>1</td>\n      <td>8757.14</td>\n      <td>92733.24</td>\n      <td>10751680.0</td>\n      <td>370932.96</td>\n      <td>-269442.58</td>\n      <td>0.63</td>\n      <td>2021</td>\n    </tr>\n    <tr>\n      <th>7</th>\n      <td>7</td>\n      <td>3bcfcbd3a12d</td>\n      <td>health education board memphis</td>\n      <td>101</td>\n      <td>1263358.70</td>\n      <td>0.00</td>\n      <td>235359315.0</td>\n      <td>8119896.37</td>\n      <td>-6856537.67</td>\n      <td>7.82</td>\n      <td>2021</td>\n    </tr>\n    <tr>\n      <th>8</th>\n      <td>8</td>\n      <td>64c9e33b120e</td>\n      <td>health education board shelby</td>\n      <td>6</td>\n      <td>89436.98</td>\n      <td>0.00</td>\n      <td>30543560.0</td>\n      <td>1053752.82</td>\n      <td>-964315.84</td>\n      <td>0.55</td>\n      <td>2021</td>\n    </tr>\n    <tr>\n      <th>9</th>\n      <td>9</td>\n      <td>df3a7c5fc143</td>\n      <td>miscellaneous contracts</td>\n      <td>8</td>\n      <td>29640.00</td>\n      <td>0.00</td>\n      <td>9504040.0</td>\n      <td>327889.38</td>\n      <td>-298249.38</td>\n      <td>0.18</td>\n      <td>2021</td>\n    </tr>\n    <tr>\n      <th>10</th>\n      <td>10</td>\n      <td>ac18571846b6</td>\n      <td>city county government contracts</td>\n      <td>5</td>\n      <td>5706.00</td>\n      <td>0.00</td>\n      <td>3371400.0</td>\n      <td>116313.30</td>\n      <td>-110607.30</td>\n      <td>0.04</td>\n      <td>2021</td>\n    </tr>\n    <tr>\n      <th>0</th>\n      <td>0</td>\n      <td>5b1f4c0c65a3</td>\n      <td>downtown memphis commission</td>\n      <td>124</td>\n      <td>2265277.82</td>\n      <td>1378186.61</td>\n      <td>403472360.0</td>\n      <td>13677713.00</td>\n      <td>-10034248.57</td>\n      <td>20.05</td>\n      <td>2022</td>\n    </tr>\n    <tr>\n      <th>1</th>\n      <td>1</td>\n      <td>d5fe3a85ec4e</td>\n      <td>edge shelby</td>\n      <td>241</td>\n      <td>4357705.55</td>\n      <td>5922590.25</td>\n      <td>845013990.0</td>\n      <td>28645974.26</td>\n      <td>-18365678.46</td>\n      <td>56.57</td>\n      <td>2022</td>\n    </tr>\n    <tr>\n      <th>2</th>\n      <td>2</td>\n      <td>abb34861ca91</td>\n      <td>industrial development of arlington</td>\n      <td>10</td>\n      <td>116203.75</td>\n      <td>49372.12</td>\n      <td>8906110.0</td>\n      <td>301917.13</td>\n      <td>-136341.26</td>\n      <td>0.91</td>\n      <td>2022</td>\n    </tr>\n    <tr>\n      <th>3</th>\n      <td>3</td>\n      <td>aada4183f85c</td>\n      <td>industrial development of bartlett</td>\n      <td>6</td>\n      <td>21998.39</td>\n      <td>47646.73</td>\n      <td>7340910.0</td>\n      <td>248856.85</td>\n      <td>-179211.73</td>\n      <td>0.38</td>\n      <td>2022</td>\n    </tr>\n    <tr>\n      <th>4</th>\n      <td>4</td>\n      <td>91e543f3085f</td>\n      <td>industrial development of collierville</td>\n      <td>12</td>\n      <td>690322.00</td>\n      <td>914883.78</td>\n      <td>103923710.0</td>\n      <td>3523013.77</td>\n      <td>-1917807.99</td>\n      <td>8.83</td>\n      <td>2022</td>\n    </tr>\n    <tr>\n      <th>5</th>\n      <td>5</td>\n      <td>3f1cf0abc31c</td>\n      <td>industrial development of germantown</td>\n      <td>4</td>\n      <td>310191.18</td>\n      <td>211034.77</td>\n      <td>34051040.0</td>\n      <td>1154330.26</td>\n      <td>-633104.31</td>\n      <td>2.87</td>\n      <td>2022</td>\n    </tr>\n    <tr>\n      <th>6</th>\n      <td>6</td>\n      <td>757a7152194c</td>\n      <td>industrial development of millington</td>\n      <td>1</td>\n      <td>50530.09</td>\n      <td>80385.75</td>\n      <td>10751680.0</td>\n      <td>364481.95</td>\n      <td>-233566.11</td>\n      <td>0.72</td>\n      <td>2022</td>\n    </tr>\n    <tr>\n      <th>7</th>\n      <td>7</td>\n      <td>3bcfcbd3a12d</td>\n      <td>health education board memphis</td>\n      <td>107</td>\n      <td>1627887.89</td>\n      <td>0.00</td>\n      <td>245059120.0</td>\n      <td>8307504.17</td>\n      <td>-6679616.28</td>\n      <td>8.96</td>\n      <td>2022</td>\n    </tr>\n    <tr>\n      <th>8</th>\n      <td>8</td>\n      <td>64c9e33b120e</td>\n      <td>health education board shelby</td>\n      <td>6</td>\n      <td>88595.41</td>\n      <td>0.00</td>\n      <td>30543560.0</td>\n      <td>1035426.68</td>\n      <td>-946831.27</td>\n      <td>0.49</td>\n      <td>2022</td>\n    </tr>\n    <tr>\n      <th>9</th>\n      <td>9</td>\n      <td>df3a7c5fc143</td>\n      <td>miscellaneous contracts</td>\n      <td>10</td>\n      <td>35460.00</td>\n      <td>0.00</td>\n      <td>10528400.0</td>\n      <td>356912.76</td>\n      <td>-321452.76</td>\n      <td>0.20</td>\n      <td>2022</td>\n    </tr>\n    <tr>\n      <th>10</th>\n      <td>10</td>\n      <td>ac18571846b6</td>\n      <td>city county government contracts</td>\n      <td>5</td>\n      <td>5868.72</td>\n      <td>0.00</td>\n      <td>3371400.0</td>\n      <td>114290.46</td>\n      <td>-108421.74</td>\n      <td>0.03</td>\n      <td>2022</td>\n    </tr>\n  </tbody>\n</table>\n</div>"
     },
     "execution_count": 4,
     "metadata": {},
     "output_type": "execute_result"
    }
   ],
   "source": [
    "# Combine summary dataframes\n",
    "summary_dbs = [df_2019, df_2020, df_2021, df_2022]\n",
    "df_2019[\"year\"] = 2019\n",
    "df_2020[\"year\"] = 2020\n",
    "df_2021[\"year\"] = 2021\n",
    "df_2022[\"year\"] = 2022\n",
    "df = pd.concat(summary_dbs)\n",
    "df"
   ],
   "metadata": {
    "collapsed": false,
    "ExecuteTime": {
     "end_time": "2024-04-03T00:58:04.520233Z",
     "start_time": "2024-04-03T00:58:04.496585Z"
    }
   },
   "id": "3066959b090622ac"
  },
  {
   "cell_type": "code",
   "execution_count": 5,
   "outputs": [
    {
     "data": {
      "text/plain": "      total_contracts  total_billed_pilot_inl  total_billed_debt_service  \\\nyear                                                                       \n2019              507              7033313.72                 8473711.08   \n2020              510              8016918.22                 8451255.00   \n2021              508              8299584.86                 7859092.15   \n2022              526              9570040.80                 8604100.01   \n\n      total_assessment  total_tax_based_on_assessment_at_2021_tax_rate  \\\nyear                                                                     \n2019      1.310953e+09                                     53093599.02   \n2020      1.317046e+09                                     53340362.61   \n2021      1.584559e+09                                     54667282.24   \n2022      1.702962e+09                                     57730421.29   \n\n      total_difference  \nyear                    \n2019      -37586574.22  \n2020      -36872189.10  \n2021      -38508605.23  \n2022      -39556280.48  ",
      "text/html": "<div>\n<style scoped>\n    .dataframe tbody tr th:only-of-type {\n        vertical-align: middle;\n    }\n\n    .dataframe tbody tr th {\n        vertical-align: top;\n    }\n\n    .dataframe thead th {\n        text-align: right;\n    }\n</style>\n<table border=\"1\" class=\"dataframe\">\n  <thead>\n    <tr style=\"text-align: right;\">\n      <th></th>\n      <th>total_contracts</th>\n      <th>total_billed_pilot_inl</th>\n      <th>total_billed_debt_service</th>\n      <th>total_assessment</th>\n      <th>total_tax_based_on_assessment_at_2021_tax_rate</th>\n      <th>total_difference</th>\n    </tr>\n    <tr>\n      <th>year</th>\n      <th></th>\n      <th></th>\n      <th></th>\n      <th></th>\n      <th></th>\n      <th></th>\n    </tr>\n  </thead>\n  <tbody>\n    <tr>\n      <th>2019</th>\n      <td>507</td>\n      <td>7033313.72</td>\n      <td>8473711.08</td>\n      <td>1.310953e+09</td>\n      <td>53093599.02</td>\n      <td>-37586574.22</td>\n    </tr>\n    <tr>\n      <th>2020</th>\n      <td>510</td>\n      <td>8016918.22</td>\n      <td>8451255.00</td>\n      <td>1.317046e+09</td>\n      <td>53340362.61</td>\n      <td>-36872189.10</td>\n    </tr>\n    <tr>\n      <th>2021</th>\n      <td>508</td>\n      <td>8299584.86</td>\n      <td>7859092.15</td>\n      <td>1.584559e+09</td>\n      <td>54667282.24</td>\n      <td>-38508605.23</td>\n    </tr>\n    <tr>\n      <th>2022</th>\n      <td>526</td>\n      <td>9570040.80</td>\n      <td>8604100.01</td>\n      <td>1.702962e+09</td>\n      <td>57730421.29</td>\n      <td>-39556280.48</td>\n    </tr>\n  </tbody>\n</table>\n</div>"
     },
     "execution_count": 5,
     "metadata": {},
     "output_type": "execute_result"
    }
   ],
   "source": [
    "yearly_summary = df.groupby(by=\"year\").agg(total_contracts=(\"number_of_contracts\",\"sum\"),\n",
    "                                           total_billed_pilot_inl=(\"amount_billed_pilot_inl\", \"sum\"),\n",
    "                                           total_billed_debt_service=(\"amount_billed_debt_service\",\"sum\"),\n",
    "                                           total_assessment=(\"assessment\", \"sum\"),\n",
    "                                           total_tax_based_on_assessment_at_2021_tax_rate=('tax_based_on_assessment_at_2021_tax_rate', 'sum'),\n",
    "                                           total_difference=(\"difference\",'sum'),\n",
    "                                           )\n",
    "yearly_summary"
   ],
   "metadata": {
    "collapsed": false,
    "ExecuteTime": {
     "end_time": "2024-04-03T00:58:04.532662Z",
     "start_time": "2024-04-03T00:58:04.520411Z"
    }
   },
   "id": "f6b5b0671d33b17d"
  },
  {
   "cell_type": "code",
   "execution_count": 6,
   "outputs": [],
   "source": [
    "yearly_summary[\"total_assessment\"] = yearly_summary[\"total_assessment\"].apply(lambda x: '{:.2f}'.format(x))"
   ],
   "metadata": {
    "collapsed": false,
    "ExecuteTime": {
     "end_time": "2024-04-03T00:58:04.535952Z",
     "start_time": "2024-04-03T00:58:04.531115Z"
    }
   },
   "id": "20c7090d1803d74e"
  },
  {
   "cell_type": "code",
   "execution_count": 7,
   "outputs": [
    {
     "data": {
      "text/plain": "      total_contracts  total_billed_pilot_inl  total_billed_debt_service  \\\nyear                                                                       \n2019              507              7033313.72                 8473711.08   \n2020              510              8016918.22                 8451255.00   \n2021              508              8299584.86                 7859092.15   \n2022              526              9570040.80                 8604100.01   \n\n     total_assessment  total_tax_based_on_assessment_at_2021_tax_rate  \\\nyear                                                                    \n2019    1310953062.00                                     53093599.02   \n2020    1317045990.00                                     53340362.61   \n2021    1584558905.00                                     54667282.24   \n2022    1702962280.00                                     57730421.29   \n\n      total_difference  \nyear                    \n2019      -37586574.22  \n2020      -36872189.10  \n2021      -38508605.23  \n2022      -39556280.48  ",
      "text/html": "<div>\n<style scoped>\n    .dataframe tbody tr th:only-of-type {\n        vertical-align: middle;\n    }\n\n    .dataframe tbody tr th {\n        vertical-align: top;\n    }\n\n    .dataframe thead th {\n        text-align: right;\n    }\n</style>\n<table border=\"1\" class=\"dataframe\">\n  <thead>\n    <tr style=\"text-align: right;\">\n      <th></th>\n      <th>total_contracts</th>\n      <th>total_billed_pilot_inl</th>\n      <th>total_billed_debt_service</th>\n      <th>total_assessment</th>\n      <th>total_tax_based_on_assessment_at_2021_tax_rate</th>\n      <th>total_difference</th>\n    </tr>\n    <tr>\n      <th>year</th>\n      <th></th>\n      <th></th>\n      <th></th>\n      <th></th>\n      <th></th>\n      <th></th>\n    </tr>\n  </thead>\n  <tbody>\n    <tr>\n      <th>2019</th>\n      <td>507</td>\n      <td>7033313.72</td>\n      <td>8473711.08</td>\n      <td>1310953062.00</td>\n      <td>53093599.02</td>\n      <td>-37586574.22</td>\n    </tr>\n    <tr>\n      <th>2020</th>\n      <td>510</td>\n      <td>8016918.22</td>\n      <td>8451255.00</td>\n      <td>1317045990.00</td>\n      <td>53340362.61</td>\n      <td>-36872189.10</td>\n    </tr>\n    <tr>\n      <th>2021</th>\n      <td>508</td>\n      <td>8299584.86</td>\n      <td>7859092.15</td>\n      <td>1584558905.00</td>\n      <td>54667282.24</td>\n      <td>-38508605.23</td>\n    </tr>\n    <tr>\n      <th>2022</th>\n      <td>526</td>\n      <td>9570040.80</td>\n      <td>8604100.01</td>\n      <td>1702962280.00</td>\n      <td>57730421.29</td>\n      <td>-39556280.48</td>\n    </tr>\n  </tbody>\n</table>\n</div>"
     },
     "execution_count": 7,
     "metadata": {},
     "output_type": "execute_result"
    }
   ],
   "source": [
    "yearly_summary"
   ],
   "metadata": {
    "collapsed": false,
    "ExecuteTime": {
     "end_time": "2024-04-03T00:58:04.542854Z",
     "start_time": "2024-04-03T00:58:04.537132Z"
    }
   },
   "id": "a04a3a0a182e4615"
  },
  {
   "cell_type": "code",
   "execution_count": 7,
   "outputs": [],
   "source": [
    "s2_path "
   ],
   "metadata": {
    "collapsed": false,
    "ExecuteTime": {
     "end_time": "2024-04-03T00:58:04.559591Z",
     "start_time": "2024-04-03T00:58:04.540314Z"
    }
   },
   "id": "de63ae9d4c96694d"
  }
 ],
 "metadata": {
  "kernelspec": {
   "display_name": "Python 3",
   "language": "python",
   "name": "python3"
  },
  "language_info": {
   "codemirror_mode": {
    "name": "ipython",
    "version": 2
   },
   "file_extension": ".py",
   "mimetype": "text/x-python",
   "name": "python",
   "nbconvert_exporter": "python",
   "pygments_lexer": "ipython2",
   "version": "2.7.6"
  }
 },
 "nbformat": 4,
 "nbformat_minor": 5
}
