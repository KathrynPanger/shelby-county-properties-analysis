{
 "cells": [
  {
   "cell_type": "code",
   "execution_count": 1,
   "id": "initial_id",
   "metadata": {
    "collapsed": true,
    "ExecuteTime": {
     "end_time": "2024-04-04T18:19:51.371686Z",
     "start_time": "2024-04-04T18:19:50.373591Z"
    }
   },
   "outputs": [
    {
     "name": "stdout",
     "output_type": "stream",
     "text": [
      "Intel MKL WARNING: Support of Intel(R) Streaming SIMD Extensions 4.2 (Intel(R) SSE4.2) enabled only processors has been deprecated. Intel oneAPI Math Kernel Library 2025.0 will require Intel(R) Advanced Vector Extensions (Intel(R) AVX) instructions.\n",
      "Intel MKL WARNING: Support of Intel(R) Streaming SIMD Extensions 4.2 (Intel(R) SSE4.2) enabled only processors has been deprecated. Intel oneAPI Math Kernel Library 2025.0 will require Intel(R) Advanced Vector Extensions (Intel(R) AVX) instructions.\n"
     ]
    }
   ],
   "source": [
    "import pandas as pd\n",
    "from csv_fetcher import CSV, read_csv"
   ]
  },
  {
   "cell_type": "code",
   "execution_count": 2,
   "outputs": [
    {
     "data": {
      "text/plain": "'s2_in_lieu_contracts_by_owner.csv'"
     },
     "execution_count": 2,
     "metadata": {},
     "output_type": "execute_result"
    }
   ],
   "source": [
    "# Define paths to data\n",
    "CSV.s2.value"
   ],
   "metadata": {
    "collapsed": false,
    "ExecuteTime": {
     "end_time": "2024-04-04T18:19:51.378177Z",
     "start_time": "2024-04-04T18:19:51.374321Z"
    }
   },
   "id": "7d4aae98fbaa23fe"
  },
  {
   "cell_type": "code",
   "execution_count": 3,
   "outputs": [
    {
     "data": {
      "text/plain": "     Unnamed: 0      owner_id  \\\n0             0  4d492ee75e30   \n1             1  468725c9628c   \n2             2  b39884512460   \n3             3  f26dc5a380c1   \n4             4  129ab94e175b   \n..          ...           ...   \n522         522  d436d1c9a0ff   \n523         523  d436d1c9a0ff   \n524         524  d436d1c9a0ff   \n525         525  d436d1c9a0ff   \n526         526  ccc41295a670   \n\n                                                 owner  \\\n0    1 south main llc wilmont hotel limited partner...   \n1                              100 south main partners   \n2                                      1030 poplar llc   \n3                         109 south second partnership   \n4                                    115 union ave llc   \n..                                                 ...   \n522                      wright medical technology inc   \n523                      wright medical technology inc   \n524                      wright medical technology inc   \n525                      wright medical technology inc   \n526                                       ws hchem llc   \n\n                    location     pilot_parcel_no  \\\n0                 79 madison  ['ICC03900000000']   \n1                   100 main  ['ICC07260000000']   \n2                1030 poplar  ['ICC07900000000']   \n3                 109 second  ['ICC07380000000']   \n4                  115 union  ['ICC07330000000']   \n..                       ...                 ...   \n522              1023 cherry  ['IDB1590A000000']   \n523      0 memphis arlington  ['IDB0000A000140']   \n524  11576 memphis arlington  ['IDB0000A00015A']   \n525  11576 memphis arlington  ['IDB0000A00020A']   \n526             0 winchester  ['IDB0000C000160']   \n\n                              underlying_parcel_number  begin_date  \\\n0    ['00203800000020', ' 00203800000030', ' 002038...  2000-08-02   \n1                ['0020530B000010', ' 0020530B000030']  2008-12-23   \n2                                   ['0200900000007C']  2021-06-15   \n3                                     ['205300000130']  2011-04-07   \n4                                     ['205300000020']  2011-03-29   \n..                                                 ...         ...   \n522                                 ['0015900000000D']  2016-12-31   \n523                                 ['A0141L0A000040']  2014-12-31   \n524                                 ['3000150000000D']  2014-12-31   \n525                                 ['3000160000000D']  2015-12-31   \n526                                 ['C024400A006820']  2016-06-01   \n\n                end_date  assmt_taxes  pilot_contract_amt  \\\n0    2024-08-02 00:00:00     240731.0            180548.0   \n1    2023-12-23 00:00:00     112054.0              3070.0   \n2    2034-06-15 00:00:00       6722.0              6722.0   \n3    2024-04-07 00:00:00      79863.0              3486.0   \n4    2021-03-29 00:00:00      29104.0             29104.0   \n..                   ...          ...                 ...   \n522  2031-12-31 00:00:00       5522.0               100.0   \n523  2024-12-31 00:00:00      62901.0             62901.0   \n524  2024-12-31 00:00:00      12884.0             12884.0   \n525  2025-12-31 00:00:00       1240.0               100.0   \n526  2023-06-01 00:00:00     129117.0            129117.0   \n\n     pilot_debt_service_amt  difference  \n0                       0.0    -60183.0  \n1                   27246.0    -81738.0  \n2                       0.0         0.0  \n3                   19094.0    -57283.0  \n4                       0.0         0.0  \n..                      ...         ...  \n522                  1381.0     -4042.0  \n523                     0.0         0.0  \n524                     0.0         0.0  \n525                   310.0      -830.0  \n526                     0.0         0.0  \n\n[527 rows x 12 columns]",
      "text/html": "<div>\n<style scoped>\n    .dataframe tbody tr th:only-of-type {\n        vertical-align: middle;\n    }\n\n    .dataframe tbody tr th {\n        vertical-align: top;\n    }\n\n    .dataframe thead th {\n        text-align: right;\n    }\n</style>\n<table border=\"1\" class=\"dataframe\">\n  <thead>\n    <tr style=\"text-align: right;\">\n      <th></th>\n      <th>Unnamed: 0</th>\n      <th>owner_id</th>\n      <th>owner</th>\n      <th>location</th>\n      <th>pilot_parcel_no</th>\n      <th>underlying_parcel_number</th>\n      <th>begin_date</th>\n      <th>end_date</th>\n      <th>assmt_taxes</th>\n      <th>pilot_contract_amt</th>\n      <th>pilot_debt_service_amt</th>\n      <th>difference</th>\n    </tr>\n  </thead>\n  <tbody>\n    <tr>\n      <th>0</th>\n      <td>0</td>\n      <td>4d492ee75e30</td>\n      <td>1 south main llc wilmont hotel limited partner...</td>\n      <td>79 madison</td>\n      <td>['ICC03900000000']</td>\n      <td>['00203800000020', ' 00203800000030', ' 002038...</td>\n      <td>2000-08-02</td>\n      <td>2024-08-02 00:00:00</td>\n      <td>240731.0</td>\n      <td>180548.0</td>\n      <td>0.0</td>\n      <td>-60183.0</td>\n    </tr>\n    <tr>\n      <th>1</th>\n      <td>1</td>\n      <td>468725c9628c</td>\n      <td>100 south main partners</td>\n      <td>100 main</td>\n      <td>['ICC07260000000']</td>\n      <td>['0020530B000010', ' 0020530B000030']</td>\n      <td>2008-12-23</td>\n      <td>2023-12-23 00:00:00</td>\n      <td>112054.0</td>\n      <td>3070.0</td>\n      <td>27246.0</td>\n      <td>-81738.0</td>\n    </tr>\n    <tr>\n      <th>2</th>\n      <td>2</td>\n      <td>b39884512460</td>\n      <td>1030 poplar llc</td>\n      <td>1030 poplar</td>\n      <td>['ICC07900000000']</td>\n      <td>['0200900000007C']</td>\n      <td>2021-06-15</td>\n      <td>2034-06-15 00:00:00</td>\n      <td>6722.0</td>\n      <td>6722.0</td>\n      <td>0.0</td>\n      <td>0.0</td>\n    </tr>\n    <tr>\n      <th>3</th>\n      <td>3</td>\n      <td>f26dc5a380c1</td>\n      <td>109 south second partnership</td>\n      <td>109 second</td>\n      <td>['ICC07380000000']</td>\n      <td>['205300000130']</td>\n      <td>2011-04-07</td>\n      <td>2024-04-07 00:00:00</td>\n      <td>79863.0</td>\n      <td>3486.0</td>\n      <td>19094.0</td>\n      <td>-57283.0</td>\n    </tr>\n    <tr>\n      <th>4</th>\n      <td>4</td>\n      <td>129ab94e175b</td>\n      <td>115 union ave llc</td>\n      <td>115 union</td>\n      <td>['ICC07330000000']</td>\n      <td>['205300000020']</td>\n      <td>2011-03-29</td>\n      <td>2021-03-29 00:00:00</td>\n      <td>29104.0</td>\n      <td>29104.0</td>\n      <td>0.0</td>\n      <td>0.0</td>\n    </tr>\n    <tr>\n      <th>...</th>\n      <td>...</td>\n      <td>...</td>\n      <td>...</td>\n      <td>...</td>\n      <td>...</td>\n      <td>...</td>\n      <td>...</td>\n      <td>...</td>\n      <td>...</td>\n      <td>...</td>\n      <td>...</td>\n      <td>...</td>\n    </tr>\n    <tr>\n      <th>522</th>\n      <td>522</td>\n      <td>d436d1c9a0ff</td>\n      <td>wright medical technology inc</td>\n      <td>1023 cherry</td>\n      <td>['IDB1590A000000']</td>\n      <td>['0015900000000D']</td>\n      <td>2016-12-31</td>\n      <td>2031-12-31 00:00:00</td>\n      <td>5522.0</td>\n      <td>100.0</td>\n      <td>1381.0</td>\n      <td>-4042.0</td>\n    </tr>\n    <tr>\n      <th>523</th>\n      <td>523</td>\n      <td>d436d1c9a0ff</td>\n      <td>wright medical technology inc</td>\n      <td>0 memphis arlington</td>\n      <td>['IDB0000A000140']</td>\n      <td>['A0141L0A000040']</td>\n      <td>2014-12-31</td>\n      <td>2024-12-31 00:00:00</td>\n      <td>62901.0</td>\n      <td>62901.0</td>\n      <td>0.0</td>\n      <td>0.0</td>\n    </tr>\n    <tr>\n      <th>524</th>\n      <td>524</td>\n      <td>d436d1c9a0ff</td>\n      <td>wright medical technology inc</td>\n      <td>11576 memphis arlington</td>\n      <td>['IDB0000A00015A']</td>\n      <td>['3000150000000D']</td>\n      <td>2014-12-31</td>\n      <td>2024-12-31 00:00:00</td>\n      <td>12884.0</td>\n      <td>12884.0</td>\n      <td>0.0</td>\n      <td>0.0</td>\n    </tr>\n    <tr>\n      <th>525</th>\n      <td>525</td>\n      <td>d436d1c9a0ff</td>\n      <td>wright medical technology inc</td>\n      <td>11576 memphis arlington</td>\n      <td>['IDB0000A00020A']</td>\n      <td>['3000160000000D']</td>\n      <td>2015-12-31</td>\n      <td>2025-12-31 00:00:00</td>\n      <td>1240.0</td>\n      <td>100.0</td>\n      <td>310.0</td>\n      <td>-830.0</td>\n    </tr>\n    <tr>\n      <th>526</th>\n      <td>526</td>\n      <td>ccc41295a670</td>\n      <td>ws hchem llc</td>\n      <td>0 winchester</td>\n      <td>['IDB0000C000160']</td>\n      <td>['C024400A006820']</td>\n      <td>2016-06-01</td>\n      <td>2023-06-01 00:00:00</td>\n      <td>129117.0</td>\n      <td>129117.0</td>\n      <td>0.0</td>\n      <td>0.0</td>\n    </tr>\n  </tbody>\n</table>\n<p>527 rows × 12 columns</p>\n</div>"
     },
     "execution_count": 3,
     "metadata": {},
     "output_type": "execute_result"
    }
   ],
   "source": [
    "read_csv(CSV.s2)"
   ],
   "metadata": {
    "collapsed": false,
    "ExecuteTime": {
     "end_time": "2024-04-04T18:19:51.411708Z",
     "start_time": "2024-04-04T18:19:51.377780Z"
    }
   },
   "id": "83bd448c5447c794"
  },
  {
   "cell_type": "code",
   "execution_count": 4,
   "outputs": [
    {
     "data": {
      "text/plain": "    Unnamed: 0      owner_id  \\\n0            0  4d492ee75e30   \n1            1  468725c9628c   \n2            2  b39884512460   \n3            3  f26dc5a380c1   \n4            4  129ab94e175b   \n..         ...           ...   \n0            0  fa0c449b658b   \n1            1  aeaf02f07dc9   \n2            2  3f73c512e692   \n3            3  c90d7ab8918a   \n0            0  95ed9e8d0dcb   \n\n                                                owner             location  \\\n0   1 south main llc wilmont hotel limited partner...           79 madison   \n1                             100 south main partners             100 main   \n2                                     1030 poplar llc          1030 poplar   \n3                        109 south second partnership           109 second   \n4                                   115 union ave llc            115 union   \n..                                                ...                  ...   \n0                                      gill poplar gp          6797 hwy 72   \n1                           mid america apartments lp          6815 poplar   \n2                              campbell clinic wr mob      1400 germantown   \n3                                   crestwyn partners  9280 crestwyn hills   \n0                                   ceva ingram micro           3820 micro   \n\n       pilot_parcel_no                           underlying_parcel_number  \\\n0   ['ICC03900000000']  ['00203800000020', ' 00203800000030', ' 002038...   \n1   ['ICC07260000000']              ['0020530B000010', ' 0020530B000030']   \n2   ['ICC07900000000']                                 ['0200900000007C']   \n3   ['ICC07380000000']                                   ['205300000130']   \n4   ['ICC07330000000']                                   ['205300000020']   \n..                 ...                                                ...   \n0   ['IDB0000G000050']                                 ['G0219000003110']   \n1   ['IDB0000G00006A']                                 ['6000050000000D']   \n2   ['IDB0000G000070']  ['G0220000003690', ' G0220000004560', ' G02200...   \n3   ['IDB14000000000']                                 ['G0243000004890']   \n0   ['IDB0000M000010']                                 ['M0125000004730']   \n\n    begin_date             end_date  assmt_taxes  pilot_contract_amt  \\\n0   2000-08-02  2024-08-02 00:00:00     240731.0            180548.0   \n1   2008-12-23  2023-12-23 00:00:00     112054.0              3070.0   \n2   2021-06-15  2034-06-15 00:00:00       6722.0              6722.0   \n3   2011-04-07  2024-04-07 00:00:00      79863.0              3486.0   \n4   2011-03-29  2021-03-29 00:00:00      29104.0             29104.0   \n..         ...                  ...          ...                 ...   \n0   2018-03-17  2033-03-17 00:00:00     346522.0            169314.0   \n1   2018-12-31  2033-12-31 00:00:00      16744.0                 0.0   \n2   2019-12-31  2027-12-30 00:00:00     671422.0            123694.0   \n3   2016-08-16  2023-08-16 00:00:00     119643.0             17183.0   \n0   2010-11-19  2026-09-28 00:00:00     364482.0             50530.0   \n\n    pilot_debt_service_amt  difference  \n0                      0.0    -60183.0  \n1                  27246.0    -81738.0  \n2                      0.0         0.0  \n3                  19094.0    -57283.0  \n4                      0.0         0.0  \n..                     ...         ...  \n0                  44302.0   -132906.0  \n1                   4186.0    -12558.0  \n2                 136932.0   -410796.0  \n3                  25615.0    -76845.0  \n0                  80386.0   -233566.0  \n\n[1053 rows x 12 columns]",
      "text/html": "<div>\n<style scoped>\n    .dataframe tbody tr th:only-of-type {\n        vertical-align: middle;\n    }\n\n    .dataframe tbody tr th {\n        vertical-align: top;\n    }\n\n    .dataframe thead th {\n        text-align: right;\n    }\n</style>\n<table border=\"1\" class=\"dataframe\">\n  <thead>\n    <tr style=\"text-align: right;\">\n      <th></th>\n      <th>Unnamed: 0</th>\n      <th>owner_id</th>\n      <th>owner</th>\n      <th>location</th>\n      <th>pilot_parcel_no</th>\n      <th>underlying_parcel_number</th>\n      <th>begin_date</th>\n      <th>end_date</th>\n      <th>assmt_taxes</th>\n      <th>pilot_contract_amt</th>\n      <th>pilot_debt_service_amt</th>\n      <th>difference</th>\n    </tr>\n  </thead>\n  <tbody>\n    <tr>\n      <th>0</th>\n      <td>0</td>\n      <td>4d492ee75e30</td>\n      <td>1 south main llc wilmont hotel limited partner...</td>\n      <td>79 madison</td>\n      <td>['ICC03900000000']</td>\n      <td>['00203800000020', ' 00203800000030', ' 002038...</td>\n      <td>2000-08-02</td>\n      <td>2024-08-02 00:00:00</td>\n      <td>240731.0</td>\n      <td>180548.0</td>\n      <td>0.0</td>\n      <td>-60183.0</td>\n    </tr>\n    <tr>\n      <th>1</th>\n      <td>1</td>\n      <td>468725c9628c</td>\n      <td>100 south main partners</td>\n      <td>100 main</td>\n      <td>['ICC07260000000']</td>\n      <td>['0020530B000010', ' 0020530B000030']</td>\n      <td>2008-12-23</td>\n      <td>2023-12-23 00:00:00</td>\n      <td>112054.0</td>\n      <td>3070.0</td>\n      <td>27246.0</td>\n      <td>-81738.0</td>\n    </tr>\n    <tr>\n      <th>2</th>\n      <td>2</td>\n      <td>b39884512460</td>\n      <td>1030 poplar llc</td>\n      <td>1030 poplar</td>\n      <td>['ICC07900000000']</td>\n      <td>['0200900000007C']</td>\n      <td>2021-06-15</td>\n      <td>2034-06-15 00:00:00</td>\n      <td>6722.0</td>\n      <td>6722.0</td>\n      <td>0.0</td>\n      <td>0.0</td>\n    </tr>\n    <tr>\n      <th>3</th>\n      <td>3</td>\n      <td>f26dc5a380c1</td>\n      <td>109 south second partnership</td>\n      <td>109 second</td>\n      <td>['ICC07380000000']</td>\n      <td>['205300000130']</td>\n      <td>2011-04-07</td>\n      <td>2024-04-07 00:00:00</td>\n      <td>79863.0</td>\n      <td>3486.0</td>\n      <td>19094.0</td>\n      <td>-57283.0</td>\n    </tr>\n    <tr>\n      <th>4</th>\n      <td>4</td>\n      <td>129ab94e175b</td>\n      <td>115 union ave llc</td>\n      <td>115 union</td>\n      <td>['ICC07330000000']</td>\n      <td>['205300000020']</td>\n      <td>2011-03-29</td>\n      <td>2021-03-29 00:00:00</td>\n      <td>29104.0</td>\n      <td>29104.0</td>\n      <td>0.0</td>\n      <td>0.0</td>\n    </tr>\n    <tr>\n      <th>...</th>\n      <td>...</td>\n      <td>...</td>\n      <td>...</td>\n      <td>...</td>\n      <td>...</td>\n      <td>...</td>\n      <td>...</td>\n      <td>...</td>\n      <td>...</td>\n      <td>...</td>\n      <td>...</td>\n      <td>...</td>\n    </tr>\n    <tr>\n      <th>0</th>\n      <td>0</td>\n      <td>fa0c449b658b</td>\n      <td>gill poplar gp</td>\n      <td>6797 hwy 72</td>\n      <td>['IDB0000G000050']</td>\n      <td>['G0219000003110']</td>\n      <td>2018-03-17</td>\n      <td>2033-03-17 00:00:00</td>\n      <td>346522.0</td>\n      <td>169314.0</td>\n      <td>44302.0</td>\n      <td>-132906.0</td>\n    </tr>\n    <tr>\n      <th>1</th>\n      <td>1</td>\n      <td>aeaf02f07dc9</td>\n      <td>mid america apartments lp</td>\n      <td>6815 poplar</td>\n      <td>['IDB0000G00006A']</td>\n      <td>['6000050000000D']</td>\n      <td>2018-12-31</td>\n      <td>2033-12-31 00:00:00</td>\n      <td>16744.0</td>\n      <td>0.0</td>\n      <td>4186.0</td>\n      <td>-12558.0</td>\n    </tr>\n    <tr>\n      <th>2</th>\n      <td>2</td>\n      <td>3f73c512e692</td>\n      <td>campbell clinic wr mob</td>\n      <td>1400 germantown</td>\n      <td>['IDB0000G000070']</td>\n      <td>['G0220000003690', ' G0220000004560', ' G02200...</td>\n      <td>2019-12-31</td>\n      <td>2027-12-30 00:00:00</td>\n      <td>671422.0</td>\n      <td>123694.0</td>\n      <td>136932.0</td>\n      <td>-410796.0</td>\n    </tr>\n    <tr>\n      <th>3</th>\n      <td>3</td>\n      <td>c90d7ab8918a</td>\n      <td>crestwyn partners</td>\n      <td>9280 crestwyn hills</td>\n      <td>['IDB14000000000']</td>\n      <td>['G0243000004890']</td>\n      <td>2016-08-16</td>\n      <td>2023-08-16 00:00:00</td>\n      <td>119643.0</td>\n      <td>17183.0</td>\n      <td>25615.0</td>\n      <td>-76845.0</td>\n    </tr>\n    <tr>\n      <th>0</th>\n      <td>0</td>\n      <td>95ed9e8d0dcb</td>\n      <td>ceva ingram micro</td>\n      <td>3820 micro</td>\n      <td>['IDB0000M000010']</td>\n      <td>['M0125000004730']</td>\n      <td>2010-11-19</td>\n      <td>2026-09-28 00:00:00</td>\n      <td>364482.0</td>\n      <td>50530.0</td>\n      <td>80386.0</td>\n      <td>-233566.0</td>\n    </tr>\n  </tbody>\n</table>\n<p>1053 rows × 12 columns</p>\n</div>"
     },
     "execution_count": 4,
     "metadata": {},
     "output_type": "execute_result"
    }
   ],
   "source": [
    "# Read in summary dataframes\n",
    "dfs = [CSV.s2, CSV.s3, CSV.s4, CSV.s5, CSV.s6, CSV.s7, CSV.s8, CSV.s9 ,CSV.s10, CSV.s11, CSV.s12, CSV.s13]\n",
    "df = pd.concat([read_csv(item) for item in dfs])\n",
    "df"
   ],
   "metadata": {
    "collapsed": false,
    "ExecuteTime": {
     "end_time": "2024-04-04T18:19:51.448024Z",
     "start_time": "2024-04-04T18:19:51.393891Z"
    }
   },
   "id": "a3022b07c1ef71bd"
  },
  {
   "cell_type": "code",
   "execution_count": 5,
   "outputs": [
    {
     "ename": "FileNotFoundError",
     "evalue": "[Errno 2] No such file or directory: '../../data/processed/all_properties.csv'",
     "output_type": "error",
     "traceback": [
      "\u001B[0;31m---------------------------------------------------------------------------\u001B[0m",
      "\u001B[0;31mFileNotFoundError\u001B[0m                         Traceback (most recent call last)",
      "Cell \u001B[0;32mIn[5], line 1\u001B[0m\n\u001B[0;32m----> 1\u001B[0m properties \u001B[38;5;241m=\u001B[39m read_csv(CSV\u001B[38;5;241m.\u001B[39mall_properties)\n",
      "File \u001B[0;32m~/Documents/pdf_extraction/analysis/scratch/csv_fetcher.py:27\u001B[0m, in \u001B[0;36mread_csv\u001B[0;34m(csv_path)\u001B[0m\n\u001B[1;32m     25\u001B[0m \u001B[38;5;28;01mdef\u001B[39;00m \u001B[38;5;21mread_csv\u001B[39m(csv_path: CSV) \u001B[38;5;241m-\u001B[39m\u001B[38;5;241m>\u001B[39m pd\u001B[38;5;241m.\u001B[39mDataFrame:\n\u001B[1;32m     26\u001B[0m     path \u001B[38;5;241m=\u001B[39m CSV\u001B[38;5;241m.\u001B[39mdata_path\u001B[38;5;241m.\u001B[39mvalue \u001B[38;5;241m+\u001B[39m csv_path\u001B[38;5;241m.\u001B[39mvalue\n\u001B[0;32m---> 27\u001B[0m     df \u001B[38;5;241m=\u001B[39m pd\u001B[38;5;241m.\u001B[39mread_csv(path)\n\u001B[1;32m     28\u001B[0m     \u001B[38;5;28;01mreturn\u001B[39;00m df\n",
      "File \u001B[0;32m~/opt/anaconda3/envs/pdf_extraction_211/lib/python3.11/site-packages/pandas/io/parsers/readers.py:1026\u001B[0m, in \u001B[0;36mread_csv\u001B[0;34m(filepath_or_buffer, sep, delimiter, header, names, index_col, usecols, dtype, engine, converters, true_values, false_values, skipinitialspace, skiprows, skipfooter, nrows, na_values, keep_default_na, na_filter, verbose, skip_blank_lines, parse_dates, infer_datetime_format, keep_date_col, date_parser, date_format, dayfirst, cache_dates, iterator, chunksize, compression, thousands, decimal, lineterminator, quotechar, quoting, doublequote, escapechar, comment, encoding, encoding_errors, dialect, on_bad_lines, delim_whitespace, low_memory, memory_map, float_precision, storage_options, dtype_backend)\u001B[0m\n\u001B[1;32m   1013\u001B[0m kwds_defaults \u001B[38;5;241m=\u001B[39m _refine_defaults_read(\n\u001B[1;32m   1014\u001B[0m     dialect,\n\u001B[1;32m   1015\u001B[0m     delimiter,\n\u001B[0;32m   (...)\u001B[0m\n\u001B[1;32m   1022\u001B[0m     dtype_backend\u001B[38;5;241m=\u001B[39mdtype_backend,\n\u001B[1;32m   1023\u001B[0m )\n\u001B[1;32m   1024\u001B[0m kwds\u001B[38;5;241m.\u001B[39mupdate(kwds_defaults)\n\u001B[0;32m-> 1026\u001B[0m \u001B[38;5;28;01mreturn\u001B[39;00m _read(filepath_or_buffer, kwds)\n",
      "File \u001B[0;32m~/opt/anaconda3/envs/pdf_extraction_211/lib/python3.11/site-packages/pandas/io/parsers/readers.py:620\u001B[0m, in \u001B[0;36m_read\u001B[0;34m(filepath_or_buffer, kwds)\u001B[0m\n\u001B[1;32m    617\u001B[0m _validate_names(kwds\u001B[38;5;241m.\u001B[39mget(\u001B[38;5;124m\"\u001B[39m\u001B[38;5;124mnames\u001B[39m\u001B[38;5;124m\"\u001B[39m, \u001B[38;5;28;01mNone\u001B[39;00m))\n\u001B[1;32m    619\u001B[0m \u001B[38;5;66;03m# Create the parser.\u001B[39;00m\n\u001B[0;32m--> 620\u001B[0m parser \u001B[38;5;241m=\u001B[39m TextFileReader(filepath_or_buffer, \u001B[38;5;241m*\u001B[39m\u001B[38;5;241m*\u001B[39mkwds)\n\u001B[1;32m    622\u001B[0m \u001B[38;5;28;01mif\u001B[39;00m chunksize \u001B[38;5;129;01mor\u001B[39;00m iterator:\n\u001B[1;32m    623\u001B[0m     \u001B[38;5;28;01mreturn\u001B[39;00m parser\n",
      "File \u001B[0;32m~/opt/anaconda3/envs/pdf_extraction_211/lib/python3.11/site-packages/pandas/io/parsers/readers.py:1620\u001B[0m, in \u001B[0;36mTextFileReader.__init__\u001B[0;34m(self, f, engine, **kwds)\u001B[0m\n\u001B[1;32m   1617\u001B[0m     \u001B[38;5;28mself\u001B[39m\u001B[38;5;241m.\u001B[39moptions[\u001B[38;5;124m\"\u001B[39m\u001B[38;5;124mhas_index_names\u001B[39m\u001B[38;5;124m\"\u001B[39m] \u001B[38;5;241m=\u001B[39m kwds[\u001B[38;5;124m\"\u001B[39m\u001B[38;5;124mhas_index_names\u001B[39m\u001B[38;5;124m\"\u001B[39m]\n\u001B[1;32m   1619\u001B[0m \u001B[38;5;28mself\u001B[39m\u001B[38;5;241m.\u001B[39mhandles: IOHandles \u001B[38;5;241m|\u001B[39m \u001B[38;5;28;01mNone\u001B[39;00m \u001B[38;5;241m=\u001B[39m \u001B[38;5;28;01mNone\u001B[39;00m\n\u001B[0;32m-> 1620\u001B[0m \u001B[38;5;28mself\u001B[39m\u001B[38;5;241m.\u001B[39m_engine \u001B[38;5;241m=\u001B[39m \u001B[38;5;28mself\u001B[39m\u001B[38;5;241m.\u001B[39m_make_engine(f, \u001B[38;5;28mself\u001B[39m\u001B[38;5;241m.\u001B[39mengine)\n",
      "File \u001B[0;32m~/opt/anaconda3/envs/pdf_extraction_211/lib/python3.11/site-packages/pandas/io/parsers/readers.py:1880\u001B[0m, in \u001B[0;36mTextFileReader._make_engine\u001B[0;34m(self, f, engine)\u001B[0m\n\u001B[1;32m   1878\u001B[0m     \u001B[38;5;28;01mif\u001B[39;00m \u001B[38;5;124m\"\u001B[39m\u001B[38;5;124mb\u001B[39m\u001B[38;5;124m\"\u001B[39m \u001B[38;5;129;01mnot\u001B[39;00m \u001B[38;5;129;01min\u001B[39;00m mode:\n\u001B[1;32m   1879\u001B[0m         mode \u001B[38;5;241m+\u001B[39m\u001B[38;5;241m=\u001B[39m \u001B[38;5;124m\"\u001B[39m\u001B[38;5;124mb\u001B[39m\u001B[38;5;124m\"\u001B[39m\n\u001B[0;32m-> 1880\u001B[0m \u001B[38;5;28mself\u001B[39m\u001B[38;5;241m.\u001B[39mhandles \u001B[38;5;241m=\u001B[39m get_handle(\n\u001B[1;32m   1881\u001B[0m     f,\n\u001B[1;32m   1882\u001B[0m     mode,\n\u001B[1;32m   1883\u001B[0m     encoding\u001B[38;5;241m=\u001B[39m\u001B[38;5;28mself\u001B[39m\u001B[38;5;241m.\u001B[39moptions\u001B[38;5;241m.\u001B[39mget(\u001B[38;5;124m\"\u001B[39m\u001B[38;5;124mencoding\u001B[39m\u001B[38;5;124m\"\u001B[39m, \u001B[38;5;28;01mNone\u001B[39;00m),\n\u001B[1;32m   1884\u001B[0m     compression\u001B[38;5;241m=\u001B[39m\u001B[38;5;28mself\u001B[39m\u001B[38;5;241m.\u001B[39moptions\u001B[38;5;241m.\u001B[39mget(\u001B[38;5;124m\"\u001B[39m\u001B[38;5;124mcompression\u001B[39m\u001B[38;5;124m\"\u001B[39m, \u001B[38;5;28;01mNone\u001B[39;00m),\n\u001B[1;32m   1885\u001B[0m     memory_map\u001B[38;5;241m=\u001B[39m\u001B[38;5;28mself\u001B[39m\u001B[38;5;241m.\u001B[39moptions\u001B[38;5;241m.\u001B[39mget(\u001B[38;5;124m\"\u001B[39m\u001B[38;5;124mmemory_map\u001B[39m\u001B[38;5;124m\"\u001B[39m, \u001B[38;5;28;01mFalse\u001B[39;00m),\n\u001B[1;32m   1886\u001B[0m     is_text\u001B[38;5;241m=\u001B[39mis_text,\n\u001B[1;32m   1887\u001B[0m     errors\u001B[38;5;241m=\u001B[39m\u001B[38;5;28mself\u001B[39m\u001B[38;5;241m.\u001B[39moptions\u001B[38;5;241m.\u001B[39mget(\u001B[38;5;124m\"\u001B[39m\u001B[38;5;124mencoding_errors\u001B[39m\u001B[38;5;124m\"\u001B[39m, \u001B[38;5;124m\"\u001B[39m\u001B[38;5;124mstrict\u001B[39m\u001B[38;5;124m\"\u001B[39m),\n\u001B[1;32m   1888\u001B[0m     storage_options\u001B[38;5;241m=\u001B[39m\u001B[38;5;28mself\u001B[39m\u001B[38;5;241m.\u001B[39moptions\u001B[38;5;241m.\u001B[39mget(\u001B[38;5;124m\"\u001B[39m\u001B[38;5;124mstorage_options\u001B[39m\u001B[38;5;124m\"\u001B[39m, \u001B[38;5;28;01mNone\u001B[39;00m),\n\u001B[1;32m   1889\u001B[0m )\n\u001B[1;32m   1890\u001B[0m \u001B[38;5;28;01massert\u001B[39;00m \u001B[38;5;28mself\u001B[39m\u001B[38;5;241m.\u001B[39mhandles \u001B[38;5;129;01mis\u001B[39;00m \u001B[38;5;129;01mnot\u001B[39;00m \u001B[38;5;28;01mNone\u001B[39;00m\n\u001B[1;32m   1891\u001B[0m f \u001B[38;5;241m=\u001B[39m \u001B[38;5;28mself\u001B[39m\u001B[38;5;241m.\u001B[39mhandles\u001B[38;5;241m.\u001B[39mhandle\n",
      "File \u001B[0;32m~/opt/anaconda3/envs/pdf_extraction_211/lib/python3.11/site-packages/pandas/io/common.py:873\u001B[0m, in \u001B[0;36mget_handle\u001B[0;34m(path_or_buf, mode, encoding, compression, memory_map, is_text, errors, storage_options)\u001B[0m\n\u001B[1;32m    868\u001B[0m \u001B[38;5;28;01melif\u001B[39;00m \u001B[38;5;28misinstance\u001B[39m(handle, \u001B[38;5;28mstr\u001B[39m):\n\u001B[1;32m    869\u001B[0m     \u001B[38;5;66;03m# Check whether the filename is to be opened in binary mode.\u001B[39;00m\n\u001B[1;32m    870\u001B[0m     \u001B[38;5;66;03m# Binary mode does not support 'encoding' and 'newline'.\u001B[39;00m\n\u001B[1;32m    871\u001B[0m     \u001B[38;5;28;01mif\u001B[39;00m ioargs\u001B[38;5;241m.\u001B[39mencoding \u001B[38;5;129;01mand\u001B[39;00m \u001B[38;5;124m\"\u001B[39m\u001B[38;5;124mb\u001B[39m\u001B[38;5;124m\"\u001B[39m \u001B[38;5;129;01mnot\u001B[39;00m \u001B[38;5;129;01min\u001B[39;00m ioargs\u001B[38;5;241m.\u001B[39mmode:\n\u001B[1;32m    872\u001B[0m         \u001B[38;5;66;03m# Encoding\u001B[39;00m\n\u001B[0;32m--> 873\u001B[0m         handle \u001B[38;5;241m=\u001B[39m \u001B[38;5;28mopen\u001B[39m(\n\u001B[1;32m    874\u001B[0m             handle,\n\u001B[1;32m    875\u001B[0m             ioargs\u001B[38;5;241m.\u001B[39mmode,\n\u001B[1;32m    876\u001B[0m             encoding\u001B[38;5;241m=\u001B[39mioargs\u001B[38;5;241m.\u001B[39mencoding,\n\u001B[1;32m    877\u001B[0m             errors\u001B[38;5;241m=\u001B[39merrors,\n\u001B[1;32m    878\u001B[0m             newline\u001B[38;5;241m=\u001B[39m\u001B[38;5;124m\"\u001B[39m\u001B[38;5;124m\"\u001B[39m,\n\u001B[1;32m    879\u001B[0m         )\n\u001B[1;32m    880\u001B[0m     \u001B[38;5;28;01melse\u001B[39;00m:\n\u001B[1;32m    881\u001B[0m         \u001B[38;5;66;03m# Binary mode\u001B[39;00m\n\u001B[1;32m    882\u001B[0m         handle \u001B[38;5;241m=\u001B[39m \u001B[38;5;28mopen\u001B[39m(handle, ioargs\u001B[38;5;241m.\u001B[39mmode)\n",
      "\u001B[0;31mFileNotFoundError\u001B[0m: [Errno 2] No such file or directory: '../../data/processed/all_properties.csv'"
     ]
    }
   ],
   "source": [
    "properties = read_csv(CSV.all_properties)"
   ],
   "metadata": {
    "collapsed": false,
    "ExecuteTime": {
     "end_time": "2024-04-04T18:19:52.101247Z",
     "start_time": "2024-04-04T18:19:51.417946Z"
    }
   },
   "id": "41e5e18a8613d6b8"
  },
  {
   "cell_type": "markdown",
   "source": [
    "<h2>Questions<\\h2>\n",
    "1. Which owner has the most contracts?\n",
    "2. Which owners are delinquent?\n",
    "3. What is the most amount of delinquent money?\n",
    "4. What does the assessment taxes column mean?"
   ],
   "metadata": {
    "collapsed": false
   },
   "id": "227cf0d677be17aa"
  }
 ],
 "metadata": {
  "kernelspec": {
   "display_name": "Python 3",
   "language": "python",
   "name": "python3"
  },
  "language_info": {
   "codemirror_mode": {
    "name": "ipython",
    "version": 2
   },
   "file_extension": ".py",
   "mimetype": "text/x-python",
   "name": "python",
   "nbconvert_exporter": "python",
   "pygments_lexer": "ipython2",
   "version": "2.7.6"
  }
 },
 "nbformat": 4,
 "nbformat_minor": 5
}
