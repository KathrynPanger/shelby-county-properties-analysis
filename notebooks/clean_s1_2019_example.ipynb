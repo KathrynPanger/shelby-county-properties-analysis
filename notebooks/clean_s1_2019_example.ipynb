{
 "cells": [
  {
   "cell_type": "code",
   "execution_count": 109,
   "outputs": [],
   "source": [
    "import pandas as pd\n",
    "from pandas._libs.internals import defaultdict\n",
    "from unidecode import unidecode\n",
    "from collections.abc import Callable\n",
    "import re\n",
    "from typing import Optional\n",
    "import uuid\n",
    "import random"
   ],
   "metadata": {
    "collapsed": false,
    "ExecuteTime": {
     "end_time": "2024-03-26T03:07:19.100380Z",
     "start_time": "2024-03-26T03:07:19.092805Z"
    }
   },
   "id": "f890863474a831e4"
  },
  {
   "cell_type": "markdown",
   "source": [
    "<h1>Defining Functions</h1>"
   ],
   "metadata": {
    "collapsed": false
   },
   "id": "36f2c55a657f1246"
  },
  {
   "cell_type": "markdown",
   "source": [
    "CSV Cleaning Functions"
   ],
   "metadata": {
    "collapsed": false
   },
   "id": "9f81ca30f1dec3f9"
  },
  {
   "cell_type": "code",
   "execution_count": 110,
   "id": "initial_id",
   "metadata": {
    "collapsed": true,
    "ExecuteTime": {
     "end_time": "2024-03-26T03:07:19.427951Z",
     "start_time": "2024-03-26T03:07:19.425320Z"
    }
   },
   "outputs": [],
   "source": [
    "# convert a csv into utf8 format\n",
    "def convert_utf8(original_file_path: str, new_file_path: str):\n",
    "    df = pd.read_csv(original_file_path, converters=defaultdict(lambda i: str))\n",
    "    for column in df.columns:\n",
    "        df[column] = df[column].apply(lambda x: unidecode(str(x)))\n",
    "    df.to_csv(new_file_path, encoding='utf-8')"
   ]
  },
  {
   "cell_type": "markdown",
   "source": [
    "Single Entry Cleaning Functions\n",
    "Note: Presented in recommended order of use for many, but not all, applications"
   ],
   "metadata": {
    "collapsed": false
   },
   "id": "d855cd44a593d98f"
  },
  {
   "cell_type": "code",
   "execution_count": 111,
   "outputs": [],
   "source": [
    "# Remove special characters when dealing with words\n",
    "# transforms removed characters into spaces, removes . and -\n",
    "def remove_special_for_words(my_string: str):\n",
    "    return re.sub(r\"[^a-zA-Z0-9]+\", ' ', my_string)\n",
    "\n",
    "# Remove special characters when dealing with numbers\n",
    "# No spaces, does not remove - and .\n",
    "def remove_special_for_numbers(my_string: str):\n",
    "    return re.sub(r\"[^a-zA-Z0-9-.]+\", '', my_string)\n",
    "\n",
    "# Remove leading and trailing spaces\n",
    "def truncate(my_string: str):\n",
    "    return my_string.strip()\n",
    "\n",
    "# Replace spaces with underscores\n",
    "def snake_case(my_string: str):\n",
    "    return my_string.replace(\" \", \"_\")\n",
    "\n",
    "# Make all letters lowercase\n",
    "def lower_case(my_string: str):\n",
    "    return my_string.lower()\n",
    "\n",
    "def remove_spaces(my_string: str):\n",
    "    return my_string.replace(\" \", \"\")\n",
    "\n",
    "# Get a deterministic hash of a string, dependent only on the seed \n",
    "# (for creating unique id columns which will always be consistent when fed the same data and seed, even if generated at different times)\n",
    "def deterministic_uuid(data:str):\n",
    "    random.seed(data)\n",
    "    id = uuid.UUID(bytes=bytes(random.getrandbits(8) for _ in range(16)), version=4)\n",
    "    id = str(id).replace(\"-\", \"\")\n",
    "    return id"
   ],
   "metadata": {
    "collapsed": false,
    "ExecuteTime": {
     "end_time": "2024-03-26T03:07:19.732491Z",
     "start_time": "2024-03-26T03:07:19.727764Z"
    }
   },
   "id": "ec2a57b4170e0a26"
  },
  {
   "cell_type": "markdown",
   "source": [
    "Dataframe Cleaning Functions"
   ],
   "metadata": {
    "collapsed": false
   },
   "id": "ebaa5053fcc840df"
  },
  {
   "cell_type": "code",
   "execution_count": 112,
   "outputs": [],
   "source": [
    "# Apply a list of functions to the column headers\n",
    "def clean_headers(df: pd.DataFrame, \n",
    "                  cleaning_functions_list:list[Callable]) -> pd.DataFrame:\n",
    "    column_name_map = {item: item for item in df.columns}\n",
    "    for item in column_name_map:\n",
    "        for function in cleaning_functions_list:\n",
    "            column_name_map[item] = function(column_name_map[item])\n",
    "    df.rename(columns=column_name_map, inplace=True)\n",
    "    return df\n",
    "\n",
    "# Apply a list of functions to selected columns\n",
    "def clean_columns(df: pd.DataFrame, \n",
    "                  selected_columns: list[str], \n",
    "                  cleaning_functions_list:list[Callable]) -> pd.DataFrame:\n",
    "    for col in selected_columns:\n",
    "        for function in cleaning_functions_list:\n",
    "            df[col] = df[col].apply(lambda x: function(x))\n",
    "    return df\n",
    "\n",
    "# Apply a list of functions to every single entry in the dataframe\n",
    "def clean_entries(df: pd.DataFrame, \n",
    "                  cleaning_functions_list:list[Callable]) -> pd.DataFrame:\n",
    "    for function in cleaning_functions_list:\n",
    "        df = df.apply(lambda x: function(x))\n",
    "        return df\n",
    "    \n",
    "def cast_data_types(df: pd.DataFrame, names_to_types: dict) -> pd.DataFrame:\n",
    "    return df.astype(names_to_types)\n",
    "\n",
    "# Create a unique index column by taking a deterministic hash of values in selected identifier columns\n",
    "def set_unique_index(df: pd.DataFrame, columns_to_hash: list[str], index_name=\"id\", index_length_limit: Optional[int] = None):\n",
    "    df[index_name] = list(map(lambda x: deterministic_uuid(''.join([str(col_value) for col_value in x]))[0:index_length_limit], df[columns_to_hash].values))\n",
    "    df.set_index(index_name, inplace=True)\n",
    "    return df\n"
   ],
   "metadata": {
    "collapsed": false,
    "ExecuteTime": {
     "end_time": "2024-03-26T03:07:20.037202Z",
     "start_time": "2024-03-26T03:07:20.032771Z"
    }
   },
   "id": "11f1378aaa5a4417"
  },
  {
   "cell_type": "markdown",
   "source": [
    "<h1>Cleaning a CSV</h1>"
   ],
   "metadata": {
    "collapsed": false
   },
   "id": "37c2459a70173916"
  },
  {
   "cell_type": "markdown",
   "source": [
    "Read in a CSV"
   ],
   "metadata": {
    "collapsed": false
   },
   "id": "70312fa54485148"
  },
  {
   "cell_type": "code",
   "execution_count": 121,
   "outputs": [
    {
     "data": {
      "text/plain": "                                     Board  Number of Contracts  \\\n0              Downtown Memphis Commission                  123   \n1                            EDGE - Shelby                  243   \n2      Industrial Development of Arlington                   15   \n3       Industrial Development of Bartlett                   11   \n4   Industrial Development of Collierville                   14   \n5     Industrial Development of Germantown                    4   \n6     Industrial Development of Millington                    1   \n7       Health & Education Board - Memphis                   73   \n8        Health & Education Board - Shelby                    8   \n9                  Miscellaneous Contracts                   10   \n10      City / County Government Contracts                    5   \n\n   Amount Billed Pilot (INL) Amount Billed Debt Service    Assessment  \\\n0              $1,981,904.47              $1,226,006.18  $349,460,540   \n1              $2,856,659.78              $6,149,156.86  $673,220,031   \n2                 $52,116.90                $114,566.56   $11,977,950   \n3                 $15,257.82                $146,630.61   $14,962,783   \n4                $774,048.02                $661,885.66   $70,132,723   \n5                $237,740.75                 $96,081.97   $15,357,250   \n6                 $10,280.12                 $79,383.24    $7,840,320   \n7                $930,606.59                      $0.00  $128,138,985   \n8                $133,533.27                      $0.00   $27,687,400   \n9                 $35,460.00                      $0.00    $9,033,520   \n10                 $5,706.00                      $0.00    $3,141,560   \n\n   Tax Based on Assessment at 2021 Tax Rate      Difference  \\\n0                            $14,153,151.87  -10,945,241.22   \n1                            $27,265,411.26  -18,259,594.62   \n2                               $485,106.98     -318,423.52   \n3                               $605,992.71     -444,104.28   \n4                             $2,840,375.28   -1,404,441.60   \n5                               $621,968.63     -288,145.91   \n6                               $317,532.96     -227,869.60   \n7                             $5,189,628.89   -4,259,022.30   \n8                             $1,121,339.70     -987,806.43   \n9                               $365,857.56     -330,397.56   \n10                              $127,233.18     -121,527.18   \n\n   Percentage Total PILOT Billing  \n0                          20.69%  \n1                          58.08%  \n2                           1.07%  \n3                           1.04%  \n4                           9.26%  \n5                           2.15%  \n6                           0.58%  \n7                           6.00%  \n8                           0.86%  \n9                           0.23%  \n10                          0.04%  ",
      "text/html": "<div>\n<style scoped>\n    .dataframe tbody tr th:only-of-type {\n        vertical-align: middle;\n    }\n\n    .dataframe tbody tr th {\n        vertical-align: top;\n    }\n\n    .dataframe thead th {\n        text-align: right;\n    }\n</style>\n<table border=\"1\" class=\"dataframe\">\n  <thead>\n    <tr style=\"text-align: right;\">\n      <th></th>\n      <th>Board</th>\n      <th>Number of Contracts</th>\n      <th>Amount Billed Pilot (INL)</th>\n      <th>Amount Billed Debt Service</th>\n      <th>Assessment</th>\n      <th>Tax Based on Assessment at 2021 Tax Rate</th>\n      <th>Difference</th>\n      <th>Percentage Total PILOT Billing</th>\n    </tr>\n  </thead>\n  <tbody>\n    <tr>\n      <th>0</th>\n      <td>Downtown Memphis Commission</td>\n      <td>123</td>\n      <td>$1,981,904.47</td>\n      <td>$1,226,006.18</td>\n      <td>$349,460,540</td>\n      <td>$14,153,151.87</td>\n      <td>-10,945,241.22</td>\n      <td>20.69%</td>\n    </tr>\n    <tr>\n      <th>1</th>\n      <td>EDGE - Shelby</td>\n      <td>243</td>\n      <td>$2,856,659.78</td>\n      <td>$6,149,156.86</td>\n      <td>$673,220,031</td>\n      <td>$27,265,411.26</td>\n      <td>-18,259,594.62</td>\n      <td>58.08%</td>\n    </tr>\n    <tr>\n      <th>2</th>\n      <td>Industrial Development of Arlington</td>\n      <td>15</td>\n      <td>$52,116.90</td>\n      <td>$114,566.56</td>\n      <td>$11,977,950</td>\n      <td>$485,106.98</td>\n      <td>-318,423.52</td>\n      <td>1.07%</td>\n    </tr>\n    <tr>\n      <th>3</th>\n      <td>Industrial Development of Bartlett</td>\n      <td>11</td>\n      <td>$15,257.82</td>\n      <td>$146,630.61</td>\n      <td>$14,962,783</td>\n      <td>$605,992.71</td>\n      <td>-444,104.28</td>\n      <td>1.04%</td>\n    </tr>\n    <tr>\n      <th>4</th>\n      <td>Industrial Development of Collierville</td>\n      <td>14</td>\n      <td>$774,048.02</td>\n      <td>$661,885.66</td>\n      <td>$70,132,723</td>\n      <td>$2,840,375.28</td>\n      <td>-1,404,441.60</td>\n      <td>9.26%</td>\n    </tr>\n    <tr>\n      <th>5</th>\n      <td>Industrial Development of Germantown</td>\n      <td>4</td>\n      <td>$237,740.75</td>\n      <td>$96,081.97</td>\n      <td>$15,357,250</td>\n      <td>$621,968.63</td>\n      <td>-288,145.91</td>\n      <td>2.15%</td>\n    </tr>\n    <tr>\n      <th>6</th>\n      <td>Industrial Development of Millington</td>\n      <td>1</td>\n      <td>$10,280.12</td>\n      <td>$79,383.24</td>\n      <td>$7,840,320</td>\n      <td>$317,532.96</td>\n      <td>-227,869.60</td>\n      <td>0.58%</td>\n    </tr>\n    <tr>\n      <th>7</th>\n      <td>Health &amp; Education Board - Memphis</td>\n      <td>73</td>\n      <td>$930,606.59</td>\n      <td>$0.00</td>\n      <td>$128,138,985</td>\n      <td>$5,189,628.89</td>\n      <td>-4,259,022.30</td>\n      <td>6.00%</td>\n    </tr>\n    <tr>\n      <th>8</th>\n      <td>Health &amp; Education Board - Shelby</td>\n      <td>8</td>\n      <td>$133,533.27</td>\n      <td>$0.00</td>\n      <td>$27,687,400</td>\n      <td>$1,121,339.70</td>\n      <td>-987,806.43</td>\n      <td>0.86%</td>\n    </tr>\n    <tr>\n      <th>9</th>\n      <td>Miscellaneous Contracts</td>\n      <td>10</td>\n      <td>$35,460.00</td>\n      <td>$0.00</td>\n      <td>$9,033,520</td>\n      <td>$365,857.56</td>\n      <td>-330,397.56</td>\n      <td>0.23%</td>\n    </tr>\n    <tr>\n      <th>10</th>\n      <td>City / County Government Contracts</td>\n      <td>5</td>\n      <td>$5,706.00</td>\n      <td>$0.00</td>\n      <td>$3,141,560</td>\n      <td>$127,233.18</td>\n      <td>-121,527.18</td>\n      <td>0.04%</td>\n    </tr>\n  </tbody>\n</table>\n</div>"
     },
     "execution_count": 121,
     "metadata": {},
     "output_type": "execute_result"
    }
   ],
   "source": [
    "# load a dataframe\n",
    "infile_path = \"../data/raw/silver_shelby_county_properties_municipality_breakdown - s1_2019.csv\"\n",
    "df = pd.read_csv(infile_path)\n",
    "df"
   ],
   "metadata": {
    "collapsed": false,
    "ExecuteTime": {
     "end_time": "2024-03-26T18:54:15.361175Z",
     "start_time": "2024-03-26T18:54:15.337282Z"
    }
   },
   "id": "50cef4de40a6855d"
  },
  {
   "cell_type": "code",
   "execution_count": 122,
   "outputs": [
    {
     "data": {
      "text/plain": "Index(['board', 'number_of_contracts', 'amount_billed_pilot_inl',\n       'amount_billed_debt_service', 'assessment',\n       'tax_based_on_assessment_at_2021_tax_rate', 'difference',\n       'percentage_total_pilot_billing'],\n      dtype='object')"
     },
     "execution_count": 122,
     "metadata": {},
     "output_type": "execute_result"
    }
   ],
   "source": [
    "# Clean the column headers\n",
    "df = clean_headers(df, [remove_special_for_words, truncate, snake_case, lower_case])\n",
    "df.columns"
   ],
   "metadata": {
    "collapsed": false,
    "ExecuteTime": {
     "end_time": "2024-03-26T18:54:28.864707Z",
     "start_time": "2024-03-26T18:54:28.858616Z"
    }
   },
   "id": "f8e6a7fb4013b6e6"
  },
  {
   "cell_type": "code",
   "execution_count": 115,
   "outputs": [
    {
     "data": {
      "text/plain": "                                     board  number_of_contracts  \\\n0              downtown memphis commission                  123   \n1                              edge shelby                  243   \n2      industrial development of arlington                   15   \n3       industrial development of bartlett                   11   \n4   industrial development of collierville                   14   \n5     industrial development of germantown                    4   \n6     industrial development of millington                    1   \n7           health education board memphis                   73   \n8            health education board shelby                    8   \n9                  miscellaneous contracts                   10   \n10        city county government contracts                    5   \n\n   amount_billed_pilot_inl amount_billed_debt_service    assessment  \\\n0            $1,981,904.47              $1,226,006.18  $349,460,540   \n1            $2,856,659.78              $6,149,156.86  $673,220,031   \n2               $52,116.90                $114,566.56   $11,977,950   \n3               $15,257.82                $146,630.61   $14,962,783   \n4              $774,048.02                $661,885.66   $70,132,723   \n5              $237,740.75                 $96,081.97   $15,357,250   \n6               $10,280.12                 $79,383.24    $7,840,320   \n7              $930,606.59                      $0.00  $128,138,985   \n8              $133,533.27                      $0.00   $27,687,400   \n9               $35,460.00                      $0.00    $9,033,520   \n10               $5,706.00                      $0.00    $3,141,560   \n\n   tax_based_on_assessment_at_2021_tax_rate      difference  \\\n0                            $14,153,151.87  -10,945,241.22   \n1                            $27,265,411.26  -18,259,594.62   \n2                               $485,106.98     -318,423.52   \n3                               $605,992.71     -444,104.28   \n4                             $2,840,375.28   -1,404,441.60   \n5                               $621,968.63     -288,145.91   \n6                               $317,532.96     -227,869.60   \n7                             $5,189,628.89   -4,259,022.30   \n8                             $1,121,339.70     -987,806.43   \n9                               $365,857.56     -330,397.56   \n10                              $127,233.18     -121,527.18   \n\n   percentage_total_pilot_billing  \n0                          20.69%  \n1                          58.08%  \n2                           1.07%  \n3                           1.04%  \n4                           9.26%  \n5                           2.15%  \n6                           0.58%  \n7                           6.00%  \n8                           0.86%  \n9                           0.23%  \n10                          0.04%  ",
      "text/html": "<div>\n<style scoped>\n    .dataframe tbody tr th:only-of-type {\n        vertical-align: middle;\n    }\n\n    .dataframe tbody tr th {\n        vertical-align: top;\n    }\n\n    .dataframe thead th {\n        text-align: right;\n    }\n</style>\n<table border=\"1\" class=\"dataframe\">\n  <thead>\n    <tr style=\"text-align: right;\">\n      <th></th>\n      <th>board</th>\n      <th>number_of_contracts</th>\n      <th>amount_billed_pilot_inl</th>\n      <th>amount_billed_debt_service</th>\n      <th>assessment</th>\n      <th>tax_based_on_assessment_at_2021_tax_rate</th>\n      <th>difference</th>\n      <th>percentage_total_pilot_billing</th>\n    </tr>\n  </thead>\n  <tbody>\n    <tr>\n      <th>0</th>\n      <td>downtown memphis commission</td>\n      <td>123</td>\n      <td>$1,981,904.47</td>\n      <td>$1,226,006.18</td>\n      <td>$349,460,540</td>\n      <td>$14,153,151.87</td>\n      <td>-10,945,241.22</td>\n      <td>20.69%</td>\n    </tr>\n    <tr>\n      <th>1</th>\n      <td>edge shelby</td>\n      <td>243</td>\n      <td>$2,856,659.78</td>\n      <td>$6,149,156.86</td>\n      <td>$673,220,031</td>\n      <td>$27,265,411.26</td>\n      <td>-18,259,594.62</td>\n      <td>58.08%</td>\n    </tr>\n    <tr>\n      <th>2</th>\n      <td>industrial development of arlington</td>\n      <td>15</td>\n      <td>$52,116.90</td>\n      <td>$114,566.56</td>\n      <td>$11,977,950</td>\n      <td>$485,106.98</td>\n      <td>-318,423.52</td>\n      <td>1.07%</td>\n    </tr>\n    <tr>\n      <th>3</th>\n      <td>industrial development of bartlett</td>\n      <td>11</td>\n      <td>$15,257.82</td>\n      <td>$146,630.61</td>\n      <td>$14,962,783</td>\n      <td>$605,992.71</td>\n      <td>-444,104.28</td>\n      <td>1.04%</td>\n    </tr>\n    <tr>\n      <th>4</th>\n      <td>industrial development of collierville</td>\n      <td>14</td>\n      <td>$774,048.02</td>\n      <td>$661,885.66</td>\n      <td>$70,132,723</td>\n      <td>$2,840,375.28</td>\n      <td>-1,404,441.60</td>\n      <td>9.26%</td>\n    </tr>\n    <tr>\n      <th>5</th>\n      <td>industrial development of germantown</td>\n      <td>4</td>\n      <td>$237,740.75</td>\n      <td>$96,081.97</td>\n      <td>$15,357,250</td>\n      <td>$621,968.63</td>\n      <td>-288,145.91</td>\n      <td>2.15%</td>\n    </tr>\n    <tr>\n      <th>6</th>\n      <td>industrial development of millington</td>\n      <td>1</td>\n      <td>$10,280.12</td>\n      <td>$79,383.24</td>\n      <td>$7,840,320</td>\n      <td>$317,532.96</td>\n      <td>-227,869.60</td>\n      <td>0.58%</td>\n    </tr>\n    <tr>\n      <th>7</th>\n      <td>health education board memphis</td>\n      <td>73</td>\n      <td>$930,606.59</td>\n      <td>$0.00</td>\n      <td>$128,138,985</td>\n      <td>$5,189,628.89</td>\n      <td>-4,259,022.30</td>\n      <td>6.00%</td>\n    </tr>\n    <tr>\n      <th>8</th>\n      <td>health education board shelby</td>\n      <td>8</td>\n      <td>$133,533.27</td>\n      <td>$0.00</td>\n      <td>$27,687,400</td>\n      <td>$1,121,339.70</td>\n      <td>-987,806.43</td>\n      <td>0.86%</td>\n    </tr>\n    <tr>\n      <th>9</th>\n      <td>miscellaneous contracts</td>\n      <td>10</td>\n      <td>$35,460.00</td>\n      <td>$0.00</td>\n      <td>$9,033,520</td>\n      <td>$365,857.56</td>\n      <td>-330,397.56</td>\n      <td>0.23%</td>\n    </tr>\n    <tr>\n      <th>10</th>\n      <td>city county government contracts</td>\n      <td>5</td>\n      <td>$5,706.00</td>\n      <td>$0.00</td>\n      <td>$3,141,560</td>\n      <td>$127,233.18</td>\n      <td>-121,527.18</td>\n      <td>0.04%</td>\n    </tr>\n  </tbody>\n</table>\n</div>"
     },
     "execution_count": 115,
     "metadata": {},
     "output_type": "execute_result"
    }
   ],
   "source": [
    "# Clean the string columns\n",
    "string_columns = [\"board\"]\n",
    "df = clean_columns(df, string_columns, [remove_special_for_words, truncate, lower_case])\n",
    "df"
   ],
   "metadata": {
    "collapsed": false,
    "ExecuteTime": {
     "end_time": "2024-03-26T03:07:20.672800Z",
     "start_time": "2024-03-26T03:07:20.665214Z"
    }
   },
   "id": "67171db99d8fff6d"
  },
  {
   "cell_type": "code",
   "execution_count": 116,
   "outputs": [
    {
     "data": {
      "text/plain": "                                     board  number_of_contracts  \\\n0              downtown memphis commission                  123   \n1                              edge shelby                  243   \n2      industrial development of arlington                   15   \n3       industrial development of bartlett                   11   \n4   industrial development of collierville                   14   \n5     industrial development of germantown                    4   \n6     industrial development of millington                    1   \n7           health education board memphis                   73   \n8            health education board shelby                    8   \n9                  miscellaneous contracts                   10   \n10        city county government contracts                    5   \n\n   amount_billed_pilot_inl amount_billed_debt_service assessment  \\\n0               1981904.47                 1226006.18  349460540   \n1               2856659.78                 6149156.86  673220031   \n2                 52116.90                  114566.56   11977950   \n3                 15257.82                  146630.61   14962783   \n4                774048.02                  661885.66   70132723   \n5                237740.75                   96081.97   15357250   \n6                 10280.12                   79383.24    7840320   \n7                930606.59                       0.00  128138985   \n8                133533.27                       0.00   27687400   \n9                 35460.00                       0.00    9033520   \n10                 5706.00                       0.00    3141560   \n\n   tax_based_on_assessment_at_2021_tax_rate    difference  \\\n0                               14153151.87  -10945241.22   \n1                               27265411.26  -18259594.62   \n2                                 485106.98    -318423.52   \n3                                 605992.71    -444104.28   \n4                                2840375.28   -1404441.60   \n5                                 621968.63    -288145.91   \n6                                 317532.96    -227869.60   \n7                                5189628.89   -4259022.30   \n8                                1121339.70    -987806.43   \n9                                 365857.56    -330397.56   \n10                                127233.18    -121527.18   \n\n   percentage_total_pilot_billing  \n0                           20.69  \n1                           58.08  \n2                            1.07  \n3                            1.04  \n4                            9.26  \n5                            2.15  \n6                            0.58  \n7                            6.00  \n8                            0.86  \n9                            0.23  \n10                           0.04  ",
      "text/html": "<div>\n<style scoped>\n    .dataframe tbody tr th:only-of-type {\n        vertical-align: middle;\n    }\n\n    .dataframe tbody tr th {\n        vertical-align: top;\n    }\n\n    .dataframe thead th {\n        text-align: right;\n    }\n</style>\n<table border=\"1\" class=\"dataframe\">\n  <thead>\n    <tr style=\"text-align: right;\">\n      <th></th>\n      <th>board</th>\n      <th>number_of_contracts</th>\n      <th>amount_billed_pilot_inl</th>\n      <th>amount_billed_debt_service</th>\n      <th>assessment</th>\n      <th>tax_based_on_assessment_at_2021_tax_rate</th>\n      <th>difference</th>\n      <th>percentage_total_pilot_billing</th>\n    </tr>\n  </thead>\n  <tbody>\n    <tr>\n      <th>0</th>\n      <td>downtown memphis commission</td>\n      <td>123</td>\n      <td>1981904.47</td>\n      <td>1226006.18</td>\n      <td>349460540</td>\n      <td>14153151.87</td>\n      <td>-10945241.22</td>\n      <td>20.69</td>\n    </tr>\n    <tr>\n      <th>1</th>\n      <td>edge shelby</td>\n      <td>243</td>\n      <td>2856659.78</td>\n      <td>6149156.86</td>\n      <td>673220031</td>\n      <td>27265411.26</td>\n      <td>-18259594.62</td>\n      <td>58.08</td>\n    </tr>\n    <tr>\n      <th>2</th>\n      <td>industrial development of arlington</td>\n      <td>15</td>\n      <td>52116.90</td>\n      <td>114566.56</td>\n      <td>11977950</td>\n      <td>485106.98</td>\n      <td>-318423.52</td>\n      <td>1.07</td>\n    </tr>\n    <tr>\n      <th>3</th>\n      <td>industrial development of bartlett</td>\n      <td>11</td>\n      <td>15257.82</td>\n      <td>146630.61</td>\n      <td>14962783</td>\n      <td>605992.71</td>\n      <td>-444104.28</td>\n      <td>1.04</td>\n    </tr>\n    <tr>\n      <th>4</th>\n      <td>industrial development of collierville</td>\n      <td>14</td>\n      <td>774048.02</td>\n      <td>661885.66</td>\n      <td>70132723</td>\n      <td>2840375.28</td>\n      <td>-1404441.60</td>\n      <td>9.26</td>\n    </tr>\n    <tr>\n      <th>5</th>\n      <td>industrial development of germantown</td>\n      <td>4</td>\n      <td>237740.75</td>\n      <td>96081.97</td>\n      <td>15357250</td>\n      <td>621968.63</td>\n      <td>-288145.91</td>\n      <td>2.15</td>\n    </tr>\n    <tr>\n      <th>6</th>\n      <td>industrial development of millington</td>\n      <td>1</td>\n      <td>10280.12</td>\n      <td>79383.24</td>\n      <td>7840320</td>\n      <td>317532.96</td>\n      <td>-227869.60</td>\n      <td>0.58</td>\n    </tr>\n    <tr>\n      <th>7</th>\n      <td>health education board memphis</td>\n      <td>73</td>\n      <td>930606.59</td>\n      <td>0.00</td>\n      <td>128138985</td>\n      <td>5189628.89</td>\n      <td>-4259022.30</td>\n      <td>6.00</td>\n    </tr>\n    <tr>\n      <th>8</th>\n      <td>health education board shelby</td>\n      <td>8</td>\n      <td>133533.27</td>\n      <td>0.00</td>\n      <td>27687400</td>\n      <td>1121339.70</td>\n      <td>-987806.43</td>\n      <td>0.86</td>\n    </tr>\n    <tr>\n      <th>9</th>\n      <td>miscellaneous contracts</td>\n      <td>10</td>\n      <td>35460.00</td>\n      <td>0.00</td>\n      <td>9033520</td>\n      <td>365857.56</td>\n      <td>-330397.56</td>\n      <td>0.23</td>\n    </tr>\n    <tr>\n      <th>10</th>\n      <td>city county government contracts</td>\n      <td>5</td>\n      <td>5706.00</td>\n      <td>0.00</td>\n      <td>3141560</td>\n      <td>127233.18</td>\n      <td>-121527.18</td>\n      <td>0.04</td>\n    </tr>\n  </tbody>\n</table>\n</div>"
     },
     "execution_count": 116,
     "metadata": {},
     "output_type": "execute_result"
    }
   ],
   "source": [
    "# Clean the numeric columns\n",
    "numeric_columns = ['amount_billed_pilot_inl', \n",
    "                   'amount_billed_debt_service', \n",
    "                   'assessment',\n",
    "                   'tax_based_on_assessment_at_2021_tax_rate', \n",
    "                   'difference',\n",
    "                   'percentage_total_pilot_billing']\n",
    "df = clean_columns(df, numeric_columns, [remove_special_for_numbers])\n",
    "df"
   ],
   "metadata": {
    "collapsed": false,
    "ExecuteTime": {
     "end_time": "2024-03-26T03:07:20.851842Z",
     "start_time": "2024-03-26T03:07:20.849592Z"
    }
   },
   "id": "fd553dbc31168c70"
  },
  {
   "cell_type": "code",
   "execution_count": 117,
   "outputs": [
    {
     "data": {
      "text/plain": "board                                       object\nnumber_of_contracts                          int64\namount_billed_pilot_inl                     object\namount_billed_debt_service                  object\nassessment                                  object\ntax_based_on_assessment_at_2021_tax_rate    object\ndifference                                  object\npercentage_total_pilot_billing              object\ndtype: object"
     },
     "execution_count": 117,
     "metadata": {},
     "output_type": "execute_result"
    }
   ],
   "source": [
    "# Check the data types of each variable\n",
    "df.dtypes"
   ],
   "metadata": {
    "collapsed": false,
    "ExecuteTime": {
     "end_time": "2024-03-26T03:07:21.097903Z",
     "start_time": "2024-03-26T03:07:21.092012Z"
    }
   },
   "id": "fb1c412d6c764d7b"
  },
  {
   "cell_type": "code",
   "execution_count": 118,
   "outputs": [
    {
     "data": {
      "text/plain": "board                                        object\nnumber_of_contracts                           int64\namount_billed_pilot_inl                     float64\namount_billed_debt_service                  float64\nassessment                                  float64\ntax_based_on_assessment_at_2021_tax_rate    float64\ndifference                                  float64\npercentage_total_pilot_billing              float64\ndtype: object"
     },
     "execution_count": 118,
     "metadata": {},
     "output_type": "execute_result"
    }
   ],
   "source": [
    "# Fix the data type of each variable\n",
    "names_to_types = {\"board\": str, \n",
    "                  \"number_of_contracts\": int, \n",
    "                  \"amount_billed_pilot_inl\": float, \n",
    "                  \"amount_billed_debt_service\": float, \n",
    "                  \"assessment\": float,\n",
    "                  \"tax_based_on_assessment_at_2021_tax_rate\": float, \n",
    "                  \"difference\": float,\n",
    "                  \"percentage_total_pilot_billing\": float,\n",
    "                  }\n",
    "df = cast_data_types(df, names_to_types)\n",
    "df.dtypes"
   ],
   "metadata": {
    "collapsed": false,
    "ExecuteTime": {
     "end_time": "2024-03-26T03:07:21.409718Z",
     "start_time": "2024-03-26T03:07:21.400448Z"
    }
   },
   "id": "fa0f0232d27d41fe"
  },
  {
   "cell_type": "code",
   "execution_count": 119,
   "outputs": [
    {
     "data": {
      "text/plain": "                                               board  number_of_contracts  \\\nid                                                                          \n5b1f4c0c65a3             downtown memphis commission                  123   \nd5fe3a85ec4e                             edge shelby                  243   \nabb34861ca91     industrial development of arlington                   15   \naada4183f85c      industrial development of bartlett                   11   \n91e543f3085f  industrial development of collierville                   14   \n3f1cf0abc31c    industrial development of germantown                    4   \n757a7152194c    industrial development of millington                    1   \n3bcfcbd3a12d          health education board memphis                   73   \n64c9e33b120e           health education board shelby                    8   \ndf3a7c5fc143                 miscellaneous contracts                   10   \nac18571846b6        city county government contracts                    5   \n\n              amount_billed_pilot_inl  amount_billed_debt_service  \\\nid                                                                  \n5b1f4c0c65a3               1981904.47                  1226006.18   \nd5fe3a85ec4e               2856659.78                  6149156.86   \nabb34861ca91                 52116.90                   114566.56   \naada4183f85c                 15257.82                   146630.61   \n91e543f3085f                774048.02                   661885.66   \n3f1cf0abc31c                237740.75                    96081.97   \n757a7152194c                 10280.12                    79383.24   \n3bcfcbd3a12d                930606.59                        0.00   \n64c9e33b120e                133533.27                        0.00   \ndf3a7c5fc143                 35460.00                        0.00   \nac18571846b6                  5706.00                        0.00   \n\n               assessment  tax_based_on_assessment_at_2021_tax_rate  \\\nid                                                                    \n5b1f4c0c65a3  349460540.0                               14153151.87   \nd5fe3a85ec4e  673220031.0                               27265411.26   \nabb34861ca91   11977950.0                                 485106.98   \naada4183f85c   14962783.0                                 605992.71   \n91e543f3085f   70132723.0                                2840375.28   \n3f1cf0abc31c   15357250.0                                 621968.63   \n757a7152194c    7840320.0                                 317532.96   \n3bcfcbd3a12d  128138985.0                                5189628.89   \n64c9e33b120e   27687400.0                                1121339.70   \ndf3a7c5fc143    9033520.0                                 365857.56   \nac18571846b6    3141560.0                                 127233.18   \n\n               difference  percentage_total_pilot_billing  \nid                                                         \n5b1f4c0c65a3 -10945241.22                           20.69  \nd5fe3a85ec4e -18259594.62                           58.08  \nabb34861ca91   -318423.52                            1.07  \naada4183f85c   -444104.28                            1.04  \n91e543f3085f  -1404441.60                            9.26  \n3f1cf0abc31c   -288145.91                            2.15  \n757a7152194c   -227869.60                            0.58  \n3bcfcbd3a12d  -4259022.30                            6.00  \n64c9e33b120e   -987806.43                            0.86  \ndf3a7c5fc143   -330397.56                            0.23  \nac18571846b6   -121527.18                            0.04  ",
      "text/html": "<div>\n<style scoped>\n    .dataframe tbody tr th:only-of-type {\n        vertical-align: middle;\n    }\n\n    .dataframe tbody tr th {\n        vertical-align: top;\n    }\n\n    .dataframe thead th {\n        text-align: right;\n    }\n</style>\n<table border=\"1\" class=\"dataframe\">\n  <thead>\n    <tr style=\"text-align: right;\">\n      <th></th>\n      <th>board</th>\n      <th>number_of_contracts</th>\n      <th>amount_billed_pilot_inl</th>\n      <th>amount_billed_debt_service</th>\n      <th>assessment</th>\n      <th>tax_based_on_assessment_at_2021_tax_rate</th>\n      <th>difference</th>\n      <th>percentage_total_pilot_billing</th>\n    </tr>\n    <tr>\n      <th>id</th>\n      <th></th>\n      <th></th>\n      <th></th>\n      <th></th>\n      <th></th>\n      <th></th>\n      <th></th>\n      <th></th>\n    </tr>\n  </thead>\n  <tbody>\n    <tr>\n      <th>5b1f4c0c65a3</th>\n      <td>downtown memphis commission</td>\n      <td>123</td>\n      <td>1981904.47</td>\n      <td>1226006.18</td>\n      <td>349460540.0</td>\n      <td>14153151.87</td>\n      <td>-10945241.22</td>\n      <td>20.69</td>\n    </tr>\n    <tr>\n      <th>d5fe3a85ec4e</th>\n      <td>edge shelby</td>\n      <td>243</td>\n      <td>2856659.78</td>\n      <td>6149156.86</td>\n      <td>673220031.0</td>\n      <td>27265411.26</td>\n      <td>-18259594.62</td>\n      <td>58.08</td>\n    </tr>\n    <tr>\n      <th>abb34861ca91</th>\n      <td>industrial development of arlington</td>\n      <td>15</td>\n      <td>52116.90</td>\n      <td>114566.56</td>\n      <td>11977950.0</td>\n      <td>485106.98</td>\n      <td>-318423.52</td>\n      <td>1.07</td>\n    </tr>\n    <tr>\n      <th>aada4183f85c</th>\n      <td>industrial development of bartlett</td>\n      <td>11</td>\n      <td>15257.82</td>\n      <td>146630.61</td>\n      <td>14962783.0</td>\n      <td>605992.71</td>\n      <td>-444104.28</td>\n      <td>1.04</td>\n    </tr>\n    <tr>\n      <th>91e543f3085f</th>\n      <td>industrial development of collierville</td>\n      <td>14</td>\n      <td>774048.02</td>\n      <td>661885.66</td>\n      <td>70132723.0</td>\n      <td>2840375.28</td>\n      <td>-1404441.60</td>\n      <td>9.26</td>\n    </tr>\n    <tr>\n      <th>3f1cf0abc31c</th>\n      <td>industrial development of germantown</td>\n      <td>4</td>\n      <td>237740.75</td>\n      <td>96081.97</td>\n      <td>15357250.0</td>\n      <td>621968.63</td>\n      <td>-288145.91</td>\n      <td>2.15</td>\n    </tr>\n    <tr>\n      <th>757a7152194c</th>\n      <td>industrial development of millington</td>\n      <td>1</td>\n      <td>10280.12</td>\n      <td>79383.24</td>\n      <td>7840320.0</td>\n      <td>317532.96</td>\n      <td>-227869.60</td>\n      <td>0.58</td>\n    </tr>\n    <tr>\n      <th>3bcfcbd3a12d</th>\n      <td>health education board memphis</td>\n      <td>73</td>\n      <td>930606.59</td>\n      <td>0.00</td>\n      <td>128138985.0</td>\n      <td>5189628.89</td>\n      <td>-4259022.30</td>\n      <td>6.00</td>\n    </tr>\n    <tr>\n      <th>64c9e33b120e</th>\n      <td>health education board shelby</td>\n      <td>8</td>\n      <td>133533.27</td>\n      <td>0.00</td>\n      <td>27687400.0</td>\n      <td>1121339.70</td>\n      <td>-987806.43</td>\n      <td>0.86</td>\n    </tr>\n    <tr>\n      <th>df3a7c5fc143</th>\n      <td>miscellaneous contracts</td>\n      <td>10</td>\n      <td>35460.00</td>\n      <td>0.00</td>\n      <td>9033520.0</td>\n      <td>365857.56</td>\n      <td>-330397.56</td>\n      <td>0.23</td>\n    </tr>\n    <tr>\n      <th>ac18571846b6</th>\n      <td>city county government contracts</td>\n      <td>5</td>\n      <td>5706.00</td>\n      <td>0.00</td>\n      <td>3141560.0</td>\n      <td>127233.18</td>\n      <td>-121527.18</td>\n      <td>0.04</td>\n    </tr>\n  </tbody>\n</table>\n</div>"
     },
     "execution_count": 119,
     "metadata": {},
     "output_type": "execute_result"
    }
   ],
   "source": [
    "# Create a unique index column based on the values in the identifying column\n",
    "# Note: Ids are based on a deterministic hash, which means they are \n",
    "# reproducible even if the function is run by a different user at a different time,\n",
    "# as long as the string in the identifying column is the same. \n",
    "\n",
    "identifying_columns = [\"board\"]\n",
    "df = set_unique_index(df=df, columns_to_hash = identifying_columns, index_length_limit=12)\n",
    "df"
   ],
   "metadata": {
    "collapsed": false,
    "ExecuteTime": {
     "end_time": "2024-03-26T03:07:21.710487Z",
     "start_time": "2024-03-26T03:07:21.702877Z"
    }
   },
   "id": "fa13dd82fd715b68"
  },
  {
   "cell_type": "code",
   "execution_count": 123,
   "outputs": [],
   "source": [
    "# Save the now-clean csv and convert it to utf-8 format\n",
    "outfile_path = \"../data/processed/s1_2019.csv\"\n",
    "df.to_csv(outfile_path)\n",
    "convert_utf8(original_file_path=outfile_path, new_file_path=outfile_path)"
   ],
   "metadata": {
    "collapsed": false,
    "ExecuteTime": {
     "end_time": "2024-03-26T19:00:33.425797Z",
     "start_time": "2024-03-26T19:00:33.404256Z"
    }
   },
   "id": "209e2ad7bce3421"
  },
  {
   "cell_type": "code",
   "execution_count": null,
   "outputs": [],
   "source": [],
   "metadata": {
    "collapsed": false
   },
   "id": "735c05af5ce3d757"
  }
 ],
 "metadata": {
  "kernelspec": {
   "display_name": "Python 3",
   "language": "python",
   "name": "python3"
  },
  "language_info": {
   "codemirror_mode": {
    "name": "ipython",
    "version": 2
   },
   "file_extension": ".py",
   "mimetype": "text/x-python",
   "name": "python",
   "nbconvert_exporter": "python",
   "pygments_lexer": "ipython2",
   "version": "2.7.6"
  }
 },
 "nbformat": 4,
 "nbformat_minor": 5
}
