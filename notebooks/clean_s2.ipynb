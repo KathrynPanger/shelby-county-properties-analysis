{
 "cells": [
  {
   "cell_type": "code",
   "execution_count": 1,
   "outputs": [],
   "source": [
    "import pandas as pd\n",
    "from utils import *"
   ],
   "metadata": {
    "collapsed": false,
    "ExecuteTime": {
     "end_time": "2024-03-26T19:43:09.753327Z",
     "start_time": "2024-03-26T19:43:09.428362Z"
    }
   },
   "id": "f890863474a831e4"
  },
  {
   "cell_type": "markdown",
   "source": [
    "<h1>Cleaning a CSV</h1>"
   ],
   "metadata": {
    "collapsed": false
   },
   "id": "37c2459a70173916"
  },
  {
   "cell_type": "markdown",
   "source": [
    "Read in a CSV"
   ],
   "metadata": {
    "collapsed": false
   },
   "id": "70312fa54485148"
  },
  {
   "cell_type": "code",
   "execution_count": 2,
   "outputs": [
    {
     "data": {
      "text/plain": "                                                 Owner  \\\n0    1 SOUTH MAIN LLC - WILMONT HOTEL LIMITED PARTN...   \n1                              100 SOUTH MAIN PARTNERS   \n2                                      1030 POPLAR LLC   \n3                         109 SOUTH SECOND PARTNERSHIP   \n4                                    115 UNION AVE LLC   \n..                                                 ...   \n522                     WRIGHT MEDICAL TECHNOLOGY, INC   \n523                     WRIGHT MEDICAL TECHNOLOGY, INC   \n524                     WRIGHT MEDICAL TECHNOLOGY, INC   \n525                     WRIGHT MEDICAL TECHNOLOGY, INC   \n526                                      WS HCHEM, LLC   \n\n                    Location PILOT Parcel No  \\\n0                 79 MADISON  ICC03900000000   \n1                   100 MAIN  ICC07260000000   \n2                1030 POPLAR  ICC07900000000   \n3                 109 SECOND  ICC07380000000   \n4                  115 UNION  ICC07330000000   \n..                       ...             ...   \n522              1023 CHERRY  IDB1590A000000   \n523      0 MEMPHIS-ARLINGTON  IDB0000A000140   \n524  11576 MEMPHIS-ARLINGTON  IDB0000A00015A   \n525  11576 MEMPHIS ARLINGTON  IDB0000A00020A   \n526             0 WINCHESTER  IDB0000C000160   \n\n                              Underlying Parcel Number  Begin Date  \\\n0    00203800000020, 00203800000030, 00203800000060...  08/02/2000   \n1                       0020530B000010, 0020530B000030  12/23/2008   \n2                                       0200900000007C  06/15/2021   \n3                                         205300000130  04/07/2011   \n4                                         205300000020  03/29/2011   \n..                                                 ...         ...   \n522                                     0015900000000D  12/31/2016   \n523                                     A0141L0A000040  12/31/2014   \n524                                     3000150000000D  12/31/2014   \n525                                     3000160000000D  12/31/2015   \n526                                     C024400A006820  06/01/2016   \n\n       End Date Assmt Taxes PILOT Contract Amt PILOT Debt Service Amt  \\\n0    08/02/2024    $240,731           $180,548                     $0   \n1    12/23/2023    $112,054             $3,070                $27,246   \n2    06/15/2034      $6,722             $6,722                     $0   \n3    04/07/2024     $79,863             $3,486                $19,094   \n4    03/29/2021     $29,104            $29,104                     $0   \n..          ...         ...                ...                    ...   \n522  12/31/2031      $5,522               $100                 $1,381   \n523  12/31/2024     $62,901            $62,901                     $0   \n524  12/31/2024     $12,884            $12,884                     $0   \n525  12/31/2025      $1,240               $100                   $310   \n526  06/01/2023    $129,117           $129,117                     $0   \n\n    Difference  \n0     -$60,183  \n1     -$81,738  \n2           $0  \n3     -$57,283  \n4           $0  \n..         ...  \n522    -$4,042  \n523         $0  \n524         $0  \n525      -$830  \n526         $0  \n\n[527 rows x 10 columns]",
      "text/html": "<div>\n<style scoped>\n    .dataframe tbody tr th:only-of-type {\n        vertical-align: middle;\n    }\n\n    .dataframe tbody tr th {\n        vertical-align: top;\n    }\n\n    .dataframe thead th {\n        text-align: right;\n    }\n</style>\n<table border=\"1\" class=\"dataframe\">\n  <thead>\n    <tr style=\"text-align: right;\">\n      <th></th>\n      <th>Owner</th>\n      <th>Location</th>\n      <th>PILOT Parcel No</th>\n      <th>Underlying Parcel Number</th>\n      <th>Begin Date</th>\n      <th>End Date</th>\n      <th>Assmt Taxes</th>\n      <th>PILOT Contract Amt</th>\n      <th>PILOT Debt Service Amt</th>\n      <th>Difference</th>\n    </tr>\n  </thead>\n  <tbody>\n    <tr>\n      <th>0</th>\n      <td>1 SOUTH MAIN LLC - WILMONT HOTEL LIMITED PARTN...</td>\n      <td>79 MADISON</td>\n      <td>ICC03900000000</td>\n      <td>00203800000020, 00203800000030, 00203800000060...</td>\n      <td>08/02/2000</td>\n      <td>08/02/2024</td>\n      <td>$240,731</td>\n      <td>$180,548</td>\n      <td>$0</td>\n      <td>-$60,183</td>\n    </tr>\n    <tr>\n      <th>1</th>\n      <td>100 SOUTH MAIN PARTNERS</td>\n      <td>100 MAIN</td>\n      <td>ICC07260000000</td>\n      <td>0020530B000010, 0020530B000030</td>\n      <td>12/23/2008</td>\n      <td>12/23/2023</td>\n      <td>$112,054</td>\n      <td>$3,070</td>\n      <td>$27,246</td>\n      <td>-$81,738</td>\n    </tr>\n    <tr>\n      <th>2</th>\n      <td>1030 POPLAR LLC</td>\n      <td>1030 POPLAR</td>\n      <td>ICC07900000000</td>\n      <td>0200900000007C</td>\n      <td>06/15/2021</td>\n      <td>06/15/2034</td>\n      <td>$6,722</td>\n      <td>$6,722</td>\n      <td>$0</td>\n      <td>$0</td>\n    </tr>\n    <tr>\n      <th>3</th>\n      <td>109 SOUTH SECOND PARTNERSHIP</td>\n      <td>109 SECOND</td>\n      <td>ICC07380000000</td>\n      <td>205300000130</td>\n      <td>04/07/2011</td>\n      <td>04/07/2024</td>\n      <td>$79,863</td>\n      <td>$3,486</td>\n      <td>$19,094</td>\n      <td>-$57,283</td>\n    </tr>\n    <tr>\n      <th>4</th>\n      <td>115 UNION AVE LLC</td>\n      <td>115 UNION</td>\n      <td>ICC07330000000</td>\n      <td>205300000020</td>\n      <td>03/29/2011</td>\n      <td>03/29/2021</td>\n      <td>$29,104</td>\n      <td>$29,104</td>\n      <td>$0</td>\n      <td>$0</td>\n    </tr>\n    <tr>\n      <th>...</th>\n      <td>...</td>\n      <td>...</td>\n      <td>...</td>\n      <td>...</td>\n      <td>...</td>\n      <td>...</td>\n      <td>...</td>\n      <td>...</td>\n      <td>...</td>\n      <td>...</td>\n    </tr>\n    <tr>\n      <th>522</th>\n      <td>WRIGHT MEDICAL TECHNOLOGY, INC</td>\n      <td>1023 CHERRY</td>\n      <td>IDB1590A000000</td>\n      <td>0015900000000D</td>\n      <td>12/31/2016</td>\n      <td>12/31/2031</td>\n      <td>$5,522</td>\n      <td>$100</td>\n      <td>$1,381</td>\n      <td>-$4,042</td>\n    </tr>\n    <tr>\n      <th>523</th>\n      <td>WRIGHT MEDICAL TECHNOLOGY, INC</td>\n      <td>0 MEMPHIS-ARLINGTON</td>\n      <td>IDB0000A000140</td>\n      <td>A0141L0A000040</td>\n      <td>12/31/2014</td>\n      <td>12/31/2024</td>\n      <td>$62,901</td>\n      <td>$62,901</td>\n      <td>$0</td>\n      <td>$0</td>\n    </tr>\n    <tr>\n      <th>524</th>\n      <td>WRIGHT MEDICAL TECHNOLOGY, INC</td>\n      <td>11576 MEMPHIS-ARLINGTON</td>\n      <td>IDB0000A00015A</td>\n      <td>3000150000000D</td>\n      <td>12/31/2014</td>\n      <td>12/31/2024</td>\n      <td>$12,884</td>\n      <td>$12,884</td>\n      <td>$0</td>\n      <td>$0</td>\n    </tr>\n    <tr>\n      <th>525</th>\n      <td>WRIGHT MEDICAL TECHNOLOGY, INC</td>\n      <td>11576 MEMPHIS ARLINGTON</td>\n      <td>IDB0000A00020A</td>\n      <td>3000160000000D</td>\n      <td>12/31/2015</td>\n      <td>12/31/2025</td>\n      <td>$1,240</td>\n      <td>$100</td>\n      <td>$310</td>\n      <td>-$830</td>\n    </tr>\n    <tr>\n      <th>526</th>\n      <td>WS HCHEM, LLC</td>\n      <td>0 WINCHESTER</td>\n      <td>IDB0000C000160</td>\n      <td>C024400A006820</td>\n      <td>06/01/2016</td>\n      <td>06/01/2023</td>\n      <td>$129,117</td>\n      <td>$129,117</td>\n      <td>$0</td>\n      <td>$0</td>\n    </tr>\n  </tbody>\n</table>\n<p>527 rows × 10 columns</p>\n</div>"
     },
     "execution_count": 2,
     "metadata": {},
     "output_type": "execute_result"
    }
   ],
   "source": [
    "# load a dataframe\n",
    "infile_path = \"../data/raw/silver_shelby_county_properties_municipality_breakdown - s2_in_lieu_contracts_by_owner.csv\"\n",
    "df = pd.read_csv(infile_path)\n",
    "df"
   ],
   "metadata": {
    "collapsed": false,
    "ExecuteTime": {
     "end_time": "2024-03-26T19:43:13.386638Z",
     "start_time": "2024-03-26T19:43:13.367566Z"
    }
   },
   "id": "50cef4de40a6855d"
  },
  {
   "cell_type": "code",
   "execution_count": 3,
   "outputs": [
    {
     "data": {
      "text/plain": "Index(['owner', 'location', 'pilot_parcel_no', 'underlying_parcel_number',\n       'begin_date', 'end_date', 'assmt_taxes', 'pilot_contract_amt',\n       'pilot_debt_service_amt', 'difference'],\n      dtype='object')"
     },
     "execution_count": 3,
     "metadata": {},
     "output_type": "execute_result"
    }
   ],
   "source": [
    "# Clean the column headers\n",
    "df = clean_headers(df, [remove_special_for_words, truncate, snake_case, lower_case])\n",
    "df.columns"
   ],
   "metadata": {
    "collapsed": false,
    "ExecuteTime": {
     "end_time": "2024-03-26T19:43:15.385998Z",
     "start_time": "2024-03-26T19:43:15.380936Z"
    }
   },
   "id": "f8e6a7fb4013b6e6"
  },
  {
   "cell_type": "code",
   "execution_count": 4,
   "outputs": [
    {
     "data": {
      "text/plain": "                                                 owner  \\\n0    1 south main llc wilmont hotel limited partner...   \n1                              100 south main partners   \n2                                      1030 poplar llc   \n3                         109 south second partnership   \n4                                    115 union ave llc   \n..                                                 ...   \n522                      wright medical technology inc   \n523                      wright medical technology inc   \n524                      wright medical technology inc   \n525                      wright medical technology inc   \n526                                       ws hchem llc   \n\n                    location pilot_parcel_no  \\\n0                 79 madison  ICC03900000000   \n1                   100 main  ICC07260000000   \n2                1030 poplar  ICC07900000000   \n3                 109 second  ICC07380000000   \n4                  115 union  ICC07330000000   \n..                       ...             ...   \n522              1023 cherry  IDB1590A000000   \n523      0 memphis arlington  IDB0000A000140   \n524  11576 memphis arlington  IDB0000A00015A   \n525  11576 memphis arlington  IDB0000A00020A   \n526             0 winchester  IDB0000C000160   \n\n                              underlying_parcel_number  begin_date  \\\n0    00203800000020, 00203800000030, 00203800000060...  08/02/2000   \n1                       0020530B000010, 0020530B000030  12/23/2008   \n2                                       0200900000007C  06/15/2021   \n3                                         205300000130  04/07/2011   \n4                                         205300000020  03/29/2011   \n..                                                 ...         ...   \n522                                     0015900000000D  12/31/2016   \n523                                     A0141L0A000040  12/31/2014   \n524                                     3000150000000D  12/31/2014   \n525                                     3000160000000D  12/31/2015   \n526                                     C024400A006820  06/01/2016   \n\n       end_date assmt_taxes pilot_contract_amt pilot_debt_service_amt  \\\n0    08/02/2024    $240,731           $180,548                     $0   \n1    12/23/2023    $112,054             $3,070                $27,246   \n2    06/15/2034      $6,722             $6,722                     $0   \n3    04/07/2024     $79,863             $3,486                $19,094   \n4    03/29/2021     $29,104            $29,104                     $0   \n..          ...         ...                ...                    ...   \n522  12/31/2031      $5,522               $100                 $1,381   \n523  12/31/2024     $62,901            $62,901                     $0   \n524  12/31/2024     $12,884            $12,884                     $0   \n525  12/31/2025      $1,240               $100                   $310   \n526  06/01/2023    $129,117           $129,117                     $0   \n\n    difference  \n0     -$60,183  \n1     -$81,738  \n2           $0  \n3     -$57,283  \n4           $0  \n..         ...  \n522    -$4,042  \n523         $0  \n524         $0  \n525      -$830  \n526         $0  \n\n[527 rows x 10 columns]",
      "text/html": "<div>\n<style scoped>\n    .dataframe tbody tr th:only-of-type {\n        vertical-align: middle;\n    }\n\n    .dataframe tbody tr th {\n        vertical-align: top;\n    }\n\n    .dataframe thead th {\n        text-align: right;\n    }\n</style>\n<table border=\"1\" class=\"dataframe\">\n  <thead>\n    <tr style=\"text-align: right;\">\n      <th></th>\n      <th>owner</th>\n      <th>location</th>\n      <th>pilot_parcel_no</th>\n      <th>underlying_parcel_number</th>\n      <th>begin_date</th>\n      <th>end_date</th>\n      <th>assmt_taxes</th>\n      <th>pilot_contract_amt</th>\n      <th>pilot_debt_service_amt</th>\n      <th>difference</th>\n    </tr>\n  </thead>\n  <tbody>\n    <tr>\n      <th>0</th>\n      <td>1 south main llc wilmont hotel limited partner...</td>\n      <td>79 madison</td>\n      <td>ICC03900000000</td>\n      <td>00203800000020, 00203800000030, 00203800000060...</td>\n      <td>08/02/2000</td>\n      <td>08/02/2024</td>\n      <td>$240,731</td>\n      <td>$180,548</td>\n      <td>$0</td>\n      <td>-$60,183</td>\n    </tr>\n    <tr>\n      <th>1</th>\n      <td>100 south main partners</td>\n      <td>100 main</td>\n      <td>ICC07260000000</td>\n      <td>0020530B000010, 0020530B000030</td>\n      <td>12/23/2008</td>\n      <td>12/23/2023</td>\n      <td>$112,054</td>\n      <td>$3,070</td>\n      <td>$27,246</td>\n      <td>-$81,738</td>\n    </tr>\n    <tr>\n      <th>2</th>\n      <td>1030 poplar llc</td>\n      <td>1030 poplar</td>\n      <td>ICC07900000000</td>\n      <td>0200900000007C</td>\n      <td>06/15/2021</td>\n      <td>06/15/2034</td>\n      <td>$6,722</td>\n      <td>$6,722</td>\n      <td>$0</td>\n      <td>$0</td>\n    </tr>\n    <tr>\n      <th>3</th>\n      <td>109 south second partnership</td>\n      <td>109 second</td>\n      <td>ICC07380000000</td>\n      <td>205300000130</td>\n      <td>04/07/2011</td>\n      <td>04/07/2024</td>\n      <td>$79,863</td>\n      <td>$3,486</td>\n      <td>$19,094</td>\n      <td>-$57,283</td>\n    </tr>\n    <tr>\n      <th>4</th>\n      <td>115 union ave llc</td>\n      <td>115 union</td>\n      <td>ICC07330000000</td>\n      <td>205300000020</td>\n      <td>03/29/2011</td>\n      <td>03/29/2021</td>\n      <td>$29,104</td>\n      <td>$29,104</td>\n      <td>$0</td>\n      <td>$0</td>\n    </tr>\n    <tr>\n      <th>...</th>\n      <td>...</td>\n      <td>...</td>\n      <td>...</td>\n      <td>...</td>\n      <td>...</td>\n      <td>...</td>\n      <td>...</td>\n      <td>...</td>\n      <td>...</td>\n      <td>...</td>\n    </tr>\n    <tr>\n      <th>522</th>\n      <td>wright medical technology inc</td>\n      <td>1023 cherry</td>\n      <td>IDB1590A000000</td>\n      <td>0015900000000D</td>\n      <td>12/31/2016</td>\n      <td>12/31/2031</td>\n      <td>$5,522</td>\n      <td>$100</td>\n      <td>$1,381</td>\n      <td>-$4,042</td>\n    </tr>\n    <tr>\n      <th>523</th>\n      <td>wright medical technology inc</td>\n      <td>0 memphis arlington</td>\n      <td>IDB0000A000140</td>\n      <td>A0141L0A000040</td>\n      <td>12/31/2014</td>\n      <td>12/31/2024</td>\n      <td>$62,901</td>\n      <td>$62,901</td>\n      <td>$0</td>\n      <td>$0</td>\n    </tr>\n    <tr>\n      <th>524</th>\n      <td>wright medical technology inc</td>\n      <td>11576 memphis arlington</td>\n      <td>IDB0000A00015A</td>\n      <td>3000150000000D</td>\n      <td>12/31/2014</td>\n      <td>12/31/2024</td>\n      <td>$12,884</td>\n      <td>$12,884</td>\n      <td>$0</td>\n      <td>$0</td>\n    </tr>\n    <tr>\n      <th>525</th>\n      <td>wright medical technology inc</td>\n      <td>11576 memphis arlington</td>\n      <td>IDB0000A00020A</td>\n      <td>3000160000000D</td>\n      <td>12/31/2015</td>\n      <td>12/31/2025</td>\n      <td>$1,240</td>\n      <td>$100</td>\n      <td>$310</td>\n      <td>-$830</td>\n    </tr>\n    <tr>\n      <th>526</th>\n      <td>ws hchem llc</td>\n      <td>0 winchester</td>\n      <td>IDB0000C000160</td>\n      <td>C024400A006820</td>\n      <td>06/01/2016</td>\n      <td>06/01/2023</td>\n      <td>$129,117</td>\n      <td>$129,117</td>\n      <td>$0</td>\n      <td>$0</td>\n    </tr>\n  </tbody>\n</table>\n<p>527 rows × 10 columns</p>\n</div>"
     },
     "execution_count": 4,
     "metadata": {},
     "output_type": "execute_result"
    }
   ],
   "source": [
    "# Clean the string columns\n",
    "string_columns = [\"owner\", \n",
    "                  \"location\"]\n",
    "df = clean_columns(df, string_columns, [remove_special_for_words, truncate, lower_case])\n",
    "df"
   ],
   "metadata": {
    "collapsed": false,
    "ExecuteTime": {
     "end_time": "2024-03-26T19:43:16.286842Z",
     "start_time": "2024-03-26T19:43:16.280876Z"
    }
   },
   "id": "67171db99d8fff6d"
  },
  {
   "cell_type": "code",
   "execution_count": 5,
   "outputs": [
    {
     "data": {
      "text/plain": "Index(['owner', 'location', 'pilot_parcel_no', 'underlying_parcel_number',\n       'begin_date', 'end_date', 'assmt_taxes', 'pilot_contract_amt',\n       'pilot_debt_service_amt', 'difference'],\n      dtype='object')"
     },
     "execution_count": 5,
     "metadata": {},
     "output_type": "execute_result"
    }
   ],
   "source": [
    "df.columns"
   ],
   "metadata": {
    "collapsed": false,
    "ExecuteTime": {
     "end_time": "2024-03-26T19:43:53.293211Z",
     "start_time": "2024-03-26T19:43:53.284700Z"
    }
   },
   "id": "4484a9731b2bde17"
  },
  {
   "cell_type": "code",
   "execution_count": 6,
   "outputs": [
    {
     "data": {
      "text/plain": "                                                 owner  \\\n0    1 south main llc wilmont hotel limited partner...   \n1                              100 south main partners   \n2                                      1030 poplar llc   \n3                         109 south second partnership   \n4                                    115 union ave llc   \n..                                                 ...   \n522                      wright medical technology inc   \n523                      wright medical technology inc   \n524                      wright medical technology inc   \n525                      wright medical technology inc   \n526                                       ws hchem llc   \n\n                    location pilot_parcel_no  \\\n0                 79 madison  ICC03900000000   \n1                   100 main  ICC07260000000   \n2                1030 poplar  ICC07900000000   \n3                 109 second  ICC07380000000   \n4                  115 union  ICC07330000000   \n..                       ...             ...   \n522              1023 cherry  IDB1590A000000   \n523      0 memphis arlington  IDB0000A000140   \n524  11576 memphis arlington  IDB0000A00015A   \n525  11576 memphis arlington  IDB0000A00020A   \n526             0 winchester  IDB0000C000160   \n\n                              underlying_parcel_number  begin_date  \\\n0    00203800000020, 00203800000030, 00203800000060...  08/02/2000   \n1                       0020530B000010, 0020530B000030  12/23/2008   \n2                                       0200900000007C  06/15/2021   \n3                                         205300000130  04/07/2011   \n4                                         205300000020  03/29/2011   \n..                                                 ...         ...   \n522                                     0015900000000D  12/31/2016   \n523                                     A0141L0A000040  12/31/2014   \n524                                     3000150000000D  12/31/2014   \n525                                     3000160000000D  12/31/2015   \n526                                     C024400A006820  06/01/2016   \n\n       end_date assmt_taxes pilot_contract_amt pilot_debt_service_amt  \\\n0    08/02/2024      240731             180548                      0   \n1    12/23/2023      112054               3070                  27246   \n2    06/15/2034        6722               6722                      0   \n3    04/07/2024       79863               3486                  19094   \n4    03/29/2021       29104              29104                      0   \n..          ...         ...                ...                    ...   \n522  12/31/2031        5522                100                   1381   \n523  12/31/2024       62901              62901                      0   \n524  12/31/2024       12884              12884                      0   \n525  12/31/2025        1240                100                    310   \n526  06/01/2023      129117             129117                      0   \n\n    difference  \n0       -60183  \n1       -81738  \n2            0  \n3       -57283  \n4            0  \n..         ...  \n522      -4042  \n523          0  \n524          0  \n525       -830  \n526          0  \n\n[527 rows x 10 columns]",
      "text/html": "<div>\n<style scoped>\n    .dataframe tbody tr th:only-of-type {\n        vertical-align: middle;\n    }\n\n    .dataframe tbody tr th {\n        vertical-align: top;\n    }\n\n    .dataframe thead th {\n        text-align: right;\n    }\n</style>\n<table border=\"1\" class=\"dataframe\">\n  <thead>\n    <tr style=\"text-align: right;\">\n      <th></th>\n      <th>owner</th>\n      <th>location</th>\n      <th>pilot_parcel_no</th>\n      <th>underlying_parcel_number</th>\n      <th>begin_date</th>\n      <th>end_date</th>\n      <th>assmt_taxes</th>\n      <th>pilot_contract_amt</th>\n      <th>pilot_debt_service_amt</th>\n      <th>difference</th>\n    </tr>\n  </thead>\n  <tbody>\n    <tr>\n      <th>0</th>\n      <td>1 south main llc wilmont hotel limited partner...</td>\n      <td>79 madison</td>\n      <td>ICC03900000000</td>\n      <td>00203800000020, 00203800000030, 00203800000060...</td>\n      <td>08/02/2000</td>\n      <td>08/02/2024</td>\n      <td>240731</td>\n      <td>180548</td>\n      <td>0</td>\n      <td>-60183</td>\n    </tr>\n    <tr>\n      <th>1</th>\n      <td>100 south main partners</td>\n      <td>100 main</td>\n      <td>ICC07260000000</td>\n      <td>0020530B000010, 0020530B000030</td>\n      <td>12/23/2008</td>\n      <td>12/23/2023</td>\n      <td>112054</td>\n      <td>3070</td>\n      <td>27246</td>\n      <td>-81738</td>\n    </tr>\n    <tr>\n      <th>2</th>\n      <td>1030 poplar llc</td>\n      <td>1030 poplar</td>\n      <td>ICC07900000000</td>\n      <td>0200900000007C</td>\n      <td>06/15/2021</td>\n      <td>06/15/2034</td>\n      <td>6722</td>\n      <td>6722</td>\n      <td>0</td>\n      <td>0</td>\n    </tr>\n    <tr>\n      <th>3</th>\n      <td>109 south second partnership</td>\n      <td>109 second</td>\n      <td>ICC07380000000</td>\n      <td>205300000130</td>\n      <td>04/07/2011</td>\n      <td>04/07/2024</td>\n      <td>79863</td>\n      <td>3486</td>\n      <td>19094</td>\n      <td>-57283</td>\n    </tr>\n    <tr>\n      <th>4</th>\n      <td>115 union ave llc</td>\n      <td>115 union</td>\n      <td>ICC07330000000</td>\n      <td>205300000020</td>\n      <td>03/29/2011</td>\n      <td>03/29/2021</td>\n      <td>29104</td>\n      <td>29104</td>\n      <td>0</td>\n      <td>0</td>\n    </tr>\n    <tr>\n      <th>...</th>\n      <td>...</td>\n      <td>...</td>\n      <td>...</td>\n      <td>...</td>\n      <td>...</td>\n      <td>...</td>\n      <td>...</td>\n      <td>...</td>\n      <td>...</td>\n      <td>...</td>\n    </tr>\n    <tr>\n      <th>522</th>\n      <td>wright medical technology inc</td>\n      <td>1023 cherry</td>\n      <td>IDB1590A000000</td>\n      <td>0015900000000D</td>\n      <td>12/31/2016</td>\n      <td>12/31/2031</td>\n      <td>5522</td>\n      <td>100</td>\n      <td>1381</td>\n      <td>-4042</td>\n    </tr>\n    <tr>\n      <th>523</th>\n      <td>wright medical technology inc</td>\n      <td>0 memphis arlington</td>\n      <td>IDB0000A000140</td>\n      <td>A0141L0A000040</td>\n      <td>12/31/2014</td>\n      <td>12/31/2024</td>\n      <td>62901</td>\n      <td>62901</td>\n      <td>0</td>\n      <td>0</td>\n    </tr>\n    <tr>\n      <th>524</th>\n      <td>wright medical technology inc</td>\n      <td>11576 memphis arlington</td>\n      <td>IDB0000A00015A</td>\n      <td>3000150000000D</td>\n      <td>12/31/2014</td>\n      <td>12/31/2024</td>\n      <td>12884</td>\n      <td>12884</td>\n      <td>0</td>\n      <td>0</td>\n    </tr>\n    <tr>\n      <th>525</th>\n      <td>wright medical technology inc</td>\n      <td>11576 memphis arlington</td>\n      <td>IDB0000A00020A</td>\n      <td>3000160000000D</td>\n      <td>12/31/2015</td>\n      <td>12/31/2025</td>\n      <td>1240</td>\n      <td>100</td>\n      <td>310</td>\n      <td>-830</td>\n    </tr>\n    <tr>\n      <th>526</th>\n      <td>ws hchem llc</td>\n      <td>0 winchester</td>\n      <td>IDB0000C000160</td>\n      <td>C024400A006820</td>\n      <td>06/01/2016</td>\n      <td>06/01/2023</td>\n      <td>129117</td>\n      <td>129117</td>\n      <td>0</td>\n      <td>0</td>\n    </tr>\n  </tbody>\n</table>\n<p>527 rows × 10 columns</p>\n</div>"
     },
     "execution_count": 6,
     "metadata": {},
     "output_type": "execute_result"
    }
   ],
   "source": [
    "# Clean the numeric columns\n",
    "numeric_columns = ['assmt_taxes', 'pilot_contract_amt',\n",
    "       'pilot_debt_service_amt', 'difference']\n",
    "df = clean_columns(df, numeric_columns, [remove_special_for_numbers])\n",
    "df"
   ],
   "metadata": {
    "collapsed": false,
    "ExecuteTime": {
     "end_time": "2024-03-26T19:44:22.958777Z",
     "start_time": "2024-03-26T19:44:22.944043Z"
    }
   },
   "id": "fd553dbc31168c70"
  },
  {
   "cell_type": "code",
   "execution_count": 7,
   "outputs": [
    {
     "data": {
      "text/plain": "owner                       object\nlocation                    object\npilot_parcel_no             object\nunderlying_parcel_number    object\nbegin_date                  object\nend_date                    object\nassmt_taxes                 object\npilot_contract_amt          object\npilot_debt_service_amt      object\ndifference                  object\ndtype: object"
     },
     "execution_count": 7,
     "metadata": {},
     "output_type": "execute_result"
    }
   ],
   "source": [
    "# Check the data types of each variable\n",
    "df.dtypes"
   ],
   "metadata": {
    "collapsed": false,
    "ExecuteTime": {
     "end_time": "2024-03-26T19:44:35.412336Z",
     "start_time": "2024-03-26T19:44:35.401681Z"
    }
   },
   "id": "fb1c412d6c764d7b"
  },
  {
   "cell_type": "code",
   "execution_count": 8,
   "outputs": [
    {
     "data": {
      "text/plain": "board                                        object\nnumber_of_contracts                           int64\namount_billed_pilot_inl                     float64\namount_billed_debt_service                  float64\nassessment                                  float64\ntax_based_on_assessment_at_2021_tax_rate    float64\ndifference                                  float64\npercentage_total_pilot_billing              float64\ndtype: object"
     },
     "execution_count": 8,
     "metadata": {},
     "output_type": "execute_result"
    }
   ],
   "source": [
    "# Fix the data type of each variable\n",
    "names_to_types = {\"board\": str, \n",
    "                  \"number_of_contracts\": int, \n",
    "                  \"amount_billed_pilot_inl\": float, \n",
    "                  \"amount_billed_debt_service\": float, \n",
    "                  \"assessment\": float,\n",
    "                  \"tax_based_on_assessment_at_2021_tax_rate\": float, \n",
    "                  \"difference\": float,\n",
    "                  \"percentage_total_pilot_billing\": float,\n",
    "                  }\n",
    "df = cast_data_types(df, names_to_types)\n",
    "df.dtypes"
   ],
   "metadata": {
    "collapsed": false,
    "ExecuteTime": {
     "end_time": "2024-03-26T19:27:05.124905Z",
     "start_time": "2024-03-26T19:27:05.115821Z"
    }
   },
   "id": "fa0f0232d27d41fe"
  },
  {
   "cell_type": "code",
   "execution_count": 9,
   "outputs": [
    {
     "data": {
      "text/plain": "                                               board  number_of_contracts  \\\nid                                                                          \n5b1f4c0c65a3             downtown memphis commission                  124   \nd5fe3a85ec4e                             edge shelby                  241   \nabb34861ca91     industrial development of arlington                   10   \naada4183f85c      industrial development of bartlett                    6   \n91e543f3085f  industrial development of collierville                   12   \n3f1cf0abc31c    industrial development of germantown                    4   \n757a7152194c    industrial development of millington                    1   \n3bcfcbd3a12d          health education board memphis                  107   \n64c9e33b120e           health education board shelby                    6   \ndf3a7c5fc143                 miscellaneous contracts                   10   \nac18571846b6        city county government contracts                    5   \n\n              amount_billed_pilot_inl  amount_billed_debt_service  \\\nid                                                                  \n5b1f4c0c65a3               2265277.82                  1378186.61   \nd5fe3a85ec4e               4357705.55                  5922590.25   \nabb34861ca91                116203.75                    49372.12   \naada4183f85c                 21998.39                    47646.73   \n91e543f3085f                690322.00                   914883.78   \n3f1cf0abc31c                310191.18                   211034.77   \n757a7152194c                 50530.09                    80385.75   \n3bcfcbd3a12d               1627887.89                        0.00   \n64c9e33b120e                 88595.41                        0.00   \ndf3a7c5fc143                 35460.00                        0.00   \nac18571846b6                  5868.72                        0.00   \n\n               assessment  tax_based_on_assessment_at_2021_tax_rate  \\\nid                                                                    \n5b1f4c0c65a3  403472360.0                               13677713.00   \nd5fe3a85ec4e  845013990.0                               28645974.26   \nabb34861ca91    8906110.0                                 301917.13   \naada4183f85c    7340910.0                                 248856.85   \n91e543f3085f  103923710.0                                3523013.77   \n3f1cf0abc31c   34051040.0                                1154330.26   \n757a7152194c   10751680.0                                 364481.95   \n3bcfcbd3a12d  245059120.0                                8307504.17   \n64c9e33b120e   30543560.0                                1035426.68   \ndf3a7c5fc143   10528400.0                                 356912.76   \nac18571846b6    3371400.0                                 114290.46   \n\n               difference  percentage_total_pilot_billing  \nid                                                         \n5b1f4c0c65a3 -10034248.57                           20.05  \nd5fe3a85ec4e -18365678.46                           56.57  \nabb34861ca91   -136341.26                            0.91  \naada4183f85c   -179211.73                            0.38  \n91e543f3085f  -1917807.99                            8.83  \n3f1cf0abc31c   -633104.31                            2.87  \n757a7152194c   -233566.11                            0.72  \n3bcfcbd3a12d  -6679616.28                            8.96  \n64c9e33b120e   -946831.27                            0.49  \ndf3a7c5fc143   -321452.76                            0.20  \nac18571846b6   -108421.74                            0.03  ",
      "text/html": "<div>\n<style scoped>\n    .dataframe tbody tr th:only-of-type {\n        vertical-align: middle;\n    }\n\n    .dataframe tbody tr th {\n        vertical-align: top;\n    }\n\n    .dataframe thead th {\n        text-align: right;\n    }\n</style>\n<table border=\"1\" class=\"dataframe\">\n  <thead>\n    <tr style=\"text-align: right;\">\n      <th></th>\n      <th>board</th>\n      <th>number_of_contracts</th>\n      <th>amount_billed_pilot_inl</th>\n      <th>amount_billed_debt_service</th>\n      <th>assessment</th>\n      <th>tax_based_on_assessment_at_2021_tax_rate</th>\n      <th>difference</th>\n      <th>percentage_total_pilot_billing</th>\n    </tr>\n    <tr>\n      <th>id</th>\n      <th></th>\n      <th></th>\n      <th></th>\n      <th></th>\n      <th></th>\n      <th></th>\n      <th></th>\n      <th></th>\n    </tr>\n  </thead>\n  <tbody>\n    <tr>\n      <th>5b1f4c0c65a3</th>\n      <td>downtown memphis commission</td>\n      <td>124</td>\n      <td>2265277.82</td>\n      <td>1378186.61</td>\n      <td>403472360.0</td>\n      <td>13677713.00</td>\n      <td>-10034248.57</td>\n      <td>20.05</td>\n    </tr>\n    <tr>\n      <th>d5fe3a85ec4e</th>\n      <td>edge shelby</td>\n      <td>241</td>\n      <td>4357705.55</td>\n      <td>5922590.25</td>\n      <td>845013990.0</td>\n      <td>28645974.26</td>\n      <td>-18365678.46</td>\n      <td>56.57</td>\n    </tr>\n    <tr>\n      <th>abb34861ca91</th>\n      <td>industrial development of arlington</td>\n      <td>10</td>\n      <td>116203.75</td>\n      <td>49372.12</td>\n      <td>8906110.0</td>\n      <td>301917.13</td>\n      <td>-136341.26</td>\n      <td>0.91</td>\n    </tr>\n    <tr>\n      <th>aada4183f85c</th>\n      <td>industrial development of bartlett</td>\n      <td>6</td>\n      <td>21998.39</td>\n      <td>47646.73</td>\n      <td>7340910.0</td>\n      <td>248856.85</td>\n      <td>-179211.73</td>\n      <td>0.38</td>\n    </tr>\n    <tr>\n      <th>91e543f3085f</th>\n      <td>industrial development of collierville</td>\n      <td>12</td>\n      <td>690322.00</td>\n      <td>914883.78</td>\n      <td>103923710.0</td>\n      <td>3523013.77</td>\n      <td>-1917807.99</td>\n      <td>8.83</td>\n    </tr>\n    <tr>\n      <th>3f1cf0abc31c</th>\n      <td>industrial development of germantown</td>\n      <td>4</td>\n      <td>310191.18</td>\n      <td>211034.77</td>\n      <td>34051040.0</td>\n      <td>1154330.26</td>\n      <td>-633104.31</td>\n      <td>2.87</td>\n    </tr>\n    <tr>\n      <th>757a7152194c</th>\n      <td>industrial development of millington</td>\n      <td>1</td>\n      <td>50530.09</td>\n      <td>80385.75</td>\n      <td>10751680.0</td>\n      <td>364481.95</td>\n      <td>-233566.11</td>\n      <td>0.72</td>\n    </tr>\n    <tr>\n      <th>3bcfcbd3a12d</th>\n      <td>health education board memphis</td>\n      <td>107</td>\n      <td>1627887.89</td>\n      <td>0.00</td>\n      <td>245059120.0</td>\n      <td>8307504.17</td>\n      <td>-6679616.28</td>\n      <td>8.96</td>\n    </tr>\n    <tr>\n      <th>64c9e33b120e</th>\n      <td>health education board shelby</td>\n      <td>6</td>\n      <td>88595.41</td>\n      <td>0.00</td>\n      <td>30543560.0</td>\n      <td>1035426.68</td>\n      <td>-946831.27</td>\n      <td>0.49</td>\n    </tr>\n    <tr>\n      <th>df3a7c5fc143</th>\n      <td>miscellaneous contracts</td>\n      <td>10</td>\n      <td>35460.00</td>\n      <td>0.00</td>\n      <td>10528400.0</td>\n      <td>356912.76</td>\n      <td>-321452.76</td>\n      <td>0.20</td>\n    </tr>\n    <tr>\n      <th>ac18571846b6</th>\n      <td>city county government contracts</td>\n      <td>5</td>\n      <td>5868.72</td>\n      <td>0.00</td>\n      <td>3371400.0</td>\n      <td>114290.46</td>\n      <td>-108421.74</td>\n      <td>0.03</td>\n    </tr>\n  </tbody>\n</table>\n</div>"
     },
     "execution_count": 9,
     "metadata": {},
     "output_type": "execute_result"
    }
   ],
   "source": [
    "# Create a unique index column based on the values in the identifying column\n",
    "# Note: Ids are based on a deterministic hash, which means they are \n",
    "# reproducible even if the function is run by a different user at a different time,\n",
    "# as long as the string in the identifying column is the same. \n",
    "\n",
    "identifying_columns = [\"board\"]\n",
    "df = set_unique_index(df=df, columns_to_hash = identifying_columns, index_length_limit=12)\n",
    "df"
   ],
   "metadata": {
    "collapsed": false,
    "ExecuteTime": {
     "end_time": "2024-03-26T19:27:08.251533Z",
     "start_time": "2024-03-26T19:27:08.249393Z"
    }
   },
   "id": "fa13dd82fd715b68"
  },
  {
   "cell_type": "code",
   "execution_count": 10,
   "outputs": [],
   "source": [
    "# Save the now-clean csv and convert it to utf-8 format\n",
    "outfile_path = \"../data/processed/s2_in_lieu_contracts_by_owner.csv\"\n",
    "df.to_csv(outfile_path)\n",
    "convert_utf8(original_file_path=outfile_path, new_file_path=outfile_path)"
   ],
   "metadata": {
    "collapsed": false,
    "ExecuteTime": {
     "end_time": "2024-03-26T19:27:29.581115Z",
     "start_time": "2024-03-26T19:27:29.571296Z"
    }
   },
   "id": "209e2ad7bce3421"
  }
 ],
 "metadata": {
  "kernelspec": {
   "display_name": "Python 3",
   "language": "python",
   "name": "python3"
  },
  "language_info": {
   "codemirror_mode": {
    "name": "ipython",
    "version": 2
   },
   "file_extension": ".py",
   "mimetype": "text/x-python",
   "name": "python",
   "nbconvert_exporter": "python",
   "pygments_lexer": "ipython2",
   "version": "2.7.6"
  }
 },
 "nbformat": 4,
 "nbformat_minor": 5
}
