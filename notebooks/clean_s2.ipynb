{
 "cells": [
  {
   "cell_type": "code",
   "execution_count": 32,
   "outputs": [],
   "source": [
    "import pandas as pd\n",
    "from utils import *"
   ],
   "metadata": {
    "collapsed": false,
    "ExecuteTime": {
     "end_time": "2024-03-28T00:00:53.221234Z",
     "start_time": "2024-03-28T00:00:53.195995Z"
    }
   },
   "id": "f890863474a831e4"
  },
  {
   "cell_type": "markdown",
   "source": [
    "<h1>Cleaning a CSV</h1>"
   ],
   "metadata": {
    "collapsed": false
   },
   "id": "37c2459a70173916"
  },
  {
   "cell_type": "markdown",
   "source": [
    "Read in a CSV"
   ],
   "metadata": {
    "collapsed": false
   },
   "id": "70312fa54485148"
  },
  {
   "cell_type": "code",
   "execution_count": 33,
   "outputs": [
    {
     "data": {
      "text/plain": "                                                 Owner  \\\n0    1 SOUTH MAIN LLC - WILMONT HOTEL LIMITED PARTN...   \n1                              100 SOUTH MAIN PARTNERS   \n2                                      1030 POPLAR LLC   \n3                         109 SOUTH SECOND PARTNERSHIP   \n4                                    115 UNION AVE LLC   \n..                                                 ...   \n522                     WRIGHT MEDICAL TECHNOLOGY, INC   \n523                     WRIGHT MEDICAL TECHNOLOGY, INC   \n524                     WRIGHT MEDICAL TECHNOLOGY, INC   \n525                     WRIGHT MEDICAL TECHNOLOGY, INC   \n526                                      WS HCHEM, LLC   \n\n                    Location PILOT Parcel No  \\\n0                 79 MADISON  ICC03900000000   \n1                   100 MAIN  ICC07260000000   \n2                1030 POPLAR  ICC07900000000   \n3                 109 SECOND  ICC07380000000   \n4                  115 UNION  ICC07330000000   \n..                       ...             ...   \n522              1023 CHERRY  IDB1590A000000   \n523      0 MEMPHIS-ARLINGTON  IDB0000A000140   \n524  11576 MEMPHIS-ARLINGTON  IDB0000A00015A   \n525  11576 MEMPHIS ARLINGTON  IDB0000A00020A   \n526             0 WINCHESTER  IDB0000C000160   \n\n                              Underlying Parcel Number  Begin Date  \\\n0    00203800000020, 00203800000030, 00203800000060...  08/02/2000   \n1                       0020530B000010, 0020530B000030  12/23/2008   \n2                                       0200900000007C  06/15/2021   \n3                                         205300000130  04/07/2011   \n4                                         205300000020  03/29/2011   \n..                                                 ...         ...   \n522                                     0015900000000D  12/31/2016   \n523                                     A0141L0A000040  12/31/2014   \n524                                     3000150000000D  12/31/2014   \n525                                     3000160000000D  12/31/2015   \n526                                     C024400A006820  06/01/2016   \n\n       End Date Assmt Taxes PILOT Contract Amt PILOT Debt Service Amt  \\\n0    08/02/2024    $240,731           $180,548                     $0   \n1    12/23/2023    $112,054             $3,070                $27,246   \n2    06/15/2034      $6,722             $6,722                     $0   \n3    04/07/2024     $79,863             $3,486                $19,094   \n4    03/29/2021     $29,104            $29,104                     $0   \n..          ...         ...                ...                    ...   \n522  12/31/2031      $5,522               $100                 $1,381   \n523  12/31/2024     $62,901            $62,901                     $0   \n524  12/31/2024     $12,884            $12,884                     $0   \n525  12/31/2025      $1,240               $100                   $310   \n526  06/01/2023    $129,117           $129,117                     $0   \n\n    Difference  \n0     -$60,183  \n1     -$81,738  \n2           $0  \n3     -$57,283  \n4           $0  \n..         ...  \n522    -$4,042  \n523         $0  \n524         $0  \n525      -$830  \n526         $0  \n\n[527 rows x 10 columns]",
      "text/html": "<div>\n<style scoped>\n    .dataframe tbody tr th:only-of-type {\n        vertical-align: middle;\n    }\n\n    .dataframe tbody tr th {\n        vertical-align: top;\n    }\n\n    .dataframe thead th {\n        text-align: right;\n    }\n</style>\n<table border=\"1\" class=\"dataframe\">\n  <thead>\n    <tr style=\"text-align: right;\">\n      <th></th>\n      <th>Owner</th>\n      <th>Location</th>\n      <th>PILOT Parcel No</th>\n      <th>Underlying Parcel Number</th>\n      <th>Begin Date</th>\n      <th>End Date</th>\n      <th>Assmt Taxes</th>\n      <th>PILOT Contract Amt</th>\n      <th>PILOT Debt Service Amt</th>\n      <th>Difference</th>\n    </tr>\n  </thead>\n  <tbody>\n    <tr>\n      <th>0</th>\n      <td>1 SOUTH MAIN LLC - WILMONT HOTEL LIMITED PARTN...</td>\n      <td>79 MADISON</td>\n      <td>ICC03900000000</td>\n      <td>00203800000020, 00203800000030, 00203800000060...</td>\n      <td>08/02/2000</td>\n      <td>08/02/2024</td>\n      <td>$240,731</td>\n      <td>$180,548</td>\n      <td>$0</td>\n      <td>-$60,183</td>\n    </tr>\n    <tr>\n      <th>1</th>\n      <td>100 SOUTH MAIN PARTNERS</td>\n      <td>100 MAIN</td>\n      <td>ICC07260000000</td>\n      <td>0020530B000010, 0020530B000030</td>\n      <td>12/23/2008</td>\n      <td>12/23/2023</td>\n      <td>$112,054</td>\n      <td>$3,070</td>\n      <td>$27,246</td>\n      <td>-$81,738</td>\n    </tr>\n    <tr>\n      <th>2</th>\n      <td>1030 POPLAR LLC</td>\n      <td>1030 POPLAR</td>\n      <td>ICC07900000000</td>\n      <td>0200900000007C</td>\n      <td>06/15/2021</td>\n      <td>06/15/2034</td>\n      <td>$6,722</td>\n      <td>$6,722</td>\n      <td>$0</td>\n      <td>$0</td>\n    </tr>\n    <tr>\n      <th>3</th>\n      <td>109 SOUTH SECOND PARTNERSHIP</td>\n      <td>109 SECOND</td>\n      <td>ICC07380000000</td>\n      <td>205300000130</td>\n      <td>04/07/2011</td>\n      <td>04/07/2024</td>\n      <td>$79,863</td>\n      <td>$3,486</td>\n      <td>$19,094</td>\n      <td>-$57,283</td>\n    </tr>\n    <tr>\n      <th>4</th>\n      <td>115 UNION AVE LLC</td>\n      <td>115 UNION</td>\n      <td>ICC07330000000</td>\n      <td>205300000020</td>\n      <td>03/29/2011</td>\n      <td>03/29/2021</td>\n      <td>$29,104</td>\n      <td>$29,104</td>\n      <td>$0</td>\n      <td>$0</td>\n    </tr>\n    <tr>\n      <th>...</th>\n      <td>...</td>\n      <td>...</td>\n      <td>...</td>\n      <td>...</td>\n      <td>...</td>\n      <td>...</td>\n      <td>...</td>\n      <td>...</td>\n      <td>...</td>\n      <td>...</td>\n    </tr>\n    <tr>\n      <th>522</th>\n      <td>WRIGHT MEDICAL TECHNOLOGY, INC</td>\n      <td>1023 CHERRY</td>\n      <td>IDB1590A000000</td>\n      <td>0015900000000D</td>\n      <td>12/31/2016</td>\n      <td>12/31/2031</td>\n      <td>$5,522</td>\n      <td>$100</td>\n      <td>$1,381</td>\n      <td>-$4,042</td>\n    </tr>\n    <tr>\n      <th>523</th>\n      <td>WRIGHT MEDICAL TECHNOLOGY, INC</td>\n      <td>0 MEMPHIS-ARLINGTON</td>\n      <td>IDB0000A000140</td>\n      <td>A0141L0A000040</td>\n      <td>12/31/2014</td>\n      <td>12/31/2024</td>\n      <td>$62,901</td>\n      <td>$62,901</td>\n      <td>$0</td>\n      <td>$0</td>\n    </tr>\n    <tr>\n      <th>524</th>\n      <td>WRIGHT MEDICAL TECHNOLOGY, INC</td>\n      <td>11576 MEMPHIS-ARLINGTON</td>\n      <td>IDB0000A00015A</td>\n      <td>3000150000000D</td>\n      <td>12/31/2014</td>\n      <td>12/31/2024</td>\n      <td>$12,884</td>\n      <td>$12,884</td>\n      <td>$0</td>\n      <td>$0</td>\n    </tr>\n    <tr>\n      <th>525</th>\n      <td>WRIGHT MEDICAL TECHNOLOGY, INC</td>\n      <td>11576 MEMPHIS ARLINGTON</td>\n      <td>IDB0000A00020A</td>\n      <td>3000160000000D</td>\n      <td>12/31/2015</td>\n      <td>12/31/2025</td>\n      <td>$1,240</td>\n      <td>$100</td>\n      <td>$310</td>\n      <td>-$830</td>\n    </tr>\n    <tr>\n      <th>526</th>\n      <td>WS HCHEM, LLC</td>\n      <td>0 WINCHESTER</td>\n      <td>IDB0000C000160</td>\n      <td>C024400A006820</td>\n      <td>06/01/2016</td>\n      <td>06/01/2023</td>\n      <td>$129,117</td>\n      <td>$129,117</td>\n      <td>$0</td>\n      <td>$0</td>\n    </tr>\n  </tbody>\n</table>\n<p>527 rows × 10 columns</p>\n</div>"
     },
     "execution_count": 33,
     "metadata": {},
     "output_type": "execute_result"
    }
   ],
   "source": [
    "# load a dataframe\n",
    "infile_path = \"../data/raw/silver_shelby_county_properties_municipality_breakdown - s2_in_lieu_contracts_by_owner.csv\"\n",
    "df = pd.read_csv(infile_path)\n",
    "df"
   ],
   "metadata": {
    "collapsed": false,
    "ExecuteTime": {
     "end_time": "2024-03-28T00:00:53.236701Z",
     "start_time": "2024-03-28T00:00:53.200866Z"
    }
   },
   "id": "50cef4de40a6855d"
  },
  {
   "cell_type": "code",
   "execution_count": 34,
   "outputs": [
    {
     "data": {
      "text/plain": "Index(['owner', 'location', 'pilot_parcel_no', 'underlying_parcel_number',\n       'begin_date', 'end_date', 'assmt_taxes', 'pilot_contract_amt',\n       'pilot_debt_service_amt', 'difference'],\n      dtype='object')"
     },
     "execution_count": 34,
     "metadata": {},
     "output_type": "execute_result"
    }
   ],
   "source": [
    "# Clean the column headers\n",
    "df = clean_headers(df, [remove_special_for_words, truncate, snake_case, lower_case])\n",
    "df.columns"
   ],
   "metadata": {
    "collapsed": false,
    "ExecuteTime": {
     "end_time": "2024-03-28T00:00:53.237894Z",
     "start_time": "2024-03-28T00:00:53.212591Z"
    }
   },
   "id": "f8e6a7fb4013b6e6"
  },
  {
   "cell_type": "code",
   "execution_count": 35,
   "outputs": [
    {
     "data": {
      "text/plain": "                                                 owner  \\\n0    1 south main llc wilmont hotel limited partner...   \n1                              100 south main partners   \n2                                      1030 poplar llc   \n3                         109 south second partnership   \n4                                    115 union ave llc   \n..                                                 ...   \n522                      wright medical technology inc   \n523                      wright medical technology inc   \n524                      wright medical technology inc   \n525                      wright medical technology inc   \n526                                       ws hchem llc   \n\n                    location pilot_parcel_no  \\\n0                 79 madison  ICC03900000000   \n1                   100 main  ICC07260000000   \n2                1030 poplar  ICC07900000000   \n3                 109 second  ICC07380000000   \n4                  115 union  ICC07330000000   \n..                       ...             ...   \n522              1023 cherry  IDB1590A000000   \n523      0 memphis arlington  IDB0000A000140   \n524  11576 memphis arlington  IDB0000A00015A   \n525  11576 memphis arlington  IDB0000A00020A   \n526             0 winchester  IDB0000C000160   \n\n                              underlying_parcel_number  begin_date  \\\n0    00203800000020, 00203800000030, 00203800000060...  08/02/2000   \n1                       0020530B000010, 0020530B000030  12/23/2008   \n2                                       0200900000007C  06/15/2021   \n3                                         205300000130  04/07/2011   \n4                                         205300000020  03/29/2011   \n..                                                 ...         ...   \n522                                     0015900000000D  12/31/2016   \n523                                     A0141L0A000040  12/31/2014   \n524                                     3000150000000D  12/31/2014   \n525                                     3000160000000D  12/31/2015   \n526                                     C024400A006820  06/01/2016   \n\n       end_date assmt_taxes pilot_contract_amt pilot_debt_service_amt  \\\n0    08/02/2024    $240,731           $180,548                     $0   \n1    12/23/2023    $112,054             $3,070                $27,246   \n2    06/15/2034      $6,722             $6,722                     $0   \n3    04/07/2024     $79,863             $3,486                $19,094   \n4    03/29/2021     $29,104            $29,104                     $0   \n..          ...         ...                ...                    ...   \n522  12/31/2031      $5,522               $100                 $1,381   \n523  12/31/2024     $62,901            $62,901                     $0   \n524  12/31/2024     $12,884            $12,884                     $0   \n525  12/31/2025      $1,240               $100                   $310   \n526  06/01/2023    $129,117           $129,117                     $0   \n\n    difference  \n0     -$60,183  \n1     -$81,738  \n2           $0  \n3     -$57,283  \n4           $0  \n..         ...  \n522    -$4,042  \n523         $0  \n524         $0  \n525      -$830  \n526         $0  \n\n[527 rows x 10 columns]",
      "text/html": "<div>\n<style scoped>\n    .dataframe tbody tr th:only-of-type {\n        vertical-align: middle;\n    }\n\n    .dataframe tbody tr th {\n        vertical-align: top;\n    }\n\n    .dataframe thead th {\n        text-align: right;\n    }\n</style>\n<table border=\"1\" class=\"dataframe\">\n  <thead>\n    <tr style=\"text-align: right;\">\n      <th></th>\n      <th>owner</th>\n      <th>location</th>\n      <th>pilot_parcel_no</th>\n      <th>underlying_parcel_number</th>\n      <th>begin_date</th>\n      <th>end_date</th>\n      <th>assmt_taxes</th>\n      <th>pilot_contract_amt</th>\n      <th>pilot_debt_service_amt</th>\n      <th>difference</th>\n    </tr>\n  </thead>\n  <tbody>\n    <tr>\n      <th>0</th>\n      <td>1 south main llc wilmont hotel limited partner...</td>\n      <td>79 madison</td>\n      <td>ICC03900000000</td>\n      <td>00203800000020, 00203800000030, 00203800000060...</td>\n      <td>08/02/2000</td>\n      <td>08/02/2024</td>\n      <td>$240,731</td>\n      <td>$180,548</td>\n      <td>$0</td>\n      <td>-$60,183</td>\n    </tr>\n    <tr>\n      <th>1</th>\n      <td>100 south main partners</td>\n      <td>100 main</td>\n      <td>ICC07260000000</td>\n      <td>0020530B000010, 0020530B000030</td>\n      <td>12/23/2008</td>\n      <td>12/23/2023</td>\n      <td>$112,054</td>\n      <td>$3,070</td>\n      <td>$27,246</td>\n      <td>-$81,738</td>\n    </tr>\n    <tr>\n      <th>2</th>\n      <td>1030 poplar llc</td>\n      <td>1030 poplar</td>\n      <td>ICC07900000000</td>\n      <td>0200900000007C</td>\n      <td>06/15/2021</td>\n      <td>06/15/2034</td>\n      <td>$6,722</td>\n      <td>$6,722</td>\n      <td>$0</td>\n      <td>$0</td>\n    </tr>\n    <tr>\n      <th>3</th>\n      <td>109 south second partnership</td>\n      <td>109 second</td>\n      <td>ICC07380000000</td>\n      <td>205300000130</td>\n      <td>04/07/2011</td>\n      <td>04/07/2024</td>\n      <td>$79,863</td>\n      <td>$3,486</td>\n      <td>$19,094</td>\n      <td>-$57,283</td>\n    </tr>\n    <tr>\n      <th>4</th>\n      <td>115 union ave llc</td>\n      <td>115 union</td>\n      <td>ICC07330000000</td>\n      <td>205300000020</td>\n      <td>03/29/2011</td>\n      <td>03/29/2021</td>\n      <td>$29,104</td>\n      <td>$29,104</td>\n      <td>$0</td>\n      <td>$0</td>\n    </tr>\n    <tr>\n      <th>...</th>\n      <td>...</td>\n      <td>...</td>\n      <td>...</td>\n      <td>...</td>\n      <td>...</td>\n      <td>...</td>\n      <td>...</td>\n      <td>...</td>\n      <td>...</td>\n      <td>...</td>\n    </tr>\n    <tr>\n      <th>522</th>\n      <td>wright medical technology inc</td>\n      <td>1023 cherry</td>\n      <td>IDB1590A000000</td>\n      <td>0015900000000D</td>\n      <td>12/31/2016</td>\n      <td>12/31/2031</td>\n      <td>$5,522</td>\n      <td>$100</td>\n      <td>$1,381</td>\n      <td>-$4,042</td>\n    </tr>\n    <tr>\n      <th>523</th>\n      <td>wright medical technology inc</td>\n      <td>0 memphis arlington</td>\n      <td>IDB0000A000140</td>\n      <td>A0141L0A000040</td>\n      <td>12/31/2014</td>\n      <td>12/31/2024</td>\n      <td>$62,901</td>\n      <td>$62,901</td>\n      <td>$0</td>\n      <td>$0</td>\n    </tr>\n    <tr>\n      <th>524</th>\n      <td>wright medical technology inc</td>\n      <td>11576 memphis arlington</td>\n      <td>IDB0000A00015A</td>\n      <td>3000150000000D</td>\n      <td>12/31/2014</td>\n      <td>12/31/2024</td>\n      <td>$12,884</td>\n      <td>$12,884</td>\n      <td>$0</td>\n      <td>$0</td>\n    </tr>\n    <tr>\n      <th>525</th>\n      <td>wright medical technology inc</td>\n      <td>11576 memphis arlington</td>\n      <td>IDB0000A00020A</td>\n      <td>3000160000000D</td>\n      <td>12/31/2015</td>\n      <td>12/31/2025</td>\n      <td>$1,240</td>\n      <td>$100</td>\n      <td>$310</td>\n      <td>-$830</td>\n    </tr>\n    <tr>\n      <th>526</th>\n      <td>ws hchem llc</td>\n      <td>0 winchester</td>\n      <td>IDB0000C000160</td>\n      <td>C024400A006820</td>\n      <td>06/01/2016</td>\n      <td>06/01/2023</td>\n      <td>$129,117</td>\n      <td>$129,117</td>\n      <td>$0</td>\n      <td>$0</td>\n    </tr>\n  </tbody>\n</table>\n<p>527 rows × 10 columns</p>\n</div>"
     },
     "execution_count": 35,
     "metadata": {},
     "output_type": "execute_result"
    }
   ],
   "source": [
    "# Clean the string columns\n",
    "string_columns = [\"owner\", \n",
    "                  \"location\"]\n",
    "df = clean_columns(df, string_columns, [remove_special_for_words, truncate, lower_case])\n",
    "df"
   ],
   "metadata": {
    "collapsed": false,
    "ExecuteTime": {
     "end_time": "2024-03-28T00:00:53.238479Z",
     "start_time": "2024-03-28T00:00:53.220168Z"
    }
   },
   "id": "67171db99d8fff6d"
  },
  {
   "cell_type": "code",
   "execution_count": 36,
   "outputs": [
    {
     "data": {
      "text/plain": "Index(['owner', 'location', 'pilot_parcel_no', 'underlying_parcel_number',\n       'begin_date', 'end_date', 'assmt_taxes', 'pilot_contract_amt',\n       'pilot_debt_service_amt', 'difference'],\n      dtype='object')"
     },
     "execution_count": 36,
     "metadata": {},
     "output_type": "execute_result"
    }
   ],
   "source": [
    "df.columns"
   ],
   "metadata": {
    "collapsed": false,
    "ExecuteTime": {
     "start_time": "2024-03-28T00:00:53.223020Z"
    }
   },
   "id": "4484a9731b2bde17"
  },
  {
   "cell_type": "code",
   "execution_count": 37,
   "outputs": [
    {
     "data": {
      "text/plain": "                                                 owner  \\\n0    1 south main llc wilmont hotel limited partner...   \n1                              100 south main partners   \n2                                      1030 poplar llc   \n3                         109 south second partnership   \n4                                    115 union ave llc   \n..                                                 ...   \n522                      wright medical technology inc   \n523                      wright medical technology inc   \n524                      wright medical technology inc   \n525                      wright medical technology inc   \n526                                       ws hchem llc   \n\n                    location pilot_parcel_no  \\\n0                 79 madison  ICC03900000000   \n1                   100 main  ICC07260000000   \n2                1030 poplar  ICC07900000000   \n3                 109 second  ICC07380000000   \n4                  115 union  ICC07330000000   \n..                       ...             ...   \n522              1023 cherry  IDB1590A000000   \n523      0 memphis arlington  IDB0000A000140   \n524  11576 memphis arlington  IDB0000A00015A   \n525  11576 memphis arlington  IDB0000A00020A   \n526             0 winchester  IDB0000C000160   \n\n                              underlying_parcel_number  begin_date  \\\n0    00203800000020, 00203800000030, 00203800000060...  08/02/2000   \n1                       0020530B000010, 0020530B000030  12/23/2008   \n2                                       0200900000007C  06/15/2021   \n3                                         205300000130  04/07/2011   \n4                                         205300000020  03/29/2011   \n..                                                 ...         ...   \n522                                     0015900000000D  12/31/2016   \n523                                     A0141L0A000040  12/31/2014   \n524                                     3000150000000D  12/31/2014   \n525                                     3000160000000D  12/31/2015   \n526                                     C024400A006820  06/01/2016   \n\n       end_date assmt_taxes pilot_contract_amt pilot_debt_service_amt  \\\n0    08/02/2024      240731             180548                      0   \n1    12/23/2023      112054               3070                  27246   \n2    06/15/2034        6722               6722                      0   \n3    04/07/2024       79863               3486                  19094   \n4    03/29/2021       29104              29104                      0   \n..          ...         ...                ...                    ...   \n522  12/31/2031        5522                100                   1381   \n523  12/31/2024       62901              62901                      0   \n524  12/31/2024       12884              12884                      0   \n525  12/31/2025        1240                100                    310   \n526  06/01/2023      129117             129117                      0   \n\n    difference  \n0       -60183  \n1       -81738  \n2            0  \n3       -57283  \n4            0  \n..         ...  \n522      -4042  \n523          0  \n524          0  \n525       -830  \n526          0  \n\n[527 rows x 10 columns]",
      "text/html": "<div>\n<style scoped>\n    .dataframe tbody tr th:only-of-type {\n        vertical-align: middle;\n    }\n\n    .dataframe tbody tr th {\n        vertical-align: top;\n    }\n\n    .dataframe thead th {\n        text-align: right;\n    }\n</style>\n<table border=\"1\" class=\"dataframe\">\n  <thead>\n    <tr style=\"text-align: right;\">\n      <th></th>\n      <th>owner</th>\n      <th>location</th>\n      <th>pilot_parcel_no</th>\n      <th>underlying_parcel_number</th>\n      <th>begin_date</th>\n      <th>end_date</th>\n      <th>assmt_taxes</th>\n      <th>pilot_contract_amt</th>\n      <th>pilot_debt_service_amt</th>\n      <th>difference</th>\n    </tr>\n  </thead>\n  <tbody>\n    <tr>\n      <th>0</th>\n      <td>1 south main llc wilmont hotel limited partner...</td>\n      <td>79 madison</td>\n      <td>ICC03900000000</td>\n      <td>00203800000020, 00203800000030, 00203800000060...</td>\n      <td>08/02/2000</td>\n      <td>08/02/2024</td>\n      <td>240731</td>\n      <td>180548</td>\n      <td>0</td>\n      <td>-60183</td>\n    </tr>\n    <tr>\n      <th>1</th>\n      <td>100 south main partners</td>\n      <td>100 main</td>\n      <td>ICC07260000000</td>\n      <td>0020530B000010, 0020530B000030</td>\n      <td>12/23/2008</td>\n      <td>12/23/2023</td>\n      <td>112054</td>\n      <td>3070</td>\n      <td>27246</td>\n      <td>-81738</td>\n    </tr>\n    <tr>\n      <th>2</th>\n      <td>1030 poplar llc</td>\n      <td>1030 poplar</td>\n      <td>ICC07900000000</td>\n      <td>0200900000007C</td>\n      <td>06/15/2021</td>\n      <td>06/15/2034</td>\n      <td>6722</td>\n      <td>6722</td>\n      <td>0</td>\n      <td>0</td>\n    </tr>\n    <tr>\n      <th>3</th>\n      <td>109 south second partnership</td>\n      <td>109 second</td>\n      <td>ICC07380000000</td>\n      <td>205300000130</td>\n      <td>04/07/2011</td>\n      <td>04/07/2024</td>\n      <td>79863</td>\n      <td>3486</td>\n      <td>19094</td>\n      <td>-57283</td>\n    </tr>\n    <tr>\n      <th>4</th>\n      <td>115 union ave llc</td>\n      <td>115 union</td>\n      <td>ICC07330000000</td>\n      <td>205300000020</td>\n      <td>03/29/2011</td>\n      <td>03/29/2021</td>\n      <td>29104</td>\n      <td>29104</td>\n      <td>0</td>\n      <td>0</td>\n    </tr>\n    <tr>\n      <th>...</th>\n      <td>...</td>\n      <td>...</td>\n      <td>...</td>\n      <td>...</td>\n      <td>...</td>\n      <td>...</td>\n      <td>...</td>\n      <td>...</td>\n      <td>...</td>\n      <td>...</td>\n    </tr>\n    <tr>\n      <th>522</th>\n      <td>wright medical technology inc</td>\n      <td>1023 cherry</td>\n      <td>IDB1590A000000</td>\n      <td>0015900000000D</td>\n      <td>12/31/2016</td>\n      <td>12/31/2031</td>\n      <td>5522</td>\n      <td>100</td>\n      <td>1381</td>\n      <td>-4042</td>\n    </tr>\n    <tr>\n      <th>523</th>\n      <td>wright medical technology inc</td>\n      <td>0 memphis arlington</td>\n      <td>IDB0000A000140</td>\n      <td>A0141L0A000040</td>\n      <td>12/31/2014</td>\n      <td>12/31/2024</td>\n      <td>62901</td>\n      <td>62901</td>\n      <td>0</td>\n      <td>0</td>\n    </tr>\n    <tr>\n      <th>524</th>\n      <td>wright medical technology inc</td>\n      <td>11576 memphis arlington</td>\n      <td>IDB0000A00015A</td>\n      <td>3000150000000D</td>\n      <td>12/31/2014</td>\n      <td>12/31/2024</td>\n      <td>12884</td>\n      <td>12884</td>\n      <td>0</td>\n      <td>0</td>\n    </tr>\n    <tr>\n      <th>525</th>\n      <td>wright medical technology inc</td>\n      <td>11576 memphis arlington</td>\n      <td>IDB0000A00020A</td>\n      <td>3000160000000D</td>\n      <td>12/31/2015</td>\n      <td>12/31/2025</td>\n      <td>1240</td>\n      <td>100</td>\n      <td>310</td>\n      <td>-830</td>\n    </tr>\n    <tr>\n      <th>526</th>\n      <td>ws hchem llc</td>\n      <td>0 winchester</td>\n      <td>IDB0000C000160</td>\n      <td>C024400A006820</td>\n      <td>06/01/2016</td>\n      <td>06/01/2023</td>\n      <td>129117</td>\n      <td>129117</td>\n      <td>0</td>\n      <td>0</td>\n    </tr>\n  </tbody>\n</table>\n<p>527 rows × 10 columns</p>\n</div>"
     },
     "execution_count": 37,
     "metadata": {},
     "output_type": "execute_result"
    }
   ],
   "source": [
    "# Clean the numeric columns\n",
    "numeric_columns = ['assmt_taxes', 'pilot_contract_amt',\n",
    "       'pilot_debt_service_amt', 'difference']\n",
    "df = clean_columns(df, numeric_columns, [remove_special_for_numbers])\n",
    "df"
   ],
   "metadata": {
    "collapsed": false,
    "ExecuteTime": {
     "start_time": "2024-03-28T00:00:53.231288Z"
    }
   },
   "id": "fd553dbc31168c70"
  },
  {
   "cell_type": "code",
   "execution_count": 38,
   "outputs": [
    {
     "data": {
      "text/plain": "                                                 owner  \\\n0    1 south main llc wilmont hotel limited partner...   \n1                              100 south main partners   \n2                                      1030 poplar llc   \n3                         109 south second partnership   \n4                                    115 union ave llc   \n..                                                 ...   \n522                      wright medical technology inc   \n523                      wright medical technology inc   \n524                      wright medical technology inc   \n525                      wright medical technology inc   \n526                                       ws hchem llc   \n\n                    location pilot_parcel_no  \\\n0                 79 madison  ICC03900000000   \n1                   100 main  ICC07260000000   \n2                1030 poplar  ICC07900000000   \n3                 109 second  ICC07380000000   \n4                  115 union  ICC07330000000   \n..                       ...             ...   \n522              1023 cherry  IDB1590A000000   \n523      0 memphis arlington  IDB0000A000140   \n524  11576 memphis arlington  IDB0000A00015A   \n525  11576 memphis arlington  IDB0000A00020A   \n526             0 winchester  IDB0000C000160   \n\n                              underlying_parcel_number begin_date  \\\n0    00203800000020, 00203800000030, 00203800000060... 2000-08-02   \n1                       0020530B000010, 0020530B000030 2008-12-23   \n2                                       0200900000007C 2021-06-15   \n3                                         205300000130 2011-04-07   \n4                                         205300000020 2011-03-29   \n..                                                 ...        ...   \n522                                     0015900000000D 2016-12-31   \n523                                     A0141L0A000040 2014-12-31   \n524                                     3000150000000D 2014-12-31   \n525                                     3000160000000D 2015-12-31   \n526                                     C024400A006820 2016-06-01   \n\n                end_date assmt_taxes pilot_contract_amt  \\\n0    2024-08-02 00:00:00      240731             180548   \n1    2023-12-23 00:00:00      112054               3070   \n2    2034-06-15 00:00:00        6722               6722   \n3    2024-04-07 00:00:00       79863               3486   \n4    2021-03-29 00:00:00       29104              29104   \n..                   ...         ...                ...   \n522  2031-12-31 00:00:00        5522                100   \n523  2024-12-31 00:00:00       62901              62901   \n524  2024-12-31 00:00:00       12884              12884   \n525  2025-12-31 00:00:00        1240                100   \n526  2023-06-01 00:00:00      129117             129117   \n\n    pilot_debt_service_amt difference  \n0                        0     -60183  \n1                    27246     -81738  \n2                        0          0  \n3                    19094     -57283  \n4                        0          0  \n..                     ...        ...  \n522                   1381      -4042  \n523                      0          0  \n524                      0          0  \n525                    310       -830  \n526                      0          0  \n\n[527 rows x 10 columns]",
      "text/html": "<div>\n<style scoped>\n    .dataframe tbody tr th:only-of-type {\n        vertical-align: middle;\n    }\n\n    .dataframe tbody tr th {\n        vertical-align: top;\n    }\n\n    .dataframe thead th {\n        text-align: right;\n    }\n</style>\n<table border=\"1\" class=\"dataframe\">\n  <thead>\n    <tr style=\"text-align: right;\">\n      <th></th>\n      <th>owner</th>\n      <th>location</th>\n      <th>pilot_parcel_no</th>\n      <th>underlying_parcel_number</th>\n      <th>begin_date</th>\n      <th>end_date</th>\n      <th>assmt_taxes</th>\n      <th>pilot_contract_amt</th>\n      <th>pilot_debt_service_amt</th>\n      <th>difference</th>\n    </tr>\n  </thead>\n  <tbody>\n    <tr>\n      <th>0</th>\n      <td>1 south main llc wilmont hotel limited partner...</td>\n      <td>79 madison</td>\n      <td>ICC03900000000</td>\n      <td>00203800000020, 00203800000030, 00203800000060...</td>\n      <td>2000-08-02</td>\n      <td>2024-08-02 00:00:00</td>\n      <td>240731</td>\n      <td>180548</td>\n      <td>0</td>\n      <td>-60183</td>\n    </tr>\n    <tr>\n      <th>1</th>\n      <td>100 south main partners</td>\n      <td>100 main</td>\n      <td>ICC07260000000</td>\n      <td>0020530B000010, 0020530B000030</td>\n      <td>2008-12-23</td>\n      <td>2023-12-23 00:00:00</td>\n      <td>112054</td>\n      <td>3070</td>\n      <td>27246</td>\n      <td>-81738</td>\n    </tr>\n    <tr>\n      <th>2</th>\n      <td>1030 poplar llc</td>\n      <td>1030 poplar</td>\n      <td>ICC07900000000</td>\n      <td>0200900000007C</td>\n      <td>2021-06-15</td>\n      <td>2034-06-15 00:00:00</td>\n      <td>6722</td>\n      <td>6722</td>\n      <td>0</td>\n      <td>0</td>\n    </tr>\n    <tr>\n      <th>3</th>\n      <td>109 south second partnership</td>\n      <td>109 second</td>\n      <td>ICC07380000000</td>\n      <td>205300000130</td>\n      <td>2011-04-07</td>\n      <td>2024-04-07 00:00:00</td>\n      <td>79863</td>\n      <td>3486</td>\n      <td>19094</td>\n      <td>-57283</td>\n    </tr>\n    <tr>\n      <th>4</th>\n      <td>115 union ave llc</td>\n      <td>115 union</td>\n      <td>ICC07330000000</td>\n      <td>205300000020</td>\n      <td>2011-03-29</td>\n      <td>2021-03-29 00:00:00</td>\n      <td>29104</td>\n      <td>29104</td>\n      <td>0</td>\n      <td>0</td>\n    </tr>\n    <tr>\n      <th>...</th>\n      <td>...</td>\n      <td>...</td>\n      <td>...</td>\n      <td>...</td>\n      <td>...</td>\n      <td>...</td>\n      <td>...</td>\n      <td>...</td>\n      <td>...</td>\n      <td>...</td>\n    </tr>\n    <tr>\n      <th>522</th>\n      <td>wright medical technology inc</td>\n      <td>1023 cherry</td>\n      <td>IDB1590A000000</td>\n      <td>0015900000000D</td>\n      <td>2016-12-31</td>\n      <td>2031-12-31 00:00:00</td>\n      <td>5522</td>\n      <td>100</td>\n      <td>1381</td>\n      <td>-4042</td>\n    </tr>\n    <tr>\n      <th>523</th>\n      <td>wright medical technology inc</td>\n      <td>0 memphis arlington</td>\n      <td>IDB0000A000140</td>\n      <td>A0141L0A000040</td>\n      <td>2014-12-31</td>\n      <td>2024-12-31 00:00:00</td>\n      <td>62901</td>\n      <td>62901</td>\n      <td>0</td>\n      <td>0</td>\n    </tr>\n    <tr>\n      <th>524</th>\n      <td>wright medical technology inc</td>\n      <td>11576 memphis arlington</td>\n      <td>IDB0000A00015A</td>\n      <td>3000150000000D</td>\n      <td>2014-12-31</td>\n      <td>2024-12-31 00:00:00</td>\n      <td>12884</td>\n      <td>12884</td>\n      <td>0</td>\n      <td>0</td>\n    </tr>\n    <tr>\n      <th>525</th>\n      <td>wright medical technology inc</td>\n      <td>11576 memphis arlington</td>\n      <td>IDB0000A00020A</td>\n      <td>3000160000000D</td>\n      <td>2015-12-31</td>\n      <td>2025-12-31 00:00:00</td>\n      <td>1240</td>\n      <td>100</td>\n      <td>310</td>\n      <td>-830</td>\n    </tr>\n    <tr>\n      <th>526</th>\n      <td>ws hchem llc</td>\n      <td>0 winchester</td>\n      <td>IDB0000C000160</td>\n      <td>C024400A006820</td>\n      <td>2016-06-01</td>\n      <td>2023-06-01 00:00:00</td>\n      <td>129117</td>\n      <td>129117</td>\n      <td>0</td>\n      <td>0</td>\n    </tr>\n  </tbody>\n</table>\n<p>527 rows × 10 columns</p>\n</div>"
     },
     "execution_count": 38,
     "metadata": {},
     "output_type": "execute_result"
    }
   ],
   "source": [
    "# Clean the date columns\n",
    "\n",
    "# Because this data has an idiosyncratic \"end date\" value of \"End of Loan\", \n",
    "# we must define a dataset-specific function\n",
    "def cast_end_date_to_datetime(entry: str | Number):\n",
    "    try:\n",
    "        return pd.to_datetime(str(entry))\n",
    "    except ValueError:\n",
    "        return entry\n",
    "df[\"begin_date\"] = pd.to_datetime(df[\"begin_date\"])\n",
    "df[\"end_date\"] = df[\"end_date\"].apply(lambda x: cast_end_date_to_datetime(x))\n",
    "df"
   ],
   "metadata": {
    "collapsed": false,
    "ExecuteTime": {
     "start_time": "2024-03-28T00:01:06.135786Z"
    }
   },
   "id": "1efa55d32b4be610"
  },
  {
   "cell_type": "code",
   "execution_count": 40,
   "outputs": [
    {
     "data": {
      "text/plain": "                                                 owner  \\\n0    1 south main llc wilmont hotel limited partner...   \n1                              100 south main partners   \n2                                      1030 poplar llc   \n3                         109 south second partnership   \n4                                    115 union ave llc   \n..                                                 ...   \n522                      wright medical technology inc   \n523                      wright medical technology inc   \n524                      wright medical technology inc   \n525                      wright medical technology inc   \n526                                       ws hchem llc   \n\n                    location   pilot_parcel_no  \\\n0                 79 madison  [ICC03900000000]   \n1                   100 main  [ICC07260000000]   \n2                1030 poplar  [ICC07900000000]   \n3                 109 second  [ICC07380000000]   \n4                  115 union  [ICC07330000000]   \n..                       ...               ...   \n522              1023 cherry  [IDB1590A000000]   \n523      0 memphis arlington  [IDB0000A000140]   \n524  11576 memphis arlington  [IDB0000A00015A]   \n525  11576 memphis arlington  [IDB0000A00020A]   \n526             0 winchester  [IDB0000C000160]   \n\n                              underlying_parcel_number begin_date  \\\n0    [00203800000020,  00203800000030,  00203800000... 2000-08-02   \n1                    [0020530B000010,  0020530B000030] 2008-12-23   \n2                                     [0200900000007C] 2021-06-15   \n3                                       [205300000130] 2011-04-07   \n4                                       [205300000020] 2011-03-29   \n..                                                 ...        ...   \n522                                   [0015900000000D] 2016-12-31   \n523                                   [A0141L0A000040] 2014-12-31   \n524                                   [3000150000000D] 2014-12-31   \n525                                   [3000160000000D] 2015-12-31   \n526                                   [C024400A006820] 2016-06-01   \n\n                end_date assmt_taxes pilot_contract_amt  \\\n0    2024-08-02 00:00:00      240731             180548   \n1    2023-12-23 00:00:00      112054               3070   \n2    2034-06-15 00:00:00        6722               6722   \n3    2024-04-07 00:00:00       79863               3486   \n4    2021-03-29 00:00:00       29104              29104   \n..                   ...         ...                ...   \n522  2031-12-31 00:00:00        5522                100   \n523  2024-12-31 00:00:00       62901              62901   \n524  2024-12-31 00:00:00       12884              12884   \n525  2025-12-31 00:00:00        1240                100   \n526  2023-06-01 00:00:00      129117             129117   \n\n    pilot_debt_service_amt difference  \n0                        0     -60183  \n1                    27246     -81738  \n2                        0          0  \n3                    19094     -57283  \n4                        0          0  \n..                     ...        ...  \n522                   1381      -4042  \n523                      0          0  \n524                      0          0  \n525                    310       -830  \n526                      0          0  \n\n[527 rows x 10 columns]",
      "text/html": "<div>\n<style scoped>\n    .dataframe tbody tr th:only-of-type {\n        vertical-align: middle;\n    }\n\n    .dataframe tbody tr th {\n        vertical-align: top;\n    }\n\n    .dataframe thead th {\n        text-align: right;\n    }\n</style>\n<table border=\"1\" class=\"dataframe\">\n  <thead>\n    <tr style=\"text-align: right;\">\n      <th></th>\n      <th>owner</th>\n      <th>location</th>\n      <th>pilot_parcel_no</th>\n      <th>underlying_parcel_number</th>\n      <th>begin_date</th>\n      <th>end_date</th>\n      <th>assmt_taxes</th>\n      <th>pilot_contract_amt</th>\n      <th>pilot_debt_service_amt</th>\n      <th>difference</th>\n    </tr>\n  </thead>\n  <tbody>\n    <tr>\n      <th>0</th>\n      <td>1 south main llc wilmont hotel limited partner...</td>\n      <td>79 madison</td>\n      <td>[ICC03900000000]</td>\n      <td>[00203800000020,  00203800000030,  00203800000...</td>\n      <td>2000-08-02</td>\n      <td>2024-08-02 00:00:00</td>\n      <td>240731</td>\n      <td>180548</td>\n      <td>0</td>\n      <td>-60183</td>\n    </tr>\n    <tr>\n      <th>1</th>\n      <td>100 south main partners</td>\n      <td>100 main</td>\n      <td>[ICC07260000000]</td>\n      <td>[0020530B000010,  0020530B000030]</td>\n      <td>2008-12-23</td>\n      <td>2023-12-23 00:00:00</td>\n      <td>112054</td>\n      <td>3070</td>\n      <td>27246</td>\n      <td>-81738</td>\n    </tr>\n    <tr>\n      <th>2</th>\n      <td>1030 poplar llc</td>\n      <td>1030 poplar</td>\n      <td>[ICC07900000000]</td>\n      <td>[0200900000007C]</td>\n      <td>2021-06-15</td>\n      <td>2034-06-15 00:00:00</td>\n      <td>6722</td>\n      <td>6722</td>\n      <td>0</td>\n      <td>0</td>\n    </tr>\n    <tr>\n      <th>3</th>\n      <td>109 south second partnership</td>\n      <td>109 second</td>\n      <td>[ICC07380000000]</td>\n      <td>[205300000130]</td>\n      <td>2011-04-07</td>\n      <td>2024-04-07 00:00:00</td>\n      <td>79863</td>\n      <td>3486</td>\n      <td>19094</td>\n      <td>-57283</td>\n    </tr>\n    <tr>\n      <th>4</th>\n      <td>115 union ave llc</td>\n      <td>115 union</td>\n      <td>[ICC07330000000]</td>\n      <td>[205300000020]</td>\n      <td>2011-03-29</td>\n      <td>2021-03-29 00:00:00</td>\n      <td>29104</td>\n      <td>29104</td>\n      <td>0</td>\n      <td>0</td>\n    </tr>\n    <tr>\n      <th>...</th>\n      <td>...</td>\n      <td>...</td>\n      <td>...</td>\n      <td>...</td>\n      <td>...</td>\n      <td>...</td>\n      <td>...</td>\n      <td>...</td>\n      <td>...</td>\n      <td>...</td>\n    </tr>\n    <tr>\n      <th>522</th>\n      <td>wright medical technology inc</td>\n      <td>1023 cherry</td>\n      <td>[IDB1590A000000]</td>\n      <td>[0015900000000D]</td>\n      <td>2016-12-31</td>\n      <td>2031-12-31 00:00:00</td>\n      <td>5522</td>\n      <td>100</td>\n      <td>1381</td>\n      <td>-4042</td>\n    </tr>\n    <tr>\n      <th>523</th>\n      <td>wright medical technology inc</td>\n      <td>0 memphis arlington</td>\n      <td>[IDB0000A000140]</td>\n      <td>[A0141L0A000040]</td>\n      <td>2014-12-31</td>\n      <td>2024-12-31 00:00:00</td>\n      <td>62901</td>\n      <td>62901</td>\n      <td>0</td>\n      <td>0</td>\n    </tr>\n    <tr>\n      <th>524</th>\n      <td>wright medical technology inc</td>\n      <td>11576 memphis arlington</td>\n      <td>[IDB0000A00015A]</td>\n      <td>[3000150000000D]</td>\n      <td>2014-12-31</td>\n      <td>2024-12-31 00:00:00</td>\n      <td>12884</td>\n      <td>12884</td>\n      <td>0</td>\n      <td>0</td>\n    </tr>\n    <tr>\n      <th>525</th>\n      <td>wright medical technology inc</td>\n      <td>11576 memphis arlington</td>\n      <td>[IDB0000A00020A]</td>\n      <td>[3000160000000D]</td>\n      <td>2015-12-31</td>\n      <td>2025-12-31 00:00:00</td>\n      <td>1240</td>\n      <td>100</td>\n      <td>310</td>\n      <td>-830</td>\n    </tr>\n    <tr>\n      <th>526</th>\n      <td>ws hchem llc</td>\n      <td>0 winchester</td>\n      <td>[IDB0000C000160]</td>\n      <td>[C024400A006820]</td>\n      <td>2016-06-01</td>\n      <td>2023-06-01 00:00:00</td>\n      <td>129117</td>\n      <td>129117</td>\n      <td>0</td>\n      <td>0</td>\n    </tr>\n  </tbody>\n</table>\n<p>527 rows × 10 columns</p>\n</div>"
     },
     "execution_count": 40,
     "metadata": {},
     "output_type": "execute_result"
    }
   ],
   "source": [
    "# Clean the list columns\n",
    "\n",
    "# Pandas always reads in lists as strings, so they will ultimately be converted to a string type, but putting them in lists firsts will allow us to convert them back to lists more quickly the next time we read them in because the list brackets will be included \n",
    "# in the output string\n",
    "\n",
    "list_columns = [\"pilot_parcel_no\", \"underlying_parcel_number\"]\n",
    "for col in list_columns:\n",
    "    df[col] = df[col].apply(lambda x: str(x).split(\",\"))\n",
    "df"
   ],
   "metadata": {
    "collapsed": false,
    "ExecuteTime": {
     "start_time": "2024-03-28T00:01:23.084380Z"
    }
   },
   "id": "5a2ebeae72c53116"
  },
  {
   "cell_type": "code",
   "execution_count": 43,
   "outputs": [
    {
     "data": {
      "text/plain": "                                                          owner  \\\nid                                                                \n4d492ee75e30  1 south main llc wilmont hotel limited partner...   \n468725c9628c                            100 south main partners   \nb39884512460                                    1030 poplar llc   \nf26dc5a380c1                       109 south second partnership   \n129ab94e175b                                  115 union ave llc   \n...                                                         ...   \nd436d1c9a0ff                      wright medical technology inc   \nd436d1c9a0ff                      wright medical technology inc   \nd436d1c9a0ff                      wright medical technology inc   \nd436d1c9a0ff                      wright medical technology inc   \nccc41295a670                                       ws hchem llc   \n\n                             location     pilot_parcel_no  \\\nid                                                          \n4d492ee75e30               79 madison  ['ICC03900000000']   \n468725c9628c                 100 main  ['ICC07260000000']   \nb39884512460              1030 poplar  ['ICC07900000000']   \nf26dc5a380c1               109 second  ['ICC07380000000']   \n129ab94e175b                115 union  ['ICC07330000000']   \n...                               ...                 ...   \nd436d1c9a0ff              1023 cherry  ['IDB1590A000000']   \nd436d1c9a0ff      0 memphis arlington  ['IDB0000A000140']   \nd436d1c9a0ff  11576 memphis arlington  ['IDB0000A00015A']   \nd436d1c9a0ff  11576 memphis arlington  ['IDB0000A00020A']   \nccc41295a670             0 winchester  ['IDB0000C000160']   \n\n                                       underlying_parcel_number begin_date  \\\nid                                                                           \n4d492ee75e30  ['00203800000020', ' 00203800000030', ' 002038... 2000-08-02   \n468725c9628c              ['0020530B000010', ' 0020530B000030'] 2008-12-23   \nb39884512460                                 ['0200900000007C'] 2021-06-15   \nf26dc5a380c1                                   ['205300000130'] 2011-04-07   \n129ab94e175b                                   ['205300000020'] 2011-03-29   \n...                                                         ...        ...   \nd436d1c9a0ff                                 ['0015900000000D'] 2016-12-31   \nd436d1c9a0ff                                 ['A0141L0A000040'] 2014-12-31   \nd436d1c9a0ff                                 ['3000150000000D'] 2014-12-31   \nd436d1c9a0ff                                 ['3000160000000D'] 2015-12-31   \nccc41295a670                                 ['C024400A006820'] 2016-06-01   \n\n                         end_date  assmt_taxes  pilot_contract_amt  \\\nid                                                                   \n4d492ee75e30  2024-08-02 00:00:00     240731.0            180548.0   \n468725c9628c  2023-12-23 00:00:00     112054.0              3070.0   \nb39884512460  2034-06-15 00:00:00       6722.0              6722.0   \nf26dc5a380c1  2024-04-07 00:00:00      79863.0              3486.0   \n129ab94e175b  2021-03-29 00:00:00      29104.0             29104.0   \n...                           ...          ...                 ...   \nd436d1c9a0ff  2031-12-31 00:00:00       5522.0               100.0   \nd436d1c9a0ff  2024-12-31 00:00:00      62901.0             62901.0   \nd436d1c9a0ff  2024-12-31 00:00:00      12884.0             12884.0   \nd436d1c9a0ff  2025-12-31 00:00:00       1240.0               100.0   \nccc41295a670  2023-06-01 00:00:00     129117.0            129117.0   \n\n              pilot_debt_service_amt  difference  \nid                                                \n4d492ee75e30                     0.0    -60183.0  \n468725c9628c                 27246.0    -81738.0  \nb39884512460                     0.0         0.0  \nf26dc5a380c1                 19094.0    -57283.0  \n129ab94e175b                     0.0         0.0  \n...                              ...         ...  \nd436d1c9a0ff                  1381.0     -4042.0  \nd436d1c9a0ff                     0.0         0.0  \nd436d1c9a0ff                     0.0         0.0  \nd436d1c9a0ff                   310.0      -830.0  \nccc41295a670                     0.0         0.0  \n\n[527 rows x 10 columns]",
      "text/html": "<div>\n<style scoped>\n    .dataframe tbody tr th:only-of-type {\n        vertical-align: middle;\n    }\n\n    .dataframe tbody tr th {\n        vertical-align: top;\n    }\n\n    .dataframe thead th {\n        text-align: right;\n    }\n</style>\n<table border=\"1\" class=\"dataframe\">\n  <thead>\n    <tr style=\"text-align: right;\">\n      <th></th>\n      <th>owner</th>\n      <th>location</th>\n      <th>pilot_parcel_no</th>\n      <th>underlying_parcel_number</th>\n      <th>begin_date</th>\n      <th>end_date</th>\n      <th>assmt_taxes</th>\n      <th>pilot_contract_amt</th>\n      <th>pilot_debt_service_amt</th>\n      <th>difference</th>\n    </tr>\n    <tr>\n      <th>id</th>\n      <th></th>\n      <th></th>\n      <th></th>\n      <th></th>\n      <th></th>\n      <th></th>\n      <th></th>\n      <th></th>\n      <th></th>\n      <th></th>\n    </tr>\n  </thead>\n  <tbody>\n    <tr>\n      <th>4d492ee75e30</th>\n      <td>1 south main llc wilmont hotel limited partner...</td>\n      <td>79 madison</td>\n      <td>['ICC03900000000']</td>\n      <td>['00203800000020', ' 00203800000030', ' 002038...</td>\n      <td>2000-08-02</td>\n      <td>2024-08-02 00:00:00</td>\n      <td>240731.0</td>\n      <td>180548.0</td>\n      <td>0.0</td>\n      <td>-60183.0</td>\n    </tr>\n    <tr>\n      <th>468725c9628c</th>\n      <td>100 south main partners</td>\n      <td>100 main</td>\n      <td>['ICC07260000000']</td>\n      <td>['0020530B000010', ' 0020530B000030']</td>\n      <td>2008-12-23</td>\n      <td>2023-12-23 00:00:00</td>\n      <td>112054.0</td>\n      <td>3070.0</td>\n      <td>27246.0</td>\n      <td>-81738.0</td>\n    </tr>\n    <tr>\n      <th>b39884512460</th>\n      <td>1030 poplar llc</td>\n      <td>1030 poplar</td>\n      <td>['ICC07900000000']</td>\n      <td>['0200900000007C']</td>\n      <td>2021-06-15</td>\n      <td>2034-06-15 00:00:00</td>\n      <td>6722.0</td>\n      <td>6722.0</td>\n      <td>0.0</td>\n      <td>0.0</td>\n    </tr>\n    <tr>\n      <th>f26dc5a380c1</th>\n      <td>109 south second partnership</td>\n      <td>109 second</td>\n      <td>['ICC07380000000']</td>\n      <td>['205300000130']</td>\n      <td>2011-04-07</td>\n      <td>2024-04-07 00:00:00</td>\n      <td>79863.0</td>\n      <td>3486.0</td>\n      <td>19094.0</td>\n      <td>-57283.0</td>\n    </tr>\n    <tr>\n      <th>129ab94e175b</th>\n      <td>115 union ave llc</td>\n      <td>115 union</td>\n      <td>['ICC07330000000']</td>\n      <td>['205300000020']</td>\n      <td>2011-03-29</td>\n      <td>2021-03-29 00:00:00</td>\n      <td>29104.0</td>\n      <td>29104.0</td>\n      <td>0.0</td>\n      <td>0.0</td>\n    </tr>\n    <tr>\n      <th>...</th>\n      <td>...</td>\n      <td>...</td>\n      <td>...</td>\n      <td>...</td>\n      <td>...</td>\n      <td>...</td>\n      <td>...</td>\n      <td>...</td>\n      <td>...</td>\n      <td>...</td>\n    </tr>\n    <tr>\n      <th>d436d1c9a0ff</th>\n      <td>wright medical technology inc</td>\n      <td>1023 cherry</td>\n      <td>['IDB1590A000000']</td>\n      <td>['0015900000000D']</td>\n      <td>2016-12-31</td>\n      <td>2031-12-31 00:00:00</td>\n      <td>5522.0</td>\n      <td>100.0</td>\n      <td>1381.0</td>\n      <td>-4042.0</td>\n    </tr>\n    <tr>\n      <th>d436d1c9a0ff</th>\n      <td>wright medical technology inc</td>\n      <td>0 memphis arlington</td>\n      <td>['IDB0000A000140']</td>\n      <td>['A0141L0A000040']</td>\n      <td>2014-12-31</td>\n      <td>2024-12-31 00:00:00</td>\n      <td>62901.0</td>\n      <td>62901.0</td>\n      <td>0.0</td>\n      <td>0.0</td>\n    </tr>\n    <tr>\n      <th>d436d1c9a0ff</th>\n      <td>wright medical technology inc</td>\n      <td>11576 memphis arlington</td>\n      <td>['IDB0000A00015A']</td>\n      <td>['3000150000000D']</td>\n      <td>2014-12-31</td>\n      <td>2024-12-31 00:00:00</td>\n      <td>12884.0</td>\n      <td>12884.0</td>\n      <td>0.0</td>\n      <td>0.0</td>\n    </tr>\n    <tr>\n      <th>d436d1c9a0ff</th>\n      <td>wright medical technology inc</td>\n      <td>11576 memphis arlington</td>\n      <td>['IDB0000A00020A']</td>\n      <td>['3000160000000D']</td>\n      <td>2015-12-31</td>\n      <td>2025-12-31 00:00:00</td>\n      <td>1240.0</td>\n      <td>100.0</td>\n      <td>310.0</td>\n      <td>-830.0</td>\n    </tr>\n    <tr>\n      <th>ccc41295a670</th>\n      <td>ws hchem llc</td>\n      <td>0 winchester</td>\n      <td>['IDB0000C000160']</td>\n      <td>['C024400A006820']</td>\n      <td>2016-06-01</td>\n      <td>2023-06-01 00:00:00</td>\n      <td>129117.0</td>\n      <td>129117.0</td>\n      <td>0.0</td>\n      <td>0.0</td>\n    </tr>\n  </tbody>\n</table>\n<p>527 rows × 10 columns</p>\n</div>"
     },
     "execution_count": 43,
     "metadata": {},
     "output_type": "execute_result"
    }
   ],
   "source": [
    "# Create a unique index column based on the values in the identifying column\n",
    "# Note: Ids are based on a deterministic hash, which means they are \n",
    "# reproducible even if the function is run by a different user at a different time,\n",
    "# as long as the string in the identifying column is the same. \n",
    "\n",
    "identifying_columns = [\"owner\"]\n",
    "df = set_unique_index(df=df, columns_to_hash = identifying_columns, index_length_limit=12)\n",
    "df"
   ],
   "metadata": {
    "collapsed": false,
    "ExecuteTime": {
     "start_time": "2024-03-28T00:02:03.424692Z"
    }
   },
   "id": "fa13dd82fd715b68"
  },
  {
   "cell_type": "code",
   "execution_count": 41,
   "outputs": [
    {
     "data": {
      "text/plain": "owner                               object\nlocation                            object\npilot_parcel_no                     object\nunderlying_parcel_number            object\nbegin_date                  datetime64[ns]\nend_date                            object\nassmt_taxes                         object\npilot_contract_amt                  object\npilot_debt_service_amt              object\ndifference                          object\ndtype: object"
     },
     "execution_count": 41,
     "metadata": {},
     "output_type": "execute_result"
    }
   ],
   "source": [
    "# Check the data types of each variable\n",
    "df.dtypes"
   ],
   "metadata": {
    "collapsed": false,
    "ExecuteTime": {
     "start_time": "2024-03-28T00:01:41.260179Z"
    }
   },
   "id": "fb1c412d6c764d7b"
  },
  {
   "cell_type": "code",
   "execution_count": 46,
   "outputs": [
    {
     "data": {
      "text/plain": "owner                       string[python]\nlocation                    string[python]\npilot_parcel_no             string[python]\nunderlying_parcel_number    string[python]\nbegin_date                  datetime64[ns]\nend_date                            object\nassmt_taxes                        float64\npilot_contract_amt                 float64\npilot_debt_service_amt             float64\ndifference                         float64\ndtype: object"
     },
     "execution_count": 46,
     "metadata": {},
     "output_type": "execute_result"
    }
   ],
   "source": [
    "# Fix the data type of each variable\n",
    "\n",
    "names_to_types = {'owner': 'string',\n",
    "                  'location': 'string',\n",
    "                  'pilot_parcel_no': 'string', \n",
    "                  'underlying_parcel_number': 'string',\n",
    "                  'begin_date': 'datetime64[ns]', \n",
    "                  'end_date': 'object',\n",
    "                  'assmt_taxes': 'float64',\n",
    "                  'pilot_contract_amt': 'float64',\n",
    "       'pilot_debt_service_amt': 'float64', \n",
    "                  'difference': 'float64'}\n",
    "df = cast_data_types(df, names_to_types)\n",
    "df.dtypes"
   ],
   "metadata": {
    "collapsed": false,
    "ExecuteTime": {
     "end_time": "2024-03-28T00:05:31.524195Z",
     "start_time": "2024-03-28T00:05:31.509993Z"
    }
   },
   "id": "fa0f0232d27d41fe"
  },
  {
   "cell_type": "code",
   "execution_count": 47,
   "outputs": [],
   "source": [
    "# Save the now-clean csv and convert it to utf-8 format\n",
    "outfile_path = \"../data/processed/s2_in_lieu_contracts_by_owner.csv\"\n",
    "df.to_csv(outfile_path)\n",
    "convert_utf8(original_file_path=outfile_path, new_file_path=outfile_path)"
   ],
   "metadata": {
    "collapsed": false,
    "ExecuteTime": {
     "end_time": "2024-03-28T00:06:05.226812Z",
     "start_time": "2024-03-28T00:06:05.203712Z"
    }
   },
   "id": "209e2ad7bce3421"
  },
  {
   "cell_type": "code",
   "execution_count": null,
   "outputs": [],
   "source": [],
   "metadata": {
    "collapsed": false
   },
   "id": "932f14634f70a566"
  }
 ],
 "metadata": {
  "kernelspec": {
   "display_name": "Python 3",
   "language": "python",
   "name": "python3"
  },
  "language_info": {
   "codemirror_mode": {
    "name": "ipython",
    "version": 2
   },
   "file_extension": ".py",
   "mimetype": "text/x-python",
   "name": "python",
   "nbconvert_exporter": "python",
   "pygments_lexer": "ipython2",
   "version": "2.7.6"
  }
 },
 "nbformat": 4,
 "nbformat_minor": 5
}
