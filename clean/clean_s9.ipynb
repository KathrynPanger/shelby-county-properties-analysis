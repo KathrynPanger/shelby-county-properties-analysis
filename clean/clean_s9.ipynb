{
 "cells": [
  {
   "cell_type": "code",
   "execution_count": 13,
   "outputs": [],
   "source": [
    "import pandas as pd\n",
    "from utils import *\n",
    "from typing import Any"
   ],
   "metadata": {
    "collapsed": false,
    "ExecuteTime": {
     "end_time": "2024-04-01T01:00:55.776259Z",
     "start_time": "2024-04-01T01:00:55.704860Z"
    }
   },
   "id": "f890863474a831e4"
  },
  {
   "cell_type": "markdown",
   "source": [
    "<h1>Cleaning a CSV</h1>"
   ],
   "metadata": {
    "collapsed": false
   },
   "id": "37c2459a70173916"
  },
  {
   "cell_type": "markdown",
   "source": [
    "Read in a CSV"
   ],
   "metadata": {
    "collapsed": false
   },
   "id": "70312fa54485148"
  },
  {
   "cell_type": "code",
   "execution_count": 14,
   "outputs": [
    {
     "data": {
      "text/plain": "                            Owner                 Location PILOT Parcel No  \\\n0       MICROPORT ORTHOPEDICS INC        11481 GULF STREAM  IDB0000A000090   \n1       MICROPORT ORTHOPEDICS INC             5677 AIRLINE  IDB0000A00010A   \n2       MICROPORT ORTHOPEDICS INC             5677 AIRLINE  IDB0000A00012A   \n3  WRIGHT MEDICAL TECHNOLOGY, INC      0 MEMPHIS-ARLINGTON  IDB0000A000140   \n4  WRIGHT MEDICAL TECHNOLOGY, INC  11576 MEMPHIS-ARLINGTON  IDB0000A00015A   \n5       MICROPORT ORTHOPEDICS INC      5640 & 5650 AIRLINE  IDB0000A000160   \n6       MICROPORT ORTHOPEDICS INC             5677 AIRLINE  IDB0000A00017A   \n7       MICROPORT ORTHOPEDICS INC             5677 AIRLINE  IDB0000A00018A   \n8                  HMD WRIGHT LLC      0 MEMPHIS-ARLINGTON  IDB0000A000190   \n9  WRIGHT MEDICAL TECHNOLOGY, INC  11576 MEMPHIS ARLINGTON  IDB0000A00020A   \n\n         Underlying Parcel Number  Begin Date    End Date Assmt Taxes  \\\n0                  A0141000001560  10/29/2009  10/28/2020      $3,729   \n1                  3000100000000D  12/31/2010  12/31/2021     $24,914   \n2                  3000120000000D  12/31/2014  12/31/2029      $6,733   \n3                  A0141L0A000040  12/31/2014  12/31/2024     $62,901   \n4                  3000150000000D  12/31/2014  12/31/2024     $12,884   \n5  A0142000004050 ,A0142000007860  12/31/2014  12/31/2028     $85,273   \n6                  3000170000000D  12/31/2015  12/31/2030      $7,548   \n7                  3000180000000D  12/31/2016  12/31/2031     $11,473   \n8                  A0141L0A000340  05/01/2019  05/01/2029     $85,222   \n9                  3000160000000D  12/31/2015  12/31/2025      $1,240   \n\n  PILOT Contract Amt PILOT Debt Service Amt Difference  \n0             $3,729                     $0         $0  \n1            $24,914                     $0         $0  \n2               $100                 $1,683    -$4,949  \n3            $62,901                     $0         $0  \n4            $12,884                     $0         $0  \n5             $8,579                $21,318   -$55,376  \n6               $100                 $1,887    -$5,561  \n7               $100                 $2,868    -$8,505  \n8             $2,796                $21,305   -$61,121  \n9               $100                   $310      -$830  ",
      "text/html": "<div>\n<style scoped>\n    .dataframe tbody tr th:only-of-type {\n        vertical-align: middle;\n    }\n\n    .dataframe tbody tr th {\n        vertical-align: top;\n    }\n\n    .dataframe thead th {\n        text-align: right;\n    }\n</style>\n<table border=\"1\" class=\"dataframe\">\n  <thead>\n    <tr style=\"text-align: right;\">\n      <th></th>\n      <th>Owner</th>\n      <th>Location</th>\n      <th>PILOT Parcel No</th>\n      <th>Underlying Parcel Number</th>\n      <th>Begin Date</th>\n      <th>End Date</th>\n      <th>Assmt Taxes</th>\n      <th>PILOT Contract Amt</th>\n      <th>PILOT Debt Service Amt</th>\n      <th>Difference</th>\n    </tr>\n  </thead>\n  <tbody>\n    <tr>\n      <th>0</th>\n      <td>MICROPORT ORTHOPEDICS INC</td>\n      <td>11481 GULF STREAM</td>\n      <td>IDB0000A000090</td>\n      <td>A0141000001560</td>\n      <td>10/29/2009</td>\n      <td>10/28/2020</td>\n      <td>$3,729</td>\n      <td>$3,729</td>\n      <td>$0</td>\n      <td>$0</td>\n    </tr>\n    <tr>\n      <th>1</th>\n      <td>MICROPORT ORTHOPEDICS INC</td>\n      <td>5677 AIRLINE</td>\n      <td>IDB0000A00010A</td>\n      <td>3000100000000D</td>\n      <td>12/31/2010</td>\n      <td>12/31/2021</td>\n      <td>$24,914</td>\n      <td>$24,914</td>\n      <td>$0</td>\n      <td>$0</td>\n    </tr>\n    <tr>\n      <th>2</th>\n      <td>MICROPORT ORTHOPEDICS INC</td>\n      <td>5677 AIRLINE</td>\n      <td>IDB0000A00012A</td>\n      <td>3000120000000D</td>\n      <td>12/31/2014</td>\n      <td>12/31/2029</td>\n      <td>$6,733</td>\n      <td>$100</td>\n      <td>$1,683</td>\n      <td>-$4,949</td>\n    </tr>\n    <tr>\n      <th>3</th>\n      <td>WRIGHT MEDICAL TECHNOLOGY, INC</td>\n      <td>0 MEMPHIS-ARLINGTON</td>\n      <td>IDB0000A000140</td>\n      <td>A0141L0A000040</td>\n      <td>12/31/2014</td>\n      <td>12/31/2024</td>\n      <td>$62,901</td>\n      <td>$62,901</td>\n      <td>$0</td>\n      <td>$0</td>\n    </tr>\n    <tr>\n      <th>4</th>\n      <td>WRIGHT MEDICAL TECHNOLOGY, INC</td>\n      <td>11576 MEMPHIS-ARLINGTON</td>\n      <td>IDB0000A00015A</td>\n      <td>3000150000000D</td>\n      <td>12/31/2014</td>\n      <td>12/31/2024</td>\n      <td>$12,884</td>\n      <td>$12,884</td>\n      <td>$0</td>\n      <td>$0</td>\n    </tr>\n    <tr>\n      <th>5</th>\n      <td>MICROPORT ORTHOPEDICS INC</td>\n      <td>5640 &amp; 5650 AIRLINE</td>\n      <td>IDB0000A000160</td>\n      <td>A0142000004050 ,A0142000007860</td>\n      <td>12/31/2014</td>\n      <td>12/31/2028</td>\n      <td>$85,273</td>\n      <td>$8,579</td>\n      <td>$21,318</td>\n      <td>-$55,376</td>\n    </tr>\n    <tr>\n      <th>6</th>\n      <td>MICROPORT ORTHOPEDICS INC</td>\n      <td>5677 AIRLINE</td>\n      <td>IDB0000A00017A</td>\n      <td>3000170000000D</td>\n      <td>12/31/2015</td>\n      <td>12/31/2030</td>\n      <td>$7,548</td>\n      <td>$100</td>\n      <td>$1,887</td>\n      <td>-$5,561</td>\n    </tr>\n    <tr>\n      <th>7</th>\n      <td>MICROPORT ORTHOPEDICS INC</td>\n      <td>5677 AIRLINE</td>\n      <td>IDB0000A00018A</td>\n      <td>3000180000000D</td>\n      <td>12/31/2016</td>\n      <td>12/31/2031</td>\n      <td>$11,473</td>\n      <td>$100</td>\n      <td>$2,868</td>\n      <td>-$8,505</td>\n    </tr>\n    <tr>\n      <th>8</th>\n      <td>HMD WRIGHT LLC</td>\n      <td>0 MEMPHIS-ARLINGTON</td>\n      <td>IDB0000A000190</td>\n      <td>A0141L0A000340</td>\n      <td>05/01/2019</td>\n      <td>05/01/2029</td>\n      <td>$85,222</td>\n      <td>$2,796</td>\n      <td>$21,305</td>\n      <td>-$61,121</td>\n    </tr>\n    <tr>\n      <th>9</th>\n      <td>WRIGHT MEDICAL TECHNOLOGY, INC</td>\n      <td>11576 MEMPHIS ARLINGTON</td>\n      <td>IDB0000A00020A</td>\n      <td>3000160000000D</td>\n      <td>12/31/2015</td>\n      <td>12/31/2025</td>\n      <td>$1,240</td>\n      <td>$100</td>\n      <td>$310</td>\n      <td>-$830</td>\n    </tr>\n  </tbody>\n</table>\n</div>"
     },
     "execution_count": 14,
     "metadata": {},
     "output_type": "execute_result"
    }
   ],
   "source": [
    "# load a dataframe\n",
    "infile_path = \"../data/raw/silver_shelby_county_properties_municipality_breakdown - s9_2022_idb_arlington.csv\"\n",
    "df = pd.read_csv(infile_path)\n",
    "df"
   ],
   "metadata": {
    "collapsed": false,
    "ExecuteTime": {
     "end_time": "2024-04-01T01:00:55.778701Z",
     "start_time": "2024-04-01T01:00:55.709223Z"
    }
   },
   "id": "50cef4de40a6855d"
  },
  {
   "cell_type": "code",
   "execution_count": 15,
   "outputs": [
    {
     "data": {
      "text/plain": "Index(['owner', 'location', 'pilot_parcel_no', 'underlying_parcel_number',\n       'begin_date', 'end_date', 'assmt_taxes', 'pilot_contract_amt',\n       'pilot_debt_service_amt', 'difference'],\n      dtype='object')"
     },
     "execution_count": 15,
     "metadata": {},
     "output_type": "execute_result"
    }
   ],
   "source": [
    "# Clean the column headers\n",
    "df = clean_headers(df, [remove_special_for_words, truncate, snake_case, lower_case])\n",
    "df.columns"
   ],
   "metadata": {
    "collapsed": false,
    "ExecuteTime": {
     "end_time": "2024-04-01T01:00:55.778794Z",
     "start_time": "2024-04-01T01:00:55.725979Z"
    }
   },
   "id": "f8e6a7fb4013b6e6"
  },
  {
   "cell_type": "code",
   "execution_count": 16,
   "outputs": [
    {
     "data": {
      "text/plain": "                           owner                 location pilot_parcel_no  \\\n0      microport orthopedics inc        11481 gulf stream  IDB0000A000090   \n1      microport orthopedics inc             5677 airline  IDB0000A00010A   \n2      microport orthopedics inc             5677 airline  IDB0000A00012A   \n3  wright medical technology inc      0 memphis arlington  IDB0000A000140   \n4  wright medical technology inc  11576 memphis arlington  IDB0000A00015A   \n5      microport orthopedics inc        5640 5650 airline  IDB0000A000160   \n6      microport orthopedics inc             5677 airline  IDB0000A00017A   \n7      microport orthopedics inc             5677 airline  IDB0000A00018A   \n8                 hmd wright llc      0 memphis arlington  IDB0000A000190   \n9  wright medical technology inc  11576 memphis arlington  IDB0000A00020A   \n\n         underlying_parcel_number  begin_date    end_date assmt_taxes  \\\n0                  A0141000001560  10/29/2009  10/28/2020      $3,729   \n1                  3000100000000D  12/31/2010  12/31/2021     $24,914   \n2                  3000120000000D  12/31/2014  12/31/2029      $6,733   \n3                  A0141L0A000040  12/31/2014  12/31/2024     $62,901   \n4                  3000150000000D  12/31/2014  12/31/2024     $12,884   \n5  A0142000004050 ,A0142000007860  12/31/2014  12/31/2028     $85,273   \n6                  3000170000000D  12/31/2015  12/31/2030      $7,548   \n7                  3000180000000D  12/31/2016  12/31/2031     $11,473   \n8                  A0141L0A000340  05/01/2019  05/01/2029     $85,222   \n9                  3000160000000D  12/31/2015  12/31/2025      $1,240   \n\n  pilot_contract_amt pilot_debt_service_amt difference  \n0             $3,729                     $0         $0  \n1            $24,914                     $0         $0  \n2               $100                 $1,683    -$4,949  \n3            $62,901                     $0         $0  \n4            $12,884                     $0         $0  \n5             $8,579                $21,318   -$55,376  \n6               $100                 $1,887    -$5,561  \n7               $100                 $2,868    -$8,505  \n8             $2,796                $21,305   -$61,121  \n9               $100                   $310      -$830  ",
      "text/html": "<div>\n<style scoped>\n    .dataframe tbody tr th:only-of-type {\n        vertical-align: middle;\n    }\n\n    .dataframe tbody tr th {\n        vertical-align: top;\n    }\n\n    .dataframe thead th {\n        text-align: right;\n    }\n</style>\n<table border=\"1\" class=\"dataframe\">\n  <thead>\n    <tr style=\"text-align: right;\">\n      <th></th>\n      <th>owner</th>\n      <th>location</th>\n      <th>pilot_parcel_no</th>\n      <th>underlying_parcel_number</th>\n      <th>begin_date</th>\n      <th>end_date</th>\n      <th>assmt_taxes</th>\n      <th>pilot_contract_amt</th>\n      <th>pilot_debt_service_amt</th>\n      <th>difference</th>\n    </tr>\n  </thead>\n  <tbody>\n    <tr>\n      <th>0</th>\n      <td>microport orthopedics inc</td>\n      <td>11481 gulf stream</td>\n      <td>IDB0000A000090</td>\n      <td>A0141000001560</td>\n      <td>10/29/2009</td>\n      <td>10/28/2020</td>\n      <td>$3,729</td>\n      <td>$3,729</td>\n      <td>$0</td>\n      <td>$0</td>\n    </tr>\n    <tr>\n      <th>1</th>\n      <td>microport orthopedics inc</td>\n      <td>5677 airline</td>\n      <td>IDB0000A00010A</td>\n      <td>3000100000000D</td>\n      <td>12/31/2010</td>\n      <td>12/31/2021</td>\n      <td>$24,914</td>\n      <td>$24,914</td>\n      <td>$0</td>\n      <td>$0</td>\n    </tr>\n    <tr>\n      <th>2</th>\n      <td>microport orthopedics inc</td>\n      <td>5677 airline</td>\n      <td>IDB0000A00012A</td>\n      <td>3000120000000D</td>\n      <td>12/31/2014</td>\n      <td>12/31/2029</td>\n      <td>$6,733</td>\n      <td>$100</td>\n      <td>$1,683</td>\n      <td>-$4,949</td>\n    </tr>\n    <tr>\n      <th>3</th>\n      <td>wright medical technology inc</td>\n      <td>0 memphis arlington</td>\n      <td>IDB0000A000140</td>\n      <td>A0141L0A000040</td>\n      <td>12/31/2014</td>\n      <td>12/31/2024</td>\n      <td>$62,901</td>\n      <td>$62,901</td>\n      <td>$0</td>\n      <td>$0</td>\n    </tr>\n    <tr>\n      <th>4</th>\n      <td>wright medical technology inc</td>\n      <td>11576 memphis arlington</td>\n      <td>IDB0000A00015A</td>\n      <td>3000150000000D</td>\n      <td>12/31/2014</td>\n      <td>12/31/2024</td>\n      <td>$12,884</td>\n      <td>$12,884</td>\n      <td>$0</td>\n      <td>$0</td>\n    </tr>\n    <tr>\n      <th>5</th>\n      <td>microport orthopedics inc</td>\n      <td>5640 5650 airline</td>\n      <td>IDB0000A000160</td>\n      <td>A0142000004050 ,A0142000007860</td>\n      <td>12/31/2014</td>\n      <td>12/31/2028</td>\n      <td>$85,273</td>\n      <td>$8,579</td>\n      <td>$21,318</td>\n      <td>-$55,376</td>\n    </tr>\n    <tr>\n      <th>6</th>\n      <td>microport orthopedics inc</td>\n      <td>5677 airline</td>\n      <td>IDB0000A00017A</td>\n      <td>3000170000000D</td>\n      <td>12/31/2015</td>\n      <td>12/31/2030</td>\n      <td>$7,548</td>\n      <td>$100</td>\n      <td>$1,887</td>\n      <td>-$5,561</td>\n    </tr>\n    <tr>\n      <th>7</th>\n      <td>microport orthopedics inc</td>\n      <td>5677 airline</td>\n      <td>IDB0000A00018A</td>\n      <td>3000180000000D</td>\n      <td>12/31/2016</td>\n      <td>12/31/2031</td>\n      <td>$11,473</td>\n      <td>$100</td>\n      <td>$2,868</td>\n      <td>-$8,505</td>\n    </tr>\n    <tr>\n      <th>8</th>\n      <td>hmd wright llc</td>\n      <td>0 memphis arlington</td>\n      <td>IDB0000A000190</td>\n      <td>A0141L0A000340</td>\n      <td>05/01/2019</td>\n      <td>05/01/2029</td>\n      <td>$85,222</td>\n      <td>$2,796</td>\n      <td>$21,305</td>\n      <td>-$61,121</td>\n    </tr>\n    <tr>\n      <th>9</th>\n      <td>wright medical technology inc</td>\n      <td>11576 memphis arlington</td>\n      <td>IDB0000A00020A</td>\n      <td>3000160000000D</td>\n      <td>12/31/2015</td>\n      <td>12/31/2025</td>\n      <td>$1,240</td>\n      <td>$100</td>\n      <td>$310</td>\n      <td>-$830</td>\n    </tr>\n  </tbody>\n</table>\n</div>"
     },
     "execution_count": 16,
     "metadata": {},
     "output_type": "execute_result"
    }
   ],
   "source": [
    "# Clean the string columns\n",
    "string_columns = [\"owner\", \n",
    "                  \"location\"]\n",
    "df = clean_columns(df, string_columns, [remove_special_for_words, truncate, lower_case])\n",
    "df"
   ],
   "metadata": {
    "collapsed": false,
    "ExecuteTime": {
     "end_time": "2024-04-01T01:00:55.779002Z",
     "start_time": "2024-04-01T01:00:55.735576Z"
    }
   },
   "id": "67171db99d8fff6d"
  },
  {
   "cell_type": "code",
   "execution_count": 17,
   "outputs": [
    {
     "data": {
      "text/plain": "Index(['owner', 'location', 'pilot_parcel_no', 'underlying_parcel_number',\n       'begin_date', 'end_date', 'assmt_taxes', 'pilot_contract_amt',\n       'pilot_debt_service_amt', 'difference'],\n      dtype='object')"
     },
     "execution_count": 17,
     "metadata": {},
     "output_type": "execute_result"
    }
   ],
   "source": [
    "df.columns"
   ],
   "metadata": {
    "collapsed": false,
    "ExecuteTime": {
     "end_time": "2024-04-01T01:00:55.779068Z",
     "start_time": "2024-04-01T01:00:55.739285Z"
    }
   },
   "id": "4484a9731b2bde17"
  },
  {
   "cell_type": "code",
   "execution_count": 18,
   "outputs": [
    {
     "data": {
      "text/plain": "                           owner                 location pilot_parcel_no  \\\n0      microport orthopedics inc        11481 gulf stream  IDB0000A000090   \n1      microport orthopedics inc             5677 airline  IDB0000A00010A   \n2      microport orthopedics inc             5677 airline  IDB0000A00012A   \n3  wright medical technology inc      0 memphis arlington  IDB0000A000140   \n4  wright medical technology inc  11576 memphis arlington  IDB0000A00015A   \n5      microport orthopedics inc        5640 5650 airline  IDB0000A000160   \n6      microport orthopedics inc             5677 airline  IDB0000A00017A   \n7      microport orthopedics inc             5677 airline  IDB0000A00018A   \n8                 hmd wright llc      0 memphis arlington  IDB0000A000190   \n9  wright medical technology inc  11576 memphis arlington  IDB0000A00020A   \n\n         underlying_parcel_number  begin_date    end_date assmt_taxes  \\\n0                  A0141000001560  10/29/2009  10/28/2020        3729   \n1                  3000100000000D  12/31/2010  12/31/2021       24914   \n2                  3000120000000D  12/31/2014  12/31/2029        6733   \n3                  A0141L0A000040  12/31/2014  12/31/2024       62901   \n4                  3000150000000D  12/31/2014  12/31/2024       12884   \n5  A0142000004050 ,A0142000007860  12/31/2014  12/31/2028       85273   \n6                  3000170000000D  12/31/2015  12/31/2030        7548   \n7                  3000180000000D  12/31/2016  12/31/2031       11473   \n8                  A0141L0A000340  05/01/2019  05/01/2029       85222   \n9                  3000160000000D  12/31/2015  12/31/2025        1240   \n\n  pilot_contract_amt pilot_debt_service_amt difference  \n0               3729                      0          0  \n1              24914                      0          0  \n2                100                   1683      -4949  \n3              62901                      0          0  \n4              12884                      0          0  \n5               8579                  21318     -55376  \n6                100                   1887      -5561  \n7                100                   2868      -8505  \n8               2796                  21305     -61121  \n9                100                    310       -830  ",
      "text/html": "<div>\n<style scoped>\n    .dataframe tbody tr th:only-of-type {\n        vertical-align: middle;\n    }\n\n    .dataframe tbody tr th {\n        vertical-align: top;\n    }\n\n    .dataframe thead th {\n        text-align: right;\n    }\n</style>\n<table border=\"1\" class=\"dataframe\">\n  <thead>\n    <tr style=\"text-align: right;\">\n      <th></th>\n      <th>owner</th>\n      <th>location</th>\n      <th>pilot_parcel_no</th>\n      <th>underlying_parcel_number</th>\n      <th>begin_date</th>\n      <th>end_date</th>\n      <th>assmt_taxes</th>\n      <th>pilot_contract_amt</th>\n      <th>pilot_debt_service_amt</th>\n      <th>difference</th>\n    </tr>\n  </thead>\n  <tbody>\n    <tr>\n      <th>0</th>\n      <td>microport orthopedics inc</td>\n      <td>11481 gulf stream</td>\n      <td>IDB0000A000090</td>\n      <td>A0141000001560</td>\n      <td>10/29/2009</td>\n      <td>10/28/2020</td>\n      <td>3729</td>\n      <td>3729</td>\n      <td>0</td>\n      <td>0</td>\n    </tr>\n    <tr>\n      <th>1</th>\n      <td>microport orthopedics inc</td>\n      <td>5677 airline</td>\n      <td>IDB0000A00010A</td>\n      <td>3000100000000D</td>\n      <td>12/31/2010</td>\n      <td>12/31/2021</td>\n      <td>24914</td>\n      <td>24914</td>\n      <td>0</td>\n      <td>0</td>\n    </tr>\n    <tr>\n      <th>2</th>\n      <td>microport orthopedics inc</td>\n      <td>5677 airline</td>\n      <td>IDB0000A00012A</td>\n      <td>3000120000000D</td>\n      <td>12/31/2014</td>\n      <td>12/31/2029</td>\n      <td>6733</td>\n      <td>100</td>\n      <td>1683</td>\n      <td>-4949</td>\n    </tr>\n    <tr>\n      <th>3</th>\n      <td>wright medical technology inc</td>\n      <td>0 memphis arlington</td>\n      <td>IDB0000A000140</td>\n      <td>A0141L0A000040</td>\n      <td>12/31/2014</td>\n      <td>12/31/2024</td>\n      <td>62901</td>\n      <td>62901</td>\n      <td>0</td>\n      <td>0</td>\n    </tr>\n    <tr>\n      <th>4</th>\n      <td>wright medical technology inc</td>\n      <td>11576 memphis arlington</td>\n      <td>IDB0000A00015A</td>\n      <td>3000150000000D</td>\n      <td>12/31/2014</td>\n      <td>12/31/2024</td>\n      <td>12884</td>\n      <td>12884</td>\n      <td>0</td>\n      <td>0</td>\n    </tr>\n    <tr>\n      <th>5</th>\n      <td>microport orthopedics inc</td>\n      <td>5640 5650 airline</td>\n      <td>IDB0000A000160</td>\n      <td>A0142000004050 ,A0142000007860</td>\n      <td>12/31/2014</td>\n      <td>12/31/2028</td>\n      <td>85273</td>\n      <td>8579</td>\n      <td>21318</td>\n      <td>-55376</td>\n    </tr>\n    <tr>\n      <th>6</th>\n      <td>microport orthopedics inc</td>\n      <td>5677 airline</td>\n      <td>IDB0000A00017A</td>\n      <td>3000170000000D</td>\n      <td>12/31/2015</td>\n      <td>12/31/2030</td>\n      <td>7548</td>\n      <td>100</td>\n      <td>1887</td>\n      <td>-5561</td>\n    </tr>\n    <tr>\n      <th>7</th>\n      <td>microport orthopedics inc</td>\n      <td>5677 airline</td>\n      <td>IDB0000A00018A</td>\n      <td>3000180000000D</td>\n      <td>12/31/2016</td>\n      <td>12/31/2031</td>\n      <td>11473</td>\n      <td>100</td>\n      <td>2868</td>\n      <td>-8505</td>\n    </tr>\n    <tr>\n      <th>8</th>\n      <td>hmd wright llc</td>\n      <td>0 memphis arlington</td>\n      <td>IDB0000A000190</td>\n      <td>A0141L0A000340</td>\n      <td>05/01/2019</td>\n      <td>05/01/2029</td>\n      <td>85222</td>\n      <td>2796</td>\n      <td>21305</td>\n      <td>-61121</td>\n    </tr>\n    <tr>\n      <th>9</th>\n      <td>wright medical technology inc</td>\n      <td>11576 memphis arlington</td>\n      <td>IDB0000A00020A</td>\n      <td>3000160000000D</td>\n      <td>12/31/2015</td>\n      <td>12/31/2025</td>\n      <td>1240</td>\n      <td>100</td>\n      <td>310</td>\n      <td>-830</td>\n    </tr>\n  </tbody>\n</table>\n</div>"
     },
     "execution_count": 18,
     "metadata": {},
     "output_type": "execute_result"
    }
   ],
   "source": [
    "# Clean the numeric columns\n",
    "numeric_columns = ['assmt_taxes', 'pilot_contract_amt',\n",
    "       'pilot_debt_service_amt', 'difference']\n",
    "df = clean_columns(df, numeric_columns, [remove_special_for_numbers, convert_only_dash_to_missing])\n",
    "\n",
    "df"
   ],
   "metadata": {
    "collapsed": false,
    "ExecuteTime": {
     "end_time": "2024-04-01T01:00:55.779245Z",
     "start_time": "2024-04-01T01:00:55.747674Z"
    }
   },
   "id": "fd553dbc31168c70"
  },
  {
   "cell_type": "code",
   "execution_count": 19,
   "outputs": [
    {
     "data": {
      "text/plain": "                           owner                 location pilot_parcel_no  \\\n0      microport orthopedics inc        11481 gulf stream  IDB0000A000090   \n1      microport orthopedics inc             5677 airline  IDB0000A00010A   \n2      microport orthopedics inc             5677 airline  IDB0000A00012A   \n3  wright medical technology inc      0 memphis arlington  IDB0000A000140   \n4  wright medical technology inc  11576 memphis arlington  IDB0000A00015A   \n5      microport orthopedics inc        5640 5650 airline  IDB0000A000160   \n6      microport orthopedics inc             5677 airline  IDB0000A00017A   \n7      microport orthopedics inc             5677 airline  IDB0000A00018A   \n8                 hmd wright llc      0 memphis arlington  IDB0000A000190   \n9  wright medical technology inc  11576 memphis arlington  IDB0000A00020A   \n\n         underlying_parcel_number begin_date   end_date assmt_taxes  \\\n0                  A0141000001560 2009-10-29 2020-10-28        3729   \n1                  3000100000000D 2010-12-31 2021-12-31       24914   \n2                  3000120000000D 2014-12-31 2029-12-31        6733   \n3                  A0141L0A000040 2014-12-31 2024-12-31       62901   \n4                  3000150000000D 2014-12-31 2024-12-31       12884   \n5  A0142000004050 ,A0142000007860 2014-12-31 2028-12-31       85273   \n6                  3000170000000D 2015-12-31 2030-12-31        7548   \n7                  3000180000000D 2016-12-31 2031-12-31       11473   \n8                  A0141L0A000340 2019-05-01 2029-05-01       85222   \n9                  3000160000000D 2015-12-31 2025-12-31        1240   \n\n  pilot_contract_amt pilot_debt_service_amt difference  \n0               3729                      0          0  \n1              24914                      0          0  \n2                100                   1683      -4949  \n3              62901                      0          0  \n4              12884                      0          0  \n5               8579                  21318     -55376  \n6                100                   1887      -5561  \n7                100                   2868      -8505  \n8               2796                  21305     -61121  \n9                100                    310       -830  ",
      "text/html": "<div>\n<style scoped>\n    .dataframe tbody tr th:only-of-type {\n        vertical-align: middle;\n    }\n\n    .dataframe tbody tr th {\n        vertical-align: top;\n    }\n\n    .dataframe thead th {\n        text-align: right;\n    }\n</style>\n<table border=\"1\" class=\"dataframe\">\n  <thead>\n    <tr style=\"text-align: right;\">\n      <th></th>\n      <th>owner</th>\n      <th>location</th>\n      <th>pilot_parcel_no</th>\n      <th>underlying_parcel_number</th>\n      <th>begin_date</th>\n      <th>end_date</th>\n      <th>assmt_taxes</th>\n      <th>pilot_contract_amt</th>\n      <th>pilot_debt_service_amt</th>\n      <th>difference</th>\n    </tr>\n  </thead>\n  <tbody>\n    <tr>\n      <th>0</th>\n      <td>microport orthopedics inc</td>\n      <td>11481 gulf stream</td>\n      <td>IDB0000A000090</td>\n      <td>A0141000001560</td>\n      <td>2009-10-29</td>\n      <td>2020-10-28</td>\n      <td>3729</td>\n      <td>3729</td>\n      <td>0</td>\n      <td>0</td>\n    </tr>\n    <tr>\n      <th>1</th>\n      <td>microport orthopedics inc</td>\n      <td>5677 airline</td>\n      <td>IDB0000A00010A</td>\n      <td>3000100000000D</td>\n      <td>2010-12-31</td>\n      <td>2021-12-31</td>\n      <td>24914</td>\n      <td>24914</td>\n      <td>0</td>\n      <td>0</td>\n    </tr>\n    <tr>\n      <th>2</th>\n      <td>microport orthopedics inc</td>\n      <td>5677 airline</td>\n      <td>IDB0000A00012A</td>\n      <td>3000120000000D</td>\n      <td>2014-12-31</td>\n      <td>2029-12-31</td>\n      <td>6733</td>\n      <td>100</td>\n      <td>1683</td>\n      <td>-4949</td>\n    </tr>\n    <tr>\n      <th>3</th>\n      <td>wright medical technology inc</td>\n      <td>0 memphis arlington</td>\n      <td>IDB0000A000140</td>\n      <td>A0141L0A000040</td>\n      <td>2014-12-31</td>\n      <td>2024-12-31</td>\n      <td>62901</td>\n      <td>62901</td>\n      <td>0</td>\n      <td>0</td>\n    </tr>\n    <tr>\n      <th>4</th>\n      <td>wright medical technology inc</td>\n      <td>11576 memphis arlington</td>\n      <td>IDB0000A00015A</td>\n      <td>3000150000000D</td>\n      <td>2014-12-31</td>\n      <td>2024-12-31</td>\n      <td>12884</td>\n      <td>12884</td>\n      <td>0</td>\n      <td>0</td>\n    </tr>\n    <tr>\n      <th>5</th>\n      <td>microport orthopedics inc</td>\n      <td>5640 5650 airline</td>\n      <td>IDB0000A000160</td>\n      <td>A0142000004050 ,A0142000007860</td>\n      <td>2014-12-31</td>\n      <td>2028-12-31</td>\n      <td>85273</td>\n      <td>8579</td>\n      <td>21318</td>\n      <td>-55376</td>\n    </tr>\n    <tr>\n      <th>6</th>\n      <td>microport orthopedics inc</td>\n      <td>5677 airline</td>\n      <td>IDB0000A00017A</td>\n      <td>3000170000000D</td>\n      <td>2015-12-31</td>\n      <td>2030-12-31</td>\n      <td>7548</td>\n      <td>100</td>\n      <td>1887</td>\n      <td>-5561</td>\n    </tr>\n    <tr>\n      <th>7</th>\n      <td>microport orthopedics inc</td>\n      <td>5677 airline</td>\n      <td>IDB0000A00018A</td>\n      <td>3000180000000D</td>\n      <td>2016-12-31</td>\n      <td>2031-12-31</td>\n      <td>11473</td>\n      <td>100</td>\n      <td>2868</td>\n      <td>-8505</td>\n    </tr>\n    <tr>\n      <th>8</th>\n      <td>hmd wright llc</td>\n      <td>0 memphis arlington</td>\n      <td>IDB0000A000190</td>\n      <td>A0141L0A000340</td>\n      <td>2019-05-01</td>\n      <td>2029-05-01</td>\n      <td>85222</td>\n      <td>2796</td>\n      <td>21305</td>\n      <td>-61121</td>\n    </tr>\n    <tr>\n      <th>9</th>\n      <td>wright medical technology inc</td>\n      <td>11576 memphis arlington</td>\n      <td>IDB0000A00020A</td>\n      <td>3000160000000D</td>\n      <td>2015-12-31</td>\n      <td>2025-12-31</td>\n      <td>1240</td>\n      <td>100</td>\n      <td>310</td>\n      <td>-830</td>\n    </tr>\n  </tbody>\n</table>\n</div>"
     },
     "execution_count": 19,
     "metadata": {},
     "output_type": "execute_result"
    }
   ],
   "source": [
    "# Clean the date columns\n",
    "\n",
    "# Because this data has an idiosyncratic \"end date\" value of \"End of Loan\", \n",
    "# we must define a dataset-specific function\n",
    "def cast_end_date_to_datetime(entry: str | Number):\n",
    "    try:\n",
    "        return pd.to_datetime(str(entry))\n",
    "    except ValueError:\n",
    "        return entry\n",
    "df[\"begin_date\"] = pd.to_datetime(df[\"begin_date\"])\n",
    "df[\"end_date\"] = df[\"end_date\"].apply(lambda x: cast_end_date_to_datetime(x))\n",
    "df"
   ],
   "metadata": {
    "collapsed": false,
    "ExecuteTime": {
     "end_time": "2024-04-01T01:00:55.779436Z",
     "start_time": "2024-04-01T01:00:55.760499Z"
    }
   },
   "id": "1efa55d32b4be610"
  },
  {
   "cell_type": "code",
   "execution_count": 20,
   "outputs": [
    {
     "data": {
      "text/plain": "                           owner                 location   pilot_parcel_no  \\\n0      microport orthopedics inc        11481 gulf stream  [IDB0000A000090]   \n1      microport orthopedics inc             5677 airline  [IDB0000A00010A]   \n2      microport orthopedics inc             5677 airline  [IDB0000A00012A]   \n3  wright medical technology inc      0 memphis arlington  [IDB0000A000140]   \n4  wright medical technology inc  11576 memphis arlington  [IDB0000A00015A]   \n5      microport orthopedics inc        5640 5650 airline  [IDB0000A000160]   \n6      microport orthopedics inc             5677 airline  [IDB0000A00017A]   \n7      microport orthopedics inc             5677 airline  [IDB0000A00018A]   \n8                 hmd wright llc      0 memphis arlington  [IDB0000A000190]   \n9  wright medical technology inc  11576 memphis arlington  [IDB0000A00020A]   \n\n            underlying_parcel_number begin_date   end_date assmt_taxes  \\\n0                   [A0141000001560] 2009-10-29 2020-10-28        3729   \n1                   [3000100000000D] 2010-12-31 2021-12-31       24914   \n2                   [3000120000000D] 2014-12-31 2029-12-31        6733   \n3                   [A0141L0A000040] 2014-12-31 2024-12-31       62901   \n4                   [3000150000000D] 2014-12-31 2024-12-31       12884   \n5  [A0142000004050 , A0142000007860] 2014-12-31 2028-12-31       85273   \n6                   [3000170000000D] 2015-12-31 2030-12-31        7548   \n7                   [3000180000000D] 2016-12-31 2031-12-31       11473   \n8                   [A0141L0A000340] 2019-05-01 2029-05-01       85222   \n9                   [3000160000000D] 2015-12-31 2025-12-31        1240   \n\n  pilot_contract_amt pilot_debt_service_amt difference  \n0               3729                      0          0  \n1              24914                      0          0  \n2                100                   1683      -4949  \n3              62901                      0          0  \n4              12884                      0          0  \n5               8579                  21318     -55376  \n6                100                   1887      -5561  \n7                100                   2868      -8505  \n8               2796                  21305     -61121  \n9                100                    310       -830  ",
      "text/html": "<div>\n<style scoped>\n    .dataframe tbody tr th:only-of-type {\n        vertical-align: middle;\n    }\n\n    .dataframe tbody tr th {\n        vertical-align: top;\n    }\n\n    .dataframe thead th {\n        text-align: right;\n    }\n</style>\n<table border=\"1\" class=\"dataframe\">\n  <thead>\n    <tr style=\"text-align: right;\">\n      <th></th>\n      <th>owner</th>\n      <th>location</th>\n      <th>pilot_parcel_no</th>\n      <th>underlying_parcel_number</th>\n      <th>begin_date</th>\n      <th>end_date</th>\n      <th>assmt_taxes</th>\n      <th>pilot_contract_amt</th>\n      <th>pilot_debt_service_amt</th>\n      <th>difference</th>\n    </tr>\n  </thead>\n  <tbody>\n    <tr>\n      <th>0</th>\n      <td>microport orthopedics inc</td>\n      <td>11481 gulf stream</td>\n      <td>[IDB0000A000090]</td>\n      <td>[A0141000001560]</td>\n      <td>2009-10-29</td>\n      <td>2020-10-28</td>\n      <td>3729</td>\n      <td>3729</td>\n      <td>0</td>\n      <td>0</td>\n    </tr>\n    <tr>\n      <th>1</th>\n      <td>microport orthopedics inc</td>\n      <td>5677 airline</td>\n      <td>[IDB0000A00010A]</td>\n      <td>[3000100000000D]</td>\n      <td>2010-12-31</td>\n      <td>2021-12-31</td>\n      <td>24914</td>\n      <td>24914</td>\n      <td>0</td>\n      <td>0</td>\n    </tr>\n    <tr>\n      <th>2</th>\n      <td>microport orthopedics inc</td>\n      <td>5677 airline</td>\n      <td>[IDB0000A00012A]</td>\n      <td>[3000120000000D]</td>\n      <td>2014-12-31</td>\n      <td>2029-12-31</td>\n      <td>6733</td>\n      <td>100</td>\n      <td>1683</td>\n      <td>-4949</td>\n    </tr>\n    <tr>\n      <th>3</th>\n      <td>wright medical technology inc</td>\n      <td>0 memphis arlington</td>\n      <td>[IDB0000A000140]</td>\n      <td>[A0141L0A000040]</td>\n      <td>2014-12-31</td>\n      <td>2024-12-31</td>\n      <td>62901</td>\n      <td>62901</td>\n      <td>0</td>\n      <td>0</td>\n    </tr>\n    <tr>\n      <th>4</th>\n      <td>wright medical technology inc</td>\n      <td>11576 memphis arlington</td>\n      <td>[IDB0000A00015A]</td>\n      <td>[3000150000000D]</td>\n      <td>2014-12-31</td>\n      <td>2024-12-31</td>\n      <td>12884</td>\n      <td>12884</td>\n      <td>0</td>\n      <td>0</td>\n    </tr>\n    <tr>\n      <th>5</th>\n      <td>microport orthopedics inc</td>\n      <td>5640 5650 airline</td>\n      <td>[IDB0000A000160]</td>\n      <td>[A0142000004050 , A0142000007860]</td>\n      <td>2014-12-31</td>\n      <td>2028-12-31</td>\n      <td>85273</td>\n      <td>8579</td>\n      <td>21318</td>\n      <td>-55376</td>\n    </tr>\n    <tr>\n      <th>6</th>\n      <td>microport orthopedics inc</td>\n      <td>5677 airline</td>\n      <td>[IDB0000A00017A]</td>\n      <td>[3000170000000D]</td>\n      <td>2015-12-31</td>\n      <td>2030-12-31</td>\n      <td>7548</td>\n      <td>100</td>\n      <td>1887</td>\n      <td>-5561</td>\n    </tr>\n    <tr>\n      <th>7</th>\n      <td>microport orthopedics inc</td>\n      <td>5677 airline</td>\n      <td>[IDB0000A00018A]</td>\n      <td>[3000180000000D]</td>\n      <td>2016-12-31</td>\n      <td>2031-12-31</td>\n      <td>11473</td>\n      <td>100</td>\n      <td>2868</td>\n      <td>-8505</td>\n    </tr>\n    <tr>\n      <th>8</th>\n      <td>hmd wright llc</td>\n      <td>0 memphis arlington</td>\n      <td>[IDB0000A000190]</td>\n      <td>[A0141L0A000340]</td>\n      <td>2019-05-01</td>\n      <td>2029-05-01</td>\n      <td>85222</td>\n      <td>2796</td>\n      <td>21305</td>\n      <td>-61121</td>\n    </tr>\n    <tr>\n      <th>9</th>\n      <td>wright medical technology inc</td>\n      <td>11576 memphis arlington</td>\n      <td>[IDB0000A00020A]</td>\n      <td>[3000160000000D]</td>\n      <td>2015-12-31</td>\n      <td>2025-12-31</td>\n      <td>1240</td>\n      <td>100</td>\n      <td>310</td>\n      <td>-830</td>\n    </tr>\n  </tbody>\n</table>\n</div>"
     },
     "execution_count": 20,
     "metadata": {},
     "output_type": "execute_result"
    }
   ],
   "source": [
    "# Clean the list columns\n",
    "\n",
    "# Pandas always reads in lists as strings, so they will ultimately be converted to a string type, but putting them in lists firsts will allow us to convert them back to lists more quickly the next time we read them in because the list brackets will be included \n",
    "# in the output string\n",
    "\n",
    "list_columns = [\"pilot_parcel_no\", \"underlying_parcel_number\"]\n",
    "for col in list_columns:\n",
    "    df[col] = df[col].apply(lambda x: str(x).split(\",\"))\n",
    "df"
   ],
   "metadata": {
    "collapsed": false,
    "ExecuteTime": {
     "end_time": "2024-04-01T01:00:55.779725Z",
     "start_time": "2024-04-01T01:00:55.770279Z"
    }
   },
   "id": "5a2ebeae72c53116"
  },
  {
   "cell_type": "code",
   "execution_count": 21,
   "outputs": [
    {
     "data": {
      "text/plain": "                                      owner                 location  \\\nowner_id                                                               \n8ce75c30bfa5      microport orthopedics inc        11481 gulf stream   \n8ce75c30bfa5      microport orthopedics inc             5677 airline   \n8ce75c30bfa5      microport orthopedics inc             5677 airline   \nd436d1c9a0ff  wright medical technology inc      0 memphis arlington   \nd436d1c9a0ff  wright medical technology inc  11576 memphis arlington   \n8ce75c30bfa5      microport orthopedics inc        5640 5650 airline   \n8ce75c30bfa5      microport orthopedics inc             5677 airline   \n8ce75c30bfa5      microport orthopedics inc             5677 airline   \nb0e661555130                 hmd wright llc      0 memphis arlington   \nd436d1c9a0ff  wright medical technology inc  11576 memphis arlington   \n\n               pilot_parcel_no           underlying_parcel_number begin_date  \\\nowner_id                                                                       \n8ce75c30bfa5  [IDB0000A000090]                   [A0141000001560] 2009-10-29   \n8ce75c30bfa5  [IDB0000A00010A]                   [3000100000000D] 2010-12-31   \n8ce75c30bfa5  [IDB0000A00012A]                   [3000120000000D] 2014-12-31   \nd436d1c9a0ff  [IDB0000A000140]                   [A0141L0A000040] 2014-12-31   \nd436d1c9a0ff  [IDB0000A00015A]                   [3000150000000D] 2014-12-31   \n8ce75c30bfa5  [IDB0000A000160]  [A0142000004050 , A0142000007860] 2014-12-31   \n8ce75c30bfa5  [IDB0000A00017A]                   [3000170000000D] 2015-12-31   \n8ce75c30bfa5  [IDB0000A00018A]                   [3000180000000D] 2016-12-31   \nb0e661555130  [IDB0000A000190]                   [A0141L0A000340] 2019-05-01   \nd436d1c9a0ff  [IDB0000A00020A]                   [3000160000000D] 2015-12-31   \n\n               end_date assmt_taxes pilot_contract_amt pilot_debt_service_amt  \\\nowner_id                                                                        \n8ce75c30bfa5 2020-10-28        3729               3729                      0   \n8ce75c30bfa5 2021-12-31       24914              24914                      0   \n8ce75c30bfa5 2029-12-31        6733                100                   1683   \nd436d1c9a0ff 2024-12-31       62901              62901                      0   \nd436d1c9a0ff 2024-12-31       12884              12884                      0   \n8ce75c30bfa5 2028-12-31       85273               8579                  21318   \n8ce75c30bfa5 2030-12-31        7548                100                   1887   \n8ce75c30bfa5 2031-12-31       11473                100                   2868   \nb0e661555130 2029-05-01       85222               2796                  21305   \nd436d1c9a0ff 2025-12-31        1240                100                    310   \n\n             difference  \nowner_id                 \n8ce75c30bfa5          0  \n8ce75c30bfa5          0  \n8ce75c30bfa5      -4949  \nd436d1c9a0ff          0  \nd436d1c9a0ff          0  \n8ce75c30bfa5     -55376  \n8ce75c30bfa5      -5561  \n8ce75c30bfa5      -8505  \nb0e661555130     -61121  \nd436d1c9a0ff       -830  ",
      "text/html": "<div>\n<style scoped>\n    .dataframe tbody tr th:only-of-type {\n        vertical-align: middle;\n    }\n\n    .dataframe tbody tr th {\n        vertical-align: top;\n    }\n\n    .dataframe thead th {\n        text-align: right;\n    }\n</style>\n<table border=\"1\" class=\"dataframe\">\n  <thead>\n    <tr style=\"text-align: right;\">\n      <th></th>\n      <th>owner</th>\n      <th>location</th>\n      <th>pilot_parcel_no</th>\n      <th>underlying_parcel_number</th>\n      <th>begin_date</th>\n      <th>end_date</th>\n      <th>assmt_taxes</th>\n      <th>pilot_contract_amt</th>\n      <th>pilot_debt_service_amt</th>\n      <th>difference</th>\n    </tr>\n    <tr>\n      <th>owner_id</th>\n      <th></th>\n      <th></th>\n      <th></th>\n      <th></th>\n      <th></th>\n      <th></th>\n      <th></th>\n      <th></th>\n      <th></th>\n      <th></th>\n    </tr>\n  </thead>\n  <tbody>\n    <tr>\n      <th>8ce75c30bfa5</th>\n      <td>microport orthopedics inc</td>\n      <td>11481 gulf stream</td>\n      <td>[IDB0000A000090]</td>\n      <td>[A0141000001560]</td>\n      <td>2009-10-29</td>\n      <td>2020-10-28</td>\n      <td>3729</td>\n      <td>3729</td>\n      <td>0</td>\n      <td>0</td>\n    </tr>\n    <tr>\n      <th>8ce75c30bfa5</th>\n      <td>microport orthopedics inc</td>\n      <td>5677 airline</td>\n      <td>[IDB0000A00010A]</td>\n      <td>[3000100000000D]</td>\n      <td>2010-12-31</td>\n      <td>2021-12-31</td>\n      <td>24914</td>\n      <td>24914</td>\n      <td>0</td>\n      <td>0</td>\n    </tr>\n    <tr>\n      <th>8ce75c30bfa5</th>\n      <td>microport orthopedics inc</td>\n      <td>5677 airline</td>\n      <td>[IDB0000A00012A]</td>\n      <td>[3000120000000D]</td>\n      <td>2014-12-31</td>\n      <td>2029-12-31</td>\n      <td>6733</td>\n      <td>100</td>\n      <td>1683</td>\n      <td>-4949</td>\n    </tr>\n    <tr>\n      <th>d436d1c9a0ff</th>\n      <td>wright medical technology inc</td>\n      <td>0 memphis arlington</td>\n      <td>[IDB0000A000140]</td>\n      <td>[A0141L0A000040]</td>\n      <td>2014-12-31</td>\n      <td>2024-12-31</td>\n      <td>62901</td>\n      <td>62901</td>\n      <td>0</td>\n      <td>0</td>\n    </tr>\n    <tr>\n      <th>d436d1c9a0ff</th>\n      <td>wright medical technology inc</td>\n      <td>11576 memphis arlington</td>\n      <td>[IDB0000A00015A]</td>\n      <td>[3000150000000D]</td>\n      <td>2014-12-31</td>\n      <td>2024-12-31</td>\n      <td>12884</td>\n      <td>12884</td>\n      <td>0</td>\n      <td>0</td>\n    </tr>\n    <tr>\n      <th>8ce75c30bfa5</th>\n      <td>microport orthopedics inc</td>\n      <td>5640 5650 airline</td>\n      <td>[IDB0000A000160]</td>\n      <td>[A0142000004050 , A0142000007860]</td>\n      <td>2014-12-31</td>\n      <td>2028-12-31</td>\n      <td>85273</td>\n      <td>8579</td>\n      <td>21318</td>\n      <td>-55376</td>\n    </tr>\n    <tr>\n      <th>8ce75c30bfa5</th>\n      <td>microport orthopedics inc</td>\n      <td>5677 airline</td>\n      <td>[IDB0000A00017A]</td>\n      <td>[3000170000000D]</td>\n      <td>2015-12-31</td>\n      <td>2030-12-31</td>\n      <td>7548</td>\n      <td>100</td>\n      <td>1887</td>\n      <td>-5561</td>\n    </tr>\n    <tr>\n      <th>8ce75c30bfa5</th>\n      <td>microport orthopedics inc</td>\n      <td>5677 airline</td>\n      <td>[IDB0000A00018A]</td>\n      <td>[3000180000000D]</td>\n      <td>2016-12-31</td>\n      <td>2031-12-31</td>\n      <td>11473</td>\n      <td>100</td>\n      <td>2868</td>\n      <td>-8505</td>\n    </tr>\n    <tr>\n      <th>b0e661555130</th>\n      <td>hmd wright llc</td>\n      <td>0 memphis arlington</td>\n      <td>[IDB0000A000190]</td>\n      <td>[A0141L0A000340]</td>\n      <td>2019-05-01</td>\n      <td>2029-05-01</td>\n      <td>85222</td>\n      <td>2796</td>\n      <td>21305</td>\n      <td>-61121</td>\n    </tr>\n    <tr>\n      <th>d436d1c9a0ff</th>\n      <td>wright medical technology inc</td>\n      <td>11576 memphis arlington</td>\n      <td>[IDB0000A00020A]</td>\n      <td>[3000160000000D]</td>\n      <td>2015-12-31</td>\n      <td>2025-12-31</td>\n      <td>1240</td>\n      <td>100</td>\n      <td>310</td>\n      <td>-830</td>\n    </tr>\n  </tbody>\n</table>\n</div>"
     },
     "execution_count": 21,
     "metadata": {},
     "output_type": "execute_result"
    }
   ],
   "source": [
    "# Create a unique index column based on the values in the identifying column\n",
    "# Note: Ids are based on a deterministic hash, which means they are \n",
    "# reproducible even if the function is run by a different user at a different time,\n",
    "# as long as the string in the identifying column is the same. \n",
    "\n",
    "identifying_columns = [\"owner\"]\n",
    "index_name = \"owner_id\"\n",
    "df = set_unique_index(df=df, columns_to_hash = identifying_columns, index_length_limit=12, index_name=index_name)\n",
    "df"
   ],
   "metadata": {
    "collapsed": false,
    "ExecuteTime": {
     "end_time": "2024-04-01T01:00:55.792163Z",
     "start_time": "2024-04-01T01:00:55.781845Z"
    }
   },
   "id": "fa13dd82fd715b68"
  },
  {
   "cell_type": "code",
   "execution_count": 22,
   "outputs": [
    {
     "data": {
      "text/plain": "owner                               object\nlocation                            object\npilot_parcel_no                     object\nunderlying_parcel_number            object\nbegin_date                  datetime64[ns]\nend_date                    datetime64[ns]\nassmt_taxes                         object\npilot_contract_amt                  object\npilot_debt_service_amt              object\ndifference                          object\ndtype: object"
     },
     "execution_count": 22,
     "metadata": {},
     "output_type": "execute_result"
    }
   ],
   "source": [
    "# Check the data types of each variable\n",
    "df.dtypes"
   ],
   "metadata": {
    "collapsed": false,
    "ExecuteTime": {
     "end_time": "2024-04-01T01:00:55.792397Z",
     "start_time": "2024-04-01T01:00:55.787430Z"
    }
   },
   "id": "fb1c412d6c764d7b"
  },
  {
   "cell_type": "code",
   "execution_count": 23,
   "outputs": [
    {
     "data": {
      "text/plain": "owner                       string[python]\nlocation                    string[python]\npilot_parcel_no             string[python]\nunderlying_parcel_number    string[python]\nbegin_date                  datetime64[ns]\nend_date                            object\nassmt_taxes                        float64\npilot_contract_amt                 float64\npilot_debt_service_amt             float64\ndifference                         float64\ndtype: object"
     },
     "execution_count": 23,
     "metadata": {},
     "output_type": "execute_result"
    }
   ],
   "source": [
    "# Fix the data type of each variable\n",
    "\n",
    "names_to_types = {'owner': 'string',\n",
    "                  'location': 'string',\n",
    "                  'pilot_parcel_no': 'string', \n",
    "                  'underlying_parcel_number': 'string',\n",
    "                  'begin_date': 'datetime64[ns]', \n",
    "                  'end_date': 'object',\n",
    "                  'assmt_taxes': 'float64',\n",
    "                  'pilot_contract_amt': 'float64',\n",
    "       'pilot_debt_service_amt': 'float64', \n",
    "                  'difference': 'float64'}\n",
    "df = cast_data_types(df, names_to_types)\n",
    "df.dtypes"
   ],
   "metadata": {
    "collapsed": false,
    "ExecuteTime": {
     "end_time": "2024-04-01T01:00:55.870408Z",
     "start_time": "2024-04-01T01:00:55.794546Z"
    }
   },
   "id": "fa0f0232d27d41fe"
  },
  {
   "cell_type": "code",
   "execution_count": 24,
   "outputs": [],
   "source": [
    "# Save the now-clean csv and convert it to utf-8 format\n",
    "outfile_path = \"../data/processed/s9_2022_idb_arlington.csv\"\n",
    "df.to_csv(outfile_path)\n",
    "convert_utf8(original_file_path=outfile_path, new_file_path=outfile_path)"
   ],
   "metadata": {
    "collapsed": false,
    "ExecuteTime": {
     "end_time": "2024-04-01T01:00:55.870586Z",
     "start_time": "2024-04-01T01:00:55.809263Z"
    }
   },
   "id": "209e2ad7bce3421"
  },
  {
   "cell_type": "code",
   "execution_count": 24,
   "outputs": [],
   "source": [],
   "metadata": {
    "collapsed": false,
    "ExecuteTime": {
     "end_time": "2024-04-01T01:00:55.870618Z",
     "start_time": "2024-04-01T01:00:55.811503Z"
    }
   },
   "id": "932f14634f70a566"
  }
 ],
 "metadata": {
  "kernelspec": {
   "display_name": "Python 3",
   "language": "python",
   "name": "python3"
  },
  "language_info": {
   "codemirror_mode": {
    "name": "ipython",
    "version": 2
   },
   "file_extension": ".py",
   "mimetype": "text/x-python",
   "name": "python",
   "nbconvert_exporter": "python",
   "pygments_lexer": "ipython2",
   "version": "2.7.6"
  }
 },
 "nbformat": 4,
 "nbformat_minor": 5
}
