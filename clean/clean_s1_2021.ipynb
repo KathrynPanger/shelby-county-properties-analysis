{
 "cells": [
  {
   "cell_type": "code",
   "execution_count": 1,
   "outputs": [
    {
     "name": "stdout",
     "output_type": "stream",
     "text": [
      "Intel MKL WARNING: Support of Intel(R) Streaming SIMD Extensions 4.2 (Intel(R) SSE4.2) enabled only processors has been deprecated. Intel oneAPI Math Kernel Library 2025.0 will require Intel(R) Advanced Vector Extensions (Intel(R) AVX) instructions.\n",
      "Intel MKL WARNING: Support of Intel(R) Streaming SIMD Extensions 4.2 (Intel(R) SSE4.2) enabled only processors has been deprecated. Intel oneAPI Math Kernel Library 2025.0 will require Intel(R) Advanced Vector Extensions (Intel(R) AVX) instructions.\n"
     ]
    }
   ],
   "source": [
    "import pandas as pd\n",
    "from utils import *"
   ],
   "metadata": {
    "collapsed": false,
    "ExecuteTime": {
     "end_time": "2024-04-01T00:55:35.821123Z",
     "start_time": "2024-04-01T00:55:34.871446Z"
    }
   },
   "id": "f890863474a831e4"
  },
  {
   "cell_type": "markdown",
   "source": [
    "<h1>Cleaning a CSV</h1>"
   ],
   "metadata": {
    "collapsed": false
   },
   "id": "37c2459a70173916"
  },
  {
   "cell_type": "markdown",
   "source": [
    "Read in a CSV"
   ],
   "metadata": {
    "collapsed": false
   },
   "id": "70312fa54485148"
  },
  {
   "cell_type": "code",
   "execution_count": 2,
   "outputs": [
    {
     "data": {
      "text/plain": "                                     Board  Number of Contracts  \\\n0              Downtown Memphis Commission                  127   \n1                            EDGE - Shelby                  226   \n2      Industrial Development of Arlington                   11   \n3       Industrial Development of Bartlett                    9   \n4   Industrial Development of Collierville                   10   \n5     Industrial Development of Germantown                    4   \n6     Industrial Development of Millington                    1   \n7       Health & Education Board - Memphis                  101   \n8        Health & Education Board - Shelby                    6   \n9                  Miscellaneous Contracts                    8   \n10      City / County Government Contracts                    5   \n\n   Amount Billed Pilot (INL) Amount Billed Debt Service    Assessment  \\\n0              $1,702,925.70              $1,354,076.55  $406,461,240   \n1              $4,078,933.42              $5,183,964.81  $730,912,470   \n2                $109,409.96                 $57,885.31    $9,546,730   \n3                 $22,387.74                $137,868.24   $10,152,780   \n4                $673,347.93                $816,687.94   $99,353,000   \n5                $315,681.29                $215,876.06   $38,602,690   \n6                  $8,757.14                 $92,733.24   $10,751,680   \n7              $1,263,358.70                      $0.00  $235,359,315   \n8                 $89,436.98                      $0.00   $30,543,560   \n9                 $29,640.00                      $0.00    $9,504,040   \n10                 $5,706.00                      $0.00    $3,371,400   \n\n   Tax Based on Assessment at 2021 Tax Rate      Difference  \\\n0                            $14,022,912.78  -10,965,910.53   \n1                            $25,216,480.22  -15,953,581.99   \n2                               $329,362.19     -162,066.92   \n3                               $350,270.91     -190,014.93   \n4                             $3,427,678.50   -1,937,642.63   \n5                             $1,331,792.81     -800,235.46   \n6                               $370,932.96     -269,442.58   \n7                             $8,119,896.37   -6,856,537.67   \n8                             $1,053,752.82     -964,315.84   \n9                               $327,889.38     -298,249.38   \n10                              $116,313.30     -110,607.30   \n\n   Percentage Total PILOT Billing  \n0                          18.92%  \n1                          57.32%  \n2                           1.04%  \n3                           0.99%  \n4                           9.22%  \n5                           3.29%  \n6                           0.63%  \n7                           7.82%  \n8                           0.55%  \n9                           0.18%  \n10                          0.04%  ",
      "text/html": "<div>\n<style scoped>\n    .dataframe tbody tr th:only-of-type {\n        vertical-align: middle;\n    }\n\n    .dataframe tbody tr th {\n        vertical-align: top;\n    }\n\n    .dataframe thead th {\n        text-align: right;\n    }\n</style>\n<table border=\"1\" class=\"dataframe\">\n  <thead>\n    <tr style=\"text-align: right;\">\n      <th></th>\n      <th>Board</th>\n      <th>Number of Contracts</th>\n      <th>Amount Billed Pilot (INL)</th>\n      <th>Amount Billed Debt Service</th>\n      <th>Assessment</th>\n      <th>Tax Based on Assessment at 2021 Tax Rate</th>\n      <th>Difference</th>\n      <th>Percentage Total PILOT Billing</th>\n    </tr>\n  </thead>\n  <tbody>\n    <tr>\n      <th>0</th>\n      <td>Downtown Memphis Commission</td>\n      <td>127</td>\n      <td>$1,702,925.70</td>\n      <td>$1,354,076.55</td>\n      <td>$406,461,240</td>\n      <td>$14,022,912.78</td>\n      <td>-10,965,910.53</td>\n      <td>18.92%</td>\n    </tr>\n    <tr>\n      <th>1</th>\n      <td>EDGE - Shelby</td>\n      <td>226</td>\n      <td>$4,078,933.42</td>\n      <td>$5,183,964.81</td>\n      <td>$730,912,470</td>\n      <td>$25,216,480.22</td>\n      <td>-15,953,581.99</td>\n      <td>57.32%</td>\n    </tr>\n    <tr>\n      <th>2</th>\n      <td>Industrial Development of Arlington</td>\n      <td>11</td>\n      <td>$109,409.96</td>\n      <td>$57,885.31</td>\n      <td>$9,546,730</td>\n      <td>$329,362.19</td>\n      <td>-162,066.92</td>\n      <td>1.04%</td>\n    </tr>\n    <tr>\n      <th>3</th>\n      <td>Industrial Development of Bartlett</td>\n      <td>9</td>\n      <td>$22,387.74</td>\n      <td>$137,868.24</td>\n      <td>$10,152,780</td>\n      <td>$350,270.91</td>\n      <td>-190,014.93</td>\n      <td>0.99%</td>\n    </tr>\n    <tr>\n      <th>4</th>\n      <td>Industrial Development of Collierville</td>\n      <td>10</td>\n      <td>$673,347.93</td>\n      <td>$816,687.94</td>\n      <td>$99,353,000</td>\n      <td>$3,427,678.50</td>\n      <td>-1,937,642.63</td>\n      <td>9.22%</td>\n    </tr>\n    <tr>\n      <th>5</th>\n      <td>Industrial Development of Germantown</td>\n      <td>4</td>\n      <td>$315,681.29</td>\n      <td>$215,876.06</td>\n      <td>$38,602,690</td>\n      <td>$1,331,792.81</td>\n      <td>-800,235.46</td>\n      <td>3.29%</td>\n    </tr>\n    <tr>\n      <th>6</th>\n      <td>Industrial Development of Millington</td>\n      <td>1</td>\n      <td>$8,757.14</td>\n      <td>$92,733.24</td>\n      <td>$10,751,680</td>\n      <td>$370,932.96</td>\n      <td>-269,442.58</td>\n      <td>0.63%</td>\n    </tr>\n    <tr>\n      <th>7</th>\n      <td>Health &amp; Education Board - Memphis</td>\n      <td>101</td>\n      <td>$1,263,358.70</td>\n      <td>$0.00</td>\n      <td>$235,359,315</td>\n      <td>$8,119,896.37</td>\n      <td>-6,856,537.67</td>\n      <td>7.82%</td>\n    </tr>\n    <tr>\n      <th>8</th>\n      <td>Health &amp; Education Board - Shelby</td>\n      <td>6</td>\n      <td>$89,436.98</td>\n      <td>$0.00</td>\n      <td>$30,543,560</td>\n      <td>$1,053,752.82</td>\n      <td>-964,315.84</td>\n      <td>0.55%</td>\n    </tr>\n    <tr>\n      <th>9</th>\n      <td>Miscellaneous Contracts</td>\n      <td>8</td>\n      <td>$29,640.00</td>\n      <td>$0.00</td>\n      <td>$9,504,040</td>\n      <td>$327,889.38</td>\n      <td>-298,249.38</td>\n      <td>0.18%</td>\n    </tr>\n    <tr>\n      <th>10</th>\n      <td>City / County Government Contracts</td>\n      <td>5</td>\n      <td>$5,706.00</td>\n      <td>$0.00</td>\n      <td>$3,371,400</td>\n      <td>$116,313.30</td>\n      <td>-110,607.30</td>\n      <td>0.04%</td>\n    </tr>\n  </tbody>\n</table>\n</div>"
     },
     "execution_count": 2,
     "metadata": {},
     "output_type": "execute_result"
    }
   ],
   "source": [
    "# load a dataframe\n",
    "infile_path = \"../data/raw/silver_shelby_county_properties_municipality_breakdown - s1_2021.csv\"\n",
    "df = pd.read_csv(infile_path)\n",
    "df"
   ],
   "metadata": {
    "collapsed": false,
    "ExecuteTime": {
     "end_time": "2024-04-01T00:55:35.836887Z",
     "start_time": "2024-04-01T00:55:35.822910Z"
    }
   },
   "id": "50cef4de40a6855d"
  },
  {
   "cell_type": "code",
   "execution_count": 3,
   "outputs": [
    {
     "data": {
      "text/plain": "Index(['board', 'number_of_contracts', 'amount_billed_pilot_inl',\n       'amount_billed_debt_service', 'assessment',\n       'tax_based_on_assessment_at_2021_tax_rate', 'difference',\n       'percentage_total_pilot_billing'],\n      dtype='object')"
     },
     "execution_count": 3,
     "metadata": {},
     "output_type": "execute_result"
    }
   ],
   "source": [
    "# Clean the column headers\n",
    "df = clean_headers(df, [remove_special_for_words, truncate, snake_case, lower_case])\n",
    "df.columns"
   ],
   "metadata": {
    "collapsed": false,
    "ExecuteTime": {
     "end_time": "2024-04-01T00:55:35.839573Z",
     "start_time": "2024-04-01T00:55:35.837074Z"
    }
   },
   "id": "f8e6a7fb4013b6e6"
  },
  {
   "cell_type": "code",
   "execution_count": 4,
   "outputs": [
    {
     "data": {
      "text/plain": "                                     board  number_of_contracts  \\\n0              downtown memphis commission                  127   \n1                              edge shelby                  226   \n2      industrial development of arlington                   11   \n3       industrial development of bartlett                    9   \n4   industrial development of collierville                   10   \n5     industrial development of germantown                    4   \n6     industrial development of millington                    1   \n7           health education board memphis                  101   \n8            health education board shelby                    6   \n9                  miscellaneous contracts                    8   \n10        city county government contracts                    5   \n\n   amount_billed_pilot_inl amount_billed_debt_service    assessment  \\\n0            $1,702,925.70              $1,354,076.55  $406,461,240   \n1            $4,078,933.42              $5,183,964.81  $730,912,470   \n2              $109,409.96                 $57,885.31    $9,546,730   \n3               $22,387.74                $137,868.24   $10,152,780   \n4              $673,347.93                $816,687.94   $99,353,000   \n5              $315,681.29                $215,876.06   $38,602,690   \n6                $8,757.14                 $92,733.24   $10,751,680   \n7            $1,263,358.70                      $0.00  $235,359,315   \n8               $89,436.98                      $0.00   $30,543,560   \n9               $29,640.00                      $0.00    $9,504,040   \n10               $5,706.00                      $0.00    $3,371,400   \n\n   tax_based_on_assessment_at_2021_tax_rate      difference  \\\n0                            $14,022,912.78  -10,965,910.53   \n1                            $25,216,480.22  -15,953,581.99   \n2                               $329,362.19     -162,066.92   \n3                               $350,270.91     -190,014.93   \n4                             $3,427,678.50   -1,937,642.63   \n5                             $1,331,792.81     -800,235.46   \n6                               $370,932.96     -269,442.58   \n7                             $8,119,896.37   -6,856,537.67   \n8                             $1,053,752.82     -964,315.84   \n9                               $327,889.38     -298,249.38   \n10                              $116,313.30     -110,607.30   \n\n   percentage_total_pilot_billing  \n0                          18.92%  \n1                          57.32%  \n2                           1.04%  \n3                           0.99%  \n4                           9.22%  \n5                           3.29%  \n6                           0.63%  \n7                           7.82%  \n8                           0.55%  \n9                           0.18%  \n10                          0.04%  ",
      "text/html": "<div>\n<style scoped>\n    .dataframe tbody tr th:only-of-type {\n        vertical-align: middle;\n    }\n\n    .dataframe tbody tr th {\n        vertical-align: top;\n    }\n\n    .dataframe thead th {\n        text-align: right;\n    }\n</style>\n<table border=\"1\" class=\"dataframe\">\n  <thead>\n    <tr style=\"text-align: right;\">\n      <th></th>\n      <th>board</th>\n      <th>number_of_contracts</th>\n      <th>amount_billed_pilot_inl</th>\n      <th>amount_billed_debt_service</th>\n      <th>assessment</th>\n      <th>tax_based_on_assessment_at_2021_tax_rate</th>\n      <th>difference</th>\n      <th>percentage_total_pilot_billing</th>\n    </tr>\n  </thead>\n  <tbody>\n    <tr>\n      <th>0</th>\n      <td>downtown memphis commission</td>\n      <td>127</td>\n      <td>$1,702,925.70</td>\n      <td>$1,354,076.55</td>\n      <td>$406,461,240</td>\n      <td>$14,022,912.78</td>\n      <td>-10,965,910.53</td>\n      <td>18.92%</td>\n    </tr>\n    <tr>\n      <th>1</th>\n      <td>edge shelby</td>\n      <td>226</td>\n      <td>$4,078,933.42</td>\n      <td>$5,183,964.81</td>\n      <td>$730,912,470</td>\n      <td>$25,216,480.22</td>\n      <td>-15,953,581.99</td>\n      <td>57.32%</td>\n    </tr>\n    <tr>\n      <th>2</th>\n      <td>industrial development of arlington</td>\n      <td>11</td>\n      <td>$109,409.96</td>\n      <td>$57,885.31</td>\n      <td>$9,546,730</td>\n      <td>$329,362.19</td>\n      <td>-162,066.92</td>\n      <td>1.04%</td>\n    </tr>\n    <tr>\n      <th>3</th>\n      <td>industrial development of bartlett</td>\n      <td>9</td>\n      <td>$22,387.74</td>\n      <td>$137,868.24</td>\n      <td>$10,152,780</td>\n      <td>$350,270.91</td>\n      <td>-190,014.93</td>\n      <td>0.99%</td>\n    </tr>\n    <tr>\n      <th>4</th>\n      <td>industrial development of collierville</td>\n      <td>10</td>\n      <td>$673,347.93</td>\n      <td>$816,687.94</td>\n      <td>$99,353,000</td>\n      <td>$3,427,678.50</td>\n      <td>-1,937,642.63</td>\n      <td>9.22%</td>\n    </tr>\n    <tr>\n      <th>5</th>\n      <td>industrial development of germantown</td>\n      <td>4</td>\n      <td>$315,681.29</td>\n      <td>$215,876.06</td>\n      <td>$38,602,690</td>\n      <td>$1,331,792.81</td>\n      <td>-800,235.46</td>\n      <td>3.29%</td>\n    </tr>\n    <tr>\n      <th>6</th>\n      <td>industrial development of millington</td>\n      <td>1</td>\n      <td>$8,757.14</td>\n      <td>$92,733.24</td>\n      <td>$10,751,680</td>\n      <td>$370,932.96</td>\n      <td>-269,442.58</td>\n      <td>0.63%</td>\n    </tr>\n    <tr>\n      <th>7</th>\n      <td>health education board memphis</td>\n      <td>101</td>\n      <td>$1,263,358.70</td>\n      <td>$0.00</td>\n      <td>$235,359,315</td>\n      <td>$8,119,896.37</td>\n      <td>-6,856,537.67</td>\n      <td>7.82%</td>\n    </tr>\n    <tr>\n      <th>8</th>\n      <td>health education board shelby</td>\n      <td>6</td>\n      <td>$89,436.98</td>\n      <td>$0.00</td>\n      <td>$30,543,560</td>\n      <td>$1,053,752.82</td>\n      <td>-964,315.84</td>\n      <td>0.55%</td>\n    </tr>\n    <tr>\n      <th>9</th>\n      <td>miscellaneous contracts</td>\n      <td>8</td>\n      <td>$29,640.00</td>\n      <td>$0.00</td>\n      <td>$9,504,040</td>\n      <td>$327,889.38</td>\n      <td>-298,249.38</td>\n      <td>0.18%</td>\n    </tr>\n    <tr>\n      <th>10</th>\n      <td>city county government contracts</td>\n      <td>5</td>\n      <td>$5,706.00</td>\n      <td>$0.00</td>\n      <td>$3,371,400</td>\n      <td>$116,313.30</td>\n      <td>-110,607.30</td>\n      <td>0.04%</td>\n    </tr>\n  </tbody>\n</table>\n</div>"
     },
     "execution_count": 4,
     "metadata": {},
     "output_type": "execute_result"
    }
   ],
   "source": [
    "# Clean the string columns\n",
    "string_columns = [\"board\"]\n",
    "df = clean_columns(df, string_columns, [remove_special_for_words, truncate, lower_case])\n",
    "df"
   ],
   "metadata": {
    "collapsed": false,
    "ExecuteTime": {
     "end_time": "2024-04-01T00:55:35.864636Z",
     "start_time": "2024-04-01T00:55:35.844064Z"
    }
   },
   "id": "67171db99d8fff6d"
  },
  {
   "cell_type": "code",
   "execution_count": 5,
   "outputs": [
    {
     "data": {
      "text/plain": "                                     board  number_of_contracts  \\\n0              downtown memphis commission                  127   \n1                              edge shelby                  226   \n2      industrial development of arlington                   11   \n3       industrial development of bartlett                    9   \n4   industrial development of collierville                   10   \n5     industrial development of germantown                    4   \n6     industrial development of millington                    1   \n7           health education board memphis                  101   \n8            health education board shelby                    6   \n9                  miscellaneous contracts                    8   \n10        city county government contracts                    5   \n\n   amount_billed_pilot_inl amount_billed_debt_service assessment  \\\n0               1702925.70                 1354076.55  406461240   \n1               4078933.42                 5183964.81  730912470   \n2                109409.96                   57885.31    9546730   \n3                 22387.74                  137868.24   10152780   \n4                673347.93                  816687.94   99353000   \n5                315681.29                  215876.06   38602690   \n6                  8757.14                   92733.24   10751680   \n7               1263358.70                       0.00  235359315   \n8                 89436.98                       0.00   30543560   \n9                 29640.00                       0.00    9504040   \n10                 5706.00                       0.00    3371400   \n\n   tax_based_on_assessment_at_2021_tax_rate    difference  \\\n0                               14022912.78  -10965910.53   \n1                               25216480.22  -15953581.99   \n2                                 329362.19    -162066.92   \n3                                 350270.91    -190014.93   \n4                                3427678.50   -1937642.63   \n5                                1331792.81    -800235.46   \n6                                 370932.96    -269442.58   \n7                                8119896.37   -6856537.67   \n8                                1053752.82    -964315.84   \n9                                 327889.38    -298249.38   \n10                                116313.30    -110607.30   \n\n   percentage_total_pilot_billing  \n0                           18.92  \n1                           57.32  \n2                            1.04  \n3                            0.99  \n4                            9.22  \n5                            3.29  \n6                            0.63  \n7                            7.82  \n8                            0.55  \n9                            0.18  \n10                           0.04  ",
      "text/html": "<div>\n<style scoped>\n    .dataframe tbody tr th:only-of-type {\n        vertical-align: middle;\n    }\n\n    .dataframe tbody tr th {\n        vertical-align: top;\n    }\n\n    .dataframe thead th {\n        text-align: right;\n    }\n</style>\n<table border=\"1\" class=\"dataframe\">\n  <thead>\n    <tr style=\"text-align: right;\">\n      <th></th>\n      <th>board</th>\n      <th>number_of_contracts</th>\n      <th>amount_billed_pilot_inl</th>\n      <th>amount_billed_debt_service</th>\n      <th>assessment</th>\n      <th>tax_based_on_assessment_at_2021_tax_rate</th>\n      <th>difference</th>\n      <th>percentage_total_pilot_billing</th>\n    </tr>\n  </thead>\n  <tbody>\n    <tr>\n      <th>0</th>\n      <td>downtown memphis commission</td>\n      <td>127</td>\n      <td>1702925.70</td>\n      <td>1354076.55</td>\n      <td>406461240</td>\n      <td>14022912.78</td>\n      <td>-10965910.53</td>\n      <td>18.92</td>\n    </tr>\n    <tr>\n      <th>1</th>\n      <td>edge shelby</td>\n      <td>226</td>\n      <td>4078933.42</td>\n      <td>5183964.81</td>\n      <td>730912470</td>\n      <td>25216480.22</td>\n      <td>-15953581.99</td>\n      <td>57.32</td>\n    </tr>\n    <tr>\n      <th>2</th>\n      <td>industrial development of arlington</td>\n      <td>11</td>\n      <td>109409.96</td>\n      <td>57885.31</td>\n      <td>9546730</td>\n      <td>329362.19</td>\n      <td>-162066.92</td>\n      <td>1.04</td>\n    </tr>\n    <tr>\n      <th>3</th>\n      <td>industrial development of bartlett</td>\n      <td>9</td>\n      <td>22387.74</td>\n      <td>137868.24</td>\n      <td>10152780</td>\n      <td>350270.91</td>\n      <td>-190014.93</td>\n      <td>0.99</td>\n    </tr>\n    <tr>\n      <th>4</th>\n      <td>industrial development of collierville</td>\n      <td>10</td>\n      <td>673347.93</td>\n      <td>816687.94</td>\n      <td>99353000</td>\n      <td>3427678.50</td>\n      <td>-1937642.63</td>\n      <td>9.22</td>\n    </tr>\n    <tr>\n      <th>5</th>\n      <td>industrial development of germantown</td>\n      <td>4</td>\n      <td>315681.29</td>\n      <td>215876.06</td>\n      <td>38602690</td>\n      <td>1331792.81</td>\n      <td>-800235.46</td>\n      <td>3.29</td>\n    </tr>\n    <tr>\n      <th>6</th>\n      <td>industrial development of millington</td>\n      <td>1</td>\n      <td>8757.14</td>\n      <td>92733.24</td>\n      <td>10751680</td>\n      <td>370932.96</td>\n      <td>-269442.58</td>\n      <td>0.63</td>\n    </tr>\n    <tr>\n      <th>7</th>\n      <td>health education board memphis</td>\n      <td>101</td>\n      <td>1263358.70</td>\n      <td>0.00</td>\n      <td>235359315</td>\n      <td>8119896.37</td>\n      <td>-6856537.67</td>\n      <td>7.82</td>\n    </tr>\n    <tr>\n      <th>8</th>\n      <td>health education board shelby</td>\n      <td>6</td>\n      <td>89436.98</td>\n      <td>0.00</td>\n      <td>30543560</td>\n      <td>1053752.82</td>\n      <td>-964315.84</td>\n      <td>0.55</td>\n    </tr>\n    <tr>\n      <th>9</th>\n      <td>miscellaneous contracts</td>\n      <td>8</td>\n      <td>29640.00</td>\n      <td>0.00</td>\n      <td>9504040</td>\n      <td>327889.38</td>\n      <td>-298249.38</td>\n      <td>0.18</td>\n    </tr>\n    <tr>\n      <th>10</th>\n      <td>city county government contracts</td>\n      <td>5</td>\n      <td>5706.00</td>\n      <td>0.00</td>\n      <td>3371400</td>\n      <td>116313.30</td>\n      <td>-110607.30</td>\n      <td>0.04</td>\n    </tr>\n  </tbody>\n</table>\n</div>"
     },
     "execution_count": 5,
     "metadata": {},
     "output_type": "execute_result"
    }
   ],
   "source": [
    "# Clean the numeric columns\n",
    "numeric_columns = ['amount_billed_pilot_inl', \n",
    "                   'amount_billed_debt_service', \n",
    "                   'assessment',\n",
    "                   'tax_based_on_assessment_at_2021_tax_rate', \n",
    "                   'difference',\n",
    "                   'percentage_total_pilot_billing']\n",
    "df = clean_columns(df, numeric_columns, [remove_special_for_numbers])\n",
    "df"
   ],
   "metadata": {
    "collapsed": false,
    "ExecuteTime": {
     "end_time": "2024-04-01T00:55:35.865360Z",
     "start_time": "2024-04-01T00:55:35.853450Z"
    }
   },
   "id": "fd553dbc31168c70"
  },
  {
   "cell_type": "code",
   "execution_count": 6,
   "outputs": [
    {
     "data": {
      "text/plain": "board                                       object\nnumber_of_contracts                          int64\namount_billed_pilot_inl                     object\namount_billed_debt_service                  object\nassessment                                  object\ntax_based_on_assessment_at_2021_tax_rate    object\ndifference                                  object\npercentage_total_pilot_billing              object\ndtype: object"
     },
     "execution_count": 6,
     "metadata": {},
     "output_type": "execute_result"
    }
   ],
   "source": [
    "# Check the data types of each variable\n",
    "df.dtypes"
   ],
   "metadata": {
    "collapsed": false,
    "ExecuteTime": {
     "end_time": "2024-04-01T00:55:35.881857Z",
     "start_time": "2024-04-01T00:55:35.857954Z"
    }
   },
   "id": "fb1c412d6c764d7b"
  },
  {
   "cell_type": "code",
   "execution_count": 7,
   "outputs": [
    {
     "data": {
      "text/plain": "board                                        object\nnumber_of_contracts                           int64\namount_billed_pilot_inl                     float64\namount_billed_debt_service                  float64\nassessment                                  float64\ntax_based_on_assessment_at_2021_tax_rate    float64\ndifference                                  float64\npercentage_total_pilot_billing              float64\ndtype: object"
     },
     "execution_count": 7,
     "metadata": {},
     "output_type": "execute_result"
    }
   ],
   "source": [
    "# Fix the data type of each variable\n",
    "names_to_types = {\"board\": str, \n",
    "                  \"number_of_contracts\": int, \n",
    "                  \"amount_billed_pilot_inl\": float, \n",
    "                  \"amount_billed_debt_service\": float, \n",
    "                  \"assessment\": float,\n",
    "                  \"tax_based_on_assessment_at_2021_tax_rate\": float, \n",
    "                  \"difference\": float,\n",
    "                  \"percentage_total_pilot_billing\": float,\n",
    "                  }\n",
    "df = cast_data_types(df, names_to_types)\n",
    "df.dtypes"
   ],
   "metadata": {
    "collapsed": false,
    "ExecuteTime": {
     "end_time": "2024-04-01T00:55:35.886274Z",
     "start_time": "2024-04-01T00:55:35.863415Z"
    }
   },
   "id": "fa0f0232d27d41fe"
  },
  {
   "cell_type": "code",
   "execution_count": 8,
   "outputs": [
    {
     "data": {
      "text/plain": "                                               board  number_of_contracts  \\\nboard_id                                                                    \n5b1f4c0c65a3             downtown memphis commission                  127   \nd5fe3a85ec4e                             edge shelby                  226   \nabb34861ca91     industrial development of arlington                   11   \naada4183f85c      industrial development of bartlett                    9   \n91e543f3085f  industrial development of collierville                   10   \n3f1cf0abc31c    industrial development of germantown                    4   \n757a7152194c    industrial development of millington                    1   \n3bcfcbd3a12d          health education board memphis                  101   \n64c9e33b120e           health education board shelby                    6   \ndf3a7c5fc143                 miscellaneous contracts                    8   \nac18571846b6        city county government contracts                    5   \n\n              amount_billed_pilot_inl  amount_billed_debt_service  \\\nboard_id                                                            \n5b1f4c0c65a3               1702925.70                  1354076.55   \nd5fe3a85ec4e               4078933.42                  5183964.81   \nabb34861ca91                109409.96                    57885.31   \naada4183f85c                 22387.74                   137868.24   \n91e543f3085f                673347.93                   816687.94   \n3f1cf0abc31c                315681.29                   215876.06   \n757a7152194c                  8757.14                    92733.24   \n3bcfcbd3a12d               1263358.70                        0.00   \n64c9e33b120e                 89436.98                        0.00   \ndf3a7c5fc143                 29640.00                        0.00   \nac18571846b6                  5706.00                        0.00   \n\n               assessment  tax_based_on_assessment_at_2021_tax_rate  \\\nboard_id                                                              \n5b1f4c0c65a3  406461240.0                               14022912.78   \nd5fe3a85ec4e  730912470.0                               25216480.22   \nabb34861ca91    9546730.0                                 329362.19   \naada4183f85c   10152780.0                                 350270.91   \n91e543f3085f   99353000.0                                3427678.50   \n3f1cf0abc31c   38602690.0                                1331792.81   \n757a7152194c   10751680.0                                 370932.96   \n3bcfcbd3a12d  235359315.0                                8119896.37   \n64c9e33b120e   30543560.0                                1053752.82   \ndf3a7c5fc143    9504040.0                                 327889.38   \nac18571846b6    3371400.0                                 116313.30   \n\n               difference  percentage_total_pilot_billing  \nboard_id                                                   \n5b1f4c0c65a3 -10965910.53                           18.92  \nd5fe3a85ec4e -15953581.99                           57.32  \nabb34861ca91   -162066.92                            1.04  \naada4183f85c   -190014.93                            0.99  \n91e543f3085f  -1937642.63                            9.22  \n3f1cf0abc31c   -800235.46                            3.29  \n757a7152194c   -269442.58                            0.63  \n3bcfcbd3a12d  -6856537.67                            7.82  \n64c9e33b120e   -964315.84                            0.55  \ndf3a7c5fc143   -298249.38                            0.18  \nac18571846b6   -110607.30                            0.04  ",
      "text/html": "<div>\n<style scoped>\n    .dataframe tbody tr th:only-of-type {\n        vertical-align: middle;\n    }\n\n    .dataframe tbody tr th {\n        vertical-align: top;\n    }\n\n    .dataframe thead th {\n        text-align: right;\n    }\n</style>\n<table border=\"1\" class=\"dataframe\">\n  <thead>\n    <tr style=\"text-align: right;\">\n      <th></th>\n      <th>board</th>\n      <th>number_of_contracts</th>\n      <th>amount_billed_pilot_inl</th>\n      <th>amount_billed_debt_service</th>\n      <th>assessment</th>\n      <th>tax_based_on_assessment_at_2021_tax_rate</th>\n      <th>difference</th>\n      <th>percentage_total_pilot_billing</th>\n    </tr>\n    <tr>\n      <th>board_id</th>\n      <th></th>\n      <th></th>\n      <th></th>\n      <th></th>\n      <th></th>\n      <th></th>\n      <th></th>\n      <th></th>\n    </tr>\n  </thead>\n  <tbody>\n    <tr>\n      <th>5b1f4c0c65a3</th>\n      <td>downtown memphis commission</td>\n      <td>127</td>\n      <td>1702925.70</td>\n      <td>1354076.55</td>\n      <td>406461240.0</td>\n      <td>14022912.78</td>\n      <td>-10965910.53</td>\n      <td>18.92</td>\n    </tr>\n    <tr>\n      <th>d5fe3a85ec4e</th>\n      <td>edge shelby</td>\n      <td>226</td>\n      <td>4078933.42</td>\n      <td>5183964.81</td>\n      <td>730912470.0</td>\n      <td>25216480.22</td>\n      <td>-15953581.99</td>\n      <td>57.32</td>\n    </tr>\n    <tr>\n      <th>abb34861ca91</th>\n      <td>industrial development of arlington</td>\n      <td>11</td>\n      <td>109409.96</td>\n      <td>57885.31</td>\n      <td>9546730.0</td>\n      <td>329362.19</td>\n      <td>-162066.92</td>\n      <td>1.04</td>\n    </tr>\n    <tr>\n      <th>aada4183f85c</th>\n      <td>industrial development of bartlett</td>\n      <td>9</td>\n      <td>22387.74</td>\n      <td>137868.24</td>\n      <td>10152780.0</td>\n      <td>350270.91</td>\n      <td>-190014.93</td>\n      <td>0.99</td>\n    </tr>\n    <tr>\n      <th>91e543f3085f</th>\n      <td>industrial development of collierville</td>\n      <td>10</td>\n      <td>673347.93</td>\n      <td>816687.94</td>\n      <td>99353000.0</td>\n      <td>3427678.50</td>\n      <td>-1937642.63</td>\n      <td>9.22</td>\n    </tr>\n    <tr>\n      <th>3f1cf0abc31c</th>\n      <td>industrial development of germantown</td>\n      <td>4</td>\n      <td>315681.29</td>\n      <td>215876.06</td>\n      <td>38602690.0</td>\n      <td>1331792.81</td>\n      <td>-800235.46</td>\n      <td>3.29</td>\n    </tr>\n    <tr>\n      <th>757a7152194c</th>\n      <td>industrial development of millington</td>\n      <td>1</td>\n      <td>8757.14</td>\n      <td>92733.24</td>\n      <td>10751680.0</td>\n      <td>370932.96</td>\n      <td>-269442.58</td>\n      <td>0.63</td>\n    </tr>\n    <tr>\n      <th>3bcfcbd3a12d</th>\n      <td>health education board memphis</td>\n      <td>101</td>\n      <td>1263358.70</td>\n      <td>0.00</td>\n      <td>235359315.0</td>\n      <td>8119896.37</td>\n      <td>-6856537.67</td>\n      <td>7.82</td>\n    </tr>\n    <tr>\n      <th>64c9e33b120e</th>\n      <td>health education board shelby</td>\n      <td>6</td>\n      <td>89436.98</td>\n      <td>0.00</td>\n      <td>30543560.0</td>\n      <td>1053752.82</td>\n      <td>-964315.84</td>\n      <td>0.55</td>\n    </tr>\n    <tr>\n      <th>df3a7c5fc143</th>\n      <td>miscellaneous contracts</td>\n      <td>8</td>\n      <td>29640.00</td>\n      <td>0.00</td>\n      <td>9504040.0</td>\n      <td>327889.38</td>\n      <td>-298249.38</td>\n      <td>0.18</td>\n    </tr>\n    <tr>\n      <th>ac18571846b6</th>\n      <td>city county government contracts</td>\n      <td>5</td>\n      <td>5706.00</td>\n      <td>0.00</td>\n      <td>3371400.0</td>\n      <td>116313.30</td>\n      <td>-110607.30</td>\n      <td>0.04</td>\n    </tr>\n  </tbody>\n</table>\n</div>"
     },
     "execution_count": 8,
     "metadata": {},
     "output_type": "execute_result"
    }
   ],
   "source": [
    "# Create a unique index column based on the values in the identifying column\n",
    "# Note: Ids are based on a deterministic hash, which means they are \n",
    "# reproducible even if the function is run by a different user at a different time,\n",
    "# as long as the string in the identifying column is the same. \n",
    "\n",
    "identifying_columns = [\"board\"]\n",
    "index_name = \"board_id\"\n",
    "df = set_unique_index(df=df, columns_to_hash = identifying_columns, index_length_limit=12, index_name=index_name)\n",
    "df"
   ],
   "metadata": {
    "collapsed": false,
    "ExecuteTime": {
     "end_time": "2024-04-01T00:55:35.895655Z",
     "start_time": "2024-04-01T00:55:35.873695Z"
    }
   },
   "id": "fa13dd82fd715b68"
  },
  {
   "cell_type": "code",
   "execution_count": 9,
   "outputs": [],
   "source": [
    "# Save the now-clean csv and convert it to utf-8 format\n",
    "outfile_path = \"../data/processed/s1_2021.csv\"\n",
    "df.to_csv(outfile_path)\n",
    "convert_utf8(original_file_path=outfile_path, new_file_path=outfile_path)"
   ],
   "metadata": {
    "collapsed": false,
    "ExecuteTime": {
     "end_time": "2024-04-01T00:55:35.896108Z",
     "start_time": "2024-04-01T00:55:35.877011Z"
    }
   },
   "id": "209e2ad7bce3421"
  },
  {
   "cell_type": "code",
   "execution_count": 9,
   "outputs": [],
   "source": [],
   "metadata": {
    "collapsed": false,
    "ExecuteTime": {
     "end_time": "2024-04-01T00:55:35.896320Z",
     "start_time": "2024-04-01T00:55:35.884437Z"
    }
   },
   "id": "735c05af5ce3d757"
  }
 ],
 "metadata": {
  "kernelspec": {
   "display_name": "Python 3",
   "language": "python",
   "name": "python3"
  },
  "language_info": {
   "codemirror_mode": {
    "name": "ipython",
    "version": 2
   },
   "file_extension": ".py",
   "mimetype": "text/x-python",
   "name": "python",
   "nbconvert_exporter": "python",
   "pygments_lexer": "ipython2",
   "version": "2.7.6"
  }
 },
 "nbformat": 4,
 "nbformat_minor": 5
}
