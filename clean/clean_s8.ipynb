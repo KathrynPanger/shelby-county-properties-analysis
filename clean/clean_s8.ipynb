{
 "cells": [
  {
   "cell_type": "code",
   "execution_count": 14,
   "outputs": [],
   "source": [
    "import pandas as pd\n",
    "from utils import *\n",
    "from typing import Any"
   ],
   "metadata": {
    "collapsed": false,
    "ExecuteTime": {
     "end_time": "2024-04-01T01:00:44.283462Z",
     "start_time": "2024-04-01T01:00:44.222181Z"
    }
   },
   "id": "f890863474a831e4"
  },
  {
   "cell_type": "markdown",
   "source": [
    "<h1>Cleaning a CSV</h1>"
   ],
   "metadata": {
    "collapsed": false
   },
   "id": "37c2459a70173916"
  },
  {
   "cell_type": "markdown",
   "source": [
    "Read in a CSV"
   ],
   "metadata": {
    "collapsed": false
   },
   "id": "70312fa54485148"
  },
  {
   "cell_type": "code",
   "execution_count": 15,
   "outputs": [
    {
     "data": {
      "text/plain": "                                               Owner             Location  \\\n0          NATIONAL CHURCH RESIDENCES OF MEMPHIS, TN        5819 NEWBERRY   \n1                         BEARMAN-GOLDEN GARDENS INC           4755 NEELY   \n2  MEMPHIS VOLUNTEERS OF AMERICA ELDERLY HOUSING INC     3815 AUSTIN PEAY   \n3                                C E WARE TOWERS INC        3571 HWY 61 S   \n4                              CALDWELL HOUSING CORP         2310 ARDMORE   \n5                           WILLOW CREEK HOUSING INC  3840 COVINGTON PIKE   \n6                                       CHARIS ACRES          2131 WILSON   \n7                             CAAP PLACE OF HOPE INC        1347 FERGUSON   \n8                  ALPHA OMEGA VETERANS SERVICES INC           1465 COURT   \n9                                         SHIELD INC         2450 KETCHUM   \n\n  PILOT Parcel No Underlying Parcel Number  Begin Date     End Date  \\\n0  IMC00000000010           0934000000224C  07/17/2009  End of Loan   \n1  IMC00000000020            7608900000760  11/20/2009  End of Loan   \n2  IMC00000000030            8601500000770  04/21/2010  End of Loan   \n3  IMC00000000050            7507400000750  10/01/2008  End of Loan   \n4  IMC00000000060            7209400000750  04/23/2011  End of Loan   \n5  IMC00000000070           0870780000009C  09/06/2011  End of Loan   \n6  IMC00000000080           0790870000058C  12/18/2012  End of Loan   \n7  IMC00000000090           0601620000005C  09/03/2010  End of Loan   \n8  IMC00000000100           0170220000007C  08/10/2012  End of Loan   \n9  IMC00000000040            6013700002070  11/18/2008  End of Loan   \n\n  Assmt Taxes PILOT Contract Amt PILOT Debt Service Amt Difference  \n0     $48,557             $2,940                     $0   -$45,617  \n1     $41,933             $3,300                     $0   -$38,633  \n2     $62,055             $2,700                     $0   -$59,355  \n3     $20,937             $3,300                     $0   -$17,637  \n4     $11,108               $840                     $0   -$10,268  \n5     $99,252            $13,920                     $0   -$85,332  \n6     $27,192             $1,740                     $0   -$25,452  \n7     $11,153               $900                     $0   -$10,253  \n8     $21,776             $1,920                     $0   -$19,856  \n9     $12,950             $3,900                     $0    -$9,050  ",
      "text/html": "<div>\n<style scoped>\n    .dataframe tbody tr th:only-of-type {\n        vertical-align: middle;\n    }\n\n    .dataframe tbody tr th {\n        vertical-align: top;\n    }\n\n    .dataframe thead th {\n        text-align: right;\n    }\n</style>\n<table border=\"1\" class=\"dataframe\">\n  <thead>\n    <tr style=\"text-align: right;\">\n      <th></th>\n      <th>Owner</th>\n      <th>Location</th>\n      <th>PILOT Parcel No</th>\n      <th>Underlying Parcel Number</th>\n      <th>Begin Date</th>\n      <th>End Date</th>\n      <th>Assmt Taxes</th>\n      <th>PILOT Contract Amt</th>\n      <th>PILOT Debt Service Amt</th>\n      <th>Difference</th>\n    </tr>\n  </thead>\n  <tbody>\n    <tr>\n      <th>0</th>\n      <td>NATIONAL CHURCH RESIDENCES OF MEMPHIS, TN</td>\n      <td>5819 NEWBERRY</td>\n      <td>IMC00000000010</td>\n      <td>0934000000224C</td>\n      <td>07/17/2009</td>\n      <td>End of Loan</td>\n      <td>$48,557</td>\n      <td>$2,940</td>\n      <td>$0</td>\n      <td>-$45,617</td>\n    </tr>\n    <tr>\n      <th>1</th>\n      <td>BEARMAN-GOLDEN GARDENS INC</td>\n      <td>4755 NEELY</td>\n      <td>IMC00000000020</td>\n      <td>7608900000760</td>\n      <td>11/20/2009</td>\n      <td>End of Loan</td>\n      <td>$41,933</td>\n      <td>$3,300</td>\n      <td>$0</td>\n      <td>-$38,633</td>\n    </tr>\n    <tr>\n      <th>2</th>\n      <td>MEMPHIS VOLUNTEERS OF AMERICA ELDERLY HOUSING INC</td>\n      <td>3815 AUSTIN PEAY</td>\n      <td>IMC00000000030</td>\n      <td>8601500000770</td>\n      <td>04/21/2010</td>\n      <td>End of Loan</td>\n      <td>$62,055</td>\n      <td>$2,700</td>\n      <td>$0</td>\n      <td>-$59,355</td>\n    </tr>\n    <tr>\n      <th>3</th>\n      <td>C E WARE TOWERS INC</td>\n      <td>3571 HWY 61 S</td>\n      <td>IMC00000000050</td>\n      <td>7507400000750</td>\n      <td>10/01/2008</td>\n      <td>End of Loan</td>\n      <td>$20,937</td>\n      <td>$3,300</td>\n      <td>$0</td>\n      <td>-$17,637</td>\n    </tr>\n    <tr>\n      <th>4</th>\n      <td>CALDWELL HOUSING CORP</td>\n      <td>2310 ARDMORE</td>\n      <td>IMC00000000060</td>\n      <td>7209400000750</td>\n      <td>04/23/2011</td>\n      <td>End of Loan</td>\n      <td>$11,108</td>\n      <td>$840</td>\n      <td>$0</td>\n      <td>-$10,268</td>\n    </tr>\n    <tr>\n      <th>5</th>\n      <td>WILLOW CREEK HOUSING INC</td>\n      <td>3840 COVINGTON PIKE</td>\n      <td>IMC00000000070</td>\n      <td>0870780000009C</td>\n      <td>09/06/2011</td>\n      <td>End of Loan</td>\n      <td>$99,252</td>\n      <td>$13,920</td>\n      <td>$0</td>\n      <td>-$85,332</td>\n    </tr>\n    <tr>\n      <th>6</th>\n      <td>CHARIS ACRES</td>\n      <td>2131 WILSON</td>\n      <td>IMC00000000080</td>\n      <td>0790870000058C</td>\n      <td>12/18/2012</td>\n      <td>End of Loan</td>\n      <td>$27,192</td>\n      <td>$1,740</td>\n      <td>$0</td>\n      <td>-$25,452</td>\n    </tr>\n    <tr>\n      <th>7</th>\n      <td>CAAP PLACE OF HOPE INC</td>\n      <td>1347 FERGUSON</td>\n      <td>IMC00000000090</td>\n      <td>0601620000005C</td>\n      <td>09/03/2010</td>\n      <td>End of Loan</td>\n      <td>$11,153</td>\n      <td>$900</td>\n      <td>$0</td>\n      <td>-$10,253</td>\n    </tr>\n    <tr>\n      <th>8</th>\n      <td>ALPHA OMEGA VETERANS SERVICES INC</td>\n      <td>1465 COURT</td>\n      <td>IMC00000000100</td>\n      <td>0170220000007C</td>\n      <td>08/10/2012</td>\n      <td>End of Loan</td>\n      <td>$21,776</td>\n      <td>$1,920</td>\n      <td>$0</td>\n      <td>-$19,856</td>\n    </tr>\n    <tr>\n      <th>9</th>\n      <td>SHIELD INC</td>\n      <td>2450 KETCHUM</td>\n      <td>IMC00000000040</td>\n      <td>6013700002070</td>\n      <td>11/18/2008</td>\n      <td>End of Loan</td>\n      <td>$12,950</td>\n      <td>$3,900</td>\n      <td>$0</td>\n      <td>-$9,050</td>\n    </tr>\n  </tbody>\n</table>\n</div>"
     },
     "execution_count": 15,
     "metadata": {},
     "output_type": "execute_result"
    }
   ],
   "source": [
    "# load a dataframe\n",
    "infile_path = \"../data/raw/silver_shelby_county_properties_municipality_breakdown - s8_2022_imc_contracts.csv\"\n",
    "df = pd.read_csv(infile_path)\n",
    "df"
   ],
   "metadata": {
    "collapsed": false,
    "ExecuteTime": {
     "end_time": "2024-04-01T01:00:44.313708Z",
     "start_time": "2024-04-01T01:00:44.229749Z"
    }
   },
   "id": "50cef4de40a6855d"
  },
  {
   "cell_type": "code",
   "execution_count": 16,
   "outputs": [
    {
     "data": {
      "text/plain": "Index(['owner', 'location', 'pilot_parcel_no', 'underlying_parcel_number',\n       'begin_date', 'end_date', 'assmt_taxes', 'pilot_contract_amt',\n       'pilot_debt_service_amt', 'difference'],\n      dtype='object')"
     },
     "execution_count": 16,
     "metadata": {},
     "output_type": "execute_result"
    }
   ],
   "source": [
    "# Clean the column headers\n",
    "df = clean_headers(df, [remove_special_for_words, truncate, snake_case, lower_case])\n",
    "df.columns"
   ],
   "metadata": {
    "collapsed": false,
    "ExecuteTime": {
     "end_time": "2024-04-01T01:00:44.313916Z",
     "start_time": "2024-04-01T01:00:44.255961Z"
    }
   },
   "id": "f8e6a7fb4013b6e6"
  },
  {
   "cell_type": "code",
   "execution_count": 17,
   "outputs": [
    {
     "data": {
      "text/plain": "                                               owner             location  \\\n0           national church residences of memphis tn        5819 newberry   \n1                         bearman golden gardens inc           4755 neely   \n2  memphis volunteers of america elderly housing inc     3815 austin peay   \n3                                c e ware towers inc        3571 hwy 61 s   \n4                              caldwell housing corp         2310 ardmore   \n5                           willow creek housing inc  3840 covington pike   \n6                                       charis acres          2131 wilson   \n7                             caap place of hope inc        1347 ferguson   \n8                  alpha omega veterans services inc           1465 court   \n9                                         shield inc         2450 ketchum   \n\n  pilot_parcel_no underlying_parcel_number  begin_date     end_date  \\\n0  IMC00000000010           0934000000224C  07/17/2009  End of Loan   \n1  IMC00000000020            7608900000760  11/20/2009  End of Loan   \n2  IMC00000000030            8601500000770  04/21/2010  End of Loan   \n3  IMC00000000050            7507400000750  10/01/2008  End of Loan   \n4  IMC00000000060            7209400000750  04/23/2011  End of Loan   \n5  IMC00000000070           0870780000009C  09/06/2011  End of Loan   \n6  IMC00000000080           0790870000058C  12/18/2012  End of Loan   \n7  IMC00000000090           0601620000005C  09/03/2010  End of Loan   \n8  IMC00000000100           0170220000007C  08/10/2012  End of Loan   \n9  IMC00000000040            6013700002070  11/18/2008  End of Loan   \n\n  assmt_taxes pilot_contract_amt pilot_debt_service_amt difference  \n0     $48,557             $2,940                     $0   -$45,617  \n1     $41,933             $3,300                     $0   -$38,633  \n2     $62,055             $2,700                     $0   -$59,355  \n3     $20,937             $3,300                     $0   -$17,637  \n4     $11,108               $840                     $0   -$10,268  \n5     $99,252            $13,920                     $0   -$85,332  \n6     $27,192             $1,740                     $0   -$25,452  \n7     $11,153               $900                     $0   -$10,253  \n8     $21,776             $1,920                     $0   -$19,856  \n9     $12,950             $3,900                     $0    -$9,050  ",
      "text/html": "<div>\n<style scoped>\n    .dataframe tbody tr th:only-of-type {\n        vertical-align: middle;\n    }\n\n    .dataframe tbody tr th {\n        vertical-align: top;\n    }\n\n    .dataframe thead th {\n        text-align: right;\n    }\n</style>\n<table border=\"1\" class=\"dataframe\">\n  <thead>\n    <tr style=\"text-align: right;\">\n      <th></th>\n      <th>owner</th>\n      <th>location</th>\n      <th>pilot_parcel_no</th>\n      <th>underlying_parcel_number</th>\n      <th>begin_date</th>\n      <th>end_date</th>\n      <th>assmt_taxes</th>\n      <th>pilot_contract_amt</th>\n      <th>pilot_debt_service_amt</th>\n      <th>difference</th>\n    </tr>\n  </thead>\n  <tbody>\n    <tr>\n      <th>0</th>\n      <td>national church residences of memphis tn</td>\n      <td>5819 newberry</td>\n      <td>IMC00000000010</td>\n      <td>0934000000224C</td>\n      <td>07/17/2009</td>\n      <td>End of Loan</td>\n      <td>$48,557</td>\n      <td>$2,940</td>\n      <td>$0</td>\n      <td>-$45,617</td>\n    </tr>\n    <tr>\n      <th>1</th>\n      <td>bearman golden gardens inc</td>\n      <td>4755 neely</td>\n      <td>IMC00000000020</td>\n      <td>7608900000760</td>\n      <td>11/20/2009</td>\n      <td>End of Loan</td>\n      <td>$41,933</td>\n      <td>$3,300</td>\n      <td>$0</td>\n      <td>-$38,633</td>\n    </tr>\n    <tr>\n      <th>2</th>\n      <td>memphis volunteers of america elderly housing inc</td>\n      <td>3815 austin peay</td>\n      <td>IMC00000000030</td>\n      <td>8601500000770</td>\n      <td>04/21/2010</td>\n      <td>End of Loan</td>\n      <td>$62,055</td>\n      <td>$2,700</td>\n      <td>$0</td>\n      <td>-$59,355</td>\n    </tr>\n    <tr>\n      <th>3</th>\n      <td>c e ware towers inc</td>\n      <td>3571 hwy 61 s</td>\n      <td>IMC00000000050</td>\n      <td>7507400000750</td>\n      <td>10/01/2008</td>\n      <td>End of Loan</td>\n      <td>$20,937</td>\n      <td>$3,300</td>\n      <td>$0</td>\n      <td>-$17,637</td>\n    </tr>\n    <tr>\n      <th>4</th>\n      <td>caldwell housing corp</td>\n      <td>2310 ardmore</td>\n      <td>IMC00000000060</td>\n      <td>7209400000750</td>\n      <td>04/23/2011</td>\n      <td>End of Loan</td>\n      <td>$11,108</td>\n      <td>$840</td>\n      <td>$0</td>\n      <td>-$10,268</td>\n    </tr>\n    <tr>\n      <th>5</th>\n      <td>willow creek housing inc</td>\n      <td>3840 covington pike</td>\n      <td>IMC00000000070</td>\n      <td>0870780000009C</td>\n      <td>09/06/2011</td>\n      <td>End of Loan</td>\n      <td>$99,252</td>\n      <td>$13,920</td>\n      <td>$0</td>\n      <td>-$85,332</td>\n    </tr>\n    <tr>\n      <th>6</th>\n      <td>charis acres</td>\n      <td>2131 wilson</td>\n      <td>IMC00000000080</td>\n      <td>0790870000058C</td>\n      <td>12/18/2012</td>\n      <td>End of Loan</td>\n      <td>$27,192</td>\n      <td>$1,740</td>\n      <td>$0</td>\n      <td>-$25,452</td>\n    </tr>\n    <tr>\n      <th>7</th>\n      <td>caap place of hope inc</td>\n      <td>1347 ferguson</td>\n      <td>IMC00000000090</td>\n      <td>0601620000005C</td>\n      <td>09/03/2010</td>\n      <td>End of Loan</td>\n      <td>$11,153</td>\n      <td>$900</td>\n      <td>$0</td>\n      <td>-$10,253</td>\n    </tr>\n    <tr>\n      <th>8</th>\n      <td>alpha omega veterans services inc</td>\n      <td>1465 court</td>\n      <td>IMC00000000100</td>\n      <td>0170220000007C</td>\n      <td>08/10/2012</td>\n      <td>End of Loan</td>\n      <td>$21,776</td>\n      <td>$1,920</td>\n      <td>$0</td>\n      <td>-$19,856</td>\n    </tr>\n    <tr>\n      <th>9</th>\n      <td>shield inc</td>\n      <td>2450 ketchum</td>\n      <td>IMC00000000040</td>\n      <td>6013700002070</td>\n      <td>11/18/2008</td>\n      <td>End of Loan</td>\n      <td>$12,950</td>\n      <td>$3,900</td>\n      <td>$0</td>\n      <td>-$9,050</td>\n    </tr>\n  </tbody>\n</table>\n</div>"
     },
     "execution_count": 17,
     "metadata": {},
     "output_type": "execute_result"
    }
   ],
   "source": [
    "# Clean the string columns\n",
    "string_columns = [\"owner\", \n",
    "                  \"location\"]\n",
    "df = clean_columns(df, string_columns, [remove_special_for_words, truncate, lower_case])\n",
    "df"
   ],
   "metadata": {
    "collapsed": false,
    "ExecuteTime": {
     "end_time": "2024-04-01T01:00:44.314148Z",
     "start_time": "2024-04-01T01:00:44.259453Z"
    }
   },
   "id": "67171db99d8fff6d"
  },
  {
   "cell_type": "code",
   "execution_count": 18,
   "outputs": [
    {
     "data": {
      "text/plain": "Index(['owner', 'location', 'pilot_parcel_no', 'underlying_parcel_number',\n       'begin_date', 'end_date', 'assmt_taxes', 'pilot_contract_amt',\n       'pilot_debt_service_amt', 'difference'],\n      dtype='object')"
     },
     "execution_count": 18,
     "metadata": {},
     "output_type": "execute_result"
    }
   ],
   "source": [
    "df.columns"
   ],
   "metadata": {
    "collapsed": false,
    "ExecuteTime": {
     "end_time": "2024-04-01T01:00:44.314217Z",
     "start_time": "2024-04-01T01:00:44.268925Z"
    }
   },
   "id": "4484a9731b2bde17"
  },
  {
   "cell_type": "code",
   "execution_count": 19,
   "outputs": [
    {
     "data": {
      "text/plain": "                                               owner             location  \\\n0           national church residences of memphis tn        5819 newberry   \n1                         bearman golden gardens inc           4755 neely   \n2  memphis volunteers of america elderly housing inc     3815 austin peay   \n3                                c e ware towers inc        3571 hwy 61 s   \n4                              caldwell housing corp         2310 ardmore   \n5                           willow creek housing inc  3840 covington pike   \n6                                       charis acres          2131 wilson   \n7                             caap place of hope inc        1347 ferguson   \n8                  alpha omega veterans services inc           1465 court   \n9                                         shield inc         2450 ketchum   \n\n  pilot_parcel_no underlying_parcel_number  begin_date     end_date  \\\n0  IMC00000000010           0934000000224C  07/17/2009  End of Loan   \n1  IMC00000000020            7608900000760  11/20/2009  End of Loan   \n2  IMC00000000030            8601500000770  04/21/2010  End of Loan   \n3  IMC00000000050            7507400000750  10/01/2008  End of Loan   \n4  IMC00000000060            7209400000750  04/23/2011  End of Loan   \n5  IMC00000000070           0870780000009C  09/06/2011  End of Loan   \n6  IMC00000000080           0790870000058C  12/18/2012  End of Loan   \n7  IMC00000000090           0601620000005C  09/03/2010  End of Loan   \n8  IMC00000000100           0170220000007C  08/10/2012  End of Loan   \n9  IMC00000000040            6013700002070  11/18/2008  End of Loan   \n\n  assmt_taxes pilot_contract_amt pilot_debt_service_amt difference  \n0       48557               2940                      0     -45617  \n1       41933               3300                      0     -38633  \n2       62055               2700                      0     -59355  \n3       20937               3300                      0     -17637  \n4       11108                840                      0     -10268  \n5       99252              13920                      0     -85332  \n6       27192               1740                      0     -25452  \n7       11153                900                      0     -10253  \n8       21776               1920                      0     -19856  \n9       12950               3900                      0      -9050  ",
      "text/html": "<div>\n<style scoped>\n    .dataframe tbody tr th:only-of-type {\n        vertical-align: middle;\n    }\n\n    .dataframe tbody tr th {\n        vertical-align: top;\n    }\n\n    .dataframe thead th {\n        text-align: right;\n    }\n</style>\n<table border=\"1\" class=\"dataframe\">\n  <thead>\n    <tr style=\"text-align: right;\">\n      <th></th>\n      <th>owner</th>\n      <th>location</th>\n      <th>pilot_parcel_no</th>\n      <th>underlying_parcel_number</th>\n      <th>begin_date</th>\n      <th>end_date</th>\n      <th>assmt_taxes</th>\n      <th>pilot_contract_amt</th>\n      <th>pilot_debt_service_amt</th>\n      <th>difference</th>\n    </tr>\n  </thead>\n  <tbody>\n    <tr>\n      <th>0</th>\n      <td>national church residences of memphis tn</td>\n      <td>5819 newberry</td>\n      <td>IMC00000000010</td>\n      <td>0934000000224C</td>\n      <td>07/17/2009</td>\n      <td>End of Loan</td>\n      <td>48557</td>\n      <td>2940</td>\n      <td>0</td>\n      <td>-45617</td>\n    </tr>\n    <tr>\n      <th>1</th>\n      <td>bearman golden gardens inc</td>\n      <td>4755 neely</td>\n      <td>IMC00000000020</td>\n      <td>7608900000760</td>\n      <td>11/20/2009</td>\n      <td>End of Loan</td>\n      <td>41933</td>\n      <td>3300</td>\n      <td>0</td>\n      <td>-38633</td>\n    </tr>\n    <tr>\n      <th>2</th>\n      <td>memphis volunteers of america elderly housing inc</td>\n      <td>3815 austin peay</td>\n      <td>IMC00000000030</td>\n      <td>8601500000770</td>\n      <td>04/21/2010</td>\n      <td>End of Loan</td>\n      <td>62055</td>\n      <td>2700</td>\n      <td>0</td>\n      <td>-59355</td>\n    </tr>\n    <tr>\n      <th>3</th>\n      <td>c e ware towers inc</td>\n      <td>3571 hwy 61 s</td>\n      <td>IMC00000000050</td>\n      <td>7507400000750</td>\n      <td>10/01/2008</td>\n      <td>End of Loan</td>\n      <td>20937</td>\n      <td>3300</td>\n      <td>0</td>\n      <td>-17637</td>\n    </tr>\n    <tr>\n      <th>4</th>\n      <td>caldwell housing corp</td>\n      <td>2310 ardmore</td>\n      <td>IMC00000000060</td>\n      <td>7209400000750</td>\n      <td>04/23/2011</td>\n      <td>End of Loan</td>\n      <td>11108</td>\n      <td>840</td>\n      <td>0</td>\n      <td>-10268</td>\n    </tr>\n    <tr>\n      <th>5</th>\n      <td>willow creek housing inc</td>\n      <td>3840 covington pike</td>\n      <td>IMC00000000070</td>\n      <td>0870780000009C</td>\n      <td>09/06/2011</td>\n      <td>End of Loan</td>\n      <td>99252</td>\n      <td>13920</td>\n      <td>0</td>\n      <td>-85332</td>\n    </tr>\n    <tr>\n      <th>6</th>\n      <td>charis acres</td>\n      <td>2131 wilson</td>\n      <td>IMC00000000080</td>\n      <td>0790870000058C</td>\n      <td>12/18/2012</td>\n      <td>End of Loan</td>\n      <td>27192</td>\n      <td>1740</td>\n      <td>0</td>\n      <td>-25452</td>\n    </tr>\n    <tr>\n      <th>7</th>\n      <td>caap place of hope inc</td>\n      <td>1347 ferguson</td>\n      <td>IMC00000000090</td>\n      <td>0601620000005C</td>\n      <td>09/03/2010</td>\n      <td>End of Loan</td>\n      <td>11153</td>\n      <td>900</td>\n      <td>0</td>\n      <td>-10253</td>\n    </tr>\n    <tr>\n      <th>8</th>\n      <td>alpha omega veterans services inc</td>\n      <td>1465 court</td>\n      <td>IMC00000000100</td>\n      <td>0170220000007C</td>\n      <td>08/10/2012</td>\n      <td>End of Loan</td>\n      <td>21776</td>\n      <td>1920</td>\n      <td>0</td>\n      <td>-19856</td>\n    </tr>\n    <tr>\n      <th>9</th>\n      <td>shield inc</td>\n      <td>2450 ketchum</td>\n      <td>IMC00000000040</td>\n      <td>6013700002070</td>\n      <td>11/18/2008</td>\n      <td>End of Loan</td>\n      <td>12950</td>\n      <td>3900</td>\n      <td>0</td>\n      <td>-9050</td>\n    </tr>\n  </tbody>\n</table>\n</div>"
     },
     "execution_count": 19,
     "metadata": {},
     "output_type": "execute_result"
    }
   ],
   "source": [
    "# Clean the numeric columns\n",
    "numeric_columns = ['assmt_taxes', 'pilot_contract_amt',\n",
    "       'pilot_debt_service_amt', 'difference']\n",
    "df = clean_columns(df, numeric_columns, [remove_special_for_numbers, convert_only_dash_to_missing])\n",
    "\n",
    "df"
   ],
   "metadata": {
    "collapsed": false,
    "ExecuteTime": {
     "end_time": "2024-04-01T01:00:44.314403Z",
     "start_time": "2024-04-01T01:00:44.277747Z"
    }
   },
   "id": "fd553dbc31168c70"
  },
  {
   "cell_type": "code",
   "execution_count": 20,
   "outputs": [
    {
     "data": {
      "text/plain": "                                               owner             location  \\\n0           national church residences of memphis tn        5819 newberry   \n1                         bearman golden gardens inc           4755 neely   \n2  memphis volunteers of america elderly housing inc     3815 austin peay   \n3                                c e ware towers inc        3571 hwy 61 s   \n4                              caldwell housing corp         2310 ardmore   \n5                           willow creek housing inc  3840 covington pike   \n6                                       charis acres          2131 wilson   \n7                             caap place of hope inc        1347 ferguson   \n8                  alpha omega veterans services inc           1465 court   \n9                                         shield inc         2450 ketchum   \n\n  pilot_parcel_no underlying_parcel_number begin_date     end_date  \\\n0  IMC00000000010           0934000000224C 2009-07-17  End of Loan   \n1  IMC00000000020            7608900000760 2009-11-20  End of Loan   \n2  IMC00000000030            8601500000770 2010-04-21  End of Loan   \n3  IMC00000000050            7507400000750 2008-10-01  End of Loan   \n4  IMC00000000060            7209400000750 2011-04-23  End of Loan   \n5  IMC00000000070           0870780000009C 2011-09-06  End of Loan   \n6  IMC00000000080           0790870000058C 2012-12-18  End of Loan   \n7  IMC00000000090           0601620000005C 2010-09-03  End of Loan   \n8  IMC00000000100           0170220000007C 2012-08-10  End of Loan   \n9  IMC00000000040            6013700002070 2008-11-18  End of Loan   \n\n  assmt_taxes pilot_contract_amt pilot_debt_service_amt difference  \n0       48557               2940                      0     -45617  \n1       41933               3300                      0     -38633  \n2       62055               2700                      0     -59355  \n3       20937               3300                      0     -17637  \n4       11108                840                      0     -10268  \n5       99252              13920                      0     -85332  \n6       27192               1740                      0     -25452  \n7       11153                900                      0     -10253  \n8       21776               1920                      0     -19856  \n9       12950               3900                      0      -9050  ",
      "text/html": "<div>\n<style scoped>\n    .dataframe tbody tr th:only-of-type {\n        vertical-align: middle;\n    }\n\n    .dataframe tbody tr th {\n        vertical-align: top;\n    }\n\n    .dataframe thead th {\n        text-align: right;\n    }\n</style>\n<table border=\"1\" class=\"dataframe\">\n  <thead>\n    <tr style=\"text-align: right;\">\n      <th></th>\n      <th>owner</th>\n      <th>location</th>\n      <th>pilot_parcel_no</th>\n      <th>underlying_parcel_number</th>\n      <th>begin_date</th>\n      <th>end_date</th>\n      <th>assmt_taxes</th>\n      <th>pilot_contract_amt</th>\n      <th>pilot_debt_service_amt</th>\n      <th>difference</th>\n    </tr>\n  </thead>\n  <tbody>\n    <tr>\n      <th>0</th>\n      <td>national church residences of memphis tn</td>\n      <td>5819 newberry</td>\n      <td>IMC00000000010</td>\n      <td>0934000000224C</td>\n      <td>2009-07-17</td>\n      <td>End of Loan</td>\n      <td>48557</td>\n      <td>2940</td>\n      <td>0</td>\n      <td>-45617</td>\n    </tr>\n    <tr>\n      <th>1</th>\n      <td>bearman golden gardens inc</td>\n      <td>4755 neely</td>\n      <td>IMC00000000020</td>\n      <td>7608900000760</td>\n      <td>2009-11-20</td>\n      <td>End of Loan</td>\n      <td>41933</td>\n      <td>3300</td>\n      <td>0</td>\n      <td>-38633</td>\n    </tr>\n    <tr>\n      <th>2</th>\n      <td>memphis volunteers of america elderly housing inc</td>\n      <td>3815 austin peay</td>\n      <td>IMC00000000030</td>\n      <td>8601500000770</td>\n      <td>2010-04-21</td>\n      <td>End of Loan</td>\n      <td>62055</td>\n      <td>2700</td>\n      <td>0</td>\n      <td>-59355</td>\n    </tr>\n    <tr>\n      <th>3</th>\n      <td>c e ware towers inc</td>\n      <td>3571 hwy 61 s</td>\n      <td>IMC00000000050</td>\n      <td>7507400000750</td>\n      <td>2008-10-01</td>\n      <td>End of Loan</td>\n      <td>20937</td>\n      <td>3300</td>\n      <td>0</td>\n      <td>-17637</td>\n    </tr>\n    <tr>\n      <th>4</th>\n      <td>caldwell housing corp</td>\n      <td>2310 ardmore</td>\n      <td>IMC00000000060</td>\n      <td>7209400000750</td>\n      <td>2011-04-23</td>\n      <td>End of Loan</td>\n      <td>11108</td>\n      <td>840</td>\n      <td>0</td>\n      <td>-10268</td>\n    </tr>\n    <tr>\n      <th>5</th>\n      <td>willow creek housing inc</td>\n      <td>3840 covington pike</td>\n      <td>IMC00000000070</td>\n      <td>0870780000009C</td>\n      <td>2011-09-06</td>\n      <td>End of Loan</td>\n      <td>99252</td>\n      <td>13920</td>\n      <td>0</td>\n      <td>-85332</td>\n    </tr>\n    <tr>\n      <th>6</th>\n      <td>charis acres</td>\n      <td>2131 wilson</td>\n      <td>IMC00000000080</td>\n      <td>0790870000058C</td>\n      <td>2012-12-18</td>\n      <td>End of Loan</td>\n      <td>27192</td>\n      <td>1740</td>\n      <td>0</td>\n      <td>-25452</td>\n    </tr>\n    <tr>\n      <th>7</th>\n      <td>caap place of hope inc</td>\n      <td>1347 ferguson</td>\n      <td>IMC00000000090</td>\n      <td>0601620000005C</td>\n      <td>2010-09-03</td>\n      <td>End of Loan</td>\n      <td>11153</td>\n      <td>900</td>\n      <td>0</td>\n      <td>-10253</td>\n    </tr>\n    <tr>\n      <th>8</th>\n      <td>alpha omega veterans services inc</td>\n      <td>1465 court</td>\n      <td>IMC00000000100</td>\n      <td>0170220000007C</td>\n      <td>2012-08-10</td>\n      <td>End of Loan</td>\n      <td>21776</td>\n      <td>1920</td>\n      <td>0</td>\n      <td>-19856</td>\n    </tr>\n    <tr>\n      <th>9</th>\n      <td>shield inc</td>\n      <td>2450 ketchum</td>\n      <td>IMC00000000040</td>\n      <td>6013700002070</td>\n      <td>2008-11-18</td>\n      <td>End of Loan</td>\n      <td>12950</td>\n      <td>3900</td>\n      <td>0</td>\n      <td>-9050</td>\n    </tr>\n  </tbody>\n</table>\n</div>"
     },
     "execution_count": 20,
     "metadata": {},
     "output_type": "execute_result"
    }
   ],
   "source": [
    "# Clean the date columns\n",
    "\n",
    "# Because this data has an idiosyncratic \"end date\" value of \"End of Loan\", \n",
    "# we must define a dataset-specific function\n",
    "def cast_end_date_to_datetime(entry: str | Number):\n",
    "    try:\n",
    "        return pd.to_datetime(str(entry))\n",
    "    except ValueError:\n",
    "        return entry\n",
    "df[\"begin_date\"] = pd.to_datetime(df[\"begin_date\"])\n",
    "df[\"end_date\"] = df[\"end_date\"].apply(lambda x: cast_end_date_to_datetime(x))\n",
    "df"
   ],
   "metadata": {
    "collapsed": false,
    "ExecuteTime": {
     "end_time": "2024-04-01T01:00:44.315151Z",
     "start_time": "2024-04-01T01:00:44.288332Z"
    }
   },
   "id": "1efa55d32b4be610"
  },
  {
   "cell_type": "code",
   "execution_count": 21,
   "outputs": [
    {
     "data": {
      "text/plain": "                                               owner             location  \\\n0           national church residences of memphis tn        5819 newberry   \n1                         bearman golden gardens inc           4755 neely   \n2  memphis volunteers of america elderly housing inc     3815 austin peay   \n3                                c e ware towers inc        3571 hwy 61 s   \n4                              caldwell housing corp         2310 ardmore   \n5                           willow creek housing inc  3840 covington pike   \n6                                       charis acres          2131 wilson   \n7                             caap place of hope inc        1347 ferguson   \n8                  alpha omega veterans services inc           1465 court   \n9                                         shield inc         2450 ketchum   \n\n    pilot_parcel_no underlying_parcel_number begin_date     end_date  \\\n0  [IMC00000000010]         [0934000000224C] 2009-07-17  End of Loan   \n1  [IMC00000000020]          [7608900000760] 2009-11-20  End of Loan   \n2  [IMC00000000030]          [8601500000770] 2010-04-21  End of Loan   \n3  [IMC00000000050]          [7507400000750] 2008-10-01  End of Loan   \n4  [IMC00000000060]          [7209400000750] 2011-04-23  End of Loan   \n5  [IMC00000000070]         [0870780000009C] 2011-09-06  End of Loan   \n6  [IMC00000000080]         [0790870000058C] 2012-12-18  End of Loan   \n7  [IMC00000000090]         [0601620000005C] 2010-09-03  End of Loan   \n8  [IMC00000000100]         [0170220000007C] 2012-08-10  End of Loan   \n9  [IMC00000000040]          [6013700002070] 2008-11-18  End of Loan   \n\n  assmt_taxes pilot_contract_amt pilot_debt_service_amt difference  \n0       48557               2940                      0     -45617  \n1       41933               3300                      0     -38633  \n2       62055               2700                      0     -59355  \n3       20937               3300                      0     -17637  \n4       11108                840                      0     -10268  \n5       99252              13920                      0     -85332  \n6       27192               1740                      0     -25452  \n7       11153                900                      0     -10253  \n8       21776               1920                      0     -19856  \n9       12950               3900                      0      -9050  ",
      "text/html": "<div>\n<style scoped>\n    .dataframe tbody tr th:only-of-type {\n        vertical-align: middle;\n    }\n\n    .dataframe tbody tr th {\n        vertical-align: top;\n    }\n\n    .dataframe thead th {\n        text-align: right;\n    }\n</style>\n<table border=\"1\" class=\"dataframe\">\n  <thead>\n    <tr style=\"text-align: right;\">\n      <th></th>\n      <th>owner</th>\n      <th>location</th>\n      <th>pilot_parcel_no</th>\n      <th>underlying_parcel_number</th>\n      <th>begin_date</th>\n      <th>end_date</th>\n      <th>assmt_taxes</th>\n      <th>pilot_contract_amt</th>\n      <th>pilot_debt_service_amt</th>\n      <th>difference</th>\n    </tr>\n  </thead>\n  <tbody>\n    <tr>\n      <th>0</th>\n      <td>national church residences of memphis tn</td>\n      <td>5819 newberry</td>\n      <td>[IMC00000000010]</td>\n      <td>[0934000000224C]</td>\n      <td>2009-07-17</td>\n      <td>End of Loan</td>\n      <td>48557</td>\n      <td>2940</td>\n      <td>0</td>\n      <td>-45617</td>\n    </tr>\n    <tr>\n      <th>1</th>\n      <td>bearman golden gardens inc</td>\n      <td>4755 neely</td>\n      <td>[IMC00000000020]</td>\n      <td>[7608900000760]</td>\n      <td>2009-11-20</td>\n      <td>End of Loan</td>\n      <td>41933</td>\n      <td>3300</td>\n      <td>0</td>\n      <td>-38633</td>\n    </tr>\n    <tr>\n      <th>2</th>\n      <td>memphis volunteers of america elderly housing inc</td>\n      <td>3815 austin peay</td>\n      <td>[IMC00000000030]</td>\n      <td>[8601500000770]</td>\n      <td>2010-04-21</td>\n      <td>End of Loan</td>\n      <td>62055</td>\n      <td>2700</td>\n      <td>0</td>\n      <td>-59355</td>\n    </tr>\n    <tr>\n      <th>3</th>\n      <td>c e ware towers inc</td>\n      <td>3571 hwy 61 s</td>\n      <td>[IMC00000000050]</td>\n      <td>[7507400000750]</td>\n      <td>2008-10-01</td>\n      <td>End of Loan</td>\n      <td>20937</td>\n      <td>3300</td>\n      <td>0</td>\n      <td>-17637</td>\n    </tr>\n    <tr>\n      <th>4</th>\n      <td>caldwell housing corp</td>\n      <td>2310 ardmore</td>\n      <td>[IMC00000000060]</td>\n      <td>[7209400000750]</td>\n      <td>2011-04-23</td>\n      <td>End of Loan</td>\n      <td>11108</td>\n      <td>840</td>\n      <td>0</td>\n      <td>-10268</td>\n    </tr>\n    <tr>\n      <th>5</th>\n      <td>willow creek housing inc</td>\n      <td>3840 covington pike</td>\n      <td>[IMC00000000070]</td>\n      <td>[0870780000009C]</td>\n      <td>2011-09-06</td>\n      <td>End of Loan</td>\n      <td>99252</td>\n      <td>13920</td>\n      <td>0</td>\n      <td>-85332</td>\n    </tr>\n    <tr>\n      <th>6</th>\n      <td>charis acres</td>\n      <td>2131 wilson</td>\n      <td>[IMC00000000080]</td>\n      <td>[0790870000058C]</td>\n      <td>2012-12-18</td>\n      <td>End of Loan</td>\n      <td>27192</td>\n      <td>1740</td>\n      <td>0</td>\n      <td>-25452</td>\n    </tr>\n    <tr>\n      <th>7</th>\n      <td>caap place of hope inc</td>\n      <td>1347 ferguson</td>\n      <td>[IMC00000000090]</td>\n      <td>[0601620000005C]</td>\n      <td>2010-09-03</td>\n      <td>End of Loan</td>\n      <td>11153</td>\n      <td>900</td>\n      <td>0</td>\n      <td>-10253</td>\n    </tr>\n    <tr>\n      <th>8</th>\n      <td>alpha omega veterans services inc</td>\n      <td>1465 court</td>\n      <td>[IMC00000000100]</td>\n      <td>[0170220000007C]</td>\n      <td>2012-08-10</td>\n      <td>End of Loan</td>\n      <td>21776</td>\n      <td>1920</td>\n      <td>0</td>\n      <td>-19856</td>\n    </tr>\n    <tr>\n      <th>9</th>\n      <td>shield inc</td>\n      <td>2450 ketchum</td>\n      <td>[IMC00000000040]</td>\n      <td>[6013700002070]</td>\n      <td>2008-11-18</td>\n      <td>End of Loan</td>\n      <td>12950</td>\n      <td>3900</td>\n      <td>0</td>\n      <td>-9050</td>\n    </tr>\n  </tbody>\n</table>\n</div>"
     },
     "execution_count": 21,
     "metadata": {},
     "output_type": "execute_result"
    }
   ],
   "source": [
    "# Clean the list columns\n",
    "\n",
    "# Pandas always reads in lists as strings, so they will ultimately be converted to a string type, but putting them in lists firsts will allow us to convert them back to lists more quickly the next time we read them in because the list brackets will be included \n",
    "# in the output string\n",
    "\n",
    "list_columns = [\"pilot_parcel_no\", \"underlying_parcel_number\"]\n",
    "for col in list_columns:\n",
    "    df[col] = df[col].apply(lambda x: str(x).split(\",\"))\n",
    "df"
   ],
   "metadata": {
    "collapsed": false,
    "ExecuteTime": {
     "end_time": "2024-04-01T01:00:44.315560Z",
     "start_time": "2024-04-01T01:00:44.291313Z"
    }
   },
   "id": "5a2ebeae72c53116"
  },
  {
   "cell_type": "code",
   "execution_count": 22,
   "outputs": [
    {
     "data": {
      "text/plain": "                                                          owner  \\\nowner_id                                                          \n3c0bb6c74137           national church residences of memphis tn   \n74241be1ef2f                         bearman golden gardens inc   \n563b8ec3571d  memphis volunteers of america elderly housing inc   \nd69383c7a940                                c e ware towers inc   \nd468d3cc1805                              caldwell housing corp   \nc7c0dea9d02c                           willow creek housing inc   \nb77917c2b467                                       charis acres   \n06c969999775                             caap place of hope inc   \n65793c10abc9                  alpha omega veterans services inc   \n0ea022870c29                                         shield inc   \n\n                         location   pilot_parcel_no underlying_parcel_number  \\\nowner_id                                                                       \n3c0bb6c74137        5819 newberry  [IMC00000000010]         [0934000000224C]   \n74241be1ef2f           4755 neely  [IMC00000000020]          [7608900000760]   \n563b8ec3571d     3815 austin peay  [IMC00000000030]          [8601500000770]   \nd69383c7a940        3571 hwy 61 s  [IMC00000000050]          [7507400000750]   \nd468d3cc1805         2310 ardmore  [IMC00000000060]          [7209400000750]   \nc7c0dea9d02c  3840 covington pike  [IMC00000000070]         [0870780000009C]   \nb77917c2b467          2131 wilson  [IMC00000000080]         [0790870000058C]   \n06c969999775        1347 ferguson  [IMC00000000090]         [0601620000005C]   \n65793c10abc9           1465 court  [IMC00000000100]         [0170220000007C]   \n0ea022870c29         2450 ketchum  [IMC00000000040]          [6013700002070]   \n\n             begin_date     end_date assmt_taxes pilot_contract_amt  \\\nowner_id                                                              \n3c0bb6c74137 2009-07-17  End of Loan       48557               2940   \n74241be1ef2f 2009-11-20  End of Loan       41933               3300   \n563b8ec3571d 2010-04-21  End of Loan       62055               2700   \nd69383c7a940 2008-10-01  End of Loan       20937               3300   \nd468d3cc1805 2011-04-23  End of Loan       11108                840   \nc7c0dea9d02c 2011-09-06  End of Loan       99252              13920   \nb77917c2b467 2012-12-18  End of Loan       27192               1740   \n06c969999775 2010-09-03  End of Loan       11153                900   \n65793c10abc9 2012-08-10  End of Loan       21776               1920   \n0ea022870c29 2008-11-18  End of Loan       12950               3900   \n\n             pilot_debt_service_amt difference  \nowner_id                                        \n3c0bb6c74137                      0     -45617  \n74241be1ef2f                      0     -38633  \n563b8ec3571d                      0     -59355  \nd69383c7a940                      0     -17637  \nd468d3cc1805                      0     -10268  \nc7c0dea9d02c                      0     -85332  \nb77917c2b467                      0     -25452  \n06c969999775                      0     -10253  \n65793c10abc9                      0     -19856  \n0ea022870c29                      0      -9050  ",
      "text/html": "<div>\n<style scoped>\n    .dataframe tbody tr th:only-of-type {\n        vertical-align: middle;\n    }\n\n    .dataframe tbody tr th {\n        vertical-align: top;\n    }\n\n    .dataframe thead th {\n        text-align: right;\n    }\n</style>\n<table border=\"1\" class=\"dataframe\">\n  <thead>\n    <tr style=\"text-align: right;\">\n      <th></th>\n      <th>owner</th>\n      <th>location</th>\n      <th>pilot_parcel_no</th>\n      <th>underlying_parcel_number</th>\n      <th>begin_date</th>\n      <th>end_date</th>\n      <th>assmt_taxes</th>\n      <th>pilot_contract_amt</th>\n      <th>pilot_debt_service_amt</th>\n      <th>difference</th>\n    </tr>\n    <tr>\n      <th>owner_id</th>\n      <th></th>\n      <th></th>\n      <th></th>\n      <th></th>\n      <th></th>\n      <th></th>\n      <th></th>\n      <th></th>\n      <th></th>\n      <th></th>\n    </tr>\n  </thead>\n  <tbody>\n    <tr>\n      <th>3c0bb6c74137</th>\n      <td>national church residences of memphis tn</td>\n      <td>5819 newberry</td>\n      <td>[IMC00000000010]</td>\n      <td>[0934000000224C]</td>\n      <td>2009-07-17</td>\n      <td>End of Loan</td>\n      <td>48557</td>\n      <td>2940</td>\n      <td>0</td>\n      <td>-45617</td>\n    </tr>\n    <tr>\n      <th>74241be1ef2f</th>\n      <td>bearman golden gardens inc</td>\n      <td>4755 neely</td>\n      <td>[IMC00000000020]</td>\n      <td>[7608900000760]</td>\n      <td>2009-11-20</td>\n      <td>End of Loan</td>\n      <td>41933</td>\n      <td>3300</td>\n      <td>0</td>\n      <td>-38633</td>\n    </tr>\n    <tr>\n      <th>563b8ec3571d</th>\n      <td>memphis volunteers of america elderly housing inc</td>\n      <td>3815 austin peay</td>\n      <td>[IMC00000000030]</td>\n      <td>[8601500000770]</td>\n      <td>2010-04-21</td>\n      <td>End of Loan</td>\n      <td>62055</td>\n      <td>2700</td>\n      <td>0</td>\n      <td>-59355</td>\n    </tr>\n    <tr>\n      <th>d69383c7a940</th>\n      <td>c e ware towers inc</td>\n      <td>3571 hwy 61 s</td>\n      <td>[IMC00000000050]</td>\n      <td>[7507400000750]</td>\n      <td>2008-10-01</td>\n      <td>End of Loan</td>\n      <td>20937</td>\n      <td>3300</td>\n      <td>0</td>\n      <td>-17637</td>\n    </tr>\n    <tr>\n      <th>d468d3cc1805</th>\n      <td>caldwell housing corp</td>\n      <td>2310 ardmore</td>\n      <td>[IMC00000000060]</td>\n      <td>[7209400000750]</td>\n      <td>2011-04-23</td>\n      <td>End of Loan</td>\n      <td>11108</td>\n      <td>840</td>\n      <td>0</td>\n      <td>-10268</td>\n    </tr>\n    <tr>\n      <th>c7c0dea9d02c</th>\n      <td>willow creek housing inc</td>\n      <td>3840 covington pike</td>\n      <td>[IMC00000000070]</td>\n      <td>[0870780000009C]</td>\n      <td>2011-09-06</td>\n      <td>End of Loan</td>\n      <td>99252</td>\n      <td>13920</td>\n      <td>0</td>\n      <td>-85332</td>\n    </tr>\n    <tr>\n      <th>b77917c2b467</th>\n      <td>charis acres</td>\n      <td>2131 wilson</td>\n      <td>[IMC00000000080]</td>\n      <td>[0790870000058C]</td>\n      <td>2012-12-18</td>\n      <td>End of Loan</td>\n      <td>27192</td>\n      <td>1740</td>\n      <td>0</td>\n      <td>-25452</td>\n    </tr>\n    <tr>\n      <th>06c969999775</th>\n      <td>caap place of hope inc</td>\n      <td>1347 ferguson</td>\n      <td>[IMC00000000090]</td>\n      <td>[0601620000005C]</td>\n      <td>2010-09-03</td>\n      <td>End of Loan</td>\n      <td>11153</td>\n      <td>900</td>\n      <td>0</td>\n      <td>-10253</td>\n    </tr>\n    <tr>\n      <th>65793c10abc9</th>\n      <td>alpha omega veterans services inc</td>\n      <td>1465 court</td>\n      <td>[IMC00000000100]</td>\n      <td>[0170220000007C]</td>\n      <td>2012-08-10</td>\n      <td>End of Loan</td>\n      <td>21776</td>\n      <td>1920</td>\n      <td>0</td>\n      <td>-19856</td>\n    </tr>\n    <tr>\n      <th>0ea022870c29</th>\n      <td>shield inc</td>\n      <td>2450 ketchum</td>\n      <td>[IMC00000000040]</td>\n      <td>[6013700002070]</td>\n      <td>2008-11-18</td>\n      <td>End of Loan</td>\n      <td>12950</td>\n      <td>3900</td>\n      <td>0</td>\n      <td>-9050</td>\n    </tr>\n  </tbody>\n</table>\n</div>"
     },
     "execution_count": 22,
     "metadata": {},
     "output_type": "execute_result"
    }
   ],
   "source": [
    "# Create a unique index column based on the values in the identifying column\n",
    "# Note: Ids are based on a deterministic hash, which means they are \n",
    "# reproducible even if the function is run by a different user at a different time,\n",
    "# as long as the string in the identifying column is the same. \n",
    "\n",
    "identifying_columns = [\"owner\"]\n",
    "index_name = \"owner_id\"\n",
    "df = set_unique_index(df=df, columns_to_hash = identifying_columns, index_length_limit=12, index_name=index_name)\n",
    "df"
   ],
   "metadata": {
    "collapsed": false,
    "ExecuteTime": {
     "end_time": "2024-04-01T01:00:44.316225Z",
     "start_time": "2024-04-01T01:00:44.303259Z"
    }
   },
   "id": "fa13dd82fd715b68"
  },
  {
   "cell_type": "code",
   "execution_count": 23,
   "outputs": [
    {
     "data": {
      "text/plain": "owner                               object\nlocation                            object\npilot_parcel_no                     object\nunderlying_parcel_number            object\nbegin_date                  datetime64[ns]\nend_date                            object\nassmt_taxes                         object\npilot_contract_amt                  object\npilot_debt_service_amt              object\ndifference                          object\ndtype: object"
     },
     "execution_count": 23,
     "metadata": {},
     "output_type": "execute_result"
    }
   ],
   "source": [
    "# Check the data types of each variable\n",
    "df.dtypes"
   ],
   "metadata": {
    "collapsed": false,
    "ExecuteTime": {
     "end_time": "2024-04-01T01:00:44.326256Z",
     "start_time": "2024-04-01T01:00:44.313789Z"
    }
   },
   "id": "fb1c412d6c764d7b"
  },
  {
   "cell_type": "code",
   "execution_count": 24,
   "outputs": [
    {
     "data": {
      "text/plain": "owner                       string[python]\nlocation                    string[python]\npilot_parcel_no             string[python]\nunderlying_parcel_number    string[python]\nbegin_date                  datetime64[ns]\nend_date                            object\nassmt_taxes                        float64\npilot_contract_amt                 float64\npilot_debt_service_amt             float64\ndifference                         float64\ndtype: object"
     },
     "execution_count": 24,
     "metadata": {},
     "output_type": "execute_result"
    }
   ],
   "source": [
    "# Fix the data type of each variable\n",
    "\n",
    "names_to_types = {'owner': 'string',\n",
    "                  'location': 'string',\n",
    "                  'pilot_parcel_no': 'string', \n",
    "                  'underlying_parcel_number': 'string',\n",
    "                  'begin_date': 'datetime64[ns]', \n",
    "                  'end_date': 'object',\n",
    "                  'assmt_taxes': 'float64',\n",
    "                  'pilot_contract_amt': 'float64',\n",
    "       'pilot_debt_service_amt': 'float64', \n",
    "                  'difference': 'float64'}\n",
    "df = cast_data_types(df, names_to_types)\n",
    "df.dtypes"
   ],
   "metadata": {
    "collapsed": false,
    "ExecuteTime": {
     "end_time": "2024-04-01T01:00:44.326411Z",
     "start_time": "2024-04-01T01:00:44.319980Z"
    }
   },
   "id": "fa0f0232d27d41fe"
  },
  {
   "cell_type": "code",
   "execution_count": 25,
   "outputs": [],
   "source": [
    "# Save the now-clean csv and convert it to utf-8 format\n",
    "outfile_path = \"../data/processed/s8_2022_imc_contracts.csv\"\n",
    "df.to_csv(outfile_path)\n",
    "convert_utf8(original_file_path=outfile_path, new_file_path=outfile_path)"
   ],
   "metadata": {
    "collapsed": false,
    "ExecuteTime": {
     "end_time": "2024-04-01T01:00:44.361954Z",
     "start_time": "2024-04-01T01:00:44.323864Z"
    }
   },
   "id": "209e2ad7bce3421"
  },
  {
   "cell_type": "code",
   "execution_count": 25,
   "outputs": [],
   "source": [],
   "metadata": {
    "collapsed": false,
    "ExecuteTime": {
     "end_time": "2024-04-01T01:00:44.382250Z",
     "start_time": "2024-04-01T01:00:44.331288Z"
    }
   },
   "id": "932f14634f70a566"
  }
 ],
 "metadata": {
  "kernelspec": {
   "display_name": "Python 3",
   "language": "python",
   "name": "python3"
  },
  "language_info": {
   "codemirror_mode": {
    "name": "ipython",
    "version": 2
   },
   "file_extension": ".py",
   "mimetype": "text/x-python",
   "name": "python",
   "nbconvert_exporter": "python",
   "pygments_lexer": "ipython2",
   "version": "2.7.6"
  }
 },
 "nbformat": 4,
 "nbformat_minor": 5
}
