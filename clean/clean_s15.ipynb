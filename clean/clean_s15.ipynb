{
 "cells": [
  {
   "cell_type": "code",
   "execution_count": 1,
   "outputs": [
    {
     "name": "stdout",
     "output_type": "stream",
     "text": [
      "Intel MKL WARNING: Support of Intel(R) Streaming SIMD Extensions 4.2 (Intel(R) SSE4.2) enabled only processors has been deprecated. Intel oneAPI Math Kernel Library 2025.0 will require Intel(R) Advanced Vector Extensions (Intel(R) AVX) instructions.\n",
      "Intel MKL WARNING: Support of Intel(R) Streaming SIMD Extensions 4.2 (Intel(R) SSE4.2) enabled only processors has been deprecated. Intel oneAPI Math Kernel Library 2025.0 will require Intel(R) Advanced Vector Extensions (Intel(R) AVX) instructions.\n"
     ]
    }
   ],
   "source": [
    "import pandas as pd\n",
    "from utils import *\n",
    "from typing import Any"
   ],
   "metadata": {
    "collapsed": false,
    "ExecuteTime": {
     "end_time": "2024-04-01T00:41:39.757288Z",
     "start_time": "2024-04-01T00:41:38.812751Z"
    }
   },
   "id": "f890863474a831e4"
  },
  {
   "cell_type": "markdown",
   "source": [
    "<h1>Cleaning a CSV</h1>"
   ],
   "metadata": {
    "collapsed": false
   },
   "id": "37c2459a70173916"
  },
  {
   "cell_type": "markdown",
   "source": [
    "Read in a CSV"
   ],
   "metadata": {
    "collapsed": false
   },
   "id": "70312fa54485148"
  },
  {
   "cell_type": "code",
   "execution_count": 2,
   "outputs": [
    {
     "data": {
      "text/plain": "                                                Board  \\\n0                BARLETT INDUSTRIAL DEVELOPMENT BOARD   \n1           COLLIERVILLE INDUSTRIAL DEVELOPMENT BOARD   \n2             GERMANTOWN INDUSTRIAL DEVELOPMENT BOARD   \n3             EDGE BOARD OF MEMPHIS AND SHELBY COUNTY   \n4             EDGE BOARD OF MEMPHIS AND SHELBY COUNTY   \n..                                                ...   \n68  HEALTH, EDUCATIONAL, AND HOUSING FACILITIES BO...   \n69  HEALTH, EDUCATIONAL, AND HOUSING FACILITIES BO...   \n70  HEALTH, EDUCATIONAL, AND HOUSING FACILITIES BO...   \n71  EALTH, EDUCATIONAL, AND HOUSING FACILITIES BOA...   \n72            Downtown Memphis Center City Commission   \n\n                                Owner Delinquent Years   Amount Due  \\\n0                                 NaN              NaN          NaN   \n1     SHELBY GROUP INTERNATIONAL, INC             2022     1,842.58   \n2                                 NaN              NaN          NaN   \n3   AESTHETIC MANAGEMENT PARTNERS INC             2022    10,558.52   \n4           AGILENT TECHNOLOGIES, INC             2022     3,757.41   \n..                                ...              ...          ...   \n68           LEVI LIMITED PARTNERSHIP        2012-2014    24,359.23   \n69          LYONS RIDGE APARTMENTS LP        2012-2016  2 13,137.51   \n70                 VILLAGE PARKWAY LP        2012-2016   539,119.49   \n71                                NaN              NaN          NaN   \n72                                NaN              NaN          NaN   \n\n         Parcel No PILOT Terminated  \n0              NaN              NaN  \n1   IDB0000C00015A               NO  \n2              NaN              NaN  \n3   IDB18370000000               NO  \n4   IDB1775A000000               NO  \n..             ...              ...  \n68  IHE0001M000000              YES  \n69  IHE0003B000000              YES  \n70  IHE0002Z000000              YES  \n71             NaN              NaN  \n72             NaN              NaN  \n\n[73 rows x 6 columns]",
      "text/html": "<div>\n<style scoped>\n    .dataframe tbody tr th:only-of-type {\n        vertical-align: middle;\n    }\n\n    .dataframe tbody tr th {\n        vertical-align: top;\n    }\n\n    .dataframe thead th {\n        text-align: right;\n    }\n</style>\n<table border=\"1\" class=\"dataframe\">\n  <thead>\n    <tr style=\"text-align: right;\">\n      <th></th>\n      <th>Board</th>\n      <th>Owner</th>\n      <th>Delinquent Years</th>\n      <th>Amount Due</th>\n      <th>Parcel No</th>\n      <th>PILOT Terminated</th>\n    </tr>\n  </thead>\n  <tbody>\n    <tr>\n      <th>0</th>\n      <td>BARLETT INDUSTRIAL DEVELOPMENT BOARD</td>\n      <td>NaN</td>\n      <td>NaN</td>\n      <td>NaN</td>\n      <td>NaN</td>\n      <td>NaN</td>\n    </tr>\n    <tr>\n      <th>1</th>\n      <td>COLLIERVILLE INDUSTRIAL DEVELOPMENT BOARD</td>\n      <td>SHELBY GROUP INTERNATIONAL, INC</td>\n      <td>2022</td>\n      <td>1,842.58</td>\n      <td>IDB0000C00015A</td>\n      <td>NO</td>\n    </tr>\n    <tr>\n      <th>2</th>\n      <td>GERMANTOWN INDUSTRIAL DEVELOPMENT BOARD</td>\n      <td>NaN</td>\n      <td>NaN</td>\n      <td>NaN</td>\n      <td>NaN</td>\n      <td>NaN</td>\n    </tr>\n    <tr>\n      <th>3</th>\n      <td>EDGE BOARD OF MEMPHIS AND SHELBY COUNTY</td>\n      <td>AESTHETIC MANAGEMENT PARTNERS INC</td>\n      <td>2022</td>\n      <td>10,558.52</td>\n      <td>IDB18370000000</td>\n      <td>NO</td>\n    </tr>\n    <tr>\n      <th>4</th>\n      <td>EDGE BOARD OF MEMPHIS AND SHELBY COUNTY</td>\n      <td>AGILENT TECHNOLOGIES, INC</td>\n      <td>2022</td>\n      <td>3,757.41</td>\n      <td>IDB1775A000000</td>\n      <td>NO</td>\n    </tr>\n    <tr>\n      <th>...</th>\n      <td>...</td>\n      <td>...</td>\n      <td>...</td>\n      <td>...</td>\n      <td>...</td>\n      <td>...</td>\n    </tr>\n    <tr>\n      <th>68</th>\n      <td>HEALTH, EDUCATIONAL, AND HOUSING FACILITIES BO...</td>\n      <td>LEVI LIMITED PARTNERSHIP</td>\n      <td>2012-2014</td>\n      <td>24,359.23</td>\n      <td>IHE0001M000000</td>\n      <td>YES</td>\n    </tr>\n    <tr>\n      <th>69</th>\n      <td>HEALTH, EDUCATIONAL, AND HOUSING FACILITIES BO...</td>\n      <td>LYONS RIDGE APARTMENTS LP</td>\n      <td>2012-2016</td>\n      <td>2 13,137.51</td>\n      <td>IHE0003B000000</td>\n      <td>YES</td>\n    </tr>\n    <tr>\n      <th>70</th>\n      <td>HEALTH, EDUCATIONAL, AND HOUSING FACILITIES BO...</td>\n      <td>VILLAGE PARKWAY LP</td>\n      <td>2012-2016</td>\n      <td>539,119.49</td>\n      <td>IHE0002Z000000</td>\n      <td>YES</td>\n    </tr>\n    <tr>\n      <th>71</th>\n      <td>EALTH, EDUCATIONAL, AND HOUSING FACILITIES BOA...</td>\n      <td>NaN</td>\n      <td>NaN</td>\n      <td>NaN</td>\n      <td>NaN</td>\n      <td>NaN</td>\n    </tr>\n    <tr>\n      <th>72</th>\n      <td>Downtown Memphis Center City Commission</td>\n      <td>NaN</td>\n      <td>NaN</td>\n      <td>NaN</td>\n      <td>NaN</td>\n      <td>NaN</td>\n    </tr>\n  </tbody>\n</table>\n<p>73 rows × 6 columns</p>\n</div>"
     },
     "execution_count": 2,
     "metadata": {},
     "output_type": "execute_result"
    }
   ],
   "source": [
    "# load a dataframe\n",
    "infile_path = \"../data/raw/silver_shelby_county_properties_municipality_breakdown - s_15_in_lieu_delinquent_notices.csv\"\n",
    "df = pd.read_csv(infile_path)\n",
    "df"
   ],
   "metadata": {
    "collapsed": false,
    "ExecuteTime": {
     "end_time": "2024-04-01T00:41:39.772782Z",
     "start_time": "2024-04-01T00:41:39.759077Z"
    }
   },
   "id": "50cef4de40a6855d"
  },
  {
   "cell_type": "code",
   "execution_count": 3,
   "outputs": [
    {
     "data": {
      "text/plain": "Index(['board', 'owner', 'delinquent_years', 'amount_due', 'parcel_no',\n       'pilot_terminated'],\n      dtype='object')"
     },
     "execution_count": 3,
     "metadata": {},
     "output_type": "execute_result"
    }
   ],
   "source": [
    "# Clean the column headers\n",
    "df = clean_headers(df, [remove_special_for_words, truncate, snake_case, lower_case])\n",
    "df.columns"
   ],
   "metadata": {
    "collapsed": false,
    "ExecuteTime": {
     "end_time": "2024-04-01T00:41:39.776788Z",
     "start_time": "2024-04-01T00:41:39.772615Z"
    }
   },
   "id": "f8e6a7fb4013b6e6"
  },
  {
   "cell_type": "code",
   "execution_count": 4,
   "outputs": [
    {
     "data": {
      "text/plain": "                                                board  \\\n0                barlett industrial development board   \n1           collierville industrial development board   \n2             germantown industrial development board   \n3             edge board of memphis and shelby county   \n4             edge board of memphis and shelby county   \n..                                                ...   \n68  health educational and housing facilities boar...   \n69  health educational and housing facilities boar...   \n70  health educational and housing facilities boar...   \n71  ealth educational and housing facilities board...   \n72            downtown memphis center city commission   \n\n                                owner delinquent_years   amount_due  \\\n0                                 nan              NaN          NaN   \n1      shelby group international inc             2022     1,842.58   \n2                                 nan              NaN          NaN   \n3   aesthetic management partners inc             2022    10,558.52   \n4            agilent technologies inc             2022     3,757.41   \n..                                ...              ...          ...   \n68           levi limited partnership        2012-2014    24,359.23   \n69          lyons ridge apartments lp        2012-2016  2 13,137.51   \n70                 village parkway lp        2012-2016   539,119.49   \n71                                nan              NaN          NaN   \n72                                nan              NaN          NaN   \n\n         parcel_no pilot_terminated  \n0              NaN              NaN  \n1   IDB0000C00015A               NO  \n2              NaN              NaN  \n3   IDB18370000000               NO  \n4   IDB1775A000000               NO  \n..             ...              ...  \n68  IHE0001M000000              YES  \n69  IHE0003B000000              YES  \n70  IHE0002Z000000              YES  \n71             NaN              NaN  \n72             NaN              NaN  \n\n[73 rows x 6 columns]",
      "text/html": "<div>\n<style scoped>\n    .dataframe tbody tr th:only-of-type {\n        vertical-align: middle;\n    }\n\n    .dataframe tbody tr th {\n        vertical-align: top;\n    }\n\n    .dataframe thead th {\n        text-align: right;\n    }\n</style>\n<table border=\"1\" class=\"dataframe\">\n  <thead>\n    <tr style=\"text-align: right;\">\n      <th></th>\n      <th>board</th>\n      <th>owner</th>\n      <th>delinquent_years</th>\n      <th>amount_due</th>\n      <th>parcel_no</th>\n      <th>pilot_terminated</th>\n    </tr>\n  </thead>\n  <tbody>\n    <tr>\n      <th>0</th>\n      <td>barlett industrial development board</td>\n      <td>nan</td>\n      <td>NaN</td>\n      <td>NaN</td>\n      <td>NaN</td>\n      <td>NaN</td>\n    </tr>\n    <tr>\n      <th>1</th>\n      <td>collierville industrial development board</td>\n      <td>shelby group international inc</td>\n      <td>2022</td>\n      <td>1,842.58</td>\n      <td>IDB0000C00015A</td>\n      <td>NO</td>\n    </tr>\n    <tr>\n      <th>2</th>\n      <td>germantown industrial development board</td>\n      <td>nan</td>\n      <td>NaN</td>\n      <td>NaN</td>\n      <td>NaN</td>\n      <td>NaN</td>\n    </tr>\n    <tr>\n      <th>3</th>\n      <td>edge board of memphis and shelby county</td>\n      <td>aesthetic management partners inc</td>\n      <td>2022</td>\n      <td>10,558.52</td>\n      <td>IDB18370000000</td>\n      <td>NO</td>\n    </tr>\n    <tr>\n      <th>4</th>\n      <td>edge board of memphis and shelby county</td>\n      <td>agilent technologies inc</td>\n      <td>2022</td>\n      <td>3,757.41</td>\n      <td>IDB1775A000000</td>\n      <td>NO</td>\n    </tr>\n    <tr>\n      <th>...</th>\n      <td>...</td>\n      <td>...</td>\n      <td>...</td>\n      <td>...</td>\n      <td>...</td>\n      <td>...</td>\n    </tr>\n    <tr>\n      <th>68</th>\n      <td>health educational and housing facilities boar...</td>\n      <td>levi limited partnership</td>\n      <td>2012-2014</td>\n      <td>24,359.23</td>\n      <td>IHE0001M000000</td>\n      <td>YES</td>\n    </tr>\n    <tr>\n      <th>69</th>\n      <td>health educational and housing facilities boar...</td>\n      <td>lyons ridge apartments lp</td>\n      <td>2012-2016</td>\n      <td>2 13,137.51</td>\n      <td>IHE0003B000000</td>\n      <td>YES</td>\n    </tr>\n    <tr>\n      <th>70</th>\n      <td>health educational and housing facilities boar...</td>\n      <td>village parkway lp</td>\n      <td>2012-2016</td>\n      <td>539,119.49</td>\n      <td>IHE0002Z000000</td>\n      <td>YES</td>\n    </tr>\n    <tr>\n      <th>71</th>\n      <td>ealth educational and housing facilities board...</td>\n      <td>nan</td>\n      <td>NaN</td>\n      <td>NaN</td>\n      <td>NaN</td>\n      <td>NaN</td>\n    </tr>\n    <tr>\n      <th>72</th>\n      <td>downtown memphis center city commission</td>\n      <td>nan</td>\n      <td>NaN</td>\n      <td>NaN</td>\n      <td>NaN</td>\n      <td>NaN</td>\n    </tr>\n  </tbody>\n</table>\n<p>73 rows × 6 columns</p>\n</div>"
     },
     "execution_count": 4,
     "metadata": {},
     "output_type": "execute_result"
    }
   ],
   "source": [
    "# Clean the string columns\n",
    "string_columns = [\"board\", \n",
    "                  \"owner\"]\n",
    "df = clean_columns(df, string_columns, [remove_special_for_words, truncate, lower_case])\n",
    "df"
   ],
   "metadata": {
    "collapsed": false,
    "ExecuteTime": {
     "end_time": "2024-04-01T00:41:39.791966Z",
     "start_time": "2024-04-01T00:41:39.780946Z"
    }
   },
   "id": "67171db99d8fff6d"
  },
  {
   "cell_type": "code",
   "execution_count": 5,
   "outputs": [
    {
     "data": {
      "text/plain": "Index(['board', 'owner', 'delinquent_years', 'amount_due', 'parcel_no',\n       'pilot_terminated'],\n      dtype='object')"
     },
     "execution_count": 5,
     "metadata": {},
     "output_type": "execute_result"
    }
   ],
   "source": [
    "df.columns"
   ],
   "metadata": {
    "collapsed": false,
    "ExecuteTime": {
     "end_time": "2024-04-01T00:41:39.820663Z",
     "start_time": "2024-04-01T00:41:39.785423Z"
    }
   },
   "id": "4484a9731b2bde17"
  },
  {
   "cell_type": "code",
   "execution_count": 6,
   "outputs": [
    {
     "data": {
      "text/plain": "                                                board  \\\n0                barlett industrial development board   \n1           collierville industrial development board   \n2             germantown industrial development board   \n3             edge board of memphis and shelby county   \n4             edge board of memphis and shelby county   \n..                                                ...   \n68  health educational and housing facilities boar...   \n69  health educational and housing facilities boar...   \n70  health educational and housing facilities boar...   \n71  ealth educational and housing facilities board...   \n72            downtown memphis center city commission   \n\n                                owner delinquent_years amount_due  \\\n0                                 nan              NaN        nan   \n1      shelby group international inc             2022    1842.58   \n2                                 nan              NaN        nan   \n3   aesthetic management partners inc             2022   10558.52   \n4            agilent technologies inc             2022    3757.41   \n..                                ...              ...        ...   \n68           levi limited partnership        2012-2014   24359.23   \n69          lyons ridge apartments lp        2012-2016  213137.51   \n70                 village parkway lp        2012-2016  539119.49   \n71                                nan              NaN        nan   \n72                                nan              NaN        nan   \n\n         parcel_no pilot_terminated  \n0              NaN              NaN  \n1   IDB0000C00015A               NO  \n2              NaN              NaN  \n3   IDB18370000000               NO  \n4   IDB1775A000000               NO  \n..             ...              ...  \n68  IHE0001M000000              YES  \n69  IHE0003B000000              YES  \n70  IHE0002Z000000              YES  \n71             NaN              NaN  \n72             NaN              NaN  \n\n[73 rows x 6 columns]",
      "text/html": "<div>\n<style scoped>\n    .dataframe tbody tr th:only-of-type {\n        vertical-align: middle;\n    }\n\n    .dataframe tbody tr th {\n        vertical-align: top;\n    }\n\n    .dataframe thead th {\n        text-align: right;\n    }\n</style>\n<table border=\"1\" class=\"dataframe\">\n  <thead>\n    <tr style=\"text-align: right;\">\n      <th></th>\n      <th>board</th>\n      <th>owner</th>\n      <th>delinquent_years</th>\n      <th>amount_due</th>\n      <th>parcel_no</th>\n      <th>pilot_terminated</th>\n    </tr>\n  </thead>\n  <tbody>\n    <tr>\n      <th>0</th>\n      <td>barlett industrial development board</td>\n      <td>nan</td>\n      <td>NaN</td>\n      <td>nan</td>\n      <td>NaN</td>\n      <td>NaN</td>\n    </tr>\n    <tr>\n      <th>1</th>\n      <td>collierville industrial development board</td>\n      <td>shelby group international inc</td>\n      <td>2022</td>\n      <td>1842.58</td>\n      <td>IDB0000C00015A</td>\n      <td>NO</td>\n    </tr>\n    <tr>\n      <th>2</th>\n      <td>germantown industrial development board</td>\n      <td>nan</td>\n      <td>NaN</td>\n      <td>nan</td>\n      <td>NaN</td>\n      <td>NaN</td>\n    </tr>\n    <tr>\n      <th>3</th>\n      <td>edge board of memphis and shelby county</td>\n      <td>aesthetic management partners inc</td>\n      <td>2022</td>\n      <td>10558.52</td>\n      <td>IDB18370000000</td>\n      <td>NO</td>\n    </tr>\n    <tr>\n      <th>4</th>\n      <td>edge board of memphis and shelby county</td>\n      <td>agilent technologies inc</td>\n      <td>2022</td>\n      <td>3757.41</td>\n      <td>IDB1775A000000</td>\n      <td>NO</td>\n    </tr>\n    <tr>\n      <th>...</th>\n      <td>...</td>\n      <td>...</td>\n      <td>...</td>\n      <td>...</td>\n      <td>...</td>\n      <td>...</td>\n    </tr>\n    <tr>\n      <th>68</th>\n      <td>health educational and housing facilities boar...</td>\n      <td>levi limited partnership</td>\n      <td>2012-2014</td>\n      <td>24359.23</td>\n      <td>IHE0001M000000</td>\n      <td>YES</td>\n    </tr>\n    <tr>\n      <th>69</th>\n      <td>health educational and housing facilities boar...</td>\n      <td>lyons ridge apartments lp</td>\n      <td>2012-2016</td>\n      <td>213137.51</td>\n      <td>IHE0003B000000</td>\n      <td>YES</td>\n    </tr>\n    <tr>\n      <th>70</th>\n      <td>health educational and housing facilities boar...</td>\n      <td>village parkway lp</td>\n      <td>2012-2016</td>\n      <td>539119.49</td>\n      <td>IHE0002Z000000</td>\n      <td>YES</td>\n    </tr>\n    <tr>\n      <th>71</th>\n      <td>ealth educational and housing facilities board...</td>\n      <td>nan</td>\n      <td>NaN</td>\n      <td>nan</td>\n      <td>NaN</td>\n      <td>NaN</td>\n    </tr>\n    <tr>\n      <th>72</th>\n      <td>downtown memphis center city commission</td>\n      <td>nan</td>\n      <td>NaN</td>\n      <td>nan</td>\n      <td>NaN</td>\n      <td>NaN</td>\n    </tr>\n  </tbody>\n</table>\n<p>73 rows × 6 columns</p>\n</div>"
     },
     "execution_count": 6,
     "metadata": {},
     "output_type": "execute_result"
    }
   ],
   "source": [
    "# Clean the numeric columns\n",
    "numeric_columns = ['amount_due']\n",
    "df = clean_columns(df, numeric_columns, [remove_special_for_numbers, convert_only_dash_to_missing])\n",
    "\n",
    "df"
   ],
   "metadata": {
    "collapsed": false,
    "ExecuteTime": {
     "end_time": "2024-04-01T00:41:39.825164Z",
     "start_time": "2024-04-01T00:41:39.793143Z"
    }
   },
   "id": "fd553dbc31168c70"
  },
  {
   "cell_type": "code",
   "execution_count": 7,
   "outputs": [
    {
     "data": {
      "text/plain": "                                                board  \\\n0                barlett industrial development board   \n1           collierville industrial development board   \n2             germantown industrial development board   \n3             edge board of memphis and shelby county   \n4             edge board of memphis and shelby county   \n..                                                ...   \n68  health educational and housing facilities boar...   \n69  health educational and housing facilities boar...   \n70  health educational and housing facilities boar...   \n71  ealth educational and housing facilities board...   \n72            downtown memphis center city commission   \n\n                                owner delinquent_years amount_due  \\\n0                                 nan              NaN        nan   \n1      shelby group international inc             2022    1842.58   \n2                                 nan              NaN        nan   \n3   aesthetic management partners inc             2022   10558.52   \n4            agilent technologies inc             2022    3757.41   \n..                                ...              ...        ...   \n68           levi limited partnership        2012-2014   24359.23   \n69          lyons ridge apartments lp        2012-2016  213137.51   \n70                 village parkway lp        2012-2016  539119.49   \n71                                nan              NaN        nan   \n72                                nan              NaN        nan   \n\n         parcel_no  pilot_terminated  \n0              NaN               NaN  \n1   IDB0000C00015A               0.0  \n2              NaN               NaN  \n3   IDB18370000000               0.0  \n4   IDB1775A000000               0.0  \n..             ...               ...  \n68  IHE0001M000000               1.0  \n69  IHE0003B000000               1.0  \n70  IHE0002Z000000               1.0  \n71             NaN               NaN  \n72             NaN               NaN  \n\n[73 rows x 6 columns]",
      "text/html": "<div>\n<style scoped>\n    .dataframe tbody tr th:only-of-type {\n        vertical-align: middle;\n    }\n\n    .dataframe tbody tr th {\n        vertical-align: top;\n    }\n\n    .dataframe thead th {\n        text-align: right;\n    }\n</style>\n<table border=\"1\" class=\"dataframe\">\n  <thead>\n    <tr style=\"text-align: right;\">\n      <th></th>\n      <th>board</th>\n      <th>owner</th>\n      <th>delinquent_years</th>\n      <th>amount_due</th>\n      <th>parcel_no</th>\n      <th>pilot_terminated</th>\n    </tr>\n  </thead>\n  <tbody>\n    <tr>\n      <th>0</th>\n      <td>barlett industrial development board</td>\n      <td>nan</td>\n      <td>NaN</td>\n      <td>nan</td>\n      <td>NaN</td>\n      <td>NaN</td>\n    </tr>\n    <tr>\n      <th>1</th>\n      <td>collierville industrial development board</td>\n      <td>shelby group international inc</td>\n      <td>2022</td>\n      <td>1842.58</td>\n      <td>IDB0000C00015A</td>\n      <td>0.0</td>\n    </tr>\n    <tr>\n      <th>2</th>\n      <td>germantown industrial development board</td>\n      <td>nan</td>\n      <td>NaN</td>\n      <td>nan</td>\n      <td>NaN</td>\n      <td>NaN</td>\n    </tr>\n    <tr>\n      <th>3</th>\n      <td>edge board of memphis and shelby county</td>\n      <td>aesthetic management partners inc</td>\n      <td>2022</td>\n      <td>10558.52</td>\n      <td>IDB18370000000</td>\n      <td>0.0</td>\n    </tr>\n    <tr>\n      <th>4</th>\n      <td>edge board of memphis and shelby county</td>\n      <td>agilent technologies inc</td>\n      <td>2022</td>\n      <td>3757.41</td>\n      <td>IDB1775A000000</td>\n      <td>0.0</td>\n    </tr>\n    <tr>\n      <th>...</th>\n      <td>...</td>\n      <td>...</td>\n      <td>...</td>\n      <td>...</td>\n      <td>...</td>\n      <td>...</td>\n    </tr>\n    <tr>\n      <th>68</th>\n      <td>health educational and housing facilities boar...</td>\n      <td>levi limited partnership</td>\n      <td>2012-2014</td>\n      <td>24359.23</td>\n      <td>IHE0001M000000</td>\n      <td>1.0</td>\n    </tr>\n    <tr>\n      <th>69</th>\n      <td>health educational and housing facilities boar...</td>\n      <td>lyons ridge apartments lp</td>\n      <td>2012-2016</td>\n      <td>213137.51</td>\n      <td>IHE0003B000000</td>\n      <td>1.0</td>\n    </tr>\n    <tr>\n      <th>70</th>\n      <td>health educational and housing facilities boar...</td>\n      <td>village parkway lp</td>\n      <td>2012-2016</td>\n      <td>539119.49</td>\n      <td>IHE0002Z000000</td>\n      <td>1.0</td>\n    </tr>\n    <tr>\n      <th>71</th>\n      <td>ealth educational and housing facilities board...</td>\n      <td>nan</td>\n      <td>NaN</td>\n      <td>nan</td>\n      <td>NaN</td>\n      <td>NaN</td>\n    </tr>\n    <tr>\n      <th>72</th>\n      <td>downtown memphis center city commission</td>\n      <td>nan</td>\n      <td>NaN</td>\n      <td>nan</td>\n      <td>NaN</td>\n      <td>NaN</td>\n    </tr>\n  </tbody>\n</table>\n<p>73 rows × 6 columns</p>\n</div>"
     },
     "execution_count": 7,
     "metadata": {},
     "output_type": "execute_result"
    }
   ],
   "source": [
    "# Clean the indicator columns\n",
    "def pilot_terminated_to_indicator(entry: any):\n",
    "    entry = str(entry)\n",
    "    if entry == \"NO\":\n",
    "        return 0\n",
    "    elif entry == \"YES\":\n",
    "        return 1\n",
    "    else:\n",
    "        return None\n",
    "\n",
    "df[\"pilot_terminated\"] = df[\"pilot_terminated\"].apply(lambda x: pilot_terminated_to_indicator(x))\n",
    "df"
   ],
   "metadata": {
    "collapsed": false,
    "ExecuteTime": {
     "end_time": "2024-04-01T00:41:39.834400Z",
     "start_time": "2024-04-01T00:41:39.797334Z"
    }
   },
   "id": "f4f276518bd7e23"
  },
  {
   "cell_type": "code",
   "execution_count": 8,
   "outputs": [
    {
     "data": {
      "text/plain": "                                                board  \\\n0                barlett industrial development board   \n1           collierville industrial development board   \n2             germantown industrial development board   \n3             edge board of memphis and shelby county   \n4             edge board of memphis and shelby county   \n..                                                ...   \n68  health educational and housing facilities boar...   \n69  health educational and housing facilities boar...   \n70  health educational and housing facilities boar...   \n71  ealth educational and housing facilities board...   \n72            downtown memphis center city commission   \n\n                                owner                delinquent_years  \\\n0                                 nan                            None   \n1      shelby group international inc                          [2022]   \n2                                 nan                            None   \n3   aesthetic management partners inc                          [2022]   \n4            agilent technologies inc                          [2022]   \n..                                ...                             ...   \n68           levi limited partnership              [2012, 2013, 2014]   \n69          lyons ridge apartments lp  [2012, 2013, 2014, 2015, 2016]   \n70                 village parkway lp  [2012, 2013, 2014, 2015, 2016]   \n71                                nan                            None   \n72                                nan                            None   \n\n   amount_due       parcel_no  pilot_terminated  \n0         nan             NaN               NaN  \n1     1842.58  IDB0000C00015A               0.0  \n2         nan             NaN               NaN  \n3    10558.52  IDB18370000000               0.0  \n4     3757.41  IDB1775A000000               0.0  \n..        ...             ...               ...  \n68   24359.23  IHE0001M000000               1.0  \n69  213137.51  IHE0003B000000               1.0  \n70  539119.49  IHE0002Z000000               1.0  \n71        nan             NaN               NaN  \n72        nan             NaN               NaN  \n\n[73 rows x 6 columns]",
      "text/html": "<div>\n<style scoped>\n    .dataframe tbody tr th:only-of-type {\n        vertical-align: middle;\n    }\n\n    .dataframe tbody tr th {\n        vertical-align: top;\n    }\n\n    .dataframe thead th {\n        text-align: right;\n    }\n</style>\n<table border=\"1\" class=\"dataframe\">\n  <thead>\n    <tr style=\"text-align: right;\">\n      <th></th>\n      <th>board</th>\n      <th>owner</th>\n      <th>delinquent_years</th>\n      <th>amount_due</th>\n      <th>parcel_no</th>\n      <th>pilot_terminated</th>\n    </tr>\n  </thead>\n  <tbody>\n    <tr>\n      <th>0</th>\n      <td>barlett industrial development board</td>\n      <td>nan</td>\n      <td>None</td>\n      <td>nan</td>\n      <td>NaN</td>\n      <td>NaN</td>\n    </tr>\n    <tr>\n      <th>1</th>\n      <td>collierville industrial development board</td>\n      <td>shelby group international inc</td>\n      <td>[2022]</td>\n      <td>1842.58</td>\n      <td>IDB0000C00015A</td>\n      <td>0.0</td>\n    </tr>\n    <tr>\n      <th>2</th>\n      <td>germantown industrial development board</td>\n      <td>nan</td>\n      <td>None</td>\n      <td>nan</td>\n      <td>NaN</td>\n      <td>NaN</td>\n    </tr>\n    <tr>\n      <th>3</th>\n      <td>edge board of memphis and shelby county</td>\n      <td>aesthetic management partners inc</td>\n      <td>[2022]</td>\n      <td>10558.52</td>\n      <td>IDB18370000000</td>\n      <td>0.0</td>\n    </tr>\n    <tr>\n      <th>4</th>\n      <td>edge board of memphis and shelby county</td>\n      <td>agilent technologies inc</td>\n      <td>[2022]</td>\n      <td>3757.41</td>\n      <td>IDB1775A000000</td>\n      <td>0.0</td>\n    </tr>\n    <tr>\n      <th>...</th>\n      <td>...</td>\n      <td>...</td>\n      <td>...</td>\n      <td>...</td>\n      <td>...</td>\n      <td>...</td>\n    </tr>\n    <tr>\n      <th>68</th>\n      <td>health educational and housing facilities boar...</td>\n      <td>levi limited partnership</td>\n      <td>[2012, 2013, 2014]</td>\n      <td>24359.23</td>\n      <td>IHE0001M000000</td>\n      <td>1.0</td>\n    </tr>\n    <tr>\n      <th>69</th>\n      <td>health educational and housing facilities boar...</td>\n      <td>lyons ridge apartments lp</td>\n      <td>[2012, 2013, 2014, 2015, 2016]</td>\n      <td>213137.51</td>\n      <td>IHE0003B000000</td>\n      <td>1.0</td>\n    </tr>\n    <tr>\n      <th>70</th>\n      <td>health educational and housing facilities boar...</td>\n      <td>village parkway lp</td>\n      <td>[2012, 2013, 2014, 2015, 2016]</td>\n      <td>539119.49</td>\n      <td>IHE0002Z000000</td>\n      <td>1.0</td>\n    </tr>\n    <tr>\n      <th>71</th>\n      <td>ealth educational and housing facilities board...</td>\n      <td>nan</td>\n      <td>None</td>\n      <td>nan</td>\n      <td>NaN</td>\n      <td>NaN</td>\n    </tr>\n    <tr>\n      <th>72</th>\n      <td>downtown memphis center city commission</td>\n      <td>nan</td>\n      <td>None</td>\n      <td>nan</td>\n      <td>NaN</td>\n      <td>NaN</td>\n    </tr>\n  </tbody>\n</table>\n<p>73 rows × 6 columns</p>\n</div>"
     },
     "execution_count": 8,
     "metadata": {},
     "output_type": "execute_result"
    }
   ],
   "source": [
    "# Clean the \"delinquent_years\" column\n",
    "\n",
    "# Because this data has an idiosyncratic \"end date\" value of \"End of Loan\", \n",
    "# we must define a dataset-specific function\n",
    "def delinquent_years_to_list(entry):\n",
    "    entry = str(entry)\n",
    "    entry = entry.split(\"-\")\n",
    "    if len(entry) == 0:\n",
    "        return None\n",
    "    elif len(entry) == 1:\n",
    "        if entry[0] == \"nan\":\n",
    "            return None\n",
    "        else:\n",
    "            return [int(entry[0])]\n",
    "    else:\n",
    "        return [item for item in range (int(entry[0]), int(entry[1]) + 1)]\n",
    "\n",
    "df[\"delinquent_years\"] = df[\"delinquent_years\"].apply(lambda x: delinquent_years_to_list(x))\n",
    "df\n",
    "        "
   ],
   "metadata": {
    "collapsed": false,
    "ExecuteTime": {
     "end_time": "2024-04-01T00:41:39.834986Z",
     "start_time": "2024-04-01T00:41:39.803027Z"
    }
   },
   "id": "1efa55d32b4be610"
  },
  {
   "cell_type": "code",
   "execution_count": 21,
   "outputs": [
    {
     "data": {
      "text/plain": "                                                          board  \\\nboard_id                                                          \n9929db2d3885               barlett industrial development board   \nb8e456900053          collierville industrial development board   \nbb500062bbfe            germantown industrial development board   \na2a30e152a39            edge board of memphis and shelby county   \na2a30e152a39            edge board of memphis and shelby county   \n...                                                         ...   \n53c1afb3aebe  health educational and housing facilities boar...   \n53c1afb3aebe  health educational and housing facilities boar...   \n53c1afb3aebe  health educational and housing facilities boar...   \nefdc8a56f149  ealth educational and housing facilities board...   \n3fe960ffbe54            downtown memphis center city commission   \n\n                                          owner  \\\nboard_id                                          \n9929db2d3885                                nan   \nb8e456900053     shelby group international inc   \nbb500062bbfe                                nan   \na2a30e152a39  aesthetic management partners inc   \na2a30e152a39           agilent technologies inc   \n...                                         ...   \n53c1afb3aebe           levi limited partnership   \n53c1afb3aebe          lyons ridge apartments lp   \n53c1afb3aebe                 village parkway lp   \nefdc8a56f149                                nan   \n3fe960ffbe54                                nan   \n\n                            delinquent_years amount_due       parcel_no  \\\nboard_id                                                                  \n9929db2d3885                            None        nan             NaN   \nb8e456900053                          [2022]    1842.58  IDB0000C00015A   \nbb500062bbfe                            None        nan             NaN   \na2a30e152a39                          [2022]   10558.52  IDB18370000000   \na2a30e152a39                          [2022]    3757.41  IDB1775A000000   \n...                                      ...        ...             ...   \n53c1afb3aebe              [2012, 2013, 2014]   24359.23  IHE0001M000000   \n53c1afb3aebe  [2012, 2013, 2014, 2015, 2016]  213137.51  IHE0003B000000   \n53c1afb3aebe  [2012, 2013, 2014, 2015, 2016]  539119.49  IHE0002Z000000   \nefdc8a56f149                            None        nan             NaN   \n3fe960ffbe54                            None        nan             NaN   \n\n              pilot_terminated      owner_id  \nboard_id                                      \n9929db2d3885               NaN  43b08d3d1b7d  \nb8e456900053               0.0  8a9611150e92  \nbb500062bbfe               NaN  43b08d3d1b7d  \na2a30e152a39               0.0  56c594d36bc2  \na2a30e152a39               0.0  5b622a63ecad  \n...                        ...           ...  \n53c1afb3aebe               1.0  9ad2883c08e5  \n53c1afb3aebe               1.0  0cd638e42d40  \n53c1afb3aebe               1.0  0d7c83819ea5  \nefdc8a56f149               NaN  43b08d3d1b7d  \n3fe960ffbe54               NaN  43b08d3d1b7d  \n\n[73 rows x 7 columns]",
      "text/html": "<div>\n<style scoped>\n    .dataframe tbody tr th:only-of-type {\n        vertical-align: middle;\n    }\n\n    .dataframe tbody tr th {\n        vertical-align: top;\n    }\n\n    .dataframe thead th {\n        text-align: right;\n    }\n</style>\n<table border=\"1\" class=\"dataframe\">\n  <thead>\n    <tr style=\"text-align: right;\">\n      <th></th>\n      <th>board</th>\n      <th>owner</th>\n      <th>delinquent_years</th>\n      <th>amount_due</th>\n      <th>parcel_no</th>\n      <th>pilot_terminated</th>\n      <th>owner_id</th>\n    </tr>\n    <tr>\n      <th>board_id</th>\n      <th></th>\n      <th></th>\n      <th></th>\n      <th></th>\n      <th></th>\n      <th></th>\n      <th></th>\n    </tr>\n  </thead>\n  <tbody>\n    <tr>\n      <th>9929db2d3885</th>\n      <td>barlett industrial development board</td>\n      <td>nan</td>\n      <td>None</td>\n      <td>nan</td>\n      <td>NaN</td>\n      <td>NaN</td>\n      <td>43b08d3d1b7d</td>\n    </tr>\n    <tr>\n      <th>b8e456900053</th>\n      <td>collierville industrial development board</td>\n      <td>shelby group international inc</td>\n      <td>[2022]</td>\n      <td>1842.58</td>\n      <td>IDB0000C00015A</td>\n      <td>0.0</td>\n      <td>8a9611150e92</td>\n    </tr>\n    <tr>\n      <th>bb500062bbfe</th>\n      <td>germantown industrial development board</td>\n      <td>nan</td>\n      <td>None</td>\n      <td>nan</td>\n      <td>NaN</td>\n      <td>NaN</td>\n      <td>43b08d3d1b7d</td>\n    </tr>\n    <tr>\n      <th>a2a30e152a39</th>\n      <td>edge board of memphis and shelby county</td>\n      <td>aesthetic management partners inc</td>\n      <td>[2022]</td>\n      <td>10558.52</td>\n      <td>IDB18370000000</td>\n      <td>0.0</td>\n      <td>56c594d36bc2</td>\n    </tr>\n    <tr>\n      <th>a2a30e152a39</th>\n      <td>edge board of memphis and shelby county</td>\n      <td>agilent technologies inc</td>\n      <td>[2022]</td>\n      <td>3757.41</td>\n      <td>IDB1775A000000</td>\n      <td>0.0</td>\n      <td>5b622a63ecad</td>\n    </tr>\n    <tr>\n      <th>...</th>\n      <td>...</td>\n      <td>...</td>\n      <td>...</td>\n      <td>...</td>\n      <td>...</td>\n      <td>...</td>\n      <td>...</td>\n    </tr>\n    <tr>\n      <th>53c1afb3aebe</th>\n      <td>health educational and housing facilities boar...</td>\n      <td>levi limited partnership</td>\n      <td>[2012, 2013, 2014]</td>\n      <td>24359.23</td>\n      <td>IHE0001M000000</td>\n      <td>1.0</td>\n      <td>9ad2883c08e5</td>\n    </tr>\n    <tr>\n      <th>53c1afb3aebe</th>\n      <td>health educational and housing facilities boar...</td>\n      <td>lyons ridge apartments lp</td>\n      <td>[2012, 2013, 2014, 2015, 2016]</td>\n      <td>213137.51</td>\n      <td>IHE0003B000000</td>\n      <td>1.0</td>\n      <td>0cd638e42d40</td>\n    </tr>\n    <tr>\n      <th>53c1afb3aebe</th>\n      <td>health educational and housing facilities boar...</td>\n      <td>village parkway lp</td>\n      <td>[2012, 2013, 2014, 2015, 2016]</td>\n      <td>539119.49</td>\n      <td>IHE0002Z000000</td>\n      <td>1.0</td>\n      <td>0d7c83819ea5</td>\n    </tr>\n    <tr>\n      <th>efdc8a56f149</th>\n      <td>ealth educational and housing facilities board...</td>\n      <td>nan</td>\n      <td>None</td>\n      <td>nan</td>\n      <td>NaN</td>\n      <td>NaN</td>\n      <td>43b08d3d1b7d</td>\n    </tr>\n    <tr>\n      <th>3fe960ffbe54</th>\n      <td>downtown memphis center city commission</td>\n      <td>nan</td>\n      <td>None</td>\n      <td>nan</td>\n      <td>NaN</td>\n      <td>NaN</td>\n      <td>43b08d3d1b7d</td>\n    </tr>\n  </tbody>\n</table>\n<p>73 rows × 7 columns</p>\n</div>"
     },
     "execution_count": 21,
     "metadata": {},
     "output_type": "execute_result"
    }
   ],
   "source": [
    "# Create identifying columns\n",
    "\n",
    "def set_unique_index(df: pd.DataFrame,\n",
    "                     columns_to_hash: list[str],\n",
    "                     index_name=\"id\",\n",
    "                     index_length_limit: Optional[int] = None):\n",
    "    df[index_name] = list(\n",
    "        map(lambda x: deterministic_uuid(''.join([str(col_value) for col_value in x]))[0:index_length_limit],\n",
    "            df[columns_to_hash].values))\n",
    "    return df\n",
    "\n",
    "df = set_unique_index(df=df, columns_to_hash = [\"board\"], index_length_limit=12, index_name=\"board_id\")\n",
    "df = set_unique_index(df=df, columns_to_hash = [\"owner\"], index_length_limit=12, index_name=\"owner_id\")\n",
    "df.set_index(\"board_id\", inplace=True)\n",
    "df\n"
   ],
   "metadata": {
    "collapsed": false,
    "ExecuteTime": {
     "end_time": "2024-04-01T00:49:06.819979Z",
     "start_time": "2024-04-01T00:49:06.817595Z"
    }
   },
   "id": "fa13dd82fd715b68"
  },
  {
   "cell_type": "code",
   "execution_count": 22,
   "outputs": [
    {
     "data": {
      "text/plain": "board                object\nowner                object\ndelinquent_years     object\namount_due           object\nparcel_no            object\npilot_terminated    float64\nowner_id             object\ndtype: object"
     },
     "execution_count": 22,
     "metadata": {},
     "output_type": "execute_result"
    }
   ],
   "source": [
    "# Check the data types of each variable\n",
    "df.dtypes"
   ],
   "metadata": {
    "collapsed": false,
    "ExecuteTime": {
     "end_time": "2024-04-01T00:49:44.109428Z",
     "start_time": "2024-04-01T00:49:44.102133Z"
    }
   },
   "id": "fb1c412d6c764d7b"
  },
  {
   "cell_type": "code",
   "execution_count": 27,
   "outputs": [
    {
     "data": {
      "text/plain": "board               string[python]\nowner               string[python]\ndelinquent_years    string[python]\namount_due                 float64\nparcel_no           string[python]\npilot_terminated             Int64\nowner_id            string[python]\ndtype: object"
     },
     "execution_count": 27,
     "metadata": {},
     "output_type": "execute_result"
    }
   ],
   "source": [
    "# Fix the data type of each variable\n",
    "\n",
    "names_to_types = {'board': \"string\",\n",
    "                  'owner': \"string\",\n",
    "                  'delinquent_years': \"string\",\n",
    "                  'amount_due': \"float64\",\n",
    "                  'parcel_no': \"string\",\n",
    "                  'pilot_terminated': \"Int64\",\n",
    "                  'owner_id': \"string\"\n",
    "                  }\n",
    "\n",
    "df = cast_data_types(df, names_to_types)\n",
    "df.dtypes"
   ],
   "metadata": {
    "collapsed": false,
    "ExecuteTime": {
     "end_time": "2024-04-01T00:53:11.156937Z",
     "start_time": "2024-04-01T00:53:11.153920Z"
    }
   },
   "id": "fa0f0232d27d41fe"
  },
  {
   "cell_type": "code",
   "execution_count": 28,
   "outputs": [],
   "source": [
    "# Save the now-clean csv and convert it to utf-8 format\n",
    "outfile_path = \"../data/processed/s_15_in_lieu_delinquent_notices.csv\"\n",
    "df.to_csv(outfile_path)\n",
    "convert_utf8(original_file_path=outfile_path, new_file_path=outfile_path)"
   ],
   "metadata": {
    "collapsed": false,
    "ExecuteTime": {
     "end_time": "2024-04-01T00:53:27.132501Z",
     "start_time": "2024-04-01T00:53:27.111726Z"
    }
   },
   "id": "209e2ad7bce3421"
  },
  {
   "cell_type": "code",
   "execution_count": null,
   "outputs": [],
   "source": [],
   "metadata": {
    "collapsed": false,
    "ExecuteTime": {
     "start_time": "2024-04-01T00:41:39.938342Z"
    }
   },
   "id": "932f14634f70a566"
  }
 ],
 "metadata": {
  "kernelspec": {
   "display_name": "Python 3",
   "language": "python",
   "name": "python3"
  },
  "language_info": {
   "codemirror_mode": {
    "name": "ipython",
    "version": 2
   },
   "file_extension": ".py",
   "mimetype": "text/x-python",
   "name": "python",
   "nbconvert_exporter": "python",
   "pygments_lexer": "ipython2",
   "version": "2.7.6"
  }
 },
 "nbformat": 4,
 "nbformat_minor": 5
}
