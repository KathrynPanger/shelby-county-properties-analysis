{
 "cells": [
  {
   "cell_type": "code",
   "execution_count": 22,
   "outputs": [],
   "source": [
    "import pandas as pd\n",
    "from utils import *\n",
    "from typing import Any"
   ],
   "metadata": {
    "collapsed": false,
    "ExecuteTime": {
     "end_time": "2024-04-01T00:59:25.084816Z",
     "start_time": "2024-04-01T00:59:25.059440Z"
    }
   },
   "id": "f890863474a831e4"
  },
  {
   "cell_type": "markdown",
   "source": [
    "<h1>Cleaning a CSV</h1>"
   ],
   "metadata": {
    "collapsed": false
   },
   "id": "37c2459a70173916"
  },
  {
   "cell_type": "markdown",
   "source": [
    "Read in a CSV"
   ],
   "metadata": {
    "collapsed": false
   },
   "id": "70312fa54485148"
  },
  {
   "cell_type": "code",
   "execution_count": 23,
   "outputs": [
    {
     "data": {
      "text/plain": "                        Owner                    Location PILOT Parcel No  \\\n0          SMITH & NEPHEW INC                 3303 HOLMES  IDB07380000000   \n1           RIVIANA FOODS INC             0 LAUDERDALE ST  IDB07590000000   \n2          SMITH & NEPHEW INC                 1450 BROOKS  IDB0760A000000   \n3    NUCOR STEEL MEMPHIS, INC           3601 PAUL R LOWRY  IDB0794A000000   \n4          SMITH & NEPHEW INC                 1450 BROOKS  IDB0804A000000   \n..                        ...                         ...             ...   \n236            ALPHATEC SPINE  1950 CAMINO VIDA RABLE ALY  IDB18510000000   \n237                  IMPERIAL           6099 GLOBAL DRIVE  IDB18520000000   \n238                  RENASANT                 5575 POPLAR  IDB18530000000   \n239       EBROFROST - RIVIANA               2360 PROSPECT  IDB18540000000   \n240        THE PALLET FACTORY            3740 ARNOLD ROAD  IDB18550000000   \n\n                              Underlying Parcel Number  Begin Date  \\\n0                                        9410000003040  07/27/2007   \n1    0490650000001C, 04906700000010, 04900400000090...  12/28/2007   \n2                                       0007600000000D  12/31/2007   \n3                                       0007940000000D  12/31/2008   \n4                                       0008040000000D  12/31/2008   \n..                                                 ...         ...   \n236                                      7410100000290  01/01/2022   \n237                                      9420000005030  07/01/2021   \n238                                     0560600000001C  07/01/2021   \n239                                     0490680000004C  01/01/2017   \n240                                     0730920000066C  12/31/2020   \n\n       End Date Assmt Taxes PILOT Contract Amt PILOT Debt Service Amt  \\\n0    12/31/2022    $189,356             $8,783                $47,339   \n1    12/31/2019    $247,301           $215,270                 $5,811   \n2    12/31/2021      $6,214               $100                 $1,553   \n3    12/31/2023    $712,998               $100               $178,250   \n4    12/31/2023     $26,295               $100                 $6,574   \n..          ...         ...                ...                    ...   \n236  12/31/2032     $37,356             $2,617                 $5,448   \n237  07/01/2031    $194,240             $5,547                $23,526   \n238  07/01/2031    $169,927            $66,241                $23,602   \n239  01/01/2024    $165,717            $92,343                $18,643   \n240  12/31/2027     $19,419            $12,475                 $1,736   \n\n    Difference  \n0    -$133,234  \n1     -$26,219  \n2      -$4,560  \n3    -$534,649  \n4     -$19,621  \n..         ...  \n236   -$29,292  \n237  -$165,167  \n238   -$80,084  \n239   -$54,730  \n240    -$5,208  \n\n[241 rows x 10 columns]",
      "text/html": "<div>\n<style scoped>\n    .dataframe tbody tr th:only-of-type {\n        vertical-align: middle;\n    }\n\n    .dataframe tbody tr th {\n        vertical-align: top;\n    }\n\n    .dataframe thead th {\n        text-align: right;\n    }\n</style>\n<table border=\"1\" class=\"dataframe\">\n  <thead>\n    <tr style=\"text-align: right;\">\n      <th></th>\n      <th>Owner</th>\n      <th>Location</th>\n      <th>PILOT Parcel No</th>\n      <th>Underlying Parcel Number</th>\n      <th>Begin Date</th>\n      <th>End Date</th>\n      <th>Assmt Taxes</th>\n      <th>PILOT Contract Amt</th>\n      <th>PILOT Debt Service Amt</th>\n      <th>Difference</th>\n    </tr>\n  </thead>\n  <tbody>\n    <tr>\n      <th>0</th>\n      <td>SMITH &amp; NEPHEW INC</td>\n      <td>3303 HOLMES</td>\n      <td>IDB07380000000</td>\n      <td>9410000003040</td>\n      <td>07/27/2007</td>\n      <td>12/31/2022</td>\n      <td>$189,356</td>\n      <td>$8,783</td>\n      <td>$47,339</td>\n      <td>-$133,234</td>\n    </tr>\n    <tr>\n      <th>1</th>\n      <td>RIVIANA FOODS INC</td>\n      <td>0 LAUDERDALE ST</td>\n      <td>IDB07590000000</td>\n      <td>0490650000001C, 04906700000010, 04900400000090...</td>\n      <td>12/28/2007</td>\n      <td>12/31/2019</td>\n      <td>$247,301</td>\n      <td>$215,270</td>\n      <td>$5,811</td>\n      <td>-$26,219</td>\n    </tr>\n    <tr>\n      <th>2</th>\n      <td>SMITH &amp; NEPHEW INC</td>\n      <td>1450 BROOKS</td>\n      <td>IDB0760A000000</td>\n      <td>0007600000000D</td>\n      <td>12/31/2007</td>\n      <td>12/31/2021</td>\n      <td>$6,214</td>\n      <td>$100</td>\n      <td>$1,553</td>\n      <td>-$4,560</td>\n    </tr>\n    <tr>\n      <th>3</th>\n      <td>NUCOR STEEL MEMPHIS, INC</td>\n      <td>3601 PAUL R LOWRY</td>\n      <td>IDB0794A000000</td>\n      <td>0007940000000D</td>\n      <td>12/31/2008</td>\n      <td>12/31/2023</td>\n      <td>$712,998</td>\n      <td>$100</td>\n      <td>$178,250</td>\n      <td>-$534,649</td>\n    </tr>\n    <tr>\n      <th>4</th>\n      <td>SMITH &amp; NEPHEW INC</td>\n      <td>1450 BROOKS</td>\n      <td>IDB0804A000000</td>\n      <td>0008040000000D</td>\n      <td>12/31/2008</td>\n      <td>12/31/2023</td>\n      <td>$26,295</td>\n      <td>$100</td>\n      <td>$6,574</td>\n      <td>-$19,621</td>\n    </tr>\n    <tr>\n      <th>...</th>\n      <td>...</td>\n      <td>...</td>\n      <td>...</td>\n      <td>...</td>\n      <td>...</td>\n      <td>...</td>\n      <td>...</td>\n      <td>...</td>\n      <td>...</td>\n      <td>...</td>\n    </tr>\n    <tr>\n      <th>236</th>\n      <td>ALPHATEC SPINE</td>\n      <td>1950 CAMINO VIDA RABLE ALY</td>\n      <td>IDB18510000000</td>\n      <td>7410100000290</td>\n      <td>01/01/2022</td>\n      <td>12/31/2032</td>\n      <td>$37,356</td>\n      <td>$2,617</td>\n      <td>$5,448</td>\n      <td>-$29,292</td>\n    </tr>\n    <tr>\n      <th>237</th>\n      <td>IMPERIAL</td>\n      <td>6099 GLOBAL DRIVE</td>\n      <td>IDB18520000000</td>\n      <td>9420000005030</td>\n      <td>07/01/2021</td>\n      <td>07/01/2031</td>\n      <td>$194,240</td>\n      <td>$5,547</td>\n      <td>$23,526</td>\n      <td>-$165,167</td>\n    </tr>\n    <tr>\n      <th>238</th>\n      <td>RENASANT</td>\n      <td>5575 POPLAR</td>\n      <td>IDB18530000000</td>\n      <td>0560600000001C</td>\n      <td>07/01/2021</td>\n      <td>07/01/2031</td>\n      <td>$169,927</td>\n      <td>$66,241</td>\n      <td>$23,602</td>\n      <td>-$80,084</td>\n    </tr>\n    <tr>\n      <th>239</th>\n      <td>EBROFROST - RIVIANA</td>\n      <td>2360 PROSPECT</td>\n      <td>IDB18540000000</td>\n      <td>0490680000004C</td>\n      <td>01/01/2017</td>\n      <td>01/01/2024</td>\n      <td>$165,717</td>\n      <td>$92,343</td>\n      <td>$18,643</td>\n      <td>-$54,730</td>\n    </tr>\n    <tr>\n      <th>240</th>\n      <td>THE PALLET FACTORY</td>\n      <td>3740 ARNOLD ROAD</td>\n      <td>IDB18550000000</td>\n      <td>0730920000066C</td>\n      <td>12/31/2020</td>\n      <td>12/31/2027</td>\n      <td>$19,419</td>\n      <td>$12,475</td>\n      <td>$1,736</td>\n      <td>-$5,208</td>\n    </tr>\n  </tbody>\n</table>\n<p>241 rows × 10 columns</p>\n</div>"
     },
     "execution_count": 23,
     "metadata": {},
     "output_type": "execute_result"
    }
   ],
   "source": [
    "# load a dataframe\n",
    "infile_path = \"../data/raw/silver_shelby_county_properties_municipality_breakdown - s4_2022_idb_contracts.csv\"\n",
    "df = pd.read_csv(infile_path)\n",
    "df"
   ],
   "metadata": {
    "collapsed": false,
    "ExecuteTime": {
     "end_time": "2024-04-01T00:59:25.135626Z",
     "start_time": "2024-04-01T00:59:25.073665Z"
    }
   },
   "id": "50cef4de40a6855d"
  },
  {
   "cell_type": "code",
   "execution_count": 24,
   "outputs": [
    {
     "data": {
      "text/plain": "Index(['owner', 'location', 'pilot_parcel_no', 'underlying_parcel_number',\n       'begin_date', 'end_date', 'assmt_taxes', 'pilot_contract_amt',\n       'pilot_debt_service_amt', 'difference'],\n      dtype='object')"
     },
     "execution_count": 24,
     "metadata": {},
     "output_type": "execute_result"
    }
   ],
   "source": [
    "# Clean the column headers\n",
    "df = clean_headers(df, [remove_special_for_words, truncate, snake_case, lower_case])\n",
    "df.columns"
   ],
   "metadata": {
    "collapsed": false,
    "ExecuteTime": {
     "end_time": "2024-04-01T00:59:25.135918Z",
     "start_time": "2024-04-01T00:59:25.088700Z"
    }
   },
   "id": "f8e6a7fb4013b6e6"
  },
  {
   "cell_type": "code",
   "execution_count": 25,
   "outputs": [
    {
     "data": {
      "text/plain": "                       owner                    location pilot_parcel_no  \\\n0           smith nephew inc                 3303 holmes  IDB07380000000   \n1          riviana foods inc             0 lauderdale st  IDB07590000000   \n2           smith nephew inc                 1450 brooks  IDB0760A000000   \n3    nucor steel memphis inc           3601 paul r lowry  IDB0794A000000   \n4           smith nephew inc                 1450 brooks  IDB0804A000000   \n..                       ...                         ...             ...   \n236           alphatec spine  1950 camino vida rable aly  IDB18510000000   \n237                 imperial           6099 global drive  IDB18520000000   \n238                 renasant                 5575 poplar  IDB18530000000   \n239        ebrofrost riviana               2360 prospect  IDB18540000000   \n240       the pallet factory            3740 arnold road  IDB18550000000   \n\n                              underlying_parcel_number  begin_date  \\\n0                                        9410000003040  07/27/2007   \n1    0490650000001C, 04906700000010, 04900400000090...  12/28/2007   \n2                                       0007600000000D  12/31/2007   \n3                                       0007940000000D  12/31/2008   \n4                                       0008040000000D  12/31/2008   \n..                                                 ...         ...   \n236                                      7410100000290  01/01/2022   \n237                                      9420000005030  07/01/2021   \n238                                     0560600000001C  07/01/2021   \n239                                     0490680000004C  01/01/2017   \n240                                     0730920000066C  12/31/2020   \n\n       end_date assmt_taxes pilot_contract_amt pilot_debt_service_amt  \\\n0    12/31/2022    $189,356             $8,783                $47,339   \n1    12/31/2019    $247,301           $215,270                 $5,811   \n2    12/31/2021      $6,214               $100                 $1,553   \n3    12/31/2023    $712,998               $100               $178,250   \n4    12/31/2023     $26,295               $100                 $6,574   \n..          ...         ...                ...                    ...   \n236  12/31/2032     $37,356             $2,617                 $5,448   \n237  07/01/2031    $194,240             $5,547                $23,526   \n238  07/01/2031    $169,927            $66,241                $23,602   \n239  01/01/2024    $165,717            $92,343                $18,643   \n240  12/31/2027     $19,419            $12,475                 $1,736   \n\n    difference  \n0    -$133,234  \n1     -$26,219  \n2      -$4,560  \n3    -$534,649  \n4     -$19,621  \n..         ...  \n236   -$29,292  \n237  -$165,167  \n238   -$80,084  \n239   -$54,730  \n240    -$5,208  \n\n[241 rows x 10 columns]",
      "text/html": "<div>\n<style scoped>\n    .dataframe tbody tr th:only-of-type {\n        vertical-align: middle;\n    }\n\n    .dataframe tbody tr th {\n        vertical-align: top;\n    }\n\n    .dataframe thead th {\n        text-align: right;\n    }\n</style>\n<table border=\"1\" class=\"dataframe\">\n  <thead>\n    <tr style=\"text-align: right;\">\n      <th></th>\n      <th>owner</th>\n      <th>location</th>\n      <th>pilot_parcel_no</th>\n      <th>underlying_parcel_number</th>\n      <th>begin_date</th>\n      <th>end_date</th>\n      <th>assmt_taxes</th>\n      <th>pilot_contract_amt</th>\n      <th>pilot_debt_service_amt</th>\n      <th>difference</th>\n    </tr>\n  </thead>\n  <tbody>\n    <tr>\n      <th>0</th>\n      <td>smith nephew inc</td>\n      <td>3303 holmes</td>\n      <td>IDB07380000000</td>\n      <td>9410000003040</td>\n      <td>07/27/2007</td>\n      <td>12/31/2022</td>\n      <td>$189,356</td>\n      <td>$8,783</td>\n      <td>$47,339</td>\n      <td>-$133,234</td>\n    </tr>\n    <tr>\n      <th>1</th>\n      <td>riviana foods inc</td>\n      <td>0 lauderdale st</td>\n      <td>IDB07590000000</td>\n      <td>0490650000001C, 04906700000010, 04900400000090...</td>\n      <td>12/28/2007</td>\n      <td>12/31/2019</td>\n      <td>$247,301</td>\n      <td>$215,270</td>\n      <td>$5,811</td>\n      <td>-$26,219</td>\n    </tr>\n    <tr>\n      <th>2</th>\n      <td>smith nephew inc</td>\n      <td>1450 brooks</td>\n      <td>IDB0760A000000</td>\n      <td>0007600000000D</td>\n      <td>12/31/2007</td>\n      <td>12/31/2021</td>\n      <td>$6,214</td>\n      <td>$100</td>\n      <td>$1,553</td>\n      <td>-$4,560</td>\n    </tr>\n    <tr>\n      <th>3</th>\n      <td>nucor steel memphis inc</td>\n      <td>3601 paul r lowry</td>\n      <td>IDB0794A000000</td>\n      <td>0007940000000D</td>\n      <td>12/31/2008</td>\n      <td>12/31/2023</td>\n      <td>$712,998</td>\n      <td>$100</td>\n      <td>$178,250</td>\n      <td>-$534,649</td>\n    </tr>\n    <tr>\n      <th>4</th>\n      <td>smith nephew inc</td>\n      <td>1450 brooks</td>\n      <td>IDB0804A000000</td>\n      <td>0008040000000D</td>\n      <td>12/31/2008</td>\n      <td>12/31/2023</td>\n      <td>$26,295</td>\n      <td>$100</td>\n      <td>$6,574</td>\n      <td>-$19,621</td>\n    </tr>\n    <tr>\n      <th>...</th>\n      <td>...</td>\n      <td>...</td>\n      <td>...</td>\n      <td>...</td>\n      <td>...</td>\n      <td>...</td>\n      <td>...</td>\n      <td>...</td>\n      <td>...</td>\n      <td>...</td>\n    </tr>\n    <tr>\n      <th>236</th>\n      <td>alphatec spine</td>\n      <td>1950 camino vida rable aly</td>\n      <td>IDB18510000000</td>\n      <td>7410100000290</td>\n      <td>01/01/2022</td>\n      <td>12/31/2032</td>\n      <td>$37,356</td>\n      <td>$2,617</td>\n      <td>$5,448</td>\n      <td>-$29,292</td>\n    </tr>\n    <tr>\n      <th>237</th>\n      <td>imperial</td>\n      <td>6099 global drive</td>\n      <td>IDB18520000000</td>\n      <td>9420000005030</td>\n      <td>07/01/2021</td>\n      <td>07/01/2031</td>\n      <td>$194,240</td>\n      <td>$5,547</td>\n      <td>$23,526</td>\n      <td>-$165,167</td>\n    </tr>\n    <tr>\n      <th>238</th>\n      <td>renasant</td>\n      <td>5575 poplar</td>\n      <td>IDB18530000000</td>\n      <td>0560600000001C</td>\n      <td>07/01/2021</td>\n      <td>07/01/2031</td>\n      <td>$169,927</td>\n      <td>$66,241</td>\n      <td>$23,602</td>\n      <td>-$80,084</td>\n    </tr>\n    <tr>\n      <th>239</th>\n      <td>ebrofrost riviana</td>\n      <td>2360 prospect</td>\n      <td>IDB18540000000</td>\n      <td>0490680000004C</td>\n      <td>01/01/2017</td>\n      <td>01/01/2024</td>\n      <td>$165,717</td>\n      <td>$92,343</td>\n      <td>$18,643</td>\n      <td>-$54,730</td>\n    </tr>\n    <tr>\n      <th>240</th>\n      <td>the pallet factory</td>\n      <td>3740 arnold road</td>\n      <td>IDB18550000000</td>\n      <td>0730920000066C</td>\n      <td>12/31/2020</td>\n      <td>12/31/2027</td>\n      <td>$19,419</td>\n      <td>$12,475</td>\n      <td>$1,736</td>\n      <td>-$5,208</td>\n    </tr>\n  </tbody>\n</table>\n<p>241 rows × 10 columns</p>\n</div>"
     },
     "execution_count": 25,
     "metadata": {},
     "output_type": "execute_result"
    }
   ],
   "source": [
    "# Clean the string columns\n",
    "string_columns = [\"owner\", \n",
    "                  \"location\"]\n",
    "df = clean_columns(df, string_columns, [remove_special_for_words, truncate, lower_case])\n",
    "df"
   ],
   "metadata": {
    "collapsed": false,
    "ExecuteTime": {
     "end_time": "2024-04-01T00:59:25.136129Z",
     "start_time": "2024-04-01T00:59:25.100703Z"
    }
   },
   "id": "67171db99d8fff6d"
  },
  {
   "cell_type": "code",
   "execution_count": 26,
   "outputs": [
    {
     "data": {
      "text/plain": "Index(['owner', 'location', 'pilot_parcel_no', 'underlying_parcel_number',\n       'begin_date', 'end_date', 'assmt_taxes', 'pilot_contract_amt',\n       'pilot_debt_service_amt', 'difference'],\n      dtype='object')"
     },
     "execution_count": 26,
     "metadata": {},
     "output_type": "execute_result"
    }
   ],
   "source": [
    "df.columns"
   ],
   "metadata": {
    "collapsed": false,
    "ExecuteTime": {
     "end_time": "2024-04-01T00:59:25.136215Z",
     "start_time": "2024-04-01T00:59:25.104951Z"
    }
   },
   "id": "4484a9731b2bde17"
  },
  {
   "cell_type": "code",
   "execution_count": 27,
   "outputs": [
    {
     "data": {
      "text/plain": "                       owner                    location pilot_parcel_no  \\\n0           smith nephew inc                 3303 holmes  IDB07380000000   \n1          riviana foods inc             0 lauderdale st  IDB07590000000   \n2           smith nephew inc                 1450 brooks  IDB0760A000000   \n3    nucor steel memphis inc           3601 paul r lowry  IDB0794A000000   \n4           smith nephew inc                 1450 brooks  IDB0804A000000   \n..                       ...                         ...             ...   \n236           alphatec spine  1950 camino vida rable aly  IDB18510000000   \n237                 imperial           6099 global drive  IDB18520000000   \n238                 renasant                 5575 poplar  IDB18530000000   \n239        ebrofrost riviana               2360 prospect  IDB18540000000   \n240       the pallet factory            3740 arnold road  IDB18550000000   \n\n                              underlying_parcel_number  begin_date  \\\n0                                        9410000003040  07/27/2007   \n1    0490650000001C, 04906700000010, 04900400000090...  12/28/2007   \n2                                       0007600000000D  12/31/2007   \n3                                       0007940000000D  12/31/2008   \n4                                       0008040000000D  12/31/2008   \n..                                                 ...         ...   \n236                                      7410100000290  01/01/2022   \n237                                      9420000005030  07/01/2021   \n238                                     0560600000001C  07/01/2021   \n239                                     0490680000004C  01/01/2017   \n240                                     0730920000066C  12/31/2020   \n\n       end_date assmt_taxes pilot_contract_amt pilot_debt_service_amt  \\\n0    12/31/2022      189356               8783                  47339   \n1    12/31/2019      247301             215270                   5811   \n2    12/31/2021        6214                100                   1553   \n3    12/31/2023      712998                100                 178250   \n4    12/31/2023       26295                100                   6574   \n..          ...         ...                ...                    ...   \n236  12/31/2032       37356               2617                   5448   \n237  07/01/2031      194240               5547                  23526   \n238  07/01/2031      169927              66241                  23602   \n239  01/01/2024      165717              92343                  18643   \n240  12/31/2027       19419              12475                   1736   \n\n    difference  \n0      -133234  \n1       -26219  \n2        -4560  \n3      -534649  \n4       -19621  \n..         ...  \n236     -29292  \n237    -165167  \n238     -80084  \n239     -54730  \n240      -5208  \n\n[241 rows x 10 columns]",
      "text/html": "<div>\n<style scoped>\n    .dataframe tbody tr th:only-of-type {\n        vertical-align: middle;\n    }\n\n    .dataframe tbody tr th {\n        vertical-align: top;\n    }\n\n    .dataframe thead th {\n        text-align: right;\n    }\n</style>\n<table border=\"1\" class=\"dataframe\">\n  <thead>\n    <tr style=\"text-align: right;\">\n      <th></th>\n      <th>owner</th>\n      <th>location</th>\n      <th>pilot_parcel_no</th>\n      <th>underlying_parcel_number</th>\n      <th>begin_date</th>\n      <th>end_date</th>\n      <th>assmt_taxes</th>\n      <th>pilot_contract_amt</th>\n      <th>pilot_debt_service_amt</th>\n      <th>difference</th>\n    </tr>\n  </thead>\n  <tbody>\n    <tr>\n      <th>0</th>\n      <td>smith nephew inc</td>\n      <td>3303 holmes</td>\n      <td>IDB07380000000</td>\n      <td>9410000003040</td>\n      <td>07/27/2007</td>\n      <td>12/31/2022</td>\n      <td>189356</td>\n      <td>8783</td>\n      <td>47339</td>\n      <td>-133234</td>\n    </tr>\n    <tr>\n      <th>1</th>\n      <td>riviana foods inc</td>\n      <td>0 lauderdale st</td>\n      <td>IDB07590000000</td>\n      <td>0490650000001C, 04906700000010, 04900400000090...</td>\n      <td>12/28/2007</td>\n      <td>12/31/2019</td>\n      <td>247301</td>\n      <td>215270</td>\n      <td>5811</td>\n      <td>-26219</td>\n    </tr>\n    <tr>\n      <th>2</th>\n      <td>smith nephew inc</td>\n      <td>1450 brooks</td>\n      <td>IDB0760A000000</td>\n      <td>0007600000000D</td>\n      <td>12/31/2007</td>\n      <td>12/31/2021</td>\n      <td>6214</td>\n      <td>100</td>\n      <td>1553</td>\n      <td>-4560</td>\n    </tr>\n    <tr>\n      <th>3</th>\n      <td>nucor steel memphis inc</td>\n      <td>3601 paul r lowry</td>\n      <td>IDB0794A000000</td>\n      <td>0007940000000D</td>\n      <td>12/31/2008</td>\n      <td>12/31/2023</td>\n      <td>712998</td>\n      <td>100</td>\n      <td>178250</td>\n      <td>-534649</td>\n    </tr>\n    <tr>\n      <th>4</th>\n      <td>smith nephew inc</td>\n      <td>1450 brooks</td>\n      <td>IDB0804A000000</td>\n      <td>0008040000000D</td>\n      <td>12/31/2008</td>\n      <td>12/31/2023</td>\n      <td>26295</td>\n      <td>100</td>\n      <td>6574</td>\n      <td>-19621</td>\n    </tr>\n    <tr>\n      <th>...</th>\n      <td>...</td>\n      <td>...</td>\n      <td>...</td>\n      <td>...</td>\n      <td>...</td>\n      <td>...</td>\n      <td>...</td>\n      <td>...</td>\n      <td>...</td>\n      <td>...</td>\n    </tr>\n    <tr>\n      <th>236</th>\n      <td>alphatec spine</td>\n      <td>1950 camino vida rable aly</td>\n      <td>IDB18510000000</td>\n      <td>7410100000290</td>\n      <td>01/01/2022</td>\n      <td>12/31/2032</td>\n      <td>37356</td>\n      <td>2617</td>\n      <td>5448</td>\n      <td>-29292</td>\n    </tr>\n    <tr>\n      <th>237</th>\n      <td>imperial</td>\n      <td>6099 global drive</td>\n      <td>IDB18520000000</td>\n      <td>9420000005030</td>\n      <td>07/01/2021</td>\n      <td>07/01/2031</td>\n      <td>194240</td>\n      <td>5547</td>\n      <td>23526</td>\n      <td>-165167</td>\n    </tr>\n    <tr>\n      <th>238</th>\n      <td>renasant</td>\n      <td>5575 poplar</td>\n      <td>IDB18530000000</td>\n      <td>0560600000001C</td>\n      <td>07/01/2021</td>\n      <td>07/01/2031</td>\n      <td>169927</td>\n      <td>66241</td>\n      <td>23602</td>\n      <td>-80084</td>\n    </tr>\n    <tr>\n      <th>239</th>\n      <td>ebrofrost riviana</td>\n      <td>2360 prospect</td>\n      <td>IDB18540000000</td>\n      <td>0490680000004C</td>\n      <td>01/01/2017</td>\n      <td>01/01/2024</td>\n      <td>165717</td>\n      <td>92343</td>\n      <td>18643</td>\n      <td>-54730</td>\n    </tr>\n    <tr>\n      <th>240</th>\n      <td>the pallet factory</td>\n      <td>3740 arnold road</td>\n      <td>IDB18550000000</td>\n      <td>0730920000066C</td>\n      <td>12/31/2020</td>\n      <td>12/31/2027</td>\n      <td>19419</td>\n      <td>12475</td>\n      <td>1736</td>\n      <td>-5208</td>\n    </tr>\n  </tbody>\n</table>\n<p>241 rows × 10 columns</p>\n</div>"
     },
     "execution_count": 27,
     "metadata": {},
     "output_type": "execute_result"
    }
   ],
   "source": [
    "# Clean the numeric columns\n",
    "numeric_columns = ['assmt_taxes', 'pilot_contract_amt',\n",
    "       'pilot_debt_service_amt', 'difference']\n",
    "df = clean_columns(df, numeric_columns, [remove_special_for_numbers, convert_only_dash_to_missing])\n",
    "\n",
    "df"
   ],
   "metadata": {
    "collapsed": false,
    "ExecuteTime": {
     "end_time": "2024-04-01T00:59:25.136419Z",
     "start_time": "2024-04-01T00:59:25.111100Z"
    }
   },
   "id": "fd553dbc31168c70"
  },
  {
   "cell_type": "code",
   "execution_count": 28,
   "outputs": [
    {
     "data": {
      "text/plain": "                       owner                    location pilot_parcel_no  \\\n0           smith nephew inc                 3303 holmes  IDB07380000000   \n1          riviana foods inc             0 lauderdale st  IDB07590000000   \n2           smith nephew inc                 1450 brooks  IDB0760A000000   \n3    nucor steel memphis inc           3601 paul r lowry  IDB0794A000000   \n4           smith nephew inc                 1450 brooks  IDB0804A000000   \n..                       ...                         ...             ...   \n236           alphatec spine  1950 camino vida rable aly  IDB18510000000   \n237                 imperial           6099 global drive  IDB18520000000   \n238                 renasant                 5575 poplar  IDB18530000000   \n239        ebrofrost riviana               2360 prospect  IDB18540000000   \n240       the pallet factory            3740 arnold road  IDB18550000000   \n\n                              underlying_parcel_number begin_date   end_date  \\\n0                                        9410000003040 2007-07-27 2022-12-31   \n1    0490650000001C, 04906700000010, 04900400000090... 2007-12-28 2019-12-31   \n2                                       0007600000000D 2007-12-31 2021-12-31   \n3                                       0007940000000D 2008-12-31 2023-12-31   \n4                                       0008040000000D 2008-12-31 2023-12-31   \n..                                                 ...        ...        ...   \n236                                      7410100000290 2022-01-01 2032-12-31   \n237                                      9420000005030 2021-07-01 2031-07-01   \n238                                     0560600000001C 2021-07-01 2031-07-01   \n239                                     0490680000004C 2017-01-01 2024-01-01   \n240                                     0730920000066C 2020-12-31 2027-12-31   \n\n    assmt_taxes pilot_contract_amt pilot_debt_service_amt difference  \n0        189356               8783                  47339    -133234  \n1        247301             215270                   5811     -26219  \n2          6214                100                   1553      -4560  \n3        712998                100                 178250    -534649  \n4         26295                100                   6574     -19621  \n..          ...                ...                    ...        ...  \n236       37356               2617                   5448     -29292  \n237      194240               5547                  23526    -165167  \n238      169927              66241                  23602     -80084  \n239      165717              92343                  18643     -54730  \n240       19419              12475                   1736      -5208  \n\n[241 rows x 10 columns]",
      "text/html": "<div>\n<style scoped>\n    .dataframe tbody tr th:only-of-type {\n        vertical-align: middle;\n    }\n\n    .dataframe tbody tr th {\n        vertical-align: top;\n    }\n\n    .dataframe thead th {\n        text-align: right;\n    }\n</style>\n<table border=\"1\" class=\"dataframe\">\n  <thead>\n    <tr style=\"text-align: right;\">\n      <th></th>\n      <th>owner</th>\n      <th>location</th>\n      <th>pilot_parcel_no</th>\n      <th>underlying_parcel_number</th>\n      <th>begin_date</th>\n      <th>end_date</th>\n      <th>assmt_taxes</th>\n      <th>pilot_contract_amt</th>\n      <th>pilot_debt_service_amt</th>\n      <th>difference</th>\n    </tr>\n  </thead>\n  <tbody>\n    <tr>\n      <th>0</th>\n      <td>smith nephew inc</td>\n      <td>3303 holmes</td>\n      <td>IDB07380000000</td>\n      <td>9410000003040</td>\n      <td>2007-07-27</td>\n      <td>2022-12-31</td>\n      <td>189356</td>\n      <td>8783</td>\n      <td>47339</td>\n      <td>-133234</td>\n    </tr>\n    <tr>\n      <th>1</th>\n      <td>riviana foods inc</td>\n      <td>0 lauderdale st</td>\n      <td>IDB07590000000</td>\n      <td>0490650000001C, 04906700000010, 04900400000090...</td>\n      <td>2007-12-28</td>\n      <td>2019-12-31</td>\n      <td>247301</td>\n      <td>215270</td>\n      <td>5811</td>\n      <td>-26219</td>\n    </tr>\n    <tr>\n      <th>2</th>\n      <td>smith nephew inc</td>\n      <td>1450 brooks</td>\n      <td>IDB0760A000000</td>\n      <td>0007600000000D</td>\n      <td>2007-12-31</td>\n      <td>2021-12-31</td>\n      <td>6214</td>\n      <td>100</td>\n      <td>1553</td>\n      <td>-4560</td>\n    </tr>\n    <tr>\n      <th>3</th>\n      <td>nucor steel memphis inc</td>\n      <td>3601 paul r lowry</td>\n      <td>IDB0794A000000</td>\n      <td>0007940000000D</td>\n      <td>2008-12-31</td>\n      <td>2023-12-31</td>\n      <td>712998</td>\n      <td>100</td>\n      <td>178250</td>\n      <td>-534649</td>\n    </tr>\n    <tr>\n      <th>4</th>\n      <td>smith nephew inc</td>\n      <td>1450 brooks</td>\n      <td>IDB0804A000000</td>\n      <td>0008040000000D</td>\n      <td>2008-12-31</td>\n      <td>2023-12-31</td>\n      <td>26295</td>\n      <td>100</td>\n      <td>6574</td>\n      <td>-19621</td>\n    </tr>\n    <tr>\n      <th>...</th>\n      <td>...</td>\n      <td>...</td>\n      <td>...</td>\n      <td>...</td>\n      <td>...</td>\n      <td>...</td>\n      <td>...</td>\n      <td>...</td>\n      <td>...</td>\n      <td>...</td>\n    </tr>\n    <tr>\n      <th>236</th>\n      <td>alphatec spine</td>\n      <td>1950 camino vida rable aly</td>\n      <td>IDB18510000000</td>\n      <td>7410100000290</td>\n      <td>2022-01-01</td>\n      <td>2032-12-31</td>\n      <td>37356</td>\n      <td>2617</td>\n      <td>5448</td>\n      <td>-29292</td>\n    </tr>\n    <tr>\n      <th>237</th>\n      <td>imperial</td>\n      <td>6099 global drive</td>\n      <td>IDB18520000000</td>\n      <td>9420000005030</td>\n      <td>2021-07-01</td>\n      <td>2031-07-01</td>\n      <td>194240</td>\n      <td>5547</td>\n      <td>23526</td>\n      <td>-165167</td>\n    </tr>\n    <tr>\n      <th>238</th>\n      <td>renasant</td>\n      <td>5575 poplar</td>\n      <td>IDB18530000000</td>\n      <td>0560600000001C</td>\n      <td>2021-07-01</td>\n      <td>2031-07-01</td>\n      <td>169927</td>\n      <td>66241</td>\n      <td>23602</td>\n      <td>-80084</td>\n    </tr>\n    <tr>\n      <th>239</th>\n      <td>ebrofrost riviana</td>\n      <td>2360 prospect</td>\n      <td>IDB18540000000</td>\n      <td>0490680000004C</td>\n      <td>2017-01-01</td>\n      <td>2024-01-01</td>\n      <td>165717</td>\n      <td>92343</td>\n      <td>18643</td>\n      <td>-54730</td>\n    </tr>\n    <tr>\n      <th>240</th>\n      <td>the pallet factory</td>\n      <td>3740 arnold road</td>\n      <td>IDB18550000000</td>\n      <td>0730920000066C</td>\n      <td>2020-12-31</td>\n      <td>2027-12-31</td>\n      <td>19419</td>\n      <td>12475</td>\n      <td>1736</td>\n      <td>-5208</td>\n    </tr>\n  </tbody>\n</table>\n<p>241 rows × 10 columns</p>\n</div>"
     },
     "execution_count": 28,
     "metadata": {},
     "output_type": "execute_result"
    }
   ],
   "source": [
    "# Clean the date columns\n",
    "\n",
    "# Because this data has an idiosyncratic \"end date\" value of \"End of Loan\", \n",
    "# we must define a dataset-specific function\n",
    "def cast_end_date_to_datetime(entry: str | Number):\n",
    "    try:\n",
    "        return pd.to_datetime(str(entry))\n",
    "    except ValueError:\n",
    "        return entry\n",
    "df[\"begin_date\"] = pd.to_datetime(df[\"begin_date\"])\n",
    "df[\"end_date\"] = df[\"end_date\"].apply(lambda x: cast_end_date_to_datetime(x))\n",
    "df"
   ],
   "metadata": {
    "collapsed": false,
    "ExecuteTime": {
     "end_time": "2024-04-01T00:59:25.229871Z",
     "start_time": "2024-04-01T00:59:25.140765Z"
    }
   },
   "id": "1efa55d32b4be610"
  },
  {
   "cell_type": "code",
   "execution_count": 29,
   "outputs": [
    {
     "data": {
      "text/plain": "                       owner                    location   pilot_parcel_no  \\\n0           smith nephew inc                 3303 holmes  [IDB07380000000]   \n1          riviana foods inc             0 lauderdale st  [IDB07590000000]   \n2           smith nephew inc                 1450 brooks  [IDB0760A000000]   \n3    nucor steel memphis inc           3601 paul r lowry  [IDB0794A000000]   \n4           smith nephew inc                 1450 brooks  [IDB0804A000000]   \n..                       ...                         ...               ...   \n236           alphatec spine  1950 camino vida rable aly  [IDB18510000000]   \n237                 imperial           6099 global drive  [IDB18520000000]   \n238                 renasant                 5575 poplar  [IDB18530000000]   \n239        ebrofrost riviana               2360 prospect  [IDB18540000000]   \n240       the pallet factory            3740 arnold road  [IDB18550000000]   \n\n                              underlying_parcel_number begin_date   end_date  \\\n0                                      [9410000003040] 2007-07-27 2022-12-31   \n1    [0490650000001C,  04906700000010,  04900400000... 2007-12-28 2019-12-31   \n2                                     [0007600000000D] 2007-12-31 2021-12-31   \n3                                     [0007940000000D] 2008-12-31 2023-12-31   \n4                                     [0008040000000D] 2008-12-31 2023-12-31   \n..                                                 ...        ...        ...   \n236                                    [7410100000290] 2022-01-01 2032-12-31   \n237                                    [9420000005030] 2021-07-01 2031-07-01   \n238                                   [0560600000001C] 2021-07-01 2031-07-01   \n239                                   [0490680000004C] 2017-01-01 2024-01-01   \n240                                   [0730920000066C] 2020-12-31 2027-12-31   \n\n    assmt_taxes pilot_contract_amt pilot_debt_service_amt difference  \n0        189356               8783                  47339    -133234  \n1        247301             215270                   5811     -26219  \n2          6214                100                   1553      -4560  \n3        712998                100                 178250    -534649  \n4         26295                100                   6574     -19621  \n..          ...                ...                    ...        ...  \n236       37356               2617                   5448     -29292  \n237      194240               5547                  23526    -165167  \n238      169927              66241                  23602     -80084  \n239      165717              92343                  18643     -54730  \n240       19419              12475                   1736      -5208  \n\n[241 rows x 10 columns]",
      "text/html": "<div>\n<style scoped>\n    .dataframe tbody tr th:only-of-type {\n        vertical-align: middle;\n    }\n\n    .dataframe tbody tr th {\n        vertical-align: top;\n    }\n\n    .dataframe thead th {\n        text-align: right;\n    }\n</style>\n<table border=\"1\" class=\"dataframe\">\n  <thead>\n    <tr style=\"text-align: right;\">\n      <th></th>\n      <th>owner</th>\n      <th>location</th>\n      <th>pilot_parcel_no</th>\n      <th>underlying_parcel_number</th>\n      <th>begin_date</th>\n      <th>end_date</th>\n      <th>assmt_taxes</th>\n      <th>pilot_contract_amt</th>\n      <th>pilot_debt_service_amt</th>\n      <th>difference</th>\n    </tr>\n  </thead>\n  <tbody>\n    <tr>\n      <th>0</th>\n      <td>smith nephew inc</td>\n      <td>3303 holmes</td>\n      <td>[IDB07380000000]</td>\n      <td>[9410000003040]</td>\n      <td>2007-07-27</td>\n      <td>2022-12-31</td>\n      <td>189356</td>\n      <td>8783</td>\n      <td>47339</td>\n      <td>-133234</td>\n    </tr>\n    <tr>\n      <th>1</th>\n      <td>riviana foods inc</td>\n      <td>0 lauderdale st</td>\n      <td>[IDB07590000000]</td>\n      <td>[0490650000001C,  04906700000010,  04900400000...</td>\n      <td>2007-12-28</td>\n      <td>2019-12-31</td>\n      <td>247301</td>\n      <td>215270</td>\n      <td>5811</td>\n      <td>-26219</td>\n    </tr>\n    <tr>\n      <th>2</th>\n      <td>smith nephew inc</td>\n      <td>1450 brooks</td>\n      <td>[IDB0760A000000]</td>\n      <td>[0007600000000D]</td>\n      <td>2007-12-31</td>\n      <td>2021-12-31</td>\n      <td>6214</td>\n      <td>100</td>\n      <td>1553</td>\n      <td>-4560</td>\n    </tr>\n    <tr>\n      <th>3</th>\n      <td>nucor steel memphis inc</td>\n      <td>3601 paul r lowry</td>\n      <td>[IDB0794A000000]</td>\n      <td>[0007940000000D]</td>\n      <td>2008-12-31</td>\n      <td>2023-12-31</td>\n      <td>712998</td>\n      <td>100</td>\n      <td>178250</td>\n      <td>-534649</td>\n    </tr>\n    <tr>\n      <th>4</th>\n      <td>smith nephew inc</td>\n      <td>1450 brooks</td>\n      <td>[IDB0804A000000]</td>\n      <td>[0008040000000D]</td>\n      <td>2008-12-31</td>\n      <td>2023-12-31</td>\n      <td>26295</td>\n      <td>100</td>\n      <td>6574</td>\n      <td>-19621</td>\n    </tr>\n    <tr>\n      <th>...</th>\n      <td>...</td>\n      <td>...</td>\n      <td>...</td>\n      <td>...</td>\n      <td>...</td>\n      <td>...</td>\n      <td>...</td>\n      <td>...</td>\n      <td>...</td>\n      <td>...</td>\n    </tr>\n    <tr>\n      <th>236</th>\n      <td>alphatec spine</td>\n      <td>1950 camino vida rable aly</td>\n      <td>[IDB18510000000]</td>\n      <td>[7410100000290]</td>\n      <td>2022-01-01</td>\n      <td>2032-12-31</td>\n      <td>37356</td>\n      <td>2617</td>\n      <td>5448</td>\n      <td>-29292</td>\n    </tr>\n    <tr>\n      <th>237</th>\n      <td>imperial</td>\n      <td>6099 global drive</td>\n      <td>[IDB18520000000]</td>\n      <td>[9420000005030]</td>\n      <td>2021-07-01</td>\n      <td>2031-07-01</td>\n      <td>194240</td>\n      <td>5547</td>\n      <td>23526</td>\n      <td>-165167</td>\n    </tr>\n    <tr>\n      <th>238</th>\n      <td>renasant</td>\n      <td>5575 poplar</td>\n      <td>[IDB18530000000]</td>\n      <td>[0560600000001C]</td>\n      <td>2021-07-01</td>\n      <td>2031-07-01</td>\n      <td>169927</td>\n      <td>66241</td>\n      <td>23602</td>\n      <td>-80084</td>\n    </tr>\n    <tr>\n      <th>239</th>\n      <td>ebrofrost riviana</td>\n      <td>2360 prospect</td>\n      <td>[IDB18540000000]</td>\n      <td>[0490680000004C]</td>\n      <td>2017-01-01</td>\n      <td>2024-01-01</td>\n      <td>165717</td>\n      <td>92343</td>\n      <td>18643</td>\n      <td>-54730</td>\n    </tr>\n    <tr>\n      <th>240</th>\n      <td>the pallet factory</td>\n      <td>3740 arnold road</td>\n      <td>[IDB18550000000]</td>\n      <td>[0730920000066C]</td>\n      <td>2020-12-31</td>\n      <td>2027-12-31</td>\n      <td>19419</td>\n      <td>12475</td>\n      <td>1736</td>\n      <td>-5208</td>\n    </tr>\n  </tbody>\n</table>\n<p>241 rows × 10 columns</p>\n</div>"
     },
     "execution_count": 29,
     "metadata": {},
     "output_type": "execute_result"
    }
   ],
   "source": [
    "# Clean the list columns\n",
    "\n",
    "# Pandas always reads in lists as strings, so they will ultimately be converted to a string type, but putting them in lists firsts will allow us to convert them back to lists more quickly the next time we read them in because the list brackets will be included \n",
    "# in the output string\n",
    "\n",
    "list_columns = [\"pilot_parcel_no\", \"underlying_parcel_number\"]\n",
    "for col in list_columns:\n",
    "    df[col] = df[col].apply(lambda x: str(x).split(\",\"))\n",
    "df"
   ],
   "metadata": {
    "collapsed": false,
    "ExecuteTime": {
     "end_time": "2024-04-01T00:59:25.257424Z",
     "start_time": "2024-04-01T00:59:25.186743Z"
    }
   },
   "id": "5a2ebeae72c53116"
  },
  {
   "cell_type": "code",
   "execution_count": 30,
   "outputs": [
    {
     "data": {
      "text/plain": "                                owner                    location  \\\nowner_id                                                            \n1381477d4a08         smith nephew inc                 3303 holmes   \na865c500e56c        riviana foods inc             0 lauderdale st   \n1381477d4a08         smith nephew inc                 1450 brooks   \nd6645cf714fb  nucor steel memphis inc           3601 paul r lowry   \n1381477d4a08         smith nephew inc                 1450 brooks   \n...                               ...                         ...   \n7e23b7e9fdf7           alphatec spine  1950 camino vida rable aly   \n407bf6c8c143                 imperial           6099 global drive   \nc78df44fa4ed                 renasant                 5575 poplar   \n2c157c47bb22        ebrofrost riviana               2360 prospect   \nf1f6ae50704c       the pallet factory            3740 arnold road   \n\n               pilot_parcel_no  \\\nowner_id                         \n1381477d4a08  [IDB07380000000]   \na865c500e56c  [IDB07590000000]   \n1381477d4a08  [IDB0760A000000]   \nd6645cf714fb  [IDB0794A000000]   \n1381477d4a08  [IDB0804A000000]   \n...                        ...   \n7e23b7e9fdf7  [IDB18510000000]   \n407bf6c8c143  [IDB18520000000]   \nc78df44fa4ed  [IDB18530000000]   \n2c157c47bb22  [IDB18540000000]   \nf1f6ae50704c  [IDB18550000000]   \n\n                                       underlying_parcel_number begin_date  \\\nowner_id                                                                     \n1381477d4a08                                    [9410000003040] 2007-07-27   \na865c500e56c  [0490650000001C,  04906700000010,  04900400000... 2007-12-28   \n1381477d4a08                                   [0007600000000D] 2007-12-31   \nd6645cf714fb                                   [0007940000000D] 2008-12-31   \n1381477d4a08                                   [0008040000000D] 2008-12-31   \n...                                                         ...        ...   \n7e23b7e9fdf7                                    [7410100000290] 2022-01-01   \n407bf6c8c143                                    [9420000005030] 2021-07-01   \nc78df44fa4ed                                   [0560600000001C] 2021-07-01   \n2c157c47bb22                                   [0490680000004C] 2017-01-01   \nf1f6ae50704c                                   [0730920000066C] 2020-12-31   \n\n               end_date assmt_taxes pilot_contract_amt pilot_debt_service_amt  \\\nowner_id                                                                        \n1381477d4a08 2022-12-31      189356               8783                  47339   \na865c500e56c 2019-12-31      247301             215270                   5811   \n1381477d4a08 2021-12-31        6214                100                   1553   \nd6645cf714fb 2023-12-31      712998                100                 178250   \n1381477d4a08 2023-12-31       26295                100                   6574   \n...                 ...         ...                ...                    ...   \n7e23b7e9fdf7 2032-12-31       37356               2617                   5448   \n407bf6c8c143 2031-07-01      194240               5547                  23526   \nc78df44fa4ed 2031-07-01      169927              66241                  23602   \n2c157c47bb22 2024-01-01      165717              92343                  18643   \nf1f6ae50704c 2027-12-31       19419              12475                   1736   \n\n             difference  \nowner_id                 \n1381477d4a08    -133234  \na865c500e56c     -26219  \n1381477d4a08      -4560  \nd6645cf714fb    -534649  \n1381477d4a08     -19621  \n...                 ...  \n7e23b7e9fdf7     -29292  \n407bf6c8c143    -165167  \nc78df44fa4ed     -80084  \n2c157c47bb22     -54730  \nf1f6ae50704c      -5208  \n\n[241 rows x 10 columns]",
      "text/html": "<div>\n<style scoped>\n    .dataframe tbody tr th:only-of-type {\n        vertical-align: middle;\n    }\n\n    .dataframe tbody tr th {\n        vertical-align: top;\n    }\n\n    .dataframe thead th {\n        text-align: right;\n    }\n</style>\n<table border=\"1\" class=\"dataframe\">\n  <thead>\n    <tr style=\"text-align: right;\">\n      <th></th>\n      <th>owner</th>\n      <th>location</th>\n      <th>pilot_parcel_no</th>\n      <th>underlying_parcel_number</th>\n      <th>begin_date</th>\n      <th>end_date</th>\n      <th>assmt_taxes</th>\n      <th>pilot_contract_amt</th>\n      <th>pilot_debt_service_amt</th>\n      <th>difference</th>\n    </tr>\n    <tr>\n      <th>owner_id</th>\n      <th></th>\n      <th></th>\n      <th></th>\n      <th></th>\n      <th></th>\n      <th></th>\n      <th></th>\n      <th></th>\n      <th></th>\n      <th></th>\n    </tr>\n  </thead>\n  <tbody>\n    <tr>\n      <th>1381477d4a08</th>\n      <td>smith nephew inc</td>\n      <td>3303 holmes</td>\n      <td>[IDB07380000000]</td>\n      <td>[9410000003040]</td>\n      <td>2007-07-27</td>\n      <td>2022-12-31</td>\n      <td>189356</td>\n      <td>8783</td>\n      <td>47339</td>\n      <td>-133234</td>\n    </tr>\n    <tr>\n      <th>a865c500e56c</th>\n      <td>riviana foods inc</td>\n      <td>0 lauderdale st</td>\n      <td>[IDB07590000000]</td>\n      <td>[0490650000001C,  04906700000010,  04900400000...</td>\n      <td>2007-12-28</td>\n      <td>2019-12-31</td>\n      <td>247301</td>\n      <td>215270</td>\n      <td>5811</td>\n      <td>-26219</td>\n    </tr>\n    <tr>\n      <th>1381477d4a08</th>\n      <td>smith nephew inc</td>\n      <td>1450 brooks</td>\n      <td>[IDB0760A000000]</td>\n      <td>[0007600000000D]</td>\n      <td>2007-12-31</td>\n      <td>2021-12-31</td>\n      <td>6214</td>\n      <td>100</td>\n      <td>1553</td>\n      <td>-4560</td>\n    </tr>\n    <tr>\n      <th>d6645cf714fb</th>\n      <td>nucor steel memphis inc</td>\n      <td>3601 paul r lowry</td>\n      <td>[IDB0794A000000]</td>\n      <td>[0007940000000D]</td>\n      <td>2008-12-31</td>\n      <td>2023-12-31</td>\n      <td>712998</td>\n      <td>100</td>\n      <td>178250</td>\n      <td>-534649</td>\n    </tr>\n    <tr>\n      <th>1381477d4a08</th>\n      <td>smith nephew inc</td>\n      <td>1450 brooks</td>\n      <td>[IDB0804A000000]</td>\n      <td>[0008040000000D]</td>\n      <td>2008-12-31</td>\n      <td>2023-12-31</td>\n      <td>26295</td>\n      <td>100</td>\n      <td>6574</td>\n      <td>-19621</td>\n    </tr>\n    <tr>\n      <th>...</th>\n      <td>...</td>\n      <td>...</td>\n      <td>...</td>\n      <td>...</td>\n      <td>...</td>\n      <td>...</td>\n      <td>...</td>\n      <td>...</td>\n      <td>...</td>\n      <td>...</td>\n    </tr>\n    <tr>\n      <th>7e23b7e9fdf7</th>\n      <td>alphatec spine</td>\n      <td>1950 camino vida rable aly</td>\n      <td>[IDB18510000000]</td>\n      <td>[7410100000290]</td>\n      <td>2022-01-01</td>\n      <td>2032-12-31</td>\n      <td>37356</td>\n      <td>2617</td>\n      <td>5448</td>\n      <td>-29292</td>\n    </tr>\n    <tr>\n      <th>407bf6c8c143</th>\n      <td>imperial</td>\n      <td>6099 global drive</td>\n      <td>[IDB18520000000]</td>\n      <td>[9420000005030]</td>\n      <td>2021-07-01</td>\n      <td>2031-07-01</td>\n      <td>194240</td>\n      <td>5547</td>\n      <td>23526</td>\n      <td>-165167</td>\n    </tr>\n    <tr>\n      <th>c78df44fa4ed</th>\n      <td>renasant</td>\n      <td>5575 poplar</td>\n      <td>[IDB18530000000]</td>\n      <td>[0560600000001C]</td>\n      <td>2021-07-01</td>\n      <td>2031-07-01</td>\n      <td>169927</td>\n      <td>66241</td>\n      <td>23602</td>\n      <td>-80084</td>\n    </tr>\n    <tr>\n      <th>2c157c47bb22</th>\n      <td>ebrofrost riviana</td>\n      <td>2360 prospect</td>\n      <td>[IDB18540000000]</td>\n      <td>[0490680000004C]</td>\n      <td>2017-01-01</td>\n      <td>2024-01-01</td>\n      <td>165717</td>\n      <td>92343</td>\n      <td>18643</td>\n      <td>-54730</td>\n    </tr>\n    <tr>\n      <th>f1f6ae50704c</th>\n      <td>the pallet factory</td>\n      <td>3740 arnold road</td>\n      <td>[IDB18550000000]</td>\n      <td>[0730920000066C]</td>\n      <td>2020-12-31</td>\n      <td>2027-12-31</td>\n      <td>19419</td>\n      <td>12475</td>\n      <td>1736</td>\n      <td>-5208</td>\n    </tr>\n  </tbody>\n</table>\n<p>241 rows × 10 columns</p>\n</div>"
     },
     "execution_count": 30,
     "metadata": {},
     "output_type": "execute_result"
    }
   ],
   "source": [
    "# Create a unique index column based on the values in the identifying column\n",
    "# Note: Ids are based on a deterministic hash, which means they are \n",
    "# reproducible even if the function is run by a different user at a different time,\n",
    "# as long as the string in the identifying column is the same. \n",
    "\n",
    "identifying_columns = [\"owner\"]\n",
    "index_name = \"owner_id\"\n",
    "df = set_unique_index(df=df, columns_to_hash = identifying_columns, index_length_limit=12, index_name=index_name)\n",
    "df"
   ],
   "metadata": {
    "collapsed": false,
    "ExecuteTime": {
     "end_time": "2024-04-01T00:59:25.261395Z",
     "start_time": "2024-04-01T00:59:25.202237Z"
    }
   },
   "id": "fa13dd82fd715b68"
  },
  {
   "cell_type": "code",
   "execution_count": 31,
   "outputs": [
    {
     "data": {
      "text/plain": "owner                               object\nlocation                            object\npilot_parcel_no                     object\nunderlying_parcel_number            object\nbegin_date                  datetime64[ns]\nend_date                    datetime64[ns]\nassmt_taxes                         object\npilot_contract_amt                  object\npilot_debt_service_amt              object\ndifference                          object\ndtype: object"
     },
     "execution_count": 31,
     "metadata": {},
     "output_type": "execute_result"
    }
   ],
   "source": [
    "# Check the data types of each variable\n",
    "df.dtypes"
   ],
   "metadata": {
    "collapsed": false,
    "ExecuteTime": {
     "end_time": "2024-04-01T00:59:25.261525Z",
     "start_time": "2024-04-01T00:59:25.206793Z"
    }
   },
   "id": "fb1c412d6c764d7b"
  },
  {
   "cell_type": "code",
   "execution_count": 32,
   "outputs": [
    {
     "data": {
      "text/plain": "owner                       string[python]\nlocation                    string[python]\npilot_parcel_no             string[python]\nunderlying_parcel_number    string[python]\nbegin_date                  datetime64[ns]\nend_date                            object\nassmt_taxes                        float64\npilot_contract_amt                 float64\npilot_debt_service_amt             float64\ndifference                         float64\ndtype: object"
     },
     "execution_count": 32,
     "metadata": {},
     "output_type": "execute_result"
    }
   ],
   "source": [
    "# Fix the data type of each variable\n",
    "\n",
    "names_to_types = {'owner': 'string',\n",
    "                  'location': 'string',\n",
    "                  'pilot_parcel_no': 'string', \n",
    "                  'underlying_parcel_number': 'string',\n",
    "                  'begin_date': 'datetime64[ns]', \n",
    "                  'end_date': 'object',\n",
    "                  'assmt_taxes': 'float64',\n",
    "                  'pilot_contract_amt': 'float64',\n",
    "       'pilot_debt_service_amt': 'float64', \n",
    "                  'difference': 'float64'}\n",
    "df = cast_data_types(df, names_to_types)\n",
    "df.dtypes"
   ],
   "metadata": {
    "collapsed": false,
    "ExecuteTime": {
     "end_time": "2024-04-01T00:59:25.261619Z",
     "start_time": "2024-04-01T00:59:25.213423Z"
    }
   },
   "id": "fa0f0232d27d41fe"
  },
  {
   "cell_type": "code",
   "execution_count": 33,
   "outputs": [],
   "source": [
    "# Save the now-clean csv and convert it to utf-8 format\n",
    "outfile_path = \"../data/processed/s4_2022_idb_contracts.csv\"\n",
    "df.to_csv(outfile_path)\n",
    "convert_utf8(original_file_path=outfile_path, new_file_path=outfile_path)"
   ],
   "metadata": {
    "collapsed": false,
    "ExecuteTime": {
     "end_time": "2024-04-01T00:59:25.266653Z",
     "start_time": "2024-04-01T00:59:25.216707Z"
    }
   },
   "id": "209e2ad7bce3421"
  },
  {
   "cell_type": "code",
   "execution_count": 33,
   "outputs": [],
   "source": [],
   "metadata": {
    "collapsed": false,
    "ExecuteTime": {
     "end_time": "2024-04-01T00:59:25.266783Z",
     "start_time": "2024-04-01T00:59:25.227364Z"
    }
   },
   "id": "932f14634f70a566"
  }
 ],
 "metadata": {
  "kernelspec": {
   "display_name": "Python 3",
   "language": "python",
   "name": "python3"
  },
  "language_info": {
   "codemirror_mode": {
    "name": "ipython",
    "version": 2
   },
   "file_extension": ".py",
   "mimetype": "text/x-python",
   "name": "python",
   "nbconvert_exporter": "python",
   "pygments_lexer": "ipython2",
   "version": "2.7.6"
  }
 },
 "nbformat": 4,
 "nbformat_minor": 5
}
