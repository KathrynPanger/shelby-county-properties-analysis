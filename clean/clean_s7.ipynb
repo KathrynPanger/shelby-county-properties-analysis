{
 "cells": [
  {
   "cell_type": "code",
   "execution_count": 14,
   "outputs": [],
   "source": [
    "import pandas as pd\n",
    "from utils import *\n",
    "from typing import Any"
   ],
   "metadata": {
    "collapsed": false,
    "ExecuteTime": {
     "end_time": "2024-04-01T01:00:29.519077Z",
     "start_time": "2024-04-01T01:00:29.485589Z"
    }
   },
   "id": "f890863474a831e4"
  },
  {
   "cell_type": "markdown",
   "source": [
    "<h1>Cleaning a CSV</h1>"
   ],
   "metadata": {
    "collapsed": false
   },
   "id": "37c2459a70173916"
  },
  {
   "cell_type": "markdown",
   "source": [
    "Read in a CSV"
   ],
   "metadata": {
    "collapsed": false
   },
   "id": "70312fa54485148"
  },
  {
   "cell_type": "code",
   "execution_count": 15,
   "outputs": [
    {
     "data": {
      "text/plain": "                                  Owner      Location PILOT Parcel No  \\\n0    MEMPHIS JEWISH HOUSING DEVELOPMENT      0 POPLAR  IPH0000C000000   \n1  COLEMAN ROAD SUPPORTIVE HOUSING, INC  2900 COLEMAN  IPH0000L000000   \n2        MEMPHIS SUPPORTIVE HOUSING INC  1456 GILLHAM  IPH0000M000000   \n3         MEMPHIS COMMUNITY HOUSING INC    1443 COURT  IPH01150000000   \n4              WESLEY AT MILLINGTON INC     7917 COLE  IPH01160000000   \n\n        Underlying Parcel Number  Begin Date     End Date Assmt Taxes  \\\n0                  8000800002380  01/01/1989  End of Loan      $9,549   \n1                  8800800002310  10/05/2000  End of Loan     $27,231   \n2                  8900800000480  10/05/2000  End of Loan     $26,332   \n3  01702200000060, 7207200000280  11/30/1993  End of Loan      $7,623   \n4                 M0115000008180  08/01/1994  End of Loan     $43,555   \n\n  PILOT Contract Amt PILOT Debt Service Amt Difference  \n0             $3,600                     $0    -$5,949  \n1               $768                     $0   -$26,463  \n2               $835                     $0   -$25,497  \n3               $504                     $0    -$7,119  \n4               $162                     $0   -$43,393  ",
      "text/html": "<div>\n<style scoped>\n    .dataframe tbody tr th:only-of-type {\n        vertical-align: middle;\n    }\n\n    .dataframe tbody tr th {\n        vertical-align: top;\n    }\n\n    .dataframe thead th {\n        text-align: right;\n    }\n</style>\n<table border=\"1\" class=\"dataframe\">\n  <thead>\n    <tr style=\"text-align: right;\">\n      <th></th>\n      <th>Owner</th>\n      <th>Location</th>\n      <th>PILOT Parcel No</th>\n      <th>Underlying Parcel Number</th>\n      <th>Begin Date</th>\n      <th>End Date</th>\n      <th>Assmt Taxes</th>\n      <th>PILOT Contract Amt</th>\n      <th>PILOT Debt Service Amt</th>\n      <th>Difference</th>\n    </tr>\n  </thead>\n  <tbody>\n    <tr>\n      <th>0</th>\n      <td>MEMPHIS JEWISH HOUSING DEVELOPMENT</td>\n      <td>0 POPLAR</td>\n      <td>IPH0000C000000</td>\n      <td>8000800002380</td>\n      <td>01/01/1989</td>\n      <td>End of Loan</td>\n      <td>$9,549</td>\n      <td>$3,600</td>\n      <td>$0</td>\n      <td>-$5,949</td>\n    </tr>\n    <tr>\n      <th>1</th>\n      <td>COLEMAN ROAD SUPPORTIVE HOUSING, INC</td>\n      <td>2900 COLEMAN</td>\n      <td>IPH0000L000000</td>\n      <td>8800800002310</td>\n      <td>10/05/2000</td>\n      <td>End of Loan</td>\n      <td>$27,231</td>\n      <td>$768</td>\n      <td>$0</td>\n      <td>-$26,463</td>\n    </tr>\n    <tr>\n      <th>2</th>\n      <td>MEMPHIS SUPPORTIVE HOUSING INC</td>\n      <td>1456 GILLHAM</td>\n      <td>IPH0000M000000</td>\n      <td>8900800000480</td>\n      <td>10/05/2000</td>\n      <td>End of Loan</td>\n      <td>$26,332</td>\n      <td>$835</td>\n      <td>$0</td>\n      <td>-$25,497</td>\n    </tr>\n    <tr>\n      <th>3</th>\n      <td>MEMPHIS COMMUNITY HOUSING INC</td>\n      <td>1443 COURT</td>\n      <td>IPH01150000000</td>\n      <td>01702200000060, 7207200000280</td>\n      <td>11/30/1993</td>\n      <td>End of Loan</td>\n      <td>$7,623</td>\n      <td>$504</td>\n      <td>$0</td>\n      <td>-$7,119</td>\n    </tr>\n    <tr>\n      <th>4</th>\n      <td>WESLEY AT MILLINGTON INC</td>\n      <td>7917 COLE</td>\n      <td>IPH01160000000</td>\n      <td>M0115000008180</td>\n      <td>08/01/1994</td>\n      <td>End of Loan</td>\n      <td>$43,555</td>\n      <td>$162</td>\n      <td>$0</td>\n      <td>-$43,393</td>\n    </tr>\n  </tbody>\n</table>\n</div>"
     },
     "execution_count": 15,
     "metadata": {},
     "output_type": "execute_result"
    }
   ],
   "source": [
    "# load a dataframe\n",
    "infile_path = \"../data/raw/silver_shelby_county_properties_municipality_breakdown - s7_2022_city_county_contracts.csv\"\n",
    "df = pd.read_csv(infile_path)\n",
    "df"
   ],
   "metadata": {
    "collapsed": false,
    "ExecuteTime": {
     "end_time": "2024-04-01T01:00:29.569825Z",
     "start_time": "2024-04-01T01:00:29.500533Z"
    }
   },
   "id": "50cef4de40a6855d"
  },
  {
   "cell_type": "code",
   "execution_count": 16,
   "outputs": [
    {
     "data": {
      "text/plain": "Index(['owner', 'location', 'pilot_parcel_no', 'underlying_parcel_number',\n       'begin_date', 'end_date', 'assmt_taxes', 'pilot_contract_amt',\n       'pilot_debt_service_amt', 'difference'],\n      dtype='object')"
     },
     "execution_count": 16,
     "metadata": {},
     "output_type": "execute_result"
    }
   ],
   "source": [
    "# Clean the column headers\n",
    "df = clean_headers(df, [remove_special_for_words, truncate, snake_case, lower_case])\n",
    "df.columns"
   ],
   "metadata": {
    "collapsed": false,
    "ExecuteTime": {
     "end_time": "2024-04-01T01:00:29.570245Z",
     "start_time": "2024-04-01T01:00:29.510594Z"
    }
   },
   "id": "f8e6a7fb4013b6e6"
  },
  {
   "cell_type": "code",
   "execution_count": 17,
   "outputs": [
    {
     "data": {
      "text/plain": "                                 owner      location pilot_parcel_no  \\\n0   memphis jewish housing development      0 poplar  IPH0000C000000   \n1  coleman road supportive housing inc  2900 coleman  IPH0000L000000   \n2       memphis supportive housing inc  1456 gillham  IPH0000M000000   \n3        memphis community housing inc    1443 court  IPH01150000000   \n4             wesley at millington inc     7917 cole  IPH01160000000   \n\n        underlying_parcel_number  begin_date     end_date assmt_taxes  \\\n0                  8000800002380  01/01/1989  End of Loan      $9,549   \n1                  8800800002310  10/05/2000  End of Loan     $27,231   \n2                  8900800000480  10/05/2000  End of Loan     $26,332   \n3  01702200000060, 7207200000280  11/30/1993  End of Loan      $7,623   \n4                 M0115000008180  08/01/1994  End of Loan     $43,555   \n\n  pilot_contract_amt pilot_debt_service_amt difference  \n0             $3,600                     $0    -$5,949  \n1               $768                     $0   -$26,463  \n2               $835                     $0   -$25,497  \n3               $504                     $0    -$7,119  \n4               $162                     $0   -$43,393  ",
      "text/html": "<div>\n<style scoped>\n    .dataframe tbody tr th:only-of-type {\n        vertical-align: middle;\n    }\n\n    .dataframe tbody tr th {\n        vertical-align: top;\n    }\n\n    .dataframe thead th {\n        text-align: right;\n    }\n</style>\n<table border=\"1\" class=\"dataframe\">\n  <thead>\n    <tr style=\"text-align: right;\">\n      <th></th>\n      <th>owner</th>\n      <th>location</th>\n      <th>pilot_parcel_no</th>\n      <th>underlying_parcel_number</th>\n      <th>begin_date</th>\n      <th>end_date</th>\n      <th>assmt_taxes</th>\n      <th>pilot_contract_amt</th>\n      <th>pilot_debt_service_amt</th>\n      <th>difference</th>\n    </tr>\n  </thead>\n  <tbody>\n    <tr>\n      <th>0</th>\n      <td>memphis jewish housing development</td>\n      <td>0 poplar</td>\n      <td>IPH0000C000000</td>\n      <td>8000800002380</td>\n      <td>01/01/1989</td>\n      <td>End of Loan</td>\n      <td>$9,549</td>\n      <td>$3,600</td>\n      <td>$0</td>\n      <td>-$5,949</td>\n    </tr>\n    <tr>\n      <th>1</th>\n      <td>coleman road supportive housing inc</td>\n      <td>2900 coleman</td>\n      <td>IPH0000L000000</td>\n      <td>8800800002310</td>\n      <td>10/05/2000</td>\n      <td>End of Loan</td>\n      <td>$27,231</td>\n      <td>$768</td>\n      <td>$0</td>\n      <td>-$26,463</td>\n    </tr>\n    <tr>\n      <th>2</th>\n      <td>memphis supportive housing inc</td>\n      <td>1456 gillham</td>\n      <td>IPH0000M000000</td>\n      <td>8900800000480</td>\n      <td>10/05/2000</td>\n      <td>End of Loan</td>\n      <td>$26,332</td>\n      <td>$835</td>\n      <td>$0</td>\n      <td>-$25,497</td>\n    </tr>\n    <tr>\n      <th>3</th>\n      <td>memphis community housing inc</td>\n      <td>1443 court</td>\n      <td>IPH01150000000</td>\n      <td>01702200000060, 7207200000280</td>\n      <td>11/30/1993</td>\n      <td>End of Loan</td>\n      <td>$7,623</td>\n      <td>$504</td>\n      <td>$0</td>\n      <td>-$7,119</td>\n    </tr>\n    <tr>\n      <th>4</th>\n      <td>wesley at millington inc</td>\n      <td>7917 cole</td>\n      <td>IPH01160000000</td>\n      <td>M0115000008180</td>\n      <td>08/01/1994</td>\n      <td>End of Loan</td>\n      <td>$43,555</td>\n      <td>$162</td>\n      <td>$0</td>\n      <td>-$43,393</td>\n    </tr>\n  </tbody>\n</table>\n</div>"
     },
     "execution_count": 17,
     "metadata": {},
     "output_type": "execute_result"
    }
   ],
   "source": [
    "# Clean the string columns\n",
    "string_columns = [\"owner\", \n",
    "                  \"location\"]\n",
    "df = clean_columns(df, string_columns, [remove_special_for_words, truncate, lower_case])\n",
    "df"
   ],
   "metadata": {
    "collapsed": false,
    "ExecuteTime": {
     "end_time": "2024-04-01T01:00:29.571438Z",
     "start_time": "2024-04-01T01:00:29.522793Z"
    }
   },
   "id": "67171db99d8fff6d"
  },
  {
   "cell_type": "code",
   "execution_count": 18,
   "outputs": [
    {
     "data": {
      "text/plain": "Index(['owner', 'location', 'pilot_parcel_no', 'underlying_parcel_number',\n       'begin_date', 'end_date', 'assmt_taxes', 'pilot_contract_amt',\n       'pilot_debt_service_amt', 'difference'],\n      dtype='object')"
     },
     "execution_count": 18,
     "metadata": {},
     "output_type": "execute_result"
    }
   ],
   "source": [
    "df.columns"
   ],
   "metadata": {
    "collapsed": false,
    "ExecuteTime": {
     "end_time": "2024-04-01T01:00:29.571504Z",
     "start_time": "2024-04-01T01:00:29.526844Z"
    }
   },
   "id": "4484a9731b2bde17"
  },
  {
   "cell_type": "code",
   "execution_count": 19,
   "outputs": [
    {
     "data": {
      "text/plain": "                                 owner      location pilot_parcel_no  \\\n0   memphis jewish housing development      0 poplar  IPH0000C000000   \n1  coleman road supportive housing inc  2900 coleman  IPH0000L000000   \n2       memphis supportive housing inc  1456 gillham  IPH0000M000000   \n3        memphis community housing inc    1443 court  IPH01150000000   \n4             wesley at millington inc     7917 cole  IPH01160000000   \n\n        underlying_parcel_number  begin_date     end_date assmt_taxes  \\\n0                  8000800002380  01/01/1989  End of Loan        9549   \n1                  8800800002310  10/05/2000  End of Loan       27231   \n2                  8900800000480  10/05/2000  End of Loan       26332   \n3  01702200000060, 7207200000280  11/30/1993  End of Loan        7623   \n4                 M0115000008180  08/01/1994  End of Loan       43555   \n\n  pilot_contract_amt pilot_debt_service_amt difference  \n0               3600                      0      -5949  \n1                768                      0     -26463  \n2                835                      0     -25497  \n3                504                      0      -7119  \n4                162                      0     -43393  ",
      "text/html": "<div>\n<style scoped>\n    .dataframe tbody tr th:only-of-type {\n        vertical-align: middle;\n    }\n\n    .dataframe tbody tr th {\n        vertical-align: top;\n    }\n\n    .dataframe thead th {\n        text-align: right;\n    }\n</style>\n<table border=\"1\" class=\"dataframe\">\n  <thead>\n    <tr style=\"text-align: right;\">\n      <th></th>\n      <th>owner</th>\n      <th>location</th>\n      <th>pilot_parcel_no</th>\n      <th>underlying_parcel_number</th>\n      <th>begin_date</th>\n      <th>end_date</th>\n      <th>assmt_taxes</th>\n      <th>pilot_contract_amt</th>\n      <th>pilot_debt_service_amt</th>\n      <th>difference</th>\n    </tr>\n  </thead>\n  <tbody>\n    <tr>\n      <th>0</th>\n      <td>memphis jewish housing development</td>\n      <td>0 poplar</td>\n      <td>IPH0000C000000</td>\n      <td>8000800002380</td>\n      <td>01/01/1989</td>\n      <td>End of Loan</td>\n      <td>9549</td>\n      <td>3600</td>\n      <td>0</td>\n      <td>-5949</td>\n    </tr>\n    <tr>\n      <th>1</th>\n      <td>coleman road supportive housing inc</td>\n      <td>2900 coleman</td>\n      <td>IPH0000L000000</td>\n      <td>8800800002310</td>\n      <td>10/05/2000</td>\n      <td>End of Loan</td>\n      <td>27231</td>\n      <td>768</td>\n      <td>0</td>\n      <td>-26463</td>\n    </tr>\n    <tr>\n      <th>2</th>\n      <td>memphis supportive housing inc</td>\n      <td>1456 gillham</td>\n      <td>IPH0000M000000</td>\n      <td>8900800000480</td>\n      <td>10/05/2000</td>\n      <td>End of Loan</td>\n      <td>26332</td>\n      <td>835</td>\n      <td>0</td>\n      <td>-25497</td>\n    </tr>\n    <tr>\n      <th>3</th>\n      <td>memphis community housing inc</td>\n      <td>1443 court</td>\n      <td>IPH01150000000</td>\n      <td>01702200000060, 7207200000280</td>\n      <td>11/30/1993</td>\n      <td>End of Loan</td>\n      <td>7623</td>\n      <td>504</td>\n      <td>0</td>\n      <td>-7119</td>\n    </tr>\n    <tr>\n      <th>4</th>\n      <td>wesley at millington inc</td>\n      <td>7917 cole</td>\n      <td>IPH01160000000</td>\n      <td>M0115000008180</td>\n      <td>08/01/1994</td>\n      <td>End of Loan</td>\n      <td>43555</td>\n      <td>162</td>\n      <td>0</td>\n      <td>-43393</td>\n    </tr>\n  </tbody>\n</table>\n</div>"
     },
     "execution_count": 19,
     "metadata": {},
     "output_type": "execute_result"
    }
   ],
   "source": [
    "# Clean the numeric columns\n",
    "numeric_columns = ['assmt_taxes', 'pilot_contract_amt',\n",
    "       'pilot_debt_service_amt', 'difference']\n",
    "df = clean_columns(df, numeric_columns, [remove_special_for_numbers, convert_only_dash_to_missing])\n",
    "\n",
    "df"
   ],
   "metadata": {
    "collapsed": false,
    "ExecuteTime": {
     "end_time": "2024-04-01T01:00:29.571649Z",
     "start_time": "2024-04-01T01:00:29.536773Z"
    }
   },
   "id": "fd553dbc31168c70"
  },
  {
   "cell_type": "code",
   "execution_count": 20,
   "outputs": [
    {
     "data": {
      "text/plain": "                                 owner      location pilot_parcel_no  \\\n0   memphis jewish housing development      0 poplar  IPH0000C000000   \n1  coleman road supportive housing inc  2900 coleman  IPH0000L000000   \n2       memphis supportive housing inc  1456 gillham  IPH0000M000000   \n3        memphis community housing inc    1443 court  IPH01150000000   \n4             wesley at millington inc     7917 cole  IPH01160000000   \n\n        underlying_parcel_number begin_date     end_date assmt_taxes  \\\n0                  8000800002380 1989-01-01  End of Loan        9549   \n1                  8800800002310 2000-10-05  End of Loan       27231   \n2                  8900800000480 2000-10-05  End of Loan       26332   \n3  01702200000060, 7207200000280 1993-11-30  End of Loan        7623   \n4                 M0115000008180 1994-08-01  End of Loan       43555   \n\n  pilot_contract_amt pilot_debt_service_amt difference  \n0               3600                      0      -5949  \n1                768                      0     -26463  \n2                835                      0     -25497  \n3                504                      0      -7119  \n4                162                      0     -43393  ",
      "text/html": "<div>\n<style scoped>\n    .dataframe tbody tr th:only-of-type {\n        vertical-align: middle;\n    }\n\n    .dataframe tbody tr th {\n        vertical-align: top;\n    }\n\n    .dataframe thead th {\n        text-align: right;\n    }\n</style>\n<table border=\"1\" class=\"dataframe\">\n  <thead>\n    <tr style=\"text-align: right;\">\n      <th></th>\n      <th>owner</th>\n      <th>location</th>\n      <th>pilot_parcel_no</th>\n      <th>underlying_parcel_number</th>\n      <th>begin_date</th>\n      <th>end_date</th>\n      <th>assmt_taxes</th>\n      <th>pilot_contract_amt</th>\n      <th>pilot_debt_service_amt</th>\n      <th>difference</th>\n    </tr>\n  </thead>\n  <tbody>\n    <tr>\n      <th>0</th>\n      <td>memphis jewish housing development</td>\n      <td>0 poplar</td>\n      <td>IPH0000C000000</td>\n      <td>8000800002380</td>\n      <td>1989-01-01</td>\n      <td>End of Loan</td>\n      <td>9549</td>\n      <td>3600</td>\n      <td>0</td>\n      <td>-5949</td>\n    </tr>\n    <tr>\n      <th>1</th>\n      <td>coleman road supportive housing inc</td>\n      <td>2900 coleman</td>\n      <td>IPH0000L000000</td>\n      <td>8800800002310</td>\n      <td>2000-10-05</td>\n      <td>End of Loan</td>\n      <td>27231</td>\n      <td>768</td>\n      <td>0</td>\n      <td>-26463</td>\n    </tr>\n    <tr>\n      <th>2</th>\n      <td>memphis supportive housing inc</td>\n      <td>1456 gillham</td>\n      <td>IPH0000M000000</td>\n      <td>8900800000480</td>\n      <td>2000-10-05</td>\n      <td>End of Loan</td>\n      <td>26332</td>\n      <td>835</td>\n      <td>0</td>\n      <td>-25497</td>\n    </tr>\n    <tr>\n      <th>3</th>\n      <td>memphis community housing inc</td>\n      <td>1443 court</td>\n      <td>IPH01150000000</td>\n      <td>01702200000060, 7207200000280</td>\n      <td>1993-11-30</td>\n      <td>End of Loan</td>\n      <td>7623</td>\n      <td>504</td>\n      <td>0</td>\n      <td>-7119</td>\n    </tr>\n    <tr>\n      <th>4</th>\n      <td>wesley at millington inc</td>\n      <td>7917 cole</td>\n      <td>IPH01160000000</td>\n      <td>M0115000008180</td>\n      <td>1994-08-01</td>\n      <td>End of Loan</td>\n      <td>43555</td>\n      <td>162</td>\n      <td>0</td>\n      <td>-43393</td>\n    </tr>\n  </tbody>\n</table>\n</div>"
     },
     "execution_count": 20,
     "metadata": {},
     "output_type": "execute_result"
    }
   ],
   "source": [
    "# Clean the date columns\n",
    "\n",
    "# Because this data has an idiosyncratic \"end date\" value of \"End of Loan\", \n",
    "# we must define a dataset-specific function\n",
    "def cast_end_date_to_datetime(entry: str | Number):\n",
    "    try:\n",
    "        return pd.to_datetime(str(entry))\n",
    "    except ValueError:\n",
    "        return entry\n",
    "df[\"begin_date\"] = pd.to_datetime(df[\"begin_date\"])\n",
    "df[\"end_date\"] = df[\"end_date\"].apply(lambda x: cast_end_date_to_datetime(x))\n",
    "df"
   ],
   "metadata": {
    "collapsed": false,
    "ExecuteTime": {
     "end_time": "2024-04-01T01:00:29.571775Z",
     "start_time": "2024-04-01T01:00:29.546335Z"
    }
   },
   "id": "1efa55d32b4be610"
  },
  {
   "cell_type": "code",
   "execution_count": 21,
   "outputs": [
    {
     "data": {
      "text/plain": "                                 owner      location   pilot_parcel_no  \\\n0   memphis jewish housing development      0 poplar  [IPH0000C000000]   \n1  coleman road supportive housing inc  2900 coleman  [IPH0000L000000]   \n2       memphis supportive housing inc  1456 gillham  [IPH0000M000000]   \n3        memphis community housing inc    1443 court  [IPH01150000000]   \n4             wesley at millington inc     7917 cole  [IPH01160000000]   \n\n           underlying_parcel_number begin_date     end_date assmt_taxes  \\\n0                   [8000800002380] 1989-01-01  End of Loan        9549   \n1                   [8800800002310] 2000-10-05  End of Loan       27231   \n2                   [8900800000480] 2000-10-05  End of Loan       26332   \n3  [01702200000060,  7207200000280] 1993-11-30  End of Loan        7623   \n4                  [M0115000008180] 1994-08-01  End of Loan       43555   \n\n  pilot_contract_amt pilot_debt_service_amt difference  \n0               3600                      0      -5949  \n1                768                      0     -26463  \n2                835                      0     -25497  \n3                504                      0      -7119  \n4                162                      0     -43393  ",
      "text/html": "<div>\n<style scoped>\n    .dataframe tbody tr th:only-of-type {\n        vertical-align: middle;\n    }\n\n    .dataframe tbody tr th {\n        vertical-align: top;\n    }\n\n    .dataframe thead th {\n        text-align: right;\n    }\n</style>\n<table border=\"1\" class=\"dataframe\">\n  <thead>\n    <tr style=\"text-align: right;\">\n      <th></th>\n      <th>owner</th>\n      <th>location</th>\n      <th>pilot_parcel_no</th>\n      <th>underlying_parcel_number</th>\n      <th>begin_date</th>\n      <th>end_date</th>\n      <th>assmt_taxes</th>\n      <th>pilot_contract_amt</th>\n      <th>pilot_debt_service_amt</th>\n      <th>difference</th>\n    </tr>\n  </thead>\n  <tbody>\n    <tr>\n      <th>0</th>\n      <td>memphis jewish housing development</td>\n      <td>0 poplar</td>\n      <td>[IPH0000C000000]</td>\n      <td>[8000800002380]</td>\n      <td>1989-01-01</td>\n      <td>End of Loan</td>\n      <td>9549</td>\n      <td>3600</td>\n      <td>0</td>\n      <td>-5949</td>\n    </tr>\n    <tr>\n      <th>1</th>\n      <td>coleman road supportive housing inc</td>\n      <td>2900 coleman</td>\n      <td>[IPH0000L000000]</td>\n      <td>[8800800002310]</td>\n      <td>2000-10-05</td>\n      <td>End of Loan</td>\n      <td>27231</td>\n      <td>768</td>\n      <td>0</td>\n      <td>-26463</td>\n    </tr>\n    <tr>\n      <th>2</th>\n      <td>memphis supportive housing inc</td>\n      <td>1456 gillham</td>\n      <td>[IPH0000M000000]</td>\n      <td>[8900800000480]</td>\n      <td>2000-10-05</td>\n      <td>End of Loan</td>\n      <td>26332</td>\n      <td>835</td>\n      <td>0</td>\n      <td>-25497</td>\n    </tr>\n    <tr>\n      <th>3</th>\n      <td>memphis community housing inc</td>\n      <td>1443 court</td>\n      <td>[IPH01150000000]</td>\n      <td>[01702200000060,  7207200000280]</td>\n      <td>1993-11-30</td>\n      <td>End of Loan</td>\n      <td>7623</td>\n      <td>504</td>\n      <td>0</td>\n      <td>-7119</td>\n    </tr>\n    <tr>\n      <th>4</th>\n      <td>wesley at millington inc</td>\n      <td>7917 cole</td>\n      <td>[IPH01160000000]</td>\n      <td>[M0115000008180]</td>\n      <td>1994-08-01</td>\n      <td>End of Loan</td>\n      <td>43555</td>\n      <td>162</td>\n      <td>0</td>\n      <td>-43393</td>\n    </tr>\n  </tbody>\n</table>\n</div>"
     },
     "execution_count": 21,
     "metadata": {},
     "output_type": "execute_result"
    }
   ],
   "source": [
    "# Clean the list columns\n",
    "\n",
    "# Pandas always reads in lists as strings, so they will ultimately be converted to a string type, but putting them in lists firsts will allow us to convert them back to lists more quickly the next time we read them in because the list brackets will be included \n",
    "# in the output string\n",
    "\n",
    "list_columns = [\"pilot_parcel_no\", \"underlying_parcel_number\"]\n",
    "for col in list_columns:\n",
    "    df[col] = df[col].apply(lambda x: str(x).split(\",\"))\n",
    "df"
   ],
   "metadata": {
    "collapsed": false,
    "ExecuteTime": {
     "end_time": "2024-04-01T01:00:29.571988Z",
     "start_time": "2024-04-01T01:00:29.555578Z"
    }
   },
   "id": "5a2ebeae72c53116"
  },
  {
   "cell_type": "code",
   "execution_count": 22,
   "outputs": [
    {
     "data": {
      "text/plain": "                                            owner      location  \\\nowner_id                                                          \n492e94835954   memphis jewish housing development      0 poplar   \na9613db1b02e  coleman road supportive housing inc  2900 coleman   \n7454c78fba85       memphis supportive housing inc  1456 gillham   \n2ed2f9eac000        memphis community housing inc    1443 court   \n3b726c280aad             wesley at millington inc     7917 cole   \n\n               pilot_parcel_no          underlying_parcel_number begin_date  \\\nowner_id                                                                      \n492e94835954  [IPH0000C000000]                   [8000800002380] 1989-01-01   \na9613db1b02e  [IPH0000L000000]                   [8800800002310] 2000-10-05   \n7454c78fba85  [IPH0000M000000]                   [8900800000480] 2000-10-05   \n2ed2f9eac000  [IPH01150000000]  [01702200000060,  7207200000280] 1993-11-30   \n3b726c280aad  [IPH01160000000]                  [M0115000008180] 1994-08-01   \n\n                 end_date assmt_taxes pilot_contract_amt  \\\nowner_id                                                   \n492e94835954  End of Loan        9549               3600   \na9613db1b02e  End of Loan       27231                768   \n7454c78fba85  End of Loan       26332                835   \n2ed2f9eac000  End of Loan        7623                504   \n3b726c280aad  End of Loan       43555                162   \n\n             pilot_debt_service_amt difference  \nowner_id                                        \n492e94835954                      0      -5949  \na9613db1b02e                      0     -26463  \n7454c78fba85                      0     -25497  \n2ed2f9eac000                      0      -7119  \n3b726c280aad                      0     -43393  ",
      "text/html": "<div>\n<style scoped>\n    .dataframe tbody tr th:only-of-type {\n        vertical-align: middle;\n    }\n\n    .dataframe tbody tr th {\n        vertical-align: top;\n    }\n\n    .dataframe thead th {\n        text-align: right;\n    }\n</style>\n<table border=\"1\" class=\"dataframe\">\n  <thead>\n    <tr style=\"text-align: right;\">\n      <th></th>\n      <th>owner</th>\n      <th>location</th>\n      <th>pilot_parcel_no</th>\n      <th>underlying_parcel_number</th>\n      <th>begin_date</th>\n      <th>end_date</th>\n      <th>assmt_taxes</th>\n      <th>pilot_contract_amt</th>\n      <th>pilot_debt_service_amt</th>\n      <th>difference</th>\n    </tr>\n    <tr>\n      <th>owner_id</th>\n      <th></th>\n      <th></th>\n      <th></th>\n      <th></th>\n      <th></th>\n      <th></th>\n      <th></th>\n      <th></th>\n      <th></th>\n      <th></th>\n    </tr>\n  </thead>\n  <tbody>\n    <tr>\n      <th>492e94835954</th>\n      <td>memphis jewish housing development</td>\n      <td>0 poplar</td>\n      <td>[IPH0000C000000]</td>\n      <td>[8000800002380]</td>\n      <td>1989-01-01</td>\n      <td>End of Loan</td>\n      <td>9549</td>\n      <td>3600</td>\n      <td>0</td>\n      <td>-5949</td>\n    </tr>\n    <tr>\n      <th>a9613db1b02e</th>\n      <td>coleman road supportive housing inc</td>\n      <td>2900 coleman</td>\n      <td>[IPH0000L000000]</td>\n      <td>[8800800002310]</td>\n      <td>2000-10-05</td>\n      <td>End of Loan</td>\n      <td>27231</td>\n      <td>768</td>\n      <td>0</td>\n      <td>-26463</td>\n    </tr>\n    <tr>\n      <th>7454c78fba85</th>\n      <td>memphis supportive housing inc</td>\n      <td>1456 gillham</td>\n      <td>[IPH0000M000000]</td>\n      <td>[8900800000480]</td>\n      <td>2000-10-05</td>\n      <td>End of Loan</td>\n      <td>26332</td>\n      <td>835</td>\n      <td>0</td>\n      <td>-25497</td>\n    </tr>\n    <tr>\n      <th>2ed2f9eac000</th>\n      <td>memphis community housing inc</td>\n      <td>1443 court</td>\n      <td>[IPH01150000000]</td>\n      <td>[01702200000060,  7207200000280]</td>\n      <td>1993-11-30</td>\n      <td>End of Loan</td>\n      <td>7623</td>\n      <td>504</td>\n      <td>0</td>\n      <td>-7119</td>\n    </tr>\n    <tr>\n      <th>3b726c280aad</th>\n      <td>wesley at millington inc</td>\n      <td>7917 cole</td>\n      <td>[IPH01160000000]</td>\n      <td>[M0115000008180]</td>\n      <td>1994-08-01</td>\n      <td>End of Loan</td>\n      <td>43555</td>\n      <td>162</td>\n      <td>0</td>\n      <td>-43393</td>\n    </tr>\n  </tbody>\n</table>\n</div>"
     },
     "execution_count": 22,
     "metadata": {},
     "output_type": "execute_result"
    }
   ],
   "source": [
    "# Create a unique index column based on the values in the identifying column\n",
    "# Note: Ids are based on a deterministic hash, which means they are \n",
    "# reproducible even if the function is run by a different user at a different time,\n",
    "# as long as the string in the identifying column is the same. \n",
    "\n",
    "identifying_columns = [\"owner\"]\n",
    "index_name = \"owner_id\"\n",
    "df = set_unique_index(df=df, columns_to_hash = identifying_columns, index_length_limit=12, index_name=index_name)\n",
    "df"
   ],
   "metadata": {
    "collapsed": false,
    "ExecuteTime": {
     "end_time": "2024-04-01T01:00:29.572162Z",
     "start_time": "2024-04-01T01:00:29.564301Z"
    }
   },
   "id": "fa13dd82fd715b68"
  },
  {
   "cell_type": "code",
   "execution_count": 23,
   "outputs": [
    {
     "data": {
      "text/plain": "owner                               object\nlocation                            object\npilot_parcel_no                     object\nunderlying_parcel_number            object\nbegin_date                  datetime64[ns]\nend_date                            object\nassmt_taxes                         object\npilot_contract_amt                  object\npilot_debt_service_amt              object\ndifference                          object\ndtype: object"
     },
     "execution_count": 23,
     "metadata": {},
     "output_type": "execute_result"
    }
   ],
   "source": [
    "# Check the data types of each variable\n",
    "df.dtypes"
   ],
   "metadata": {
    "collapsed": false,
    "ExecuteTime": {
     "end_time": "2024-04-01T01:00:29.573675Z",
     "start_time": "2024-04-01T01:00:29.568506Z"
    }
   },
   "id": "fb1c412d6c764d7b"
  },
  {
   "cell_type": "code",
   "execution_count": 24,
   "outputs": [
    {
     "data": {
      "text/plain": "owner                       string[python]\nlocation                    string[python]\npilot_parcel_no             string[python]\nunderlying_parcel_number    string[python]\nbegin_date                  datetime64[ns]\nend_date                            object\nassmt_taxes                        float64\npilot_contract_amt                 float64\npilot_debt_service_amt             float64\ndifference                         float64\ndtype: object"
     },
     "execution_count": 24,
     "metadata": {},
     "output_type": "execute_result"
    }
   ],
   "source": [
    "# Fix the data type of each variable\n",
    "\n",
    "names_to_types = {'owner': 'string',\n",
    "                  'location': 'string',\n",
    "                  'pilot_parcel_no': 'string', \n",
    "                  'underlying_parcel_number': 'string',\n",
    "                  'begin_date': 'datetime64[ns]', \n",
    "                  'end_date': 'object',\n",
    "                  'assmt_taxes': 'float64',\n",
    "                  'pilot_contract_amt': 'float64',\n",
    "       'pilot_debt_service_amt': 'float64', \n",
    "                  'difference': 'float64'}\n",
    "df = cast_data_types(df, names_to_types)\n",
    "df.dtypes"
   ],
   "metadata": {
    "collapsed": false,
    "ExecuteTime": {
     "end_time": "2024-04-01T01:00:29.585548Z",
     "start_time": "2024-04-01T01:00:29.574445Z"
    }
   },
   "id": "fa0f0232d27d41fe"
  },
  {
   "cell_type": "code",
   "execution_count": 25,
   "outputs": [],
   "source": [
    "# Save the now-clean csv and convert it to utf-8 format\n",
    "outfile_path = \"../data/processed/s7_2022_city_county_contracts.csv\"\n",
    "df.to_csv(outfile_path)\n",
    "convert_utf8(original_file_path=outfile_path, new_file_path=outfile_path)"
   ],
   "metadata": {
    "collapsed": false,
    "ExecuteTime": {
     "end_time": "2024-04-01T01:00:29.585724Z",
     "start_time": "2024-04-01T01:00:29.577310Z"
    }
   },
   "id": "209e2ad7bce3421"
  },
  {
   "cell_type": "code",
   "execution_count": 25,
   "outputs": [],
   "source": [],
   "metadata": {
    "collapsed": false,
    "ExecuteTime": {
     "end_time": "2024-04-01T01:00:29.589699Z",
     "start_time": "2024-04-01T01:00:29.583859Z"
    }
   },
   "id": "932f14634f70a566"
  }
 ],
 "metadata": {
  "kernelspec": {
   "display_name": "Python 3",
   "language": "python",
   "name": "python3"
  },
  "language_info": {
   "codemirror_mode": {
    "name": "ipython",
    "version": 2
   },
   "file_extension": ".py",
   "mimetype": "text/x-python",
   "name": "python",
   "nbconvert_exporter": "python",
   "pygments_lexer": "ipython2",
   "version": "2.7.6"
  }
 },
 "nbformat": 4,
 "nbformat_minor": 5
}
