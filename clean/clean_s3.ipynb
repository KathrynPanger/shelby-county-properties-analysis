{
 "cells": [
  {
   "cell_type": "code",
   "execution_count": 38,
   "outputs": [],
   "source": [
    "import pandas as pd\n",
    "from utils import *\n",
    "from typing import Any"
   ],
   "metadata": {
    "collapsed": false,
    "ExecuteTime": {
     "end_time": "2024-04-01T00:58:00.843939Z",
     "start_time": "2024-04-01T00:58:00.800540Z"
    }
   },
   "id": "f890863474a831e4"
  },
  {
   "cell_type": "markdown",
   "source": [
    "<h1>Cleaning a CSV</h1>"
   ],
   "metadata": {
    "collapsed": false
   },
   "id": "37c2459a70173916"
  },
  {
   "cell_type": "markdown",
   "source": [
    "Read in a CSV"
   ],
   "metadata": {
    "collapsed": false
   },
   "id": "70312fa54485148"
  },
  {
   "cell_type": "code",
   "execution_count": 39,
   "outputs": [
    {
     "data": {
      "text/plain": "                                                 Owner            Location  \\\n0                               RIVERBLUFF COOPERATIVE       333 TENNESSEE   \n1          COTTON EXCHANGE BLDG, A LIMITED PARTNERSHIP            65 UNION   \n2                                    THREE SISTERS LTD             61 MAIN   \n3                  RAYMOND JAMES TOWER - MORGAN KEEGAN            50 FRONT   \n4    MAIN MONROE HOSPITALITY 2018 - MEMPHIS HOTEL P...          110 MONROE   \n..                                                 ...                 ...   \n119                                   TCH Memphis, LLC        380 BEALE ST   \n120                                 189 Barksdale, LLC  189 S BARKSDALE ST   \n121                                      7V Devco, LLC         7 VANCE AVE   \n122                                Cabigao Investments          345 S MAIN   \n123                245 FRONT STREET HOTEL COMPANY, LLC      245 S FRONT ST   \n\n    PILOT Parcel No                        Underlying Parcel Number  \\\n0    ICC00110000000                                  0020740000002C   \n1    ICC00270000000                                    204200000290   \n2    ICC00290000000  00203900000140, 00203900000150, 00203900000160   \n3    ICC00410000000                                    200600000240   \n4    ICC00450000000                                    205700000090   \n..              ...                                             ...   \n119  ICC08020000000                                    500600000290   \n120  ICC08030000000                                   1605100000060   \n121  ICC08040000000                                  0020750000001C   \n122  ICC08050000000                  00210300000050, 00210300000140   \n123  ICC08060000000                                    209900000010   \n\n     Begin Date    End Date Assmt Taxes PILOT Contract Amt  \\\n0    11/30/1981  11/30/2080    $162,735           $101,709   \n1    12/01/1983  01/01/2024     $57,526             $7,320   \n2    12/23/1983  12/30/2025     $62,878            $15,029   \n3    12/27/1984  12/27/2024    $162,720             $6,113   \n4    12/31/1984  12/31/2025    $115,157             $2,691   \n..          ...         ...         ...                ...   \n119  03/31/2021  03/31/2034      $5,211             $6,327   \n120  04/29/2021  04/29/2033      $3,570             $3,570   \n121  10/27/2021  04/27/2041      $6,836             $7,947   \n122  06/30/2021  06/30/2034      $3,420             $4,027   \n123  12/01/2022  07/02/2039      $6,125             $1,048   \n\n    PILOT Debt Service Amt Difference  \n0                       $0   -$61,026  \n1                       $0   -$50,206  \n2                       $0   -$47,849  \n3                       $0  -$156,607  \n4                       $0  -$112,466  \n..                     ...        ...  \n119                     $0     $1,116  \n120                     $0         $0  \n121                     $0     $1,112  \n122                    $10       $617  \n123                     $0    -$5,077  \n\n[124 rows x 10 columns]",
      "text/html": "<div>\n<style scoped>\n    .dataframe tbody tr th:only-of-type {\n        vertical-align: middle;\n    }\n\n    .dataframe tbody tr th {\n        vertical-align: top;\n    }\n\n    .dataframe thead th {\n        text-align: right;\n    }\n</style>\n<table border=\"1\" class=\"dataframe\">\n  <thead>\n    <tr style=\"text-align: right;\">\n      <th></th>\n      <th>Owner</th>\n      <th>Location</th>\n      <th>PILOT Parcel No</th>\n      <th>Underlying Parcel Number</th>\n      <th>Begin Date</th>\n      <th>End Date</th>\n      <th>Assmt Taxes</th>\n      <th>PILOT Contract Amt</th>\n      <th>PILOT Debt Service Amt</th>\n      <th>Difference</th>\n    </tr>\n  </thead>\n  <tbody>\n    <tr>\n      <th>0</th>\n      <td>RIVERBLUFF COOPERATIVE</td>\n      <td>333 TENNESSEE</td>\n      <td>ICC00110000000</td>\n      <td>0020740000002C</td>\n      <td>11/30/1981</td>\n      <td>11/30/2080</td>\n      <td>$162,735</td>\n      <td>$101,709</td>\n      <td>$0</td>\n      <td>-$61,026</td>\n    </tr>\n    <tr>\n      <th>1</th>\n      <td>COTTON EXCHANGE BLDG, A LIMITED PARTNERSHIP</td>\n      <td>65 UNION</td>\n      <td>ICC00270000000</td>\n      <td>204200000290</td>\n      <td>12/01/1983</td>\n      <td>01/01/2024</td>\n      <td>$57,526</td>\n      <td>$7,320</td>\n      <td>$0</td>\n      <td>-$50,206</td>\n    </tr>\n    <tr>\n      <th>2</th>\n      <td>THREE SISTERS LTD</td>\n      <td>61 MAIN</td>\n      <td>ICC00290000000</td>\n      <td>00203900000140, 00203900000150, 00203900000160</td>\n      <td>12/23/1983</td>\n      <td>12/30/2025</td>\n      <td>$62,878</td>\n      <td>$15,029</td>\n      <td>$0</td>\n      <td>-$47,849</td>\n    </tr>\n    <tr>\n      <th>3</th>\n      <td>RAYMOND JAMES TOWER - MORGAN KEEGAN</td>\n      <td>50 FRONT</td>\n      <td>ICC00410000000</td>\n      <td>200600000240</td>\n      <td>12/27/1984</td>\n      <td>12/27/2024</td>\n      <td>$162,720</td>\n      <td>$6,113</td>\n      <td>$0</td>\n      <td>-$156,607</td>\n    </tr>\n    <tr>\n      <th>4</th>\n      <td>MAIN MONROE HOSPITALITY 2018 - MEMPHIS HOTEL P...</td>\n      <td>110 MONROE</td>\n      <td>ICC00450000000</td>\n      <td>205700000090</td>\n      <td>12/31/1984</td>\n      <td>12/31/2025</td>\n      <td>$115,157</td>\n      <td>$2,691</td>\n      <td>$0</td>\n      <td>-$112,466</td>\n    </tr>\n    <tr>\n      <th>...</th>\n      <td>...</td>\n      <td>...</td>\n      <td>...</td>\n      <td>...</td>\n      <td>...</td>\n      <td>...</td>\n      <td>...</td>\n      <td>...</td>\n      <td>...</td>\n      <td>...</td>\n    </tr>\n    <tr>\n      <th>119</th>\n      <td>TCH Memphis, LLC</td>\n      <td>380 BEALE ST</td>\n      <td>ICC08020000000</td>\n      <td>500600000290</td>\n      <td>03/31/2021</td>\n      <td>03/31/2034</td>\n      <td>$5,211</td>\n      <td>$6,327</td>\n      <td>$0</td>\n      <td>$1,116</td>\n    </tr>\n    <tr>\n      <th>120</th>\n      <td>189 Barksdale, LLC</td>\n      <td>189 S BARKSDALE ST</td>\n      <td>ICC08030000000</td>\n      <td>1605100000060</td>\n      <td>04/29/2021</td>\n      <td>04/29/2033</td>\n      <td>$3,570</td>\n      <td>$3,570</td>\n      <td>$0</td>\n      <td>$0</td>\n    </tr>\n    <tr>\n      <th>121</th>\n      <td>7V Devco, LLC</td>\n      <td>7 VANCE AVE</td>\n      <td>ICC08040000000</td>\n      <td>0020750000001C</td>\n      <td>10/27/2021</td>\n      <td>04/27/2041</td>\n      <td>$6,836</td>\n      <td>$7,947</td>\n      <td>$0</td>\n      <td>$1,112</td>\n    </tr>\n    <tr>\n      <th>122</th>\n      <td>Cabigao Investments</td>\n      <td>345 S MAIN</td>\n      <td>ICC08050000000</td>\n      <td>00210300000050, 00210300000140</td>\n      <td>06/30/2021</td>\n      <td>06/30/2034</td>\n      <td>$3,420</td>\n      <td>$4,027</td>\n      <td>$10</td>\n      <td>$617</td>\n    </tr>\n    <tr>\n      <th>123</th>\n      <td>245 FRONT STREET HOTEL COMPANY, LLC</td>\n      <td>245 S FRONT ST</td>\n      <td>ICC08060000000</td>\n      <td>209900000010</td>\n      <td>12/01/2022</td>\n      <td>07/02/2039</td>\n      <td>$6,125</td>\n      <td>$1,048</td>\n      <td>$0</td>\n      <td>-$5,077</td>\n    </tr>\n  </tbody>\n</table>\n<p>124 rows × 10 columns</p>\n</div>"
     },
     "execution_count": 39,
     "metadata": {},
     "output_type": "execute_result"
    }
   ],
   "source": [
    "# load a dataframe\n",
    "infile_path = \"../data/raw/silver_shelby_county_properties_municipality_breakdown - s3_2022_icc_contracts.csv\"\n",
    "df = pd.read_csv(infile_path)\n",
    "df"
   ],
   "metadata": {
    "collapsed": false,
    "ExecuteTime": {
     "end_time": "2024-04-01T00:58:00.862469Z",
     "start_time": "2024-04-01T00:58:00.804475Z"
    }
   },
   "id": "50cef4de40a6855d"
  },
  {
   "cell_type": "code",
   "execution_count": 40,
   "outputs": [
    {
     "data": {
      "text/plain": "Index(['owner', 'location', 'pilot_parcel_no', 'underlying_parcel_number',\n       'begin_date', 'end_date', 'assmt_taxes', 'pilot_contract_amt',\n       'pilot_debt_service_amt', 'difference'],\n      dtype='object')"
     },
     "execution_count": 40,
     "metadata": {},
     "output_type": "execute_result"
    }
   ],
   "source": [
    "# Clean the column headers\n",
    "df = clean_headers(df, [remove_special_for_words, truncate, snake_case, lower_case])\n",
    "df.columns"
   ],
   "metadata": {
    "collapsed": false,
    "ExecuteTime": {
     "end_time": "2024-04-01T00:58:00.862603Z",
     "start_time": "2024-04-01T00:58:00.822458Z"
    }
   },
   "id": "f8e6a7fb4013b6e6"
  },
  {
   "cell_type": "code",
   "execution_count": 41,
   "outputs": [
    {
     "data": {
      "text/plain": "                                                 owner            location  \\\n0                               riverbluff cooperative       333 tennessee   \n1           cotton exchange bldg a limited partnership            65 union   \n2                                    three sisters ltd             61 main   \n3                    raymond james tower morgan keegan            50 front   \n4    main monroe hospitality 2018 memphis hotel pro...          110 monroe   \n..                                                 ...                 ...   \n119                                    tch memphis llc        380 beale st   \n120                                  189 barksdale llc  189 s barksdale st   \n121                                       7v devco llc         7 vance ave   \n122                                cabigao investments          345 s main   \n123                 245 front street hotel company llc      245 s front st   \n\n    pilot_parcel_no                        underlying_parcel_number  \\\n0    ICC00110000000                                  0020740000002C   \n1    ICC00270000000                                    204200000290   \n2    ICC00290000000  00203900000140, 00203900000150, 00203900000160   \n3    ICC00410000000                                    200600000240   \n4    ICC00450000000                                    205700000090   \n..              ...                                             ...   \n119  ICC08020000000                                    500600000290   \n120  ICC08030000000                                   1605100000060   \n121  ICC08040000000                                  0020750000001C   \n122  ICC08050000000                  00210300000050, 00210300000140   \n123  ICC08060000000                                    209900000010   \n\n     begin_date    end_date assmt_taxes pilot_contract_amt  \\\n0    11/30/1981  11/30/2080    $162,735           $101,709   \n1    12/01/1983  01/01/2024     $57,526             $7,320   \n2    12/23/1983  12/30/2025     $62,878            $15,029   \n3    12/27/1984  12/27/2024    $162,720             $6,113   \n4    12/31/1984  12/31/2025    $115,157             $2,691   \n..          ...         ...         ...                ...   \n119  03/31/2021  03/31/2034      $5,211             $6,327   \n120  04/29/2021  04/29/2033      $3,570             $3,570   \n121  10/27/2021  04/27/2041      $6,836             $7,947   \n122  06/30/2021  06/30/2034      $3,420             $4,027   \n123  12/01/2022  07/02/2039      $6,125             $1,048   \n\n    pilot_debt_service_amt difference  \n0                       $0   -$61,026  \n1                       $0   -$50,206  \n2                       $0   -$47,849  \n3                       $0  -$156,607  \n4                       $0  -$112,466  \n..                     ...        ...  \n119                     $0     $1,116  \n120                     $0         $0  \n121                     $0     $1,112  \n122                    $10       $617  \n123                     $0    -$5,077  \n\n[124 rows x 10 columns]",
      "text/html": "<div>\n<style scoped>\n    .dataframe tbody tr th:only-of-type {\n        vertical-align: middle;\n    }\n\n    .dataframe tbody tr th {\n        vertical-align: top;\n    }\n\n    .dataframe thead th {\n        text-align: right;\n    }\n</style>\n<table border=\"1\" class=\"dataframe\">\n  <thead>\n    <tr style=\"text-align: right;\">\n      <th></th>\n      <th>owner</th>\n      <th>location</th>\n      <th>pilot_parcel_no</th>\n      <th>underlying_parcel_number</th>\n      <th>begin_date</th>\n      <th>end_date</th>\n      <th>assmt_taxes</th>\n      <th>pilot_contract_amt</th>\n      <th>pilot_debt_service_amt</th>\n      <th>difference</th>\n    </tr>\n  </thead>\n  <tbody>\n    <tr>\n      <th>0</th>\n      <td>riverbluff cooperative</td>\n      <td>333 tennessee</td>\n      <td>ICC00110000000</td>\n      <td>0020740000002C</td>\n      <td>11/30/1981</td>\n      <td>11/30/2080</td>\n      <td>$162,735</td>\n      <td>$101,709</td>\n      <td>$0</td>\n      <td>-$61,026</td>\n    </tr>\n    <tr>\n      <th>1</th>\n      <td>cotton exchange bldg a limited partnership</td>\n      <td>65 union</td>\n      <td>ICC00270000000</td>\n      <td>204200000290</td>\n      <td>12/01/1983</td>\n      <td>01/01/2024</td>\n      <td>$57,526</td>\n      <td>$7,320</td>\n      <td>$0</td>\n      <td>-$50,206</td>\n    </tr>\n    <tr>\n      <th>2</th>\n      <td>three sisters ltd</td>\n      <td>61 main</td>\n      <td>ICC00290000000</td>\n      <td>00203900000140, 00203900000150, 00203900000160</td>\n      <td>12/23/1983</td>\n      <td>12/30/2025</td>\n      <td>$62,878</td>\n      <td>$15,029</td>\n      <td>$0</td>\n      <td>-$47,849</td>\n    </tr>\n    <tr>\n      <th>3</th>\n      <td>raymond james tower morgan keegan</td>\n      <td>50 front</td>\n      <td>ICC00410000000</td>\n      <td>200600000240</td>\n      <td>12/27/1984</td>\n      <td>12/27/2024</td>\n      <td>$162,720</td>\n      <td>$6,113</td>\n      <td>$0</td>\n      <td>-$156,607</td>\n    </tr>\n    <tr>\n      <th>4</th>\n      <td>main monroe hospitality 2018 memphis hotel pro...</td>\n      <td>110 monroe</td>\n      <td>ICC00450000000</td>\n      <td>205700000090</td>\n      <td>12/31/1984</td>\n      <td>12/31/2025</td>\n      <td>$115,157</td>\n      <td>$2,691</td>\n      <td>$0</td>\n      <td>-$112,466</td>\n    </tr>\n    <tr>\n      <th>...</th>\n      <td>...</td>\n      <td>...</td>\n      <td>...</td>\n      <td>...</td>\n      <td>...</td>\n      <td>...</td>\n      <td>...</td>\n      <td>...</td>\n      <td>...</td>\n      <td>...</td>\n    </tr>\n    <tr>\n      <th>119</th>\n      <td>tch memphis llc</td>\n      <td>380 beale st</td>\n      <td>ICC08020000000</td>\n      <td>500600000290</td>\n      <td>03/31/2021</td>\n      <td>03/31/2034</td>\n      <td>$5,211</td>\n      <td>$6,327</td>\n      <td>$0</td>\n      <td>$1,116</td>\n    </tr>\n    <tr>\n      <th>120</th>\n      <td>189 barksdale llc</td>\n      <td>189 s barksdale st</td>\n      <td>ICC08030000000</td>\n      <td>1605100000060</td>\n      <td>04/29/2021</td>\n      <td>04/29/2033</td>\n      <td>$3,570</td>\n      <td>$3,570</td>\n      <td>$0</td>\n      <td>$0</td>\n    </tr>\n    <tr>\n      <th>121</th>\n      <td>7v devco llc</td>\n      <td>7 vance ave</td>\n      <td>ICC08040000000</td>\n      <td>0020750000001C</td>\n      <td>10/27/2021</td>\n      <td>04/27/2041</td>\n      <td>$6,836</td>\n      <td>$7,947</td>\n      <td>$0</td>\n      <td>$1,112</td>\n    </tr>\n    <tr>\n      <th>122</th>\n      <td>cabigao investments</td>\n      <td>345 s main</td>\n      <td>ICC08050000000</td>\n      <td>00210300000050, 00210300000140</td>\n      <td>06/30/2021</td>\n      <td>06/30/2034</td>\n      <td>$3,420</td>\n      <td>$4,027</td>\n      <td>$10</td>\n      <td>$617</td>\n    </tr>\n    <tr>\n      <th>123</th>\n      <td>245 front street hotel company llc</td>\n      <td>245 s front st</td>\n      <td>ICC08060000000</td>\n      <td>209900000010</td>\n      <td>12/01/2022</td>\n      <td>07/02/2039</td>\n      <td>$6,125</td>\n      <td>$1,048</td>\n      <td>$0</td>\n      <td>-$5,077</td>\n    </tr>\n  </tbody>\n</table>\n<p>124 rows × 10 columns</p>\n</div>"
     },
     "execution_count": 41,
     "metadata": {},
     "output_type": "execute_result"
    }
   ],
   "source": [
    "# Clean the string columns\n",
    "string_columns = [\"owner\", \n",
    "                  \"location\"]\n",
    "df = clean_columns(df, string_columns, [remove_special_for_words, truncate, lower_case])\n",
    "df"
   ],
   "metadata": {
    "collapsed": false,
    "ExecuteTime": {
     "end_time": "2024-04-01T00:58:00.862798Z",
     "start_time": "2024-04-01T00:58:00.829234Z"
    }
   },
   "id": "67171db99d8fff6d"
  },
  {
   "cell_type": "code",
   "execution_count": 42,
   "outputs": [
    {
     "data": {
      "text/plain": "Index(['owner', 'location', 'pilot_parcel_no', 'underlying_parcel_number',\n       'begin_date', 'end_date', 'assmt_taxes', 'pilot_contract_amt',\n       'pilot_debt_service_amt', 'difference'],\n      dtype='object')"
     },
     "execution_count": 42,
     "metadata": {},
     "output_type": "execute_result"
    }
   ],
   "source": [
    "df.columns"
   ],
   "metadata": {
    "collapsed": false,
    "ExecuteTime": {
     "end_time": "2024-04-01T00:58:00.862859Z",
     "start_time": "2024-04-01T00:58:00.837474Z"
    }
   },
   "id": "4484a9731b2bde17"
  },
  {
   "cell_type": "code",
   "execution_count": 43,
   "outputs": [
    {
     "data": {
      "text/plain": "                                                 owner            location  \\\n0                               riverbluff cooperative       333 tennessee   \n1           cotton exchange bldg a limited partnership            65 union   \n2                                    three sisters ltd             61 main   \n3                    raymond james tower morgan keegan            50 front   \n4    main monroe hospitality 2018 memphis hotel pro...          110 monroe   \n..                                                 ...                 ...   \n119                                    tch memphis llc        380 beale st   \n120                                  189 barksdale llc  189 s barksdale st   \n121                                       7v devco llc         7 vance ave   \n122                                cabigao investments          345 s main   \n123                 245 front street hotel company llc      245 s front st   \n\n    pilot_parcel_no                        underlying_parcel_number  \\\n0    ICC00110000000                                  0020740000002C   \n1    ICC00270000000                                    204200000290   \n2    ICC00290000000  00203900000140, 00203900000150, 00203900000160   \n3    ICC00410000000                                    200600000240   \n4    ICC00450000000                                    205700000090   \n..              ...                                             ...   \n119  ICC08020000000                                    500600000290   \n120  ICC08030000000                                   1605100000060   \n121  ICC08040000000                                  0020750000001C   \n122  ICC08050000000                  00210300000050, 00210300000140   \n123  ICC08060000000                                    209900000010   \n\n     begin_date    end_date assmt_taxes pilot_contract_amt  \\\n0    11/30/1981  11/30/2080      162735             101709   \n1    12/01/1983  01/01/2024       57526               7320   \n2    12/23/1983  12/30/2025       62878              15029   \n3    12/27/1984  12/27/2024      162720               6113   \n4    12/31/1984  12/31/2025      115157               2691   \n..          ...         ...         ...                ...   \n119  03/31/2021  03/31/2034        5211               6327   \n120  04/29/2021  04/29/2033        3570               3570   \n121  10/27/2021  04/27/2041        6836               7947   \n122  06/30/2021  06/30/2034        3420               4027   \n123  12/01/2022  07/02/2039        6125               1048   \n\n    pilot_debt_service_amt difference  \n0                        0     -61026  \n1                        0     -50206  \n2                        0     -47849  \n3                        0    -156607  \n4                        0    -112466  \n..                     ...        ...  \n119                      0       1116  \n120                      0          0  \n121                      0       1112  \n122                     10        617  \n123                      0      -5077  \n\n[124 rows x 10 columns]",
      "text/html": "<div>\n<style scoped>\n    .dataframe tbody tr th:only-of-type {\n        vertical-align: middle;\n    }\n\n    .dataframe tbody tr th {\n        vertical-align: top;\n    }\n\n    .dataframe thead th {\n        text-align: right;\n    }\n</style>\n<table border=\"1\" class=\"dataframe\">\n  <thead>\n    <tr style=\"text-align: right;\">\n      <th></th>\n      <th>owner</th>\n      <th>location</th>\n      <th>pilot_parcel_no</th>\n      <th>underlying_parcel_number</th>\n      <th>begin_date</th>\n      <th>end_date</th>\n      <th>assmt_taxes</th>\n      <th>pilot_contract_amt</th>\n      <th>pilot_debt_service_amt</th>\n      <th>difference</th>\n    </tr>\n  </thead>\n  <tbody>\n    <tr>\n      <th>0</th>\n      <td>riverbluff cooperative</td>\n      <td>333 tennessee</td>\n      <td>ICC00110000000</td>\n      <td>0020740000002C</td>\n      <td>11/30/1981</td>\n      <td>11/30/2080</td>\n      <td>162735</td>\n      <td>101709</td>\n      <td>0</td>\n      <td>-61026</td>\n    </tr>\n    <tr>\n      <th>1</th>\n      <td>cotton exchange bldg a limited partnership</td>\n      <td>65 union</td>\n      <td>ICC00270000000</td>\n      <td>204200000290</td>\n      <td>12/01/1983</td>\n      <td>01/01/2024</td>\n      <td>57526</td>\n      <td>7320</td>\n      <td>0</td>\n      <td>-50206</td>\n    </tr>\n    <tr>\n      <th>2</th>\n      <td>three sisters ltd</td>\n      <td>61 main</td>\n      <td>ICC00290000000</td>\n      <td>00203900000140, 00203900000150, 00203900000160</td>\n      <td>12/23/1983</td>\n      <td>12/30/2025</td>\n      <td>62878</td>\n      <td>15029</td>\n      <td>0</td>\n      <td>-47849</td>\n    </tr>\n    <tr>\n      <th>3</th>\n      <td>raymond james tower morgan keegan</td>\n      <td>50 front</td>\n      <td>ICC00410000000</td>\n      <td>200600000240</td>\n      <td>12/27/1984</td>\n      <td>12/27/2024</td>\n      <td>162720</td>\n      <td>6113</td>\n      <td>0</td>\n      <td>-156607</td>\n    </tr>\n    <tr>\n      <th>4</th>\n      <td>main monroe hospitality 2018 memphis hotel pro...</td>\n      <td>110 monroe</td>\n      <td>ICC00450000000</td>\n      <td>205700000090</td>\n      <td>12/31/1984</td>\n      <td>12/31/2025</td>\n      <td>115157</td>\n      <td>2691</td>\n      <td>0</td>\n      <td>-112466</td>\n    </tr>\n    <tr>\n      <th>...</th>\n      <td>...</td>\n      <td>...</td>\n      <td>...</td>\n      <td>...</td>\n      <td>...</td>\n      <td>...</td>\n      <td>...</td>\n      <td>...</td>\n      <td>...</td>\n      <td>...</td>\n    </tr>\n    <tr>\n      <th>119</th>\n      <td>tch memphis llc</td>\n      <td>380 beale st</td>\n      <td>ICC08020000000</td>\n      <td>500600000290</td>\n      <td>03/31/2021</td>\n      <td>03/31/2034</td>\n      <td>5211</td>\n      <td>6327</td>\n      <td>0</td>\n      <td>1116</td>\n    </tr>\n    <tr>\n      <th>120</th>\n      <td>189 barksdale llc</td>\n      <td>189 s barksdale st</td>\n      <td>ICC08030000000</td>\n      <td>1605100000060</td>\n      <td>04/29/2021</td>\n      <td>04/29/2033</td>\n      <td>3570</td>\n      <td>3570</td>\n      <td>0</td>\n      <td>0</td>\n    </tr>\n    <tr>\n      <th>121</th>\n      <td>7v devco llc</td>\n      <td>7 vance ave</td>\n      <td>ICC08040000000</td>\n      <td>0020750000001C</td>\n      <td>10/27/2021</td>\n      <td>04/27/2041</td>\n      <td>6836</td>\n      <td>7947</td>\n      <td>0</td>\n      <td>1112</td>\n    </tr>\n    <tr>\n      <th>122</th>\n      <td>cabigao investments</td>\n      <td>345 s main</td>\n      <td>ICC08050000000</td>\n      <td>00210300000050, 00210300000140</td>\n      <td>06/30/2021</td>\n      <td>06/30/2034</td>\n      <td>3420</td>\n      <td>4027</td>\n      <td>10</td>\n      <td>617</td>\n    </tr>\n    <tr>\n      <th>123</th>\n      <td>245 front street hotel company llc</td>\n      <td>245 s front st</td>\n      <td>ICC08060000000</td>\n      <td>209900000010</td>\n      <td>12/01/2022</td>\n      <td>07/02/2039</td>\n      <td>6125</td>\n      <td>1048</td>\n      <td>0</td>\n      <td>-5077</td>\n    </tr>\n  </tbody>\n</table>\n<p>124 rows × 10 columns</p>\n</div>"
     },
     "execution_count": 43,
     "metadata": {},
     "output_type": "execute_result"
    }
   ],
   "source": [
    "# Clean the numeric columns\n",
    "numeric_columns = ['assmt_taxes', 'pilot_contract_amt',\n",
    "       'pilot_debt_service_amt', 'difference']\n",
    "df = clean_columns(df, numeric_columns, [remove_special_for_numbers, convert_only_dash_to_missing])\n",
    "\n",
    "df"
   ],
   "metadata": {
    "collapsed": false,
    "ExecuteTime": {
     "end_time": "2024-04-01T00:58:00.863493Z",
     "start_time": "2024-04-01T00:58:00.844975Z"
    }
   },
   "id": "fd553dbc31168c70"
  },
  {
   "cell_type": "code",
   "execution_count": 44,
   "outputs": [
    {
     "data": {
      "text/plain": "                                                 owner            location  \\\n0                               riverbluff cooperative       333 tennessee   \n1           cotton exchange bldg a limited partnership            65 union   \n2                                    three sisters ltd             61 main   \n3                    raymond james tower morgan keegan            50 front   \n4    main monroe hospitality 2018 memphis hotel pro...          110 monroe   \n..                                                 ...                 ...   \n119                                    tch memphis llc        380 beale st   \n120                                  189 barksdale llc  189 s barksdale st   \n121                                       7v devco llc         7 vance ave   \n122                                cabigao investments          345 s main   \n123                 245 front street hotel company llc      245 s front st   \n\n    pilot_parcel_no                        underlying_parcel_number  \\\n0    ICC00110000000                                  0020740000002C   \n1    ICC00270000000                                    204200000290   \n2    ICC00290000000  00203900000140, 00203900000150, 00203900000160   \n3    ICC00410000000                                    200600000240   \n4    ICC00450000000                                    205700000090   \n..              ...                                             ...   \n119  ICC08020000000                                    500600000290   \n120  ICC08030000000                                   1605100000060   \n121  ICC08040000000                                  0020750000001C   \n122  ICC08050000000                  00210300000050, 00210300000140   \n123  ICC08060000000                                    209900000010   \n\n    begin_date   end_date assmt_taxes pilot_contract_amt  \\\n0   1981-11-30 2080-11-30      162735             101709   \n1   1983-12-01 2024-01-01       57526               7320   \n2   1983-12-23 2025-12-30       62878              15029   \n3   1984-12-27 2024-12-27      162720               6113   \n4   1984-12-31 2025-12-31      115157               2691   \n..         ...        ...         ...                ...   \n119 2021-03-31 2034-03-31        5211               6327   \n120 2021-04-29 2033-04-29        3570               3570   \n121 2021-10-27 2041-04-27        6836               7947   \n122 2021-06-30 2034-06-30        3420               4027   \n123 2022-12-01 2039-07-02        6125               1048   \n\n    pilot_debt_service_amt difference  \n0                        0     -61026  \n1                        0     -50206  \n2                        0     -47849  \n3                        0    -156607  \n4                        0    -112466  \n..                     ...        ...  \n119                      0       1116  \n120                      0          0  \n121                      0       1112  \n122                     10        617  \n123                      0      -5077  \n\n[124 rows x 10 columns]",
      "text/html": "<div>\n<style scoped>\n    .dataframe tbody tr th:only-of-type {\n        vertical-align: middle;\n    }\n\n    .dataframe tbody tr th {\n        vertical-align: top;\n    }\n\n    .dataframe thead th {\n        text-align: right;\n    }\n</style>\n<table border=\"1\" class=\"dataframe\">\n  <thead>\n    <tr style=\"text-align: right;\">\n      <th></th>\n      <th>owner</th>\n      <th>location</th>\n      <th>pilot_parcel_no</th>\n      <th>underlying_parcel_number</th>\n      <th>begin_date</th>\n      <th>end_date</th>\n      <th>assmt_taxes</th>\n      <th>pilot_contract_amt</th>\n      <th>pilot_debt_service_amt</th>\n      <th>difference</th>\n    </tr>\n  </thead>\n  <tbody>\n    <tr>\n      <th>0</th>\n      <td>riverbluff cooperative</td>\n      <td>333 tennessee</td>\n      <td>ICC00110000000</td>\n      <td>0020740000002C</td>\n      <td>1981-11-30</td>\n      <td>2080-11-30</td>\n      <td>162735</td>\n      <td>101709</td>\n      <td>0</td>\n      <td>-61026</td>\n    </tr>\n    <tr>\n      <th>1</th>\n      <td>cotton exchange bldg a limited partnership</td>\n      <td>65 union</td>\n      <td>ICC00270000000</td>\n      <td>204200000290</td>\n      <td>1983-12-01</td>\n      <td>2024-01-01</td>\n      <td>57526</td>\n      <td>7320</td>\n      <td>0</td>\n      <td>-50206</td>\n    </tr>\n    <tr>\n      <th>2</th>\n      <td>three sisters ltd</td>\n      <td>61 main</td>\n      <td>ICC00290000000</td>\n      <td>00203900000140, 00203900000150, 00203900000160</td>\n      <td>1983-12-23</td>\n      <td>2025-12-30</td>\n      <td>62878</td>\n      <td>15029</td>\n      <td>0</td>\n      <td>-47849</td>\n    </tr>\n    <tr>\n      <th>3</th>\n      <td>raymond james tower morgan keegan</td>\n      <td>50 front</td>\n      <td>ICC00410000000</td>\n      <td>200600000240</td>\n      <td>1984-12-27</td>\n      <td>2024-12-27</td>\n      <td>162720</td>\n      <td>6113</td>\n      <td>0</td>\n      <td>-156607</td>\n    </tr>\n    <tr>\n      <th>4</th>\n      <td>main monroe hospitality 2018 memphis hotel pro...</td>\n      <td>110 monroe</td>\n      <td>ICC00450000000</td>\n      <td>205700000090</td>\n      <td>1984-12-31</td>\n      <td>2025-12-31</td>\n      <td>115157</td>\n      <td>2691</td>\n      <td>0</td>\n      <td>-112466</td>\n    </tr>\n    <tr>\n      <th>...</th>\n      <td>...</td>\n      <td>...</td>\n      <td>...</td>\n      <td>...</td>\n      <td>...</td>\n      <td>...</td>\n      <td>...</td>\n      <td>...</td>\n      <td>...</td>\n      <td>...</td>\n    </tr>\n    <tr>\n      <th>119</th>\n      <td>tch memphis llc</td>\n      <td>380 beale st</td>\n      <td>ICC08020000000</td>\n      <td>500600000290</td>\n      <td>2021-03-31</td>\n      <td>2034-03-31</td>\n      <td>5211</td>\n      <td>6327</td>\n      <td>0</td>\n      <td>1116</td>\n    </tr>\n    <tr>\n      <th>120</th>\n      <td>189 barksdale llc</td>\n      <td>189 s barksdale st</td>\n      <td>ICC08030000000</td>\n      <td>1605100000060</td>\n      <td>2021-04-29</td>\n      <td>2033-04-29</td>\n      <td>3570</td>\n      <td>3570</td>\n      <td>0</td>\n      <td>0</td>\n    </tr>\n    <tr>\n      <th>121</th>\n      <td>7v devco llc</td>\n      <td>7 vance ave</td>\n      <td>ICC08040000000</td>\n      <td>0020750000001C</td>\n      <td>2021-10-27</td>\n      <td>2041-04-27</td>\n      <td>6836</td>\n      <td>7947</td>\n      <td>0</td>\n      <td>1112</td>\n    </tr>\n    <tr>\n      <th>122</th>\n      <td>cabigao investments</td>\n      <td>345 s main</td>\n      <td>ICC08050000000</td>\n      <td>00210300000050, 00210300000140</td>\n      <td>2021-06-30</td>\n      <td>2034-06-30</td>\n      <td>3420</td>\n      <td>4027</td>\n      <td>10</td>\n      <td>617</td>\n    </tr>\n    <tr>\n      <th>123</th>\n      <td>245 front street hotel company llc</td>\n      <td>245 s front st</td>\n      <td>ICC08060000000</td>\n      <td>209900000010</td>\n      <td>2022-12-01</td>\n      <td>2039-07-02</td>\n      <td>6125</td>\n      <td>1048</td>\n      <td>0</td>\n      <td>-5077</td>\n    </tr>\n  </tbody>\n</table>\n<p>124 rows × 10 columns</p>\n</div>"
     },
     "execution_count": 44,
     "metadata": {},
     "output_type": "execute_result"
    }
   ],
   "source": [
    "# Clean the date columns\n",
    "\n",
    "# Because this data has an idiosyncratic \"end date\" value of \"End of Loan\", \n",
    "# we must define a dataset-specific function\n",
    "def cast_end_date_to_datetime(entry: str | Number):\n",
    "    try:\n",
    "        return pd.to_datetime(str(entry))\n",
    "    except ValueError:\n",
    "        return entry\n",
    "df[\"begin_date\"] = pd.to_datetime(df[\"begin_date\"])\n",
    "df[\"end_date\"] = df[\"end_date\"].apply(lambda x: cast_end_date_to_datetime(x))\n",
    "df"
   ],
   "metadata": {
    "collapsed": false,
    "ExecuteTime": {
     "end_time": "2024-04-01T00:58:00.896171Z",
     "start_time": "2024-04-01T00:58:00.882772Z"
    }
   },
   "id": "1efa55d32b4be610"
  },
  {
   "cell_type": "code",
   "execution_count": 45,
   "outputs": [
    {
     "data": {
      "text/plain": "                                                 owner            location  \\\n0                               riverbluff cooperative       333 tennessee   \n1           cotton exchange bldg a limited partnership            65 union   \n2                                    three sisters ltd             61 main   \n3                    raymond james tower morgan keegan            50 front   \n4    main monroe hospitality 2018 memphis hotel pro...          110 monroe   \n..                                                 ...                 ...   \n119                                    tch memphis llc        380 beale st   \n120                                  189 barksdale llc  189 s barksdale st   \n121                                       7v devco llc         7 vance ave   \n122                                cabigao investments          345 s main   \n123                 245 front street hotel company llc      245 s front st   \n\n      pilot_parcel_no                           underlying_parcel_number  \\\n0    [ICC00110000000]                                   [0020740000002C]   \n1    [ICC00270000000]                                     [204200000290]   \n2    [ICC00290000000]  [00203900000140,  00203900000150,  00203900000...   \n3    [ICC00410000000]                                     [200600000240]   \n4    [ICC00450000000]                                     [205700000090]   \n..                ...                                                ...   \n119  [ICC08020000000]                                     [500600000290]   \n120  [ICC08030000000]                                    [1605100000060]   \n121  [ICC08040000000]                                   [0020750000001C]   \n122  [ICC08050000000]                  [00210300000050,  00210300000140]   \n123  [ICC08060000000]                                     [209900000010]   \n\n    begin_date   end_date assmt_taxes pilot_contract_amt  \\\n0   1981-11-30 2080-11-30      162735             101709   \n1   1983-12-01 2024-01-01       57526               7320   \n2   1983-12-23 2025-12-30       62878              15029   \n3   1984-12-27 2024-12-27      162720               6113   \n4   1984-12-31 2025-12-31      115157               2691   \n..         ...        ...         ...                ...   \n119 2021-03-31 2034-03-31        5211               6327   \n120 2021-04-29 2033-04-29        3570               3570   \n121 2021-10-27 2041-04-27        6836               7947   \n122 2021-06-30 2034-06-30        3420               4027   \n123 2022-12-01 2039-07-02        6125               1048   \n\n    pilot_debt_service_amt difference  \n0                        0     -61026  \n1                        0     -50206  \n2                        0     -47849  \n3                        0    -156607  \n4                        0    -112466  \n..                     ...        ...  \n119                      0       1116  \n120                      0          0  \n121                      0       1112  \n122                     10        617  \n123                      0      -5077  \n\n[124 rows x 10 columns]",
      "text/html": "<div>\n<style scoped>\n    .dataframe tbody tr th:only-of-type {\n        vertical-align: middle;\n    }\n\n    .dataframe tbody tr th {\n        vertical-align: top;\n    }\n\n    .dataframe thead th {\n        text-align: right;\n    }\n</style>\n<table border=\"1\" class=\"dataframe\">\n  <thead>\n    <tr style=\"text-align: right;\">\n      <th></th>\n      <th>owner</th>\n      <th>location</th>\n      <th>pilot_parcel_no</th>\n      <th>underlying_parcel_number</th>\n      <th>begin_date</th>\n      <th>end_date</th>\n      <th>assmt_taxes</th>\n      <th>pilot_contract_amt</th>\n      <th>pilot_debt_service_amt</th>\n      <th>difference</th>\n    </tr>\n  </thead>\n  <tbody>\n    <tr>\n      <th>0</th>\n      <td>riverbluff cooperative</td>\n      <td>333 tennessee</td>\n      <td>[ICC00110000000]</td>\n      <td>[0020740000002C]</td>\n      <td>1981-11-30</td>\n      <td>2080-11-30</td>\n      <td>162735</td>\n      <td>101709</td>\n      <td>0</td>\n      <td>-61026</td>\n    </tr>\n    <tr>\n      <th>1</th>\n      <td>cotton exchange bldg a limited partnership</td>\n      <td>65 union</td>\n      <td>[ICC00270000000]</td>\n      <td>[204200000290]</td>\n      <td>1983-12-01</td>\n      <td>2024-01-01</td>\n      <td>57526</td>\n      <td>7320</td>\n      <td>0</td>\n      <td>-50206</td>\n    </tr>\n    <tr>\n      <th>2</th>\n      <td>three sisters ltd</td>\n      <td>61 main</td>\n      <td>[ICC00290000000]</td>\n      <td>[00203900000140,  00203900000150,  00203900000...</td>\n      <td>1983-12-23</td>\n      <td>2025-12-30</td>\n      <td>62878</td>\n      <td>15029</td>\n      <td>0</td>\n      <td>-47849</td>\n    </tr>\n    <tr>\n      <th>3</th>\n      <td>raymond james tower morgan keegan</td>\n      <td>50 front</td>\n      <td>[ICC00410000000]</td>\n      <td>[200600000240]</td>\n      <td>1984-12-27</td>\n      <td>2024-12-27</td>\n      <td>162720</td>\n      <td>6113</td>\n      <td>0</td>\n      <td>-156607</td>\n    </tr>\n    <tr>\n      <th>4</th>\n      <td>main monroe hospitality 2018 memphis hotel pro...</td>\n      <td>110 monroe</td>\n      <td>[ICC00450000000]</td>\n      <td>[205700000090]</td>\n      <td>1984-12-31</td>\n      <td>2025-12-31</td>\n      <td>115157</td>\n      <td>2691</td>\n      <td>0</td>\n      <td>-112466</td>\n    </tr>\n    <tr>\n      <th>...</th>\n      <td>...</td>\n      <td>...</td>\n      <td>...</td>\n      <td>...</td>\n      <td>...</td>\n      <td>...</td>\n      <td>...</td>\n      <td>...</td>\n      <td>...</td>\n      <td>...</td>\n    </tr>\n    <tr>\n      <th>119</th>\n      <td>tch memphis llc</td>\n      <td>380 beale st</td>\n      <td>[ICC08020000000]</td>\n      <td>[500600000290]</td>\n      <td>2021-03-31</td>\n      <td>2034-03-31</td>\n      <td>5211</td>\n      <td>6327</td>\n      <td>0</td>\n      <td>1116</td>\n    </tr>\n    <tr>\n      <th>120</th>\n      <td>189 barksdale llc</td>\n      <td>189 s barksdale st</td>\n      <td>[ICC08030000000]</td>\n      <td>[1605100000060]</td>\n      <td>2021-04-29</td>\n      <td>2033-04-29</td>\n      <td>3570</td>\n      <td>3570</td>\n      <td>0</td>\n      <td>0</td>\n    </tr>\n    <tr>\n      <th>121</th>\n      <td>7v devco llc</td>\n      <td>7 vance ave</td>\n      <td>[ICC08040000000]</td>\n      <td>[0020750000001C]</td>\n      <td>2021-10-27</td>\n      <td>2041-04-27</td>\n      <td>6836</td>\n      <td>7947</td>\n      <td>0</td>\n      <td>1112</td>\n    </tr>\n    <tr>\n      <th>122</th>\n      <td>cabigao investments</td>\n      <td>345 s main</td>\n      <td>[ICC08050000000]</td>\n      <td>[00210300000050,  00210300000140]</td>\n      <td>2021-06-30</td>\n      <td>2034-06-30</td>\n      <td>3420</td>\n      <td>4027</td>\n      <td>10</td>\n      <td>617</td>\n    </tr>\n    <tr>\n      <th>123</th>\n      <td>245 front street hotel company llc</td>\n      <td>245 s front st</td>\n      <td>[ICC08060000000]</td>\n      <td>[209900000010]</td>\n      <td>2022-12-01</td>\n      <td>2039-07-02</td>\n      <td>6125</td>\n      <td>1048</td>\n      <td>0</td>\n      <td>-5077</td>\n    </tr>\n  </tbody>\n</table>\n<p>124 rows × 10 columns</p>\n</div>"
     },
     "execution_count": 45,
     "metadata": {},
     "output_type": "execute_result"
    }
   ],
   "source": [
    "# Clean the list columns\n",
    "\n",
    "# Pandas always reads in lists as strings, so they will ultimately be converted to a string type, but putting them in lists firsts will allow us to convert them back to lists more quickly the next time we read them in because the list brackets will be included \n",
    "# in the output string\n",
    "\n",
    "list_columns = [\"pilot_parcel_no\", \"underlying_parcel_number\"]\n",
    "for col in list_columns:\n",
    "    df[col] = df[col].apply(lambda x: str(x).split(\",\"))\n",
    "df"
   ],
   "metadata": {
    "collapsed": false,
    "ExecuteTime": {
     "end_time": "2024-04-01T00:58:00.955403Z",
     "start_time": "2024-04-01T00:58:00.894894Z"
    }
   },
   "id": "5a2ebeae72c53116"
  },
  {
   "cell_type": "code",
   "execution_count": 47,
   "outputs": [
    {
     "data": {
      "text/plain": "                                                          owner  \\\nowner_id                                                          \n54b4d5c12241                             riverbluff cooperative   \n7a21a11b110c         cotton exchange bldg a limited partnership   \n6ddf11772c54                                  three sisters ltd   \n4e595a78a7c4                  raymond james tower morgan keegan   \n57dce25d5f20  main monroe hospitality 2018 memphis hotel pro...   \n...                                                         ...   \n5903f8604d7e                                    tch memphis llc   \na91c364d5ca6                                  189 barksdale llc   \n811ef8806200                                       7v devco llc   \nb1fff5fac201                                cabigao investments   \n51898eb27d45                 245 front street hotel company llc   \n\n                        location   pilot_parcel_no  \\\nowner_id                                             \n54b4d5c12241       333 tennessee  [ICC00110000000]   \n7a21a11b110c            65 union  [ICC00270000000]   \n6ddf11772c54             61 main  [ICC00290000000]   \n4e595a78a7c4            50 front  [ICC00410000000]   \n57dce25d5f20          110 monroe  [ICC00450000000]   \n...                          ...               ...   \n5903f8604d7e        380 beale st  [ICC08020000000]   \na91c364d5ca6  189 s barksdale st  [ICC08030000000]   \n811ef8806200         7 vance ave  [ICC08040000000]   \nb1fff5fac201          345 s main  [ICC08050000000]   \n51898eb27d45      245 s front st  [ICC08060000000]   \n\n                                       underlying_parcel_number begin_date  \\\nowner_id                                                                     \n54b4d5c12241                                   [0020740000002C] 1981-11-30   \n7a21a11b110c                                     [204200000290] 1983-12-01   \n6ddf11772c54  [00203900000140,  00203900000150,  00203900000... 1983-12-23   \n4e595a78a7c4                                     [200600000240] 1984-12-27   \n57dce25d5f20                                     [205700000090] 1984-12-31   \n...                                                         ...        ...   \n5903f8604d7e                                     [500600000290] 2021-03-31   \na91c364d5ca6                                    [1605100000060] 2021-04-29   \n811ef8806200                                   [0020750000001C] 2021-10-27   \nb1fff5fac201                  [00210300000050,  00210300000140] 2021-06-30   \n51898eb27d45                                     [209900000010] 2022-12-01   \n\n               end_date assmt_taxes pilot_contract_amt pilot_debt_service_amt  \\\nowner_id                                                                        \n54b4d5c12241 2080-11-30      162735             101709                      0   \n7a21a11b110c 2024-01-01       57526               7320                      0   \n6ddf11772c54 2025-12-30       62878              15029                      0   \n4e595a78a7c4 2024-12-27      162720               6113                      0   \n57dce25d5f20 2025-12-31      115157               2691                      0   \n...                 ...         ...                ...                    ...   \n5903f8604d7e 2034-03-31        5211               6327                      0   \na91c364d5ca6 2033-04-29        3570               3570                      0   \n811ef8806200 2041-04-27        6836               7947                      0   \nb1fff5fac201 2034-06-30        3420               4027                     10   \n51898eb27d45 2039-07-02        6125               1048                      0   \n\n             difference  \nowner_id                 \n54b4d5c12241     -61026  \n7a21a11b110c     -50206  \n6ddf11772c54     -47849  \n4e595a78a7c4    -156607  \n57dce25d5f20    -112466  \n...                 ...  \n5903f8604d7e       1116  \na91c364d5ca6          0  \n811ef8806200       1112  \nb1fff5fac201        617  \n51898eb27d45      -5077  \n\n[124 rows x 10 columns]",
      "text/html": "<div>\n<style scoped>\n    .dataframe tbody tr th:only-of-type {\n        vertical-align: middle;\n    }\n\n    .dataframe tbody tr th {\n        vertical-align: top;\n    }\n\n    .dataframe thead th {\n        text-align: right;\n    }\n</style>\n<table border=\"1\" class=\"dataframe\">\n  <thead>\n    <tr style=\"text-align: right;\">\n      <th></th>\n      <th>owner</th>\n      <th>location</th>\n      <th>pilot_parcel_no</th>\n      <th>underlying_parcel_number</th>\n      <th>begin_date</th>\n      <th>end_date</th>\n      <th>assmt_taxes</th>\n      <th>pilot_contract_amt</th>\n      <th>pilot_debt_service_amt</th>\n      <th>difference</th>\n    </tr>\n    <tr>\n      <th>owner_id</th>\n      <th></th>\n      <th></th>\n      <th></th>\n      <th></th>\n      <th></th>\n      <th></th>\n      <th></th>\n      <th></th>\n      <th></th>\n      <th></th>\n    </tr>\n  </thead>\n  <tbody>\n    <tr>\n      <th>54b4d5c12241</th>\n      <td>riverbluff cooperative</td>\n      <td>333 tennessee</td>\n      <td>[ICC00110000000]</td>\n      <td>[0020740000002C]</td>\n      <td>1981-11-30</td>\n      <td>2080-11-30</td>\n      <td>162735</td>\n      <td>101709</td>\n      <td>0</td>\n      <td>-61026</td>\n    </tr>\n    <tr>\n      <th>7a21a11b110c</th>\n      <td>cotton exchange bldg a limited partnership</td>\n      <td>65 union</td>\n      <td>[ICC00270000000]</td>\n      <td>[204200000290]</td>\n      <td>1983-12-01</td>\n      <td>2024-01-01</td>\n      <td>57526</td>\n      <td>7320</td>\n      <td>0</td>\n      <td>-50206</td>\n    </tr>\n    <tr>\n      <th>6ddf11772c54</th>\n      <td>three sisters ltd</td>\n      <td>61 main</td>\n      <td>[ICC00290000000]</td>\n      <td>[00203900000140,  00203900000150,  00203900000...</td>\n      <td>1983-12-23</td>\n      <td>2025-12-30</td>\n      <td>62878</td>\n      <td>15029</td>\n      <td>0</td>\n      <td>-47849</td>\n    </tr>\n    <tr>\n      <th>4e595a78a7c4</th>\n      <td>raymond james tower morgan keegan</td>\n      <td>50 front</td>\n      <td>[ICC00410000000]</td>\n      <td>[200600000240]</td>\n      <td>1984-12-27</td>\n      <td>2024-12-27</td>\n      <td>162720</td>\n      <td>6113</td>\n      <td>0</td>\n      <td>-156607</td>\n    </tr>\n    <tr>\n      <th>57dce25d5f20</th>\n      <td>main monroe hospitality 2018 memphis hotel pro...</td>\n      <td>110 monroe</td>\n      <td>[ICC00450000000]</td>\n      <td>[205700000090]</td>\n      <td>1984-12-31</td>\n      <td>2025-12-31</td>\n      <td>115157</td>\n      <td>2691</td>\n      <td>0</td>\n      <td>-112466</td>\n    </tr>\n    <tr>\n      <th>...</th>\n      <td>...</td>\n      <td>...</td>\n      <td>...</td>\n      <td>...</td>\n      <td>...</td>\n      <td>...</td>\n      <td>...</td>\n      <td>...</td>\n      <td>...</td>\n      <td>...</td>\n    </tr>\n    <tr>\n      <th>5903f8604d7e</th>\n      <td>tch memphis llc</td>\n      <td>380 beale st</td>\n      <td>[ICC08020000000]</td>\n      <td>[500600000290]</td>\n      <td>2021-03-31</td>\n      <td>2034-03-31</td>\n      <td>5211</td>\n      <td>6327</td>\n      <td>0</td>\n      <td>1116</td>\n    </tr>\n    <tr>\n      <th>a91c364d5ca6</th>\n      <td>189 barksdale llc</td>\n      <td>189 s barksdale st</td>\n      <td>[ICC08030000000]</td>\n      <td>[1605100000060]</td>\n      <td>2021-04-29</td>\n      <td>2033-04-29</td>\n      <td>3570</td>\n      <td>3570</td>\n      <td>0</td>\n      <td>0</td>\n    </tr>\n    <tr>\n      <th>811ef8806200</th>\n      <td>7v devco llc</td>\n      <td>7 vance ave</td>\n      <td>[ICC08040000000]</td>\n      <td>[0020750000001C]</td>\n      <td>2021-10-27</td>\n      <td>2041-04-27</td>\n      <td>6836</td>\n      <td>7947</td>\n      <td>0</td>\n      <td>1112</td>\n    </tr>\n    <tr>\n      <th>b1fff5fac201</th>\n      <td>cabigao investments</td>\n      <td>345 s main</td>\n      <td>[ICC08050000000]</td>\n      <td>[00210300000050,  00210300000140]</td>\n      <td>2021-06-30</td>\n      <td>2034-06-30</td>\n      <td>3420</td>\n      <td>4027</td>\n      <td>10</td>\n      <td>617</td>\n    </tr>\n    <tr>\n      <th>51898eb27d45</th>\n      <td>245 front street hotel company llc</td>\n      <td>245 s front st</td>\n      <td>[ICC08060000000]</td>\n      <td>[209900000010]</td>\n      <td>2022-12-01</td>\n      <td>2039-07-02</td>\n      <td>6125</td>\n      <td>1048</td>\n      <td>0</td>\n      <td>-5077</td>\n    </tr>\n  </tbody>\n</table>\n<p>124 rows × 10 columns</p>\n</div>"
     },
     "execution_count": 47,
     "metadata": {},
     "output_type": "execute_result"
    }
   ],
   "source": [
    "# Create a unique index column based on the values in the identifying column\n",
    "# Note: Ids are based on a deterministic hash, which means they are \n",
    "# reproducible even if the function is run by a different user at a different time,\n",
    "# as long as the string in the identifying column is the same. \n",
    "\n",
    "identifying_columns = [\"owner\"]\n",
    "index_name = \"owner_id\"\n",
    "df = set_unique_index(df=df, columns_to_hash = identifying_columns, index_length_limit=12, index_name=index_name)\n",
    "df"
   ],
   "metadata": {
    "collapsed": false,
    "ExecuteTime": {
     "end_time": "2024-04-01T00:58:12.321738Z",
     "start_time": "2024-04-01T00:58:12.316351Z"
    }
   },
   "id": "fa13dd82fd715b68"
  },
  {
   "cell_type": "code",
   "execution_count": 48,
   "outputs": [
    {
     "data": {
      "text/plain": "owner                               object\nlocation                            object\npilot_parcel_no                     object\nunderlying_parcel_number            object\nbegin_date                  datetime64[ns]\nend_date                    datetime64[ns]\nassmt_taxes                         object\npilot_contract_amt                  object\npilot_debt_service_amt              object\ndifference                          object\ndtype: object"
     },
     "execution_count": 48,
     "metadata": {},
     "output_type": "execute_result"
    }
   ],
   "source": [
    "# Check the data types of each variable\n",
    "df.dtypes"
   ],
   "metadata": {
    "collapsed": false,
    "ExecuteTime": {
     "end_time": "2024-04-01T00:58:14.114205Z",
     "start_time": "2024-04-01T00:58:14.106481Z"
    }
   },
   "id": "fb1c412d6c764d7b"
  },
  {
   "cell_type": "code",
   "execution_count": 49,
   "outputs": [
    {
     "data": {
      "text/plain": "owner                       string[python]\nlocation                    string[python]\npilot_parcel_no             string[python]\nunderlying_parcel_number    string[python]\nbegin_date                  datetime64[ns]\nend_date                            object\nassmt_taxes                        float64\npilot_contract_amt                 float64\npilot_debt_service_amt             float64\ndifference                         float64\ndtype: object"
     },
     "execution_count": 49,
     "metadata": {},
     "output_type": "execute_result"
    }
   ],
   "source": [
    "# Fix the data type of each variable\n",
    "\n",
    "names_to_types = {'owner': 'string',\n",
    "                  'location': 'string',\n",
    "                  'pilot_parcel_no': 'string', \n",
    "                  'underlying_parcel_number': 'string',\n",
    "                  'begin_date': 'datetime64[ns]', \n",
    "                  'end_date': 'object',\n",
    "                  'assmt_taxes': 'float64',\n",
    "                  'pilot_contract_amt': 'float64',\n",
    "       'pilot_debt_service_amt': 'float64', \n",
    "                  'difference': 'float64'}\n",
    "df = cast_data_types(df, names_to_types)\n",
    "df.dtypes"
   ],
   "metadata": {
    "collapsed": false,
    "ExecuteTime": {
     "end_time": "2024-04-01T00:58:14.374541Z",
     "start_time": "2024-04-01T00:58:14.370016Z"
    }
   },
   "id": "fa0f0232d27d41fe"
  },
  {
   "cell_type": "code",
   "execution_count": 50,
   "outputs": [],
   "source": [
    "# Save the now-clean csv and convert it to utf-8 format\n",
    "outfile_path = \"../data/processed/s3_2022_icc_contracts.csv\"\n",
    "df.to_csv(outfile_path)\n",
    "convert_utf8(original_file_path=outfile_path, new_file_path=outfile_path)"
   ],
   "metadata": {
    "collapsed": false,
    "ExecuteTime": {
     "end_time": "2024-04-01T00:58:14.617056Z",
     "start_time": "2024-04-01T00:58:14.602622Z"
    }
   },
   "id": "209e2ad7bce3421"
  },
  {
   "cell_type": "code",
   "execution_count": 50,
   "outputs": [],
   "source": [],
   "metadata": {
    "collapsed": false,
    "ExecuteTime": {
     "end_time": "2024-04-01T00:58:14.808080Z",
     "start_time": "2024-04-01T00:58:14.799869Z"
    }
   },
   "id": "932f14634f70a566"
  },
  {
   "cell_type": "code",
   "execution_count": null,
   "outputs": [],
   "source": [],
   "metadata": {
    "collapsed": false
   },
   "id": "8a2031c54f948669"
  }
 ],
 "metadata": {
  "kernelspec": {
   "display_name": "Python 3",
   "language": "python",
   "name": "python3"
  },
  "language_info": {
   "codemirror_mode": {
    "name": "ipython",
    "version": 2
   },
   "file_extension": ".py",
   "mimetype": "text/x-python",
   "name": "python",
   "nbconvert_exporter": "python",
   "pygments_lexer": "ipython2",
   "version": "2.7.6"
  }
 },
 "nbformat": 4,
 "nbformat_minor": 5
}
